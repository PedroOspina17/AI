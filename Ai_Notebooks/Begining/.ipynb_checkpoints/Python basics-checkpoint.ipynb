{
 "cells": [
  {
   "cell_type": "markdown",
   "metadata": {},
   "source": [
    "# Comprenhension"
   ]
  },
  {
   "cell_type": "code",
   "execution_count": null,
   "metadata": {},
   "outputs": [],
   "source": [
    "information = [\n",
    "                {'Nombre': \"pedro\", 'age': 22, 'isAlive': True}\n",
    "                ,{'Nombre': \"luis\", 'age': 22, 'isAlive': False}\n",
    "                ,{'Nombre': \"carlos\", 'age': 33, 'isAlive': True}\n",
    "                ,{'Nombre': \"gabriel\", 'age': 55, 'isAlive': False}]\n",
    "\n",
    "\n",
    " \n",
    "InfoGrouped = [ ('valores1',[{'Nombre': \"pedro\", 'age': 22, 'isAlive': True},{'Nombre': \"pedro\", 'age': 22, 'isAlive': True},{'Nombre': \"pedro\", 'age': 22, 'isAlive': True}]),\n",
    "                ('valores2',[{'Nombre': \"pedro\", 'age': 22, 'isAlive': True},{'Nombre': \"pedro\", 'age': 22, 'isAlive': True},{'Nombre': \"pedro\", 'age': 22, 'isAlive': True}]),\n",
    "                ('valores3',[{'Nombre': \"pedro\", 'age': 22, 'isAlive': True},{'Nombre': \"pedro\", 'age': 22, 'isAlive': True},{'Nombre': \"pedro\", 'age': 22, 'isAlive': True}])\n",
    "                ]\n",
    "\n",
    "comp1 = [item[\"Nombre\"] for item in information] #showing specific fields \n",
    "print(comp1)\n",
    "\n",
    "comp1 = [item[\"Nombre\"] for item in information if item[\"isAlive\"]] # Filtering the información\n",
    "print(comp1)\n",
    "comp_all_fields = [item for item in information if item[\"isAlive\"]] # getting all the información\n",
    "print(comp_all_fields)\n",
    "comp_custom_fields = [{'field1': item['Nombre'], 'entireInfo': item, 'other field':321} for item in information if item[\"isAlive\"]] # getting with custom fields \n",
    "print(comp_custom_fields)\n",
    "\n",
    "test = {'field': item for item in information}\n",
    "print(test)"
   ]
  },
  {
   "cell_type": "markdown",
   "metadata": {},
   "source": [
    "# Collections"
   ]
  },
  {
   "cell_type": "markdown",
   "metadata": {},
   "source": [
    "## lists"
   ]
  },
  {
   "cell_type": "code",
   "execution_count": null,
   "metadata": {},
   "outputs": [],
   "source": [
    "testList = [1,2,3,4,5,6,7] \n",
    "print(testList)\n",
    "print(testList[2:4]) #get a range of the list, 0-bazed list\n",
    "testList.append(6) #add an element at the end\n",
    "testList.insert(2,8) # insert a element in a specific position\n",
    "testList.extend([22,23,24]) #concat two list"
   ]
  },
  {
   "cell_type": "markdown",
   "metadata": {},
   "source": [
    "## tuples"
   ]
  },
  {
   "cell_type": "code",
   "execution_count": null,
   "metadata": {},
   "outputs": [],
   "source": [
    "testTuple = (\"adwd\",11,True) #a tuple is like a list but you cannot modify the values\n",
    "print(testTuple)\n",
    "print(testTuple[0],testTuple[1:2])\n",
    "#b[1] = \"adad\" it is an error"
   ]
  },
  {
   "cell_type": "markdown",
   "metadata": {},
   "source": [
    "## set "
   ]
  },
  {
   "cell_type": "code",
   "execution_count": null,
   "metadata": {},
   "outputs": [],
   "source": [
    "testSet = set() #is like a list but it doesn't alow repeated valuies, \n",
    "testSet = {'a','b','c','a','d','c'}\n",
    "print(testSet)\n",
    "testSet.add('e')\n",
    "print(testSet)\n",
    "testSet2 = {'a','o','p','q','q','c'}\n",
    "print(testSet.union(testSet2)) #concat two sets\n",
    "print(testSet.intersection(testSet2)) # elemts in common\n",
    "print(testSet.difference(testSet2)) # elements from set1 missing on set2\n",
    "\n",
    "setFromList = set(testList)\n",
    "print(setFromList)"
   ]
  },
  {
   "cell_type": "markdown",
   "metadata": {},
   "source": [
    "## Dicts"
   ]
  },
  {
   "cell_type": "code",
   "execution_count": 1,
   "metadata": {},
   "outputs": [
    {
     "name": "stdout",
     "output_type": "stream",
     "text": [
      "[1, 2, 3, 4, 5, 6, 7]\n",
      "[3, 4]\n",
      "('adwd', 11, True)\n",
      "adwd (11,)\n",
      "{'b', 'd', 'a', 'c'}\n",
      "{'e', 'b', 'a', 'd', 'c'}\n",
      "{'e', 'p', 'b', 'q', 'a', 'o', 'd', 'c'}\n",
      "{'a', 'c'}\n",
      "{'b', 'd', 'e'}\n",
      "{1, 2, 3, 4, 5, 6, 7, 8, 22, 23, 24}\n",
      "{'Nombre': 'pedro', 'age': 22, 'isAlive': True}\n",
      "<built-in method keys of dict object at 0x000001C263B85B40>\n",
      "pedro\n",
      "pedro\n",
      "pedro mod\n",
      "True\n"
     ]
    }
   ],
   "source": [
    "testDict = {'Nombre': \"pedro\", 'age': 22, 'isAlive': True}\n",
    "print(testDict) #dict or dictionary, needs to be written in json format\n",
    "print(testDict.keys)\n",
    "print(testDict[\"Nombre\"]) #to get a key value, IT IS A KEY SENSITIVE.\n",
    "testDict[\"nombre\"] = \"pedro mod\" #if you try to assing a key that doesn't exist it will be created. IT IS A KEY SENSITIVE AS WELL.\n",
    "print(testDict[\"Nombre\"])\n",
    "print(testDict[\"nombre\"]) #a new key was created lowercased\n",
    "print(\"nombre\" in testDict) #to verify is the key exist in a dict"
   ]
  },
  {
   "cell_type": "markdown",
   "metadata": {},
   "source": [
    "# Functions"
   ]
  },
  {
   "cell_type": "code",
   "execution_count": null,
   "metadata": {},
   "outputs": [],
   "source": [
    "\n",
    "def returningVoidValue(): #in python None is a null value\n",
    "    pass ## to return None\n",
    "\n",
    "def test_VoidValueVAlidation(): \n",
    "    ''' To define a test case use \"test_\" at the begining or \"_test\" at the end of the method name. \n",
    "        To execute them you should use the command pytest -q functions.py (or the class name that you want to test.)\n",
    "    '''\n",
    "    assert returningVoidValue() == None\n",
    "\n",
    "\n",
    "print(returningVoidValue())\n",
    "\n",
    "def optionalParams(a,b,c=10):\n",
    "    print(\"{} {} {}\".format(a,b,c))\n",
    "optionalParams(1,2,3)\n",
    "optionalParams(1,2)\n",
    "\n",
    "def welcome():\n",
    "    \"\"\"\n",
    "        this is for give the explanation or documentation of the function, to explain what is used for...\n",
    "    \"\"\"\n",
    "    print(\"Welcome to working with functions\")\n",
    "\n",
    "def multpl_values(): # function that returns a tuple of numbers. you can receive it as a tuple or in a different variables.\n",
    "    return 1,2,3\n",
    "\n",
    "def test_multplValuesValidation(): \n",
    "    assert multpl_values() == (1,2,3)\n",
    "\n",
    "    \n",
    "# def test_multplValuesValidation_error(): an error execution test  will be raised due to the extra number added in the tuple that will be compared\n",
    "#     assert multpl_values() == (1,2,3,4)\n",
    "\n",
    "welcome()\n",
    "result_in_tuple = multpl_values()\n",
    "print(result_in_tuple) #a tuple is like a list and it can be used similar to it. \n",
    "print(\"using a tuple: {}\".format(result_in_tuple[1])) #index base 0\n",
    "\n",
    "num1, num2, num3 = multpl_values()\n",
    "print(\"{} {} {}\".format(num1,num2,num3))\n",
    "\n",
    "def sum(*numbers): # use '*' before the param to specify unlimited numer of parameters\n",
    "    result = 0\n",
    "    for number in numbers:\n",
    "        result+= number\n",
    "    return result\n",
    "\n",
    "print(sum(1,2,3,4,5,6))\n",
    "numbersArray = [1,2,3,4]\n",
    "print(*numbersArray) # put * before an array to pass it as a unlimited parameter\n",
    "\n",
    "def sum_dict(**numbers): # use '**' before the param to specify an unlimited keyword params\n",
    "    print(numbers)    # it will be shown as a dictionary\n",
    "sum_dict(a=1,b=2,c=3)\n",
    "numbersDict = {'a':1, 'b':2, 'c':3}\n",
    "sum_dict(**numbersDict) # put ** before of a dictionary to pass it as a unlimited key word params to a  function\n",
    "\n",
    "def mix(*unlimited, **kwunlimited): #you can mixed both techniques\n",
    "    print(unlimited)\n",
    "    print(kwunlimited)\n",
    "\n",
    "mix(*numbersArray,**numbersDict)\n",
    "\n",
    "hellolambda = lambda: \"hello world from lambda function\" #Define functions without name \n",
    "print(hellolambda())\n",
    "\n",
    "hellolambda2 = lambda name,lastname = \"\": \"hello {} {} from lambda function\".format(name,lastname) #Define functions without name \n",
    "print(hellolambda2(\"Pedro\",\"ospina\"))\n",
    "print(hellolambda2(\"Pedro\"))"
   ]
  },
  {
   "cell_type": "markdown",
   "metadata": {},
   "source": [
    "# Try and catch"
   ]
  },
  {
   "cell_type": "code",
   "execution_count": 3,
   "metadata": {},
   "outputs": [
    {
     "name": "stdout",
     "output_type": "stream",
     "text": [
      "the number is  1\n",
      "everithing goes well\n",
      "this message alwas will be appers, no matters if there was an error\n",
      "an error has happened invalid literal for int() with base 10: 'awd'\n",
      "this message alwas will be appers, no matters if there was an error\n"
     ]
    }
   ],
   "source": [
    "def try_catch(num1):\n",
    "    try:\n",
    "        print(\"the number is \", int(num1))\n",
    "    except ValueError as ex:\n",
    "        print(\"an error has happened\",ex)\n",
    "    else:\n",
    "        print(\"everithing goes well\")\n",
    "    finally:\n",
    "        print(\"this message alwas will be appers, no matters if there was an error\")\n",
    "\n",
    "try_catch(1)\n",
    "try_catch(\"awd\")"
   ]
  },
  {
   "cell_type": "code",
   "execution_count": 4,
   "metadata": {},
   "outputs": [],
   "source": [
    "# Other operations"
   ]
  },
  {
   "cell_type": "code",
   "execution_count": null,
   "metadata": {},
   "outputs": [],
   "source": [
    "#sort"
   ]
  },
  {
   "cell_type": "code",
   "execution_count": null,
   "metadata": {},
   "outputs": [],
   "source": [
    "numbers = [5,6,9,2,36,8,6]\n",
    "print(\"sorted numbers: \", sorted(numbers)) # sorted function return a new list\n",
    "print(numbers) # the list was not affected \n",
    "numbers.sort() #this method  afects the list directly\n",
    "print(numbers) # now the list is sorted\n",
    "\n",
    "information = [\n",
    "                {'Nombre': \"pedro\", 'age': 22, 'lifesLived':1, 'gender':'M', 'isAlive': True}\n",
    "                ,{'Nombre': \"luis\", 'age': 10, 'lifesLived': 3, 'gender':'M','isAlive': False}\n",
    "                ,{'Nombre': \"carlos\", 'age': 33, 'lifesLived':11, 'gender':'M','isAlive': True}\n",
    "                ,{'Nombre': \"gabriel\", 'age': 55,'lifesLived' :12,'gender':'M', 'isAlive': False}\n",
    "                ,{'Nombre': \"carlos\", 'age': 14,'lifesLived' :110, 'gender':'M','isAlive': True}\n",
    "                ,{'Nombre': \"gabriela\", 'age': 16,'lifesLived' :3,'gender':'F', 'isAlive': False}\n",
    "                ,{'Nombre': \"luisa\", 'age': 23, 'lifesLived': 1, 'gender':'F','isAlive': False}\n",
    "                ,{'Nombre': \"daniela\", 'age': 35, 'lifesLived': 2, 'gender':'F','isAlive': True}\n",
    "            ]\n",
    "sorted_people = sorted(information, key=lambda fields: fields[\"age\"])\n",
    "print(sorted_people)\n",
    "\n",
    "minnumber = min(numbers)\n",
    "maxnumber = max(numbers)\n",
    "print(\"min\",minnumber,\"max\",maxnumber, \"ordered list\",numbers)"
   ]
  },
  {
   "cell_type": "markdown",
   "metadata": {},
   "source": [
    "\n",
    "You can order by calculated column"
   ]
  },
  {
   "cell_type": "code",
   "execution_count": null,
   "metadata": {},
   "outputs": [],
   "source": [
    "oldestPerson = max(information,key=lambda e: e[\"age\"] * e[\"lifesLived\"]) \n",
    "print(oldestPerson)"
   ]
  },
  {
   "cell_type": "markdown",
   "metadata": {},
   "source": [
    "## Group by\n",
    "\n",
    " \n",
    "    the result of the groupby operation will be something like \n",
    "    [\n",
    "        ('FieldGrouped',[list of elements ]),\n",
    "        ('FieldGrouped',[list of elements ]),\n",
    "        ('FieldGrouped',[list of elements ])\n",
    "    ]\n",
    "\n"
   ]
  },
  {
   "cell_type": "code",
   "execution_count": 5,
   "metadata": {},
   "outputs": [
    {
     "name": "stdout",
     "output_type": "stream",
     "text": [
      "sorted numbers:  [2, 5, 6, 6, 8, 9, 36]\n",
      "[5, 6, 9, 2, 36, 8, 6]\n",
      "[2, 5, 6, 6, 8, 9, 36]\n",
      "[{'Nombre': 'luis', 'age': 10, 'lifesLived': 3, 'gender': 'M', 'isAlive': False}, {'Nombre': 'carlos', 'age': 14, 'lifesLived': 110, 'gender': 'M', 'isAlive': True}, {'Nombre': 'gabriela', 'age': 16, 'lifesLived': 3, 'gender': 'F', 'isAlive': False}, {'Nombre': 'pedro', 'age': 22, 'lifesLived': 1, 'gender': 'M', 'isAlive': True}, {'Nombre': 'luisa', 'age': 23, 'lifesLived': 1, 'gender': 'F', 'isAlive': False}, {'Nombre': 'carlos', 'age': 33, 'lifesLived': 11, 'gender': 'M', 'isAlive': True}, {'Nombre': 'daniela', 'age': 35, 'lifesLived': 2, 'gender': 'F', 'isAlive': True}, {'Nombre': 'gabriel', 'age': 55, 'lifesLived': 12, 'gender': 'M', 'isAlive': False}]\n",
      "min 2 max 36 ordered list [2, 5, 6, 6, 8, 9, 36]\n",
      "{'Nombre': 'carlos', 'age': 14, 'lifesLived': 110, 'gender': 'M', 'isAlive': True}\n",
      "{'F': [{'Nombre': 'gabriela', 'age': 16, 'lifesLived': 3, 'gender': 'F', 'isAlive': False}, {'Nombre': 'luisa', 'age': 23, 'lifesLived': 1, 'gender': 'F', 'isAlive': False}, {'Nombre': 'daniela', 'age': 35, 'lifesLived': 2, 'gender': 'F', 'isAlive': True}], 'M': [{'Nombre': 'pedro', 'age': 22, 'lifesLived': 1, 'gender': 'M', 'isAlive': True}, {'Nombre': 'luis', 'age': 10, 'lifesLived': 3, 'gender': 'M', 'isAlive': False}, {'Nombre': 'carlos', 'age': 33, 'lifesLived': 11, 'gender': 'M', 'isAlive': True}, {'Nombre': 'gabriel', 'age': 55, 'lifesLived': 12, 'gender': 'M', 'isAlive': False}, {'Nombre': 'carlos', 'age': 14, 'lifesLived': 110, 'gender': 'M', 'isAlive': True}]}\n",
      "[('F', 3), ('M', 5)]\n",
      "[22, 30, 363, 660, 1540, 48, 23, 70]\n",
      "[{'Nombre': 'pedro', 'age': 22, 'lifesLived': 1, 'gender': 'M', 'isAlive': True}, {'Nombre': 'carlos', 'age': 33, 'lifesLived': 11, 'gender': 'M', 'isAlive': True}, {'Nombre': 'carlos', 'age': 14, 'lifesLived': 110, 'gender': 'M', 'isAlive': True}, {'Nombre': 'daniela', 'age': 35, 'lifesLived': 2, 'gender': 'F', 'isAlive': True}]\n"
     ]
    }
   ],
   "source": [
    "from itertools import groupby\n",
    "\n",
    "groupedInfoByGender = groupby(sorted(information, key=lambda e: e[\"gender\"]), key= lambda e: e[\"gender\"]) \n",
    "\n",
    "info = {key: list(values) for key, values in groupedInfoByGender} # since  the result of groupby operation is an array of tuples we have to convert it as a list  in this way\n",
    "print(info)\n",
    "displayInfo = [(key, len(values)) for key, values in info.items()] #when i call the method items() i get an array of tuples with ('column',value)\n",
    "print(displayInfo)\n",
    "\n",
    "totalAges = map(lambda e: e['age'] * e['lifesLived'], information) # map function pass every item to the function in the first parameter (it could be a lambda function or def function) and then return a new list with the result in the lambda funcition\n",
    "print(list(totalAges)) \n",
    "\n",
    "filteredList = filter(lambda e: e['isAlive'] == True, information) # filter method just return le items that match with the condition specified in the lambda fuction setted in the first parameter\n",
    "\n",
    "print(list(filteredList))"
   ]
  },
  {
   "cell_type": "code",
   "execution_count": null,
   "metadata": {},
   "outputs": [],
   "source": []
  }
 ],
 "metadata": {
  "kernelspec": {
   "display_name": "Python 3",
   "language": "python",
   "name": "python3"
  },
  "language_info": {
   "codemirror_mode": {
    "name": "ipython",
    "version": 3
   },
   "file_extension": ".py",
   "mimetype": "text/x-python",
   "name": "python",
   "nbconvert_exporter": "python",
   "pygments_lexer": "ipython3",
   "version": "3.7.1"
  }
 },
 "nbformat": 4,
 "nbformat_minor": 2
}
