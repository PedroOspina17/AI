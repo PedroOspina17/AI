{
 "cells": [
  {
   "cell_type": "markdown",
   "metadata": {},
   "source": [
    "## Comparing\n",
    "\n",
    "comparisions between the normal way loading CSV and the pandas way"
   ]
  },
  {
   "cell_type": "code",
   "execution_count": 4,
   "metadata": {},
   "outputs": [
    {
     "name": "stdout",
     "output_type": "stream",
     "text": [
      "2309239\n",
      "1237\n"
     ]
    }
   ],
   "source": [
    "import unicodecsv\n",
    "\n",
    "def read_csv(filePath):\n",
    "    with open(filePath, 'rb') as f:\n",
    "        reader = unicodecsv.DictReader(f)\n",
    "        return list(reader)\n",
    "    \n",
    "def get_unique(data,field):\n",
    "    return {item[field] for item in data}\n",
    "\n",
    "daily_engagement = read_csv(\"daily_engagement_full.csv\")\n",
    "unique_engagement_students = get_unique(daily_engagement,'acct')\n",
    "\n",
    "print(len(daily_engagement))\n",
    "print( len(unique_engagement_students))"
   ]
  },
  {
   "cell_type": "code",
   "execution_count": 6,
   "metadata": {},
   "outputs": [
    {
     "name": "stdout",
     "output_type": "stream",
     "text": [
      "2309239\n",
      "1237\n"
     ]
    }
   ],
   "source": [
    "import pandas as pd\n",
    "\n",
    "daily_engagement_pd = pd.read_csv(\"daily_engagement_full.csv\")\n",
    "print(len(daily_engagement_pd))\n",
    "unique_engagement_students_pd = daily_engagement_pd['acct'].unique()\n",
    "print(len(unique_engagement_students_pd))"
   ]
  },
  {
   "cell_type": "markdown",
   "metadata": {},
   "source": [
    "## NumPy\n",
    "\n",
    "Each element is designed to have the same element type\n",
    "has  conviniente functions, for instance, mean, std, avg, min, max\n",
    "can be multidimentional "
   ]
  },
  {
   "cell_type": "markdown",
   "metadata": {},
   "source": [
    "### Defining variables:\n"
   ]
  },
  {
   "cell_type": "code",
   "execution_count": 10,
   "metadata": {
    "collapsed": true
   },
   "outputs": [],
   "source": [
    "import numpy as np\n",
    "\n",
    "# First 20 countries with employment data\n",
    "countries = np.array([\n",
    "    'Afghanistan', 'Albania', 'Algeria', 'Angola', 'Argentina',\n",
    "    'Armenia', 'Australia', 'Austria', 'Azerbaijan', 'Bahamas',\n",
    "    'Bahrain', 'Bangladesh', 'Barbados', 'Belarus', 'Belgium',\n",
    "    'Belize', 'Benin', 'Bhutan', 'Bolivia',\n",
    "    'Bosnia and Herzegovina'\n",
    "])\n",
    "\n",
    "# Employment data in 2007 for those 20 countries\n",
    "employment = np.array([\n",
    "    55.70000076,  51.40000153,  50.5       ,  75.69999695,\n",
    "    58.40000153,  40.09999847,  61.5       ,  57.09999847,\n",
    "    60.90000153,  66.59999847,  60.40000153,  68.09999847,\n",
    "    66.90000153,  53.40000153,  48.59999847,  56.79999924,\n",
    "    71.59999847,  58.40000153,  70.40000153,  41.20000076\n",
    "])\n"
   ]
  },
  {
   "cell_type": "markdown",
   "metadata": {},
   "source": [
    "### Accessing elements"
   ]
  },
  {
   "cell_type": "code",
   "execution_count": 13,
   "metadata": {},
   "outputs": [
    {
     "name": "stdout",
     "output_type": "stream",
     "text": [
      "Afghanistan\n",
      "Angola\n",
      "['Afghanistan' 'Albania' 'Algeria']\n",
      "['Afghanistan' 'Albania' 'Algeria']\n",
      "['Bhutan' 'Bolivia' 'Bosnia and Herzegovina']\n",
      "['Afghanistan' 'Albania' 'Algeria' 'Angola' 'Argentina' 'Armenia'\n",
      " 'Australia' 'Austria' 'Azerbaijan' 'Bahamas' 'Bahrain' 'Bangladesh'\n",
      " 'Barbados' 'Belarus' 'Belgium' 'Belize' 'Benin' 'Bhutan' 'Bolivia'\n",
      " 'Bosnia and Herzegovina']\n"
     ]
    }
   ],
   "source": [
    "#By index\n",
    "\n",
    "print (countries[0]) \n",
    "print (countries[3])\n",
    "\n",
    "# Slicing\n",
    "\n",
    "print (countries[0:3]) # from 0 to 3\n",
    "print (countries[:3]) # from 0 to 3\n",
    "print (countries[17:]) # from 17 to end\n",
    "print (countries[:]) # From 0 to end"
   ]
  },
  {
   "cell_type": "markdown",
   "metadata": {},
   "source": [
    "### Element Types"
   ]
  },
  {
   "cell_type": "code",
   "execution_count": 15,
   "metadata": {},
   "outputs": [
    {
     "name": "stdout",
     "output_type": "stream",
     "text": [
      "<U22\n",
      "float64\n",
      "int32\n",
      "float64\n",
      "bool\n",
      "<U2\n"
     ]
    }
   ],
   "source": [
    "print (countries.dtype)\n",
    "print (employment.dtype)\n",
    "print (np.array([0, 1, 2, 3]).dtype)\n",
    "print (np.array([1.0, 1.5, 2.0, 2.5]).dtype)\n",
    "print (np.array([True, False, True]).dtype)\n",
    "print (np.array(['AL', 'AK', 'AZ', 'AR', 'CA']).dtype)"
   ]
  },
  {
   "cell_type": "markdown",
   "metadata": {},
   "source": [
    "### Numpy functions"
   ]
  },
  {
   "cell_type": "code",
   "execution_count": 20,
   "metadata": {},
   "outputs": [
    {
     "name": "stdout",
     "output_type": "stream",
     "text": [
      "58.68500003850001\n",
      "9.338269113687888\n",
      "75.69999695\n",
      "1173.70000077\n"
     ]
    }
   ],
   "source": [
    "print(employment.mean())\n",
    "print(employment.std())\n",
    "print(employment.max())\n",
    "print(employment.sum())"
   ]
  },
  {
   "cell_type": "markdown",
   "metadata": {},
   "source": [
    "## Exercise\n",
    "\n",
    "Fill in this function to return the name of the country\n",
    "with the highest employment in the given employment\n",
    "data, and the employment in that country.\n",
    "\n",
    "#### Execise using simple list"
   ]
  },
  {
   "cell_type": "code",
   "execution_count": 26,
   "metadata": {},
   "outputs": [
    {
     "name": "stdout",
     "output_type": "stream",
     "text": [
      "('Angola', 75.69999695)\n"
     ]
    }
   ],
   "source": [
    "\n",
    "def max_employment(countries, employment):\n",
    "    \n",
    "    max_employment = max(employment)\n",
    "    \n",
    "    max_country = [countries[i] for i,item in enumerate(employment) if item >= max_employment]\n",
    "    \n",
    "    max_country = max_country[0] if (len(max_country) > 0) else None\n",
    "\n",
    "    return (max_country, max_employment)\n",
    "\n",
    "print(max_employment(countries,employment))"
   ]
  },
  {
   "cell_type": "markdown",
   "metadata": {},
   "source": [
    "#### Execise using numpy\n"
   ]
  },
  {
   "cell_type": "code",
   "execution_count": 28,
   "metadata": {},
   "outputs": [
    {
     "name": "stdout",
     "output_type": "stream",
     "text": [
      "('Angola', 75.69999695)\n"
     ]
    }
   ],
   "source": [
    "\n",
    "def max_employment(countries, employment):\n",
    "    i = employment.argmax()\n",
    "    return (countries[i],employment[i])\n",
    "\n",
    "\n",
    "print(max_employment(countries,employment))"
   ]
  },
  {
   "cell_type": "markdown",
   "metadata": {},
   "source": [
    "## vectorized operations\n"
   ]
  },
  {
   "cell_type": "code",
   "execution_count": 38,
   "metadata": {},
   "outputs": [
    {
     "name": "stdout",
     "output_type": "stream",
     "text": [
      "vector adition [5 7 9]\n",
      "scalar multiplication [3 6 9]\n",
      "vector substraction [5 7 9]\n",
      "vector multiplication [5 7 9]\n",
      "vector division [5 7 9]\n",
      "vector exponentiation [5 7 9]\n",
      "And operation [ True False False]\n",
      "Or operation [ True  True False]\n",
      "Not operation [False  True  True]\n"
     ]
    }
   ],
   "source": [
    "a = np.array([1,2,3])\n",
    "b = np.array([4,5,6])\n",
    "x = np.array([True,True,False])\n",
    "y = np.array([True,False,False])\n",
    "c = a + b # Vector adition\n",
    "print(\"vector adition\", c)\n",
    "d = a * 3 # Scalar multiplication\n",
    "print(\"scalar multiplication\", d)\n",
    "e = a - b # Vector substraction\n",
    "print(\"vector substraction\", c)\n",
    "f = a * b # Vector multiplication\n",
    "print(\"vector multiplication\", c)\n",
    "g = a / b # Vector division\n",
    "print(\"vector division\", c)\n",
    "h = a ** b # Vector exponentiation\n",
    "print(\"vector exponentiation\", c)\n",
    "i = x & y \n",
    "print(\"And operation\", i)\n",
    "j = x | y \n",
    "print(\"Or operation\", j)\n",
    "k = ~ y \n",
    "print(\"Not operation\", k)\n"
   ]
  },
  {
   "cell_type": "markdown",
   "metadata": {},
   "source": [
    "## Exercise\n",
    "\n",
    "Fill in this function to return a NumPy array containing the overall\n",
    "    school completion rate for each country. The arguments are NumPy\n",
    "    arrays giving the female and male completion of each country in\n",
    "    the same order."
   ]
  },
  {
   "cell_type": "code",
   "execution_count": 39,
   "metadata": {
    "collapsed": true
   },
   "outputs": [],
   "source": [
    "\n",
    "def overall_completion_rate(female_completion, male_completion):\n",
    "    mean = (female_completion + male_completion) / 2.0 # is divided by 2.0 in order to have the decimals \n",
    "    return mean"
   ]
  },
  {
   "cell_type": "code",
   "execution_count": 40,
   "metadata": {},
   "outputs": [
    {
     "name": "stdout",
     "output_type": "stream",
     "text": [
      "[ 96.416025 102.644275 101.41129   93.316285 103.455575  98.148215\n",
      " 102.35113   91.77855   92.835475  89.655755  99.218715  98.484275\n",
      "  94.172835 117.335125  98.275645  33.04039   41.905225  90.962965\n",
      "  57.08404   93.06015 ]\n"
     ]
    }
   ],
   "source": [
    "female_completion = np.array([\n",
    "    97.35583,  104.62379,  103.02998,   95.14321,  103.69019,\n",
    "    98.49185,  100.88828,   95.43974,   92.11484,   91.54804,\n",
    "    95.98029,   98.22902,   96.12179,  119.28105,   97.84627,\n",
    "    29.07386,   38.41644,   90.70509,   51.7478 ,   95.45072\n",
    "])\n",
    "\n",
    "# Male school completion rate in 2007 for those 20 countries\n",
    "male_completion = np.array([\n",
    "     95.47622,  100.66476,   99.7926 ,   91.48936,  103.22096,\n",
    "     97.80458,  103.81398,   88.11736,   93.55611,   87.76347,\n",
    "    102.45714,   98.73953,   92.22388,  115.3892 ,   98.70502,\n",
    "     37.00692,   45.39401,   91.22084,   62.42028,   90.66958\n",
    "])\n",
    "\n",
    "print (overall_completion_rate(female_completion,male_completion))"
   ]
  },
  {
   "cell_type": "markdown",
   "metadata": {},
   "source": [
    "### Standarizing data\n",
    "\n",
    "Fill in this function to return a standardized version of the given values,\n",
    "    which will be in a NumPy array. Each value should be translated into the\n",
    "    number of standard deviations that value is away from the mean of the data.\n",
    "    (A positive number indicates a value higher than the mean, and a negative\n",
    "    number indicates a value lower than the mean.)"
   ]
  },
  {
   "cell_type": "code",
   "execution_count": 45,
   "metadata": {},
   "outputs": [
    {
     "name": "stdout",
     "output_type": "stream",
     "text": [
      "mean 4.5\n",
      "standard deviation 2.8722813232690143\n",
      "[-1.5666989  -1.21854359 -0.87038828 -0.52223297 -0.17407766  0.17407766\n",
      "  0.52223297  0.87038828  1.21854359  1.5666989 ]\n"
     ]
    }
   ],
   "source": [
    "def standardize_data(values):\n",
    "    std_values = (values - values.mean()) / values.std()\n",
    "    return std_values\n",
    "\n",
    "values = np.array([0, 1, 2, 3, 4, 5, 6, 7, 8, 9])\n",
    "print(\"mean\",values.mean())\n",
    "print(\"standard deviation\",values.std())\n",
    "print(standardize_data(values))"
   ]
  },
  {
   "cell_type": "markdown",
   "metadata": {},
   "source": [
    "## Numpy index arrays\n",
    "\n",
    "You can get a boolean array based on a criteria applied on an array"
   ]
  },
  {
   "cell_type": "code",
   "execution_count": 54,
   "metadata": {},
   "outputs": [
    {
     "name": "stdout",
     "output_type": "stream",
     "text": [
      "[False False False False  True  True  True  True  True]\n"
     ]
    }
   ],
   "source": [
    "\n",
    "\n",
    "numbers_array = np.array([1,2,3,4,5,6,7,8,9])\n",
    "\n",
    "print(numbers_array > 4)\n"
   ]
  },
  {
   "cell_type": "markdown",
   "metadata": {},
   "source": [
    "You can get an array values based on a boolean array"
   ]
  },
  {
   "cell_type": "code",
   "execution_count": 51,
   "metadata": {},
   "outputs": [
    {
     "name": "stdout",
     "output_type": "stream",
     "text": [
      "[1 2 4 5 9]\n"
     ]
    }
   ],
   "source": [
    "\n",
    "index_array = np.array([True,True,False,True,True,False,False,False,True])\n",
    "\n",
    "print(numbers_array[index_array])"
   ]
  },
  {
   "cell_type": "markdown",
   "metadata": {},
   "source": [
    "and you can mix them ass well !!!"
   ]
  },
  {
   "cell_type": "code",
   "execution_count": 73,
   "metadata": {},
   "outputs": [
    {
     "name": "stdout",
     "output_type": "stream",
     "text": [
      "[1 2 3]\n",
      "[8 9]\n",
      "[1 2 3 8 9]\n"
     ]
    }
   ],
   "source": [
    "print(numbers_array[numbers_array<4])\n",
    "\n",
    "\n",
    "numbers_array2 = numbers_array * 2\n",
    "\n",
    "print(numbers_array[numbers_array2>= 16]) # Based on another array data\n",
    "\n",
    "print(numbers_array[(numbers_array<4) | (numbers_array2>= 16)]) # creating condition based on different arrays\n"
   ]
  },
  {
   "cell_type": "markdown",
   "metadata": {},
   "source": [
    "### Exercise\n",
    "\n",
    "Fill in this function to calculate the mean time spent in the classroom\n",
    "    for students who stayed enrolled at least (greater than or equal to) 7 days.\n",
    "    Unlike in Lesson 1, you can assume that days_to_cancel will contain only\n",
    "    integers (there are no students who have not canceled yet).\n",
    "    \n",
    "    The arguments are NumPy arrays. time_spent contains the amount of time spent\n",
    "    in the classroom for each student, and days_to_cancel contains the number\n",
    "    of days until each student cancel. The data is given in the same order\n",
    "    in both arrays."
   ]
  },
  {
   "cell_type": "code",
   "execution_count": 75,
   "metadata": {},
   "outputs": [
    {
     "name": "stdout",
     "output_type": "stream",
     "text": [
      "[ 64.55043217  24.2315615    0.           0.           0.\n",
      "  45.18261617 157.60454283 133.2434615    0.          26.78142417\n",
      "   0.        ]\n",
      "41.05400348545454\n"
     ]
    }
   ],
   "source": [
    "def mean_time_for_paid_students(time_spent, days_to_cancel):\n",
    "    \n",
    "    values = time_spent[days_to_cancel >= 7]\n",
    "    print(values)\n",
    "    return values.mean()\n",
    "    #return time_spent[days_to_cancel >= 7].mean() # This line replaces the others, it is the same code but just in one line !\n",
    "    \n",
    "\n",
    "# Time spent in the classroom in the first week for 20 students\n",
    "time_spent = np.array([\n",
    "       12.89697233,    0.        ,   64.55043217,    0.        ,\n",
    "       24.2315615 ,   39.991625  ,    0.        ,    0.        ,\n",
    "      147.20683783,    0.        ,    0.        ,    0.        ,\n",
    "       45.18261617,  157.60454283,  133.2434615 ,   52.85000767,\n",
    "        0.        ,   54.9204785 ,   26.78142417,    0.\n",
    "])\n",
    "\n",
    "# Days to cancel for 20 students\n",
    "days_to_cancel = np.array([\n",
    "      4,   5,  37,   3,  12,   4,  35,  38,   5,  37,   3,   3,  68,\n",
    "     38,  98,   2, 249,   2, 127,  35\n",
    "])\n",
    "\n",
    "\n",
    "print(mean_time_for_paid_students(time_spent,days_to_cancel))"
   ]
  },
  {
   "cell_type": "markdown",
   "metadata": {},
   "source": [
    "# PANDAS\n",
    "\n",
    "The operations above can be used in pandas as well.\n",
    "Pandas is built in C, which makes it faster than numpy\n"
   ]
  },
  {
   "cell_type": "code",
   "execution_count": 99,
   "metadata": {},
   "outputs": [
    {
     "name": "stdout",
     "output_type": "stream",
     "text": [
      "\n",
      "Elements accesing\n",
      "74.7\n",
      "3      562.987685\n",
      "4    13495.127466\n",
      "5     9388.688523\n",
      "dtype: float64\n",
      "Examining life expectancy 74.7\n",
      "Examining life expectancy 75.0\n",
      "Examining life expectancy 83.4\n",
      "Examining life expectancy 57.6\n",
      "Examining life expectancy 74.6\n",
      "Examining life expectancy 75.4\n",
      "Examining life expectancy 72.3\n",
      "Examining life expectancy 81.5\n",
      "Examining life expectancy 80.2\n",
      "Examining life expectancy 70.3\n",
      "Examining life expectancy 72.1\n",
      "Examining life expectancy 76.4\n",
      "Examining life expectancy 68.1\n",
      "Examining life expectancy 75.2\n",
      "Examining life expectancy 69.8\n",
      "Examining life expectancy 79.4\n",
      "Examining life expectancy 70.8\n",
      "Examining life expectancy 62.7\n",
      "Examining life expectancy 67.3\n",
      "Examining life expectancy 70.6\n",
      "\n",
      "builtin operations \n",
      "72.86999999999999\n",
      "6.213999474869968\n",
      "27036.48733192\n",
      "182957.59832967006\n",
      "count       20.000000\n",
      "mean      9147.879916\n",
      "std       9763.958973\n",
      "min        366.044967\n",
      "25%       1362.124518\n",
      "50%       2967.190270\n",
      "75%      15495.296870\n",
      "max      27036.487332\n",
      "dtype: float64\n",
      "\n",
      "Vectors operation\n",
      "0    2\n",
      "1    4\n",
      "2    4\n",
      "3    6\n",
      "dtype: int64\n",
      "0    2\n",
      "1    4\n",
      "2    6\n",
      "3    8\n",
      "dtype: int64\n",
      "0    False\n",
      "1    False\n",
      "2     True\n",
      "3     True\n",
      "dtype: bool\n",
      "2    3\n",
      "3    4\n",
      "dtype: int64\n",
      "\n",
      "boolean operations\n",
      "0     True\n",
      "1     True\n",
      "2     True\n",
      "3    False\n",
      "4     True\n",
      "dtype: bool\n",
      "0    False\n",
      "1     True\n",
      "2    False\n",
      "3    False\n",
      "4     True\n",
      "dtype: bool\n",
      "3\n"
     ]
    }
   ],
   "source": [
    "import pandas as pd\n",
    "\n",
    "countries = ['Albania', 'Algeria', 'Andorra', 'Angola', 'Antigua and Barbuda',\n",
    "             'Argentina', 'Armenia', 'Australia', 'Austria', 'Azerbaijan',\n",
    "             'Bahamas', 'Bahrain', 'Bangladesh', 'Barbados', 'Belarus',\n",
    "             'Belgium', 'Belize', 'Benin', 'Bhutan', 'Bolivia']\n",
    "\n",
    "life_expectancy_values = [74.7,  75. ,  83.4,  57.6,  74.6,  75.4,  72.3,  81.5,  80.2,\n",
    "                          70.3,  72.1,  76.4,  68.1,  75.2,  69.8,  79.4,  70.8,  62.7,\n",
    "                          67.3,  70.6]\n",
    "\n",
    "gdp_values = [ 1681.61390973,   2155.48523109,  21495.80508273,    562.98768478,\n",
    "              13495.1274663 ,   9388.68852258,   1424.19056199,  24765.54890176,\n",
    "              27036.48733192,   1945.63754911,  21721.61840978,  13373.21993972,\n",
    "                483.97086804,   9783.98417323,   2253.46411147,  25034.66692293,\n",
    "               3680.91642923,    366.04496652,   1175.92638695,   1132.21387981]\n",
    "\n",
    "# Life expectancy and gdp data in 2007 for 20 countries\n",
    "life_expectancy = pd.Series(life_expectancy_values)\n",
    "gdp = pd.Series(gdp_values)\n",
    "\n",
    "# Change False to True for each block of code to see what it does\n",
    "\n",
    "# Accessing elements and slicing\n",
    "print(\"\")\n",
    "print(\"Elements accesing\")\n",
    "print(life_expectancy[0])\n",
    "print(gdp[3:6])\n",
    "    \n",
    "for country_life_expectancy in life_expectancy:\n",
    "    print('Examining life expectancy {}'.format(country_life_expectancy))\n",
    "        \n",
    "# Pandas functions\n",
    "print(\"\")\n",
    "print(\"builtin operations \")\n",
    "\n",
    "print(life_expectancy.mean())\n",
    "print(life_expectancy.std())\n",
    "print(gdp.max())\n",
    "print(gdp.sum())\n",
    "print(gdp.describe())\n",
    "\n",
    "# Vectorized operations and index arrays\n",
    "\n",
    "a = pd.Series([1, 2, 3, 4])\n",
    "b = pd.Series([1, 2, 1, 2])\n",
    "\n",
    "print(\"\")\n",
    "print(\"Vectors operation\")\n",
    "print(a + b)\n",
    "print(a * 2)\n",
    "print(a >= 3)\n",
    "print(a[a >= 3])\n",
    "\n",
    "print(\"\")\n",
    "print(\"boolean operations\")\n",
    "c = pd.Series([True,True,False,False,True])\n",
    "d = pd.Series([False,True,True,False,True])\n",
    "print(c+d) # similar to Or\n",
    "print(c*d) # similar to And\n",
    "print(c.sum()) ## Count how many trues there is "
   ]
  },
  {
   "cell_type": "markdown",
   "metadata": {},
   "source": [
    "\n",
    "### Exercise\n",
    "\n",
    "Fill in this function to calculate the number of data points for which\n",
    "    the directions of variable1 and variable2 relative to the mean are the\n",
    "    same, and the number of data points for which they are different.\n",
    "    Direction here means whether each value is above or below its mean.\n",
    "    \n",
    "    You can classify cases where the value is equal to the mean for one or\n",
    "    both variables however you like.\n",
    "    \n",
    "    Each argument will be a Pandas series.\n",
    "    \n",
    "    For example, if the inputs were pd.Series([1, 2, 3, 4]) and\n",
    "    pd.Series([4, 5, 6, 7]), then the output would be (4, 0).\n",
    "    This is because 1 and 4 are both below their means, 2 and 5 are both\n",
    "    below, 3 and 6 are both above, and 4 and 7 are both above.\n",
    "    \n",
    "    On the other hand, if the inputs were pd.Series([1, 2, 3, 4]) and\n",
    "    pd.Series([7, 6, 5, 4]), then the output would be (0, 4).\n",
    "    This is because 1 is below its mean but 7 is above its mean, and\n",
    "    so on."
   ]
  },
  {
   "cell_type": "code",
   "execution_count": 102,
   "metadata": {},
   "outputs": [
    {
     "name": "stdout",
     "output_type": "stream",
     "text": [
      "First test\n",
      "2.5\n",
      "5.5\n",
      "0    False\n",
      "1    False\n",
      "2     True\n",
      "3     True\n",
      "dtype: bool\n",
      "0    False\n",
      "1    False\n",
      "2     True\n",
      "3     True\n",
      "dtype: bool\n",
      "0    True\n",
      "1    True\n",
      "2    True\n",
      "3    True\n",
      "dtype: bool\n",
      "(4, 0)\n",
      "\n",
      "Second test\n",
      "2.5\n",
      "5.5\n",
      "0    False\n",
      "1    False\n",
      "2     True\n",
      "3     True\n",
      "dtype: bool\n",
      "0     True\n",
      "1     True\n",
      "2    False\n",
      "3    False\n",
      "dtype: bool\n",
      "0    False\n",
      "1    False\n",
      "2    False\n",
      "3    False\n",
      "dtype: bool\n",
      "(0, 4)\n",
      "\n",
      "Testing the second function !!\n",
      "First test\n",
      "(4, 0)\n",
      "\n",
      "Second test\n",
      "(0, 4)\n"
     ]
    }
   ],
   "source": [
    "\n",
    "def variable_correlation(variable1, variable2):\n",
    "    \n",
    "    mean1 = variable1.mean()\n",
    "    mean2 = variable2.mean()\n",
    "    print(mean1)\n",
    "    print(mean2)\n",
    "    gt_mean1 = variable1 > mean1\n",
    "    gt_mean2 = variable2 > mean2\n",
    "    print(gt_mean1)\n",
    "    print(gt_mean2)\n",
    "    comparison = gt_mean1 == gt_mean2\n",
    "    print(comparison)\n",
    "    num_same_direction = len(comparison[comparison == True])\n",
    "    num_different_direction =  len(comparison[comparison == False])    \n",
    "    return (num_same_direction, num_different_direction)\n",
    "\n",
    "\n",
    "\n",
    "print(\"First test\")\n",
    "print(variable_correlation(pd.Series([1, 2, 3, 4]),pd.Series([4, 5, 6, 7])))\n",
    "print(\"\")\n",
    "print(\"Second test\")\n",
    "print(variable_correlation(pd.Series([1, 2, 3, 4]),pd.Series([7, 6, 5, 4])))\n"
   ]
  },
  {
   "cell_type": "markdown",
   "metadata": {},
   "source": [
    "### Another way to do it !!\n",
    "\n",
    "You can have the same result but using the boolean operations"
   ]
  },
  {
   "cell_type": "code",
   "execution_count": 104,
   "metadata": {},
   "outputs": [
    {
     "name": "stdout",
     "output_type": "stream",
     "text": [
      "\n",
      "Testing the second function !!\n",
      "First test\n",
      "(4, 0)\n",
      "\n",
      "Second test\n",
      "(0, 4)\n"
     ]
    }
   ],
   "source": [
    "\n",
    "def variable_correlation_2(variable1, variable2):\n",
    "    mean1 = variable1.mean()\n",
    "    mean2 = variable2.mean()\n",
    "    both_above= (variable1 > mean1) & (variable2 > mean2)\n",
    "    both_below= (variable1 < mean1) & (variable2 < mean2)\n",
    "    is_same_direction = both_above | both_below\n",
    "    num_same_direction = is_same_direction.sum() # when you sum a \n",
    "    num_different_direction = len(is_same_direction) - num_same_direction\n",
    "    return (num_same_direction,num_different_direction)\n",
    "\n",
    "\n",
    "print(\"\")\n",
    "print(\"Testing the second function !!\")\n",
    "print(\"First test\")\n",
    "print(variable_correlation_2(pd.Series([1, 2, 3, 4]),pd.Series([4, 5, 6, 7])))\n",
    "print(\"\")\n",
    "print(\"Second test\")\n",
    "print(variable_correlation_2(pd.Series([1, 2, 3, 4]),pd.Series([7, 6, 5, 4])))"
   ]
  },
  {
   "cell_type": "code",
   "execution_count": 103,
   "metadata": {
    "scrolled": true
   },
   "outputs": [
    {
     "name": "stdout",
     "output_type": "stream",
     "text": [
      "72.86999999999999\n",
      "9147.879916483502\n",
      "0      True\n",
      "1      True\n",
      "2      True\n",
      "3     False\n",
      "4      True\n",
      "5      True\n",
      "6     False\n",
      "7      True\n",
      "8      True\n",
      "9     False\n",
      "10    False\n",
      "11     True\n",
      "12    False\n",
      "13     True\n",
      "14    False\n",
      "15     True\n",
      "16    False\n",
      "17    False\n",
      "18    False\n",
      "19    False\n",
      "dtype: bool\n",
      "0     False\n",
      "1     False\n",
      "2      True\n",
      "3     False\n",
      "4      True\n",
      "5      True\n",
      "6     False\n",
      "7      True\n",
      "8      True\n",
      "9     False\n",
      "10     True\n",
      "11     True\n",
      "12    False\n",
      "13     True\n",
      "14    False\n",
      "15     True\n",
      "16    False\n",
      "17    False\n",
      "18    False\n",
      "19    False\n",
      "dtype: bool\n",
      "0     False\n",
      "1     False\n",
      "2      True\n",
      "3      True\n",
      "4      True\n",
      "5      True\n",
      "6      True\n",
      "7      True\n",
      "8      True\n",
      "9      True\n",
      "10    False\n",
      "11     True\n",
      "12     True\n",
      "13     True\n",
      "14     True\n",
      "15     True\n",
      "16     True\n",
      "17     True\n",
      "18     True\n",
      "19     True\n",
      "dtype: bool\n",
      "(17, 3)\n"
     ]
    }
   ],
   "source": [
    "print(variable_correlation(life_expectancy,gdp))"
   ]
  },
  {
   "cell_type": "markdown",
   "metadata": {},
   "source": [
    "## Indexing \n",
    "You can create a serie indexed by a values, such as a mixture of lists and dictionaries."
   ]
  },
  {
   "cell_type": "code",
   "execution_count": 106,
   "metadata": {},
   "outputs": [
    {
     "data": {
      "text/plain": [
       "Albania                74.7\n",
       "Algeria                75.0\n",
       "Andorra                83.4\n",
       "Angola                 57.6\n",
       "Antigua and Barbuda    74.6\n",
       "Argentina              75.4\n",
       "Armenia                72.3\n",
       "Australia              81.5\n",
       "Austria                80.2\n",
       "Azerbaijan             70.3\n",
       "Bahamas                72.1\n",
       "Bahrain                76.4\n",
       "Bangladesh             68.1\n",
       "Barbados               75.2\n",
       "Belarus                69.8\n",
       "Belgium                79.4\n",
       "Belize                 70.8\n",
       "Benin                  62.7\n",
       "Bhutan                 67.3\n",
       "Bolivia                70.6\n",
       "dtype: float64"
      ]
     },
     "execution_count": 106,
     "metadata": {},
     "output_type": "execute_result"
    }
   ],
   "source": [
    "life_expectancy_with_keys = pd.Series([74.7,  75. ,  83.4,  57.6,  74.6,  75.4,  72.3,  81.5,  80.2,\n",
    "                          70.3,  72.1,  76.4,  68.1,  75.2,  69.8,  79.4,  70.8,  62.7,\n",
    "                          67.3,  70.6], index= ['Albania', 'Algeria', 'Andorra', 'Angola', 'Antigua and Barbuda',\n",
    "             'Argentina', 'Armenia', 'Australia', 'Austria', 'Azerbaijan',\n",
    "             'Bahamas', 'Bahrain', 'Bangladesh', 'Barbados', 'Belarus',\n",
    "             'Belgium', 'Belize', 'Benin', 'Bhutan', 'Bolivia'])\n",
    "life_expectancy_with_keys"
   ]
  },
  {
   "cell_type": "code",
   "execution_count": 112,
   "metadata": {},
   "outputs": [
    {
     "name": "stdout",
     "output_type": "stream",
     "text": [
      "83.4\n",
      "83.4\n",
      "83.4\n"
     ]
    }
   ],
   "source": [
    "print(life_expectancy_with_keys[2])\n",
    "print(life_expectancy_with_keys.iloc[2]) # find by index\n",
    "print(life_expectancy_with_keys.loc[\"Andorra\"]) # find by id\n"
   ]
  },
  {
   "cell_type": "markdown",
   "metadata": {},
   "source": [
    "## exercise\n",
    "\n",
    "    Fill in this function to return the name of the country\n",
    "    with the highest employment in the given employment\n",
    "    data, and the employment in that country.\n",
    "    \n",
    "    The input will be a Pandas series where the values\n",
    "    are employment and the index is country names.\n",
    "    \n",
    "    Try using the Pandas idxmax() function. Documention can\n",
    "    be found here:\n",
    "    http://pandas.pydata.org/pandas-docs/stable/generated/pandas.Series.idxmax.html\n",
    "    "
   ]
  },
  {
   "cell_type": "code",
   "execution_count": 116,
   "metadata": {},
   "outputs": [
    {
     "data": {
      "text/plain": [
       "('Angola', 75.69999695)"
      ]
     },
     "execution_count": 116,
     "metadata": {},
     "output_type": "execute_result"
    }
   ],
   "source": [
    "import pandas as pd\n",
    "\n",
    "countries = [\n",
    "    'Afghanistan', 'Albania', 'Algeria', 'Angola',\n",
    "    'Argentina', 'Armenia', 'Australia', 'Austria',\n",
    "    'Azerbaijan', 'Bahamas', 'Bahrain', 'Bangladesh',\n",
    "    'Barbados', 'Belarus', 'Belgium', 'Belize',\n",
    "    'Benin', 'Bhutan', 'Bolivia', 'Bosnia and Herzegovina',\n",
    "]\n",
    "\n",
    "\n",
    "employment_values = [\n",
    "    55.70000076,  51.40000153,  50.5       ,  75.69999695,\n",
    "    58.40000153,  40.09999847,  61.5       ,  57.09999847,\n",
    "    60.90000153,  66.59999847,  60.40000153,  68.09999847,\n",
    "    66.90000153,  53.40000153,  48.59999847,  56.79999924,\n",
    "    71.59999847,  58.40000153,  70.40000153,  41.20000076,\n",
    "]\n",
    "\n",
    "# Employment data in 2007 for 20 countries\n",
    "employment = pd.Series(employment_values, index=countries)\n",
    "\n",
    "def max_employment(employment):\n",
    "    \n",
    "    max_country = employment.idxmax()\n",
    "    #max_country = employment.argmax()\n",
    "    max_value = employment.loc[max_country]   \n",
    "\n",
    "    return (max_country, max_value)\n",
    "\n",
    "max_employment(employment)"
   ]
  },
  {
   "cell_type": "markdown",
   "metadata": {},
   "source": [
    "## Adition between series with keys"
   ]
  },
  {
   "cell_type": "code",
   "execution_count": 121,
   "metadata": {},
   "outputs": [
    {
     "name": "stdout",
     "output_type": "stream",
     "text": [
      "\n",
      "a    11\n",
      "b    22\n",
      "c    33\n",
      "d    44\n",
      "dtype: int64\n",
      "\n",
      "a    31\n",
      "b    12\n",
      "c    43\n",
      "d    24\n",
      "dtype: int64\n",
      "\n",
      "a     NaN\n",
      "b     NaN\n",
      "c    13.0\n",
      "d    24.0\n",
      "e     NaN\n",
      "f     NaN\n",
      "dtype: float64\n",
      "c    13.0\n",
      "d    24.0\n",
      "dtype: float64\n",
      "a     1.0\n",
      "b     2.0\n",
      "c    13.0\n",
      "d    24.0\n",
      "e    30.0\n",
      "f    40.0\n",
      "dtype: float64\n",
      "\n",
      "a   NaN\n",
      "b   NaN\n",
      "c   NaN\n",
      "d   NaN\n",
      "e   NaN\n",
      "f   NaN\n",
      "g   NaN\n",
      "h   NaN\n",
      "dtype: float64\n",
      "a     1.0\n",
      "b     2.0\n",
      "c     3.0\n",
      "d     4.0\n",
      "e    10.0\n",
      "f    20.0\n",
      "g    30.0\n",
      "h    40.0\n",
      "dtype: float64\n"
     ]
    }
   ],
   "source": [
    "print(\"\")\n",
    "s1 = pd.Series([1, 2, 3, 4], index=['a', 'b', 'c', 'd'])\n",
    "s2 = pd.Series([10, 20, 30, 40], index=['a', 'b', 'c', 'd'])\n",
    "print(s1 + s2)\n",
    "\n",
    "print(\"\")\n",
    "s1 = pd.Series([1, 2, 3, 4], index=['a', 'b', 'c', 'd'])\n",
    "s2 = pd.Series([10, 20, 30, 40], index=['b', 'd', 'a', 'c'])\n",
    "print(s1 + s2)\n",
    "\n",
    "print(\"\")\n",
    "s1 = pd.Series([1, 2, 3, 4], index=['a', 'b', 'c', 'd'])\n",
    "s2 = pd.Series([10, 20, 30, 40], index=['c', 'd', 'e', 'f'])\n",
    "print(s1 + s2)\n",
    "print((s1 + s2).dropna())\n",
    "print(s1.add(s2, fill_value=0))\n",
    "\n",
    "print(\"\")\n",
    "s1 = pd.Series([1, 2, 3, 4], index=['a', 'b', 'c', 'd'])\n",
    "s2 = pd.Series([10, 20, 30, 40], index=['e', 'f', 'g', 'h'])\n",
    "print(s1 + s2)\n",
    "print(s1.add(s2, fill_value=0))"
   ]
  },
  {
   "cell_type": "markdown",
   "metadata": {},
   "source": [
    "## built-in functions"
   ]
  },
  {
   "cell_type": "code",
   "execution_count": 124,
   "metadata": {},
   "outputs": [
    {
     "name": "stdout",
     "output_type": "stream",
     "text": [
      "a    1\n",
      "b    2\n",
      "c    3\n",
      "d    4\n",
      "dtype: int64\n",
      "a    4\n",
      "b    5\n",
      "c    6\n",
      "d    7\n",
      "dtype: int64\n"
     ]
    }
   ],
   "source": [
    "def add3(x):\n",
    "    return x + 3\n",
    "print(s1)\n",
    "print(s1.apply(add3))"
   ]
  },
  {
   "cell_type": "markdown",
   "metadata": {},
   "source": [
    "## exercise\n",
    "Fill in this function to return a new series where each name\n",
    "    in the input series has been transformed from the format\n",
    "    \"Firstname Lastname\" to \"Lastname, FirstName\".\n",
    "    \n",
    "    Try to use the Pandas apply() function rather than a loop."
   ]
  },
  {
   "cell_type": "code",
   "execution_count": 127,
   "metadata": {},
   "outputs": [
    {
     "data": {
      "text/plain": [
       "0             Agassi, Andre\n",
       "1              Bonds, Barry\n",
       "2     Columbus, Christopher\n",
       "3             Defoe, Daniel\n",
       "4           Estevez, Emilio\n",
       "5          Flintstone, Fred\n",
       "6              Garbo, Greta\n",
       "7          Humbert, Humbert\n",
       "8               Ilych, Ivan\n",
       "9              Joyce, James\n",
       "10         Knightley, Keira\n",
       "11               Lane, Lois\n",
       "12              Myers, Mike\n",
       "13              Nolte, Nick\n",
       "14           Osbourne, Ozzy\n",
       "15           Picasso, Pablo\n",
       "16       Quirrell, Quirinus\n",
       "17             Ray, Rachael\n",
       "18          Sarandon, Susan\n",
       "19             Turner, Tina\n",
       "20           Urbina, Ugueth\n",
       "21            Vaughn, Vince\n",
       "22          Wilson, Woodrow\n",
       "23             Yamada, Yoji\n",
       "24         Zidane, Zinedine\n",
       "dtype: object"
      ]
     },
     "execution_count": 127,
     "metadata": {},
     "output_type": "execute_result"
    }
   ],
   "source": [
    "\n",
    "names = pd.Series([\n",
    "    'Andre Agassi',\n",
    "    'Barry Bonds',\n",
    "    'Christopher Columbus',\n",
    "    'Daniel Defoe',\n",
    "    'Emilio Estevez',\n",
    "    'Fred Flintstone',\n",
    "    'Greta Garbo',\n",
    "    'Humbert Humbert',\n",
    "    'Ivan Ilych',\n",
    "    'James Joyce',\n",
    "    'Keira Knightley',\n",
    "    'Lois Lane',\n",
    "    'Mike Myers',\n",
    "    'Nick Nolte',\n",
    "    'Ozzy Osbourne',\n",
    "    'Pablo Picasso',\n",
    "    'Quirinus Quirrell',\n",
    "    'Rachael Ray',\n",
    "    'Susan Sarandon',\n",
    "    'Tina Turner',\n",
    "    'Ugueth Urbina',\n",
    "    'Vince Vaughn',\n",
    "    'Woodrow Wilson',\n",
    "    'Yoji Yamada',\n",
    "    'Zinedine Zidane'\n",
    "])\n",
    "\n",
    "def reverse_names(names):\n",
    "    splited_names = names.split(' ')\n",
    "    return \"{}, {}\".format(splited_names[1],splited_names[0])\n",
    "\n",
    "names.apply(reverse_names)"
   ]
  },
  {
   "cell_type": "markdown",
   "metadata": {},
   "source": [
    "# plotting info"
   ]
  },
  {
   "cell_type": "code",
   "execution_count": 131,
   "metadata": {},
   "outputs": [
    {
     "data": {
      "text/plain": [
       "<matplotlib.axes._subplots.AxesSubplot at 0x2373ad80470>"
      ]
     },
     "execution_count": 131,
     "metadata": {},
     "output_type": "execute_result"
    },
    {
     "data": {
      "image/png": "[encoded data removed]",
      "text/plain": [
       "<Figure size 432x288 with 1 Axes>"
      ]
     },
     "metadata": {
      "needs_background": "light"
     },
     "output_type": "display_data"
    }
   ],
   "source": [
    "life_expectancy_with_keys.hist()"
   ]
  }
 ],
 "metadata": {
  "anaconda-cloud": {},
  "kernelspec": {
   "display_name": "Python 3",
   "language": "python",
   "name": "python3"
  },
  "language_info": {
   "codemirror_mode": {
    "name": "ipython",
    "version": 3
   },
   "file_extension": ".py",
   "mimetype": "text/x-python",
   "name": "python",
   "nbconvert_exporter": "python",
   "pygments_lexer": "ipython3",
   "version": "3.7.1"
  }
 },
 "nbformat": 4,
 "nbformat_minor": 2
}
