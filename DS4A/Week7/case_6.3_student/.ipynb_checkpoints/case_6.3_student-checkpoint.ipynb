{
 "cells": [
  {
   "cell_type": "markdown",
   "metadata": {},
   "source": [
    "# How much should properties be worth in Milwaukee, Wisconsin? (Part I)"
   ]
  },
  {
   "cell_type": "markdown",
   "metadata": {},
   "source": [
    "## Goals\n",
    "The famous statistician George E.P. Box once stated:\n",
    "\n",
    "$$\n",
    "\\textbf{\"All models are wrong, but some models are useful.\"}\n",
    "$$\n",
    "\n",
    "Our world behaves according to so many variables which are out of our control, that expecting a simple model to *perfectly* explain these nuances is impossible. However, we can try to mitigate this issue by improving our understanding on the errors our models are producing. This allows us to update the model accordingly and be able to enhance its usefulness.\n",
    "\n",
    "The main goal is of this case is to learn how to conduct a proper analysis of the errors (residuals) of linear regression models and how to use this analysis to make improvements in the model. You will see again how variable transformations and a study of outliers in the residuals can help with this task."
   ]
  },
  {
   "cell_type": "code",
   "execution_count": 1,
   "metadata": {},
   "outputs": [],
   "source": [
    "### Load relevant packages\n",
    "import pandas                  as pd\n",
    "import numpy                   as np\n",
    "import matplotlib.pyplot       as plt\n",
    "import seaborn                 as sns\n",
    "import statsmodels.formula.api as smf\n",
    "import statsmodels.api         as sm\n",
    "import scipy\n",
    "\n",
    "%matplotlib inline\n",
    "plt.style.use('ggplot')\n",
    "from pandas.plotting import register_matplotlib_converters\n",
    "register_matplotlib_converters()"
   ]
  },
  {
   "cell_type": "markdown",
   "metadata": {},
   "source": [
    "## Introduction\n",
    "\n",
    "**Business Context.** Real estate markets can sometimes be irrational, and buying a house can certainly be an emotional and highly psychological process. For example, the asking price can [“anchor”](https://en.wikipedia.org/wiki/Anchoring) the negotiations, and it can be very hard as a buyer to “forget” that initial number.\n",
    "\n",
    "You are a property developer who frequently buys properties. It would be very useful to get a fair estimate of the price of a property before seeing the asking price, based on features like its size and location. Besides making you a more informed buyer, having a pricing model could have multiple uses, such as automatically detecting under-priced properties that come on the market, or estimating the value added to a property if it was extended, divided into apartments, or converted into offices.\n",
    "\n",
    "**Business Problem.** Your task is to **build a model to predict property prices in the city of Milwaukee, Wisconsin**.\n",
    "\n",
    "**Analytical Context.** The dataset consists of property sales (commercial and residential) in Milwaukee, Wisconsin from 2002 to 2018. Linear regression is a simple idea: At the end of the day, we are just fitting a line through data. But its simplicity is also its strength: coefficients are easily interpretable and it is straightforward to understand the underlying model. However, many things can go wrong during the process of fitting a linear model.\n",
    "\n",
    "The case is structured as follows: you will 1) explore the data to pick up on some initial patterns; 2) analyze **residuals**, the difference between the actual values and their estimates, to diagnose an initial model; 3) perform variable transformations to partially deal with problems; and finally 4) look at how to deal with outliers to improve the model further."
   ]
  },
  {
   "cell_type": "markdown",
   "metadata": {},
   "source": [
    "## Data exploration\n",
    "\n",
    "Let's start by taking a look at the available features:\n",
    "\n",
    "1. **PropType**: the property category (“Commercial”, “Residential”, “Lg Apartment”, “Vacant Land”, or “Condominium”)\n",
    "2. **Taxkey**: a unique identifier for the property\n",
    "3. **Address**: the street address of the property\n",
    "4. **CondoProject**: for condominiums, the name of the project\n",
    "5. **District**: integer between 1 and 15 identifying the city district\n",
    "6. **Nbhd**: integer identifying one of 591 neighborhoods\n",
    "7. **Style**: information about the building architectural style, commerical use or type of building\n",
    "8. **Extwall**: type of exterior wall (e.g. “Brick”)\n",
    "9. **Stories**: number of stories\n",
    "10. **Year_Built**: the year the building was built\n",
    "11. **Nr_of_rms**: number of rooms\n",
    "12. **Fin_sqft**: finished square feet\n",
    "13. **Units**: number of units (e.g. apartments) in the building\n",
    "14. **Bdrms**: number of bedrooms\n",
    "15. **Fbath**: number of full bathrooms\n",
    "16. **Hbath**: number of half bathrooms\n",
    "17. **Lotsize**: size of the lot in square feet\n",
    "18. **Sale_date**: the date of the sale in YYYY-MM-DD format\n",
    "19. **Sale_price**: sale price in US dollars"
   ]
  },
  {
   "cell_type": "code",
   "execution_count": 2,
   "metadata": {},
   "outputs": [
    {
     "data": {
      "text/html": [
       "<div>\n",
       "<style scoped>\n",
       "    .dataframe tbody tr th:only-of-type {\n",
       "        vertical-align: middle;\n",
       "    }\n",
       "\n",
       "    .dataframe tbody tr th {\n",
       "        vertical-align: top;\n",
       "    }\n",
       "\n",
       "    .dataframe thead th {\n",
       "        text-align: right;\n",
       "    }\n",
       "</style>\n",
       "<table border=\"1\" class=\"dataframe\">\n",
       "  <thead>\n",
       "    <tr style=\"text-align: right;\">\n",
       "      <th></th>\n",
       "      <th>PropType</th>\n",
       "      <th>Taxkey</th>\n",
       "      <th>Address</th>\n",
       "      <th>CondoProject</th>\n",
       "      <th>District</th>\n",
       "      <th>Nbhd</th>\n",
       "      <th>Style</th>\n",
       "      <th>Extwall</th>\n",
       "      <th>Stories</th>\n",
       "      <th>Year_Built</th>\n",
       "      <th>Nr_of_rms</th>\n",
       "      <th>Fin_sqft</th>\n",
       "      <th>Units</th>\n",
       "      <th>Bdrms</th>\n",
       "      <th>Fbath</th>\n",
       "      <th>Hbath</th>\n",
       "      <th>Lotsize</th>\n",
       "      <th>Sale_date</th>\n",
       "      <th>Sale_price</th>\n",
       "    </tr>\n",
       "  </thead>\n",
       "  <tbody>\n",
       "    <tr>\n",
       "      <th>0</th>\n",
       "      <td>Commercial</td>\n",
       "      <td>3230461110</td>\n",
       "      <td>2628 N 6TH ST</td>\n",
       "      <td>NaN</td>\n",
       "      <td>6</td>\n",
       "      <td>6258</td>\n",
       "      <td>Commercial Exempt</td>\n",
       "      <td>NaN</td>\n",
       "      <td>2.0</td>\n",
       "      <td>1880</td>\n",
       "      <td>0</td>\n",
       "      <td>1840</td>\n",
       "      <td>1</td>\n",
       "      <td>0</td>\n",
       "      <td>0</td>\n",
       "      <td>0</td>\n",
       "      <td>12750</td>\n",
       "      <td>2002-01-01</td>\n",
       "      <td>15900</td>\n",
       "    </tr>\n",
       "    <tr>\n",
       "      <th>1</th>\n",
       "      <td>Commercial</td>\n",
       "      <td>3590192000</td>\n",
       "      <td>1363 N PROSPECT AV</td>\n",
       "      <td>NaN</td>\n",
       "      <td>3</td>\n",
       "      <td>6262</td>\n",
       "      <td>Mansions With Commercial Usage</td>\n",
       "      <td>NaN</td>\n",
       "      <td>2.0</td>\n",
       "      <td>1876</td>\n",
       "      <td>0</td>\n",
       "      <td>6377</td>\n",
       "      <td>1</td>\n",
       "      <td>0</td>\n",
       "      <td>0</td>\n",
       "      <td>0</td>\n",
       "      <td>11840</td>\n",
       "      <td>2002-01-01</td>\n",
       "      <td>850000</td>\n",
       "    </tr>\n",
       "    <tr>\n",
       "      <th>2</th>\n",
       "      <td>Commercial</td>\n",
       "      <td>4161194000</td>\n",
       "      <td>617 S 94TH ST</td>\n",
       "      <td>NaN</td>\n",
       "      <td>10</td>\n",
       "      <td>6272</td>\n",
       "      <td>Service Building</td>\n",
       "      <td>NaN</td>\n",
       "      <td>1.0</td>\n",
       "      <td>1954</td>\n",
       "      <td>0</td>\n",
       "      <td>5022</td>\n",
       "      <td>1</td>\n",
       "      <td>0</td>\n",
       "      <td>0</td>\n",
       "      <td>0</td>\n",
       "      <td>9700</td>\n",
       "      <td>2002-01-01</td>\n",
       "      <td>119000</td>\n",
       "    </tr>\n",
       "    <tr>\n",
       "      <th>3</th>\n",
       "      <td>Commercial</td>\n",
       "      <td>1719836000</td>\n",
       "      <td>3624 W SILVER SPRING DR</td>\n",
       "      <td>NaN</td>\n",
       "      <td>1</td>\n",
       "      <td>6218</td>\n",
       "      <td>Store Bldg - Multi Story (Store &amp; Apt, Store &amp; O</td>\n",
       "      <td>NaN</td>\n",
       "      <td>2.0</td>\n",
       "      <td>1955</td>\n",
       "      <td>0</td>\n",
       "      <td>6420</td>\n",
       "      <td>1</td>\n",
       "      <td>0</td>\n",
       "      <td>0</td>\n",
       "      <td>0</td>\n",
       "      <td>8792</td>\n",
       "      <td>2002-01-01</td>\n",
       "      <td>210000</td>\n",
       "    </tr>\n",
       "    <tr>\n",
       "      <th>4</th>\n",
       "      <td>Commercial</td>\n",
       "      <td>3480290000</td>\n",
       "      <td>3830 W LISBON AV</td>\n",
       "      <td>NaN</td>\n",
       "      <td>15</td>\n",
       "      <td>6254</td>\n",
       "      <td>Store Bldg - Multi Story (Store &amp; Apt, Store &amp; O</td>\n",
       "      <td>NaN</td>\n",
       "      <td>2.0</td>\n",
       "      <td>1909</td>\n",
       "      <td>0</td>\n",
       "      <td>5956</td>\n",
       "      <td>1</td>\n",
       "      <td>0</td>\n",
       "      <td>0</td>\n",
       "      <td>0</td>\n",
       "      <td>4840</td>\n",
       "      <td>2002-01-01</td>\n",
       "      <td>48500</td>\n",
       "    </tr>\n",
       "  </tbody>\n",
       "</table>\n",
       "</div>"
      ],
      "text/plain": [
       "     PropType      Taxkey                  Address CondoProject District  \\\n",
       "0  Commercial  3230461110            2628 N 6TH ST          NaN        6   \n",
       "1  Commercial  3590192000       1363 N PROSPECT AV          NaN        3   \n",
       "2  Commercial  4161194000            617 S 94TH ST          NaN       10   \n",
       "3  Commercial  1719836000  3624 W SILVER SPRING DR          NaN        1   \n",
       "4  Commercial  3480290000         3830 W LISBON AV          NaN       15   \n",
       "\n",
       "   Nbhd                                             Style Extwall  Stories  \\\n",
       "0  6258                                 Commercial Exempt     NaN      2.0   \n",
       "1  6262                    Mansions With Commercial Usage     NaN      2.0   \n",
       "2  6272                                  Service Building     NaN      1.0   \n",
       "3  6218  Store Bldg - Multi Story (Store & Apt, Store & O     NaN      2.0   \n",
       "4  6254  Store Bldg - Multi Story (Store & Apt, Store & O     NaN      2.0   \n",
       "\n",
       "   Year_Built  Nr_of_rms  Fin_sqft  Units  Bdrms  Fbath  Hbath  Lotsize  \\\n",
       "0        1880          0      1840      1      0      0      0    12750   \n",
       "1        1876          0      6377      1      0      0      0    11840   \n",
       "2        1954          0      5022      1      0      0      0     9700   \n",
       "3        1955          0      6420      1      0      0      0     8792   \n",
       "4        1909          0      5956      1      0      0      0     4840   \n",
       "\n",
       "   Sale_date  Sale_price  \n",
       "0 2002-01-01       15900  \n",
       "1 2002-01-01      850000  \n",
       "2 2002-01-01      119000  \n",
       "3 2002-01-01      210000  \n",
       "4 2002-01-01       48500  "
      ]
     },
     "execution_count": 2,
     "metadata": {},
     "output_type": "execute_result"
    }
   ],
   "source": [
    "data = pd.read_csv(\"2002-2018-property-sales-data.csv\",\n",
    "    dtype = { # indicate categorical variables\n",
    "        \"PropType\": \"category\",\n",
    "        \"District\": \"category\",\n",
    "        \"Extwall\": \"category\",\n",
    "        \"Nbhd\": \"category\",\n",
    "        \"Style\": \"category\",\n",
    "    },\n",
    "    parse_dates=[\"Sale_date\"], # the Sale_date column is parsed as a date\n",
    ")\n",
    "data.head()"
   ]
  },
  {
   "cell_type": "code",
   "execution_count": 3,
   "metadata": {},
   "outputs": [
    {
     "data": {
      "text/plain": [
       "PropType            3\n",
       "Taxkey              0\n",
       "Address             0\n",
       "CondoProject    27867\n",
       "District            0\n",
       "Nbhd                0\n",
       "Style               6\n",
       "Extwall          9899\n",
       "Stories             0\n",
       "Year_Built          0\n",
       "Nr_of_rms           0\n",
       "Fin_sqft            0\n",
       "Units               0\n",
       "Bdrms               0\n",
       "Fbath               0\n",
       "Hbath               0\n",
       "Lotsize             0\n",
       "Sale_date           0\n",
       "Sale_price          0\n",
       "dtype: int64"
      ]
     },
     "execution_count": 3,
     "metadata": {},
     "output_type": "execute_result"
    }
   ],
   "source": [
    "data.shape\n",
    "data.isnull().sum()"
   ]
  },
  {
   "cell_type": "markdown",
   "metadata": {},
   "source": [
    "Sometimes missing numbers are entered as zeros, which can mess up the analysis (see `Lotsize` below as an example). \n",
    "Before proceeding, we will remove rows with zeros in `Year_Built`, `Fin_sqft`, `Lotsize`, and `Sale_price`, as these are the numerical variables where erroneous zero values can skew the distribution:"
   ]
  },
  {
   "cell_type": "code",
   "execution_count": 4,
   "metadata": {},
   "outputs": [
    {
     "data": {
      "text/plain": [
       "Text(0, 0.5, 'count')"
      ]
     },
     "execution_count": 4,
     "metadata": {},
     "output_type": "execute_result"
    },
    {
     "data": {
      "image/png": "[encoded data removed]",
      "text/plain": [
       "<Figure size 432x288 with 1 Axes>"
      ]
     },
     "metadata": {},
     "output_type": "display_data"
    }
   ],
   "source": [
    "plt.hist(np.log(data[\"Lotsize\"]+1), bins=100)\n",
    "plt.xlabel(\"log(Lotsize+1)\")\n",
    "plt.ylabel(\"count\")"
   ]
  },
  {
   "cell_type": "markdown",
   "metadata": {},
   "source": [
    "For the sake of removing potential confounding factors from consideration, we will focus on residential properties only (commercial properties are subject to all sorts of economic and market forces that residential properties are not):"
   ]
  },
  {
   "cell_type": "code",
   "execution_count": 5,
   "metadata": {},
   "outputs": [
    {
     "data": {
      "text/html": [
       "<div>\n",
       "<style scoped>\n",
       "    .dataframe tbody tr th:only-of-type {\n",
       "        vertical-align: middle;\n",
       "    }\n",
       "\n",
       "    .dataframe tbody tr th {\n",
       "        vertical-align: top;\n",
       "    }\n",
       "\n",
       "    .dataframe thead th {\n",
       "        text-align: right;\n",
       "    }\n",
       "</style>\n",
       "<table border=\"1\" class=\"dataframe\">\n",
       "  <thead>\n",
       "    <tr style=\"text-align: right;\">\n",
       "      <th></th>\n",
       "      <th>PropType</th>\n",
       "      <th>Taxkey</th>\n",
       "      <th>Address</th>\n",
       "      <th>CondoProject</th>\n",
       "      <th>District</th>\n",
       "      <th>Nbhd</th>\n",
       "      <th>Style</th>\n",
       "      <th>Extwall</th>\n",
       "      <th>Stories</th>\n",
       "      <th>Year_Built</th>\n",
       "      <th>Nr_of_rms</th>\n",
       "      <th>Fin_sqft</th>\n",
       "      <th>Units</th>\n",
       "      <th>Bdrms</th>\n",
       "      <th>Fbath</th>\n",
       "      <th>Hbath</th>\n",
       "      <th>Lotsize</th>\n",
       "      <th>Sale_date</th>\n",
       "      <th>Sale_price</th>\n",
       "    </tr>\n",
       "  </thead>\n",
       "  <tbody>\n",
       "    <tr>\n",
       "      <th>10</th>\n",
       "      <td>Residential</td>\n",
       "      <td>3080013000</td>\n",
       "      <td>3033 N 35TH ST</td>\n",
       "      <td>NaN</td>\n",
       "      <td>7</td>\n",
       "      <td>2960</td>\n",
       "      <td>AP 1</td>\n",
       "      <td>Frame</td>\n",
       "      <td>2.0</td>\n",
       "      <td>1913</td>\n",
       "      <td>0</td>\n",
       "      <td>3476</td>\n",
       "      <td>4</td>\n",
       "      <td>9</td>\n",
       "      <td>1</td>\n",
       "      <td>0</td>\n",
       "      <td>5040</td>\n",
       "      <td>2002-02-01</td>\n",
       "      <td>42000</td>\n",
       "    </tr>\n",
       "    <tr>\n",
       "      <th>51</th>\n",
       "      <td>Residential</td>\n",
       "      <td>3190434000</td>\n",
       "      <td>1908 E WEBSTER PL</td>\n",
       "      <td>NaN</td>\n",
       "      <td>3</td>\n",
       "      <td>3170</td>\n",
       "      <td>Rm or Rooming House</td>\n",
       "      <td>Frame</td>\n",
       "      <td>2.0</td>\n",
       "      <td>1897</td>\n",
       "      <td>0</td>\n",
       "      <td>1992</td>\n",
       "      <td>4</td>\n",
       "      <td>2</td>\n",
       "      <td>2</td>\n",
       "      <td>0</td>\n",
       "      <td>2880</td>\n",
       "      <td>2002-05-01</td>\n",
       "      <td>145000</td>\n",
       "    </tr>\n",
       "    <tr>\n",
       "      <th>67</th>\n",
       "      <td>Residential</td>\n",
       "      <td>3891722000</td>\n",
       "      <td>812 N 25TH ST</td>\n",
       "      <td>NaN</td>\n",
       "      <td>4</td>\n",
       "      <td>3040</td>\n",
       "      <td>Rm or Rooming House</td>\n",
       "      <td>Frame</td>\n",
       "      <td>2.0</td>\n",
       "      <td>1907</td>\n",
       "      <td>0</td>\n",
       "      <td>2339</td>\n",
       "      <td>6</td>\n",
       "      <td>0</td>\n",
       "      <td>1</td>\n",
       "      <td>0</td>\n",
       "      <td>3185</td>\n",
       "      <td>2002-06-01</td>\n",
       "      <td>30000</td>\n",
       "    </tr>\n",
       "    <tr>\n",
       "      <th>116</th>\n",
       "      <td>Residential</td>\n",
       "      <td>3880628000</td>\n",
       "      <td>959 N 34TH ST</td>\n",
       "      <td>NaN</td>\n",
       "      <td>4</td>\n",
       "      <td>2300</td>\n",
       "      <td>AP 1</td>\n",
       "      <td>Frame</td>\n",
       "      <td>2.0</td>\n",
       "      <td>1890</td>\n",
       "      <td>0</td>\n",
       "      <td>2329</td>\n",
       "      <td>4</td>\n",
       "      <td>4</td>\n",
       "      <td>1</td>\n",
       "      <td>0</td>\n",
       "      <td>5781</td>\n",
       "      <td>2002-10-01</td>\n",
       "      <td>66500</td>\n",
       "    </tr>\n",
       "    <tr>\n",
       "      <th>134</th>\n",
       "      <td>Residential</td>\n",
       "      <td>3880406000</td>\n",
       "      <td>3209 W WELLS ST</td>\n",
       "      <td>NaN</td>\n",
       "      <td>4</td>\n",
       "      <td>2300</td>\n",
       "      <td>Mansion</td>\n",
       "      <td>Stone</td>\n",
       "      <td>2.5</td>\n",
       "      <td>1891</td>\n",
       "      <td>0</td>\n",
       "      <td>7450</td>\n",
       "      <td>2</td>\n",
       "      <td>7</td>\n",
       "      <td>6</td>\n",
       "      <td>0</td>\n",
       "      <td>15600</td>\n",
       "      <td>2002-11-01</td>\n",
       "      <td>150500</td>\n",
       "    </tr>\n",
       "  </tbody>\n",
       "</table>\n",
       "</div>"
      ],
      "text/plain": [
       "        PropType      Taxkey            Address CondoProject District  Nbhd  \\\n",
       "10   Residential  3080013000     3033 N 35TH ST          NaN        7  2960   \n",
       "51   Residential  3190434000  1908 E WEBSTER PL          NaN        3  3170   \n",
       "67   Residential  3891722000      812 N 25TH ST          NaN        4  3040   \n",
       "116  Residential  3880628000      959 N 34TH ST          NaN        4  2300   \n",
       "134  Residential  3880406000    3209 W WELLS ST          NaN        4  2300   \n",
       "\n",
       "                   Style Extwall  Stories  Year_Built  Nr_of_rms  Fin_sqft  \\\n",
       "10                  AP 1   Frame      2.0        1913          0      3476   \n",
       "51   Rm or Rooming House   Frame      2.0        1897          0      1992   \n",
       "67   Rm or Rooming House   Frame      2.0        1907          0      2339   \n",
       "116                 AP 1   Frame      2.0        1890          0      2329   \n",
       "134              Mansion   Stone      2.5        1891          0      7450   \n",
       "\n",
       "     Units  Bdrms  Fbath  Hbath  Lotsize  Sale_date  Sale_price  \n",
       "10       4      9      1      0     5040 2002-02-01       42000  \n",
       "51       4      2      2      0     2880 2002-05-01      145000  \n",
       "67       6      0      1      0     3185 2002-06-01       30000  \n",
       "116      4      4      1      0     5781 2002-10-01       66500  \n",
       "134      2      7      6      0    15600 2002-11-01      150500  "
      ]
     },
     "execution_count": 5,
     "metadata": {},
     "output_type": "execute_result"
    }
   ],
   "source": [
    "def remove_unused_categories(data):\n",
    "    \"\"\" The `remove_unused_categories` method in pandas\n",
    "        removes categories from a Series if there are no\n",
    "        elements of that category.\n",
    "        \n",
    "        This function is a convenience function that removes\n",
    "        unused categories for all categorical columns\n",
    "        of a data frame.\n",
    "        \n",
    "        The reason this is useful is that when we\n",
    "        fit a linear regression, `statsmodels` will\n",
    "        create a coefficient for every category in a column,\n",
    "        and so unused categories pollute the results.\n",
    "    \"\"\"\n",
    "    for cname in data:\n",
    "        col = data[cname]\n",
    "        if pd.api.types.is_categorical_dtype(col):\n",
    "            data[cname] = col.cat.remove_unused_categories()\n",
    "    return data\n",
    "\n",
    "clean = np.where(\n",
    "    (data[\"Sale_price\"] > 0) & \n",
    "    (data[\"Year_Built\"] > 1800) &\n",
    "    (data[\"Fin_sqft\"] > 0) & # must have non-zero finished square feet\n",
    "    (data[\"Lotsize\"] > 0)  & # must have non-zero lot size\n",
    "    (data[\"PropType\"] == \"Residential\")\n",
    "    )\n",
    "data_clean = data.iloc[clean].copy()\n",
    "remove_unused_categories(data_clean).head()"
   ]
  },
  {
   "cell_type": "code",
   "execution_count": 7,
   "metadata": {},
   "outputs": [
    {
     "data": {
      "text/plain": [
       "(24450, 19)"
      ]
     },
     "execution_count": 7,
     "metadata": {},
     "output_type": "execute_result"
    }
   ],
   "source": [
    "data_clean.shape"
   ]
  },
  {
   "cell_type": "markdown",
   "metadata": {},
   "source": [
    "### Exercise 1:\n",
    "\n",
    "#### 1.1\n",
    "\n",
    "Write code to visualize the relationship between the logarithm of the sale price per square foot (`Fin_sqft`) and the following variables:\n",
    " \n",
    "1. the number of units (C)\n",
    "2. the year the building was built \n",
    "3. the city district (C)\n",
    "4. the logarithm of the finished square footage\n",
    "5. the number of bedrooms (C)\n",
    "6. the sale date\n",
    "\n",
    "For categorical variables, it can be helpful to use **violin plots**, which first separates the data by category and then shows the distribution of the $y$ variable as a smooth histogram for each category. \n",
    "\n",
    "**Hint:** You can use the seaborn function ```sns.violinplot(x,y,data)```. For this exercise, draw violin plots for the variables with a (C) as shown above."
   ]
  },
  {
   "cell_type": "markdown",
   "metadata": {},
   "source": [
    "**Answer.**"
   ]
  },
  {
   "cell_type": "markdown",
   "metadata": {},
   "source": [
    "----------"
   ]
  },
  {
   "cell_type": "markdown",
   "metadata": {},
   "source": [
    "#### 1.2\n",
    "\n",
    "What can you conclude from these exploratory plots? Select all that apply.\n",
    "\n",
    "(a) Properties built in the last ten years tend to be more valuable (per square foot)\n",
    "\n",
    "(b) Dividing a single-unit property into smaller units would tend to make it more valuable\n",
    "\n",
    "(c) Many of the most valuable properties are in districts 3 and 14\n",
    "\n",
    "(d) Having more bedrooms makes a property less valuable"
   ]
  },
  {
   "cell_type": "markdown",
   "metadata": {},
   "source": [
    "**Answer.**"
   ]
  },
  {
   "cell_type": "markdown",
   "metadata": {},
   "source": [
    "----------"
   ]
  },
  {
   "cell_type": "markdown",
   "metadata": {},
   "source": [
    "### Exercise 2:\n",
    "\n",
    "Provide the code to fit a multiple linear regression of the sale price against the district, number of units, and finished square footage. Which districts does the model recognize as having the most valuable properties? Are all the coefficients significant? If not, how should we interpret the coefficients with high $p$-value?"
   ]
  },
  {
   "cell_type": "markdown",
   "metadata": {},
   "source": [
    "**Answer.**"
   ]
  },
  {
   "cell_type": "markdown",
   "metadata": {},
   "source": [
    "----------"
   ]
  },
  {
   "cell_type": "markdown",
   "metadata": {},
   "source": [
    "## Inspecting residuals to diagnose a fitted model\n",
    "\n",
    "Linear regression is conceptually simple — after all, we are just fitting a line through our data — but a lot can go wrong. **Residual analysis** is an important tool for diagnosing many problems that can affect a linear regression.\n",
    "The “residuals” are the difference between the observations $y$ and the corresponding fitted values $\\hat{y}$;\n",
    "visually it is the distance between the fitted line and the data points.\n",
    "\n",
    "Residual analysis allows us to test some of the theoretical assumptions that underpin linear regression. The short version is that linear regression works best when the residuals are identically [normally distributed](https://en.wikipedia.org/wiki/Normal_distribution). You may have come across statements before claiming that “linear regression assumes the data are normally distributed\", which is not entirely correct. Linear regression can still be a useful and powerful (and theoretically justified!) tool even if the data deviates from this assumption. That said, a distribution with fat tails is a particular problem for linear regression, because points “in the tails” that are far away from their fitted values can disproportionately affect the fitted coefficients and the predictions. Even a single such point, which could for example be caused by a misplaced decimal point when the raw data was manually entered into a spreadsheet by a distracted employee, can wreak havoc on a model. Such a data point is said to have high **leverage** on the model."
   ]
  },
  {
   "cell_type": "markdown",
   "metadata": {},
   "source": [
    "### Exercise 3:\n",
    "\n",
    "#### 3.1\n",
    "\n",
    "Obtain the residuals by comparing observations against fitted values (`model_lin.fittedvalues`). Check that you recover the same values as those stored in `model_lin.resid`."
   ]
  },
  {
   "cell_type": "markdown",
   "metadata": {},
   "source": [
    "**Answer.**"
   ]
  },
  {
   "cell_type": "markdown",
   "metadata": {},
   "source": [
    "----------"
   ]
  },
  {
   "cell_type": "markdown",
   "metadata": {},
   "source": [
    "#### 3.2\n",
    "\n",
    "Plot a histogram and a QQ plot of the residuals. What do you notice? \n",
    "    \n",
    "**Hint:** To compare the residuals histogram to a normal distribution, use the ```density=True``` argument of ```plt.hist```, which puts the histogram on the same scale as the normal distribution. Then, add the code:\n",
    "```\n",
    "xx = np.linspace(model_lin.resid.min(), model_lin.resid.max(), num=1000)\n",
    "plt.plot(xx, scipy.stats.norm.pdf(xx, loc=0.0, scale=np.sqrt(model_lin.scale)),\n",
    "    label=\"normal distribution\")\n",
    "```\n",
    "to overlay the probability density function of the normal distribution.\n",
    "\n",
    "In order visualize the outliers in the histogram, we can use the `rugplot()` function in the `seaborn` library. For the purpose of this exercise, define the outliers as those residuals which are more than four standard deviations away from zero."
   ]
  },
  {
   "cell_type": "markdown",
   "metadata": {},
   "source": [
    "**Answer.**"
   ]
  },
  {
   "cell_type": "markdown",
   "metadata": {},
   "source": [
    "----------"
   ]
  },
  {
   "cell_type": "markdown",
   "metadata": {},
   "source": [
    "We also create the QQ plot of the residuals, which shows nonlinearity and is another strong warning sign:"
   ]
  },
  {
   "cell_type": "code",
   "execution_count": 12,
   "metadata": {},
   "outputs": [
    {
     "data": {
      "image/png": "[encoded data removed]",
      "text/plain": [
       "<Figure size 432x288 with 1 Axes>"
      ]
     },
     "metadata": {
      "needs_background": "light"
     },
     "output_type": "display_data"
    }
   ],
   "source": [
    "sm.qqplot(model_lin.resid, line=\"s\");"
   ]
  },
  {
   "cell_type": "markdown",
   "metadata": {},
   "source": [
    "Another troublesome situation that can be detected using residual analysis is **heteroscedasticity**, which means that the residuals have small variance for in some subsets of the data, and high variance in others. We saw this exactly early on in the previous case, with the data points \"fanning out\" around the line of best fit, and determined that this would cause problems. The opposite of heteroscedasticity is **homoscedasticity**, which is what we want to see in the data, and means that the residuals have similar variance across all subsets of the data."
   ]
  },
  {
   "cell_type": "markdown",
   "metadata": {},
   "source": [
    "### Exercise 4:\n",
    "\n",
    "#### 4.1\n",
    "\n",
    "Suppose that we are given data from a pair houses in Milwaukee, say ```house1``` and ```house2```. We used our model to obtain a recommended sale price for  each house. The price returned for ```house1``` was $\\$60,000$ and for ```house2``` was $\\$7,000,000$. We know that the final selling price of each house will be different, as it depends on several other factors not included in the model. In the end, the actual selling price of each house will lie in some interval\n",
    "\n",
    "$$\n",
    "\\begin{aligned}\n",
    " \\$60,000-\\verb*std1*&\\leq \\verb*house1* \\leq \\$60,000+\\verb*std1*,\\\\\n",
    "&\\\\\n",
    "\\$7,000,000-\\verb*std2* &\\leq \\verb*house2*\\leq \\$7,000,000+\\verb*std2*.\n",
    "\\end{aligned}\n",
    "$$\n",
    "\n",
    "Which deviation would you expect to be larger, ```std1``` or ```std2```?"
   ]
  },
  {
   "cell_type": "markdown",
   "metadata": {},
   "source": [
    "**Answer.**"
   ]
  },
  {
   "cell_type": "markdown",
   "metadata": {},
   "source": [
    "----------"
   ]
  },
  {
   "cell_type": "markdown",
   "metadata": {},
   "source": [
    "#### 4.2\n",
    "Verify your findings from Exercise 4.1 by drawing a scatterplot of the residuals against the square footage. Are the residuals homoscedastic or heteroscedastic?\n",
    "\n",
    "**Hint:** In order to see changes in the variance a little better, you may also subdivide the data in `Fin_sqft` into four bins and draw violin plots."
   ]
  },
  {
   "cell_type": "markdown",
   "metadata": {},
   "source": [
    "**Answer.**"
   ]
  },
  {
   "cell_type": "markdown",
   "metadata": {},
   "source": [
    "----------"
   ]
  },
  {
   "cell_type": "markdown",
   "metadata": {},
   "source": [
    "As a side note, heteroscedasticity is easy to show, but homoscedasticity is hard to demonstrate, because we have to show that *none* of the variables exhibit heteroscedasticity. In general, use your *intuition* to hunt for heteroscedasticity; here, it was perhaps foreseeable that small (and hence cheap) houses would have a more predictable sales price than large (expensive) houses."
   ]
  },
  {
   "cell_type": "markdown",
   "metadata": {},
   "source": [
    "## Transforming variables to mitigate residuals issues\n",
    "\n",
    "Now that we have seen that the residuals are problematic, we need to figure out what to do about them. One possible solution is to borrow the technique we learned in a previous case – taking a transformation of the response variable. Let's try making the response variable the logarithm of `Sale_price`. It is a natural assumption that the sale price should be proportional to the square footage of the property. Therefore, we will also take the logarithm of the square footage as a predictor variable in this model:"
   ]
  },
  {
   "cell_type": "code",
   "execution_count": 14,
   "metadata": {
    "scrolled": false
   },
   "outputs": [
    {
     "data": {
      "text/html": [
       "<table class=\"simpletable\">\n",
       "<caption>OLS Regression Results</caption>\n",
       "<tr>\n",
       "  <th>Dep. Variable:</th>    <td>np.log(Sale_price)</td> <th>  R-squared:         </th> <td>   0.599</td> \n",
       "</tr>\n",
       "<tr>\n",
       "  <th>Model:</th>                    <td>OLS</td>        <th>  Adj. R-squared:    </th> <td>   0.599</td> \n",
       "</tr>\n",
       "<tr>\n",
       "  <th>Method:</th>              <td>Least Squares</td>   <th>  F-statistic:       </th> <td>   2283.</td> \n",
       "</tr>\n",
       "<tr>\n",
       "  <th>Date:</th>              <td>Sun, 22 Mar 2020</td>  <th>  Prob (F-statistic):</th>  <td>  0.00</td>  \n",
       "</tr>\n",
       "<tr>\n",
       "  <th>Time:</th>                  <td>10:11:49</td>      <th>  Log-Likelihood:    </th> <td> -10020.</td> \n",
       "</tr>\n",
       "<tr>\n",
       "  <th>No. Observations:</th>       <td> 24450</td>       <th>  AIC:               </th> <td>2.007e+04</td>\n",
       "</tr>\n",
       "<tr>\n",
       "  <th>Df Residuals:</th>           <td> 24433</td>       <th>  BIC:               </th> <td>2.021e+04</td>\n",
       "</tr>\n",
       "<tr>\n",
       "  <th>Df Model:</th>               <td>    16</td>       <th>                     </th>     <td> </td>    \n",
       "</tr>\n",
       "<tr>\n",
       "  <th>Covariance Type:</th>       <td>nonrobust</td>     <th>                     </th>     <td> </td>    \n",
       "</tr>\n",
       "</table>\n",
       "<table class=\"simpletable\">\n",
       "<tr>\n",
       "          <td></td>            <th>coef</th>     <th>std err</th>      <th>t</th>      <th>P>|t|</th>  <th>[0.025</th>    <th>0.975]</th>  \n",
       "</tr>\n",
       "<tr>\n",
       "  <th>Intercept</th>        <td>    5.2346</td> <td>    0.057</td> <td>   91.435</td> <td> 0.000</td> <td>    5.122</td> <td>    5.347</td>\n",
       "</tr>\n",
       "<tr>\n",
       "  <th>District[T.10]</th>   <td>    0.6272</td> <td>    0.013</td> <td>   46.510</td> <td> 0.000</td> <td>    0.601</td> <td>    0.654</td>\n",
       "</tr>\n",
       "<tr>\n",
       "  <th>District[T.11]</th>   <td>    0.8221</td> <td>    0.013</td> <td>   63.362</td> <td> 0.000</td> <td>    0.797</td> <td>    0.847</td>\n",
       "</tr>\n",
       "<tr>\n",
       "  <th>District[T.12]</th>   <td>   -0.0038</td> <td>    0.021</td> <td>   -0.183</td> <td> 0.854</td> <td>   -0.045</td> <td>    0.037</td>\n",
       "</tr>\n",
       "<tr>\n",
       "  <th>District[T.13]</th>   <td>    0.8019</td> <td>    0.013</td> <td>   59.694</td> <td> 0.000</td> <td>    0.776</td> <td>    0.828</td>\n",
       "</tr>\n",
       "<tr>\n",
       "  <th>District[T.14]</th>   <td>    0.8701</td> <td>    0.013</td> <td>   64.855</td> <td> 0.000</td> <td>    0.844</td> <td>    0.896</td>\n",
       "</tr>\n",
       "<tr>\n",
       "  <th>District[T.15]</th>   <td>   -0.4857</td> <td>    0.020</td> <td>  -24.462</td> <td> 0.000</td> <td>   -0.525</td> <td>   -0.447</td>\n",
       "</tr>\n",
       "<tr>\n",
       "  <th>District[T.2]</th>    <td>    0.3132</td> <td>    0.015</td> <td>   20.827</td> <td> 0.000</td> <td>    0.284</td> <td>    0.343</td>\n",
       "</tr>\n",
       "<tr>\n",
       "  <th>District[T.3]</th>    <td>    1.0223</td> <td>    0.015</td> <td>   66.953</td> <td> 0.000</td> <td>    0.992</td> <td>    1.052</td>\n",
       "</tr>\n",
       "<tr>\n",
       "  <th>District[T.4]</th>    <td>   -0.1997</td> <td>    0.031</td> <td>   -6.464</td> <td> 0.000</td> <td>   -0.260</td> <td>   -0.139</td>\n",
       "</tr>\n",
       "<tr>\n",
       "  <th>District[T.5]</th>    <td>    0.6896</td> <td>    0.013</td> <td>   53.242</td> <td> 0.000</td> <td>    0.664</td> <td>    0.715</td>\n",
       "</tr>\n",
       "<tr>\n",
       "  <th>District[T.6]</th>    <td>   -0.1841</td> <td>    0.018</td> <td>  -10.103</td> <td> 0.000</td> <td>   -0.220</td> <td>   -0.148</td>\n",
       "</tr>\n",
       "<tr>\n",
       "  <th>District[T.7]</th>    <td>   -0.0692</td> <td>    0.016</td> <td>   -4.272</td> <td> 0.000</td> <td>   -0.101</td> <td>   -0.037</td>\n",
       "</tr>\n",
       "<tr>\n",
       "  <th>District[T.8]</th>    <td>    0.1567</td> <td>    0.017</td> <td>    9.050</td> <td> 0.000</td> <td>    0.123</td> <td>    0.191</td>\n",
       "</tr>\n",
       "<tr>\n",
       "  <th>District[T.9]</th>    <td>    0.5799</td> <td>    0.016</td> <td>   36.764</td> <td> 0.000</td> <td>    0.549</td> <td>    0.611</td>\n",
       "</tr>\n",
       "<tr>\n",
       "  <th>Units</th>            <td>   -0.3523</td> <td>    0.006</td> <td>  -55.450</td> <td> 0.000</td> <td>   -0.365</td> <td>   -0.340</td>\n",
       "</tr>\n",
       "<tr>\n",
       "  <th>np.log(Fin_sqft)</th> <td>    0.8687</td> <td>    0.008</td> <td>  104.173</td> <td> 0.000</td> <td>    0.852</td> <td>    0.885</td>\n",
       "</tr>\n",
       "</table>\n",
       "<table class=\"simpletable\">\n",
       "<tr>\n",
       "  <th>Omnibus:</th>       <td>8475.447</td> <th>  Durbin-Watson:     </th>  <td>   1.741</td> \n",
       "</tr>\n",
       "<tr>\n",
       "  <th>Prob(Omnibus):</th>  <td> 0.000</td>  <th>  Jarque-Bera (JB):  </th> <td>120216.866</td>\n",
       "</tr>\n",
       "<tr>\n",
       "  <th>Skew:</th>           <td>-1.272</td>  <th>  Prob(JB):          </th>  <td>    0.00</td> \n",
       "</tr>\n",
       "<tr>\n",
       "  <th>Kurtosis:</th>       <td>13.561</td>  <th>  Cond. No.          </th>  <td>    186.</td> \n",
       "</tr>\n",
       "</table><br/><br/>Warnings:<br/>[1] Standard Errors assume that the covariance matrix of the errors is correctly specified."
      ],
      "text/plain": [
       "<class 'statsmodels.iolib.summary.Summary'>\n",
       "\"\"\"\n",
       "                            OLS Regression Results                            \n",
       "==============================================================================\n",
       "Dep. Variable:     np.log(Sale_price)   R-squared:                       0.599\n",
       "Model:                            OLS   Adj. R-squared:                  0.599\n",
       "Method:                 Least Squares   F-statistic:                     2283.\n",
       "Date:                Sun, 22 Mar 2020   Prob (F-statistic):               0.00\n",
       "Time:                        10:11:49   Log-Likelihood:                -10020.\n",
       "No. Observations:               24450   AIC:                         2.007e+04\n",
       "Df Residuals:                   24433   BIC:                         2.021e+04\n",
       "Df Model:                          16                                         \n",
       "Covariance Type:            nonrobust                                         \n",
       "====================================================================================\n",
       "                       coef    std err          t      P>|t|      [0.025      0.975]\n",
       "------------------------------------------------------------------------------------\n",
       "Intercept            5.2346      0.057     91.435      0.000       5.122       5.347\n",
       "District[T.10]       0.6272      0.013     46.510      0.000       0.601       0.654\n",
       "District[T.11]       0.8221      0.013     63.362      0.000       0.797       0.847\n",
       "District[T.12]      -0.0038      0.021     -0.183      0.854      -0.045       0.037\n",
       "District[T.13]       0.8019      0.013     59.694      0.000       0.776       0.828\n",
       "District[T.14]       0.8701      0.013     64.855      0.000       0.844       0.896\n",
       "District[T.15]      -0.4857      0.020    -24.462      0.000      -0.525      -0.447\n",
       "District[T.2]        0.3132      0.015     20.827      0.000       0.284       0.343\n",
       "District[T.3]        1.0223      0.015     66.953      0.000       0.992       1.052\n",
       "District[T.4]       -0.1997      0.031     -6.464      0.000      -0.260      -0.139\n",
       "District[T.5]        0.6896      0.013     53.242      0.000       0.664       0.715\n",
       "District[T.6]       -0.1841      0.018    -10.103      0.000      -0.220      -0.148\n",
       "District[T.7]       -0.0692      0.016     -4.272      0.000      -0.101      -0.037\n",
       "District[T.8]        0.1567      0.017      9.050      0.000       0.123       0.191\n",
       "District[T.9]        0.5799      0.016     36.764      0.000       0.549       0.611\n",
       "Units               -0.3523      0.006    -55.450      0.000      -0.365      -0.340\n",
       "np.log(Fin_sqft)     0.8687      0.008    104.173      0.000       0.852       0.885\n",
       "==============================================================================\n",
       "Omnibus:                     8475.447   Durbin-Watson:                   1.741\n",
       "Prob(Omnibus):                  0.000   Jarque-Bera (JB):           120216.866\n",
       "Skew:                          -1.272   Prob(JB):                         0.00\n",
       "Kurtosis:                      13.561   Cond. No.                         186.\n",
       "==============================================================================\n",
       "\n",
       "Warnings:\n",
       "[1] Standard Errors assume that the covariance matrix of the errors is correctly specified.\n",
       "\"\"\""
      ]
     },
     "execution_count": 14,
     "metadata": {},
     "output_type": "execute_result"
    }
   ],
   "source": [
    "model_log = smf.ols(formula = \"np.log(Sale_price) ~ District + Units\"\n",
    "                           \"+ np.log(Fin_sqft)\", \n",
    "                 data = data_clean).fit()\n",
    "model_log.summary()"
   ]
  },
  {
   "cell_type": "markdown",
   "metadata": {},
   "source": [
    "### Exercise 5:\n",
    "\n",
    "#### 5.1\n",
    "\n",
    "Plot a histogram of the residuals, similar to what we did in Exercise 3. Did the log transformation fix the skewness and outlier issues that we noticed earlier?\n",
    "\n",
    "**Hint:** What changes in [Skewness](https://en.wikipedia.org/wiki/Skewness) and [Kurtosis](https://en.wikipedia.org/wiki/Kurtosis)  do you see in the new model? "
   ]
  },
  {
   "cell_type": "markdown",
   "metadata": {},
   "source": [
    "**Answer.**"
   ]
  },
  {
   "cell_type": "markdown",
   "metadata": {},
   "source": [
    "----------"
   ]
  },
  {
   "cell_type": "markdown",
   "metadata": {},
   "source": [
    "#### 5.2\n",
    "\n",
    "Did the heteroscedasticity issue improve from Exercise 4?"
   ]
  },
  {
   "cell_type": "markdown",
   "metadata": {},
   "source": [
    "**Answer.**"
   ]
  },
  {
   "cell_type": "markdown",
   "metadata": {},
   "source": [
    "----------"
   ]
  },
  {
   "cell_type": "markdown",
   "metadata": {},
   "source": [
    "### Exercise 6:\n",
    "\n",
    "#### 6.1\n",
    "\n",
    "How do we interpret the `Units` coefficient?"
   ]
  },
  {
   "cell_type": "markdown",
   "metadata": {},
   "source": [
    "**Answer.** All else being equal, an additional unit decreases the log-price of the property by 0.35, which corresponds to a slightly less than 30% reduction in price (this is calculated as $1-e^{-0.35}$)."
   ]
  },
  {
   "cell_type": "markdown",
   "metadata": {},
   "source": [
    "#### 6.2\n",
    "\n",
    "What story does the `np.log(Fin_sqft)` coefficient tell us in this model?\n",
    "\n",
    "(a) The price of a property is proportional to its square footage\n",
    "\n",
    "(b) The price of a property goes down with square footage\n",
    "\n",
    "(c) The price of a property goes up logarithmically with its square footage\n",
    "\n",
    "(d) The price of a property goes up exponentially with its square footage\n",
    "\n",
    "(e) The price of a property goes up with square footage, but there are diminishing returns"
   ]
  },
  {
   "cell_type": "markdown",
   "metadata": {},
   "source": [
    "**Answer.**"
   ]
  },
  {
   "cell_type": "markdown",
   "metadata": {},
   "source": [
    "----------"
   ]
  },
  {
   "cell_type": "markdown",
   "metadata": {},
   "source": [
    "## Dealing with outliers\n",
    "\n",
    "Our analysis of residuals shows a number of outliers. As mentioned above, low outliers are not entirely unexpected; e.g. when people sell a property to friends or relatives, or if the property is in disrepair, the sale price could be significantly lower than expected by the model. Nonetheless, outliers can destabilize a model and significantly reduce their predictive ability despite only representing a fringe subset of the overall data."
   ]
  },
  {
   "cell_type": "markdown",
   "metadata": {},
   "source": [
    "### Question:\n",
    "\n",
    "What should an analyst do with outliers?"
   ]
  },
  {
   "cell_type": "markdown",
   "metadata": {},
   "source": [
    "It is tempting to simply remove data points with large residuals; however, this viewpoint suffers from hindsight bias. Outliers with high residuals cannot be determined before the model is created, which means that they cannot be removed in advance.\n",
    "\n",
    "Rather, the starting point should always be to inspect the initial raw data for any data points with unusually small or large values for certain features, and understand why they are different. If there is something clearly wrong with those data (like a misplaced decimal point), or if the reason for these small or large values can be effectively explained via an external factor that is not captured by the data itself, then this justifies removing them. Otherwise, it is best to keep these data points in mind throughout the modeling process, and deal with them during the modeling process itself."
   ]
  },
  {
   "cell_type": "markdown",
   "metadata": {},
   "source": [
    "### Exercise 7:\n",
    "\n",
    "Print the characteristics of the property with the greatest absolute residual (i.e. the worst outlier in the dataset). For this property, what is the fitted (predicted) and actual sale price?\n",
    "\n",
    "Find all other sales of the same property in the dataset. Can you see an explanation for these extreme outliers?"
   ]
  },
  {
   "cell_type": "markdown",
   "metadata": {},
   "source": [
    "**Answer:**"
   ]
  },
  {
   "cell_type": "markdown",
   "metadata": {},
   "source": [
    "----------"
   ]
  },
  {
   "cell_type": "markdown",
   "metadata": {},
   "source": [
    "The scatter plot below shows the residuals vs. the sale price for all properties in the data. The cluster in the bottom left corner shows properties that sold at a much lower price than expected by the model, which can be explained as transactions below market rate between friends or relatives. This would justify removing all transactions below about $2,000 from the dataset before re-running the analysis:"
   ]
  },
  {
   "cell_type": "code",
   "execution_count": 21,
   "metadata": {},
   "outputs": [
    {
     "data": {
      "text/plain": [
       "<matplotlib.lines.Line2D at 0x11eb28d68>"
      ]
     },
     "execution_count": 21,
     "metadata": {},
     "output_type": "execute_result"
    },
    {
     "data": {
      "image/png": "[encoded data removed]",
      "text/plain": [
       "<Figure size 432x288 with 1 Axes>"
      ]
     },
     "metadata": {
      "needs_background": "light"
     },
     "output_type": "display_data"
    }
   ],
   "source": [
    "plt.semilogx(data_clean[\"Sale_price\"], model_log.resid, \".\", alpha=0.2)\n",
    "plt.ylabel(\"Residuals\")\n",
    "plt.xlabel(\"Sale price\")\n",
    "plt.axhline(0, color=\"black\")"
   ]
  },
  {
   "cell_type": "markdown",
   "metadata": {},
   "source": [
    "We can quantify the effect of these outliers by removing them and re-running the regression, and seeing how the fitted coefficients change."
   ]
  },
  {
   "cell_type": "markdown",
   "metadata": {},
   "source": [
    "### Exercise 8:\n",
    "\n",
    "#### 8.1\n",
    "\n",
    "Re-run the same model one a reduced dataset which removes all outliers with absolute residuals greater than 1.5.\n",
    "\n",
    "1. What percentage of the data is removed?\n",
    "2. What is the value of the fitted `Units` coefficient before and after removing outliers?\n",
    "3. Is the difference significant?\n",
    "4. What coefficients move by more than two standard errors after removing outliers?"
   ]
  },
  {
   "cell_type": "markdown",
   "metadata": {},
   "source": [
    "**Answer.**"
   ]
  },
  {
   "cell_type": "markdown",
   "metadata": {},
   "source": [
    "----------"
   ]
  },
  {
   "cell_type": "markdown",
   "metadata": {},
   "source": [
    "#### 8.2\n",
    "\n",
    "Check whether particularly small or large properties also tend to result in outliers.\n",
    "\n",
    "**Answer.** "
   ]
  },
  {
   "cell_type": "markdown",
   "metadata": {},
   "source": [
    "----------"
   ]
  },
  {
   "cell_type": "markdown",
   "metadata": {},
   "source": [
    "## Conclusions\n",
    "\n",
    "We used linear regression to predict property sale price in Milwaukee, Wisconsin, and illustrated some potential issues with linear regression. When some of the assumptions of linear regression are severly violated, like normality of the residuals and homoescedasticity, the fitted model can be destabilized. As an example, we saw how a small number of outliers can shift a fitted coefficient by several standard errors."
   ]
  },
  {
   "cell_type": "markdown",
   "metadata": {},
   "source": [
    "## Takeaways\n",
    "\n",
    "In this case we have learned:\n",
    "    \n",
    "1. How to recognize heteroscedasticity in the residuals and why it is important to treat it. \n",
    "2. How transforming the outcome variable can be helpful to reduce skewness and alleviate some of the heteroscedasticity present in the residuals.\n",
    "3. How to properly treat outliers in the residuals. We recognized that it is always better to understand the meaning behind some of the outliers in order to safely discard them from our models. In this case, a logarithmic transformation of the sale price alleviated many of the issues in the model. However, other datasets may invite different transformations. You should combine intuition and experimentation to find the right transformation to use.\n",
    "5. How to conduct residual analysis when using linear regression in your projects. As we have seen, these will help you to improve not only the quality of your models, but also your intuition and expertise when conducting future data analyses at work."
   ]
  }
 ],
 "metadata": {
  "hide_input": false,
  "kernelspec": {
   "display_name": "Python 3",
   "language": "python",
   "name": "python3"
  },
  "language_info": {
   "codemirror_mode": {
    "name": "ipython",
    "version": 3
   },
   "file_extension": ".py",
   "mimetype": "text/x-python",
   "name": "python",
   "nbconvert_exporter": "python",
   "pygments_lexer": "ipython3",
   "version": "3.7.7"
  },
  "toc": {
   "nav_menu": {},
   "number_sections": true,
   "sideBar": true,
   "skip_h1_title": false,
   "title_cell": "Table of Contents",
   "title_sidebar": "Contents",
   "toc_cell": false,
   "toc_position": {
    "height": "calc(100% - 180px)",
    "left": "10px",
    "top": "150px",
    "width": "264.8px"
   },
   "toc_section_display": true,
   "toc_window_display": true
  }
 },
 "nbformat": 4,
 "nbformat_minor": 2
}
