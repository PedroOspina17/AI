{
 "cells": [
  {
   "cell_type": "markdown",
   "metadata": {},
   "source": [
    "# Pre-Case Setup: Git"
   ]
  },
  {
   "cell_type": "markdown",
   "metadata": {},
   "source": [
    "## Goals\n",
    "\n",
    "By the end of this case you should have properly set up and familiarized yourself with Python, Jupyter, Anaconda, and GitHub. \n",
    "\n",
    "You should further have a working knowledge of various fundamental building blocks of Python (listed at the end of the case). This means being able to write simple code to perform analytical tasks such as creating metrics for making a business decision."
   ]
  },
  {
   "cell_type": "markdown",
   "metadata": {},
   "source": [
    "## Python and Jupyter\n",
    "\n",
    "Python is a general purpose programming language that allows for both simple and complex data analysis. Python is incredibly versatile, allowing analysts, consultants, engineers, and managers to obtain and analyze information for insightful decision-making.\n",
    "\n",
    "The [Jupyter Notebook](https://jupyter.org/index.html) is an open-source web application that allows for Python code development. Jupyter further allows for inline plotting and provides useful mechanisms for viewing data that make it an excellent resource for a variety of projects and disciplines."
   ]
  },
  {
   "cell_type": "markdown",
   "metadata": {},
   "source": [
    "## File Management with Python and Jupyter\n",
    "\n",
    "It is common practice to have a main folder where all projects will be located (e.g. \"jupyter_research\"). The following are guidelines you can use for Python projects to help keep your code organized and accessible:\n",
    "\n",
    "1. Create subfolders for each Jupyter-related project\n",
    "3. Group related .ipynb (the file format for Jupyter Notebook) files together in the same folder\n",
    "2. Create a \"Data\" folder within individual project folders if using a large number of related data files\n",
    "\n",
    "You should now be set up and ready to begin coding in Python!"
   ]
  },
  {
   "cell_type": "markdown",
   "metadata": {},
   "source": [
    "## Setting up Git, GitHub, and cloning a repository"
   ]
  },
  {
   "cell_type": "markdown",
   "metadata": {},
   "source": [
    "Git is a free and open-source distributed version-control system. It is very useful for both simple software projects and large multi-functional projects that span thousands of files.  The main website for Git documentation is https://git-scm.com/. We will go over a brief introduction to Git here to get up and running with the software, in addition to understanding how its version control system operates. We'll create a new repository and also cover how to clone a repository from GitHub. GitHub is an online platform that hosts repositories for users to interact with on their own projects and collaborative projects.\n",
    "\n",
    "Here is a [Git tutorial](https://www.youtube.com/watch?v=HVsySz-h9r4) you can watch in your spare time to advance your understanding of this distributed file-sharing system.\n",
    "\n",
    "There are also numerous specialized [GUIs for Git](https://git-scm.com/downloads/guis/). These are effectively different editors for Git and you can choose one that you like. We recommend you search for a simple introductory tutorial on the editor of your choice as well.\n",
    "\n",
    "The following steps outline how to get started with Git, sign up for a GitHub account, create a repository, and clone a repository to your computer:"
   ]
  },
  {
   "cell_type": "markdown",
   "metadata": {},
   "source": [
    "1. Open your browser and go to https://git-scm.com/downloads and download Git for your operating system\n",
    "\n",
    "2. Create a new repository by browsing to the folder on your computer that you'd like to work under. From this folder, run the command: git init\n",
    "\n",
    "3. Open your browser and go to https://github.com/ and sign up for a Github account\n",
    "\n",
    "4. On GitHub, navigate to the main page of the repository you are interested in using. Note that when you create a repository on GitHub, it is a remote repository. We will clone a repository to create a local copy on your computer and we can then sync between the two locations when needed. Hence, we will have a local copy of the repository and a remote copy of the repository.\n",
    "\n",
    "5. Under the repository name on Github, click clone or download\n",
    "\n",
    "6. In the Clone with HTTPS section, copy the clone URL link\n",
    "\n",
    "7. Open your command line and navigate to the current working directory to the location where you want the cloned directory to be made. Type and run the command: git clone https://github.com/YOUR-USERNAME/YOUR-REPOSITORY (paste the link that you copied before).\n",
    "\n",
    "You should have now created your local clone of the repository. Let's cover some of the utilities available with Git."
   ]
  },
  {
   "cell_type": "markdown",
   "metadata": {},
   "source": [
    "## Understanding the Git workflow\n",
    "\n",
    "Git is a distributed version-control system. This means that it allows you to track _changes_ to a set of files. You might be used to seeing files with names like \"Essay(2)(2)\\_FINAL(2)\\_edits2March(3).docx\" as you try to keep different versions of a file in sync while it is being changed by multiple people. Git solves this problem by tracking changes as specific **commits**, allowing you to go back in time to previous versions, and merge versions of files worked on by different people.\n",
    "\n",
    "Git is an advanced and highly complex tool with a steep learning curve, so don't worry if not everything makes sense from the start. You'll only need to learn a few concepts to start using Git. Specifically, you'll need to know how to:\n",
    "\n",
    "* Indicate which files you want to track using git\n",
    "* Commit changes to these files at specific points in time\n",
    "* Push these changes to a remote host\n",
    "\n",
    "Note the difference between \"git\" (the software you run locally that has been in use for years) and \"GitHub\" (the most popular host for git repositories). You'll use the software `git` on your local machine, and then push your code to GitHub for sharing, collaboration, and as a backup of your files.\n",
    "\n",
    "The most important git commands you'll need to use in the beginning are `git add` (which indicates which files you want git to track), `git commit` (which indicates when you want to create a \"checkpoint\" of your tracked files) and `git push` (which indicates when you want to push data from your local machine to GitHub).\n",
    "\n",
    "Let's go through a simple example of committing a change to some text file ```hello.txt```:\n",
    "\n",
    "1. Create a text file `hello.txt` on your local computer in the folder you will be using Git from.\n",
    "\n",
    "2. Edit the file to add one line to the text file; e.g. you add \"Hello World\" as the first line. Save the file.\n",
    "\n",
    "3. Track this file using git. To do this, use the command: ```git add hello.txt```. (If you have multiple files and you'd like to add all the files with changes in the folder to be tracked by git you can use the command: ```git add *```)\n",
    "\n",
    "4. To commit the changes on all tracked files, use the command: ```git commit -m \"Commit message\"``` where \"Commit message\" should be a short but descriptive reminder of the changes you've made since the last time you ran a commit (for the first one, you can use something like \"initial commit\" as a message, but using as descriptive a message as possible will help debug any problems further down the line).\n",
    "\n",
    "5. You've created a checkpoint of your files now (something you could revert back to later if needed), but it still only exists on your local machine. To push the changes to your remote repository, use the command: ```git push origin master```\n",
    "\n",
    "Some other useful commands that you can use to check the status and history of your repository include:\n",
    "\n",
    "* ```git status```, which shows you whether files are untracked, or tracked but have changes and need to be committed.\n",
    "* ```git log```, which shows you a list of commit messages that have been applied."
   ]
  },
  {
   "cell_type": "markdown",
   "metadata": {},
   "source": [
    "This covers the basics of Git. While it takes considerable practice to master, we've covered the cloning, adding, committing, and pushing features that are the backbone of the Git version control software.\n",
    "\n",
    "We're ready to begin the case."
   ]
  },
  {
   "cell_type": "markdown",
   "metadata": {},
   "source": [
    "# Identifying Expansion Opportunities for Luxury Commercial Airline Flights"
   ]
  },
  {
   "cell_type": "markdown",
   "metadata": {},
   "source": [
    "## Case Introduction\n",
    "\n",
    "**Business Context.** You are an employee for GrowthAir, a growing commercial airline company. In the past few years, GrowthAir has expanded luxury flight services to locations across the globe. Following your team's excellent performance in identifying new business opportunities last year, you have been tasked with identifying the top countries to further expand GrowthAir's luxury flight service.\n",
    "\n",
    "**Business Problem.** Your manager has asked you to answer the following question: <b>\"In which countries should GrowthAir expand its luxury flight service?\"</b>\n",
    "\n",
    "**Analytical Context.** The relevant data is a series of success estimates (i.e. probabilities of success) that your internal marketing research teams have come up with. Using your ability to conduct data analysis in Python, you will embark on summarizing the available success estimates to produce a concise recommendation to your boss.\n",
    "\n",
    "**Execution**. In this case, you will look at simple metrics on the data such as mean, median, min/max, and ultimately make your suggestion based on these elementary statistics. The analysis portion should be relatively simple and every student should be able to do this with pen and paper. However, what is special about this case is that you will perform these tasks in a Python environment to familiarize yourself with new techniques and tools. "
   ]
  },
  {
   "cell_type": "markdown",
   "metadata": {},
   "source": [
    "## Fundamentals of Python\n",
    "\n",
    "[Python](https://docs.python.org/3/) is an [interpreted, high-level general-programming language](https://www.webopedia.com/TERM/O/object_oriented_programming_OOP.html) that was first released in 1991. Python allows users to easily manipulate data and store values in what are known as <b>objects</b>. Everything in Python is an object and has a <b>type</b>. \n",
    "\n",
    "For example, if a user aims to store the integer 5 in an object named ```my_int```, this can be accomplished by writing the Python statement, ```my_int = 5```. If you're used to syntax from mathematics, this can seem confusing. In this case `my_int` is a variable, much like you might find in algebra, but the `=` sign is for _assignment_ not _equality_ (the latter is denoted with `==`). So in this case `my_int = 5` should be taken to mean something more like `Let my_int be equal to 5` rather than `my_int is equal to 5`.\n",
    "\n",
    "Here, `my_int` is an example of a _variable_ because it can change value (we could later assign a different value to it) and it is of type Integer, known in Python simply as `int`. Unlike some other programming languages, Python guesses the type of the variable from the value that we assign, so we do not need to specify the type of the variable explicitly.\n",
    "\n",
    "Python variables have a variety of data types. If you are used to using Microsoft Excel, this is similar to how Excel distinguishes between data types such as Text, Number, Currency, Date, or Scientific. Here are some common data types that you will come across in Python:\n",
    "\n",
    "1. Integers, type ```int```: ```my_int = 1```\n",
    "2. Float type ```float```: ```my_float = 25.5```\n",
    "3. Strings, type ```str```: ```my_string = 'Hello'```\n",
    "\n",
    "Note that the names `my_int`, `my_float` and `my_string` are arbitrary here. While it is useful to name your variables so that the names contain some information about what they are used for, this code would be functionally identical to if we had used `x`, `xrtqp2` and `my_very_long_variable_name`, respectively.\n",
    "\n",
    "Here we see (1) <b>integers</b> and (2) <b>floats</b> store numeric data.  The difference between the two is that floats store decimal variables (fractions), whereas the integer type can only store integer variables (whole numbers). Finally, (3) is the <b>string</b> type. Strings are used to store textual data in Python (a string of one or more characters). Later in this case we will use string variables to store country names. They are often used to store identifiers such as person names, city names, and more.\n",
    "\n",
    "There are other data types available in Python; however, these are the three fundamental types that you will see across almost every Python program. Always keep in mind that **every** object in Python has a type and some of these \"types\" can be custom-defined by the user, which is one of the benefits of Python.\n",
    "\n",
    "The simplest use of Python is as a calculator. We have seen how to assign values to variables, but we can also carry out computations on these variables. A Python program contains one or more lines of code, which are executed in a top-down fashion (with some exceptions that we'll come across later). The following Python program demonstrates this functionality:\n",
    "\n",
    "```\n",
    "x = 5\n",
    "y = 7\n",
    "z = x + y -1 \n",
    "print(z)\n",
    "```\n",
    "\n",
    "The `print` function simply outputs data to your screen (it has nothing to do with a computer printer, and won't waste your ink or paper!). In the code above, we start at the top and work down. This means we assign the value `5` to the variable `x`, then the value `7` to the variable `y` and finally the sum of the values `x` and `y` minus `1` to the variable `z`. Make sure that you can create this Python program and that you get the output `11` before you continue.\n",
    "\n",
    "There is a lot more to Python than the above. In this case, we will introduce you to more basic Python concepts. If you prefer, you can first go through the more extensive [official Python tutorial](https://docs.python.org/3/tutorial/introduction.html) and/or the [W3School Python tutorial](https://www.w3schools.com/python/) and practice more fundamental concepts before proceeding with this case. It is highly recommended that you go through either or both of these tutorials either before or after going through this notebook to solidify and augment your understanding of Python."
   ]
  },
  {
   "cell_type": "markdown",
   "metadata": {},
   "source": [
    "### Exercise 0\n",
    " \n",
    "#### 0.1\n",
    "\n",
    "* Use Python to calculate the answer to 1675 - 886 and print it out\n",
    "\n",
    "* Assign your name to a Python variable and print it out\n",
    "\n",
    "* Calculate the result of 65.4 + 7 - 6 + 2 and print it out"
   ]
  },
  {
   "cell_type": "markdown",
   "metadata": {},
   "source": [
    "**Answer.**"
   ]
  },
  {
   "cell_type": "code",
   "execution_count": 2,
   "metadata": {},
   "outputs": [
    {
     "name": "stdout",
     "output_type": "stream",
     "text": [
      "789\n",
      "68.4\n"
     ]
    }
   ],
   "source": [
    "#Code in this cell.\n",
    "#You can also add more cells to write code, or markdown, as required.\n",
    "difference = 1675 - 886\n",
    "operation = 65.4 + 7 - 6 + 2\n",
    "print(difference)\n",
    "print(operation)"
   ]
  },
  {
   "cell_type": "code",
   "execution_count": 3,
   "metadata": {},
   "outputs": [],
   "source": [
    "#Code in this cell."
   ]
  },
  {
   "cell_type": "code",
   "execution_count": 4,
   "metadata": {},
   "outputs": [],
   "source": [
    "#Code in this cell."
   ]
  },
  {
   "cell_type": "markdown",
   "metadata": {},
   "source": [
    "#### 0.2\n",
    "\n",
    "We mentioned before that variables can change value. Let's take a look at how this works, and also introduce a few more Python operations:"
   ]
  },
  {
   "cell_type": "code",
   "execution_count": 5,
   "metadata": {},
   "outputs": [
    {
     "name": "stdout",
     "output_type": "stream",
     "text": [
      "4\n",
      "6\n"
     ]
    }
   ],
   "source": [
    "x = 4\n",
    "print(x)\n",
    "y = 2\n",
    "x = y + x\n",
    "print(x)"
   ]
  },
  {
   "cell_type": "markdown",
   "metadata": {},
   "source": [
    "Again, if you're used to syntax from mathematics \"x = y + x\" might look very wrong at first glance. However, it simply means \"throw out the existing value of x, and assign a new value which is calculated as the sum of y and x\". Here, we can see that the value of x changes, demonstrating why we call them \"variables\".\n",
    "    \n",
    "We can also use more operators than just `+` and `-`. We use `*` for multiplication, `/` for division, and `**` for power. The standard order of operations rules from mathematics also applies and parentheses `()` can be used to override these:"
   ]
  },
  {
   "cell_type": "code",
   "execution_count": 6,
   "metadata": {},
   "outputs": [
    {
     "name": "stdout",
     "output_type": "stream",
     "text": [
      "11\n",
      "25\n"
     ]
    }
   ],
   "source": [
    "x = 2\n",
    "y = 3\n",
    "print (x + y ** x)\n",
    "print((x+y)**x)"
   ]
  },
  {
   "cell_type": "markdown",
   "metadata": {},
   "source": [
    "Now try it yourself. Assign the values 3, 4, 5 to three different variables called `a`, `b`, and `c`, and calculate the values of \n",
    "\n",
    "* `c` squared\n",
    "* `a` squared + `b` squared"
   ]
  },
  {
   "cell_type": "markdown",
   "metadata": {},
   "source": [
    "**Answer.**"
   ]
  },
  {
   "cell_type": "code",
   "execution_count": 7,
   "metadata": {},
   "outputs": [
    {
     "name": "stdout",
     "output_type": "stream",
     "text": [
      "25\n",
      "25\n"
     ]
    }
   ],
   "source": [
    "#Code in this cell.\n",
    "a = 3\n",
    "b = 4\n",
    "c = 5\n",
    "print(c**2)\n",
    "print(a**2 + b**2)"
   ]
  },
  {
   "cell_type": "markdown",
   "metadata": {},
   "source": [
    "______"
   ]
  },
  {
   "cell_type": "markdown",
   "metadata": {},
   "source": [
    "Now that we've covered the fundamentals of Python, let's take a look at GrowthAir's proprietary company data on country success estimates."
   ]
  },
  {
   "cell_type": "markdown",
   "metadata": {},
   "source": [
    "## Exploring company data on success estimates\n",
    "\n",
    "Your company has some proprietary data that they need you to analyze. This data consists of estimates of the probability of success for global expansion projects by country, created by several leading analysis agencies.\n",
    "\n",
    "The ```success_estimates``` variable below is a Python dictionary. Before, we showed how variables could contain simple data types like a single integer, or a string. As an extension of that, variables can also refer to **data structures**. These are more complicated data types that comprise many single pieces of data, organized in a specific way.\n",
    "\n",
    "As before, we use `=`, the **assignment operator**, to assign a value to the variable. \n",
    "\n",
    "Python's dictionary type stores a mapping of key-value pairs that allow users to quickly access information for a particular key. By specifying a key, the user can return the value corresponding to the given key. Python's syntax for [dictionaries](https://www.w3schools.com/python/python_dictionaries.asp) uses curly braces {}:\n",
    "\n",
    "```python\n",
    "user_dictionary = {'Key1': Value1, 'Key2': Value2, 'Key3': Value3}\n",
    "```\n",
    "\n",
    "The ```success_estimates``` dictionary has keys which are strings, and values which are of type <b>list</b>. A [list](https://www.w3schools.com/python/python_lists.asp) is an incredibly useful data structure in Python that can store any number of Python objects, and are denoted by the use of square brackets ```[]```. \n",
    "\n",
    "In ```success_estimates``` below, the list contains float types. Lists are versatile and can be expanded by adding new elements to the end of the list (the right-most side is considered the end of the list). Moreover, list elements (i.e. the objects in the list) can be accessed easily using integer indices. Interestingly, lists can also store other lists (called a lists of lists).  This makes them a powerful tool for holding complex data sets.\n",
    "\n",
    "Let's take a look at the ```success_estimates``` data. Each estimate (each item in each list) here is a number (float) between 0 and 1 inclusive, which represents the probability that expanding to that country will be successful. For example, we have 4 estimates of success for expanding into Australia, These are 0.6 (fairly likely that we will succeed), 0.33 (fairly unlikely that we will succeed), 0.11 (very unlikely that we will succeed) and 0.14 (also very unlikely that we succeed). Overall, Australia does not seem like a good choice."
   ]
  },
  {
   "cell_type": "code",
   "execution_count": 8,
   "metadata": {},
   "outputs": [],
   "source": [
    "# Lines that start with the `#` symbol are comments, and are ignored by Python completely\n",
    "# They only exist to make your code more readable for humans\n",
    "# It's good practice to have one or more comments above non-obvious parts of code \n",
    "# to explain what they do\n",
    "\n",
    "# Data on probability of expansion success by country estimates\n",
    "success_estimates = {\n",
    "    'Australia': [0.6, 0.33, 0.11, 0.14],\n",
    "    'France': [0.66, 0.78, 0.98, 0.2],\n",
    "    'Italy': [0.6],\n",
    "    'Brazil': [0.22, 0.22, 0.43],\n",
    "    'USA': [0.2, 0.5, 0.3],\n",
    "    'England': [0.45],\n",
    "    'Canada': [0.25, 0.3],\n",
    "    'Argentina': [0.22],\n",
    "    'Greece': [0.45, 0.66, 0.75, 0.99, 0.15, 0.66],\n",
    "    'Morocco': [0.29],\n",
    "    'Tunisia': [0.68, 0.56],\n",
    "    'Egypt': [0.99],\n",
    "    'Jamaica': [0.61, 0.65, 0.71],\n",
    "    'Switzerland': [0.73, 0.86, 0.84, 0.51, 0.99],\n",
    "    'Germany': [0.45, 0.49, 0.36]\n",
    "}"
   ]
  },
  {
   "cell_type": "markdown",
   "metadata": {},
   "source": [
    "Above, we have defined out dataset, mapping specific countries to lists of values (estimates). The simplest thing we can do with this data is to output it, again using the `print()` function as follows:"
   ]
  },
  {
   "cell_type": "code",
   "execution_count": 9,
   "metadata": {
    "scrolled": true
   },
   "outputs": [
    {
     "name": "stdout",
     "output_type": "stream",
     "text": [
      "{'Australia': [0.6, 0.33, 0.11, 0.14], 'France': [0.66, 0.78, 0.98, 0.2], 'Italy': [0.6], 'Brazil': [0.22, 0.22, 0.43], 'USA': [0.2, 0.5, 0.3], 'England': [0.45], 'Canada': [0.25, 0.3], 'Argentina': [0.22], 'Greece': [0.45, 0.66, 0.75, 0.99, 0.15, 0.66], 'Morocco': [0.29], 'Tunisia': [0.68, 0.56], 'Egypt': [0.99], 'Jamaica': [0.61, 0.65, 0.71], 'Switzerland': [0.73, 0.86, 0.84, 0.51, 0.99], 'Germany': [0.45, 0.49, 0.36]}\n"
     ]
    }
   ],
   "source": [
    "#no quotations marks needed when printing an existing variable\n",
    "print(success_estimates)"
   ]
  },
  {
   "cell_type": "markdown",
   "metadata": {},
   "source": [
    "We would like to recommend that the business put effort into the country with the highest success estimate. But what does this mean when there are multiple success estimates for some countries, and only one for others? We can use metrics such as averages to resolve this. We will explore this next."
   ]
  },
  {
   "cell_type": "markdown",
   "metadata": {},
   "source": [
    "## Interacting with dictionaries and lists\n",
    "\n",
    "Taking a careful look at the ```success_estimates``` dictionary, you notice some countries only have one success estimate, while others have many. For example, England has only one estimate contained in its list [0.45], while Jamaica has three estimates contained in its list [0.61, 0.65, 0.71]. Let's zoom in on Jamaica and take a look at some summary statistics of the estimates.\n",
    "\n",
    "In Python, the dictionary type has built-in methods (functions, which we will discuss later) to access the dictionary keys and values. These methods are called by typing ```.keys()``` or ```.values()``` after the dictionary object. We will change the return type of calling ```.keys()``` and ```.values()``` to a list by using the ```list()``` method."
   ]
  },
  {
   "cell_type": "code",
   "execution_count": 10,
   "metadata": {
    "scrolled": true
   },
   "outputs": [
    {
     "data": {
      "text/plain": [
       "dict_keys(['Australia', 'France', 'Italy', 'Brazil', 'USA', 'England', 'Canada', 'Argentina', 'Greece', 'Morocco', 'Tunisia', 'Egypt', 'Jamaica', 'Switzerland', 'Germany'])"
      ]
     },
     "execution_count": 10,
     "metadata": {},
     "output_type": "execute_result"
    }
   ],
   "source": [
    "# Look at the keys...\n",
    "success_estimates.keys()"
   ]
  },
  {
   "cell_type": "markdown",
   "metadata": {},
   "source": [
    "Note above that the first thing you see is `dict_keys`, indicating the **type** of the data. Let's convert it to a list which is a simpler and more common data type. We can do this by passing the data into `list(...)`"
   ]
  },
  {
   "cell_type": "code",
   "execution_count": 11,
   "metadata": {},
   "outputs": [
    {
     "data": {
      "text/plain": [
       "['Australia',\n",
       " 'France',\n",
       " 'Italy',\n",
       " 'Brazil',\n",
       " 'USA',\n",
       " 'England',\n",
       " 'Canada',\n",
       " 'Argentina',\n",
       " 'Greece',\n",
       " 'Morocco',\n",
       " 'Tunisia',\n",
       " 'Egypt',\n",
       " 'Jamaica',\n",
       " 'Switzerland',\n",
       " 'Germany']"
      ]
     },
     "execution_count": 11,
     "metadata": {},
     "output_type": "execute_result"
    }
   ],
   "source": [
    "# now let's look at the keys in list form. This is more legible and usable for us later on.\n",
    "list(success_estimates.keys())"
   ]
  },
  {
   "cell_type": "markdown",
   "metadata": {},
   "source": [
    "Note above that the data is similar but no longer starts with `dict_keys`:"
   ]
  },
  {
   "cell_type": "code",
   "execution_count": 12,
   "metadata": {},
   "outputs": [
    {
     "data": {
      "text/plain": [
       "[[0.6, 0.33, 0.11, 0.14],\n",
       " [0.66, 0.78, 0.98, 0.2],\n",
       " [0.6],\n",
       " [0.22, 0.22, 0.43],\n",
       " [0.2, 0.5, 0.3],\n",
       " [0.45],\n",
       " [0.25, 0.3],\n",
       " [0.22],\n",
       " [0.45, 0.66, 0.75, 0.99, 0.15, 0.66],\n",
       " [0.29],\n",
       " [0.68, 0.56],\n",
       " [0.99],\n",
       " [0.61, 0.65, 0.71],\n",
       " [0.73, 0.86, 0.84, 0.51, 0.99],\n",
       " [0.45, 0.49, 0.36]]"
      ]
     },
     "execution_count": 12,
     "metadata": {},
     "output_type": "execute_result"
    }
   ],
   "source": [
    "# We can also see the corresponding values (estimates) for each key as follows\n",
    "list(success_estimates.values())"
   ]
  },
  {
   "cell_type": "markdown",
   "metadata": {},
   "source": [
    "We will make use of the access to keys and values of a dictionary later in the case when comparing across numerous countries' estimates. For now, just remember that you can access a dictionary's full list of keys or values simply by calling built-in methods.\n",
    "\n",
    "We'd also like to check if a country name is one the keys in the dictionary. Python allows us to check if a key is in a dictionary through the use of the ```in``` keyword. The statement ```key in dictionary``` will return a <b>boolean type</b> of ```True``` if the key is one of the keys in the dictionary and ```False``` otherwise. Let's take a look at how this works."
   ]
  },
  {
   "cell_type": "code",
   "execution_count": 13,
   "metadata": {},
   "outputs": [
    {
     "name": "stdout",
     "output_type": "stream",
     "text": [
      "Checking if Morocco key is present:\n",
      "True\n",
      "Checking if Japan key is present:\n",
      "False\n"
     ]
    }
   ],
   "source": [
    "print('Checking if Morocco key is present:')\n",
    "print('Morocco' in success_estimates) # print the VALUE of \"Morocco in success_estimates\"\n",
    "\n",
    "print('Checking if Japan key is present:')\n",
    "japan_boolean = 'Japan' in success_estimates\n",
    "print(japan_boolean)"
   ]
  },
  {
   "cell_type": "markdown",
   "metadata": {},
   "source": [
    "We'd now like to access the value corresponding to a specific key in the ```success_estimates``` dictionary. Simply type the value name in square brackets adjacent to the dictionary name. For example, ```success_estimates['Jamaica']``` will return Jamaica's list of estimates:"
   ]
  },
  {
   "cell_type": "code",
   "execution_count": 14,
   "metadata": {},
   "outputs": [
    {
     "data": {
      "text/plain": [
       "[0.61, 0.65, 0.71]"
      ]
     },
     "execution_count": 14,
     "metadata": {},
     "output_type": "execute_result"
    }
   ],
   "source": [
    "success_estimates['Jamaica'] "
   ]
  },
  {
   "cell_type": "markdown",
   "metadata": {},
   "source": [
    "If you would like to store the result in a variable to be used later, use the assignment operator ```'='```:"
   ]
  },
  {
   "cell_type": "code",
   "execution_count": 15,
   "metadata": {},
   "outputs": [],
   "source": [
    "jamaica_list = success_estimates['Jamaica'] "
   ]
  },
  {
   "cell_type": "markdown",
   "metadata": {},
   "source": [
    "You can then view the contents of the list via the ```print()``` method:"
   ]
  },
  {
   "cell_type": "code",
   "execution_count": 16,
   "metadata": {},
   "outputs": [
    {
     "name": "stdout",
     "output_type": "stream",
     "text": [
      "[0.61, 0.65, 0.71]\n"
     ]
    }
   ],
   "source": [
    "print(jamaica_list)"
   ]
  },
  {
   "cell_type": "markdown",
   "metadata": {},
   "source": [
    "To access specific items in a dictionary, we used the **key name**. For example, we used `success_estimates['Jamaica']` to access the data about Jamaica. By contrast, to access specific elements in a list, we use an **index**, stating whether we want to access the first element, the second element, etc. Python uses **zero-based indexing**, which can be confusing at the start. This means that the first item in the list has index `0`, the second item has index `1`, and so on.\n",
    "\n",
    "We can access each of the first three items in the `jamaica_list` variable as follows:"
   ]
  },
  {
   "cell_type": "code",
   "execution_count": 17,
   "metadata": {},
   "outputs": [
    {
     "name": "stdout",
     "output_type": "stream",
     "text": [
      "0.61\n",
      "0.65\n",
      "0.71\n"
     ]
    }
   ],
   "source": [
    "# Each successive print statement will print on a new line\n",
    "print(jamaica_list[0]) # prints the first element of the list\n",
    "print(jamaica_list[1]) # prints the second element of the list\n",
    "print(jamaica_list[2]) # prints the third element of the list"
   ]
  },
  {
   "cell_type": "markdown",
   "metadata": {},
   "source": [
    "[Slicing and indexing lists](https://railsware.com/blog/python-for-machine-learning-indexing-and-slicing-for-lists-tuples-strings-and-other-sequential-types/) (among other objects such as arrays, dataframes) is a crucial and essential part of basic Python. You will see this often in your data science career. Instead of accessing a single item in the list, we can access sublists of the list as follows."
   ]
  },
  {
   "cell_type": "code",
   "execution_count": 18,
   "metadata": {},
   "outputs": [
    {
     "name": "stdout",
     "output_type": "stream",
     "text": [
      "[0.65, 0.71]\n",
      "[0.65, 0.71]\n"
     ]
    }
   ],
   "source": [
    "# taking the last 2 elements of jamaica_list\n",
    "print(jamaica_list[-2:])  # (go from the second last element until the end)\n",
    "print(jamaica_list[1:])  # (go from the secon d element until the end)"
   ]
  },
  {
   "cell_type": "code",
   "execution_count": 19,
   "metadata": {},
   "outputs": [
    {
     "name": "stdout",
     "output_type": "stream",
     "text": [
      "0.61\n"
     ]
    }
   ],
   "source": [
    "# multi-layered slicing\n",
    "print(success_estimates['Jamaica'][0]) # getting the first jamaican estimate from the dictionary"
   ]
  },
  {
   "cell_type": "markdown",
   "metadata": {},
   "source": [
    "Above, we do both in a single line of code. In most cases, Python operates from left to right, so it will first get the \"Jamaica\" item from the dictionary, and then get the first (zeroth) item from that list."
   ]
  },
  {
   "cell_type": "markdown",
   "metadata": {},
   "source": [
    "Python also offers a simple way to determine the length of a list: the ```len()``` method. We expect the length of ```jamaica_list``` to be 3 since it has three elements:"
   ]
  },
  {
   "cell_type": "code",
   "execution_count": 20,
   "metadata": {
    "scrolled": true
   },
   "outputs": [
    {
     "data": {
      "text/plain": [
       "3"
      ]
     },
     "execution_count": 20,
     "metadata": {},
     "output_type": "execute_result"
    }
   ],
   "source": [
    "len(jamaica_list) # returns the length of the list"
   ]
  },
  {
   "cell_type": "markdown",
   "metadata": {},
   "source": [
    "### Exercise 1:\n",
    "\n",
    "Print the length of the success estimate lists for France, Greece, and Morocco."
   ]
  },
  {
   "cell_type": "markdown",
   "metadata": {},
   "source": [
    "**Answer.**"
   ]
  },
  {
   "cell_type": "code",
   "execution_count": 21,
   "metadata": {},
   "outputs": [
    {
     "name": "stdout",
     "output_type": "stream",
     "text": [
      "4\n",
      "6\n",
      "1\n"
     ]
    }
   ],
   "source": [
    "#Code in this cell.\n",
    "print(len(success_estimates[\"France\"]))\n",
    "print(len(success_estimates[\"Greece\"]))\n",
    "print(len(success_estimates[\"Morocco\"]))\n"
   ]
  },
  {
   "cell_type": "markdown",
   "metadata": {},
   "source": [
    "### Exercise 2:\n",
    "\n",
    "Which of the following would be useful to store project success estimates if they were available at a regional level instead of a country level?\n",
    "\n",
    "(a) List\n",
    "\n",
    "(b) Dictionary\n",
    "\n",
    "(c) Float\n",
    "\n",
    "(d) String\n",
    "\n",
    "**Answer.**\n",
    "\n",
    "b"
   ]
  },
  {
   "cell_type": "markdown",
   "metadata": {},
   "source": [
    "_____"
   ]
  },
  {
   "cell_type": "markdown",
   "metadata": {},
   "source": [
    "Now that we're familiar with using lists and know that lists are ordered data structures while dictionaries are unordered data structures, let's begin to compare success estimates across countries."
   ]
  },
  {
   "cell_type": "markdown",
   "metadata": {},
   "source": [
    "## Calculating a country-specific average success estimate"
   ]
  },
  {
   "cell_type": "markdown",
   "metadata": {},
   "source": [
    "Continuing our analysis on Jamaica, the list contains three numbers, [0.61, 0.65, 0.71]. Recall these numbers are of type ```float``` in Python, which stores numeric decimal values. One logical way to summarize these estimates so that they can be compared across countries is to use the arithmetic average. Let's use basic arithmetic operators to calculate the average success estimate for Jamaica, storing the result in a new variable ```avg_jamaica```."
   ]
  },
  {
   "cell_type": "code",
   "execution_count": 22,
   "metadata": {},
   "outputs": [
    {
     "name": "stdout",
     "output_type": "stream",
     "text": [
      "0.6566666666666666\n"
     ]
    }
   ],
   "source": [
    "avg_jamaica = (0.61 + 0.65 + 0.71) / 3\n",
    "print(avg_jamaica)"
   ]
  },
  {
   "cell_type": "markdown",
   "metadata": {},
   "source": [
    "We see the average probability of success estimate for Jamaica is approximately 0.657.  However, we produced this estimate by hand-coding the values. If we were to do this for every country, it would take quite a long time. So we'd like to use a more automated way of producing the average."
   ]
  },
  {
   "cell_type": "markdown",
   "metadata": {},
   "source": [
    "To produce an average we can utilize a <b>function</b>. Functions operate on data and variables in Python to perform a desired action. Functions may have both <b>inputs</b> and <b>outputs</b>, just like familiar mathematical operators like addition, subtraction, multiplication, and division (which each have two inputs and one output). While functions in Python may still be for a mathematical purpose, such as squaring an integer, Python allows for more abstract function behaviour, such as printing to the screen. In this case, the ```print()``` function will print its input to the screen."
   ]
  },
  {
   "cell_type": "markdown",
   "metadata": {},
   "source": [
    "Let's use Python's built-in mathematical functions ```sum()```, ```min()```, and ```max()``` to calculate Jamaica's average success estimate, minimum success estimate, and maximum success estimate, respectively:"
   ]
  },
  {
   "cell_type": "code",
   "execution_count": 23,
   "metadata": {
    "scrolled": true
   },
   "outputs": [
    {
     "name": "stdout",
     "output_type": "stream",
     "text": [
      "[0.61, 0.65, 0.71]\n"
     ]
    }
   ],
   "source": [
    "country_name = 'Jamaica'\n",
    "jamaica_list = success_estimates[country_name] # list of the estimates for Jamaica\n",
    "print(jamaica_list)"
   ]
  },
  {
   "cell_type": "code",
   "execution_count": 24,
   "metadata": {},
   "outputs": [
    {
     "name": "stdout",
     "output_type": "stream",
     "text": [
      "Country: Jamaica , Average: 0.6566666666666666\n",
      "Country: Jamaica , Min: 0.61\n",
      "Country: Jamaica , Max: 0.71\n"
     ]
    }
   ],
   "source": [
    "avg_jamaica = sum(jamaica_list) / len(jamaica_list)\n",
    "min_jamaica = min(jamaica_list)\n",
    "max_jamaica = max(jamaica_list)\n",
    "print(\"Country:\",country_name,\", Average:\",avg_jamaica)\n",
    "print(\"Country:\",country_name,\", Min:\",min_jamaica)\n",
    "print(\"Country:\",country_name,\", Max:\",max_jamaica)"
   ]
  },
  {
   "cell_type": "markdown",
   "metadata": {},
   "source": [
    "Above, note how we pass the entire `jamaica_list` as input to the `min()` function. The output is then immediately assigned to a new variable which we have called `min_jamaica`. Also, note how we can pass more than one argument to the `print()` function, separating them with commas. This allows us to combine dynamic (variable) data with fixed descriptive strings to get readable outputs. We'll come across better ways to combine variable data into strings later on."
   ]
  },
  {
   "cell_type": "markdown",
   "metadata": {},
   "source": [
    "As expected, we get the same average result of approximately 0.657. Note that we could also have rounded the results to two decimal places using the [round()](https://www.w3schools.com/python/ref_func_round.asp) method. This can improve readability."
   ]
  },
  {
   "cell_type": "code",
   "execution_count": 29,
   "metadata": {},
   "outputs": [
    {
     "name": "stdout",
     "output_type": "stream",
     "text": [
      "Country: Jamaica , Average: 0.66\n",
      "Country: Jamaica , Min: 0.61\n",
      "Country: Jamaica , Max: 0.71\n"
     ]
    }
   ],
   "source": [
    "avg_jamaica = round(sum(jamaica_list) / len(jamaica_list),2)\n",
    "min_jamaica = round(min(jamaica_list),2)\n",
    "max_jamaica = round(max(jamaica_list),2)\n",
    "print(\"Country:\",country_name,\", Average:\",avg_jamaica)\n",
    "print(\"Country:\",country_name,\", Min:\",min_jamaica)\n",
    "print(\"Country:\",country_name,\", Max:\",max_jamaica)"
   ]
  },
  {
   "cell_type": "markdown",
   "metadata": {},
   "source": [
    "Functions in Python are a very powerful tool to increase productivity and perform more complex tasks."
   ]
  },
  {
   "cell_type": "markdown",
   "metadata": {},
   "source": [
    "### Exercise 3:\n",
    "\n",
    "Write a script to calculate the average success for every country. Output (using ```print()```) each country's average success estimate to the screen. The print statements should output each country on a new line, for example:\n",
    "```\n",
    "Country: France , Average: 0.655\n",
    "Country: Brazil , Average: 0.29\n",
    "```"
   ]
  },
  {
   "cell_type": "markdown",
   "metadata": {},
   "source": [
    "**Answer.**"
   ]
  },
  {
   "cell_type": "code",
   "execution_count": 51,
   "metadata": {},
   "outputs": [
    {
     "name": "stdout",
     "output_type": "stream",
     "text": [
      "Country: Australia, Average: 0.3\n",
      "Country: France, Average: 0.66\n",
      "Country: Italy, Average: 0.6\n",
      "Country: Brazil, Average: 0.29\n",
      "Country: USA, Average: 0.33\n",
      "Country: England, Average: 0.45\n",
      "Country: Canada, Average: 0.28\n",
      "Country: Argentina, Average: 0.22\n",
      "Country: Greece, Average: 0.61\n",
      "Country: Morocco, Average: 0.29\n",
      "Country: Tunisia, Average: 0.62\n",
      "Country: Egypt, Average: 0.99\n",
      "Country: Jamaica, Average: 0.66\n",
      "Country: Switzerland, Average: 0.79\n",
      "Country: Germany, Average: 0.43\n"
     ]
    }
   ],
   "source": [
    "#Code in this cell.\n",
    "result = ((label, sum(items)/len(items)) for label, items in success_estimates.items())\n",
    "# result\n",
    "print(*map(lambda x: \"Country: {}, Average: {}\".format(x[0],round(x[1],2)), result), sep=\"\\n\",)"
   ]
  },
  {
   "cell_type": "markdown",
   "metadata": {},
   "source": [
    "## Systematically determine the average success estimate for all of the countries"
   ]
  },
  {
   "cell_type": "markdown",
   "metadata": {},
   "source": [
    "The end goal of this analysis is a recommendation for where global expansion opportunities should be considered. To reach a conclusion, it'd be ideal to have the average success probability for each country.\n",
    "\n",
    "To achieve this, we will use a control flow element in Python -  the [for loop](https://www.w3schools.com/python/python_for_loops.asp).  The `for` loop allows one to execute the same statements over and over again (i.e. looping). This saves a significant amount of time coding repetitive tasks and aids in code readability.  The general structure of a `for` loop is:\n",
    "\n",
    "```python\n",
    "for iterator_variable in some_sequence:\n",
    "    statements(s)\n",
    "```\n",
    "\n",
    "The `for` loop iterates over ```some_sequence``` and performs ```statements(s)``` at each iteration. That is, at each iteration the ```iterator_variable```  is updated to the next value in ```some_sequence```. As a concrete example, consider the loop:\n",
    "\n",
    "```python\n",
    "for i in [1,2,3,4]:\n",
    "    print(i*i)\n",
    "```\n",
    "\n",
    "Here, the `for` loop will print to the screen four times; that is it will print ```1``` on the first iteration of the loop, ```4``` on the second iteration, ```9``` on the third, and ```16``` on the fourth. Hence, the `for` loop statement will iterate over all the elements of the list ```[1,2,3,4]```, and at each iteration it updates the iterator variable ```i``` to the next value in the list ```[1,2,3,4]```. In `for` loops, it is an extremely good habit to choose an iterator variable that provides context rather than a random letter. In this case, we will use both to get you accustomed to both since you will mostly likely see both throughout the course of your data science career, but we encourage you to not use a generic name like `i` whenever possible for ease of communication.\n",
    "\n",
    "Let's use a `for` loop on our country data by getting a list of all the keys in ```success_estimates```:"
   ]
  },
  {
   "cell_type": "code",
   "execution_count": 34,
   "metadata": {},
   "outputs": [
    {
     "name": "stdout",
     "output_type": "stream",
     "text": [
      "['Australia', 'France', 'Italy', 'Brazil', 'USA', 'England', 'Canada', 'Argentina', 'Greece', 'Morocco', 'Tunisia', 'Egypt', 'Jamaica', 'Switzerland', 'Germany']\n"
     ]
    }
   ],
   "source": [
    "# Get all the keys from the success_estimates dictionary\n",
    "country_name_list = list(success_estimates.keys())\n",
    "print(country_name_list)"
   ]
  },
  {
   "cell_type": "markdown",
   "metadata": {},
   "source": [
    "Here we loop through all the elements in ```country_name_list```, extract the corresponding value from ```success_estimates``` (which will be of type list), and subsequently take the mean of the list. Detailed printing will guide you through the `for` loop execution:"
   ]
  },
  {
   "cell_type": "code",
   "execution_count": 52,
   "metadata": {
    "scrolled": true
   },
   "outputs": [
    {
     "name": "stdout",
     "output_type": "stream",
     "text": [
      "--Begin one iteration of loop--\n",
      "Element of country_name_list, placeholder i = Australia\n",
      "Access value from dict success_estimates[i]:  [0.6, 0.33, 0.11, 0.14]\n",
      "Average of list from success_estimates[i]:  0.29500000000000004\n",
      "--Go to next iteration of loop--\n",
      "\n",
      "--Begin one iteration of loop--\n",
      "Element of country_name_list, placeholder i = France\n",
      "Access value from dict success_estimates[i]:  [0.66, 0.78, 0.98, 0.2]\n",
      "Average of list from success_estimates[i]:  0.655\n",
      "--Go to next iteration of loop--\n",
      "\n",
      "--Begin one iteration of loop--\n",
      "Element of country_name_list, placeholder i = Italy\n",
      "Access value from dict success_estimates[i]:  [0.6]\n",
      "Average of list from success_estimates[i]:  0.6\n",
      "--Go to next iteration of loop--\n",
      "\n",
      "--Begin one iteration of loop--\n",
      "Element of country_name_list, placeholder i = Brazil\n",
      "Access value from dict success_estimates[i]:  [0.22, 0.22, 0.43]\n",
      "Average of list from success_estimates[i]:  0.29\n",
      "--Go to next iteration of loop--\n",
      "\n",
      "--Begin one iteration of loop--\n",
      "Element of country_name_list, placeholder i = USA\n",
      "Access value from dict success_estimates[i]:  [0.2, 0.5, 0.3]\n",
      "Average of list from success_estimates[i]:  0.3333333333333333\n",
      "--Go to next iteration of loop--\n",
      "\n",
      "--Begin one iteration of loop--\n",
      "Element of country_name_list, placeholder i = England\n",
      "Access value from dict success_estimates[i]:  [0.45]\n",
      "Average of list from success_estimates[i]:  0.45\n",
      "--Go to next iteration of loop--\n",
      "\n",
      "--Begin one iteration of loop--\n",
      "Element of country_name_list, placeholder i = Canada\n",
      "Access value from dict success_estimates[i]:  [0.25, 0.3]\n",
      "Average of list from success_estimates[i]:  0.275\n",
      "--Go to next iteration of loop--\n",
      "\n",
      "--Begin one iteration of loop--\n",
      "Element of country_name_list, placeholder i = Argentina\n",
      "Access value from dict success_estimates[i]:  [0.22]\n",
      "Average of list from success_estimates[i]:  0.22\n",
      "--Go to next iteration of loop--\n",
      "\n",
      "--Begin one iteration of loop--\n",
      "Element of country_name_list, placeholder i = Greece\n",
      "Access value from dict success_estimates[i]:  [0.45, 0.66, 0.75, 0.99, 0.15, 0.66]\n",
      "Average of list from success_estimates[i]:  0.61\n",
      "--Go to next iteration of loop--\n",
      "\n",
      "--Begin one iteration of loop--\n",
      "Element of country_name_list, placeholder i = Morocco\n",
      "Access value from dict success_estimates[i]:  [0.29]\n",
      "Average of list from success_estimates[i]:  0.29\n",
      "--Go to next iteration of loop--\n",
      "\n",
      "--Begin one iteration of loop--\n",
      "Element of country_name_list, placeholder i = Tunisia\n",
      "Access value from dict success_estimates[i]:  [0.68, 0.56]\n",
      "Average of list from success_estimates[i]:  0.6200000000000001\n",
      "--Go to next iteration of loop--\n",
      "\n",
      "--Begin one iteration of loop--\n",
      "Element of country_name_list, placeholder i = Egypt\n",
      "Access value from dict success_estimates[i]:  [0.99]\n",
      "Average of list from success_estimates[i]:  0.99\n",
      "--Go to next iteration of loop--\n",
      "\n",
      "--Begin one iteration of loop--\n",
      "Element of country_name_list, placeholder i = Jamaica\n",
      "Access value from dict success_estimates[i]:  [0.61, 0.65, 0.71]\n",
      "Average of list from success_estimates[i]:  0.6566666666666666\n",
      "--Go to next iteration of loop--\n",
      "\n",
      "--Begin one iteration of loop--\n",
      "Element of country_name_list, placeholder i = Switzerland\n",
      "Access value from dict success_estimates[i]:  [0.73, 0.86, 0.84, 0.51, 0.99]\n",
      "Average of list from success_estimates[i]:  0.7859999999999999\n",
      "--Go to next iteration of loop--\n",
      "\n",
      "--Begin one iteration of loop--\n",
      "Element of country_name_list, placeholder i = Germany\n",
      "Access value from dict success_estimates[i]:  [0.45, 0.49, 0.36]\n",
      "Average of list from success_estimates[i]:  0.4333333333333333\n",
      "--Go to next iteration of loop--\n",
      "\n"
     ]
    }
   ],
   "source": [
    "# Loop through all countries and calculate their mean success estimate\n",
    "for i in country_name_list:\n",
    "    print('--Begin one iteration of loop--')\n",
    "    print('Element of country_name_list, placeholder i = ' + i)\n",
    "    print('Access value from dict success_estimates[i]: ', success_estimates[i])\n",
    "    print('Average of list from success_estimates[i]: ', sum(success_estimates[i]) / len(success_estimates[i]))\n",
    "    print('--Go to next iteration of loop--')\n",
    "    print()"
   ]
  },
  {
   "cell_type": "markdown",
   "metadata": {},
   "source": [
    "Let's take a closer look at the above ```for``` loop. The ```country_name_list``` has 15 countries which the ```for``` loop is iterating over. The ```for``` loop uses a placeholder variable, denoted ```i``` in this case, to store the element of ```country_name_list``` that each loop iteration corresponds to. Namely, for the first iteration of the ```for``` loop, ```i = 'Brazil'```. For the second iteration, ```i = 'Canada'```. And so on until the loop reaches the final element of ```country_name_list```, which it then completes and exits the looping process.\n",
    "\n",
    "Why is this looping process useful? Well, we've performed the same calculation statements 15 times while only writing the code once! Notice that for each iteration, the corresponding value from ```success_estimates``` is accessed, and the mean of the returned list is calculated. The ```for``` loop process also enhances code readability."
   ]
  },
  {
   "cell_type": "markdown",
   "metadata": {},
   "source": [
    "### Exercise 4:\n",
    "\n",
    "Write a `for` loop to instead calculate the minimum and maximum of each country's list of success estimates, printing each out consecutively as in the `for` loop example above."
   ]
  },
  {
   "cell_type": "markdown",
   "metadata": {},
   "source": [
    "**Answer.**"
   ]
  },
  {
   "cell_type": "code",
   "execution_count": 57,
   "metadata": {},
   "outputs": [
    {
     "name": "stdout",
     "output_type": "stream",
     "text": [
      "Country: Australia, Min: 0.11, Max:0.6 \n",
      "Country: France, Min: 0.2, Max:0.98 \n",
      "Country: Italy, Min: 0.6, Max:0.6 \n",
      "Country: Brazil, Min: 0.22, Max:0.43 \n",
      "Country: USA, Min: 0.2, Max:0.5 \n",
      "Country: England, Min: 0.45, Max:0.45 \n",
      "Country: Canada, Min: 0.25, Max:0.3 \n",
      "Country: Argentina, Min: 0.22, Max:0.22 \n",
      "Country: Greece, Min: 0.15, Max:0.99 \n",
      "Country: Morocco, Min: 0.29, Max:0.29 \n",
      "Country: Tunisia, Min: 0.56, Max:0.68 \n",
      "Country: Egypt, Min: 0.99, Max:0.99 \n",
      "Country: Jamaica, Min: 0.61, Max:0.71 \n",
      "Country: Switzerland, Min: 0.51, Max:0.99 \n",
      "Country: Germany, Min: 0.36, Max:0.49 \n"
     ]
    }
   ],
   "source": [
    "for i in country_name_list:\n",
    "    print('Country: {}, Min: {}, Max:{} '.format(i, min(success_estimates[i]), max(success_estimates[i])) )"
   ]
  },
  {
   "cell_type": "markdown",
   "metadata": {},
   "source": [
    "### Exercise 5:\n",
    "\n",
    "Using the `for` loop, write code to determine the country with the largest range of success estimates (that is, the largest difference between the smallest and largest estimate for a country)."
   ]
  },
  {
   "cell_type": "markdown",
   "metadata": {},
   "source": [
    "**Answer.**"
   ]
  },
  {
   "cell_type": "code",
   "execution_count": 67,
   "metadata": {},
   "outputs": [
    {
     "data": {
      "text/plain": [
       "('Greece', 0.84)"
      ]
     },
     "execution_count": 67,
     "metadata": {},
     "output_type": "execute_result"
    }
   ],
   "source": [
    "ranges = [(label, (max(items)-min(items))) for label, items in success_estimates.items()]\n",
    "\n",
    "sorted(ranges, key=lambda x: x[1], reverse=True)[0]"
   ]
  },
  {
   "cell_type": "markdown",
   "metadata": {},
   "source": [
    "## Using list comprehensions to determine the number of estimates"
   ]
  },
  {
   "cell_type": "markdown",
   "metadata": {},
   "source": [
    "Moving forward, we are interested in knowing the number of success estimates available for each country. Python offers a concise way to achieve this goal through the use of <b>list comprehensions</b>. Every list comprehension can also be rewritten as a `for` loop. The list comprehension syntax is simply more concise.\n",
    "\n",
    "[List comprehensions](https://www.programiz.com/python-programming/list-comprehension) allow one to concisely build a list. Let's take a look at how this works:"
   ]
  },
  {
   "cell_type": "code",
   "execution_count": 68,
   "metadata": {
    "scrolled": true
   },
   "outputs": [
    {
     "data": {
      "text/plain": [
       "['Australia',\n",
       " 'France',\n",
       " 'Italy',\n",
       " 'Brazil',\n",
       " 'USA',\n",
       " 'England',\n",
       " 'Canada',\n",
       " 'Argentina',\n",
       " 'Greece',\n",
       " 'Morocco',\n",
       " 'Tunisia',\n",
       " 'Egypt',\n",
       " 'Jamaica',\n",
       " 'Switzerland',\n",
       " 'Germany']"
      ]
     },
     "execution_count": 68,
     "metadata": {},
     "output_type": "execute_result"
    }
   ],
   "source": [
    "key_name_list = [i for i in success_estimates] # loop over each item i in success_estimates and put i in the list\n",
    "key_name_list"
   ]
  },
  {
   "cell_type": "markdown",
   "metadata": {},
   "source": [
    "Here we see that we've looped over each key of the dictionary `success_estimates` (hence each country), and extracted the country name, all in one line of code. We can also access the values of each key in `success_estimates`:"
   ]
  },
  {
   "cell_type": "code",
   "execution_count": 69,
   "metadata": {
    "collapsed": true
   },
   "outputs": [
    {
     "data": {
      "text/plain": [
       "[[0.6, 0.33, 0.11, 0.14],\n",
       " [0.66, 0.78, 0.98, 0.2],\n",
       " [0.6],\n",
       " [0.22, 0.22, 0.43],\n",
       " [0.2, 0.5, 0.3],\n",
       " [0.45],\n",
       " [0.25, 0.3],\n",
       " [0.22],\n",
       " [0.45, 0.66, 0.75, 0.99, 0.15, 0.66],\n",
       " [0.29],\n",
       " [0.68, 0.56],\n",
       " [0.99],\n",
       " [0.61, 0.65, 0.71],\n",
       " [0.73, 0.86, 0.84, 0.51, 0.99],\n",
       " [0.45, 0.49, 0.36]]"
      ]
     },
     "execution_count": 69,
     "metadata": {},
     "output_type": "execute_result"
    }
   ],
   "source": [
    "value_name_list = [success_estimates[country] for country in success_estimates] # loop over each item in success_estimates and put success_estimates[i] in the list\n",
    "value_name_list"
   ]
  },
  {
   "cell_type": "markdown",
   "metadata": {},
   "source": [
    "In the list comprehension above, each value of the ```iterator_variable``` is a country name and the value is returned when ```success_estimates[country]``` is called. We see the list comprehension is an effective and concise way to write a `for` loop that creates a list.\n",
    "\n",
    "We can use this to quickly determine how many success estimates are available for each country:"
   ]
  },
  {
   "cell_type": "code",
   "execution_count": null,
   "metadata": {},
   "outputs": [],
   "source": [
    "# Number of estimates available for each country\n",
    "[[i, len(success_estimates[i])] for i in success_estimates]"
   ]
  },
  {
   "cell_type": "markdown",
   "metadata": {},
   "source": [
    "### Exercise 6:"
   ]
  },
  {
   "cell_type": "markdown",
   "metadata": {},
   "source": [
    "Using list comprehensions, write a script to create a <b>list of lists</b> called ```sum_squares_list```, where each element of the list is a two-item list [country name, value]. The value item in the list should be the sum of squares of that country's success estimates. For example, one element of ```sum_squares_list``` should be for Jamaica, where the two-item list is [Jamaica, 1.2987] (since 1.2987 = 0.61^2 + 0.65^2 + 0.71^2)."
   ]
  },
  {
   "cell_type": "markdown",
   "metadata": {},
   "source": [
    "**Answer.**"
   ]
  },
  {
   "cell_type": "code",
   "execution_count": 129,
   "metadata": {
    "scrolled": true
   },
   "outputs": [
    {
     "data": {
      "text/plain": [
       "[['Australia', 0.5005999999999999],\n",
       " ['France', 2.0444],\n",
       " ['Italy', 0.36],\n",
       " ['Brazil', 0.28169999999999995],\n",
       " ['USA', 0.38],\n",
       " ['England', 0.2025],\n",
       " ['Canada', 0.1525],\n",
       " ['Argentina', 0.0484],\n",
       " ['Greece', 2.6388],\n",
       " ['Morocco', 0.0841],\n",
       " ['Tunisia', 0.7760000000000001],\n",
       " ['Egypt', 0.9801],\n",
       " ['Jamaica', 1.2987],\n",
       " ['Switzerland', 3.2183],\n",
       " ['Germany', 0.5722]]"
      ]
     },
     "execution_count": 129,
     "metadata": {},
     "output_type": "execute_result"
    }
   ],
   "source": [
    "#Code in this cell.\n",
    "[[label,sum([x**2 for x in items])] for label, items in success_estimates.items()]"
   ]
  },
  {
   "cell_type": "markdown",
   "metadata": {},
   "source": [
    "### Exercise 7:\n",
    "\n",
    "We'd like to determine the spread around the mean success estimate for each country. Using list comprehensions, write a script that subtracts the mean success estimate for a given country from each success estimate for that country. Store the results in a list named ```removed_mean_list```. Round values to two decimal places. Your output should produce the following list of lists:\n",
    "\n",
    "```\n",
    "[['Australia', [0.3, 0.03, -0.19, -0.16]],\n",
    " ['France', [0.01, 0.12, 0.32, -0.46]],\n",
    " ['Italy', [0.0]],\n",
    " ['Brazil', [-0.07, -0.07, 0.14]],\n",
    " ['USA', [-0.13, 0.17, -0.03]],\n",
    " ['England', [0.0]],\n",
    " ['Canada', [-0.03, 0.02]],\n",
    " ['Argentina', [0.0]],\n",
    " ['Greece', [-0.16, 0.05, 0.14, 0.38, -0.46, 0.05]],\n",
    " ['Morocco', [0.0]],\n",
    " ['Tunisia', [0.06, -0.06]],\n",
    " ['Egypt', [0.0]],\n",
    " ['Jamaica', [-0.05, -0.01, 0.05]],\n",
    " ['Switzerland', [-0.06, 0.07, 0.05, -0.28, 0.2]],\n",
    " ['Germany', [0.02, 0.06, -0.07]]]\n",
    "```"
   ]
  },
  {
   "cell_type": "markdown",
   "metadata": {},
   "source": [
    "**Answer.**"
   ]
  },
  {
   "cell_type": "code",
   "execution_count": 80,
   "metadata": {
    "scrolled": true
   },
   "outputs": [
    {
     "data": {
      "text/plain": [
       "[['Australia', [0.3, 0.03, -0.19, -0.16]],\n",
       " ['France', [0.01, 0.12, 0.32, -0.46]],\n",
       " ['Italy', [0.0]],\n",
       " ['Brazil', [-0.07, -0.07, 0.14]],\n",
       " ['USA', [-0.13, 0.17, -0.03]],\n",
       " ['England', [0.0]],\n",
       " ['Canada', [-0.03, 0.02]],\n",
       " ['Argentina', [0.0]],\n",
       " ['Greece', [-0.16, 0.05, 0.14, 0.38, -0.46, 0.05]],\n",
       " ['Morocco', [0.0]],\n",
       " ['Tunisia', [0.06, -0.06]],\n",
       " ['Egypt', [0.0]],\n",
       " ['Jamaica', [-0.05, -0.01, 0.05]],\n",
       " ['Switzerland', [-0.06, 0.07, 0.05, -0.28, 0.2]],\n",
       " ['Germany', [0.02, 0.06, -0.07]]]"
      ]
     },
     "execution_count": 80,
     "metadata": {},
     "output_type": "execute_result"
    }
   ],
   "source": [
    "[ [label, list(map(lambda x: round(x - sum(items)/len(items),2),items))] \n",
    " for label, items in success_estimates.items()]"
   ]
  },
  {
   "cell_type": "markdown",
   "metadata": {},
   "source": [
    "As list comprehension gets more complicated, it becomes more and more important to use proper naming conventions for variables. Good naming conventions dramatically improve the readability of your code."
   ]
  },
  {
   "cell_type": "markdown",
   "metadata": {},
   "source": [
    "## Reflecting on the country-specific mean success estimate"
   ]
  },
  {
   "cell_type": "markdown",
   "metadata": {},
   "source": [
    "Based on the above analysis, we see the mean country success estimates vary widely, from the lowest, Canada = 0.275, to the highest, Egypt = 0.99. However, notice that Egypt's mean is calculated from 1 success estimate. Are we confident in trusting a single estimate as a proxy for the average success estimate?\n",
    "\n",
    "Given that the global expansion project will utilize valuable company resources, we decide it is best to restrict our analysis to countries that have two or more success estimates. To accomplish this task, we will use a control structure in Python known as the <b>[if...elif...else statement](https://www.w3schools.com/python/python_conditions.asp)</b>. The general structure follows:\n",
    "\n",
    "```python\n",
    "if test_expression_1:\n",
    "    block1_statement(s)\n",
    "elif test_expression_2:\n",
    "    block2_statement2(s)\n",
    "else:\n",
    "    block3_statement(s)\n",
    "```\n",
    "\n",
    "Here, ```test_expression_1``` and ```test_expression_2``` must evaluate to ```True``` or ```False```, a Python <b>boolean</b> type. The boolean type is associated with variables that are either ```True``` or ```False```.\n",
    "\n",
    "If ```test_expression_1``` is True, ```block1_statement(s)``` will execute and the other block statements will not. If ```test_expression_1``` is False yet ```test_expression_2``` is True, then ```block2_statement2(s)``` will execute and the others will not. Finally, if ```test_expression_1``` and ```test_expression_2``` are both False, then the else section's ```block3_statement(s)``` will execute. This conditional structure of an if statement allows one to control the flow of Python code.\n",
    "    \n",
    "The `elif` and `else` blocks are optional. You can also have a plain `if` block that simply executes some lines of code or skips them, depending on the evaluation of the conditional. As an example, let's look at only two countries from our dataset: Italy and Jamaica:"
   ]
  },
  {
   "cell_type": "code",
   "execution_count": 84,
   "metadata": {},
   "outputs": [
    {
     "name": "stdout",
     "output_type": "stream",
     "text": [
      "False\n",
      "True\n"
     ]
    }
   ],
   "source": [
    "italy = success_estimates['Italy']\n",
    "jamaica = success_estimates['Jamaica']\n",
    "\n",
    "print(len(italy) > 1)\n",
    "print(len(jamaica) > 1)"
   ]
  },
  {
   "cell_type": "markdown",
   "metadata": {},
   "source": [
    "Above, we used the greater than operator `>` to compare two numbers and produce a boolean (the simplest Python data type - always either True or False). In the first case, we got False because the length of the `italy` list is **not** larger than 1. Put differently, it is not True that 1 > 1, so we get False. By contrast, Jamaica has 3 items, so the evaluation simplifies to `3 > 1` which is True, so on the second line above we see the output `True`.\n",
    "\n",
    "We can combine these expressions with `if` statements to control the flow of our code. An example is shown below:"
   ]
  },
  {
   "cell_type": "code",
   "execution_count": 85,
   "metadata": {},
   "outputs": [
    {
     "name": "stdout",
     "output_type": "stream",
     "text": [
      "Jamaica has more than 1 estimate\n"
     ]
    }
   ],
   "source": [
    "if len(italy) > 1:\n",
    "    print(\"Italy has more than 1 estimate\")\n",
    "\n",
    "if len(jamaica) > 1:\n",
    "    print(\"Jamaica has more than 1 estimate\")"
   ]
  },
  {
   "cell_type": "markdown",
   "metadata": {},
   "source": [
    "Above, we can see that the second line of code got skipped. It was never executed and we see no output for the statement that is \"gated off\" there.\n",
    "    \n",
    "The above shows two separate `if` blocks. Note that there is a difference between having two separate `if` blocks and an `if else` block, as shown below:"
   ]
  },
  {
   "cell_type": "code",
   "execution_count": 86,
   "metadata": {},
   "outputs": [
    {
     "name": "stdout",
     "output_type": "stream",
     "text": [
      "Italy has more than 0 estimates\n"
     ]
    }
   ],
   "source": [
    "# **Incorrect logic warning**\n",
    "if len(italy) > 0:\n",
    "    print(\"Italy has more than 0 estimates\")\n",
    "elif len(jamaica) > 0:\n",
    "    print(\"Jamaica has more than 0 estimates\")\n",
    "else:\n",
    "    print(\"this will only execute if neither of the above lines do\")"
   ]
  },
  {
   "cell_type": "markdown",
   "metadata": {},
   "source": [
    "The example above shows how careful you have to be when coding. We use `0` instead of `1` as the minimum length of the list that we are interested in. Because the first statement evaluates to `True` (Italy *does* have more than zero estimates), Python skips the rest of the code without looking at it. Even though the next condition for Jamaica is _also_ true, because it is in an `elif` block it will never execute if any expression further above in the same block evaluated to True.\n",
    "   \n",
    "You'll see more advanced use of conditional logic using `if` later. For now, let's combine `if` statements with `for` loops to filter out all of the countries that only have one success estimate."
   ]
  },
  {
   "cell_type": "markdown",
   "metadata": {},
   "source": [
    "## Selecting only multi-observation countries for global expansion potential"
   ]
  },
  {
   "cell_type": "markdown",
   "metadata": {},
   "source": [
    "We will use the if statement above to remove countries with less than one success estimate. For convenience of viewing the result, we will store the mean estimates for each country in a new dictionary ```country_means```:"
   ]
  },
  {
   "cell_type": "code",
   "execution_count": 87,
   "metadata": {},
   "outputs": [
    {
     "name": "stdout",
     "output_type": "stream",
     "text": [
      "adding the mean for Australia\n",
      "adding the mean for France\n",
      "....skipping Italy\n",
      "adding the mean for Brazil\n",
      "adding the mean for USA\n",
      "....skipping England\n",
      "adding the mean for Canada\n",
      "....skipping Argentina\n",
      "adding the mean for Greece\n",
      "....skipping Morocco\n",
      "adding the mean for Tunisia\n",
      "....skipping Egypt\n",
      "adding the mean for Jamaica\n",
      "adding the mean for Switzerland\n",
      "adding the mean for Germany\n"
     ]
    }
   ],
   "source": [
    "# Get a list of all the country names\n",
    "country_name_list = list(success_estimates.keys())\n",
    "\n",
    "# Create an empty dictionary to hold country mean estimates\n",
    "country_means = {}\n",
    "\n",
    "# Loop through all countries and calculate their mean success estimate\n",
    "for i in country_name_list:\n",
    "    list_country_estimates = success_estimates[i] # list of estimates for a country\n",
    "\n",
    "    # if more than one country estimate, then record the mean estimate, otherwise go to next loop iteration\n",
    "    if len(success_estimates[i]) > 1:\n",
    "        print(\"adding the mean for\",i)\n",
    "        country_mean_value = sum(list_country_estimates) / len(list_country_estimates)\n",
    "        country_means[i] =  country_mean_value # insert country mean value into dict using country name as key\n",
    "    else:\n",
    "        print(\"....skipping\", i)"
   ]
  },
  {
   "cell_type": "markdown",
   "metadata": {},
   "source": [
    "Note that countries which do not have more than one estimate are skipped. Not only are the `print` lines ignored, but every line in the `if` block are also ignored, so the means for the countries with only one estimate are not added to `country_means`."
   ]
  },
  {
   "cell_type": "markdown",
   "metadata": {},
   "source": [
    "Let's format our results, [modifying the string output](https://www.geeksforgeeks.org/python-format-function/) to the screen to use 2 decimals when printing the float type. This is accomplished using the string type's ```.format()``` functionality. The ```{0:s}``` and ```{1:.2f}``` in the string indicate to the ```.format()``` method to format the first variable it receives as input as a string and replace the ```{0:s}``` placeholder, and to format the second variable it receives as input as a 2-decimal float and replace the ```{1:.2f}``` placeholder.\n",
    "\n",
    "With this formatting, the ```country_key``` variable will be displayed as a string in place of ```{0:s}```, while the ```country_means[country_key]``` variable will be displayed as a 2-decimal float in place of ```{1:.2f}```.  This advanced string formatting approach is useful to improve the clarity of the results:"
   ]
  },
  {
   "cell_type": "code",
   "execution_count": 90,
   "metadata": {
    "scrolled": true
   },
   "outputs": [
    {
     "name": "stdout",
     "output_type": "stream",
     "text": [
      "Country: Australia, Avg Success Estimate: 0.30\n",
      "Country: France, Avg Success Estimate: 0.66\n",
      "Country: Brazil, Avg Success Estimate: 0.29\n",
      "Country: USA, Avg Success Estimate: 0.33\n",
      "Country: Canada, Avg Success Estimate: 0.28\n",
      "Country: Greece, Avg Success Estimate: 0.61\n",
      "Country: Tunisia, Avg Success Estimate: 0.62\n",
      "Country: Jamaica, Avg Success Estimate: 0.66\n",
      "Country: Switzerland, Avg Success Estimate: 0.79\n",
      "Country: Germany, Avg Success Estimate: 0.43\n"
     ]
    }
   ],
   "source": [
    "# Nicely format the result for printing to the screen\n",
    "for country_key in country_means: \n",
    "    print(\"Country: {0:s}, Avg Success Estimate: {1:.2f}\".format(country_key, country_means[country_key]))"
   ]
  },
  {
   "cell_type": "markdown",
   "metadata": {},
   "source": [
    "Observing the resulting country means, we notice the country with the largest mean success estimate is Switzerland at 0.79, while the lowest mean success estimate is Canada at 0.28."
   ]
  },
  {
   "cell_type": "markdown",
   "metadata": {},
   "source": [
    "### Exercise 8:\n",
    "\n",
    "After reviewing company policy on statistical procedures, you notice the company recommends that all estimates (averages, minimums, maximums) must have at least three values contributing to the summary statistic. Write a `for` loop and use the ```if``` statement structure to select and print the average success estimates for the countries satisfying this policy. If the country does not satisfy the policy, print the country name and ``\"*Does not meet company policy*\"``. Each country should appear on a new line."
   ]
  },
  {
   "cell_type": "markdown",
   "metadata": {},
   "source": [
    "**Answer.**"
   ]
  },
  {
   "cell_type": "code",
   "execution_count": 96,
   "metadata": {},
   "outputs": [
    {
     "name": "stdout",
     "output_type": "stream",
     "text": [
      "Adding ... Australia\n",
      "Adding ... France\n",
      "*Italy Does not meet company policy*\n",
      "*Brazil Does not meet company policy*\n",
      "*USA Does not meet company policy*\n",
      "*England Does not meet company policy*\n",
      "*Canada Does not meet company policy*\n",
      "*Argentina Does not meet company policy*\n",
      "Adding ... Greece\n",
      "*Morocco Does not meet company policy*\n",
      "*Tunisia Does not meet company policy*\n",
      "*Egypt Does not meet company policy*\n",
      "*Jamaica Does not meet company policy*\n",
      "Adding ... Switzerland\n",
      "*Germany Does not meet company policy*\n",
      "\n",
      "Country: Australia, Avg Success Estimate: 0.30\n",
      "Country: France, Avg Success Estimate: 0.66\n",
      "Country: Greece, Avg Success Estimate: 0.61\n",
      "Country: Switzerland, Avg Success Estimate: 0.79\n"
     ]
    }
   ],
   "source": [
    "# Get a list of all the country names\n",
    "country_name_list = list(success_estimates.keys())\n",
    "\n",
    "# Create an empty dictionary to hold country mean estimates\n",
    "country_means = {}\n",
    "\n",
    "# Loop through all countries and calculate their mean success estimate\n",
    "for i in country_name_list:\n",
    "    list_country_estimates = success_estimates[i] # list of estimates for a country\n",
    "\n",
    "    # if more than one country estimate, then record the mean estimate, otherwise go to next loop iteration\n",
    "    if len(success_estimates[i]) > 3:        \n",
    "        country_mean_value = sum(list_country_estimates) / len(list_country_estimates)\n",
    "        country_means[i] =  country_mean_value # insert country mean value into dict using country name as key\n",
    "        print(\"Adding ...\", i)\n",
    "    else:\n",
    "        print(\"*{0:s} Does not meet company policy*\".format(i))\n",
    "        \n",
    "print()\n",
    "       \n",
    "# Nicely format the result for printing to the screen\n",
    "for country_key in country_means: \n",
    "    print(\"Country: {0:s}, Avg Success Estimate: {1:.2f}\".format(country_key, country_means[country_key]))"
   ]
  },
  {
   "cell_type": "markdown",
   "metadata": {},
   "source": [
    "### Exercise 9:\n",
    "\n",
    "In addition to the above policy, the company wants to flag countries where the range of estimates is too big, as this is usually due to the estimates being taken at very different times, or outright containing errors. They want to pay special attention to cases where the range (the difference between the largest and smallest estimates) is larger than 0.6. Calculate the range for each country and indicate if it should be flagged."
   ]
  },
  {
   "cell_type": "markdown",
   "metadata": {},
   "source": [
    "**Answer.** "
   ]
  },
  {
   "cell_type": "code",
   "execution_count": 107,
   "metadata": {},
   "outputs": [
    {
     "name": "stdout",
     "output_type": "stream",
     "text": [
      "Country Australia should be flagged. range of 0.49\n",
      "Adding ... France\n",
      "Italy was skipped.\n",
      "Brazil was skipped.\n",
      "USA was skipped.\n",
      "England was skipped.\n",
      "Canada was skipped.\n",
      "Argentina was skipped.\n",
      "Adding ... Greece\n",
      "Morocco was skipped.\n",
      "Tunisia was skipped.\n",
      "Egypt was skipped.\n",
      "Jamaica was skipped.\n",
      "Country Switzerland should be flagged. range of 0.48\n",
      "Germany was skipped.\n",
      "\n",
      "Country: France, Range: 0.78\n",
      "Country: Greece, Range: 0.84\n"
     ]
    }
   ],
   "source": [
    "#Code in this cell.\n",
    "flaggedCountries = {}\n",
    "\n",
    "for country,values in success_estimates.items():\n",
    "    if(len(values) > 3):\n",
    "        countryMax = max(values)\n",
    "        countryMin = min(values)\n",
    "        countryRange = countryMax - countryMin\n",
    "        if(countryRange > 0.6):\n",
    "            flaggedCountries[country] = countryRange\n",
    "            print(\"Adding ... {0:s}\".format(country))\n",
    "        else:\n",
    "            print(\"Country {0:s} should be flagged. range of {1:.2f}\".format(country,countryRange))\n",
    "    else:\n",
    "        print(\"{0:s} was skipped.\".format(country))\n",
    "        \n",
    "print()\n",
    "for country,ranges in flaggedCountries.items(): \n",
    "    print(\"Country: {0:s}, Range: {1:.2f}\".format(country, ranges))"
   ]
  },
  {
   "cell_type": "markdown",
   "metadata": {},
   "source": [
    "______"
   ]
  },
  {
   "cell_type": "markdown",
   "metadata": {},
   "source": [
    "Note that we used a more concise way of looping through a dictionary in the code above, accessing items from it directly instead of creating a `country_name_list` variable as an intermediary step. France and Greece got flagged. You can see by inspection that France has both 0.2 and 0.98 as success estimates, and Greece has 0.15 and 0.99."
   ]
  },
  {
   "cell_type": "markdown",
   "metadata": {},
   "source": [
    "### Exercise 10:\n",
    "\n",
    "What is another approach to resolve the one-sample problem for some countries? Think in terms of the factors that drive confidence in data-driven business decisions.\n",
    "\n",
    "(a) Group countries together to larger regions to ensure each region has at least one estimate\n",
    "\n",
    "(b) Only remove a country if its estimates are very large or very small compared to other estimates\n",
    "\n",
    "(c) Use a different summary statistic for the analysis other than the average value\n",
    "\n",
    "(d) Revisit why some countries only have one estimate and see if more data can be sourced for these countries\n",
    "\n",
    "**Answer.** \n",
    "d and maybe a"
   ]
  },
  {
   "cell_type": "markdown",
   "metadata": {},
   "source": [
    "## Putting it all together"
   ]
  },
  {
   "cell_type": "markdown",
   "metadata": {},
   "source": [
    "We've used for loops and control structures to calculate partial summary statistics for each of the countries. Let's put it all together to obtain a recommendation on which country we should choose to expand the luxury flight services."
   ]
  },
  {
   "cell_type": "markdown",
   "metadata": {},
   "source": [
    "### Exercise 11:\n",
    "\n",
    "Write code to print each country name and summary statistics. Each line should show one country and the corresponding summary statistics: Min Estimate (float), Average Estimate (float), Max Estimate (float), Number of Estimates (int), Meets Company Policy of at least 3 estimates (bool). For example, the line for France would appear as:\n",
    "```\n",
    "Country: France , Min: 0.2 , Average: 0.655 , Max: 0.98 , NumEst: 4 , MeetsPolicy: True\n",
    "```"
   ]
  },
  {
   "cell_type": "markdown",
   "metadata": {},
   "source": [
    "**Answer.**"
   ]
  },
  {
   "cell_type": "code",
   "execution_count": 126,
   "metadata": {},
   "outputs": [
    {
     "name": "stdout",
     "output_type": "stream",
     "text": [
      "Country: Australia, Min: 0.11, Average: 0.30, Max: 0.60, NumEst: 4, MeetsPolicy: True\n",
      "Country: France, Min: 0.20, Average: 0.66, Max: 0.98, NumEst: 4, MeetsPolicy: True\n",
      "Country: Italy, Min: 0.60, Average: 0.60, Max: 0.60, NumEst: 1, MeetsPolicy: False\n",
      "Country: Brazil, Min: 0.22, Average: 0.29, Max: 0.43, NumEst: 3, MeetsPolicy: True\n",
      "Country: USA, Min: 0.20, Average: 0.33, Max: 0.50, NumEst: 3, MeetsPolicy: True\n",
      "Country: England, Min: 0.45, Average: 0.45, Max: 0.45, NumEst: 1, MeetsPolicy: False\n",
      "Country: Canada, Min: 0.25, Average: 0.28, Max: 0.30, NumEst: 2, MeetsPolicy: False\n",
      "Country: Argentina, Min: 0.22, Average: 0.22, Max: 0.22, NumEst: 1, MeetsPolicy: False\n",
      "Country: Greece, Min: 0.15, Average: 0.61, Max: 0.99, NumEst: 6, MeetsPolicy: True\n",
      "Country: Morocco, Min: 0.29, Average: 0.29, Max: 0.29, NumEst: 1, MeetsPolicy: False\n",
      "Country: Tunisia, Min: 0.56, Average: 0.62, Max: 0.68, NumEst: 2, MeetsPolicy: False\n",
      "Country: Egypt, Min: 0.99, Average: 0.99, Max: 0.99, NumEst: 1, MeetsPolicy: False\n",
      "Country: Jamaica, Min: 0.61, Average: 0.66, Max: 0.71, NumEst: 3, MeetsPolicy: True\n",
      "Country: Switzerland, Min: 0.51, Average: 0.79, Max: 0.99, NumEst: 5, MeetsPolicy: True\n",
      "Country: Germany, Min: 0.36, Average: 0.43, Max: 0.49, NumEst: 3, MeetsPolicy: True\n"
     ]
    }
   ],
   "source": [
    "#Code in this cell.\n",
    "message = \"Country: {0:s}, Min: {1:.2f}, Average: {2:.2f}, Max: {3:.2f}, NumEst: {4}, MeetsPolicy: {5}\"\n",
    "result = [(country,\n",
    "                min(values),\n",
    "                sum(values)/len(values),\n",
    "                max(values), \n",
    "                len(values), \n",
    "                True if len(values) > 2 else False\n",
    "               ) for country, values in success_estimates.items()]\n",
    "\n",
    "print(*map(lambda line: message.format(*line),result), sep=\"\\n\")"
   ]
  },
  {
   "cell_type": "markdown",
   "metadata": {},
   "source": [
    "###  Exercise 12: \n",
    "\n",
    "We can see that Switzerland has the highest average by looking at all of the values, but let's take this one step further and get Python to calculate that for us. \n",
    "\n",
    "Loop through the data again but keep track of the best country **that meets policy** and output data about only this country."
   ]
  },
  {
   "cell_type": "markdown",
   "metadata": {},
   "source": [
    "**Answer.**"
   ]
  },
  {
   "cell_type": "code",
   "execution_count": 127,
   "metadata": {},
   "outputs": [
    {
     "data": {
      "text/plain": [
       "('Switzerland', 0.51, 0.7859999999999999, 0.99, 5, True)"
      ]
     },
     "execution_count": 127,
     "metadata": {},
     "output_type": "execute_result"
    }
   ],
   "source": [
    "#Code in this cell.\n",
    "\n",
    "sorted(result, key = lambda item: item[2] if item[5] else 0, reverse=True)[0]"
   ]
  },
  {
   "cell_type": "markdown",
   "metadata": {},
   "source": [
    "###  Exercise 13:\n",
    "\n",
    "We found the best country on average, but we are also interested in the safest or most conservative choice. This is defined by looking only at the **minimum** (that is, the most pessimistic) estimate for each country and taking the highest of those (still only considering ones **that meet policy**). Write code to determine and output data about this country."
   ]
  },
  {
   "cell_type": "markdown",
   "metadata": {},
   "source": [
    "**Answer.**"
   ]
  },
  {
   "cell_type": "code",
   "execution_count": 128,
   "metadata": {},
   "outputs": [
    {
     "data": {
      "text/plain": [
       "('Jamaica', 0.61, 0.6566666666666666, 0.71, 3, True)"
      ]
     },
     "execution_count": 128,
     "metadata": {},
     "output_type": "execute_result"
    }
   ],
   "source": [
    "\n",
    "sorted(result, key = lambda item: item[1] if item[5] else 0, reverse=True)[0]"
   ]
  },
  {
   "cell_type": "markdown",
   "metadata": {},
   "source": [
    "Note that above we used the Python `and` keyword to combine two booleans into one. The result is True only if **both** of the components are True. It has the same effect as the nested `if` statement in Exercise 12. You can read more about logical operators at the [W3Schools tutorial](https://www.w3schools.com/python/python_operators.asp)."
   ]
  },
  {
   "cell_type": "markdown",
   "metadata": {},
   "source": [
    "Before we conclude, let's push all of our work up to GitHub for safe keeping. \n",
    "\n",
    "* Make sure any code and notebook files you have open are saved\n",
    "* Open your command prompt or terminal application and navigate to your git repository (which should also contain your work)\n",
    "* run `git status` to check the status of files. Delete any files that you do not want to push to GitHub.\n",
    "* run `git add *` to add all the files\n",
    "* run `git commit -m \"finished Python preparation case\"`\n",
    "* run `git push origin master`\n",
    "\n",
    "You should see output on your terminal confirming that the files were pushed, and if you log into github.com and navigate to your repository, you should see the files with the latest changes through the web interface."
   ]
  },
  {
   "cell_type": "markdown",
   "metadata": {},
   "source": [
    "Now that we have summary statistics for a variety of country estimates, let's construct our actionable business recommendation."
   ]
  },
  {
   "cell_type": "markdown",
   "metadata": {},
   "source": [
    "## Conclusions\n",
    "\n",
    "From the analysis, Switzerland is the country with the largest chance of success for global expansion with an estimated success rate of 0.79. The summary statistic for Switzerland was calculated with an adequate number of estimates according to company policy. Thus, it is recommended that management explore opportunities in Switzerland for luxury flight services. Jamaica is also recommended as a conservative choice. Although it did not come out top overall, none of the estimates gave it a very low probability.\n",
    "\n",
    "In addition, another country that should be closely monitored for luxury flight services is France, which held a 0.66 average success estimate. If there are additional resources in the future for further luxury service expansion, France may be an apt choice, but more investigation should be done to see why one estimate gave France only a 0.2 success estimate."
   ]
  },
  {
   "cell_type": "markdown",
   "metadata": {},
   "source": [
    "## Takeaways\n",
    "\n",
    "In this case, we've learned the foundations of Python. Through identifying global expansion opportunities for an airline company we've covered fundamental data types, control structures, and a useful Python workflow to analyze a given set of data. You also learned about various summary statistics and how much confidence you can have in drawing conclusions from them.\n",
    "\n",
    "To recap, these are some of the building blocks of Python we just covered and we recommend you become very familiar with them before moving ahead:\n",
    "- variables\n",
    "- data types\n",
    "- `print` (how to format within `print` function)\n",
    "- lists\n",
    "- dictionaries\n",
    "- slicing/iterating\n",
    "- `for` loop\n",
    "- `if...elif...else` statements\n",
    "- list comprehension\n",
    "\n",
    "You can use these Python tools as both a foundation and a framework to build more complex projects and solve critical business problems. Python continues to be an outstanding tool to perform data-driven analysis and deliver key business insights."
   ]
  }
 ],
 "metadata": {
  "kernelspec": {
   "display_name": "Python 3",
   "language": "python",
   "name": "python3"
  },
  "language_info": {
   "codemirror_mode": {
    "name": "ipython",
    "version": 3
   },
   "file_extension": ".py",
   "mimetype": "text/x-python",
   "name": "python",
   "nbconvert_exporter": "python",
   "pygments_lexer": "ipython3",
   "version": "3.6.7"
  }
 },
 "nbformat": 4,
 "nbformat_minor": 4
}
