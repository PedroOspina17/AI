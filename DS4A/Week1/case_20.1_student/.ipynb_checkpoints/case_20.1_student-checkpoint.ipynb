{
 "cells": [
  {
   "cell_type": "markdown",
   "metadata": {},
   "source": [
    "# Data Science, Machine Learning, and Artificial Intelligence at a Glance"
   ]
  },
  {
   "cell_type": "markdown",
   "metadata": {},
   "source": [
    "## Goals"
   ]
  },
  {
   "cell_type": "markdown",
   "metadata": {},
   "source": [
    "By the end of this case we hope to have properly defined data science, machine learning and artificial intelligence. You should be able to identify examples of each in the real world."
   ]
  },
  {
   "cell_type": "markdown",
   "metadata": {},
   "source": [
    "## Introduction"
   ]
  },
  {
   "cell_type": "markdown",
   "metadata": {},
   "source": [
    "What is data science? Machine learning? Artificial intelligence? These terms are all used interchangeably in our society, as if they are the same thing – but in reality they are quite different. Before we can answer those questions though, we have to tackle a much more fundamental one: What is data? Surprisingly, it is quite hard to come up with a simple definition for it."
   ]
  },
  {
   "cell_type": "markdown",
   "metadata": {},
   "source": [
    "### Question:\n",
    "\n",
    "What is \"data\"?"
   ]
  },
  {
   "cell_type": "markdown",
   "metadata": {},
   "source": [
    "You can go onto Wikipedia or read books to get an answer to this question, but most of those sources will give you a very pedantic, unintuitive definition. Instead, we're going to go with the colloquial definition of data as \"something whose value you care about”. You won't find that in any formal treatment of the subject, but for now, it is good enough. Your name, age, and telephone number are data about you. Your bank savings, your address, and your parents' names are data that relate to you. We have data about everything, everywhere."
   ]
  },
  {
   "cell_type": "markdown",
   "metadata": {},
   "source": [
    "## What is data science?"
   ]
  },
  {
   "cell_type": "markdown",
   "metadata": {},
   "source": [
    "Now that we know what data is, we can now ask: \"What is data science?\" Science, in the language of the [scientific method](https://www.sciencebuddies.org/science-fair-projects/science-fair/steps-of-the-scientific-method), is:\n",
    "\n",
    "1. Formulating hypotheses, or guesses about how the world works, based on observations of the world around us\n",
    "2. Validating or invalidating those hypotheses by conducting experiments"
   ]
  },
  {
   "cell_type": "markdown",
   "metadata": {},
   "source": [
    "Unlike the pure sciences though, working with data doesn't necessarily require conducting experiments (although it could!). Rather, many times the data has already been collected and organized by someone else. So the scientific method, as applied to data, can be summarized as: **\"Formulating hypotheses based on the world around us, then analyzing relevant data to validate or invalidate our hypotheses.\"**"
   ]
  },
  {
   "cell_type": "markdown",
   "metadata": {},
   "source": [
    "### Exercise 1:\n",
    "\n",
    "Based on the above, which of the following can be described as reflective of the entire data science process? Select all that apply.\n",
    "\n",
    "(a) Anecdotally noticing that millennials seem to respond more positively to discussions of your firm's new product version that is in beta versus your existing one, setting up an A/B test funnelling millenials equally to both versions, then conducting statistical significance tests on this data to verify that they prefer the new version.\n",
    "\n",
    "(b) Observing that Uber pricing seems to be correlated to a small set of factors, obtaining open-source data on Uber pricing rates, then building a pricing model based on those factors and verifying that they explain most of the variation in rates.\n",
    "\n",
    "(c) Converting images of crop circles in to structured pixels and storing them into a database for later use.\n",
    "\n",
    "(d) Building an algorithm that allows a computer to recognize images of cats and dogs.\n",
    "\n",
    "**Answer.** "
   ]
  },
  {
   "cell_type": "markdown",
   "metadata": {},
   "source": [
    "_____"
   ]
  },
  {
   "cell_type": "markdown",
   "metadata": {},
   "source": [
    "Notice that data science is **NOT** what is often brought up in the media:\n",
    "\n",
    "1. It is **NOT** computers recognizing images of cats and dogs\n",
    "2. It is **NOT** IBM Watson screening human tissues for disease\n",
    "3. It is **NOT** AlphaGo beating the world's top Go player\n",
    "\n",
    "In fact, the VAST majority of data use cases are **NOT** like the three examples above, but rather much more similar to traditional sciences. Most examples of data science are what we described in choices (a) and (b) in Exercise 1. A common corporate data science example is a firm collecting user data, analyzing the data to categorize their customers, creating marketing campaigns to better target its potential customers, testing the effects of the solutions, and updating their marketing materials accordingly."
   ]
  },
  {
   "cell_type": "markdown",
   "metadata": {},
   "source": [
    "## What is machine learning?"
   ]
  },
  {
   "cell_type": "markdown",
   "metadata": {},
   "source": [
    "However, choice (d) of Exercise 1, as well as examples 1 and 2 from the above list, do fall into the bucket of **machine learning**. What does this mean?\n",
    "\n",
    "\"Learn\" means to \"gain or acquire knowledge or skill in something via experience.\" So one could frame \"machine learning\" as \"how a machine gains or acquires knowledge via experience.\" How does a machine gain experience? All machine inputs are essentially binary strings of 0s and 1s, which is really just – you guessed it – data! So machine learning is really just **how a computer acquires knowledge via data**.\n",
    "\n",
    "Of course, this gives no insight into the \"how\" at all; it just says that there is something that is done with input data to generate this knowledge as an output. To make a math analogy, machine learning is some function $f$ such that\n",
    "\n",
    "> $ knowledge = f(data)$\n",
    "\n",
    "and other than that there are no other real stipulations on $f$! So $f$ could be as mechanical as a simple mathematical function (say, the sum of all the data points) and qualify as machine learning. And in practice, this is what most of the common machine learning algorithms are, including:\n",
    "\n",
    "1. Logistic regression\n",
    "2. Random forests\n",
    "3. Support vector machines\n",
    "4. $k$ - means clustering\n",
    "5. Neural networks\n",
    "\n",
    "(You will learn about all of these later in the course.) This may seem disappointing, given how the media hypes up \"artificial intelligence\" and makes it seem like there is something \"smart\" going on with machine learning, but in fact many mechanical methods satisfy the conditions required to be classified as machine learning. This doesn't mean these mechanical methods are limited in usefulness – in fact, they are quite powerful if used properly – but it does mean that they don't resemble anything that we would naturally associate with human-like intelligence.\n",
    "\n",
    "More specifically, machine learning is \"mechanical\" in the sense that how these algorithms \"learn\" is strictly based upon mathematical principles. For example, linear regression is an algorithm that learns by adjusting the coefficients of the input data to best predict an output value. How the coefficients change is entirely based on mathematical protocols (in this case, the gradients of the input data). A common application of linear regression would be predicting housing prices based on various input data such as size, number of rooms, and age of the house. The model would take in the data and learn from it by choosing the set of coefficients that minimizes the error of its predictions vs. actual prices."
   ]
  },
  {
   "cell_type": "markdown",
   "metadata": {},
   "source": [
    "### Exercise 2:\n",
    "\n",
    "Based on the above definition, which of the following tasks would likely involve the use of \"machine learning\"? Select all that apply.\n",
    "\n",
    "(a) Building the model backing Apple iPhones' facial recognition system.\n",
    "\n",
    "(b) Constructing the model backing Netflix's movie recommendation system based on your previous viewing activity.\n",
    "\n",
    "(c) Investigating factors which affect Airbnb pricing and developing a pricing tool based on this analysis.\n",
    "\n",
    "(d) Setting up an automated system to approve or reject mortgage loan applications.\n",
    "\n",
    "**Answer.**"
   ]
  },
  {
   "cell_type": "markdown",
   "metadata": {},
   "source": [
    "Machine learning can be, and often is, a part of proper data science. **Data science is fundamentally a process, while machine learning is a tool that can be immensely useful in conducting the data science process**."
   ]
  },
  {
   "cell_type": "markdown",
   "metadata": {},
   "source": [
    "## What is artificial intelligence?"
   ]
  },
  {
   "cell_type": "markdown",
   "metadata": {},
   "source": [
    "But the elephant is still in the room: even though some mechanical, \"dumb\" methods may qualify as machine learning, this doesn't exclude human-like, \"smart\" methods from being classified as such either. And this is completely true – it doesn't, yet people have chosen to name it something else entirely: **artificial intelligence**.\n",
    "\n",
    "But why? Why give \"smart\" methods an entirely different name if they can also fall under the bucket of machine learning? That is the question we will explore for the remainder of this module.\n",
    "\n",
    "Let's start by taking a look at an iconic demonstration of this so-called intelligence: [AlphaGo beating the world's top human Go player](https://en.wikipedia.org/wiki/AlphaGo_versus_Lee_Sedol)."
   ]
  },
  {
   "cell_type": "code",
   "execution_count": 15,
   "metadata": {},
   "outputs": [],
   "source": [
    "from IPython.display import IFrame"
   ]
  },
  {
   "cell_type": "code",
   "execution_count": 17,
   "metadata": {},
   "outputs": [
    {
     "data": {
      "text/html": [
       "\n",
       "        <iframe\n",
       "            width=\"560\"\n",
       "            height=\"315\"\n",
       "            src=\"https://www.youtube.com/embed/8tq1C8spV_g?rel=0&amp;controls=0&amp;showinfo=0\"\n",
       "            frameborder=\"0\"\n",
       "            allowfullscreen\n",
       "        ></iframe>\n",
       "        "
      ],
      "text/plain": [
       "<IPython.lib.display.IFrame at 0x10ca60730>"
      ]
     },
     "execution_count": 17,
     "metadata": {},
     "output_type": "execute_result"
    }
   ],
   "source": [
    "IFrame('https://www.youtube.com/embed/8tq1C8spV_g?rel=0&amp;controls=0&amp;showinfo=0', width=560, height=315)"
   ]
  },
  {
   "cell_type": "markdown",
   "metadata": {},
   "source": [
    "Quite impressive! But does this feat alone prove that a machine exhibits human-like intelligence?"
   ]
  },
  {
   "cell_type": "markdown",
   "metadata": {},
   "source": [
    "### Question:\n",
    "\n",
    "What, to you, counts as \"artificial intelligence\"? What demonstrations of aptitude would, beyond a shadow of a doubt, convince you that something is as intelligent as us humans are?"
   ]
  },
  {
   "cell_type": "markdown",
   "metadata": {},
   "source": [
    "You may have found that it was quite hard to come up with answers to the second part of the previous question, and that most ideas you had either: 1) seemed like they could well have a \"dumb\" mechanical solution as in the previous discussion of machine learning, despite seeming impressive at first; or 2) actually made you question how unique human intelligence really is and whether virtually all of what we do could be reduced to such \"dumb\" mechanical methods.\n",
    "We'll explore both ideas below."
   ]
  },
  {
   "cell_type": "markdown",
   "metadata": {},
   "source": [
    "### What can machines do and not do? What about us?"
   ]
  },
  {
   "cell_type": "markdown",
   "metadata": {},
   "source": [
    "So, is there any sensible test we could use to determine if something is as intelligent as a human? There have been many proposals over time. The most famous aptitude test developed was the [**Turing test**](https://www.geeksforgeeks.org/turing-test-artificial-intelligence/), named after the English mathematician and famous World War II cryptographer Alan Turing. In this exam, there is a human evaluator and two conversation partners: one machine and one human. The evaluator would conduct a conversation with each through a text-only channel. If the evaluator cannot reliably tell the machine from the human, the machine is said to have passed the test.\n",
    "\n",
    "Turing did not explicitly state that his test could be used as a measure of intelligence, but many who came after him thrust his test into the limelight. Of course, the implication is that if a computer can converse like a human, then it is effectively as intelligent as a human."
   ]
  },
  {
   "cell_type": "markdown",
   "metadata": {},
   "source": [
    "### Question:\n",
    "\n",
    "What are some shortcomings of this proposal? What insight does this lend into the criteria that a rigorous test of human-like intelligence would have to satisfy?"
   ]
  },
  {
   "cell_type": "markdown",
   "metadata": {},
   "source": [
    "In addition to the flaws with the Turing test (and in fact with almost any other test you can likely come up with), this brings to light one of our society's unhealthy obsessions when it comes to the field of artificial intelligence – its singular focus on mimicking human intelligence via machines. But what if machine intelligence is fundamentally different (note: not worse or better) than human intelligence? What if machines are more \"intelligent\" about certain things than we are, and vice versa?"
   ]
  },
  {
   "cell_type": "markdown",
   "metadata": {},
   "source": [
    "### Question:\n",
    "\n",
    "Brainstorm with a partner, and then we will discuss aloud in class:\n",
    "\n",
    "1. What are some things that machines can already do better than we can? What specifically about them allows them to do these better?\n",
    "2. What are some things that we can do better than machines? Do you think this advantage will likely be sustained over time? Why?"
   ]
  },
  {
   "cell_type": "markdown",
   "metadata": {},
   "source": [
    "### Question:\n",
    "\n",
    "Now that we have properly defined data science, who here has used data science in their job? Please provide a specific example."
   ]
  },
  {
   "cell_type": "markdown",
   "metadata": {},
   "source": [
    "## Conclusions & Takeaways"
   ]
  },
  {
   "cell_type": "markdown",
   "metadata": {},
   "source": [
    "In this case, you learned what \"data science\" and \"machine learning\" really are, in contrast to the misleading connotations that they are often given in public discussion. You also learned that \"artificial intelligence\" is a very ambiguous term – nobody really agrees on its exact definition and it is unclear if its current focus on imitating human intelligence is even the correct approach.</span>\n",
    "\n",
    "Throughout this program, we will focus primarily on data science and machine learning, and not so much artificial intelligence. Yet the philosophical questions surrounding artificial intelligence are fascinating, and we encourage you to continue pondering them as you become more involved in this new and exciting field. In the coming weeks, we will train you on the numerous techniques (e.g. linear regression, $k$ - means clustering) and tools (e.g. [`pandas`](https://pandas.pydata.org/pandas-docs/stable/#), AWS) of data science so that you will be able to conduct professional data science processes in your own lives."
   ]
  }
 ],
 "metadata": {
  "kernelspec": {
   "display_name": "Python 3",
   "language": "python",
   "name": "python3"
  },
  "language_info": {
   "codemirror_mode": {
    "name": "ipython",
    "version": 3
   },
   "file_extension": ".py",
   "mimetype": "text/x-python",
   "name": "python",
   "nbconvert_exporter": "python",
   "pygments_lexer": "ipython3",
   "version": "3.7.3"
  }
 },
 "nbformat": 4,
 "nbformat_minor": 2
}
