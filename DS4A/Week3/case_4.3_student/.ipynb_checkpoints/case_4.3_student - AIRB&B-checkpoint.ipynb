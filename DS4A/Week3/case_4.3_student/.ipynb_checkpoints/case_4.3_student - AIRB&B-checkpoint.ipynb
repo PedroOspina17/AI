{
 "cells": [
  {
   "cell_type": "markdown",
   "metadata": {},
   "source": [
    "\n",
    "# What features determine the price of an Airbnb rental?"
   ]
  },
  {
   "cell_type": "markdown",
   "metadata": {},
   "source": [
    "## Goals\n",
    "\n",
    "This case introduces students to a relatively comprehensive walkthrough of an **exploratory data analysis (EDA)** process on an unfamiliar dataset. We want students to learn how to systematically approach investigating an unknown dataset while maintaining creativity to look for insights. By the end, we hope students are confident in tackling datasets outside of a structured environment and appreciate the tremendous value of a proper EDA process for any data science problem."
   ]
  },
  {
   "cell_type": "code",
   "execution_count": 1,
   "metadata": {},
   "outputs": [],
   "source": [
    "import numpy                 as np\n",
    "import pandas                as pd\n",
    "import matplotlib.pyplot     as plt\n",
    "import seaborn               as sns\n",
    "import sklearn.metrics       as Metrics\n",
    "import pandas                as pd\n",
    "import matplotlib.pyplot     as plt\n",
    "\n",
    "\n",
    "import folium  #needed for interactive map\n",
    "from folium.plugins import HeatMap\n",
    "\n",
    "from   collections           import Counter\n",
    "from   sklearn               import preprocessing\n",
    "from   datetime              import datetime\n",
    "from   collections           import Counter\n",
    "from   math                  import exp\n",
    "from   sklearn.linear_model  import LinearRegression as LinReg\n",
    "from   sklearn.metrics       import mean_absolute_error\n",
    "from   sklearn.metrics       import median_absolute_error\n",
    "from   sklearn.metrics       import r2_score\n",
    "\n",
    "%matplotlib inline\n",
    "sns.set()"
   ]
  },
  {
   "cell_type": "markdown",
   "metadata": {},
   "source": [
    "## Introduction\n",
    "\n",
    "**Business Context**. Airbnb is an enormous online marketplace for everyday people to rent places to stay. It is a large and lucrative market, but many vendors are simply individuals who are renting their own primary residence for short visits. Even larger vendors are typically small businesses with only a small number of places to rent. As a result, they have limited ability to assess large-scale trends and set optimal prices.\n",
    "\n",
    "Airbnb has rolled out a new service to help listers set prices. Airbnb makes a percentage commission off of the listings, so they are incentivized to help listers price optimally; that is, at the maximum possible point where they will still close a deal. You are an Airbnb consultant helping with this new pricing service."
   ]
  },
  {
   "cell_type": "markdown",
   "metadata": {},
   "source": [
    "**Business Problem**. Your initial task is to explore the data with the goal of answering the question: <b>\"What features are most relevant to the price of an Airbnb listing?\"</b>"
   ]
  },
  {
   "cell_type": "markdown",
   "metadata": {},
   "source": [
    "**Analytical Context**. We will use the publicly available and well-maintained dataset created by the Inside Airbnb advocacy group. We will focus on listings in New York City within the last year, taking advantage of larger datasets when there are important details to explore.\n",
    "\n",
    "The case is structured as follows: we will (1) do basic data exploration by plotting distributions of key quantities; (2) introduce the concept of correlation to find the key features; (3) introduce the idea of interaction effects to correct for the effects of key features; (4) discuss how to iteratively generate hypotheses and choose data visualizations to support your conclusions; (5) look at one very specific type of interaction effect, the temporal effect, and how to correct for it; and finally (6) pull everything together to identify the key factors that affect the price."
   ]
  },
  {
   "cell_type": "markdown",
   "metadata": {},
   "source": [
    "## Some basic data exploration\n",
    "\n",
    "We begin by loading the data and looking at its basic shape:"
   ]
  },
  {
   "cell_type": "code",
   "execution_count": null,
   "metadata": {},
   "outputs": [],
   "source": [
    "listings = pd.read_csv('airbnb_nyc.csv', delimiter=',')\n",
    "listings.shape"
   ]
  },
  {
   "cell_type": "markdown",
   "metadata": {},
   "source": [
    "Let's also look at the columns of the dataset:"
   ]
  },
  {
   "cell_type": "code",
   "execution_count": null,
   "metadata": {},
   "outputs": [],
   "source": [
    "listings.columns "
   ]
  },
  {
   "cell_type": "code",
   "execution_count": null,
   "metadata": {},
   "outputs": [],
   "source": [
    "# We display the basic listings data.\n",
    "pd.options.display.max_columns = 100\n",
    "listings.head(3)"
   ]
  },
  {
   "cell_type": "markdown",
   "metadata": {},
   "source": [
    "The following are details about some of the important columns here:\n",
    "\n",
    "1. ```neighbourhood```:  which neighborhood the property is in\n",
    "2. ```longitude```, ```latitude```: longitude and latitude\n",
    "3. ```property_type```: type of property, such as apartment, condo etc.\n",
    "4. ```bathrooms```: number of bathrooms\n",
    "5. ```bedrooms```: number of bathrooms\n",
    "6. ```price```:  price of the listing\n",
    "7. ```number_of_reviews```: number of reviews given by customers who stayed there\n",
    "8. ```parking```: 1 means there is parking available, -1 means there is not\n",
    "\n",
    "For other categorical variables, such as ```outdoor_friendly```, ```gym```, etc., the 1,-1 should be interpreted similarly to ```parking``` as explained above."
   ]
  },
  {
   "cell_type": "markdown",
   "metadata": {},
   "source": [
    "### Plotting the marginal distributions of key quantities of interest\n",
    "\n",
    "As you have seen in the Python cases, it is good to first develop an idea of how the values of a few key quantities of interest are distributed. We always start investigating by gaining an overhead view of various parameters in our data. Let's start by doing so for some numeric variables, such as ```price```, ```bedrooms```, ```bathrooms```, ```number_of_reviews```:"
   ]
  },
  {
   "cell_type": "markdown",
   "metadata": {},
   "source": [
    "### Exercise 1:\n",
    "\n",
    "#### 1.1\n",
    "\n",
    "Use the [describe()](https://pandas.pydata.org/pandas-docs/stable/reference/api/pandas.DataFrame.describe.html) and [quantile()](https://pandas.pydata.org/pandas-docs/stable/reference/api/pandas.DataFrame.quantile.html) commands to compute some important summary statistics for the above variables."
   ]
  },
  {
   "cell_type": "markdown",
   "metadata": {},
   "source": [
    "**Answer.**"
   ]
  },
  {
   "cell_type": "markdown",
   "metadata": {},
   "source": [
    "#### 1.2\n",
    "\n",
    "Use the [plt.hist()](https://matplotlib.org/3.1.1/api/_as_gen/matplotlib.pyplot.hist.html) function to plot the histogram of the above variables. What are their basic shapes (e.g. normal, skewed, multi-modal, etc.)?"
   ]
  },
  {
   "cell_type": "markdown",
   "metadata": {},
   "source": [
    "**Answer.**"
   ]
  },
  {
   "cell_type": "markdown",
   "metadata": {},
   "source": [
    "#### 1.3\n",
    "\n",
    "Are the distributions fairly smooth, or do they exhibit \"spiky\" or \"discontinuous\" behavior? If the latter, can you explain where it might come from?\n",
    "\n",
    "**Answer.**"
   ]
  },
  {
   "cell_type": "markdown",
   "metadata": {},
   "source": [
    "#### 1.4\n",
    "\n",
    "Can you detect any outliers from these histograms? If so, do they suggest (i) data error; or (ii) data that should be omitted from our future analysis?\n",
    "\n",
    "**Answer.**"
   ]
  },
  {
   "cell_type": "markdown",
   "metadata": {},
   "source": [
    "### Another way to look at the histogram of number of bedrooms\n",
    "\n",
    "Sometimes, it is better to look at a histogram which plots the <i>relative</i> percentages of values across categories:"
   ]
  },
  {
   "cell_type": "code",
   "execution_count": null,
   "metadata": {},
   "outputs": [],
   "source": [
    "# How many bedrooms\n",
    "bedrooms_counts = Counter(listings.bedrooms)\n",
    "tdf = pd.DataFrame.from_dict(bedrooms_counts, orient = 'index').sort_values(by = 0)\n",
    "tdf = (tdf.iloc[-10:, :] / len(listings)) * 100\n",
    "\n",
    "# Sort bedroom dataframe by number\n",
    "tdf.sort_index(axis = 0, ascending = True, inplace = True)\n",
    "\n",
    "# Plot percent of listings by bedroom number\n",
    "ax = tdf.plot(kind = 'bar', figsize = (12, 7.5))\n",
    "ax.set_xlabel(\"# Bedrooms\")\n",
    "ax.set_ylabel(\"% Listings\")\n",
    "ax.set_title('% Listings by Bedrooms')\n",
    "ax.legend_.remove()\n",
    "\n",
    "plt.show()\n",
    "\n",
    "print(\"Percent of 1 Bedroom Listings: %{0:.2f}\".format(tdf[0][1])) \n",
    "#The syntax 0:.2f denotes that we will print upto to decimal places\n",
    "#Change it to %{0:.3f to see what happens}"
   ]
  },
  {
   "cell_type": "markdown",
   "metadata": {},
   "source": [
    "## Inspecting price against variables of interest\n",
    "\n",
    "Now that we have looked at the variables of interest in isolation, it makes sense to look at them in relation to price."
   ]
  },
  {
   "cell_type": "markdown",
   "metadata": {},
   "source": [
    "### Exercise 2:\n",
    "\n",
    "#### 2.1\n",
    "Write code for making a boxplot of ```price``` vs. ```bedrooms```, ```bathrooms```, ```number_of_reviews```, ```review_scores_cleanliness```."
   ]
  },
  {
   "cell_type": "markdown",
   "metadata": {},
   "source": [
    "**Answer.**"
   ]
  },
  {
   "cell_type": "markdown",
   "metadata": {},
   "source": [
    "#### 2.2\n",
    "\n",
    "Comment on the relationship between price and the respective variable in each of the above plots.\n",
    "\n",
    "**Answer.**"
   ]
  },
  {
   "cell_type": "markdown",
   "metadata": {},
   "source": [
    "## Investigating correlations\n",
    "\n",
    "Although plotting the relationship between price and a few other variables is a good first step, overall there are too many variables to individually plot and manually inspect. We need a more systematic method. How do we proceed? An easy way to get a quick overview of the key variables that affect the price is via <b>correlation</b>.\n",
    "\n",
    "Let's look at the ```price``` vs. ```bedrooms``` plot again:"
   ]
  },
  {
   "cell_type": "code",
   "execution_count": null,
   "metadata": {},
   "outputs": [],
   "source": [
    "plt.figure(figsize=(10,8))\n",
    "plt.subplot(121)\n",
    "sns.scatterplot(x='bedrooms',y = 'price', data = listings)\n",
    "plt.ylabel(\"price\")\n",
    "plt.title(\"Scatterplot of Price vs. Bedrooms\")\n",
    "plt.subplot(122)\n",
    "sns.boxplot(x='bedrooms',y= 'price', data = listings)\n",
    "plt.ylabel(\"price\")\n",
    "plt.title(\"Boxplot of Price vs. Bedrooms\")"
   ]
  },
  {
   "cell_type": "markdown",
   "metadata": {},
   "source": [
    "We see that as the number of bedrooms increases, the price on average increases. The quantity <b>correlation</b> is one way to capture this relationship. The correlation of two quantities is a measurement of how much they tend to increase together, measured on a scale going from -1 to 1. A positive correlation between price and number of bedrooms would indicate that higher-priced listings tend to have <i>more</i> bedrooms. Similarly, a negative correlation between price and number of bedrooms would indicate that higher-priced listings tend to have <i>fewer</i> bedrooms.  In our case, we can easily see that price is positively correlated with bedrooms.\n",
    "\n",
    "Since correlation is just a single number summarizing an entire joint distribution, it can be misleading and does not eliminate the need to plot and visually inspect the key variables that it suggests are important. Nonetheless, it is quite helpful when quickly scanning for very strong relationships in the data and whittling down a much larger list of potential factors."
   ]
  },
  {
   "cell_type": "code",
   "execution_count": null,
   "metadata": {},
   "outputs": [],
   "source": [
    "np.corrcoef(listings['price'],listings['bedrooms'])[0,1]"
   ]
  },
  {
   "cell_type": "markdown",
   "metadata": {},
   "source": [
    "The [correlation matrix](https://www.displayr.com/what-is-a-correlation-matrix/) then gives all of the pairwise correlations between all of the variables. We can get a quick overview of the key variables that affect the price by looking at its row in the correlation matrix."
   ]
  },
  {
   "cell_type": "markdown",
   "metadata": {},
   "source": [
    "### Exercise 3\n",
    "\n",
    "#### 3.1\n",
    "\n",
    "Write code to compute the correlation matrix between the price and other quantities.\n",
    "(use .corr() function). \n",
    "\n",
    "#### 3.2\n",
    "\n",
    "Print the columns which are positively correlated, in increasing order of the correlation.\n",
    "\n",
    "#### 3.3 \n",
    "\n",
    "Print the columns which are negatively correlated, in increasing order of the magnitude of the correlation."
   ]
  },
  {
   "cell_type": "markdown",
   "metadata": {},
   "source": [
    "**Answer.**"
   ]
  },
  {
   "cell_type": "markdown",
   "metadata": {},
   "source": [
    "#### 3.4\n",
    "\n",
    "From the table above, what factors are most correlated with price? Which correlations are surprising?\n",
    "\n",
    "**Answer.**"
   ]
  },
  {
   "cell_type": "markdown",
   "metadata": {},
   "source": [
    "## Location, location, location!"
   ]
  },
  {
   "cell_type": "markdown",
   "metadata": {},
   "source": [
    "In Exercise 3, we found quite a few variables that are reasonably correlated with price. We could continue our exploration by looking at each of these variables in turn, but we know that in real estate, location data is quite special, and so we will first explore how location affects the price in greater detail.\n",
    "\n",
    "We will use the [folium](https://pypi.org/project/folium/) package. Make sure that you have installed the package (if not, do it now!). The following gives an interactive map for plotting the listings on a map of New York City:"
   ]
  },
  {
   "cell_type": "code",
   "execution_count": null,
   "metadata": {},
   "outputs": [],
   "source": [
    "folium_map = folium.Map(location=[40.738, -73.98],\n",
    "                        zoom_start=13,\n",
    "                        tiles=\"OpenStreetMap\")\n",
    "folium_map\n",
    "# This sets up a basic map of NYC. You can try to change the \"tiles\" option above.\n",
    "# The options you have are: \"OpenStreetMap\", Mapbox Bright\",\"Stamen Toner\",\"Mapbox Control Room\",\"Stamen Terrain\""
   ]
  },
  {
   "cell_type": "code",
   "execution_count": null,
   "metadata": {},
   "outputs": [],
   "source": [
    "folium_map = folium.Map(location=[40.738, -73.98],\n",
    "                        zoom_start=13,\n",
    "                        tiles=\"OpenStreetMap\")\n",
    "#Now we can have a scatter plot of the first 1000 data points on the above map\n",
    "for i in range(0,1000):\n",
    "    marker = folium.CircleMarker(location=[listings[\"latitude\"][i],listings[\"longitude\"][i]],radius=5,color=\"r\",fill=True)\n",
    "    marker.add_to(folium_map)\n",
    "\n",
    "folium_map"
   ]
  },
  {
   "cell_type": "markdown",
   "metadata": {},
   "source": [
    "### Using heatmaps to understand the price distribution with location\n",
    "\n",
    "Next, we create a heatmap of the price of apartments in NYC. This will give us a sense of where the important locations are:"
   ]
  },
  {
   "cell_type": "code",
   "execution_count": null,
   "metadata": {},
   "outputs": [],
   "source": [
    "max_amount = float(listings['price'].max())\n",
    "\n",
    "folium_hmap = folium.Map(location=[40.738, -73.98],\n",
    "                        zoom_start=13,\n",
    "                        tiles=\"OpenStreetMap\")\n",
    "\n",
    "hm_wide = HeatMap( list(zip(listings['latitude'], listings['longitude'], listings['price'])),\n",
    "                   min_opacity=0.2,\n",
    "                   max_val=max_amount,\n",
    "                   radius=8, blur=6, \n",
    "                   max_zoom=15, \n",
    "                 )\n",
    "\n",
    "folium_hmap.add_child(hm_wide)"
   ]
  },
  {
   "cell_type": "markdown",
   "metadata": {},
   "source": [
    "### Exercise 4\n",
    "\n",
    "#### 4.1\n",
    "What areas in NYC have expensive rentals? \n",
    "\n",
    "**Answer.**"
   ]
  },
  {
   "cell_type": "markdown",
   "metadata": {},
   "source": [
    "#### 4.2\n",
    "\n",
    "Looking at this map, you can (roughly) see the correlation between price and longitude/latitude. Does location appear to be strongly related to price? Does it seem likely that this relationship could be captured well by a linear model?\n",
    "\n",
    "**Answer.**"
   ]
  },
  {
   "cell_type": "markdown",
   "metadata": {},
   "source": [
    "#### 4.3\n",
    "\n",
    "Write code to make a scatterplot between price and longitude, with number of bedrooms categorized by color."
   ]
  },
  {
   "cell_type": "markdown",
   "metadata": {},
   "source": [
    "**Answer.**"
   ]
  },
  {
   "cell_type": "markdown",
   "metadata": {},
   "source": [
    "### Exercise 5:\n",
    "\n",
    "Write code here to plot the first 1000 locations on the map where parking is available by blue color, and the first 1000 locations where parking is not available by red color. (Hint: You can use the command: color = \"blue\" and \"red\" respectively.)"
   ]
  },
  {
   "cell_type": "markdown",
   "metadata": {},
   "source": [
    "**Answer.**"
   ]
  },
  {
   "cell_type": "markdown",
   "metadata": {},
   "source": [
    "## Interaction effects and iterative hypotheses\n",
    "\n",
    "Now that we have explored some of the factors that are expected to affect price, let's focus on understanding the unexpected correlations, such as the negative correlation with parking. We start with the latter:"
   ]
  },
  {
   "cell_type": "code",
   "execution_count": null,
   "metadata": {},
   "outputs": [],
   "source": [
    "# First, plot parking vs. non-parking prices.\n",
    "sns.kdeplot(listings.loc[listings['parking'] == 1,'price'],shade = True, label=\"Parking\",color=\"g\")\n",
    "sns.kdeplot(listings.loc[listings['parking'] == -1,'price'],shade = True, label=\"No Parking\",color=\"r\")\n",
    "plt.title(\"Density plot of Price for Parking vs. No Parking\");"
   ]
  },
  {
   "cell_type": "markdown",
   "metadata": {},
   "source": [
    "We saw before that the correlation between price and parking is -0.019383. Since parking is desirable, we expect the price to increase with parking. When we see a pattern like this, we should suspect the existence of **interaction effects** that are complicating the parking vs. price relationship. Interaction effects are when the relationship between two variables is **conditional**, or depends on the value of a third, hidden variable.\n",
    "\n",
    "We strongly recommend that you lean on your domain expertise when looking at data and really explore correlation/relationships that appear funny or weird or counterintuitive. We may find interaction effects or we may find that certain long-held assumptions from our domain expertise are not correct (e.g. maybe parking is not desirable in certain parts of the world).\n",
    "\n",
    "So, what could this third variable potentially be? Well, we have seen that location has a huge impact on prices. Perhaps high-price areas don't have many parking spots, whereas low-price areas do? We don't know this for sure, but it's a worthwhile guess.\n",
    "\n",
    "More formally, we hypothesize that this observed negative correlation is the result of interaction effects arising from location. In order to investigate this hypothesis, we ought to break down the locations by neighborhood and see if this negative correlation between price and parking still holds within neighborhoods. The neighborhoods are discrete and there are many listings per neighborhood, so we can simply compute the correlation for every neighborhood individually. Mathematically, this is exactly the same thing as conditioning on the neighborhood and computing the conditional correlation."
   ]
  },
  {
   "cell_type": "markdown",
   "metadata": {},
   "source": [
    "### Exercise 6:\n",
    "\n",
    "#### 6.1 (2 min)\n",
    "\n",
    "Write code to make a dictionary in which the keys are the `neighbourhoods` in the dataset and the values are the correlation between price and parking for that neighborhood.\n",
    "\n",
    "\n",
    "#### 6.2 (2 min)\n",
    "\n",
    "Next plot a histogram of these correlations. "
   ]
  },
  {
   "cell_type": "markdown",
   "metadata": {},
   "source": [
    "#### 6.3 (4 min)\n",
    "\n",
    "Explain the relationship between the histogram and our finding that parking is negatively correlated with price."
   ]
  },
  {
   "cell_type": "markdown",
   "metadata": {},
   "source": [
    "**Answer.**"
   ]
  },
  {
   "cell_type": "markdown",
   "metadata": {},
   "source": [
    "#### 6.4\n",
    "\n",
    "Plot the histogram that overlays the distribution of price for parking and non-parking (use sns.kdeplot) for the neighborhoods: `St. George`,`Greenwood Heights`,`Rego Park`,`Brooklyn Navy Yard`."
   ]
  },
  {
   "cell_type": "markdown",
   "metadata": {},
   "source": [
    "## Finding more interactions: how does price vary by property type?\n",
    "\n",
    "We saw that finding conditional correlations or interactions is a good way to generate further hypotheses, as many interesting lines of investigation arise from investigating these [**confounding variables**](https://www.statisticshowto.datasciencecentral.com/experimental-design/confounding-variable/). Here is another example: let's now look at how price varies with property type. The following code plots the price of a one bedroom listing broken down by the property type:"
   ]
  },
  {
   "cell_type": "markdown",
   "metadata": {},
   "source": [
    "## Exercise 7\n",
    "\n",
    "#### 7.1\n",
    "Write code to make a boxplot of price of one bedroom property across all property types."
   ]
  },
  {
   "cell_type": "markdown",
   "metadata": {},
   "source": [
    "#### 7.2\n",
    "\n",
    "What can you conclude about the variation in price of a one bedroom by the property type?"
   ]
  },
  {
   "cell_type": "markdown",
   "metadata": {},
   "source": [
    "**Answer.**"
   ]
  },
  {
   "cell_type": "markdown",
   "metadata": {},
   "source": [
    "#### 7.3\n",
    "\n",
    "Do the same price vs. property type plot for two bedroom listings."
   ]
  },
  {
   "cell_type": "markdown",
   "metadata": {},
   "source": [
    "**Answer.**"
   ]
  },
  {
   "cell_type": "markdown",
   "metadata": {},
   "source": [
    "#### 7.4\n",
    "\n",
    "Pick any other variable of your choice and make another interactive plot, showing the variation of price broken down by sub-categories of that variable."
   ]
  },
  {
   "cell_type": "markdown",
   "metadata": {},
   "source": [
    "## More hypothesis generation\n",
    "\n",
    "So far, we have primarily been interested in understanding what factors influence the price of an existing listing. However, a natural question to ask is what you can do to increase the price of your own listing without spending too much money?"
   ]
  },
  {
   "cell_type": "markdown",
   "metadata": {},
   "source": [
    "Looking through the list of correlations, two immediately stand out: \n",
    "\n",
    "| Object          | Correlation  | \n",
    "| :-------------  | :----------: | \n",
    "|  AC             | 0.18         | \n",
    "|  TV             | 0.26         | "
   ]
  },
  {
   "cell_type": "markdown",
   "metadata": {},
   "source": [
    "Some air conditioning is relatively cheap, and has a large correlation of 0.189. Televisions are very cheap, and have an enormous correlation of 0.26. This suggests that one of the best things I can do for a listing is run out and buy a TV if I don't have one – a 300 dollar TV might increase the value of a listing by 30 dollars per night!"
   ]
  },
  {
   "cell_type": "markdown",
   "metadata": {},
   "source": [
    "### Question:\n",
    "\n",
    "Do you really believe this could work? Can you come up with any simple plot or explanation that would argue one way or the other?"
   ]
  },
  {
   "cell_type": "markdown",
   "metadata": {},
   "source": [
    "Apartments with TVs are systematically better than those without – indeed, presence of a television is positively correlated with many other positive price signals, from the size of the listing (e.g. number of people it accommodates) to essentially all other amenities. Nevertheless, it is important to not quickly conclude everything simply based on correlations. We will discuss this much more carefully in a later class on causal inference."
   ]
  },
  {
   "cell_type": "markdown",
   "metadata": {},
   "source": [
    "## Exploring temporal effects: summer in Rio and winter in Moscow\n",
    "\n",
    "We have seen that conditional plots can be a useful way to \"correct\" comparisons by taking into account interaction effects.\n",
    "\n",
    "Time is a very common interaction effect that appears across lots of datasets. For Airbnb data, this is especially important, as Airbnb is often more expensive near holidays, and so reasonable price estimates must take this into account. In practice this is one of the most important corrections offered by Airbnb pricing consultancy firms, and corrections usually take advantage of data pooled from many somewhat similar cities. This is vital to achieving good corrections, but it is easy to make mistakes by failing to account for important city-to-city differences."
   ]
  },
  {
   "cell_type": "markdown",
   "metadata": {},
   "source": [
    "We begin by opening up the calendar data and counting (i) the number of rentals per day; and (ii) their total prices: "
   ]
  },
  {
   "cell_type": "code",
   "execution_count": null,
   "metadata": {
    "scrolled": true
   },
   "outputs": [],
   "source": [
    "cal = pd.read_csv('scal.csv', delimiter=',')\n",
    "cal.head()\n",
    "# Count rentals and total price on each date."
   ]
  },
  {
   "cell_type": "code",
   "execution_count": null,
   "metadata": {},
   "outputs": [],
   "source": [
    "rcount = dict()\n",
    "rprice = dict()\n",
    "\n",
    "for row in cal.itertuples(index=True, name='Pandas'):\n",
    "    rcount[str(row[1])] = rcount.get(str(row[1]), 0) + 1\n",
    "    rprice[str(row[1])] = rprice.get(str(row[1]), 0) + row[2] "
   ]
  },
  {
   "cell_type": "code",
   "execution_count": null,
   "metadata": {},
   "outputs": [],
   "source": [
    "rcount\n",
    "rprice"
   ]
  },
  {
   "cell_type": "code",
   "execution_count": null,
   "metadata": {
    "scrolled": true
   },
   "outputs": [],
   "source": [
    "# Next, plot the results. \n",
    "tempcount = sorted(rcount.items())\n",
    "x, y = zip(*tempcount) \n",
    "tempprice = sorted(rprice.items())\n",
    "u,v = zip(*tempprice)\n",
    "\n",
    "# plt.plot(x, y)\n",
    "# plt.show()"
   ]
  },
  {
   "cell_type": "code",
   "execution_count": null,
   "metadata": {
    "scrolled": true
   },
   "outputs": [],
   "source": [
    "# Next, we look at average price\n",
    "\n",
    "tempprice = sorted(rprice.items())\n",
    "u,v = zip(*tempprice)\n",
    "\n",
    "ratio = lambda a,b: float(a)/float(b) \n",
    "\n",
    "avgprice = list(map(ratio, v,y))\n",
    "\n",
    "xd = pd.to_datetime(x)\n"
   ]
  },
  {
   "cell_type": "code",
   "execution_count": null,
   "metadata": {},
   "outputs": [],
   "source": [
    "plt.figure(figsize=(12,10))\n",
    "plt.plot(xd,avgprice)\n",
    "plt.xticks(rotation = 'vertical')\n",
    "plt.ylabel('Average price')\n",
    "plt.title(\"Average price vs. Date\")\n",
    "plt.show()"
   ]
  },
  {
   "cell_type": "code",
   "execution_count": null,
   "metadata": {},
   "outputs": [],
   "source": [
    "#Let us also plot a smaller time interval\n",
    "plt.figure(figsize=(12,10))\n",
    "plt.plot(xd[0:28],avgprice[0:28])\n",
    "plt.xticks(rotation = 'vertical')\n",
    "plt.ylabel('Average price')\n",
    "plt.title(\"Average price vs. Date\")\n",
    "plt.show()"
   ]
  },
  {
   "cell_type": "markdown",
   "metadata": {},
   "source": [
    "When analyzing time series data like this, it is common to view it as a sum of several contributing effects over time plus noise. The two common types of summands in such a representation are:\n",
    "\n",
    "1. **Seasonal effects**: this is a summand that is periodic, often with period corresponding to the calendar (week, month or year).\n",
    "2. **Trend effects**: this is a smooth summand that goes up or down slowly over an entire series, representing long-term trends such as price inflation."
   ]
  },
  {
   "cell_type": "markdown",
   "metadata": {},
   "source": [
    "### Exercise 8: \n",
    "\n",
    "#### 8.1\n",
    "\n",
    "Visually, can you see any strong seasonal or trend components? What do they mean?\n",
    "\n",
    "**Answer.**"
   ]
  },
  {
   "cell_type": "markdown",
   "metadata": {},
   "source": [
    "#### 8.2\n",
    "\n",
    "What is the enormous spike that you see in this chart? Is it real, and how would you describe what is going on in layman's terms?\n",
    "\n",
    "**Answer.**"
   ]
  },
  {
   "cell_type": "markdown",
   "metadata": {},
   "source": [
    "#### 8.3\n",
    "\n",
    "Can we guess the busiest season (excluding Christmas) from this raw chart?\n",
    "\n",
    "**Answer.**"
   ]
  },
  {
   "cell_type": "markdown",
   "metadata": {},
   "source": [
    "## Conclusions\n",
    "\n",
    "In this case, we saw that Airbnb prices are influenced by many factors. Some of the main ones include location, date, number of bedrooms, number of guests, and property type.\n",
    "\n",
    "Any future model we build should feature these factors. Incorporating some of these factors, such as the number of bedrooms, should be straightforward, as this has a large and nearly linear relationship to price. But others, such as location, exhibit very non-linear relationships. We will learn how to deal with these types of complex relationships in future cases.\n",
    "\n",
    "We also found some surprising correlations, such as the negative correlation between price and parking. However, after breaking the data down by neighborhoods and incorporating the interaction effect of location, this negative correlation went away entirely.\n",
    "\n",
    "Temporal effects are a very specific type of interaction effect which must be dealt with separately. Our exploration tells us that any model of AirBnB pricing should take into account strong seasonal components as well as strong spikes around major holidays. "
   ]
  },
  {
   "cell_type": "markdown",
   "metadata": {},
   "source": [
    "## Takeaways\n",
    "\n",
    "In this case, you learned the following exploration process:\n",
    "\n",
    "1. Start by looking at the distributions of the available variables to look for interesting patterns and/or outliers.\n",
    "2. You can use a correlation matrix can quickly reveal the most promising candidate variables for further investigation.\n",
    "3. Using the various charts and plots at your disposal, investigate candidate variables in turn. Note which ones exhibit intriguing and unexpected correlations.\n",
    "4. Explore potential interaction effects for the variables exhibiting unexpected correlations. Suspected important interactions should be looked at directly with further plotting.\n",
    "5. Finally, take some time to carefully plot any interactions that you know to be important from domain knowledge. In our case, we looked at two features that are common to many datasets: location data and temporal data. Both of these contained very important signals that were immediately visually apparent, but which were strongly non-linear and could not easily be reduced to correlations or other simple summaries.\n",
    "\n",
    "This process can be a bit daunting at first, but it is widely used by veteran data analysts and scientists and is extremely effective in most situations.\n",
    "\n",
    "We assume this walkthrough was new to many of you, so there is a large amount of learning to digest here. We strongly recommend that you redo/review this case again by yourself until each step seems logical. It is crucial that you feel comfortable with this EDA process as we move towards later cases. By iteratively generating hypotheses throughout this process and investigating them, you can uncover great insight about what is going on without building a single formal model. Formal modeling will be discussed in future cases."
   ]
  }
 ],
 "metadata": {
  "kernelspec": {
   "display_name": "Python 3",
   "language": "python",
   "name": "python3"
  },
  "language_info": {
   "codemirror_mode": {
    "name": "ipython",
    "version": 3
   },
   "file_extension": ".py",
   "mimetype": "text/x-python",
   "name": "python",
   "nbconvert_exporter": "python",
   "pygments_lexer": "ipython3",
   "version": "3.7.3"
  }
 },
 "nbformat": 4,
 "nbformat_minor": 4
}
