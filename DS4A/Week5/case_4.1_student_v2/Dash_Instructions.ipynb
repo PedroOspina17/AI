{
 "cells": [
  {
   "cell_type": "markdown",
   "metadata": {},
   "source": [
    "# Dash\n",
    "\n",
    "\n",
    "In Case 4.1 you will learn how to create simple web apps using [Dash](https://dash.plotly.com/). However,  we need to make sure you have all the requirements to run the case. Follow these simple steps **before class** so that we avoid any troubles during class.\n",
    "\n",
    "First make sure you have downloaded Case 4.1. This case contains a pair of folders named `App` and `App_solutions`. You will work within these folders during class. Even though we will be using Jupyter Notebook during class, you are welcome to use your favorite Python IDE to modify the files in these folders while creating your app. "
   ]
  },
  {
   "cell_type": "markdown",
   "metadata": {},
   "source": [
    "## Using Anaconda\n",
    "\n",
    "\n",
    "1. Open Anaconda Prompt and activate your working environment. \n",
    "2. Install the requirements provided for the case using `pip install -r path/to/case_4.1_student/requirements.txt`  \n",
    "3. Set the current directory to the folder `App` and run the `index.py` file. This can be done by typing \n",
    "```\n",
    "cd path/to/case_4.1_student/App\n",
    "python index.py\n",
    "```\n",
    "**Note:** OSX/Linux. If you get the error `File b'Data\\\\superstore.csv' does not exists`. Simply replace `\\\\` with `/` in the file `lib/stats.py`\n",
    "\n",
    "4. Your anaconda prompt should output code similar to this:\n",
    "```python\n",
    "Running on http://127.0.0.1:8050/\n",
    "Debugger PIN: 012-429-383\n",
    " * Serving Flask app \"app\" (lazy loading)\n",
    " * Environment: production\n",
    "   WARNING: This is a development server. Do not use it in a production deployment.\n",
    "   Use a production WSGI server instead.\n",
    " * Debug mode: on\n",
    "Running on http://127.0.0.1:8050/\n",
    "Debugger PIN: 108-533-243\n",
    "```\n",
    "5. Finally, navigate to `http://127.0.0.1:8050/` (or the address shown in the output, say `http://0.0.0.0:8050/` for Windows: you will have to use `http://localhost:8050`) using your web browser. You should see a simple webpage with the title `US Sales Dashboard`."
   ]
  },
  {
   "cell_type": "markdown",
   "metadata": {},
   "source": [
    "## Using Docker\n",
    "\n",
    "1. **Close your current docker instance**. Open back Jupyter Notebook but this time using the command:\n",
    "```\n",
    "docker run -p 8888:8888 -p 8050:8050 -v \"$PWD\":/home/jovyan/work jupyter/scipy-notebook:17aba6048f44\n",
    "```\n",
    "    This ensures that we have access to port 8050. We need this as our apps will run in that port over the docker image. \n",
    "\n",
    "2. Install the requirements.txt file as usual. That is, open a terminal in Jupyter Notebook and run \n",
    "```\n",
    "pip install -r work/path/to/requirements.txt\n",
    "```\n",
    "\n",
    "3. Set the current directory to the folder `App` and run the `index.py` file. This can be done by typing \n",
    "```\n",
    "cd path/to/case_4.1_student/App\n",
    "python index.py\n",
    "```\n",
    "**Note:** OSX/Linux. If you get the error `File b'Data\\\\superstore.csv' does not exists`. Simply replace `\\\\` with `/` in the file `lib/stats.py`. \n",
    "\n",
    "\n",
    "4. Your terminal should output a code similar to this:\n",
    "```python\n",
    "Running on http://127.0.0.1:8050/\n",
    "Debugger PIN: 012-429-383\n",
    " * Serving Flask app \"app\" (lazy loading)\n",
    " * Environment: production\n",
    "   WARNING: This is a development server. Do not use it in a production deployment.\n",
    "   Use a production WSGI server instead.\n",
    " * Debug mode: on\n",
    "Running on http://127.0.0.1:8050/\n",
    "Debugger PIN: 108-533-243\n",
    "```\n",
    "\n",
    "5. Navigate to the address `http://127.0.0.1:8050/` (or the address shown in the output, say `http://0.0.0.0:8050/`). If you see an error accessing the page, simply open the `index.py` using your favorite Python IDE and replace the last two lines from \n",
    "```python\n",
    "if __name__ == \"__main__\":\n",
    "    app.run_server(debug=True)\n",
    "```\n",
    "to \n",
    "```python\n",
    "if __name__ == \"__main__\":\n",
    "    app.run_server(host='0.0.0.0',port='8050',debug=True)\n",
    "```\n",
    "Run `index.py` once again and navigate to the address `http://0.0.0.0:8050/`. You should be able to see a simple webpage with the title `US Sales Dashboard`."
   ]
  },
  {
   "cell_type": "code",
   "execution_count": null,
   "metadata": {},
   "outputs": [],
   "source": []
  }
 ],
 "metadata": {
  "kernelspec": {
   "display_name": "Python 3",
   "language": "python",
   "name": "python3"
  },
  "language_info": {
   "codemirror_mode": {
    "name": "ipython",
    "version": 3
   },
   "file_extension": ".py",
   "mimetype": "text/x-python",
   "name": "python",
   "nbconvert_exporter": "python",
   "pygments_lexer": "ipython3",
   "version": "3.7.7"
  }
 },
 "nbformat": 4,
 "nbformat_minor": 2
}
