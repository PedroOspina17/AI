{
 "cells": [
  {
   "cell_type": "markdown",
   "metadata": {},
   "source": [
    "## How do I select survey participants from a pool of potential customers at my soon-to-be-opened sandwich shop in order to plan the menu?"
   ]
  },
  {
   "cell_type": "markdown",
   "metadata": {},
   "source": [
    "## Introduction\n",
    "\n",
    "**Business Context.** Your friends want to open a sandwich shop in an area surrounded by office buildings. This sounds like a good business opportunity! However, new ventures, especially in the restaurant business, require careful planning to increase the likelihood of having a successful opening and subsequent business. A key aspect of this planning is to get a good grip on what your potential customers would like to order and what the popular items on the menu will be. Your friends will conduct a survey in order to obtain better knowledge of the preferences of our potential costumers. However, they are unsure of who to send out the survey to, so they have hired you as a consultant to help them figure this out.\n",
    "\n",
    "**Business Problem.** Your task is to **devise a plan for how to select people from the potential customer base to send a survey to, while still obtaining answers helpful for planning the menu.**\n",
    "\n",
    "**Analytical Context.** The case will proceed as follows: you will (1) understand some more background on the problem and pull in the data; (2) learn about and use some simple methods of sampling our population; (3) look at shortcomings of those simple methods and turn to more sophisticated methods instead; and finally (4) implement those complex methods and analyze the results."
   ]
  },
  {
   "cell_type": "markdown",
   "metadata": {},
   "source": [
    "## Background on the problem\n",
    "\n",
    "Your new sandwich shop will be located in a busy neighborhood in Bogotá, and you have estimated that there are about 100,000 potential customers. There is a mix of residential and commercial buildings around your shop. In such a scenario, it is infeasible, and at best impractical, to ask every potential customer about their preferences. We need to find a way to select a sample set of individuals whose answers, when put together, will provide useful information for creating a menu for the entire potential customer base."
   ]
  },
  {
   "cell_type": "markdown",
   "metadata": {},
   "source": [
    "### Designing survey questions\n",
    "\n",
    "Designing survey questions requires careful thought and some domain expertise. After consulting with experts in the restaurant planning business, we have planned to ask the the following questions: \n",
    "\n",
    "1. What kind of meat/veggie do you prefer? (a) steak (b) roasted veggies (c) chicken (d) ham\n",
    "2. What is your preference for cheese? (a) provolone (b) Swiss (c) cheddar (d) doble crema\n",
    "3. What is your preference for bread? (a) white (b) wheat (c) rye (d) artisinal\n",
    "4. Do you prefer to eat out for lunch or dinner? (a) lunch (b) dinner\n",
    "5. What is your preference for dessert? (a) oblea (b) tres leches (c) arequipe (d) ice cream\n",
    "6. What days do you prefer to eat out? (a) weekdays (b) weekends\n",
    "\n",
    "These questions will help us put together a nice menu. This is a great start; however, putting together a survey that proves useful to our enterprise requires more than just asking a few good questions.\n",
    "\n",
    "Recall the task is to *devise a plan for how to select people from the potential customer base to send a survey to while still obtaining answers helpful for planning the menu*. This involves more than just knowing what questions to ask; it involves knowing the profiles of people to ask and how to source those people!"
   ]
  },
  {
   "cell_type": "markdown",
   "metadata": {},
   "source": [
    "### Exercise 1:\n",
    "\n",
    "Talk to your group and list some ways to approach sampling in this dataset."
   ]
  },
  {
   "cell_type": "markdown",
   "metadata": {},
   "source": [
    "**Answer**:"
   ]
  },
  {
   "cell_type": "markdown",
   "metadata": {},
   "source": [
    "---------"
   ]
  },
  {
   "cell_type": "markdown",
   "metadata": {},
   "source": [
    "These four approaches are called convenience sampling, simple random sampling, stratified sampling, and cluster sampling. We'll now look at sampling from an invented target population using these four methods."
   ]
  },
  {
   "cell_type": "code",
   "execution_count": null,
   "metadata": {},
   "outputs": [],
   "source": [
    "import pandas as pd\n",
    "import numpy as np\n",
    "import matplotlib.pyplot as plt\n",
    "import seaborn as sns; sns.set()\n",
    "from numpy import random as r"
   ]
  },
  {
   "cell_type": "code",
   "execution_count": null,
   "metadata": {},
   "outputs": [],
   "source": [
    "## Creating a dataset.\n",
    "def get_income_quartile(i):\n",
    "    rand = r.random()\n",
    "    if df.loc[i,'building'] == 1:\n",
    "        if rand < 0.25:\n",
    "            return 1\n",
    "        elif rand < 0.5:\n",
    "            return 2\n",
    "        elif rand < 0.75:\n",
    "            return 3\n",
    "        else:\n",
    "            return 4\n",
    "    elif df.loc[i,'building'] == 2:\n",
    "        if rand < 0.15:\n",
    "            return 1\n",
    "        elif rand < 0.35:\n",
    "            return 2\n",
    "        elif rand < 0.7:\n",
    "            return 3\n",
    "        else:\n",
    "            return 4\n",
    "    elif df.loc[i,'building'] == 3:\n",
    "        if rand < 0.4:\n",
    "            return 1\n",
    "        elif rand < 0.8:\n",
    "            return 2\n",
    "        elif rand < 0.9:\n",
    "            return 3\n",
    "        else:\n",
    "            return 4\n",
    "    elif df.loc[i,'building'] == 4:\n",
    "        if rand < 0.1:\n",
    "            return 1\n",
    "        elif rand < 0.5:\n",
    "            return 2\n",
    "        elif rand < 0.9:\n",
    "            return 3\n",
    "        else:\n",
    "            return 4\n",
    "        \n",
    "\n",
    "columns = ['building','kids', 'crosses_corner', 'income_quartile', 'desserts', 'weekday/weekend', 'lunch/dinner', 'meat', 'cheese', 'bread']\n",
    "index = np.arange(100000)\n",
    "df = pd.DataFrame(columns=columns, index=index)\n",
    "df['building'] = [1] * 25000 + [2] * 25000 + [3] * 25000 + [4] * 25000\n",
    "df['crosses_corner'] = [r.random() > 0.75 for _ in range(len(index))]\n",
    "df['income_quartile'] = [get_income_quartile(i) for i in range(len(index))]\n",
    "df['kids'] = [r.choice([0, 1, 2, 3, 4], p=[0.15, 0.25, 0.45, 0.1, 0.05]) for _ in range(len(index))]"
   ]
  },
  {
   "cell_type": "code",
   "execution_count": null,
   "metadata": {},
   "outputs": [],
   "source": [
    "def get_answers(i):\n",
    "    building, kids, corner, income = df.loc[i,['building', 'kids', 'crosses_corner', 'income_quartile']]\n",
    "    seed_dessert = r.random() # Desserts\n",
    "    seed_weekday = r.random() # Weekday/weekend\n",
    "    seed_lunch = r.random() # Lunch/dinner\n",
    "    seed_meat = r.random() # Meat\n",
    "    seed_cheese = r.random() # Cheese\n",
    "    seed_bread = r.random() # Bread\n",
    "    \n",
    "    desserts = ''\n",
    "    weekday = ''\n",
    "    lunch = ''\n",
    "    meat = ''\n",
    "    cheese = ''\n",
    "    bread = ''\n",
    "    \n",
    "    dessert_options = ['oblea', 'tres leches', 'arequipe', 'ice cream']\n",
    "    weekday_options = ['weekday', 'weekend']\n",
    "    lunch_options = ['lunch', 'dinner']\n",
    "    meat_options = ['roasted veggies', 'chicken', 'ham', 'steak']\n",
    "    cheese_options = ['provolone', 'Swiss', 'cheddar', 'doble crema']\n",
    "    bread_options = ['white', 'wheat', 'rye', 'artisinal']\n",
    "    \n",
    "    if seed_weekday > 0.5:\n",
    "        weekday = 'weekday'\n",
    "    else:\n",
    "        weekday = 'weekend'\n",
    "    \n",
    "    def responses(dessert_probs, weekday_probs, lunch_probs, meat_probs, cheese_probs, bread_probs):\n",
    "        responses = []\n",
    "        for i, prob in enumerate(dessert_probs):\n",
    "            if seed_dessert < prob:\n",
    "                responses.append(dessert_options[i])\n",
    "                break\n",
    "        for i, prob in enumerate(weekday_probs):\n",
    "            if seed_weekday < prob:\n",
    "                responses.append(weekday_options[i])\n",
    "                break\n",
    "        for i, prob in enumerate(lunch_probs):\n",
    "            if seed_lunch < prob:\n",
    "                responses.append(lunch_options[i])\n",
    "                break\n",
    "        for i, prob in enumerate(meat_probs):\n",
    "            if seed_meat < prob:\n",
    "                responses.append(meat_options[i])\n",
    "                break\n",
    "        for i, prob in enumerate(cheese_probs):\n",
    "            if seed_cheese < prob:\n",
    "                responses.append(cheese_options[i])\n",
    "                break\n",
    "        for i, prob in enumerate(bread_probs):\n",
    "            if seed_bread < prob:\n",
    "                responses.append(bread_options[i])\n",
    "                break\n",
    "        return responses\n",
    "    \n",
    "    dessert_probs = [1] * len(dessert_options)\n",
    "    weekday_probs = [1] * len(weekday_options)\n",
    "    lunch_probs = [1] * len(lunch_options)\n",
    "    meat_probs = [1] * len(meat_options)\n",
    "    cheese_probs = [1] * len(cheese_options)\n",
    "    bread_probs = [1] * len(bread_options)\n",
    "    \n",
    "    \n",
    "    \n",
    "    # The part that actually requires judgment\n",
    "    \n",
    "    if kids == 0:\n",
    "        seed_lunch = -np.exp(-3 * seed_lunch) + 1\n",
    "        if income == 1:\n",
    "            if corner:\n",
    "                dessert_probs = [0.4, 0.6, 0.8,1]\n",
    "                weekday_probs = [0.5, 1]\n",
    "                lunch_probs = [0.5, 1]\n",
    "                meat_probs = [0.3, 0.6, 0.8, 1]\n",
    "                cheese_probs = [0.25, 0.5, 0.75, 1]\n",
    "                bread_probs = [0.3, 0.6, 0.9, 1]\n",
    "            else:\n",
    "                dessert_probs = [0.1, 0.5, 0.75, 1]\n",
    "                weekday_probs = [0.5, 1]\n",
    "                lunch_probs = [0.5, 1]\n",
    "                meat_probs = [0.2, 0.4, 0.7, 1]\n",
    "                cheese_probs = [0.23, 0.46, 0.69, 1]\n",
    "                bread_probs = [0.3, 0.6, 0.9, 1]\n",
    "        elif income == 2:\n",
    "            if corner:\n",
    "                dessert_probs = [0.4, 0.6, 0.8,1]\n",
    "                weekday_probs = [0.5, 1]\n",
    "                lunch_probs = [0.5, 1]\n",
    "                meat_probs = [0.3, 0.6, 0.8, 1]\n",
    "                cheese_probs = [0.26, 0.52, 0.78, 1]\n",
    "                bread_probs = [0.25, 0.5, 0.75, 1]\n",
    "            else:\n",
    "                dessert_probs = [0.1, 0.5, 0.75, 1]\n",
    "                weekday_probs = [0.5, 1]\n",
    "                lunch_probs = [0.5, 1]\n",
    "                meat_probs = [0.25, 0.5, 0.75, 1]\n",
    "                cheese_probs = [0.25, 0.5, 0.75, 1]\n",
    "                bread_probs = [0.25, 0.5, 0.75, 1]\n",
    "        elif income == 3:\n",
    "            if corner:\n",
    "                dessert_probs = [0.4, 0.6, 0.8,1]\n",
    "                weekday_probs = [0.5, 1]\n",
    "                lunch_probs = [0.5, 1]\n",
    "                meat_probs = [0.4, 0.7, 0.85, 1]\n",
    "                cheese_probs = [0.3, 0.6, 0.9, 1]\n",
    "                bread_probs = [0.2, 0.4, 0.6, 1]\n",
    "            else:\n",
    "                dessert_probs = [0.1, 0.5, 0.75, 1]\n",
    "                weekday_probs = [0.5, 1]\n",
    "                lunch_probs = [0.5, 1]\n",
    "                meat_probs = [0.3, 0.6, 0.8, 1]\n",
    "                cheese_probs = [0.26, 0.52, 0.78, 1]\n",
    "                bread_probs = [0.2, 0.4, 0.6, 1]\n",
    "        elif income == 4:\n",
    "            if corner:\n",
    "                dessert_probs = [0.4, 0.6, 0.8,1]\n",
    "                weekday_probs = [0.5, 1]\n",
    "                lunch_probs = [0.5, 1]\n",
    "                meat_probs = [0.45, 0.8, 0.9, 1]\n",
    "                cheese_probs = [0.33, 0.66, 0.99, 1]\n",
    "                bread_probs = [0.15, 0.3, 0.45, 1]\n",
    "            else:\n",
    "                dessert_probs = [0.1, 0.5, 0.75, 1]\n",
    "                weekday_probs = [0.5, 1]\n",
    "                lunch_probs = [0.5, 1]\n",
    "                meat_probs = [0.35, 0.7, 0.9, 1]\n",
    "                cheese_probs = [0.3, 0.6, 0.9, 1]\n",
    "                bread_probs = [0.15, 0.3, 0.45, 1]\n",
    "    elif kids == 1:\n",
    "        seed_lunch = -np.exp(-2 * seed_lunch) + 1\n",
    "        if income == 1:\n",
    "            if corner:\n",
    "                dessert_probs = [0.4, 0.6, 0.8,1]\n",
    "                weekday_probs = [0.5, 1]\n",
    "                lunch_probs = [0.5, 1]\n",
    "                meat_probs = [0.3, 0.6, 0.8, 1]\n",
    "                cheese_probs = [0.25, 0.5, 0.75, 1]\n",
    "                bread_probs = [0.3, 0.6, 0.9, 1]\n",
    "            else:\n",
    "                dessert_probs = [0.1, 0.5, 0.75, 1]\n",
    "                weekday_probs = [0.5, 1]\n",
    "                lunch_probs = [0.5, 1]\n",
    "                meat_probs = [0.2, 0.4, 0.7, 1]\n",
    "                cheese_probs = [0.23, 0.46, 0.69, 1]\n",
    "                bread_probs = [0.3, 0.6, 0.9, 1]\n",
    "        elif income == 2:\n",
    "            if corner:\n",
    "                dessert_probs = [0.4, 0.6, 0.8,1]\n",
    "                weekday_probs = [0.5, 1]\n",
    "                lunch_probs = [0.5, 1]\n",
    "                meat_probs = [0.3, 0.6, 0.8, 1]\n",
    "                cheese_probs = [0.26, 0.52, 0.78, 1]\n",
    "                bread_probs = [0.25, 0.5, 0.75, 1]\n",
    "            else:\n",
    "                dessert_probs = [0.1, 0.5, 0.75, 1]\n",
    "                weekday_probs = [0.5, 1]\n",
    "                lunch_probs = [0.5, 1]\n",
    "                meat_probs = [0.25, 0.5, 0.75, 1]\n",
    "                cheese_probs = [0.25, 0.5, 0.75, 1]\n",
    "                bread_probs = [0.25, 0.5, 0.75, 1]\n",
    "        elif income == 3:\n",
    "            if corner:\n",
    "                dessert_probs = [0.4, 0.6, 0.8,1]\n",
    "                weekday_probs = [0.5, 1]\n",
    "                lunch_probs = [0.5, 1]\n",
    "                meat_probs = [0.4, 0.7, 0.85, 1]\n",
    "                cheese_probs = [0.3, 0.6, 0.9, 1]\n",
    "                bread_probs = [0.2, 0.4, 0.6, 1]\n",
    "            else:\n",
    "                dessert_probs = [0.1, 0.5, 0.75, 1]\n",
    "                weekday_probs = [0.5, 1]\n",
    "                lunch_probs = [0.5, 1]\n",
    "                meat_probs = [0.3, 0.6, 0.8, 1]\n",
    "                cheese_probs = [0.26, 0.52, 0.78, 1]\n",
    "                bread_probs = [0.2, 0.4, 0.6, 1]\n",
    "        elif income == 4:\n",
    "            if corner:\n",
    "                dessert_probs = [0.4, 0.6, 0.8,1]\n",
    "                weekday_probs = [0.5, 1]\n",
    "                lunch_probs = [0.5, 1]\n",
    "                meat_probs = [0.45, 0.8, 0.9, 1]\n",
    "                cheese_probs = [0.33, 0.66, 0.99, 1]\n",
    "                bread_probs = [0.15, 0.3, 0.45, 1]\n",
    "            else:\n",
    "                dessert_probs = [0.1, 0.5, 0.75, 1]\n",
    "                weekday_probs = [0.5, 1]\n",
    "                lunch_probs = [0.5, 1]\n",
    "                meat_probs = [0.35, 0.7, 0.9, 1]\n",
    "                cheese_probs = [0.3, 0.6, 0.9, 1]\n",
    "                bread_probs = [0.15, 0.3, 0.45, 1]\n",
    "    elif kids == 2:\n",
    "        seed_lunch = -np.exp(-seed_lunch) + 1\n",
    "        if income == 1:\n",
    "            if corner:\n",
    "                dessert_probs = [0.4, 0.6, 0.8,1]\n",
    "                weekday_probs = [0.5, 1]\n",
    "                lunch_probs = [0.5, 1]\n",
    "                meat_probs = [0.3, 0.6, 0.8, 1]\n",
    "                cheese_probs = [0.25, 0.5, 0.75, 1]\n",
    "                bread_probs = [0.3, 0.6, 0.9, 1]\n",
    "            else:\n",
    "                dessert_probs = [0.1, 0.5, 0.75, 1]\n",
    "                weekday_probs = [0.5, 1]\n",
    "                lunch_probs = [0.5, 1]\n",
    "                meat_probs = [0.2, 0.4, 0.7, 1]\n",
    "                cheese_probs = [0.23, 0.46, 0.69, 1]\n",
    "                bread_probs = [0.3, 0.6, 0.9, 1]\n",
    "        elif income == 2:\n",
    "            if corner:\n",
    "                dessert_probs = [0.4, 0.6, 0.8,1]\n",
    "                weekday_probs = [0.5, 1]\n",
    "                lunch_probs = [0.5, 1]\n",
    "                meat_probs = [0.3, 0.6, 0.8, 1]\n",
    "                cheese_probs = [0.26, 0.52, 0.78, 1]\n",
    "                bread_probs = [0.25, 0.5, 0.75, 1]\n",
    "            else:\n",
    "                dessert_probs = [0.1, 0.5, 0.75, 1]\n",
    "                weekday_probs = [0.5, 1]\n",
    "                lunch_probs = [0.5, 1]\n",
    "                meat_probs = [0.25, 0.5, 0.75, 1]\n",
    "                cheese_probs = [0.25, 0.5, 0.75, 1]\n",
    "                bread_probs = [0.25, 0.5, 0.75, 1]\n",
    "        elif income == 3:\n",
    "            if corner:\n",
    "                dessert_probs = [0.4, 0.6, 0.8,1]\n",
    "                weekday_probs = [0.5, 1]\n",
    "                lunch_probs = [0.5, 1]\n",
    "                meat_probs = [0.4, 0.7, 0.85, 1]\n",
    "                cheese_probs = [0.3, 0.6, 0.9, 1]\n",
    "                bread_probs = [0.2, 0.4, 0.6, 1]\n",
    "            else:\n",
    "                dessert_probs = [0.1, 0.5, 0.75, 1]\n",
    "                weekday_probs = [0.5, 1]\n",
    "                lunch_probs = [0.5, 1]\n",
    "                meat_probs = [0.3, 0.6, 0.8, 1]\n",
    "                cheese_probs = [0.26, 0.52, 0.78, 1]\n",
    "                bread_probs = [0.2, 0.4, 0.6, 1]\n",
    "        elif income == 4:\n",
    "            if corner:\n",
    "                dessert_probs = [0.4, 0.6, 0.8,1]\n",
    "                weekday_probs = [0.5, 1]\n",
    "                lunch_probs = [0.5, 1]\n",
    "                meat_probs = [0.45, 0.8, 0.9, 1]\n",
    "                cheese_probs = [0.33, 0.66, 0.99, 1]\n",
    "                bread_probs = [0.15, 0.3, 0.45, 1]\n",
    "            else:\n",
    "                dessert_probs = [0.1, 0.5, 0.75, 1]\n",
    "                weekday_probs = [0.5, 1]\n",
    "                lunch_probs = [0.5, 1]\n",
    "                meat_probs = [0.35, 0.7, 0.9, 1]\n",
    "                cheese_probs = [0.3, 0.6, 0.9, 1]\n",
    "                bread_probs = [0.15, 0.3, 0.45, 1]\n",
    "    elif kids == 3:\n",
    "        seed_lunch = -np.exp(-0.5 * seed_lunch) + 1\n",
    "        if income == 1:\n",
    "            if corner:\n",
    "                dessert_probs = [0.4, 0.6, 0.8,1]\n",
    "                weekday_probs = [0.5, 1]\n",
    "                lunch_probs = [0.5, 1]\n",
    "                meat_probs = [0.3, 0.6, 0.8, 1]\n",
    "                cheese_probs = [0.25, 0.5, 0.75, 1]\n",
    "                bread_probs = [0.3, 0.6, 0.9, 1]\n",
    "            else:\n",
    "                dessert_probs = [0.1, 0.5, 0.75, 1]\n",
    "                weekday_probs = [0.5, 1]\n",
    "                lunch_probs = [0.5, 1]\n",
    "                meat_probs = [0.2, 0.4, 0.7, 1]\n",
    "                cheese_probs = [0.23, 0.46, 0.69, 1]\n",
    "                bread_probs = [0.3, 0.6, 0.9, 1]\n",
    "        elif income == 2:\n",
    "            if corner:\n",
    "                dessert_probs = [0.4, 0.6, 0.8,1]\n",
    "                weekday_probs = [0.5, 1]\n",
    "                lunch_probs = [0.5, 1]\n",
    "                meat_probs = [0.3, 0.6, 0.8, 1]\n",
    "                cheese_probs = [0.26, 0.52, 0.78, 1]\n",
    "                bread_probs = [0.25, 0.5, 0.75, 1]\n",
    "            else:\n",
    "                dessert_probs = [0.1, 0.5, 0.75, 1]\n",
    "                weekday_probs = [0.5, 1]\n",
    "                lunch_probs = [0.5, 1]\n",
    "                meat_probs = [0.25, 0.5, 0.75, 1]\n",
    "                cheese_probs = [0.25, 0.5, 0.75, 1]\n",
    "                bread_probs = [0.25, 0.5, 0.75, 1]\n",
    "        elif income == 3:\n",
    "            if corner:\n",
    "                dessert_probs = [0.4, 0.6, 0.8,1]\n",
    "                weekday_probs = [0.5, 1]\n",
    "                lunch_probs = [0.5, 1]\n",
    "                meat_probs = [0.4, 0.7, 0.85, 1]\n",
    "                cheese_probs = [0.3, 0.6, 0.9, 1]\n",
    "                bread_probs = [0.2, 0.4, 0.6, 1]\n",
    "            else:\n",
    "                dessert_probs = [0.1, 0.5, 0.75, 1]\n",
    "                weekday_probs = [0.5, 1]\n",
    "                lunch_probs = [0.5, 1]\n",
    "                meat_probs = [0.3, 0.6, 0.8, 1]\n",
    "                cheese_probs = [0.26, 0.52, 0.78, 1]\n",
    "                bread_probs = [0.2, 0.4, 0.6, 1]\n",
    "        elif income == 4:\n",
    "            if corner:\n",
    "                dessert_probs = [0.4, 0.6, 0.8,1]\n",
    "                weekday_probs = [0.5, 1]\n",
    "                lunch_probs = [0.5, 1]\n",
    "                meat_probs = [0.45, 0.8, 0.9, 1]\n",
    "                cheese_probs = [0.33, 0.66, 0.99, 1]\n",
    "                bread_probs = [0.15, 0.3, 0.45, 1]\n",
    "            else:\n",
    "                dessert_probs = [0.1, 0.5, 0.75, 1]\n",
    "                weekday_probs = [0.5, 1]\n",
    "                lunch_probs = [0.5, 1]\n",
    "                meat_probs = [0.35, 0.7, 0.9, 1]\n",
    "                cheese_probs = [0.3, 0.6, 0.9, 1]\n",
    "                bread_probs = [0.15, 0.3, 0.45, 1]\n",
    "    elif kids == 4:\n",
    "        seed_lunch = -np.exp(-0.25 * seed_lunch) + 1\n",
    "        if income == 1:\n",
    "            if corner:\n",
    "                dessert_probs = [0.4, 0.6, 0.8,1]\n",
    "                weekday_probs = [0.5, 1]\n",
    "                lunch_probs = [0.5, 1]\n",
    "                meat_probs = [0.3, 0.6, 0.8, 1]\n",
    "                cheese_probs = [0.25, 0.5, 0.75, 1]\n",
    "                bread_probs = [0.3, 0.6, 0.9, 1]\n",
    "            else:\n",
    "                dessert_probs = [0.1, 0.5, 0.75, 1]\n",
    "                weekday_probs = [0.5, 1]\n",
    "                lunch_probs = [0.5, 1]\n",
    "                meat_probs = [0.2, 0.4, 0.7, 1]\n",
    "                cheese_probs = [0.23, 0.46, 0.69, 1]\n",
    "                bread_probs = [0.3, 0.6, 0.9, 1]\n",
    "        elif income == 2:\n",
    "            if corner:\n",
    "                dessert_probs = [0.4, 0.6, 0.8,1]\n",
    "                weekday_probs = [0.5, 1]\n",
    "                lunch_probs = [0.5, 1]\n",
    "                meat_probs = [0.3, 0.6, 0.8, 1]\n",
    "                cheese_probs = [0.26, 0.52, 0.78, 1]\n",
    "                bread_probs = [0.25, 0.5, 0.75, 1]\n",
    "            else:\n",
    "                dessert_probs = [0.1, 0.5, 0.75, 1]\n",
    "                weekday_probs = [0.5, 1]\n",
    "                lunch_probs = [0.5, 1]\n",
    "                meat_probs = [0.25, 0.5, 0.75, 1]\n",
    "                cheese_probs = [0.25, 0.5, 0.75, 1]\n",
    "                bread_probs = [0.25, 0.5, 0.75, 1]\n",
    "        elif income == 3:\n",
    "            if corner:\n",
    "                dessert_probs = [0.4, 0.6, 0.8,1]\n",
    "                weekday_probs = [0.5, 1]\n",
    "                lunch_probs = [0.5, 1]\n",
    "                meat_probs = [0.4, 0.7, 0.85, 1]\n",
    "                cheese_probs = [0.3, 0.6, 0.9, 1]\n",
    "                bread_probs = [0.2, 0.4, 0.6, 1]\n",
    "            else:\n",
    "                dessert_probs = [0.1, 0.5, 0.75, 1]\n",
    "                weekday_probs = [0.5, 1]\n",
    "                lunch_probs = [0.5, 1]\n",
    "                meat_probs = [0.3, 0.6, 0.8, 1]\n",
    "                cheese_probs = [0.26, 0.52, 0.78, 1]\n",
    "                bread_probs = [0.2, 0.4, 0.6, 1]\n",
    "        elif income == 4:\n",
    "            if corner:\n",
    "                dessert_probs = [0.4, 0.6, 0.8,1]\n",
    "                weekday_probs = [0.5, 1]\n",
    "                lunch_probs = [0.5, 1]\n",
    "                meat_probs = [0.45, 0.8, 0.9, 1]\n",
    "                cheese_probs = [0.33, 0.66, 0.99, 1]\n",
    "                bread_probs = [0.15, 0.3, 0.45, 1]\n",
    "            else:\n",
    "                dessert_probs = [0.1, 0.5, 0.75, 1]\n",
    "                weekday_probs = [0.5, 1]\n",
    "                lunch_probs = [0.5, 1]\n",
    "                meat_probs = [0.35, 0.7, 0.9, 1]\n",
    "                cheese_probs = [0.3, 0.6, 0.9, 1]\n",
    "                bread_probs = [0.15, 0.3, 0.45, 1]\n",
    "    \n",
    "    return responses(dessert_probs, weekday_probs, lunch_probs, meat_probs, cheese_probs, bread_probs)"
   ]
  },
  {
   "cell_type": "code",
   "execution_count": null,
   "metadata": {},
   "outputs": [],
   "source": [
    "get_answers(0)"
   ]
  },
  {
   "cell_type": "code",
   "execution_count": null,
   "metadata": {
    "scrolled": true
   },
   "outputs": [],
   "source": [
    "df.head()"
   ]
  },
  {
   "cell_type": "markdown",
   "metadata": {},
   "source": [
    "This code creates data.csv which is used for a dataframe later. This takes a long time to run so this code is provided for your reference but you should use the data.csv file already provided in this case.\n",
    "\n",
    "``` py\n",
    "for i in df.index:\n",
    "    responses = get_answers(i)\n",
    "    for j, col in enumerate(['desserts', 'weekday/weekend', 'lunch/dinner', 'meat', 'cheese', 'bread']):\n",
    "        df.loc[i, col] = responses[j]\n",
    "        \n",
    "df.to_csv('data.csv')\n",
    "```"
   ]
  },
  {
   "cell_type": "markdown",
   "metadata": {},
   "source": [
    "## Target populations\n",
    "\n",
    "We are interested in learning about attributes from individuals of a population. In our case, the attributes we are interested in are the preferences that will help us to design a good menu for our sandwich shop.\n",
    "\n",
    "The population we intend to study is called the **target population**. In our case the population we would like to study is the set of potential customers, which is the set of all (~100,000) people working in the buildings surrounding our new shop:"
   ]
  },
  {
   "cell_type": "code",
   "execution_count": null,
   "metadata": {},
   "outputs": [],
   "source": [
    "df = pd.read_csv('data.csv', index_col=0)\n",
    "df.head()"
   ]
  },
  {
   "cell_type": "markdown",
   "metadata": {},
   "source": [
    "The above dataset contains the true preferences of all the 100,000 customers in our target population. For the sake of this problem, we'll sample from this dataset. However, in a real-life sampling context, we can't view this entire dataset, and we must attempt to draw conclusions based on imperfect and/or incomplete samples. Keep this in mind as we go through this case – we will make note of when this restriction is likely to affect real-life workflows vs. our workflow here, as well as how to generally deal with it."
   ]
  },
  {
   "cell_type": "markdown",
   "metadata": {},
   "source": [
    "### Convenience sampling\n",
    "\n",
    "One naive way to collect a sample would be to pick a fixed location on the corner of our shop and give the questionnaire to the first 100 people willing to take it. This is called a **convenience sample**."
   ]
  },
  {
   "cell_type": "markdown",
   "metadata": {},
   "source": [
    "### Exercise 2:\n",
    "\n",
    "What are some problems with a convenience sample?"
   ]
  },
  {
   "cell_type": "markdown",
   "metadata": {},
   "source": [
    "**Answer.**"
   ]
  },
  {
   "cell_type": "markdown",
   "metadata": {},
   "source": [
    "---------"
   ]
  },
  {
   "cell_type": "markdown",
   "metadata": {},
   "source": [
    "Let's sample from the population based on whether or not a potential customer crosses the corner at which we are sampling from:"
   ]
  },
  {
   "cell_type": "code",
   "execution_count": null,
   "metadata": {},
   "outputs": [],
   "source": [
    "survey_answers = ['desserts', 'weekday/weekend', 'lunch/dinner', 'meat', 'cheese', 'bread']"
   ]
  },
  {
   "cell_type": "code",
   "execution_count": null,
   "metadata": {
    "scrolled": false
   },
   "outputs": [],
   "source": [
    "mask = r.choice(df.loc[df['crosses_corner'] == True].index, 100)\n",
    "conv_sample = df.loc[mask]\n",
    "\n",
    "for col in survey_answers:\n",
    "    fig, ax = plt.subplots()\n",
    "    ax.set_title(col + ' Value Counts')\n",
    "    conv_sample[col].value_counts().plot(kind='bar')\n",
    "    plt.show()"
   ]
  },
  {
   "cell_type": "markdown",
   "metadata": {},
   "source": [
    "Of course, the results above exhibit randomness, and will not stay the same each time we run the same block of code. This is because we will be sampling a different 100 people every time."
   ]
  },
  {
   "cell_type": "markdown",
   "metadata": {},
   "source": [
    "As statisticians, this should be deeply disturbing – our first sample indicated that roasted veggies are significantly more popular than chicken, but a more careful look shows that about 30% of the time, chicken actually wins! The moral of the story is that sampling small amounts from a large population has inherent variability and can lead us astray if we aren't careful with how we conduct our sample.\n",
    "\n",
    "Let's see how well the histograms above match the true values in our full population dataset. Of course, note that in a real-life setting, we would not have the luxury of being able to compare our samples to the full population – this is just for instructional purposes:"
   ]
  },
  {
   "cell_type": "code",
   "execution_count": null,
   "metadata": {
    "scrolled": false
   },
   "outputs": [],
   "source": [
    "mask = r.choice(df.loc[df['crosses_corner'] == True].index, 100)\n",
    "conv_sample = df.loc[mask]\n",
    "\n",
    "for col in survey_answers:\n",
    "    fig, ax = plt.subplots()\n",
    "    ax.set_title(col + ' Value Counts')\n",
    "    conv_sample[col].value_counts().plot(kind='bar')\n",
    "    plt.show()\n",
    "    fig, ax = plt.subplots()\n",
    "    ax.set_title(col + ' Value Counts in True Population')\n",
    "    df[col].value_counts().plot(kind='bar')\n",
    "    plt.show()"
   ]
  },
  {
   "cell_type": "markdown",
   "metadata": {},
   "source": [
    "Once again, we should be very disheartened to see these results. It seems like our convenience sampling isn't representative of our population as a whole along most metrics. This motivates us to look at other sampling methods."
   ]
  },
  {
   "cell_type": "markdown",
   "metadata": {},
   "source": [
    "## Simple random sampling\n",
    "\n",
    "Rather than sampling based on our convenience, we can be a little more scientific by randomly selecting potential customers from the entirety of our target population. The approach here is as follows:\n",
    "\n",
    "1. Obtain 100 elements from {1, 2, ..., 100000} using a random number generator\n",
    "2. Apply the questionnaire to the members of the population associated with the numbers we obtained in step 1\n",
    "\n",
    "The procedure just described can be applied for any population with $N$ elements and a desired sample size $n$, with $n < N$. This is known as **simple random sampling**."
   ]
  },
  {
   "cell_type": "markdown",
   "metadata": {},
   "source": [
    "### Exercise 3:\n",
    "\n",
    "Create bar charts to view the survey results under a simple random sample of the dataset. Also, plot a bar chart that shows the variability of the top answer for `cheese` over 200 simple random samples."
   ]
  },
  {
   "cell_type": "markdown",
   "metadata": {},
   "source": [
    "**Answer.**"
   ]
  },
  {
   "cell_type": "markdown",
   "metadata": {},
   "source": [
    "---------"
   ]
  },
  {
   "cell_type": "markdown",
   "metadata": {},
   "source": [
    "This illustrates a prime problem with simple random sampling. In theory, our sample is supposed to be representative of the population. However, because our samples are so small, the variance between samples is significant."
   ]
  },
  {
   "cell_type": "markdown",
   "metadata": {},
   "source": [
    "### Exercise 4:\n",
    "\n",
    "Create a bar chart that shows the variability in the top `cheese` choice in 200 simple random samples when each sample is of size 50000 rather than 100."
   ]
  },
  {
   "cell_type": "markdown",
   "metadata": {},
   "source": [
    "**Answer.**"
   ]
  },
  {
   "cell_type": "markdown",
   "metadata": {},
   "source": [
    "---------"
   ]
  },
  {
   "cell_type": "markdown",
   "metadata": {},
   "source": [
    "This shows how we can reduce variability by increasing the sample size. But in the real world, we'll run against cost and time constraints (in the extreme, this approach reduces to sampling every single person in the target population). We will now consider methods that guarantee representativeness of the population while being far less prohibitive than simple random sampling in terms of sample size."
   ]
  },
  {
   "cell_type": "markdown",
   "metadata": {},
   "source": [
    "### Heterogeneity\n",
    "\n",
    "Summaries like the estimate of the proportion of people that often go for the vegetarian option tend to assume that the data is generated by a simple model. This implies that breaking down the population into categories, like income bracket, should create sub-populations with the same behavior as the entire population.\n",
    "\n",
    "Of course, this is often not the case: it may well be the case that project managers, because of their higher income, regularly go for healthier options with pricier ingredients when compared to workers with noticeably lower income. If splitting the population along a certain feature produces sub-populations with notably different behaviors, then we say that the population is **heterogeneous**.\n",
    "\n",
    "Heterogeneity is detrimental for the performance of the statistics obtained under simple random sampling. But we can make heterogeneity our friend with a divide-and-conquer strategy: we can group the population by income bracket, and perform simple random sampling on each group!"
   ]
  },
  {
   "cell_type": "markdown",
   "metadata": {},
   "source": [
    "## Stratified sampling\n",
    "\n",
    "**Stratified sampling** is a strategy designed to take into account the heterogeneity of the population. By doing this, we obtain procedures with smaller standard error. There are three steps to forming a stratified sample:\n",
    "\n",
    "1. Choose which feature we want to use to form subgroups in and sample from.\n",
    "2. Random sample a proportional amount from each subgroup. For example, if 20% of our population has 2 children, we should choose 20% of our sample number from this subgroup.\n",
    "3. Put together these samples to form a stratified sample of the entire dataset."
   ]
  },
  {
   "cell_type": "markdown",
   "metadata": {},
   "source": [
    "### Exercise 5:\n",
    "\n",
    "For the columns `building`, `kids`, and `income_quartile` in `df`, find the proportion of the population in each category within these features. (Note that in practice, this may not be easy to compute, but for our sake we can calculate the proportion precisely.)"
   ]
  },
  {
   "cell_type": "markdown",
   "metadata": {},
   "source": [
    "**Answer.**"
   ]
  },
  {
   "cell_type": "markdown",
   "metadata": {},
   "source": [
    "---------"
   ]
  },
  {
   "cell_type": "markdown",
   "metadata": {},
   "source": [
    "### Exercise 6:\n",
    "\n",
    "For each of the above features, take a stratified sample of `df` along the categories of said feature. (Please stratify along each feature one at a time, rather than all three at once; this means that you will be taking three separate samples). Plot the bar chart of dessert preferences under each stratification, as well as the variability of most favored dessert over 200 iterations under each stratification."
   ]
  },
  {
   "cell_type": "markdown",
   "metadata": {},
   "source": [
    "**Answer.**"
   ]
  },
  {
   "cell_type": "markdown",
   "metadata": {},
   "source": [
    "---------"
   ]
  },
  {
   "cell_type": "markdown",
   "metadata": {},
   "source": [
    "## Cluster Sampling\n",
    "\n",
    "The mechanics of **cluster sampling** are very similar to stratified sampling. However both the motivation and technique are different. For stratified sampling, we choose a categorical breakdown of our dataset, and randomly sample within each of our breakdowns. For cluster sampling, we split up our dataset into representative clusters, and then *treat each of those clusters as an entire population*. We might choose our clusters randomly, or have other domain-specific reasons to believe that they are representative of the population.\n",
    "\n",
    "As mentioned above, the main reason we would want to do this is due to knowledge constraints that keep us from effectively stratifying our population. For example, we may not have access to the proportions of people that fall under each category for the population as a whole, but we can figure this out for Building 1. Then, we treat Building 1 as our entire population, and can perform stratified sampling for categories within this population.\n",
    "\n",
    "Again, this *crucially* relies on having some extrinsic (and many times qualitative) reason for believing that Building 1 is representative of the entire target population. If, for example, Building 1 is filled with residents with the highest-paying jobs, then this can be a very bad way to sample."
   ]
  },
  {
   "cell_type": "markdown",
   "metadata": {},
   "source": [
    "### Exercise 7:\n",
    "\n",
    "Find the proportions of individuals falling into each category in Building 1, then perform a stratified sample of dessert preferences based on `kids`. Plot the bar chart of most favored dessert over 200 iterations under this stratification."
   ]
  },
  {
   "cell_type": "markdown",
   "metadata": {},
   "source": [
    "**Answer.**"
   ]
  },
  {
   "cell_type": "markdown",
   "metadata": {},
   "source": [
    "---------"
   ]
  },
  {
   "cell_type": "markdown",
   "metadata": {},
   "source": [
    "## Conclusions\n",
    "\n",
    "In this case, we looked at various methods of sampling our sandwich shop's potential customer base. We saw how purely random stratified samples are the gold standard, with high precision and often high representativeness of the population. However, it can be difficult to identify the proportions of categories in our population, so in such cases we need to resort to clustering sampling in order to get measurable results.\n",
    "\n",
    "A pure convenience sample is generally a recipe for disaster. But sampling is the part of statistics where data scientists have to think of ways to balance cost and time with good results. Without good data, everything in this case falls apart. But without cost-consciousness, even the strongest theory can't be put into practice."
   ]
  },
  {
   "cell_type": "markdown",
   "metadata": {},
   "source": [
    "## Takeaways\n",
    "\n",
    "In this case, you developed your skills in identifying what sampling technique is most appropriate for the problem at hand. You now know that:\n",
    "\n",
    "1. The behaviour of statistics is driven by the sampling design we use, and will affect the quality of our answers\n",
    "2. Different sampling designs have different capabilities and limitations\n",
    "3. Selecting an appropriate sampling design for the problem at hand depends much on the problem context"
   ]
  }
 ],
 "metadata": {
  "kernelspec": {
   "display_name": "Python 3",
   "language": "python",
   "name": "python3"
  },
  "language_info": {
   "codemirror_mode": {
    "name": "ipython",
    "version": 3
   },
   "file_extension": ".py",
   "mimetype": "text/x-python",
   "name": "python",
   "nbconvert_exporter": "python",
   "pygments_lexer": "ipython3",
   "version": "3.7.4"
  }
 },
 "nbformat": 4,
 "nbformat_minor": 2
}
