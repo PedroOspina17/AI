{
 "cells": [
  {
   "cell_type": "markdown",
   "metadata": {},
   "source": [
    "# How are different types of crimes distributed by district across time in Boston?"
   ]
  },
  {
   "cell_type": "markdown",
   "metadata": {},
   "source": [
    "## Introduction (5 mts)"
   ]
  },
  {
   "cell_type": "markdown",
   "metadata": {},
   "source": [
    "**Business Context.** You are a data consultant for the Boston Police Department. The department is looking to optimize its police deployment strategy so that it can tackle the most crimes as they occur with the fewest number of resources. Furthermore, different groups within the department specialize in different types of crimes, so this must play into their overall strategy. They would like to look at crime statistics by district and by month, as well as visualize them on a map by crime type and by date.\n",
    "\n",
    "**Business Problem.** Your task is to **make an interactive dashboard that department heads can use to visualize crimes in the manners they indicated above.** The dashboard should be usable via a web browser like Chrome on the company's intranet.\n",
    "\n",
    "**Analytical Context.** In the current case, we will again be using Dash by Plotly to develop the dashboard. This time, we will be using the Kaggle dataset titled \"Crimes in Boston\" found here: https://www.kaggle.com/AnalyzeBoston/crimes-in-boston. Unlike the first case, we will put this case together in an `app.py` file. We will also be using a SQLite database as the source of our data.\n",
    "\n",
    "The case is structured as follows: you will (1) understand the data and plan the appropriate setup of the app to address the business problem; (2) set up the map component and various selectors to filter on the crime data; (3) set up a few additional plots to visualize crime by geography and time; and finally (4) use our completed app to derive insights."
   ]
  },
  {
   "cell_type": "markdown",
   "metadata": {},
   "source": [
    "## Reading the data source (10 mts)"
   ]
  },
  {
   "cell_type": "code",
   "execution_count": 9,
   "metadata": {},
   "outputs": [
    {
     "name": "stdout",
     "output_type": "stream",
     "text": [
      "  INCIDENT_NUMBER  OFFENSE_CODE    OFFENSE_CODE_GROUP   OFFENSE_DESCRIPTION  \\\n",
      "0      I182070945           619               Larceny    LARCENY ALL OTHERS   \n",
      "1      I182070943          1402             Vandalism             VANDALISM   \n",
      "2      I182070941          3410                 Towed   TOWED MOTOR VEHICLE   \n",
      "3      I182070940          3114  Investigate Property  INVESTIGATE PROPERTY   \n",
      "4      I182070938          3114  Investigate Property  INVESTIGATE PROPERTY   \n",
      "\n",
      "  DISTRICT REPORTING_AREA SHOOTING    OCCURRED_ON_DATE  YEAR  MONTH  \\\n",
      "0      D14            808     None 2018-09-02 13:00:00  2018      9   \n",
      "1      C11            347     None 2018-08-21 00:00:00  2018      8   \n",
      "2       D4            151     None 2018-09-03 19:27:00  2018      9   \n",
      "3       D4            272     None 2018-09-03 21:16:00  2018      9   \n",
      "4       B3            421     None 2018-09-03 21:05:00  2018      9   \n",
      "\n",
      "  DAY_OF_WEEK  HOUR    UCR_PART       STREET        Lat       Long  \\\n",
      "0      Sunday    13    Part One   LINCOLN ST  42.357791 -71.139371   \n",
      "1     Tuesday     0    Part Two     HECLA ST  42.306821 -71.060300   \n",
      "2      Monday    19  Part Three  CAZENOVE ST  42.346589 -71.072429   \n",
      "3      Monday    21  Part Three   NEWCOMB ST  42.334182 -71.078664   \n",
      "4      Monday    21  Part Three     DELHI ST  42.275365 -71.090361   \n",
      "\n",
      "                      Location  \n",
      "0  (42.35779134, -71.13937053)  \n",
      "1  (42.30682138, -71.06030035)  \n",
      "2  (42.34658879, -71.07242943)  \n",
      "3  (42.33418175, -71.07866441)  \n",
      "4  (42.27536542, -71.09036101)  \n"
     ]
    }
   ],
   "source": [
    "import pandas as pd\n",
    "from sqlalchemy import create_engine\n",
    "\n",
    "engine = create_engine('sqlite:///crime.db')\n",
    "df = pd.read_sql(\"SELECT * from crime LIMIT 100\", engine.connect(), parse_dates=('OCCURRED_ON_DATE',))\n",
    "print(df.head())"
   ]
  },
  {
   "cell_type": "markdown",
   "metadata": {},
   "source": [
    "We are going to use SQLAlchemy to read from the `sqlite` source. We have the following features:\n",
    "\n",
    "1. **INCIDENT_NUMBER**: The ID of the incident\n",
    "2. **OFFENSE_CODE**: Unique code for offense\n",
    "3. **OFFENSE_CODE_GROUP**: Category of offense\n",
    "4. **OFFENSE_DESCRIPTION**: Longer description of the offense\n",
    "5. **DISTRICT**: Police district where crime was committed\n",
    "6. **REPORTING_AREA**: Area where crime was reported\n",
    "7. **SHOOTING**: Whether guns were fired during the incident\n",
    "8. **OCCURED_ON_DATE**: Date of incident\n",
    "9. **YEAR**: Year of incident\n",
    "10. **MONTH**: Month of incident\n",
    "11. **DAY_OF_WEEK**: Day of the week of incident\n",
    "12. **HOUR**: Hour of incident\n",
    "13. **UCR_PART**: Crime part code\n",
    "14. **STREET**: Street of incident\n",
    "15. **Lat**: Location (latitude) of incident\n",
    "16. **Long**: Location(longitude) of incident\n",
    "17. **Location**: Tuple of `Lat` and `Long`"
   ]
  },
  {
   "cell_type": "markdown",
   "metadata": {},
   "source": [
    "### Exercise 1: (5 mts)\n",
    "\n",
    "Looking again at the business question and context, which of the above would be important to us?"
   ]
  },
  {
   "cell_type": "markdown",
   "metadata": {},
   "source": [
    "**Answer.** The department is interested in crime patterns by district and by month (and not more granular than that). This means that `DISTRICT` and `MONTH` are important to us, but `DAY_OF_WEEK`, `HOUR`, `REPORTING_AREA`, and `STREET` are not (because they are too granular). However, `YEAR` is relevant because it is a higher-level clarification of `MONTH` (e.g. \"December 2015\" is an important clarification of \"December\"). `OFFENSE_CODE_GROUP` is important because the department has different groups that specialize in different types of crimes, so analyzing that ensures that we don't deploy the wrong specialists to the wrong locations.\n",
    "\n",
    "`Lat` and `Long` are important because in order to put together a map of incidents, we need the latitude and longitude. `OCCURRED_ON_DATE` is important because the map needs to have a date filter.\n",
    "\n",
    "`INCIDENT_NUMBER` and `OFFENSE_CODE` are identifiers and do not matter for the aggregate-level analysis the department cares about. `OFFENSE_DESCRIPTION` is a more granular version of `OFFENSE_CODE_GROUP` and likely does not matter. `SHOOTING` and `UCR_PART` are not even hinted at as being important."
   ]
  },
  {
   "cell_type": "markdown",
   "metadata": {},
   "source": [
    "## Setting up our app (15 mts)\n",
    "\n",
    "Create a new file called `app.py`. Let's start by importing the libraries required by the dashboard. We are going to do the core imports from Dash and add imports from `pandas` and SQLAlchemy to manage our data sources. Copy the following lines into the head of your `app.py` file:"
   ]
  },
  {
   "cell_type": "code",
   "execution_count": 10,
   "metadata": {},
   "outputs": [],
   "source": [
    "from sqlalchemy import create_engine\n",
    "import pandas as pd\n",
    "import dash\n",
    "import dash_core_components as dcc\n",
    "import dash_html_components as html\n",
    "import plotly.graph_objects as go"
   ]
  },
  {
   "cell_type": "markdown",
   "metadata": {},
   "source": [
    "### Exercise 2: (5 mts)\n",
    "\n",
    "Write code in your `app.py` file which will instantiate our Dash app, set up the token for the Mapbox plot, and instantiate the DataFrame which holds the `crime.db` data used by our app layout selectors. (Make sure the `app.py` file is in the same folder as the `crime.db` file!)"
   ]
  },
  {
   "cell_type": "markdown",
   "metadata": {},
   "source": [
    "**Answer.** Our recommended solution is given below:"
   ]
  },
  {
   "cell_type": "markdown",
   "metadata": {},
   "source": [
    "```\n",
    "token = 'pk.eyJ1IjoibmV3dXNlcmZvcmV2ZXIiLCJhIjoiY2o2M3d1dTZiMGZobzMzbnp2Z2NiN3lmdyJ9.cQFKe3F3ovbfxTsM9E0ZSQ'\n",
    "app = dash.Dash(__name__, external_stylesheets=['https://codepen.io/uditagarwal/pen/oNvwKNP.css'])\n",
    "\n",
    "engine = create_engine('sqlite:///crime.db')\n",
    "df = pd.read_sql(\"SELECT * from crime\", engine.connect(), parse_dates=('OCCURRED_ON_DATE',))\n",
    "```"
   ]
  },
  {
   "cell_type": "markdown",
   "metadata": {},
   "source": [
    "### Setting up the layout (5 mts)\n",
    "\n",
    "The next step is to set the layout object. We are going to be using the same CSS and layout template as in the previous case, which is composed of a header and a body. The header contains the title of the dashboard and the body will contain the selectors, plots, and texts for our dashboard. \n",
    "\n",
    "We will begin by setting up two divs. The first one will encase the header titled \"Boston Crime Analysis\", and the other div will represent the body, which will have no elements inside it for now. Copy the following into your `app.py` file:"
   ]
  },
  {
   "cell_type": "markdown",
   "metadata": {},
   "source": [
    "```\n",
    "app.layout = html.Div(children=[\n",
    "    html.Div(\n",
    "        children=[\n",
    "            html.H2(children=\"Boston Crime Analysis\", className='h2-title'),\n",
    "        ],\n",
    "        className='study-browser-banner row'\n",
    "    ),\n",
    "    html.Div(\n",
    "        className=\"row app-body\",\n",
    "        children=[]\n",
    "    )\n",
    "])\n",
    "```"
   ]
  },
  {
   "cell_type": "markdown",
   "metadata": {},
   "source": [
    "Our app is beginning to take shape. If you run this file and navigate to the Dash app in your browser, you will see a header and an empty body."
   ]
  },
  {
   "cell_type": "markdown",
   "metadata": {},
   "source": [
    "### Planning our dashboard (5 mts)\n",
    "\n",
    "Before we proceed, we should decide how to section the body of our app to best address business needs.\n",
    "\n",
    "1. The department would like to be able to visualize crime on a map by crime type and by date. Thus, it makes sense to have some sort of drop-down filter by crime type associated with the map. And similar to the previous case, having a date range selector would allow users to filter by date.\n",
    "2. The department has also stated that they would like to view crimes by district and by month. Since month is a time series variable, it makes sense to show this on some sort of graph which naturally shows the progression of time – a line plot comes to mind. Since district is a categorical variable, it makes sense to use a graph type that categorizes easily – a bar chart comes to mind.\n",
    "\n",
    "Together, these imply the following sectioning of our app:\n",
    "\n",
    "1. Section 1\n",
    "    * Left card - Date range selector and crime type drop-down selector\n",
    "    * Right card - Map of Boston\n",
    "2. Section 2\n",
    "    * Left card - Line plot of incidents in Boston by month\n",
    "    * Right card - Bar chart of incidents by district"
   ]
  },
  {
   "cell_type": "markdown",
   "metadata": {},
   "source": [
    "## Setting up the first section of our dashboard (15 mts)\n",
    "\n",
    "First, let's add the left card for the first section of our app, which will contain the selectors. These are the filters for our app, and determine the subset of our data which will be shown on our map and plots.\n",
    "\n",
    "These components are going to be added to a div under the body div added before. Let's first add the date range selector to the layout:"
   ]
  },
  {
   "cell_type": "markdown",
   "metadata": {},
   "source": [
    "```\n",
    "app.layout = html.Div(children=[\n",
    "    html.Div(\n",
    "        children=[\n",
    "            html.H2(children=\"Boston Crime Analysis\", className='h2-title'),\n",
    "        ],\n",
    "        className='study-browser-banner row'\n",
    "    ),\n",
    "    html.Div(\n",
    "        className=\"row app-body\",\n",
    "        children=[\n",
    "            html.Div(\n",
    "                className=\"twelve columns card\",\n",
    "                children=[\n",
    "                    html.Div(\n",
    "                        className=\"four columns card\",\n",
    "                        children=[\n",
    "                            html.Div(\n",
    "                                className=\"bg-white user-control\",\n",
    "                                children=[\n",
    "                                    html.Div(\n",
    "                                        className=\"padding-top-bot\",\n",
    "                                        children=[\n",
    "                                            html.H6(\"Select a Date\"),\n",
    "                                            dcc.DatePickerRange(\n",
    "                                                id=\"date-range\",\n",
    "                                                start_date=df['OCCURRED_ON_DATE'].min(),\n",
    "                                                end_date=df['OCCURRED_ON_DATE'].max()\n",
    "                                            ),\n",
    "                                        ],\n",
    "                                    ),\n",
    "                                ],\n",
    "                            )\n",
    "                        ],\n",
    "                    ),\n",
    "                    html.Div(className=\"eight columns card\", children=[])\n",
    "                ]\n",
    "            )\n",
    "        ]\n",
    "    )\n",
    "])\n",
    "```"
   ]
  },
  {
   "cell_type": "markdown",
   "metadata": {},
   "source": [
    "Note that we added three divs to the body. The first is called `twelve columns card` (because it spans twelve columns' worth of width). The children of this div are going to be two more divs, `four columns card` and `eight columns card`, respectively.\n",
    "\n",
    "The first div (`four columns card`) contains the `DatePickerRange` selector with `start_date` and `end_date` set to the minimum and maximum possible values for an incident date (`OCCURED_ON_DATE`) from our dataset.\n",
    "\n",
    "Replace the layout in your `app.py` file with the above and run it to see the updated layout."
   ]
  },
  {
   "cell_type": "markdown",
   "metadata": {},
   "source": [
    "### Exercise 3: (10 mts)\n",
    "\n",
    "Add a `Dropdown` selector to the `four columns card` div with id `study-dropdown` right above the date range selector. The selector should contain all the unique offense codes listed in the `OFFENSE_CODE_GROUP` column in our dataset. Set the default value of this offense to \"Larceny\". Use the Dash docs for reference at https://dash.plot.ly/dash-core-components/dropdown."
   ]
  },
  {
   "cell_type": "markdown",
   "metadata": {},
   "source": [
    "**Answer.** Our recommended solution is shown below:"
   ]
  },
  {
   "cell_type": "markdown",
   "metadata": {},
   "source": [
    "```\n",
    "app.layout = html.Div(children=[\n",
    "    html.Div(\n",
    "        children=[\n",
    "            html.H2(children=\"Boston Crime Analysis\", className='h2-title'),\n",
    "        ],\n",
    "        className='study-browser-banner row'\n",
    "    ),\n",
    "    html.Div(\n",
    "        className=\"row app-body\",\n",
    "        children=[\n",
    "            html.Div(\n",
    "                className=\"twelve columns card\",\n",
    "                children=[\n",
    "                    html.Div(\n",
    "                        className=\"four columns card\",\n",
    "                        children=[\n",
    "                            html.Div(\n",
    "                                className=\"bg-white user-control\",\n",
    "                                children=[\n",
    "                                    html.Div(\n",
    "                                        className=\"padding-top-bot\",\n",
    "                                        children=[\n",
    "                                            html.H6(\"Select Crime Type\"),\n",
    "                                            dcc.Dropdown(\n",
    "                                                id=\"study-dropdown\",\n",
    "                                                multi=True,\n",
    "                                                value=('Larceny',),\n",
    "                                                options=[{'label': label.title(), 'value': label.title()} for label in df['OFFENSE_CODE_GROUP'].unique()]\n",
    "                                            ),\n",
    "                                            html.H6(\"Select a Date\"),\n",
    "                                            dcc.DatePickerRange(\n",
    "                                                id=\"date-range\",\n",
    "                                                start_date=df['OCCURRED_ON_DATE'].min(),\n",
    "                                                end_date=df['OCCURRED_ON_DATE'].max()\n",
    "                                            ),\n",
    "                                        ],\n",
    "                                    ),\n",
    "                                ],\n",
    "                            )\n",
    "                        ],\n",
    "                    ),\n",
    "                    html.Div(className=\"eight columns card\", children=[])\n",
    "                ]\n",
    "            )\n",
    "        ]\n",
    "    )\n",
    "])\n",
    "```"
   ]
  },
  {
   "cell_type": "markdown",
   "metadata": {},
   "source": [
    "## Adding the Boston crime map (30 mts)\n",
    "\n",
    "Let's add the map to our dashboard using the Mapbox scatterplot (https://plot.ly/python/scattermapbox/). We will add the Map plot to the `eight columns card` div.\n",
    "\n",
    "**NOTE: Our dataset has 300,000+ rows. If we load all of these data points at once, it will blow up the map. To get around this problem, we will only be plotting the data points corresponding to the crime groups selected on our dashboard in the crime selector filter.**"
   ]
  },
  {
   "cell_type": "markdown",
   "metadata": {},
   "source": [
    "```\n",
    "app.layout = html.Div(children=[\n",
    "    html.Div(\n",
    "        children=[\n",
    "            html.H2(children=\"Boston Crime Analysis\", className='h2-title'),\n",
    "        ],\n",
    "        className='study-browser-banner row'\n",
    "    ),\n",
    "    html.Div(\n",
    "        className=\"row app-body\",\n",
    "        children=[\n",
    "            html.Div(\n",
    "                className=\"twelve columns card\",\n",
    "                children=[\n",
    "                    html.Div(\n",
    "                        className=\"four columns card\",\n",
    "                        children=[\n",
    "                            html.Div(\n",
    "                                className=\"bg-white user-control\",\n",
    "                                children=[\n",
    "                                    html.Div(\n",
    "                                        className=\"padding-top-bot\",\n",
    "                                        children=[\n",
    "                                            html.H6(\"Select Crime Type\"),\n",
    "                                            dcc.Dropdown(\n",
    "                                                id=\"study-dropdown\",\n",
    "                                                multi=True,\n",
    "                                                value=('Larceny',),\n",
    "                                                options=[{'label': label.title(), 'value': label.title()} for label in df['OFFENSE_CODE_GROUP'].unique()]\n",
    "                                            ),\n",
    "                                            html.H6(\"Select a Date\"),\n",
    "                                            dcc.DatePickerRange(\n",
    "                                                id=\"date-range\",\n",
    "                                                start_date=df['OCCURRED_ON_DATE'].min(),\n",
    "                                                end_date=df['OCCURRED_ON_DATE'].max()\n",
    "                                            ),\n",
    "                                        ],\n",
    "                                    ),\n",
    "                                ],\n",
    "                            )\n",
    "                        ],\n",
    "                    ),\n",
    "                    html.Div(className=\"eight columns card\", children=[\n",
    "                        html.H1(children=\"Geographical Map of Crimes in Boston\", style={'textAlign': 'center'}),\n",
    "                            dcc.Graph(\n",
    "                                id='map-plot',\n",
    "                                figure={ \n",
    "                                    'data': [go.Scattermapbox()],\n",
    "                                    'layout': go.Layout(\n",
    "                                            mapbox_style=\"dark\",\n",
    "                                            mapbox_accesstoken=token,\n",
    "                                            mapbox_zoom=10,\n",
    "                                            margin={'t': 0, 'l': 0, 'r': 0, 'b': 30},\n",
    "                                            mapbox_center={\"lat\": df['Lat'][0], \"lon\": df['Long'][0]}\n",
    "                                        )\n",
    "                                }\n",
    "                        )\n",
    "                    ])\n",
    "                ]\n",
    "            )\n",
    "        ]\n",
    "    )\n",
    "])\n",
    "```"
   ]
  },
  {
   "cell_type": "markdown",
   "metadata": {},
   "source": [
    "The Map currently doesn't have any data passed to it for display. We will be updating the points shown on the map using a callback function which takes inputs from the `Dropdown` and `DatePickerRange` selectors. Let's add the skeleton of the callback function to our app:"
   ]
  },
  {
   "cell_type": "code",
   "execution_count": null,
   "metadata": {},
   "outputs": [],
   "source": [
    "# NOTE: Do NOT run this cell!!! It is for instructional purposes only - it will NOT work!\n",
    "@app.callback(\n",
    "    dash.dependencies.Output('map-plot', 'figure'), # component with id map-plot will be changed, the 'figure' argument is updated\n",
    "    [\n",
    "        dash.dependencies.Input('date-range', 'start_date'), # input with id date-picker-range and the start_date parameter\n",
    "        dash.dependencies.Input('date-range', 'end_date'),\n",
    "        dash.dependencies.Input('study-dropdown', 'value'),\n",
    "    ]\n",
    ")\n",
    "def update_crimes_map(start_date, end_date, value):\n",
    "    return { \n",
    "        'data': locations_by_crimetype(value, start_date, end_date),\n",
    "        'layout': go.Layout(\n",
    "            mapbox_style=\"dark\",\n",
    "            mapbox_accesstoken=token,\n",
    "            mapbox_zoom=10,\n",
    "            margin={'t': 0, 'l': 0, 'r': 0, 'b': 30},\n",
    "            mapbox_center={\"lat\": df['Lat'][0], \"lon\": df['Long'][0]}\n",
    "        )\n",
    "    }"
   ]
  },
  {
   "cell_type": "markdown",
   "metadata": {},
   "source": [
    "Let's take a bit to talk about the code above. We created a function called `update_crimes_map()` with the `app.callback()` decorator. The inputs to the decorator are:\n",
    "\n",
    "1. date range input as `start_date` value\n",
    "2. date range input as `end-date` value\n",
    "3. crime type dropdown with `value`\n",
    "\n",
    "The output of the function updates the `map-plot`. The callback function will need to return the value for `figure` on the map plot. The value of `figure` should be the data (which is the plot) and the layout of this plot.\n",
    "\n",
    "As you might have noticed, the `data` calls the function `locations_by_crimetype()` which doesn't exist yet.\n",
    "\n",
    "Let's set up this function which is going to return a `go.Scattermapbox()` object containing information about the latitude and longitude the incidents. To do this, we will run a SQL Query to filter the rows of our data source based on the data range selector and crime type dropdown selector. Note that our multi-value crime type selector can pass more than one type of crime to the map."
   ]
  },
  {
   "cell_type": "markdown",
   "metadata": {},
   "source": [
    "### Exercise 4: (15 mts)\n",
    "\n",
    "Write the `get_filtered_rows()` function, which takes `crime_type`, `start_date`, and `end_date` as inputs and return a `pandas` DataFrame containing the rows of our data source which fall within that `crime_type` and between `start_date` and `end_date`. (Hint: you may need to look up the syntax for the `read_sql()` function for this.)"
   ]
  },
  {
   "cell_type": "markdown",
   "metadata": {},
   "source": [
    "**Answer.** Our recommended solution is given below:"
   ]
  },
  {
   "cell_type": "code",
   "execution_count": 9,
   "metadata": {},
   "outputs": [],
   "source": [
    "def get_filtered_rows(crime_type, start_date, end_date):\n",
    "    crime_len = ','.join('?'*len(crime_type))\n",
    "    sql_query = f'SELECT * from crime WHERE OCCURRED_ON_DATE BETWEEN ? and ? AND OFFENSE_CODE_GROUP in ({crime_len})'\n",
    "    \n",
    "    sql_params = [start_date, end_date]\n",
    "    for each in crime_type:\n",
    "        sql_params.append(each)\n",
    "\n",
    "    return pd.read_sql(sql_query, engine.connect(), params=sql_params, parse_dates=('OCCURRED_ON_DATE',))"
   ]
  },
  {
   "cell_type": "markdown",
   "metadata": {},
   "source": [
    "Now we can use this function to write the `locations_by_crimetype()` function:"
   ]
  },
  {
   "cell_type": "code",
   "execution_count": 10,
   "metadata": {},
   "outputs": [],
   "source": [
    "import random\n",
    "\n",
    "def locations_by_crimetype(crime_type, start_date, end_date):\n",
    "    data = [] # Output of the function is an array\n",
    "    \n",
    "    df = get_filtered_rows(crime_type, start_date, end_date)\n",
    "    for name, group in df.groupby('OFFENSE_CODE_GROUP'):\n",
    "        color = \"%06x\" % random.randint(0, 0xFFFFFF)\n",
    "        data.append(\n",
    "            go.Scattermapbox(\n",
    "                lat=group['Lat'],\n",
    "                lon=group['Long'],\n",
    "                mode='markers',\n",
    "                marker={\n",
    "                    'color': '#' + color,\n",
    "                },\n",
    "                text=group['OFFENSE_DESCRIPTION'],\n",
    "                name=name\n",
    "            )\n",
    "        )\n",
    "    return data"
   ]
  },
  {
   "cell_type": "markdown",
   "metadata": {},
   "source": [
    "Let's put this all together in our `app.py` file and run it."
   ]
  },
  {
   "cell_type": "markdown",
   "metadata": {},
   "source": [
    "### Question:\n",
    "\n",
    "Using the latest version of your `app.py` file, see if you can find out the region where:\n",
    "\n",
    "1. The most license violations happened?\n",
    "2. The most aircraft offenses happened?\n",
    "3. The most liquor violations happened?"
   ]
  },
  {
   "cell_type": "markdown",
   "metadata": {},
   "source": [
    "## Setting up section 2 of our dashboard (15 mts)\n",
    "\n",
    "We can now proceed to setting up the next section of our dashboard, which will provide crime statistics by district and by month. We will add another div called `twelve columns card 2` which contains two six-column wide divs:\n",
    "\n",
    "1. The first div will be a line chart which tracks the total number of incidents per month over time\n",
    "2. The second div will be a bar chart of the number of incidents by district\n",
    "\n",
    "Both will be filtered based on the crime type dropdown selector choice."
   ]
  },
  {
   "cell_type": "markdown",
   "metadata": {},
   "source": [
    "```\n",
    "app.layout = html.Div(children=[\n",
    "    html.Div(\n",
    "        children=[\n",
    "            html.H2(children=\"Boston Crime Analysis\", className='h2-title'),\n",
    "        ],\n",
    "        className='study-browser-banner row'\n",
    "    ),\n",
    "    html.Div(\n",
    "        className=\"row app-body\",\n",
    "        children=[\n",
    "            html.Div(\n",
    "                className=\"twelve columns card\",\n",
    "                children=[\n",
    "                    html.Div(\n",
    "                        className=\"four columns card\",\n",
    "                        children=[\n",
    "                            html.Div(\n",
    "                                className=\"bg-white user-control\",\n",
    "                                children=[\n",
    "                                    html.Div(\n",
    "                                        className=\"padding-top-bot\",\n",
    "                                        children=[\n",
    "                                            html.H6(\"Select Crime Type\"),\n",
    "                                            dcc.Dropdown(\n",
    "                                                id=\"study-dropdown\",\n",
    "                                                multi=True,\n",
    "                                                value=('Larceny',),\n",
    "                                                options=[{'label': label.title(), 'value': label.title()} for label in df['OFFENSE_CODE_GROUP'].unique()]\n",
    "                                            ),\n",
    "                                            html.H6(\"Select a Date\"),\n",
    "                                            dcc.DatePickerRange(\n",
    "                                                id=\"date-range\",\n",
    "                                                start_date=df['OCCURRED_ON_DATE'].min(),\n",
    "                                                end_date=df['OCCURRED_ON_DATE'].max()\n",
    "                                            ),\n",
    "                                        ],\n",
    "                                    ),\n",
    "                                ],\n",
    "                            )\n",
    "                        ],\n",
    "                    ),\n",
    "                    html.Div(className=\"eight columns card\", children=[\n",
    "                        html.H1(children=\"Geographical Map of Crimes in Boston\", style={'textAlign': 'center'}),\n",
    "                            dcc.Graph(\n",
    "                                id='map-plot',\n",
    "                                figure={ \n",
    "                                    'data': [go.Scattermapbox()],\n",
    "                                    'layout': go.Layout(\n",
    "                                            mapbox_style=\"dark\",\n",
    "                                            mapbox_accesstoken=token,\n",
    "                                            mapbox_zoom=10,\n",
    "                                            margin={'t': 0, 'l': 0, 'r': 0, 'b': 30},\n",
    "                                            mapbox_center={\"lat\": df['Lat'][0], \"lon\": df['Long'][0]}\n",
    "                                        )\n",
    "                                }\n",
    "                        )\n",
    "                    ])\n",
    "                ]\n",
    "            ),\n",
    "            html.Div(\n",
    "                className='twelve columns card 2',\n",
    "                children=[\n",
    "                    html.Div(\n",
    "                        className='six columns card',\n",
    "                        children=[]\n",
    "                    ),\n",
    "                    html.Div(\n",
    "                        className='six columns card 2',\n",
    "                        children=[]\n",
    "                    )\n",
    "                ]\n",
    "            )\n",
    "        ]\n",
    "    )\n",
    "])\n",
    "```"
   ]
  },
  {
   "cell_type": "markdown",
   "metadata": {},
   "source": [
    "### Exercise 4: (10 mts)\n",
    "\n",
    "Add the following two plots to the `six columns card` and `six columns card 2` divs:\n",
    "\n",
    "1. First div - `go.Scatter()` with the id `crime-total-graph` (remember, `go.Scatter()` is used to generate a line plot in Dash!)\n",
    "2. Second div - `go.Bar()` with the id `crime-district-graph`\n",
    "\n",
    "For now, don't worry about passing any data into these graphs. Later, we will write callback functions based on our input selectors in order to update them."
   ]
  },
  {
   "cell_type": "markdown",
   "metadata": {},
   "source": [
    "**Answer.** Our recommended solution is shown below:"
   ]
  },
  {
   "cell_type": "markdown",
   "metadata": {},
   "source": [
    "```\n",
    "app.layout = html.Div(children=[\n",
    "    html.Div(\n",
    "        children=[\n",
    "            html.H2(children=\"Boston Crime Analysis\", className='h2-title'),\n",
    "        ],\n",
    "        className='study-browser-banner row'\n",
    "    ),\n",
    "    html.Div(\n",
    "        className=\"row app-body\",\n",
    "        children=[\n",
    "            html.Div(\n",
    "                className=\"twelve columns card\",\n",
    "                children=[\n",
    "                    html.Div(\n",
    "                        className=\"four columns card\",\n",
    "                        children=[\n",
    "                            html.Div(\n",
    "                                className=\"bg-white user-control\",\n",
    "                                children=[\n",
    "                                    html.Div(\n",
    "                                        className=\"padding-top-bot\",\n",
    "                                        children=[\n",
    "                                            html.H6(\"Select Crime Type\"),\n",
    "                                            dcc.Dropdown(\n",
    "                                                id=\"study-dropdown\",\n",
    "                                                multi=True,\n",
    "                                                value=('Larceny',),\n",
    "                                                options=[{'label': label.title(), 'value': label.title()} for label in df['OFFENSE_CODE_GROUP'].unique()]\n",
    "                                            ),\n",
    "                                            html.H6(\"Select a Date\"),\n",
    "                                            dcc.DatePickerRange(\n",
    "                                                id=\"date-range\",\n",
    "                                                start_date=df['OCCURRED_ON_DATE'].min(),\n",
    "                                                end_date=df['OCCURRED_ON_DATE'].max()\n",
    "                                            ),\n",
    "                                        ],\n",
    "                                    ),\n",
    "                                ],\n",
    "                            )\n",
    "                        ],\n",
    "                    ),\n",
    "                    html.Div(className=\"eight columns card\", children=[\n",
    "                        html.H1(children=\"Geographical Map of Crimes in Boston\", style={'textAlign': 'center'}),\n",
    "                            dcc.Graph(\n",
    "                                id='map-plot',\n",
    "                                figure={ \n",
    "                                    'data': [go.Scattermapbox()],\n",
    "                                    'layout': go.Layout(\n",
    "                                            mapbox_style=\"dark\",\n",
    "                                            mapbox_accesstoken=token,\n",
    "                                            mapbox_zoom=10,\n",
    "                                            margin={'t': 0, 'l': 0, 'r': 0, 'b': 30},\n",
    "                                            mapbox_center={\"lat\": df['Lat'][0], \"lon\": df['Long'][0]}\n",
    "                                        )\n",
    "                                }\n",
    "                        )\n",
    "                    ])\n",
    "                ]\n",
    "            ),\n",
    "            html.Div(\n",
    "                className='twelve columns card 2',\n",
    "                children=[\n",
    "                    html.Div(\n",
    "                        className='six columns card',\n",
    "                        children=[\n",
    "                            dcc.Graph(\n",
    "                            id='crime-total-graph',\n",
    "                            figure={\n",
    "                                'data': [go.Scatter()],\n",
    "                            }\n",
    "                            )\n",
    "                        ]\n",
    "                    ),\n",
    "                    html.Div(\n",
    "                        className='six columns card 2',\n",
    "                        children=[\n",
    "                            dcc.Graph(\n",
    "                                id='crime-district-graph',\n",
    "                                figure={\n",
    "                                    'data': [go.Bar()],\n",
    "                                }\n",
    "                            )\n",
    "                        ]\n",
    "                    )\n",
    "                ]\n",
    "            )\n",
    "        ]\n",
    "    )\n",
    "])\n",
    "```"
   ]
  },
  {
   "cell_type": "markdown",
   "metadata": {},
   "source": [
    "## Setting up the callback function for the crime by month graph (10 mts)\n",
    "\n",
    "To update data in our line plot with id `crime-total-graph` (remember, a line plot in Dash is created using `go.Scatter()`), we will make a new callback function which takes the settings on our selectors as input."
   ]
  },
  {
   "cell_type": "markdown",
   "metadata": {},
   "source": [
    "### Exercise 5: (5 mts)\n",
    "\n",
    "Write the skeleton of such a callback function, which we'll call `update_crimes_total()`. Assume that there is already another function `crimes_by_yearmonth()` that you can use which returns the data necessary for your line plot."
   ]
  },
  {
   "cell_type": "markdown",
   "metadata": {},
   "source": [
    "**Answer.** Our recommended solution is shown below:"
   ]
  },
  {
   "cell_type": "markdown",
   "metadata": {
    "jupyter": {
     "outputs_hidden": true
    }
   },
   "source": [
    "```\n",
    "@app.callback(\n",
    "    dash.dependencies.Output('crime-total-graph', 'figure'),\n",
    "    [\n",
    "        dash.dependencies.Input('date-range', 'start_date'), # input with id date-picker-range and the start_date parameter\n",
    "        dash.dependencies.Input('date-range', 'end_date'),\n",
    "        dash.dependencies.Input('study-dropdown', 'value'),\n",
    "    ]\n",
    ")\n",
    "def update_crimes_total(start_date, end_date, value):\n",
    "    return { \n",
    "        'data': crimes_by_yearmonth(value, start_date, end_date),\n",
    "        'layout': {\n",
    "            'title': {\n",
    "                'text': 'Crime Occurence over Time'\n",
    "            }\n",
    "        }\n",
    "    }\n",
    "```"
   ]
  },
  {
   "cell_type": "markdown",
   "metadata": {},
   "source": [
    "Of course, this won't work because `crimes_by_yearmonth()` hasn't been defined yet. Let's flesh it out so it can properly return the data our line plot needs:"
   ]
  },
  {
   "cell_type": "code",
   "execution_count": 7,
   "metadata": {},
   "outputs": [],
   "source": [
    "def crimes_by_year(crime_type, start_date, end_date):\n",
    "    data = []\n",
    "    df = get_filtered_rows(crime_type, start_date, end_date)\n",
    "\n",
    "    df['YearMonth'] = pd.to_datetime(df['OCCURRED_ON_DATE'].map(lambda x: \"{}-{}\".format(x.year, x.month)))\n",
    "\n",
    "    for name, group in df.groupby('OFFENSE_CODE_GROUP'):\n",
    "        grouped = group.groupby('YearMonth', as_index=False).count()\n",
    "        data.append(\n",
    "            go.Scatter(x=grouped['YearMonth'], y=grouped['Lat'], name=name)\n",
    "        )\n",
    "    return data"
   ]
  },
  {
   "cell_type": "markdown",
   "metadata": {},
   "source": [
    "Go ahead and add this to your `app.py` file."
   ]
  },
  {
   "cell_type": "markdown",
   "metadata": {},
   "source": [
    "## Setting up the callback function for the bar chart (15 mts)"
   ]
  },
  {
   "cell_type": "markdown",
   "metadata": {},
   "source": [
    "Let's continue by setting up the callback for the bar chart as well. Now that you've seen it done once for the line chart, we'll leave this one to you."
   ]
  },
  {
   "cell_type": "markdown",
   "metadata": {},
   "source": [
    "### Exercise 6: (15 mts)\n",
    "\n",
    "Create a callback function for the bar chart with id `crime-district-graph`. This needs to display the number of incidents per district, filtered by the values in the crime type selector from section 1.\n",
    "\n",
    "We want this to be a horizontal bar chart, with the x-axis representing the numer of incidents and the y-axis representing the names of the districts. Refer to https://plot.ly/python/bar-charts/ for the parameters of a bar chart."
   ]
  },
  {
   "cell_type": "markdown",
   "metadata": {},
   "source": [
    "**Answer.** Our recommended solution is shown below:"
   ]
  },
  {
   "cell_type": "markdown",
   "metadata": {
    "jupyter": {
     "outputs_hidden": true
    }
   },
   "source": [
    "```\n",
    "def crimes_by_district(crime_type, start_date, end_date):\n",
    "    data = []\n",
    "    df = get_filtered_rows(crime_type, start_date, end_date)\n",
    "\n",
    "    for name, group in df.groupby('OFFENSE_CODE_GROUP'):\n",
    "        grouped = group.groupby('DISTRICT', as_index=False).count()\n",
    "        data.append(\n",
    "            go.Bar(y=grouped['DISTRICT'], x=grouped['Lat'].sort_values(), name=name, orientation='h')\n",
    "        )\n",
    "    return data\n",
    "\n",
    "\n",
    "@app.callback(\n",
    "    dash.dependencies.Output('crime-district-graph', 'figure'),\n",
    "    [\n",
    "        dash.dependencies.Input('date-range', 'start_date'), # input with id date-picker-range and the start_date parameter\n",
    "        dash.dependencies.Input('date-range', 'end_date'),\n",
    "        dash.dependencies.Input('study-dropdown', 'value'),\n",
    "    ]\n",
    ")\n",
    "def update_crimes_district_plot(start_date, end_date, value):\n",
    "    return { \n",
    "        'data': crimes_by_district(value, start_date, end_date),\n",
    "        'layout': {\n",
    "            'title': {\n",
    "                'text': 'Crime Occurence by District',\n",
    "\n",
    "            }\n",
    "        }\n",
    "    }\n",
    "```"
   ]
  },
  {
   "cell_type": "markdown",
   "metadata": {},
   "source": [
    "### Question:\n",
    "\n",
    "Using the latest version of your `app.py` file, see if you can answer the following questions:\n",
    "\n",
    "1. In which months are there the least number of crimes? Is this pattern consistent across various crime types?\n",
    "2. What is the trend over time in \"Residential Burglaries\" crimes?\n",
    "3. Which district has the highest number of Larceny incidents?"
   ]
  },
  {
   "cell_type": "markdown",
   "metadata": {},
   "source": [
    "## Adding hourly plots for each day of the week (15 mts)\n",
    "\n",
    "You present your app to the department heads, who are very pleased with the results. However, they would like you to add one more thing: they want to see, for each day of the week, a line plot representing the total number of incidents per hour during that day of the week over the time period selected. That is, they want to see *subplots* (https://plot.ly/python/subplots/) for each day of the week.\n",
    "\n",
    "Let's add a new div to our layout with an empty plot called `crimes-weekly`:"
   ]
  },
  {
   "cell_type": "markdown",
   "metadata": {},
   "source": [
    "```\n",
    "app.layout = html.Div(children=[\n",
    "    html.Div(\n",
    "        children=[\n",
    "            html.H2(children=\"Boston Crime Analysis\", className='h2-title'),\n",
    "        ],\n",
    "        className='study-browser-banner row'\n",
    "    ),\n",
    "    html.Div(\n",
    "        className=\"row app-body\",\n",
    "        children=[\n",
    "            html.Div(\n",
    "                className=\"twelve columns card\",\n",
    "                children=[\n",
    "                    html.Div(\n",
    "                        className=\"four columns card\",\n",
    "                        children=[\n",
    "                            html.Div(\n",
    "                                className=\"bg-white user-control\",\n",
    "                                children=[\n",
    "                                    html.Div(\n",
    "                                        className=\"padding-top-bot\",\n",
    "                                        children=[\n",
    "                                            html.H6(\"Select Crime Type\"),\n",
    "                                            dcc.Dropdown(\n",
    "                                                id=\"study-dropdown\",\n",
    "                                                multi=True,\n",
    "                                                value=('Larceny',),\n",
    "                                                options=[{'label': label.title(), 'value': label.title()} for label in df['OFFENSE_CODE_GROUP'].unique()]\n",
    "                                            ),\n",
    "                                            html.H6(\"Select a Date\"),\n",
    "                                            dcc.DatePickerRange(\n",
    "                                                id=\"date-range\",\n",
    "                                                start_date=df['OCCURRED_ON_DATE'].min(),\n",
    "                                                end_date=df['OCCURRED_ON_DATE'].max()\n",
    "                                            ),\n",
    "                                        ],\n",
    "                                    ),\n",
    "                                ],\n",
    "                            )\n",
    "                        ],\n",
    "                    ),\n",
    "                    html.Div(className=\"eight columns card\", children=[\n",
    "                        html.H1(children=\"Geographical Map of Crimes in Boston\", style={'textAlign': 'center'}),\n",
    "                            dcc.Graph(\n",
    "                                id='map-plot',\n",
    "                                figure={ \n",
    "                                    'data': [go.Scattermapbox()],\n",
    "                                    'layout': go.Layout(\n",
    "                                            mapbox_style=\"dark\",\n",
    "                                            mapbox_accesstoken=token,\n",
    "                                            mapbox_zoom=10,\n",
    "                                            margin={'t': 0, 'l': 0, 'r': 0, 'b': 30},\n",
    "                                            mapbox_center={\"lat\": df['Lat'][0], \"lon\": df['Long'][0]}\n",
    "                                        )\n",
    "                                }\n",
    "                        )\n",
    "                    ])\n",
    "                ]\n",
    "            ),\n",
    "            html.Div(\n",
    "                className='twelve columns card 2',\n",
    "                children=[\n",
    "                    html.Div(\n",
    "                        className='six columns card',\n",
    "                        children=[\n",
    "                            dcc.Graph(\n",
    "                            id='crime-total-graph',\n",
    "                            figure={\n",
    "                                'data': [go.Scatter()],\n",
    "                            }\n",
    "                            )\n",
    "                        ]\n",
    "                    ),\n",
    "                    html.Div(\n",
    "                        className='six columns card 2',\n",
    "                        children=[\n",
    "                            dcc.Graph(\n",
    "                                id='crime-district-graph',\n",
    "                                figure={\n",
    "                                    'data': [go.Bar()],\n",
    "                                }\n",
    "                            )\n",
    "                        ]\n",
    "                    )\n",
    "                ]\n",
    "            ),\n",
    "            html.Div(\n",
    "                className='twelve columns card 3',\n",
    "                children=[\n",
    "                    dcc.Graph(\n",
    "                        id=\"crimes-weekly\",\n",
    "                        figure={\n",
    "                            'data': [go.Scatter()]\n",
    "                        }\n",
    "                    )\n",
    "                ]\n",
    "            )\n",
    "        ]\n",
    "    )\n",
    "])\n",
    "```"
   ]
  },
  {
   "cell_type": "markdown",
   "metadata": {},
   "source": [
    "### Adding the callback function for our line plots\n",
    "\n",
    "We will setup a simple callback function which updates the `crimes-weekly` plot:"
   ]
  },
  {
   "cell_type": "code",
   "execution_count": 4,
   "metadata": {},
   "outputs": [
    {
     "ename": "NameError",
     "evalue": "name 'app' is not defined",
     "output_type": "error",
     "traceback": [
      "\u001b[0;31m---------------------------------------------------------------------------\u001b[0m",
      "\u001b[0;31mNameError\u001b[0m                                 Traceback (most recent call last)",
      "\u001b[0;32m<ipython-input-4-191479f6adcf>\u001b[0m in \u001b[0;36m<module>\u001b[0;34m()\u001b[0m\n\u001b[0;32m----> 1\u001b[0;31m @app.callback(\n\u001b[0m\u001b[1;32m      2\u001b[0m     \u001b[0mdash\u001b[0m\u001b[0;34m.\u001b[0m\u001b[0mdependencies\u001b[0m\u001b[0;34m.\u001b[0m\u001b[0mOutput\u001b[0m\u001b[0;34m(\u001b[0m\u001b[0;34m'crimes-weekly'\u001b[0m\u001b[0;34m,\u001b[0m \u001b[0;34m'figure'\u001b[0m\u001b[0;34m)\u001b[0m\u001b[0;34m,\u001b[0m\u001b[0;34m\u001b[0m\u001b[0m\n\u001b[1;32m      3\u001b[0m     [\n\u001b[1;32m      4\u001b[0m         \u001b[0mdash\u001b[0m\u001b[0;34m.\u001b[0m\u001b[0mdependencies\u001b[0m\u001b[0;34m.\u001b[0m\u001b[0mInput\u001b[0m\u001b[0;34m(\u001b[0m\u001b[0;34m'date-range'\u001b[0m\u001b[0;34m,\u001b[0m \u001b[0;34m'start_date'\u001b[0m\u001b[0;34m)\u001b[0m\u001b[0;34m,\u001b[0m \u001b[0;31m# input with id date-picker-range and the start_date parameter\u001b[0m\u001b[0;34m\u001b[0m\u001b[0m\n\u001b[1;32m      5\u001b[0m         \u001b[0mdash\u001b[0m\u001b[0;34m.\u001b[0m\u001b[0mdependencies\u001b[0m\u001b[0;34m.\u001b[0m\u001b[0mInput\u001b[0m\u001b[0;34m(\u001b[0m\u001b[0;34m'date-range'\u001b[0m\u001b[0;34m,\u001b[0m \u001b[0;34m'end_date'\u001b[0m\u001b[0;34m)\u001b[0m\u001b[0;34m,\u001b[0m\u001b[0;34m\u001b[0m\u001b[0m\n",
      "\u001b[0;31mNameError\u001b[0m: name 'app' is not defined"
     ]
    }
   ],
   "source": [
    "# NOTE: Do NOT run this cell!!! It is for instructional purposes only - it will NOT work!\n",
    "@app.callback(\n",
    "    dash.dependencies.Output('crimes-weekly', 'figure'),\n",
    "    [\n",
    "        dash.dependencies.Input('date-range', 'start_date'), # input with id date-picker-range and the start_date parameter\n",
    "        dash.dependencies.Input('date-range', 'end_date'),\n",
    "        dash.dependencies.Input('study-dropdown', 'value'),\n",
    "    ]\n",
    ")\n",
    "def update_crimes_scatter_plot(start_date, end_date, value):\n",
    "    return crimes_week(value, start_date, end_date)"
   ]
  },
  {
   "cell_type": "markdown",
   "metadata": {},
   "source": [
    "Again, we've outsourced the heavy lifting of this function to a different function `crimes_week()`:"
   ]
  },
  {
   "cell_type": "code",
   "execution_count": 6,
   "metadata": {},
   "outputs": [],
   "source": [
    "from plotly.subplots import make_subplots\n",
    "from pandas.api.types import CategoricalDtype\n",
    "\n",
    "def crimes_week(crime_type, start_date, end_date):\n",
    "    dff = get_filtered_rows(crime_type, start_date, end_date)\n",
    "    days = ['Sunday', 'Monday', 'Tuesday', 'Wednesday', 'Thursday', 'Friday', 'Saturday']\n",
    "    fig = make_subplots(rows=1, cols=7, subplot_titles=days)\n",
    "    \n",
    "    \n",
    "    cat_type = CategoricalDtype(categories=days, ordered=True)\n",
    "    dff['DAY_OF_WEEK'] = dff['DAY_OF_WEEK'].astype(cat_type)\n",
    "\n",
    "    for crime_name, group in dff.groupby('OFFENSE_CODE_GROUP'):\n",
    "        i=1\n",
    "        for day_of_week, week_group in group.groupby('DAY_OF_WEEK'):\n",
    "            hour_group = week_group.groupby('HOUR', as_index=False).count()\n",
    "            chart = go.Scatter(x=hour_group['HOUR'], y=hour_group['Lat'], name=crime_name)\n",
    "            fig.append_trace(chart, row=1, col=i)\n",
    "            i += 1\n",
    "    \n",
    "    fig.update_layout(\n",
    "        title=\"Hourly/Weekly Crime Trends\",\n",
    "    )\n",
    "    return fig"
   ]
  },
  {
   "cell_type": "markdown",
   "metadata": {},
   "source": [
    "This function gets a bit complicated, but it follows the same general structure as our previous ones. To set up the framing of the subplots, we use the `make_subplots()` function which takes in the number of rows of the plot (just 1) as well as the number of columns (7, one for each day of the week).\n",
    "\n",
    "We then manipulate and pass in the data required to create each subplot as a `go.Scatter()` object. After this, all `go.Scatter()` objects are appended to our main plot using the `append_trace()` function.\n",
    "\n",
    "Go ahead and add all of this to `app.py`, and run it to see the final version of our app!"
   ]
  },
  {
   "cell_type": "markdown",
   "metadata": {},
   "source": [
    "## Conclusions (5 mts)\n",
    "\n",
    "In this case, we built an interactive dashboard which allows business users to gain insight into crime trends by crime type and by district across time. These insights can be used to mitigate crime in high-incident areas by facilitating increased preparedness by the police department.\n",
    "\n",
    "Some interesting findings include:\n",
    "\n",
    "1. Most larceny crimes are committed between 4 - 7 PM on weekdays. There is a sharp decline after 1 - 2 AM on most nights. This pattern is mostly consistent across crime types\n",
    "2. A few exceptions to this include auto theft, which generally occurs after 8PM, and disorderly conduct, which happens mostly around midnight."
   ]
  },
  {
   "cell_type": "markdown",
   "metadata": {},
   "source": [
    "## Takeaways (5 mts)\n",
    "\n",
    "In this case, you continued leveraging the skills you picked up in the previous case about setting up Dash components and callback functions to dynamically populate them. Additionally, you learned about a few new things in Dash:\n",
    "\n",
    "1. Using a SQL database as a data source\n",
    "2. Creating a hierarchical div layout with multiple nested divs\n",
    "3. Creating subplots within another plot\n",
    "\n",
    "In future cases, you'll connect to Amazon Web Services (AWS) and link to an in-cloud database as a data source."
   ]
  }
 ],
 "metadata": {
  "kernelspec": {
   "display_name": "Python 3",
   "language": "python",
   "name": "python3"
  },
  "language_info": {
   "codemirror_mode": {
    "name": "ipython",
    "version": 3
   },
   "file_extension": ".py",
   "mimetype": "text/x-python",
   "name": "python",
   "nbconvert_exporter": "python",
   "pygments_lexer": "ipython3",
   "version": "3.7.3"
  }
 },
 "nbformat": 4,
 "nbformat_minor": 4
}
