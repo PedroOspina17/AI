{
 "cells": [
  {
   "cell_type": "markdown",
   "metadata": {},
   "source": [
    "# Real-time Twitter Sentiment Analysis\n",
    "\n",
    "** This material was built follow [this tutorial made by Chulong Li](https://towardsdatascience.com/real-time-twitter-sentiment-analysis-for-brand-improvement-and-topic-tracking-chapter-1-3-e02f7652d8ff), with some changes**\n",
    "\n",
    "- Requirements:\n",
    "    * Apply in Twitter by developer account. [Here](https://developer.twitter.com/en/apply-for-access)\n",
    "    * Create an app to generate two API keys and two access tokens. [Here](https://developer.twitter.com/en/apps)\n",
    "    * Execute `pip install -r requirements.txt`\n",
    "\n",
    "![](Arquitectura.png)"
   ]
  },
  {
   "cell_type": "markdown",
   "metadata": {},
   "source": [
    "## Set-up Aplication\n",
    "\n",
    "- Create file called credentials.py\n",
    "```python\n",
    "API_KEY = \"XXXXXXXXXXXXXX\"\n",
    "API_SECRET_KEY = \"XXXXXXXXXXXXXXXXXXXXXXXXXXXXXXXXXXXXXXXXXXXXXXXXXX\"\n",
    "\n",
    "ACCESS_TOEKN = \"XXXXXXXXXXXXXXXXXXXXXXXXXXXXXXXXXXXXXXXXXXXXXXXX\"\n",
    "ACCESS_TOKEN_SECRET = \"XXXXXXXXXXXXXXXXXXXXXXXXXXXXXXXXXXXXXXXXXXX\"\n",
    "```\n",
    "- Create database in RDS Postgres named `twitterdb`\n",
    "- Create settings.py\n",
    "```python\n",
    "TRACK_WORDS = ['covid']\n",
    "TABLE_NAME = \"twitter\"\n",
    "TABLE_ATTRIBUTES = \"id_str VARCHAR(255), created_at timestamp, text VARCHAR(255), \\\n",
    "            polarity INT, subjectivity INT, user_created_at VARCHAR(255), user_location VARCHAR(255), \\\n",
    "            user_description VARCHAR(255), user_followers_count INT, longitude double precision, latitude double precision, \\\n",
    "            retweet_count INT, favorite_count INT\"\n",
    "```\n"
   ]
  },
  {
   "cell_type": "markdown",
   "metadata": {},
   "source": [
    "## Application\n",
    "\n",
    "- [Tweepy](http://docs.tweepy.org/en/v3.4.0/streaming_how_to.html#streaming-with-tweepyhttp://docs.tweepy.org/en/v3.4.0/streaming_how_to.html#streaming-with-tweepy) is a python library to listen to streaming Twitter data. \n",
    "- credentials.py : Tokens to connect API of twitter.\n",
    "- settings.py : Topic to track, name and columns of table in database.\n",
    "- TwStreamListener.py : Stream class to extract tweets.\n",
    "- main.py : main program to execute ETL to extract tweets and save in the database.\n",
    "- app.py : App Dash to see result of tweets.\n"
   ]
  }
 ],
 "metadata": {
  "language_info": {
   "codemirror_mode": {
    "name": "ipython",
    "version": 3
   },
   "file_extension": ".py",
   "mimetype": "text/x-python",
   "name": "python",
   "nbconvert_exporter": "python",
   "pygments_lexer": "ipython3",
   "version": "3.7.6-final"
  },
  "orig_nbformat": 2,
  "kernelspec": {
   "name": "python37664bitcase11var2condaa1506117ab73487ba6cee4d98af19099",
   "display_name": "Python 3.7.6 64-bit ('case_1.1_var2': conda)"
  }
 },
 "nbformat": 4,
 "nbformat_minor": 2
}