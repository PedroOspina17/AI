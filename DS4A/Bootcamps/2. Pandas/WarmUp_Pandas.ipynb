{
 "cells": [
  {
   "cell_type": "markdown",
   "metadata": {
    "colab_type": "text",
    "id": "fKfAYNq5wXOY"
   },
   "source": [
    "# Warm Up Python\n",
    "\n",
    "Para un proyecto de ML es importante realizar una análisis previo de los datos con el fin de alistarlos para la fase de modelamiento.\n",
    "\n",
    "## Objetivo:\n",
    "El objetivo de este taller es aprender códigos básicos que te permitiran abordar en tus proyectos personales la fase de preprocesamiento y exploración de los datos."
   ]
  },
  {
   "cell_type": "markdown",
   "metadata": {},
   "source": [
    "## Manipulación de Datos con Pandas\n",
    "\n",
    "Pandas es un paquete creado sobre Numpy, los ``DataFrame`` son conjunto de datos multidimensionales con etiquetas de fila y columna.  Ademas de ofrecer una interfaz de almacenamiento para datos etiquetados, Pandas implementa potentes operaciones de datos."
   ]
  },
  {
   "cell_type": "markdown",
   "metadata": {},
   "source": [
    "### Instalando Pandas\n",
    "\n",
    "La instalación de Pandas requiere en el sistema el paquete Numpy.\n",
    "\n",
    "Para instalarlo se usa el comando:\n",
    "```\n",
    "# Instalacion con pip\n",
    "pip install pandas\n",
    "\n",
    "# Instalacion con conda\n",
    "conda install pandas\n",
    "```"
   ]
  },
  {
   "cell_type": "code",
   "execution_count": null,
   "metadata": {},
   "outputs": [],
   "source": [
    "# Si no se tiene pandas instalado\n",
    "!pip install pandas"
   ]
  },
  {
   "cell_type": "markdown",
   "metadata": {},
   "source": [
    "Luego de instalado, se importa y se puede chequear la version de la siguiente manera:"
   ]
  },
  {
   "cell_type": "code",
   "execution_count": null,
   "metadata": {},
   "outputs": [],
   "source": [
    "# Importando librerias\n",
    "import pandas as pd\n",
    "import numpy as np"
   ]
  },
  {
   "cell_type": "code",
   "execution_count": null,
   "metadata": {},
   "outputs": [],
   "source": [
    "# Version de Pandas\n",
    "pd.__version__"
   ]
  },
  {
   "cell_type": "markdown",
   "metadata": {},
   "source": [
    "### Objetos de Pandas"
   ]
  },
  {
   "cell_type": "code",
   "execution_count": null,
   "metadata": {},
   "outputs": [],
   "source": [
    "from IPython.display import Image\n",
    "Image(filename='base_01_pandas_5_0.png', width=500)\n",
    "# Resource: https://bookdata.readthedocs.io/en/latest/base/01_pandas.html"
   ]
  },
  {
   "cell_type": "markdown",
   "metadata": {},
   "source": [
    "### Titanic Dataset\n",
    "\n",
    "Trabajemos con el famoso conjunto de datos del [titanic](https://www.kaggle.com/c/titanic/data).\n",
    "\n",
    "- PassengerId -- A numerical id assigned to each passenger.\n",
    "- Survived -- Whether the passenger survived (1), or didn't (0).\n",
    "- Pclass -- The class the passenger was in.\n",
    "- Name -- the name of the passenger.\n",
    "- Sex -- The gender of the passenger -- male or female.\n",
    "- Age -- The age of the passenger.  Fractional.\n",
    "- SibSp -- The number of siblings and spouses the passenger had on board.\n",
    "- Parch -- The number of parents and children the passenger had on board.\n",
    "- Ticket -- The ticket number of the passenger.\n",
    "- Fare -- How much the passenger paid for the ticket.\n",
    "- Cabin -- Which cabin the passenger was in.\n",
    "- Embarked -- Where the passenger boarded the Titanic."
   ]
  },
  {
   "cell_type": "code",
   "execution_count": null,
   "metadata": {
    "colab": {},
    "colab_type": "code",
    "id": "AGT0V0lkwXOa"
   },
   "outputs": [],
   "source": [
    "# Cargamos el archivo\n",
    "titanic = pd.read_csv(\"Datasets/train.csv\")"
   ]
  },
  {
   "cell_type": "code",
   "execution_count": null,
   "metadata": {},
   "outputs": [],
   "source": [
    "titanic.index"
   ]
  },
  {
   "cell_type": "code",
   "execution_count": null,
   "metadata": {
    "scrolled": true
   },
   "outputs": [],
   "source": [
    "titanic.columns"
   ]
  },
  {
   "cell_type": "code",
   "execution_count": null,
   "metadata": {},
   "outputs": [],
   "source": [
    "type(titanic.PassengerId)"
   ]
  },
  {
   "cell_type": "code",
   "execution_count": null,
   "metadata": {
    "colab": {},
    "colab_type": "code",
    "id": "0wS7IOxZ3tRE"
   },
   "outputs": [],
   "source": [
    "type(titanic)"
   ]
  },
  {
   "cell_type": "code",
   "execution_count": null,
   "metadata": {},
   "outputs": [],
   "source": [
    "titanic.values"
   ]
  },
  {
   "cell_type": "markdown",
   "metadata": {},
   "source": [
    "### Indexers: loc, and iloc\n",
    "\n",
    "Pandas proporciona algunos atributos especiales *indexer* que exponen explícitamente ciertos esquemas de indexación.\n",
    "\n",
    "Estos no son métodos funcionales, sino atributos que exponen una interfaz de corte particular a los datos.\n",
    "\n",
    "Primero, el atributo ``loc`` permite indexar y segmentar que siempre hace referencia al índice explícito.\n",
    "\n",
    "El atributo ``iloc`` permite indexar y segmentar que siempre hace referencia al índice implícito de estilo Python."
   ]
  },
  {
   "cell_type": "code",
   "execution_count": null,
   "metadata": {},
   "outputs": [],
   "source": [
    "titanic.loc[10:15,'PassengerId':'Age']"
   ]
  },
  {
   "cell_type": "code",
   "execution_count": null,
   "metadata": {
    "scrolled": false
   },
   "outputs": [],
   "source": [
    "titanic.iloc[10:15,0:5]"
   ]
  },
  {
   "cell_type": "markdown",
   "metadata": {},
   "source": [
    "### Selección de datos"
   ]
  },
  {
   "cell_type": "code",
   "execution_count": null,
   "metadata": {},
   "outputs": [],
   "source": [
    "# slicing by implicit index\n",
    "titanic[10:15]"
   ]
  },
  {
   "cell_type": "code",
   "execution_count": null,
   "metadata": {},
   "outputs": [],
   "source": [
    "# fancy indexing\n",
    "titanic[['PassengerId','Age']][10:15]"
   ]
  },
  {
   "cell_type": "code",
   "execution_count": null,
   "metadata": {},
   "outputs": [],
   "source": [
    "# masking\n",
    "titanic[(titanic.Age > 18) & (titanic['Age'] < 50)][10:15]"
   ]
  },
  {
   "cell_type": "code",
   "execution_count": null,
   "metadata": {
    "scrolled": true
   },
   "outputs": [],
   "source": [
    "titanic['Age'][10:15]"
   ]
  },
  {
   "cell_type": "markdown",
   "metadata": {},
   "source": [
    "### Anatomia de un Dataframe"
   ]
  },
  {
   "cell_type": "code",
   "execution_count": null,
   "metadata": {},
   "outputs": [],
   "source": [
    "from IPython.display import Image\n",
    "Image(filename='AnatomyDataFrame.png', width=500)\n",
    "#Resource: https://cvw.cac.cornell.edu/PyDataSci1/arrays_dataframes"
   ]
  },
  {
   "cell_type": "markdown",
   "metadata": {},
   "source": [
    "### concat\n",
    "Pandas tiene una función, ``pd.concat()``, que tiene una sintaxis similar a ``np.concatenate`` pero contiene una diferentes argumentos.\n",
    "\n",
    "``pd.concat()`` puede ser usado para una concatenacion simple de ``Series`` o ``DataFrames``:"
   ]
  },
  {
   "cell_type": "code",
   "execution_count": null,
   "metadata": {},
   "outputs": [],
   "source": [
    "df1 = titanic[(titanic.Age > 18) & (titanic['Age'] < 50)][10:15][['PassengerId','Survived']]\n",
    "df1.reset_index(inplace = True)\n",
    "#df1"
   ]
  },
  {
   "cell_type": "code",
   "execution_count": null,
   "metadata": {},
   "outputs": [],
   "source": [
    "df2 = titanic.iloc[10:15,2:5]\n",
    "df2.reset_index(inplace = True)\n",
    "#df2"
   ]
  },
  {
   "cell_type": "code",
   "execution_count": null,
   "metadata": {},
   "outputs": [],
   "source": [
    "pd.concat([df1, df2],sort=True, axis=1)"
   ]
  },
  {
   "cell_type": "code",
   "execution_count": null,
   "metadata": {},
   "outputs": [],
   "source": [
    "pd.concat([df1, df2],ignore_index=True,sort=True, axis=0)"
   ]
  },
  {
   "cell_type": "markdown",
   "metadata": {
    "colab_type": "text",
    "id": "9QYT_aHGwXQV"
   },
   "source": [
    "### Merge and join\n",
    "\n",
    "Ambas funciones permiten que los datos de diferentes dataframes se combinen en uno solo de acuerdo con una regla de \"cruce\" o \"búsqueda\".\n",
    "\n",
    "Aunque tanto `merge` como` join` hacen cosas similares, la forma en que lo hacen es diferente.\n",
    "\n",
    "La función `merge` es la función predeterminada de pandas para unir datos. Básicamente es contraparte de *pandas de la unión de SQL*, y requiere la especificación de qué columnas de ambos dataframes se compararán. A Merge no le importa en absoluto los índices definidos en ellos.\n",
    "\n",
    "Por otro lado, la función `join` de Panda es más conveniente (incluso utiliza merge internamente), unir es básicamente hacer una fusión aprovechando los índices de ambos marcos de datos.\n",
    "\n",
    "La siguiente figura resume los diferentes 4 tipos de combinaciones: _inner, outer, left and right_.\n",
    "\n",
    "![MERGE](http://www.datasciencemadesimple.com/wp-content/uploads/2017/09/join-or-merge-in-python-pandas-1.png)\n",
    "\n",
    "La función merge también está disponible como método en la clase `DataFrame`.\n",
    "La sintaxis básica es:\n",
    "\n",
    "```\n",
    "new_joined_df = df.merge (another_df, left_on = \"col_in_df\", right_on = \"col_in_another_df\",\n",
    "                          how=\"inner\"|\"left\"|\"right\"|\"outer\")\n",
    "```\n",
    "\n",
    "El primer argumento (`another_df`), así como` left_on` y `right_on` son argumentos obligatorios.\n",
    "`left_on` especifica un nombre de columna en el dataframe `df` cuyos valores deben coincidir con\n",
    "los de la columna `another_df` 'especificados en `right_on`.\n",
    "\n",
    "El argumento `how` es opcional y por defecto es `inner`."
   ]
  },
  {
   "cell_type": "code",
   "execution_count": null,
   "metadata": {},
   "outputs": [],
   "source": [
    "staff_df = pd.DataFrame([{'Name': 'Kelly', 'Role': 'Director of HR'},\n",
    "                         {'Name': 'Sally', 'Role': 'Course liasion'},\n",
    "                         {'Name': 'James', 'Role': 'Grader'}])\n",
    "staff_df = staff_df.set_index('Name')\n",
    "student_df = pd.DataFrame([{'Name': 'James', 'School': 'Business'},\n",
    "                           {'Name': 'Mike', 'School': 'Law'},\n",
    "                           {'Name': 'Sally', 'School': 'Engineering'}])\n",
    "student_df = student_df.set_index('Name')"
   ]
  },
  {
   "cell_type": "code",
   "execution_count": null,
   "metadata": {},
   "outputs": [],
   "source": [
    "pd.merge(staff_df, student_df,left_index=True, right_index=True)"
   ]
  },
  {
   "cell_type": "code",
   "execution_count": null,
   "metadata": {
    "scrolled": true
   },
   "outputs": [],
   "source": [
    "pd.merge(staff_df, student_df, how='outer', left_index=True, right_index=True)"
   ]
  },
  {
   "cell_type": "code",
   "execution_count": null,
   "metadata": {},
   "outputs": [],
   "source": [
    "pd.merge(staff_df, student_df, how='left', left_index=True, right_index=True)"
   ]
  },
  {
   "cell_type": "code",
   "execution_count": null,
   "metadata": {},
   "outputs": [],
   "source": [
    "pd.merge(staff_df, student_df, how='right', left_index=True, right_index=True)"
   ]
  },
  {
   "cell_type": "code",
   "execution_count": null,
   "metadata": {},
   "outputs": [],
   "source": [
    "staff_df = staff_df.reset_index()\n",
    "student_df = student_df.reset_index()"
   ]
  },
  {
   "cell_type": "code",
   "execution_count": null,
   "metadata": {},
   "outputs": [],
   "source": [
    "pd.merge(staff_df, student_df, how=\"left\", left_on=\"Name\", right_on=\"Name\")"
   ]
  },
  {
   "cell_type": "code",
   "execution_count": null,
   "metadata": {},
   "outputs": [],
   "source": [
    "pd.merge(staff_df, student_df, how=\"left\",on=\"Name\")"
   ]
  },
  {
   "cell_type": "code",
   "execution_count": null,
   "metadata": {},
   "outputs": [],
   "source": [
    "staff_df = pd.DataFrame([{'First Name': 'Kelly', 'Last Name': 'Desjardins', 'Role': 'Director of HR'},\n",
    "                         {'First Name': 'Sally', 'Last Name': 'Brooks', 'Role': 'Course liasion'},\n",
    "                         {'First Name': 'James', 'Last Name': 'Wilde', 'Role': 'Grader'}])"
   ]
  },
  {
   "cell_type": "code",
   "execution_count": null,
   "metadata": {},
   "outputs": [],
   "source": [
    "student_df = pd.DataFrame([{'First Name': 'James', 'Last Name': 'Hammond', 'School': 'Business'},\n",
    "                           {'First Name': 'Mike', 'Last Name': 'Smith', 'School': 'Law'},\n",
    "                           {'First Name': 'Sally', 'Last Name': 'Brooks', 'School': 'Engineering'}])"
   ]
  },
  {
   "cell_type": "code",
   "execution_count": null,
   "metadata": {},
   "outputs": [],
   "source": [
    "pd.merge(staff_df, student_df, how='inner', left_on=['First Name','Last Name'], right_on=['First Name','Last Name'])"
   ]
  },
  {
   "cell_type": "markdown",
   "metadata": {},
   "source": [
    "### Agregación y Agrupamiento\n",
    "Un análisis esencial de grandes datos es un resumen eficiente: agregaciones informáticas como ``sum()``, ``mean()``, ``median()``, ``min()`` y ``max()``, en el que un solo número da una idea de la naturaleza de un conjunto de datos potencialmente grande.\n",
    "\n",
    "En esta sección, exploraremos las agregaciones en Pandas, desde operaciones simples similares a las que hemos visto en los arreglos NumPy, hasta operaciones más sofisticadas basadas en el concepto de ``groupby``."
   ]
  },
  {
   "cell_type": "code",
   "execution_count": null,
   "metadata": {},
   "outputs": [],
   "source": [
    "titanic['Age'].mean()"
   ]
  },
  {
   "cell_type": "code",
   "execution_count": null,
   "metadata": {},
   "outputs": [],
   "source": [
    "titanic.groupby('Sex').size()"
   ]
  },
  {
   "cell_type": "code",
   "execution_count": null,
   "metadata": {},
   "outputs": [],
   "source": [
    "titanic.groupby('Sex').agg({'Age':['min','mean','max']})"
   ]
  },
  {
   "cell_type": "markdown",
   "metadata": {},
   "source": [
    "### Crosstab\n",
    "\n",
    "Una de las funciones utiles en Pandas es ``crosstab``:"
   ]
  },
  {
   "cell_type": "code",
   "execution_count": null,
   "metadata": {
    "scrolled": true
   },
   "outputs": [],
   "source": [
    "pd.crosstab(titanic['Sex'], titanic['Pclass'])"
   ]
  },
  {
   "cell_type": "markdown",
   "metadata": {},
   "source": [
    "### Pivot Table"
   ]
  },
  {
   "cell_type": "code",
   "execution_count": null,
   "metadata": {
    "scrolled": true
   },
   "outputs": [],
   "source": [
    "titanic.pivot_table(values='Age',index='Sex',columns='Pclass', aggfunc=np.mean)"
   ]
  },
  {
   "cell_type": "markdown",
   "metadata": {},
   "source": [
    "### Funcionalidad de Fechas con Pandas"
   ]
  },
  {
   "cell_type": "code",
   "execution_count": null,
   "metadata": {},
   "outputs": [],
   "source": [
    "import seaborn as sns\n",
    "\n",
    "# Load dataset\n",
    "flights = sns.load_dataset('flights')\n",
    "flights.head(2)"
   ]
  },
  {
   "cell_type": "code",
   "execution_count": null,
   "metadata": {},
   "outputs": [],
   "source": [
    "flights['date'] = flights['year'].astype(str)+ ' ' + flights['month'].astype(str)\n",
    "flights.head(2)"
   ]
  },
  {
   "cell_type": "code",
   "execution_count": null,
   "metadata": {},
   "outputs": [],
   "source": [
    "flights['date'] = pd.to_datetime(flights['date'])\n",
    "flights.head(2)"
   ]
  },
  {
   "cell_type": "code",
   "execution_count": null,
   "metadata": {},
   "outputs": [],
   "source": [
    "flights.set_index('date',inplace=True)"
   ]
  },
  {
   "cell_type": "code",
   "execution_count": null,
   "metadata": {},
   "outputs": [],
   "source": [
    "flights.groupby(pd.Grouper(freq='Y')).agg({'passengers':'mean'}).plot()"
   ]
  },
  {
   "cell_type": "code",
   "execution_count": null,
   "metadata": {},
   "outputs": [],
   "source": [
    "flights.resample('y').mean()"
   ]
  },
  {
   "cell_type": "code",
   "execution_count": null,
   "metadata": {},
   "outputs": [],
   "source": [
    "flights.index.weekday_name"
   ]
  },
  {
   "cell_type": "code",
   "execution_count": null,
   "metadata": {},
   "outputs": [],
   "source": [
    "flights.resample('y').mean()['passengers'].diff(2)"
   ]
  },
  {
   "cell_type": "code",
   "execution_count": null,
   "metadata": {},
   "outputs": [],
   "source": [
    "flights['1950-12-31':].head()"
   ]
  },
  {
   "cell_type": "code",
   "execution_count": null,
   "metadata": {},
   "outputs": [],
   "source": [
    "flights.reset_index(inplace=True)\n",
    "flights['weekday_name'] = flights['date'].dt.weekday_name"
   ]
  },
  {
   "cell_type": "code",
   "execution_count": null,
   "metadata": {
    "scrolled": false
   },
   "outputs": [],
   "source": [
    "flights.groupby('weekday_name').size()"
   ]
  },
  {
   "cell_type": "code",
   "execution_count": null,
   "metadata": {},
   "outputs": [],
   "source": [
    "flights['weekday_name'] = pd.Categorical(flights['weekday_name'], categories=\n",
    "    ['Monday','Tuesday','Wednesday','Thursday','Friday','Saturday','Sunday'],\n",
    "    ordered=True)"
   ]
  },
  {
   "cell_type": "code",
   "execution_count": null,
   "metadata": {},
   "outputs": [],
   "source": [
    "flights.groupby('weekday_name').size()"
   ]
  },
  {
   "cell_type": "markdown",
   "metadata": {},
   "source": [
    "## Exploración de Datos del Titanic\n",
    "\n",
    "Para esta fase inicial conocer algunas funciones que nos provee pandas para facilitarnos la vida son fundamentales.  Dentro de esta fase se desea identificar el dataset que tipo de datos maneja, si tenemos nulos en nuestro conjunto de datos, entre otros.\n",
    "\n",
    "Estas son algunas funciones que nos sirven para esta fase:\n",
    "\n",
    "```python\n",
    "df.head()\n",
    "df.tail()\n",
    "df.info()\n",
    "df.shape\n",
    "df.columns\n",
    "df.describe()\n",
    "df.value_counts()\n",
    "df.unique()\n",
    "df.nunique()\n",
    "```"
   ]
  },
  {
   "cell_type": "code",
   "execution_count": null,
   "metadata": {
    "colab": {},
    "colab_type": "code",
    "id": "4pBhRys7wXOd"
   },
   "outputs": [],
   "source": [
    "# Visualiza las primeras 2 filas del titanic\n",
    "titanic.head(2)"
   ]
  },
  {
   "cell_type": "code",
   "execution_count": null,
   "metadata": {
    "colab": {},
    "colab_type": "code",
    "id": "Q8aE2ArfwXOf"
   },
   "outputs": [],
   "source": [
    "# Visualiza las ultimas 2 filas del titanic\n",
    "titanic.tail(2)"
   ]
  },
  {
   "cell_type": "code",
   "execution_count": null,
   "metadata": {
    "colab": {},
    "colab_type": "code",
    "id": "8OoLQnC2wXOi"
   },
   "outputs": [],
   "source": [
    "# Conocer cuantas filas y columnas tiene nuestro dataset\n",
    "titanic.shape"
   ]
  },
  {
   "cell_type": "code",
   "execution_count": null,
   "metadata": {
    "colab": {},
    "colab_type": "code",
    "id": "-wYw9tGTwXOk"
   },
   "outputs": [],
   "source": [
    "# Tipos de datos que tiene nuestro dataset y que cantidad de nulos tiene\n",
    "titanic.info()"
   ]
  },
  {
   "cell_type": "code",
   "execution_count": null,
   "metadata": {
    "colab": {},
    "colab_type": "code",
    "id": "kzufEPcTwXOm"
   },
   "outputs": [],
   "source": [
    "# Otra manera de visualizar los nulos por columna\n",
    "titanic.isnull().sum()"
   ]
  },
  {
   "cell_type": "code",
   "execution_count": null,
   "metadata": {
    "colab": {},
    "colab_type": "code",
    "id": "TT_WDvwvwXOo"
   },
   "outputs": [],
   "source": [
    "# Otra manera de conocer los tipos de datos\n",
    "titanic.dtypes"
   ]
  },
  {
   "cell_type": "code",
   "execution_count": null,
   "metadata": {
    "colab": {},
    "colab_type": "code",
    "id": "xmnWo30zwXOr"
   },
   "outputs": [],
   "source": [
    "# Resumen de las columnas numericas\n",
    "titanic.describe()"
   ]
  },
  {
   "cell_type": "code",
   "execution_count": null,
   "metadata": {
    "colab": {},
    "colab_type": "code",
    "id": "AcEWb9I-wXOt"
   },
   "outputs": [],
   "source": [
    "# Resumen de las columnas categoricas\n",
    "titanic.describe(include = ['O'])"
   ]
  },
  {
   "cell_type": "code",
   "execution_count": null,
   "metadata": {
    "colab": {},
    "colab_type": "code",
    "id": "SOL4OlEBwXOv"
   },
   "outputs": [],
   "source": [
    "# Valores unicos por columna sin tener en cuenta nulos\n",
    "titanic.nunique()"
   ]
  },
  {
   "cell_type": "code",
   "execution_count": null,
   "metadata": {
    "colab": {},
    "colab_type": "code",
    "id": "vSZirHH-wXOx"
   },
   "outputs": [],
   "source": [
    "# Valores unicos por columna teniendo en cuenta nulos\n",
    "titanic.nunique(dropna=False)"
   ]
  },
  {
   "cell_type": "code",
   "execution_count": null,
   "metadata": {
    "colab": {},
    "colab_type": "code",
    "id": "XZ4ySfSRwXO0"
   },
   "outputs": [],
   "source": [
    "# Conteo de valores por columna de no nulos\n",
    "titanic.count()"
   ]
  },
  {
   "cell_type": "code",
   "execution_count": null,
   "metadata": {
    "colab": {},
    "colab_type": "code",
    "id": "RtECcmzpwXO2"
   },
   "outputs": [],
   "source": [
    "# Valor mas frecuente en la serie\n",
    "titanic['Embarked'].mode()"
   ]
  },
  {
   "cell_type": "code",
   "execution_count": null,
   "metadata": {
    "colab": {},
    "colab_type": "code",
    "id": "19ivC4xpwXO4"
   },
   "outputs": [],
   "source": [
    "# Valores unicos de la columna 'Embarked'\n",
    "titanic['Embarked'].unique()"
   ]
  },
  {
   "cell_type": "code",
   "execution_count": null,
   "metadata": {
    "colab": {},
    "colab_type": "code",
    "id": "cKMrV_pOwXO6",
    "scrolled": true
   },
   "outputs": [],
   "source": [
    "# Cuantos registros tenemos por categoria de la columna 'Embarked' sin nulos\n",
    "titanic['Embarked'].value_counts()"
   ]
  },
  {
   "cell_type": "code",
   "execution_count": null,
   "metadata": {
    "colab": {},
    "colab_type": "code",
    "id": "hFWdudRcwXO8"
   },
   "outputs": [],
   "source": [
    "# Cuantos registros tenemos por categoria de la columna 'Embarked' con nulos\n",
    "titanic['Embarked'].value_counts(dropna=False)"
   ]
  },
  {
   "cell_type": "code",
   "execution_count": null,
   "metadata": {
    "colab": {},
    "colab_type": "code",
    "id": "6A-YEGLuwXO-"
   },
   "outputs": [],
   "source": [
    "# Cuales son los nombres de las columnas del dataset\n",
    "titanic.columns"
   ]
  },
  {
   "cell_type": "code",
   "execution_count": null,
   "metadata": {
    "colab": {},
    "colab_type": "code",
    "id": "UC7KMSwuDKNJ"
   },
   "outputs": [],
   "source": [
    "titanic.columns = ['Passenger_Id', 'Survived', 'Pclass', 'Name', 'Sex', 'Age', 'SibSp',\n",
    "       'Parch', 'Ticket', 'Fare', 'Cabin', 'Embarked']\n",
    "titanic = titanic.rename(columns={'Passenger_Id':'PassengerId'})\n",
    "titanic.head()"
   ]
  },
  {
   "cell_type": "code",
   "execution_count": null,
   "metadata": {
    "colab": {},
    "colab_type": "code",
    "id": "BP0XOe_6DcQb"
   },
   "outputs": [],
   "source": [
    "?titanic.rename"
   ]
  },
  {
   "cell_type": "markdown",
   "metadata": {
    "colab_type": "text",
    "id": "fPIusLVswXPB"
   },
   "source": [
    "Ahora que tenemos una idea de la información que tenemos, vamos a empezar a transformarla para poder tener nuestros datos listos para la fase de visualización, de esta fase podemos concluir que PassengerId y Name que tienen 891 registros unicos no son columnas que nos sirvan para un analisis posterior, la columna Ticket tambien son 681 valores unicos esta tampoco nos sirve, y por ultimo la columna Cabin tiene el 77% de los datos nulos, lo que hace que tampoco nos sirva para más adelante."
   ]
  },
  {
   "cell_type": "code",
   "execution_count": null,
   "metadata": {
    "colab": {},
    "colab_type": "code",
    "id": "SAeZx3acPF-f"
   },
   "outputs": [],
   "source": [
    "titanic[(titanic['Embarked']=='S') & (titanic['Sex']=='female')][['Name','Age']].head()"
   ]
  },
  {
   "cell_type": "markdown",
   "metadata": {
    "colab_type": "text",
    "id": "B-ESj74vwXPB"
   },
   "source": [
    "### Practica\n",
    "\n",
    "Con las columnas Genero ('Sex'), Edad ('Age') y el valor del tiquete ('Fare'), responde las siguientes preguntas:\n",
    "\n",
    "- ¿Cuantos Hombres y Mujeres tenemos en nuestro dataset?\n",
    "- ¿Cual es la edad mas frecuente en nuestro conjunto de datos?\n",
    "- ¿Cual es la edad mas frecuente en las mujeres?\n",
    "- ¿Cual es la edad mas frecuente en los hombres?\n",
    "- ¿Cual es el precio del tiquete mas común?\n",
    "- ¿El precio del tiquete mas común es el mismo para hombres y para mujeres?"
   ]
  },
  {
   "cell_type": "code",
   "execution_count": null,
   "metadata": {
    "colab": {},
    "colab_type": "code",
    "id": "XtnI_WIWwXPC"
   },
   "outputs": [],
   "source": [
    "#¿Cuantos Hombres y Mujeres tenemos en nuestro dataset?\n",
    "#Tu código"
   ]
  },
  {
   "cell_type": "markdown",
   "metadata": {
    "colab_type": "text",
    "id": "AJnllASrwXPE"
   },
   "source": [
    "**Deberia de tener el siguiente resultado:**\n",
    "\n",
    "```\n",
    "male      577\n",
    "female    314\n",
    "Name: Sex, dtype: int64\n",
    "```"
   ]
  },
  {
   "cell_type": "markdown",
   "metadata": {
    "colab_type": "text",
    "id": "SndTBabJwXPF"
   },
   "source": [
    "Doble-clic __Aqui__ para la solución.\n",
    "\n",
    "<!-- Your answer is below:\n",
    "titanic['Sex'].value_counts()\n",
    "-->"
   ]
  },
  {
   "cell_type": "code",
   "execution_count": null,
   "metadata": {
    "colab": {},
    "colab_type": "code",
    "id": "-9Gd439zwXPG"
   },
   "outputs": [],
   "source": [
    "#¿Cual es la edad mas frecuente en nuestro conjunto de datos?\n",
    "#Tu código"
   ]
  },
  {
   "cell_type": "markdown",
   "metadata": {
    "colab_type": "text",
    "id": "TlIl0eAewXPK"
   },
   "source": [
    "**Deberia de tener el siguiente resultado:**\n",
    "\n",
    "```\n",
    "0    24.0\n",
    "dtype: float64\n",
    "```"
   ]
  },
  {
   "cell_type": "markdown",
   "metadata": {
    "colab_type": "text",
    "id": "q23GHhcqwXPL"
   },
   "source": [
    "Doble-clic __Aqui__ para la solución.\n",
    "\n",
    "<!-- Your answer is below:\n",
    "titanic['Age'].mode()\n",
    "-->"
   ]
  },
  {
   "cell_type": "code",
   "execution_count": null,
   "metadata": {
    "colab": {},
    "colab_type": "code",
    "id": "CqBPkrVSwXPM"
   },
   "outputs": [],
   "source": [
    "#¿Cual es la edad mas frecuente en las mujeres?\n",
    "#Tu código"
   ]
  },
  {
   "cell_type": "markdown",
   "metadata": {
    "colab_type": "text",
    "id": "BDKK1ifTwXPQ"
   },
   "source": [
    "**Deberia de tener el siguiente resultado:**\n",
    "\n",
    "```\n",
    "0    24.0\n",
    "dtype: float64\n",
    "```"
   ]
  },
  {
   "cell_type": "markdown",
   "metadata": {
    "colab_type": "text",
    "id": "4DLuxTQVwXPR"
   },
   "source": [
    "Doble-clic __Aqui__ para la solución.\n",
    "\n",
    "<!-- Your answer is below:\n",
    "titanic[titanic['Sex']=='female']['Age'].mode()\n",
    "-->"
   ]
  },
  {
   "cell_type": "code",
   "execution_count": null,
   "metadata": {
    "colab": {},
    "colab_type": "code",
    "id": "P_n71xADwXPR"
   },
   "outputs": [],
   "source": [
    "#¿Cual es la edad mas frecuente en los hombres?\n",
    "#Tu código"
   ]
  },
  {
   "cell_type": "markdown",
   "metadata": {
    "colab_type": "text",
    "id": "NnOC9AfkwXPT"
   },
   "source": [
    "**Deberia de tener el siguiente resultado:**\n",
    "\n",
    "```\n",
    "0    19.0\n",
    "1    25.0\n",
    "2    28.0\n",
    "dtype: float64\n",
    "```"
   ]
  },
  {
   "cell_type": "markdown",
   "metadata": {
    "colab_type": "text",
    "id": "gvE7wSV0wXPU"
   },
   "source": [
    "Doble-clic __Aqui__ para la solución.\n",
    "\n",
    "<!-- Your answer is below:\n",
    "titanic[titanic['Sex']=='male']['Age'].mode()\n",
    "-->"
   ]
  },
  {
   "cell_type": "code",
   "execution_count": null,
   "metadata": {
    "colab": {},
    "colab_type": "code",
    "id": "L-kjHF7HwXPW"
   },
   "outputs": [],
   "source": [
    "#¿Cual es el precio del tiquete mas común?\n",
    "#Tu código"
   ]
  },
  {
   "cell_type": "markdown",
   "metadata": {
    "colab_type": "text",
    "id": "E6G0-_bTwXPb"
   },
   "source": [
    "**Deberia de tener el siguiente resultado:**\n",
    "\n",
    "```\n",
    "0    8.05\n",
    "dtype: float64\n",
    "```"
   ]
  },
  {
   "cell_type": "markdown",
   "metadata": {
    "colab_type": "text",
    "id": "DS2DsRyYwXPc"
   },
   "source": [
    "Doble-clic __Aqui__ para la solución.\n",
    "\n",
    "<!-- Your answer is below:\n",
    "titanic['Fare'].mode()\n",
    "-->"
   ]
  },
  {
   "cell_type": "code",
   "execution_count": null,
   "metadata": {
    "colab": {},
    "colab_type": "code",
    "id": "owKd9aoZwXPd"
   },
   "outputs": [],
   "source": [
    "#¿El precio del tiquete más común es el mismo para hombres y para mujeres?\n",
    "#Tu código"
   ]
  },
  {
   "cell_type": "markdown",
   "metadata": {
    "colab_type": "text",
    "id": "epzAPVB0wXPf"
   },
   "source": [
    "**Deberia de tener el siguiente resultado:**\n",
    "\n",
    "```\n",
    "Precio común del tiquete para mujeres :7.75\n",
    "Precio común del tiquete para hombres :8.05\n",
    "```"
   ]
  },
  {
   "cell_type": "markdown",
   "metadata": {
    "colab_type": "text",
    "id": "zwMunGc5wXPg"
   },
   "source": [
    "Doble-clic __Aqui__ para la solución.\n",
    "\n",
    "<!-- Your answer is below:\n",
    "print('Precio común del tiquete para mujeres :' + str(titanic[titanic['Sex']=='female']['Fare'].mode()[0]))\n",
    "print('Precio común del tiquete para hombres :' + str(titanic[titanic['Sex']=='male']['Fare'].mode()[0]))\n",
    "-->"
   ]
  },
  {
   "cell_type": "markdown",
   "metadata": {
    "colab_type": "text",
    "id": "gn4OORL7wXPh"
   },
   "source": [
    "## Preprocesamiento:\n",
    "Para esta fase tener un buen conocimiento de Pandas será muy útil, adicional estructurar esta fase de preprocesamiento con la ayuda de funciones, nos permitirá tener codigo que podremos reutilizar en otros proyectos.\n",
    "\n",
    "Dentro de las actividades que se podrían hacer en preprocesamiento se encuentras las siguientes:\n",
    "\n",
    "**Borrar columnas**\n",
    "\n",
    "**Enriching (or Transforming)** un conjunto de datos, agregando columnas recién calculadas en los índices.\n",
    "\n",
    "**Filtering** seleccionando un subconjunto de las filas o columnas de un conjunto de datos de acuerdo con algún criterio.\n",
    "\n",
    "**Indexing** agregando índices a un conjunto de datos.\n",
    "\n",
    "**Aggregating**\n",
    "\n",
    "**Sorting** ordenar las filas de un conjunto de datos según algún criterio\n",
    "\n",
    "**Merging** fusionar los conjuntos de datos de alguna manera. Esto incluye: concatenación (horizontal o vertical) y también unión.\n",
    "\n",
    "**Pivoting**: esto incluye la transposición y la realización de otras operaciones para que los datos que originalmente tenían un diseño vertical se distribuyan horizontalmente (aumentando el número de columnas) o viceversa (aumentando el número de filas). \n",
    "\n",
    "Entre otras."
   ]
  },
  {
   "cell_type": "code",
   "execution_count": null,
   "metadata": {
    "colab": {},
    "colab_type": "code",
    "id": "MqeBreYyJxJK"
   },
   "outputs": [],
   "source": [
    "titanic.columns"
   ]
  },
  {
   "cell_type": "code",
   "execution_count": null,
   "metadata": {
    "colab": {},
    "colab_type": "code",
    "id": "wl_OV7gVwXPh"
   },
   "outputs": [],
   "source": [
    "# Eliminar columnas PassengerId, Name, Cabin, la columna ticket no la vamos a eliminar todavia.\n",
    "titanic.drop(['PassengerId','Name','Cabin'],axis=1, inplace=True)\n",
    "titanic.shape"
   ]
  },
  {
   "cell_type": "code",
   "execution_count": null,
   "metadata": {
    "colab": {},
    "colab_type": "code",
    "id": "OzLvOC03wXPj"
   },
   "outputs": [],
   "source": [
    "# Validar nulos nuevamente\n",
    "titanic.isnull().sum()"
   ]
  },
  {
   "cell_type": "code",
   "execution_count": null,
   "metadata": {
    "colab": {},
    "colab_type": "code",
    "id": "0uE3gsIZwXPn"
   },
   "outputs": [],
   "source": [
    "# En los primeros 10 registros tenemos un campo de edad nulo, vamos a tenerlo como referencia para lo que vamos a hacer\n",
    "titanic.head(10)"
   ]
  },
  {
   "cell_type": "markdown",
   "metadata": {
    "colab_type": "text",
    "id": "tsC8IhYPwXPq"
   },
   "source": [
    "### Nulos\n",
    "Dependiendo del problema el tratamiento de los nulos se puede manejar de diferentes maneras:\n",
    "\n",
    "* Conservalos\n",
    "* Eliminarlos\n",
    "* Dejar un valor fijo que los diferencie\n",
    "* Reemplazarlos con un estadistico (media, mediana, moda) Cual usar si tenemos outliers?\n",
    "* Forward o backward fill\n",
    "* Interpolar"
   ]
  },
  {
   "cell_type": "code",
   "execution_count": null,
   "metadata": {
    "colab": {},
    "colab_type": "code",
    "id": "h7QGmCKpwXPq"
   },
   "outputs": [],
   "source": [
    "# Para eliminarlos usamos\n",
    "titanic.dropna(inplace=True)\n",
    "titanic.shape"
   ]
  },
  {
   "cell_type": "code",
   "execution_count": null,
   "metadata": {
    "colab": {},
    "colab_type": "code",
    "id": "qZxjRl3dwXPs"
   },
   "outputs": [],
   "source": [
    "# Validar nulos nuevamente\n",
    "titanic.isnull().sum()"
   ]
  },
  {
   "cell_type": "code",
   "execution_count": null,
   "metadata": {
    "colab": {},
    "colab_type": "code",
    "id": "AIj9JhIhwXPv",
    "scrolled": true
   },
   "outputs": [],
   "source": [
    "# En los primeros 10 registros tenemos un campo de edad nulo, vamos a tenerlo como referencia para lo que vamos a hacer\n",
    "titanic.head(10)"
   ]
  },
  {
   "cell_type": "code",
   "execution_count": null,
   "metadata": {
    "colab": {},
    "colab_type": "code",
    "id": "ievYbxlP5qfU"
   },
   "outputs": [],
   "source": [
    "titanic.info()"
   ]
  },
  {
   "cell_type": "code",
   "execution_count": null,
   "metadata": {
    "colab": {},
    "colab_type": "code",
    "id": "ZVrH-YdMLigH",
    "scrolled": true
   },
   "outputs": [],
   "source": [
    "titanic.reset_index(drop=True,inplace=True)\n",
    "titanic.head(10)"
   ]
  },
  {
   "cell_type": "code",
   "execution_count": null,
   "metadata": {
    "colab": {},
    "colab_type": "code",
    "id": "Kpxy60ATL8rI"
   },
   "outputs": [],
   "source": [
    "# Dejar un valor fijo que los diferencie\n",
    "titanic = pd.read_csv(\"Datasets/train.csv\")\n",
    "titanic.drop(['PassengerId','Name','Cabin'],axis=1, inplace=True)"
   ]
  },
  {
   "cell_type": "code",
   "execution_count": null,
   "metadata": {
    "colab": {},
    "colab_type": "code",
    "id": "kZB7wWM26IUn"
   },
   "outputs": [],
   "source": [
    "titanic.shape"
   ]
  },
  {
   "cell_type": "code",
   "execution_count": null,
   "metadata": {
    "colab": {},
    "colab_type": "code",
    "id": "nA8c7-d4wXPx"
   },
   "outputs": [],
   "source": [
    "titanic.fillna(-1).head(10)"
   ]
  },
  {
   "cell_type": "code",
   "execution_count": null,
   "metadata": {
    "colab": {},
    "colab_type": "code",
    "id": "SSn5Tx13wXPz",
    "scrolled": true
   },
   "outputs": [],
   "source": [
    "titanic['Age'].fillna(titanic['Age'].mean()).head(10)"
   ]
  },
  {
   "cell_type": "code",
   "execution_count": null,
   "metadata": {
    "colab": {},
    "colab_type": "code",
    "id": "UoaYdlapwXP2",
    "scrolled": true
   },
   "outputs": [],
   "source": [
    "titanic['Age'].fillna(titanic['Age'].median()).head(10)"
   ]
  },
  {
   "cell_type": "code",
   "execution_count": null,
   "metadata": {
    "colab": {},
    "colab_type": "code",
    "id": "gXFho5zywXP4",
    "scrolled": true
   },
   "outputs": [],
   "source": [
    "titanic['Age'].fillna(titanic['Age'].mode()[0]).head(10)"
   ]
  },
  {
   "cell_type": "code",
   "execution_count": null,
   "metadata": {
    "colab": {},
    "colab_type": "code",
    "id": "Ii1gOw9SwXP6",
    "scrolled": true
   },
   "outputs": [],
   "source": [
    "titanic['Age'].fillna(method='backfill').head(10)"
   ]
  },
  {
   "cell_type": "code",
   "execution_count": null,
   "metadata": {
    "colab": {},
    "colab_type": "code",
    "id": "Mh2so39dwXP8"
   },
   "outputs": [],
   "source": [
    "titanic['Age'].fillna(method='ffill').head(10)"
   ]
  },
  {
   "cell_type": "code",
   "execution_count": null,
   "metadata": {},
   "outputs": [],
   "source": [
    "titanic['Age'].interpolate(method='polynomial', order=2).head(10)"
   ]
  },
  {
   "cell_type": "markdown",
   "metadata": {
    "colab_type": "text",
    "id": "ZWbIBSzLwXP_"
   },
   "source": [
    "Para nuestro ejercicio tomaremos la decisión de borrar los nulos."
   ]
  },
  {
   "cell_type": "code",
   "execution_count": null,
   "metadata": {
    "colab": {},
    "colab_type": "code",
    "id": "QRVxq6sWwXQA"
   },
   "outputs": [],
   "source": [
    "# Para eliminarlos usamos\n",
    "titanic.dropna(inplace=True)\n",
    "titanic.shape"
   ]
  },
  {
   "cell_type": "markdown",
   "metadata": {
    "colab_type": "text",
    "id": "ZqtDRbqtwXQB"
   },
   "source": [
    "### Columnas\n",
    "Para ser practicos, normalmente modificamos los nombres de las columnas con el fin de quitar espacios en blanco, caracteres especiales, dejar los nombres en minuscula así que a continuacion realizaremos ese cambio."
   ]
  },
  {
   "cell_type": "code",
   "execution_count": null,
   "metadata": {
    "colab": {},
    "colab_type": "code",
    "id": "gOX3Z3EBwXQC"
   },
   "outputs": [],
   "source": [
    "# Cambiar nombre de columnas a minusculas\n",
    "titanic.rename(columns = lambda col: col.lower(),inplace=True)"
   ]
  },
  {
   "cell_type": "code",
   "execution_count": null,
   "metadata": {
    "colab": {},
    "colab_type": "code",
    "id": "82wNI7vgwXQF"
   },
   "outputs": [],
   "source": [
    "# Validar dataset\n",
    "titanic.info()"
   ]
  },
  {
   "cell_type": "code",
   "execution_count": null,
   "metadata": {
    "colab": {},
    "colab_type": "code",
    "id": "5uHldoFANnV8"
   },
   "outputs": [],
   "source": [
    "titanic.shape"
   ]
  },
  {
   "cell_type": "markdown",
   "metadata": {
    "colab_type": "text",
    "id": "PJaQbC8GwXQH"
   },
   "source": [
    "### Indices"
   ]
  },
  {
   "cell_type": "code",
   "execution_count": null,
   "metadata": {
    "colab": {},
    "colab_type": "code",
    "id": "YvFinM3HwXQI"
   },
   "outputs": [],
   "source": [
    "# Luego de eliminar los nulos, se debe de resetear los indices, como puedes ver aparecen de 0 a 890 todavia \n",
    "# a persar de que tenemos 712 filas.\n",
    "titanic.reset_index(drop=True,inplace=True)\n",
    "titanic.info()"
   ]
  },
  {
   "cell_type": "markdown",
   "metadata": {
    "colab_type": "text",
    "id": "mU_eZjVZwXQL"
   },
   "source": [
    "### Agrupación"
   ]
  },
  {
   "cell_type": "code",
   "execution_count": null,
   "metadata": {
    "colab": {},
    "colab_type": "code",
    "id": "Ga5gmgAGOfY1"
   },
   "outputs": [],
   "source": [
    "titanic.groupby(['sex','survived']).size()"
   ]
  },
  {
   "cell_type": "code",
   "execution_count": null,
   "metadata": {
    "colab": {},
    "colab_type": "code",
    "id": "fvVXeAo4PCqb"
   },
   "outputs": [],
   "source": [
    "titanic.groupby(['sex','survived']).agg({'fare':'count','age':'mean'}).reset_index()"
   ]
  },
  {
   "cell_type": "code",
   "execution_count": null,
   "metadata": {
    "colab": {},
    "colab_type": "code",
    "id": "CNMm8BKLwXQM"
   },
   "outputs": [],
   "source": [
    "# Validar los tickets duplicados\n",
    "df_tickets = titanic.groupby('ticket').size().reset_index().rename(columns={0:'count'})\n",
    "df_tickets.sort_values(by='count',ascending=False)"
   ]
  },
  {
   "cell_type": "code",
   "execution_count": null,
   "metadata": {
    "colab": {},
    "colab_type": "code",
    "id": "qvWVh4dISLHj"
   },
   "outputs": [],
   "source": [
    "titanic[titanic['ticket']=='347082']"
   ]
  },
  {
   "cell_type": "code",
   "execution_count": null,
   "metadata": {
    "colab": {},
    "colab_type": "code",
    "id": "6cdzfoQKSkwo"
   },
   "outputs": [],
   "source": [
    "titanic[titanic['ticket']=='110413']"
   ]
  },
  {
   "cell_type": "markdown",
   "metadata": {
    "colab_type": "text",
    "id": "bT1PGIwvwXQO"
   },
   "source": [
    "### Ordenando"
   ]
  },
  {
   "cell_type": "code",
   "execution_count": null,
   "metadata": {
    "colab": {},
    "colab_type": "code",
    "id": "4i3LawCVwXQP"
   },
   "outputs": [],
   "source": [
    "# Ordenar los cantidad de registros por tickets\n",
    "df_tickets.sort_values(by=[\"count\"],ascending=False,inplace=True)\n",
    "df_tickets.head()"
   ]
  },
  {
   "cell_type": "code",
   "execution_count": null,
   "metadata": {
    "colab": {},
    "colab_type": "code",
    "id": "9HfT4Vu2wXQR"
   },
   "outputs": [],
   "source": [
    "# Validemos un tiquete\n",
    "titanic[titanic['ticket']=='347082']"
   ]
  },
  {
   "cell_type": "markdown",
   "metadata": {
    "colab_type": "text",
    "id": "h-rC1uXRwXQU"
   },
   "source": [
    "### Uniendo datasets\n",
    "Uno de las tareas que se realizan en preprocesamiento es enriquecer la información, crearemos una nueva columna llamada 'family' en esta realizaremos una marcación de 1 si el viaje fue familiar o viajaron solos."
   ]
  },
  {
   "cell_type": "code",
   "execution_count": null,
   "metadata": {
    "colab": {},
    "colab_type": "code",
    "id": "2ZfYwhtBwXQX"
   },
   "outputs": [],
   "source": [
    "# Primero adicionaremos la columna 'count' de df_tickets a nuestro dataset titanic\n",
    "titanic = titanic.merge(df_tickets,left_on='ticket',right_on='ticket',how='left')\n",
    "titanic.shape"
   ]
  },
  {
   "cell_type": "code",
   "execution_count": null,
   "metadata": {
    "colab": {},
    "colab_type": "code",
    "id": "QN1lJNGAwXQZ",
    "scrolled": true
   },
   "outputs": [],
   "source": [
    "titanic.head()"
   ]
  },
  {
   "cell_type": "markdown",
   "metadata": {
    "colab_type": "text",
    "id": "gt0MSgDKwXQb"
   },
   "source": [
    "### Enriquecer dataset"
   ]
  },
  {
   "cell_type": "code",
   "execution_count": null,
   "metadata": {
    "colab": {},
    "colab_type": "code",
    "id": "ECbkX4bywXQc"
   },
   "outputs": [],
   "source": [
    "titanic['family'] = [1 if count>1 else 0 for count in titanic['count']]"
   ]
  },
  {
   "cell_type": "code",
   "execution_count": null,
   "metadata": {
    "colab": {},
    "colab_type": "code",
    "id": "PR0SLsd-wXQf",
    "scrolled": true
   },
   "outputs": [],
   "source": [
    "titanic.head()"
   ]
  },
  {
   "cell_type": "markdown",
   "metadata": {
    "colab_type": "text",
    "id": "tOyNuDlVwXQh"
   },
   "source": [
    "### Limpliando Cadenas"
   ]
  },
  {
   "cell_type": "code",
   "execution_count": null,
   "metadata": {
    "colab": {},
    "colab_type": "code",
    "id": "auVMrNG9wXQh"
   },
   "outputs": [],
   "source": [
    "# Recuerdan las funciones? vamos a crear una funcion que nos servira para limpiar texto, en este caso el campo tickets\n",
    "def limpiar_caracteres(cadena):\n",
    "    import re\n",
    "    patron = '[^A-Za-z0-9]+'\n",
    "    return re.sub(patron, '', cadena)"
   ]
  },
  {
   "cell_type": "code",
   "execution_count": null,
   "metadata": {
    "colab": {},
    "colab_type": "code",
    "id": "rQ_rEv5iwXQi",
    "scrolled": true
   },
   "outputs": [],
   "source": [
    "titanic['ticket'] = titanic['ticket'].apply(limpiar_caracteres)\n",
    "titanic.head()"
   ]
  },
  {
   "cell_type": "code",
   "execution_count": null,
   "metadata": {
    "colab": {},
    "colab_type": "code",
    "id": "cxs1P1FMwXQl",
    "scrolled": true
   },
   "outputs": [],
   "source": [
    "# Para continuar eliminaremos la columna ticket\n",
    "titanic.drop('ticket',axis=1,inplace=True)\n",
    "titanic.head()"
   ]
  },
  {
   "cell_type": "markdown",
   "metadata": {
    "colab_type": "text",
    "id": "f0I3lXM1wXQo"
   },
   "source": [
    "### Codificando variables categoricas\n",
    "\n",
    "En ocasiones se requiere volver columnares nuestros datos categoricos, para esto usamos tambien un metodo de pandas llamado get_dummies."
   ]
  },
  {
   "cell_type": "code",
   "execution_count": null,
   "metadata": {
    "colab": {},
    "colab_type": "code",
    "id": "WyySVmnYwXQo"
   },
   "outputs": [],
   "source": [
    "titanic['sexDummies'] = titanic['sex']\n",
    "titanic = pd.get_dummies(titanic, columns = ['sexDummies'], prefix = ['D'])\n",
    "titanic.head()"
   ]
  },
  {
   "cell_type": "markdown",
   "metadata": {
    "colab_type": "text",
    "id": "v6GpG91DwXQq"
   },
   "source": [
    "Que hemos aprendido:\n",
    "\n",
    "- Tratar Nulos\n",
    "- Transformar columnas\n",
    "- Enriquecer información en nuestro dataset adicionando columnas calculadas\n",
    "- Hacer agregaciones\n",
    "- Unir datasets.\n",
    "- Limpiar texto con la ayuda de Regex\n",
    "- Codificando variables categoricas"
   ]
  },
  {
   "cell_type": "markdown",
   "metadata": {
    "colab_type": "text",
    "id": "cIk_RstQwXQr"
   },
   "source": [
    "### Practica\n",
    "\n",
    "- Agrupar el conjunto de datos por genero ('sex') y calcular el promedio de la edad ('age').\n",
    "- Agrupar el conjunto de datos por la columna familia ('family') y contar la cantidad de registros por grupo.\n",
    "- De las familias cuantos se sobrevivieron y cuantos no."
   ]
  },
  {
   "cell_type": "code",
   "execution_count": null,
   "metadata": {
    "colab": {},
    "colab_type": "code",
    "id": "jtxHb5UBwXQr"
   },
   "outputs": [],
   "source": [
    "# Agrupar el conjunto de datos por genero ('sex') y calcular el promedio de la edad ('age')\n",
    "# Tu código"
   ]
  },
  {
   "cell_type": "markdown",
   "metadata": {
    "colab_type": "text",
    "id": "dXdUWk-vwXQs"
   },
   "source": [
    " **Deberia de tener el siguiente resultado:**\n",
    "\n",
    "\n",
    "|_|sex| age | \n",
    "|-----|-----|-----|\n",
    "|0|\tfemale|\t27.915709|\n",
    "|1|male|30.726645|"
   ]
  },
  {
   "cell_type": "markdown",
   "metadata": {
    "colab_type": "text",
    "id": "sfLkk-8gwXQt"
   },
   "source": [
    "Doble-clic __Aqui__ para la solución.\n",
    "\n",
    "<!-- Your answer is below:\n",
    "titanic.groupby('sex').agg({'age':'mean'}).reset_index()\n",
    "-->"
   ]
  },
  {
   "cell_type": "code",
   "execution_count": null,
   "metadata": {
    "colab": {},
    "colab_type": "code",
    "id": "n7Y5MBmbwXQu"
   },
   "outputs": [],
   "source": [
    "# Agrupar el conjunto de datos por la columna familia ('family') y contar la cantidad de registros por grupo.\n",
    "# Tu código"
   ]
  },
  {
   "cell_type": "markdown",
   "metadata": {
    "colab_type": "text",
    "id": "WYRojvAgwXQ6"
   },
   "source": [
    " **Deberia de tener el siguiente resultado:**\n",
    "\n",
    "|_|family| count | \n",
    "|-----|-----|-----|\n",
    "|0|\t0|\t547|\n",
    "|1|1|344|"
   ]
  },
  {
   "cell_type": "markdown",
   "metadata": {
    "colab_type": "text",
    "id": "eJF4NN-twXQ6"
   },
   "source": [
    "Doble-clic __Aqui__ para la solución.\n",
    "\n",
    "<!-- Your answer is below:\n",
    "titanic.groupby(['family']).size().reset_index().rename(columns={0:'count'})\n",
    "-->"
   ]
  },
  {
   "cell_type": "code",
   "execution_count": null,
   "metadata": {
    "colab": {},
    "colab_type": "code",
    "id": "i-FHI-6-wXQ7"
   },
   "outputs": [],
   "source": [
    "# De las familias cuantos se sobrevivieron y cuantos no.\n",
    "# Tu codigo\n",
    "titanic.groupby(['family','survived']).size()"
   ]
  },
  {
   "cell_type": "markdown",
   "metadata": {
    "colab_type": "text",
    "id": "i08w2yvgwXQ9"
   },
   "source": [
    " **Deberia de tener el siguiente resultado:**\n",
    "\n",
    "|_|family| survived | count |\n",
    "|-----|-----|-----|-----|\n",
    "|0|\t0|\t0| 384|\n",
    "|1|\t0|\t1| 163|\n",
    "|2|\t1|\t0| 165|\n",
    "|3|\t1|\t1| 179|"
   ]
  },
  {
   "cell_type": "markdown",
   "metadata": {
    "colab_type": "text",
    "id": "_20HTE-TwXQ_"
   },
   "source": [
    "Doble-clic __Aqui__ para la solución.\n",
    "\n",
    "<!-- Your answer is below:\n",
    "titanic.groupby(['family','survived']).size().reset_index().rename(columns={0:'count'})\n",
    "-->"
   ]
  },
  {
   "cell_type": "markdown",
   "metadata": {
    "colab_type": "text",
    "id": "0eV0M2sPwXQ_"
   },
   "source": [
    "## Visualización:\n",
    "Para apoyar el análisis descriptivo de los datos usamos la exploración de estos a través de gráficos que nos permiten conocer más la información que vamos a utilizar para nuestros modelos, para esta fase es muy util tener conocimiento de las librerias de Python que nos permiter generar estas visualizaciones como Matplotlib y Seaborn, Pandas tambien tiene unos métodos de visualización. "
   ]
  },
  {
   "cell_type": "code",
   "execution_count": null,
   "metadata": {
    "colab": {},
    "colab_type": "code",
    "id": "h7R0JcX2wXRA",
    "scrolled": false
   },
   "outputs": [],
   "source": [
    "import matplotlib.pyplot as plt\n",
    "import seaborn as sns\n",
    "%matplotlib inline\n",
    "\n",
    "titanic.head()"
   ]
  },
  {
   "cell_type": "markdown",
   "metadata": {
    "colab_type": "text",
    "id": "fwNV5qZ_wXRH"
   },
   "source": [
    "### Lineas"
   ]
  },
  {
   "cell_type": "code",
   "execution_count": null,
   "metadata": {
    "colab": {},
    "colab_type": "code",
    "id": "Gktg0uo_wXRH",
    "scrolled": false
   },
   "outputs": [],
   "source": [
    "# Empecemos con un grafico sencillo, al no colocar X se asume que x es cada uno de los registros.\n",
    "plt.figure(figsize=(6,3))\n",
    "plt.plot(titanic['age'])\n",
    "plt.title('Titanic Graficando la Edad')\n",
    "plt.xlabel('id')\n",
    "plt.ylabel('age')\n",
    "plt.show()"
   ]
  },
  {
   "cell_type": "code",
   "execution_count": null,
   "metadata": {
    "colab": {},
    "colab_type": "code",
    "id": "I7s2quXxGAG2"
   },
   "outputs": [],
   "source": [
    "?plt"
   ]
  },
  {
   "cell_type": "markdown",
   "metadata": {
    "colab_type": "text",
    "id": "oj5cWRVAwXRJ"
   },
   "source": [
    "### Histogramas"
   ]
  },
  {
   "cell_type": "code",
   "execution_count": null,
   "metadata": {
    "colab": {},
    "colab_type": "code",
    "id": "xyIYlbBawXRJ"
   },
   "outputs": [],
   "source": [
    "plt.figure(figsize=(6,4))\n",
    "sns.distplot(titanic['age'])\n",
    "plt.title('Titanic Histograma de la Edad')\n",
    "plt.show()"
   ]
  },
  {
   "cell_type": "code",
   "execution_count": null,
   "metadata": {
    "colab": {},
    "colab_type": "code",
    "id": "HxT0sWGbwXRM"
   },
   "outputs": [],
   "source": [
    "# Si solo queremos la funcion de densidad\n",
    "plt.figure(figsize=(6,3))\n",
    "sns.kdeplot(titanic['age'],shade=True)\n",
    "plt.title('Titanic Densidad de la Edad')\n",
    "plt.xlabel('age');"
   ]
  },
  {
   "cell_type": "code",
   "execution_count": null,
   "metadata": {
    "colab": {},
    "colab_type": "code",
    "id": "O7tNCnhtwXRP"
   },
   "outputs": [],
   "source": [
    "g = sns.FacetGrid(titanic, col=\"survived\", height=3)\n",
    "g.map(sns.kdeplot, 'age', shade=True)\n",
    "g.despine(left=True,bottom=True);"
   ]
  },
  {
   "cell_type": "code",
   "execution_count": null,
   "metadata": {
    "colab": {},
    "colab_type": "code",
    "id": "Ig744fYbwXRR"
   },
   "outputs": [],
   "source": [
    "g = sns.FacetGrid(titanic, col='survived', row='pclass', hue='sex', height=3)\n",
    "g.map(sns.kdeplot, 'age', shade=True).add_legend()\n",
    "g.despine(left=True, bottom=True)\n",
    "plt.show()"
   ]
  },
  {
   "cell_type": "markdown",
   "metadata": {
    "colab_type": "text",
    "id": "amYbZfdMwXRT"
   },
   "source": [
    "### Boxplot"
   ]
  },
  {
   "cell_type": "code",
   "execution_count": null,
   "metadata": {
    "colab": {},
    "colab_type": "code",
    "id": "lVweoYOiwXRU"
   },
   "outputs": [],
   "source": [
    "plt.figure(figsize=(6,3))\n",
    "sns.boxplot(titanic['age'])#,orient='v')\n",
    "plt.title('Titanic Boxplot de la Edad')\n",
    "plt.show()"
   ]
  },
  {
   "cell_type": "code",
   "execution_count": null,
   "metadata": {
    "colab": {},
    "colab_type": "code",
    "id": "1dUlNYRCwXRX"
   },
   "outputs": [],
   "source": [
    "plt.figure(figsize=(6,4))\n",
    "sns.boxplot(x='survived',y='age',data=titanic)\n",
    "plt.title('Titanic Boxplot de los sobrevivientes y la edad')\n",
    "plt.show()"
   ]
  },
  {
   "cell_type": "code",
   "execution_count": null,
   "metadata": {
    "colab": {},
    "colab_type": "code",
    "id": "hsdQZlapwXRa"
   },
   "outputs": [],
   "source": [
    "plt.figure(figsize=(10,4))\n",
    "sns.boxplot(x='sex',y='age',hue='survived',data=titanic)\n",
    "plt.title('Titanic Boxplot de los sobrevivientes, el genero y la edad')\n",
    "plt.show()"
   ]
  },
  {
   "cell_type": "markdown",
   "metadata": {
    "colab_type": "text",
    "id": "2VbK-8YSwXRc"
   },
   "source": [
    "### Barras"
   ]
  },
  {
   "cell_type": "code",
   "execution_count": null,
   "metadata": {
    "colab": {},
    "colab_type": "code",
    "id": "9L1XLdETwXRc",
    "scrolled": false
   },
   "outputs": [],
   "source": [
    "plt.figure(figsize=(6, 4))\n",
    "sns.countplot('survived',data=titanic)\n",
    "plt.show()"
   ]
  },
  {
   "cell_type": "code",
   "execution_count": null,
   "metadata": {
    "colab": {},
    "colab_type": "code",
    "id": "bMILWyeUwXRe"
   },
   "outputs": [],
   "source": [
    "plt.figure(figsize=(6, 4))\n",
    "sns.barplot(y='age',x='pclass',data=titanic)\n",
    "plt.show()"
   ]
  },
  {
   "cell_type": "code",
   "execution_count": null,
   "metadata": {
    "colab": {},
    "colab_type": "code",
    "id": "C2WgyBTtwXRh"
   },
   "outputs": [],
   "source": [
    "plt.figure(figsize=(6, 4))\n",
    "sns.barplot(y='survived',x='sex',hue='pclass',data=titanic)\n",
    "plt.show()"
   ]
  },
  {
   "cell_type": "code",
   "execution_count": null,
   "metadata": {
    "colab": {},
    "colab_type": "code",
    "id": "_zC9Ywt8wXRi",
    "scrolled": false
   },
   "outputs": [],
   "source": [
    "plt.figure(figsize=(6, 4))\n",
    "sns.barplot(y='pclass',x='sex',hue='family',data=titanic)\n",
    "plt.show()"
   ]
  },
  {
   "cell_type": "markdown",
   "metadata": {
    "colab_type": "text",
    "id": "Kp76yk1AwXRj"
   },
   "source": [
    "# Heatmap"
   ]
  },
  {
   "cell_type": "code",
   "execution_count": null,
   "metadata": {
    "colab": {},
    "colab_type": "code",
    "id": "ObdDdDrQXiIc"
   },
   "outputs": [],
   "source": [
    "titanic.drop(['survived','family','D_female','D_male','count'],axis=1).corr()"
   ]
  },
  {
   "cell_type": "code",
   "execution_count": null,
   "metadata": {
    "colab": {},
    "colab_type": "code",
    "id": "FlLA7GojwXRk"
   },
   "outputs": [],
   "source": [
    "plt.figure()\n",
    "sns.heatmap(titanic.drop(['survived','family','D_female','D_male','count'],axis=1).corr(),annot=True, linewidth=0.5,fmt='.1f')\n",
    "plt.show()"
   ]
  },
  {
   "cell_type": "markdown",
   "metadata": {
    "colab_type": "text",
    "id": "KHkA2bnkwXRl"
   },
   "source": [
    "### Scatter Plot"
   ]
  },
  {
   "cell_type": "code",
   "execution_count": null,
   "metadata": {
    "colab": {},
    "colab_type": "code",
    "id": "mFoqH4VkwXRo"
   },
   "outputs": [],
   "source": [
    "plt.figure()\n",
    "sns.scatterplot(x='age', y='fare', hue='sex', style='survived', data=titanic)\n",
    "plt.show()"
   ]
  },
  {
   "cell_type": "code",
   "execution_count": null,
   "metadata": {
    "colab": {},
    "colab_type": "code",
    "id": "A-pVDQVFwXRp"
   },
   "outputs": [],
   "source": [
    "plt.figure()\n",
    "sns.scatterplot(x='pclass', y='age', hue='sex', style='survived',size='count', data=titanic)\n",
    "plt.legend(loc='upper left')\n",
    "plt.show()"
   ]
  },
  {
   "cell_type": "code",
   "execution_count": null,
   "metadata": {
    "colab": {},
    "colab_type": "code",
    "id": "9BxLoXqiwXRr"
   },
   "outputs": [],
   "source": [
    "plt.figure()\n",
    "sns.scatterplot(x='age', y='fare',data=titanic)\n",
    "plt.show()"
   ]
  },
  {
   "cell_type": "code",
   "execution_count": null,
   "metadata": {
    "colab": {},
    "colab_type": "code",
    "id": "tTiS-XudVMHb"
   },
   "outputs": [],
   "source": [
    "type(titanic.columns)"
   ]
  },
  {
   "cell_type": "code",
   "execution_count": null,
   "metadata": {
    "colab": {},
    "colab_type": "code",
    "id": "loxiCabxVNET"
   },
   "outputs": [],
   "source": [
    "for  col in titanic.columns:\n",
    "    print(col)"
   ]
  },
  {
   "cell_type": "code",
   "execution_count": null,
   "metadata": {},
   "outputs": [],
   "source": [
    "!pip install plotly"
   ]
  },
  {
   "cell_type": "code",
   "execution_count": null,
   "metadata": {
    "colab": {},
    "colab_type": "code",
    "id": "zzFMwzAiVX9C"
   },
   "outputs": [],
   "source": [
    "import plotly.express as px\n",
    "fig = px.scatter(titanic,x='age',y='fare', color='sex',size='count')\n",
    "fig.show()"
   ]
  }
 ],
 "metadata": {
  "colab": {
   "collapsed_sections": [],
   "name": "Copy of WarmUp.ipynb",
   "provenance": [
    {
     "file_id": "1vTb8B8NI-rDR1W7WL4hpc4bKPYHpSVbg",
     "timestamp": 1591048066000
    },
    {
     "file_id": "1khFis1i_pI7cjnH1Yx8gAXnarpCgK67J",
     "timestamp": 1573763200553
    }
   ]
  },
  "kernelspec": {
   "display_name": "Python 3",
   "language": "python",
   "name": "python3"
  },
  "language_info": {
   "codemirror_mode": {
    "name": "ipython",
    "version": 3
   },
   "file_extension": ".py",
   "mimetype": "text/x-python",
   "name": "python",
   "nbconvert_exporter": "python",
   "pygments_lexer": "ipython3",
   "version": "3.6.7"
  }
 },
 "nbformat": 4,
 "nbformat_minor": 1
}
