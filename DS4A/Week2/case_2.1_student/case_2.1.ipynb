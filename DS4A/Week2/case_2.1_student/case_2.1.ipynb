{
 "cells": [
  {
   "cell_type": "markdown",
   "metadata": {
    "pycharm": {
     "name": "#%% md\n"
    }
   },
   "source": [
    "# Should we develop a commercial SNAP test for predicting recovery from spinal cord injuries?"
   ]
  },
  {
   "cell_type": "markdown",
   "metadata": {},
   "source": [
    "## Goal (3 min)\n",
    "\n",
    "In this case, you will learn the purpose and limitations of **data visualization (DV)**. It is crucial for a data scientist to be able to implement proper data visualization to discover insights, develop solutions, and present solutions to other stakeholders. We hope at the end of the case, you will be able to look at a data science problem and be able to prioritize different data visualization tools to help you investigate and solve the problem."
   ]
  },
  {
   "cell_type": "markdown",
   "metadata": {},
   "source": [
    "Before introducing the case, let's start with the following exercise that shows the power of DV:"
   ]
  },
  {
   "cell_type": "markdown",
   "metadata": {},
   "source": [
    "### Exercise 1: (5 min)"
   ]
  },
  {
   "cell_type": "markdown",
   "metadata": {},
   "source": [
    "One of the earliest and most impactful examples of DV is a mapping of the deadly 1854 Cholera outbreak in London. The figure below shows the streets of Soho in London overlaid with Cholera cases. The original version of this figure was constructed by a local clinician John Snow treating victims of the outbreak. Snow created the figure to better understand the nature of the outbreak and identify its source. The size of the circle indicates the number of cases at a given location. From this picture, identify the source of the outbreak.\n",
    "\n",
    "![Broad Street Map](data/broadStreetInverted.png)\n"
   ]
  },
  {
   "cell_type": "markdown",
   "metadata": {},
   "source": [
    "**Answer.** From this map the epicenter of the outbreak is apparent.  Snow saw that this epicenter was located at the Broad Street pump where Soho residents obtained their drinking water. The pump was closed and the outbreak died out. \n",
    "\n",
    "This simple mapping of disease incidence illustrates a key point about DV: that DV must be informed by domain expertise. Snow had no formal training in statistics or epidemiology (there was no such thing!); all he did was construct a map to better understand the outbreak. The choice of visualization was driven by domain expertise. Like essentially all data science tasks, DV is less meaningful without domain expertise to inform and interpret the results."
   ]
  },
  {
   "cell_type": "markdown",
   "metadata": {},
   "source": [
    "## Introduction (5 min)\n",
    "\n",
    "**Business Context.** Animal models are commonly used to study spinal cord injuries in humans. Thus, technological advances made in veterinary medicine for spinal cord injury (and other areas that commonly rely on animal models) are often made with an eye towards the eventual development of a product for humans.  One such advancement is the development of a SNAP test (a test that can be run in a few minutes from a single blood draw) that can be used to predict if the patient will likely recover from the injury.  This information is valuable for doctors and clinical practitioners.  If the information collected in the SNAP test proves to have sufficient predictive power, then investigators will pursue a patent and bring the product to market. The primary alternative to a SNAP test is a traditional lab test which is more time and resource intensive; the time required to obtain results from a traditional lab test delays treatment decisions which can adversely affect patient outcomes.  "
   ]
  },
  {
   "cell_type": "markdown",
   "metadata": {},
   "source": [
    "**Business Problem.** You are a consultant for a pharmaceutical company. They would like you to answer the following: **\"How well do SNAP tests predict six-month recovery rates and should they be commercially developed?\"**"
   ]
  },
  {
   "cell_type": "markdown",
   "metadata": {},
   "source": [
    "**Analytical Context.** Interpreting charts and figures correctly and thinking critically about their implications is a crucial skill for a practicing data scientist. In this case, we will solve the above problem by presenting a series of tables and charts, draw conclusions from them and make decisions on what to do next based on that.\n",
    "\n",
    "The case is structured as follows: you will (1) first explore summary statistics of key quantities; (2) see various standard ways of plotting data; (3) make a series of decisions at each step based on these plots; and finally (4) come to a conclusion about the predictive power of SNAP tests and make a business recommendation."
   ]
  },
  {
   "cell_type": "markdown",
   "metadata": {},
   "source": [
    "## Data Visualization framework (5 min)\n",
    "\n",
    "Before we jump into using data visualization in this case, let's talk about the proper framework for using data visualization.\n",
    "\n",
    "When we analyze a complex data science problem, we want to break it down into small subquestions that are more concrete or easier to solve. (Of course, sometimes we must break down the subquestions into even more specific questions as data science problems can be quite layered.)\n",
    "\n",
    "As we explore the data by looking at various summary statistics and distributions of parameters, we are also seeing which subquestions these results help answer. Data visualizations should be chosen to help us answer these subquestions. We should never use data visualization for the sake of having a visual component in our data science work.\n",
    "\n",
    "As a simple example, let's revisit the previous exercise about the Cholera outbreak. The overarching question is how can we stop or minimize this Cholera outbreak. A subquestion might be where is the origin of the outbreak or how is it spreading. A [heat map](https://www.optimizely.com/optimization-glossary/heatmap/) clearly illustrates this so this is our choice of data visualization. Although the heat map above is certainly aesthetically pleasing, note that we chose it for purely deductive logical reasons based on the subquestion we needed to answer."
   ]
  },
  {
   "cell_type": "markdown",
   "metadata": {},
   "source": [
    "## Looking at the data (20 min)"
   ]
  },
  {
   "cell_type": "markdown",
   "metadata": {},
   "source": [
    "Investigators are interested in a SNAP test that will record levels of at most three biomarkers:  GFAP, pNFH, and S100B. (For our purposes, background on these biomarkers and the mechanisms through which they might affect patient recovery are not important). To investigate the potential value of a SNAP test, researchers extracted data from medical records on 31 canine patients with spinal cord injuries.\n",
    "\n",
    "The clinical outcome of interest is whether or not the patient recovered motor function after six months. Each patient had blood drawn at the time of the injury which was stored and later used to extract the levels of the three biomarkers, GFAP, pNFH, and S100B, using a standard laboratory test. Thus, the extracted biomarker levels represent pre-treatment levels and did not affect each patient's treatment course.   "
   ]
  },
  {
   "cell_type": "markdown",
   "metadata": {},
   "source": [
    "The first few rows of the data are as follows:\n",
    "\n",
    " |  Subject id | GFAP | S100B | pNFH | Recovered | Sex | \n",
    " |-------------|-------|------|------|-----------|--------|\n",
    " | 1           |  11.76  |   0.041 | 1.75 | N | F |\n",
    " | 2           |  7.63  |     0.031 |  4.89 | N | F | \n",
    " | 3           |  10.0 |      0.028 |  2.59 | N | F | \n",
    " | 4           | 0.01   |     0.038  |  3.46 | Y | F | \n",
    " | 5           | 0.0    |  0.0 |  0.60 | Y | M | \n",
    " | ... | ... | ...| ...| ... | ... | "
   ]
  },
  {
   "cell_type": "markdown",
   "metadata": {},
   "source": [
    "### Exercise 2: (5 min)\n",
    "\n",
    "Would you consider fitting a model at this point? Why or why not?"
   ]
  },
  {
   "cell_type": "markdown",
   "metadata": {},
   "source": [
    "**Answer.** It can be tempting to consider jumping right into fitting a model, e.g. a logistic regression model or a more sophisticated machine learning model (random forests, neural networks, etc). However, fitting a statistical model at this point is premature. It's better for us to have a look at the data to gain some intuition, spot any potential problems, and based on those insights, potentially posit a suitable model to try."
   ]
  },
  {
   "cell_type": "markdown",
   "metadata": {},
   "source": [
    "This is an example of a <b>classification</b> problem — a problem where each data point is labeled with one of several **classes** and we want to build a model to predict which class a new, unlabeled data point should belong in. In this case, the two classes correspond to the recovery status (Y or N), and we want to predict whether or not a patient will recover after six months given their GFAP, S100B, pNFH, and Sex attributes."
   ]
  },
  {
   "cell_type": "markdown",
   "metadata": {},
   "source": [
    "Let's start by computing some simple summary statistics for each of the observed variables (as you saw from the Python cases, this is a pretty logical first step). For each continuous  variable, we compute a few simple summary statistics (min, max, median, 25th percentile, 75th percentile). The results are shown in the table below.\n",
    "\n",
    "| Variable | Min | 25th Percentile | Median | 75th Percentile | Max | \n",
    "|----------|-----|----------------|--------|-----------------|-----|\n",
    "|GFAP      | 0.0 | 0.0            | 0.0    | 0.38            | 37.8| \n",
    "|S100B     | 0.0 | 0.014          | 1.24   | 2.0             | 3.9 | \n",
    "|pNFH      | -0.30 | 0.23         | 0.44   | 0.94            | 65.0|\n"
   ]
  },
  {
   "cell_type": "markdown",
   "metadata": {},
   "source": [
    "### Exercise 3: (3 min)\n",
    "\n",
    "The biomarkers, GFAP, S100B, and pNFH, all measure levels of biological elements in the blood. Do you notice anything unusual about the summary statistics of any of the variables?"
   ]
  },
  {
   "cell_type": "markdown",
   "metadata": {},
   "source": [
    "**Answer.**\n",
    "\n",
    "1. From this table we can immediately spot a problem.  The biomarkers, GFAP, S100B, and pNFH, all measure levels of biological elements in the blood and therefore cannot be negative.  Thus, the negative entry for pNFH must be a data-entry error which we can confirm with our collaborating clinical experts. \n",
    "2. Unless you are a clinician you may not have known that pFNH must be nonnegative, and this error would have gone unnoticed if the data had been fed mindlessly into a predictive model or if the clinicians were not an active part of the DV. Again, this illustrates the importance of domain expertise in interpreting data."
   ]
  },
  {
   "cell_type": "markdown",
   "metadata": {},
   "source": [
    "### Histograms for biomarkers\n",
    "\n",
    "Which numerical summaries are useful to get a general sense of the data distribution, it is often very useful to also obtain a graphical representation of the data distribution to aid in presentation and understanding.\n",
    "\n",
    "One simple and useful visual method to see the distribution at a more granular level is to use a [histogram](https://www.mathsisfun.com/data/histograms.html). In a **histogram**, the x-axis is broken in different **bins** of values for the variable of interest. Each data point is placed into a bin based on the value of its variable of interest. The y-axis then corresponds to the number of data points in each bin on the x-axis. Thus, histograms show which data values of a particular variable have a high density of points. Larger bars in a histogram indicate a higher frequency of oberservations in that corresponding bin.\n",
    "\n",
    "Below, we have constructed three histograms, one for each biomarker:\n",
    "\n",
    "![Biomarker Histograms](data/biomarkerHists.png)"
   ]
  },
  {
   "cell_type": "markdown",
   "metadata": {},
   "source": [
    "### Question 4: (4 min)\n",
    "\n",
    "Are the histograms above informative?"
   ]
  },
  {
   "cell_type": "markdown",
   "metadata": {},
   "source": [
    "**Answer.** The preceding figure is not particularly informative. It does show that all three biomarkers have the majority of their mass near or at zero. This is not surprising given our previous numerical summaries."
   ]
  },
  {
   "cell_type": "markdown",
   "metadata": {},
   "source": [
    "## 1D scatterplot: An alternative to the histogram (10 min)\n",
    " \n",
    "The [1D scatterplot](http://www6.uniovi.es/hypvis/vised/VisTech/Techniques/s1dcscatterplot.html) is an alternative to the histogram, that can sometimes prove more informative when there are clusters of points. In a 1D scatterplot, the y-axis represents the quantity of interest (here, the values of the biomarkers), and the observed points are placed such that their y-coordinate equals their biomarker value and they are clustered as tightly as possible along the x-axis without allowing them to overlap. Thus, clusters of points will be displaced horizontally, causing the plot to \"bulge\" in areas where there are many points with similar biomarker values. Below we show a 1D scatterplot for the logarithmic transformations of each of the biomarkers:\n",
    "\n",
    "![Biomarker 1D Scatterplots](data/biomarker1DScatter.png)\n",
    "\n",
    "(The logarithmic transform is purely for visual purposes; it allows us to \"break up\" the clusters of points near zero and show them more precisely. In later cases, you will learn about the analytical power of using the logarithmic transform on your data.)"
   ]
  },
  {
   "cell_type": "markdown",
   "metadata": {},
   "source": [
    "### Using color as a tool to differentiate categories\n",
    "\n",
    "The above figure provides a better sense of the distribution of values of each biomarker. We see that GFAP indeed has a large cluster at zero while pNFH has many small points but only one zero. However, our goal is to see if these biomarkers might be predictive of recovery status. To visualize this better, we can color each of the points according to their recovery status (Y if they recovered after six months, N if not):\n",
    "\n",
    "![Biomarker 1D Scatterplots](data/biomarker1DScatterLabeled.png)"
   ]
  },
  {
   "cell_type": "markdown",
   "metadata": {},
   "source": [
    "### Exercise 5 (4 min):\n",
    "\n",
    "From the plot above, which biomarkers do you think affect the likelihood of recovery the most?"
   ]
  },
  {
   "cell_type": "markdown",
   "metadata": {},
   "source": [
    "**Answer**. This figure suggests that subjects with low values of GFAP are more likely to respond, whereas the other two biomarkers are less informative. "
   ]
  },
  {
   "cell_type": "markdown",
   "metadata": {},
   "source": [
    "## Using the last piece of information: gender (4 min)"
   ]
  },
  {
   "cell_type": "markdown",
   "metadata": {},
   "source": [
    "However, we still have not used one last piece of information: gender. Below we show a [parallel coordinates](https://www.data-to-viz.com/graph/parallel.html) plot split by sex. Each line represents a single subject and the y-axis represents its different biomarker values. The plot suggests that males with large S100B and high GFAP are likely to recover (recovery is coded red), whereas females  with low GFAP are likely to recover. While this plot is not a model and we have not attempted to calculate the misclassification rate, we can see that there is some signal. Let's try to explore this further. \n",
    "\n",
    "![Biomarker 1D Scatterplots](data/biomarkerParCoordUpdated.png)"
   ]
  },
  {
   "cell_type": "markdown",
   "metadata": {},
   "source": [
    "## 2D scatterplots (20 min)\n",
    "\n",
    "The next set of plots we'll look at will be scatterplots labeled by recovery status. However, instead of 1D scatterplots, we'll now look at [2D scatterplots](https://www.data-to-viz.com/graph/scatter.html). 2D scatterplots plot data along two axes according to the data points' values for the attributes represented by those axes; hence, they make it incredibly clear if there are any relationships between the variables on the axes.\n",
    "\n",
    "To help visually identify which regions appear to be associated with recovery, we lay down a fine grid of points in the background and color them according to whether the nearest point corresponding to an observed patient successfully recovered or not (i.e. for each point on the grid we color it red if the nearest observed patient recovered and black otherwise). The following scatterplot of S100B vs. GFAP suggests that S100B holds little additional value over GFAP in terms of predictive accuracy:\n",
    "\n",
    "<img src=\"data/biomarkerScatterKNN_GFAP_S100B.png\" width=\"1000\">\n",
    "\n",
    "We also look at these scatterplots split by gender:\n",
    "\n",
    "<img src=\"data/biomarkerScatterKNN_GFAP_S100B_Sex.png\" width=\"1000\">"
   ]
  },
  {
   "cell_type": "markdown",
   "metadata": {},
   "source": [
    "### Exercise 6 (3 min):\n",
    "\n",
    "# What conclusions can you draw from the 2D scatterplots above?"
   ]
  },
  {
   "cell_type": "markdown",
   "metadata": {},
   "source": [
    "**Answer.** The color contrast between the male and female subjects is striking, with the scatterplot for the male subjects being nearly all red and the plot for the female subjects being mostly black. However, the sample sizes are small, and large regions of these plots contain no data. Thus, any generalization from these figures must be made with caution."
   ]
  },
  {
   "cell_type": "markdown",
   "metadata": {},
   "source": [
    "Here are the 2D scatterplots for GFAP vs pNFH and S100B vs pNFH:\n",
    "\n",
    "<img src=\"data/biomarkerScatterKNN_GFAP_pNFH.png\" width=\"1000\">\n",
    "\n",
    "<img src=\"data/biomarkerScatterKNN_GFAP_pNFH_Sex.png\" width=\"1000\">\n",
    "\n",
    "\n",
    "<img src=\"data/biomarkerScatterKNN_S100B_pNFH.png\" width=\"1000\">\n",
    "\n",
    "<img src=\"data/biomarkerScatterKNN_S100B_pNFH_Sex.png\" width=\"1000\">\n",
    "\n",
    "\n"
   ]
  },
  {
   "cell_type": "markdown",
   "metadata": {},
   "source": [
    "### Exercise 7: (12 min)\n",
    "\n",
    "Use the preceding visualizations to make a recommendation to the investigators about whether it is worth exploring the development of a SNAP test for recovery using the three biomarkers. Work with a partner for this. Your answers should also address the following questions:"
   ]
  },
  {
   "cell_type": "markdown",
   "metadata": {},
   "source": [
    "#### 7.1\n",
    "If the cost of the SNAP test depends on the number of biomarkers it uses, which biomarkers would you recommend be  included in the test?  "
   ]
  },
  {
   "cell_type": "markdown",
   "metadata": {},
   "source": [
    "#### 7.2 \n",
    "\n",
    "What should next steps be? For example, would you recommend running a follow-up confirmatory trial of biomarker prediction accuracy?"
   ]
  },
  {
   "cell_type": "markdown",
   "metadata": {},
   "source": [
    "#### 7.3 \n",
    "How might you fit a classification model to this study? What are the potential pitfalls associated with this study?  "
   ]
  },
  {
   "cell_type": "markdown",
   "metadata": {},
   "source": [
    "**Answer.** \n",
    "\n",
    "7.1 We would recommend collecting data from GFAP only as the other biomarkers seem to provide little additional information in terms of predicting recovery. Because the sample size is small, it would be valuable to run a follow-up (confirmatory) evaluation based on GFAP. Recall that these samples were taken from an existing archive of blood samples and patient follow-up data. It may be possible to simply pull more samples from this archive to evaluate the performance of a predictive model based on GFAP.\n",
    "\n",
    "7.2 In terms of next steps, one could fit a classification model to identify an optimal cutoff point; e.g. a classifier of the form: predict recovery if GFAP < $c$ and predict non-recovery (non-response) otherwise, for some cutoff point $c$.  One could probably choose a decent value for $c$ just from looking at the plot.\n",
    "\n",
    "7.3 In terms of potential pitfalls, samples were collected from a single location and may not be representative of the larger population of patients. Furthermore, the subjects in this sample were from dogs that were taken to the hospital by their owners; thus, they may be more likely to come from homes with more resources (e.g. the ability and willingness to pay potentially large veterinary bills or at least access to good pet insurance). Thus, these predictive models may not be accurate for a larger population of dogs."
   ]
  },
  {
   "cell_type": "markdown",
   "metadata": {},
   "source": [
    "## Extending our SNAP test (5 min)\n",
    "\n",
    "Upon further consideration of standard treatment protocols, your researchers have decided that critical treatment decisions should be made within 72 hours post-injury. Consequently, they are interested in whether or not taking three measurements, one per day, might provide better predictions of six-month recovery. Because GFAP was our most promising biomarker at baseline, let's first make a parallel-coordinates plot of GFAP at regular intervals over the first 72 hours (days 0, 1, and 2). To make the plot easier to parse visually, we split it by recovery status:\n",
    "\n",
    "<img src=\"data/biomarkerGFAP72Hours.png\" width=\"1000\">\n",
    "\n",
    "# The preceding plot suggests that the GFAP levels tend to be more volatile among patients that did not recover vs. those that did, and that their peaks are higher. Below we show a 1D scatterplot of the maximum (log) GFAP over 72 hours colored by recovery status. We see that we can almost perfectly separate the data using this quantity via a classification threshold, $c \\approx 0.5$, except for three points:\n",
    "\n",
    "<img src=\"data/biomarkerGFAP72HoursMax.png\" width=\"1000\">"
   ]
  },
  {
   "cell_type": "markdown",
   "metadata": {},
   "source": [
    "## Conclusions (5 min)\n",
    "\n",
    "We evaluated the potential market value of a SNAP test for spinal cord injuries in dogs. We found that the biomarker GFAP seems to be the most discriminatory among the three biomarkers considered in terms of identifying the likelihood of recovery. It turns out that if measurements are taken over the first 72 hours following an injury, it may be possible to construct significantly better predictions by taking the maximum of GFAP measurements over that period.  Because the sample size was small, we would recommend that investigators consider a follow-up study with a much larger group of subjects before committing company resources to developing a commercial SNAP test."
   ]
  },
  {
   "cell_type": "markdown",
   "metadata": {},
   "source": [
    "## Takeaways (5 min)\n",
    "\n",
    "In this case, you learned the power of data visualizations (DV) to gain insight into problems before even laying one finger on modeling. You also learned how to correctly interpret, draw conclusions from, and figure out next steps from data visualizations. A few handy tips you learned include:\n",
    "\n",
    "1. Histograms, scatterplots, and parallel coordinate plots provide information that are not contained in tabular summary statistics. In particular, they allow you to more effectively zoom in on outlier data points as well as specific parts of the overall data distribution.\n",
    "2. Proper use of color is a powerful tool when combined with plots; in this case, we used color to separate males and females in the scatterplots. Color is an easy and common way to add another dimension to a 2-D graph without changing the fundamental structure of the graph itself.\n",
    "\n",
    "Data visualization is an indispensable part of data-driven decision making. In many cases, data visualization is both the most informative and the most time-consuming part of the data science and analytics process. A high-quality series of visualizations can provide critical insights for building models later. Additionally, data visualizations can facilitate discussions between the data scientist and their less technical collaborators."
   ]
  }
 ],
 "metadata": {
  "kernelspec": {
   "display_name": "Python 3",
   "language": "python",
   "name": "python3"
  },
  "language_info": {
   "codemirror_mode": {
    "name": "ipython",
    "version": 3
   },
   "file_extension": ".py",
   "mimetype": "text/x-python",
   "name": "python",
   "nbconvert_exporter": "python",
   "pygments_lexer": "ipython3",
   "version": "3.7.0"
  },
  "pycharm": {
   "stem_cell": {
    "cell_type": "raw",
    "metadata": {
     "collapsed": false
    },
    "source": []
   }
  }
 },
 "nbformat": 4,
 "nbformat_minor": 4
}
