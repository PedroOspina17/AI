{
 "cells": [
  {
   "cell_type": "markdown",
   "metadata": {},
   "source": [
    "## Exercise: Gender bias in graduate admissions \n",
    "\n",
    "In this exercise, you will revisit an example of striking EDA-V that appeared in Science one of the most\n",
    "prestigious scientific publications in the world.  The problem concerns gender bias in graduate admissions\n",
    "at the University of California at Berkeley.  The following table shows admission by gender:\n",
    "\n",
    "\n",
    "|Sex | Accepted | Rejected|\n",
    "|----|----------|---------|\n",
    "|Female| 557    | 1278    |\n",
    "|Male  | 1198   | 1498    |\n"
   ]
  },
  {
   "cell_type": "markdown",
   "metadata": {},
   "source": [
    "This simple table of summary statistics appears to be troubling for UC Berkeley.  It can be seen that about 30% of female applicants where admitted whereas nearly 45% of male applicants were admitted.  "
   ]
  },
  {
   "cell_type": "markdown",
   "metadata": {},
   "source": [
    "**Question 1:** If you were presented with this table what would next steps be? Without looking ahead, brainstorm next steps and potential explanations for the imbalance across sexes. (5 mts)"
   ]
  },
  {
   "cell_type": "markdown",
   "metadata": {},
   "source": [
    "**Answer:** Percentage of females accepted: 557/(557+1278) = 30.35%. \n",
    "Percentage of males accepted: 1198/(1198+1498) = 44.4%. It seems higher percentage of men are accepted. At least from a first look, it seems like there is gender discrimination against women. \n",
    "But there may be more to the story here. It could be that more women applied to departments that inherently accept less people. "
   ]
  },
  {
   "cell_type": "markdown",
   "metadata": {},
   "source": [
    "The original investigators (the authors of the Science paper refrenced above) sought to gain further insights into admission by gender through the following visualization: \n",
    "\n",
    "<img src=\"data/percentByAccRate.png\" width=\"1000\">\n"
   ]
  },
  {
   "cell_type": "markdown",
   "metadata": {},
   "source": [
    "**Question 2:** What do you see?  Any new insights or conclusions?  Discuss with your partner. (10 mts)"
   ]
  },
  {
   "cell_type": "markdown",
   "metadata": {},
   "source": [
    "**Answer:** This plot confirms our intuition above: more women applied to departments which accept less students. But there is a lot going in the above plot, and may not be the right visualization to drive home the point. This figure doesn't really drive the point home as clearly as the following mosaic plot which shows the admissions by\n",
    "department and sex.   "
   ]
  },
  {
   "cell_type": "markdown",
   "metadata": {},
   "source": [
    "Finally, look at the following \"mosaic\" plot. This plot gives the fraction of men and women admitted/rejected across various departments with in the university.\n",
    "    <img src=\"data/mosaicPlot.png\" width=\"1000\">\n",
    "     "
   ]
  },
  {
   "cell_type": "markdown",
   "metadata": {},
   "source": [
    "#### Question 3:  Does the mosaic plot above give additional information than the previous table and plot?"
   ]
  },
  {
   "cell_type": "markdown",
   "metadata": {},
   "source": [
    "**Answer:** Yes, it does. If you look at any specific department, the percentage of males rejected is roughly the same as that of women; so if we break it at the department level, we do not see any evidence of discrimination **within** a department. There is even evidence (department A for instance) that they prefer females to males. However, if we aggregate the data over the whole university, the conclusion reverses. "
   ]
  },
  {
   "cell_type": "markdown",
   "metadata": {},
   "source": [
    "#### Question 4: What general conclusions can we draw from this exercise? "
   ]
  },
  {
   "cell_type": "markdown",
   "metadata": {},
   "source": [
    "**Answer:** Aggregating data (just taking the percentage of women over the whole university and not by the departments) is dangerous. Its often the case that the conclusions could be reversed if one is not careful. "
   ]
  },
  {
   "cell_type": "code",
   "execution_count": null,
   "metadata": {},
   "outputs": [],
   "source": []
  }
 ],
 "metadata": {
  "kernelspec": {
   "display_name": "Python 3",
   "language": "python",
   "name": "python3"
  },
  "language_info": {
   "codemirror_mode": {
    "name": "ipython",
    "version": 3
   },
   "file_extension": ".py",
   "mimetype": "text/x-python",
   "name": "python",
   "nbconvert_exporter": "python",
   "pygments_lexer": "ipython3",
   "version": "3.6.7"
  }
 },
 "nbformat": 4,
 "nbformat_minor": 2
}
