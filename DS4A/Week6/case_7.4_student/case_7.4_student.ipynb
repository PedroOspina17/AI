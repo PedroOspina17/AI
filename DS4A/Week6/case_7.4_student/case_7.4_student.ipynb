{
 "cells": [
  {
   "cell_type": "markdown",
   "metadata": {},
   "source": [
    "# How do I develop an optimal strategy for sending a personal message to each of my customers?"
   ]
  },
  {
   "cell_type": "markdown",
   "metadata": {},
   "source": [
    "## Goals\n",
    "\n",
    "Several problems in the industry nowadays have the form:\n",
    "\n",
    "> \"Which of these $M$ products should I offer to customers with $X$ characteristics?\". \n",
    "\n",
    "For instance, \"What movie $M$ should I recommend to an user that has watched $X$ movies in the last couple of days?\", \"Which of these $M$ ads should I play after user $X$ finished this video?\", etc. In order to solve these types of problems one usually implements an experiment by:\n",
    "\n",
    "   1. Selecting a small sample of the total customer base\n",
    "   2. Offering some of the $M$ products to the sample at random or based on previous knowledge of the population \n",
    "   3. Recording the outcome of the offerings and track the positive/negative responses of the customers\n",
    "   4. Use the results above to create a plausible *strategy* to offer the products to the rest of the customers\n",
    "   5. Optionally, repeat the process with a larger sample using the knowledge we have gained so far\n",
    "\n",
    "One must carefully answer certain design questions when implementing experiments like this. For instance: *\"How shall we choose our initial sample?\"*, *\"How do we determine whether a customer response is positive?\"*, *\"What strategy is the best to follow?\"*, *\"How do we estimate the response rate of our strategy for our entire customer base?\"*. In this case, you will learn how to properly attack these questions."
   ]
  },
  {
   "cell_type": "code",
   "execution_count": 2,
   "metadata": {},
   "outputs": [],
   "source": [
    "import pandas as pd\n",
    "import numpy as np\n",
    "import matplotlib as plt"
   ]
  },
  {
   "cell_type": "markdown",
   "metadata": {},
   "source": [
    "## Introduction\n",
    "\n",
    "**Business Context.** You are a data scientist at a large tech firm. You want to send a personalized email message to each person on your firm's mailing list to advertise the launch of a new service. The goal of this campaign is to maximize long-term engagement with this new service.\n",
    "\n",
    "One naive strategy would be to bombard each subscriber with messages of all types. However, this would violate the company's agreement with its email subscribers which limits the number of messages sent per week, and would also likely be harmful as members unsubscribe due to the burden of dealing with too many messages. Thus, for the purpose of this campaign, we will assume that we can send each subscriber at most one message, which will be selected from a predetermined set of message types.\n",
    "\n",
    "**Business Problem.** The firm wants you to answer the following: **\"For any given customer, which message out of our predetermined set of message types should we send to that customer to optimize long-term engagement with our new service?\"**\n",
    "\n",
    "**Analytical Context.** Designing and evaluating the effectiveness of an intervention (e.g. sending a personalized advertisement) is a fundamental application of data science. In this case study, we will learn to solve the preceding problem through careful design of an experiment and careful consideration of causal effects. \n",
    "\n",
    "The case is structured as follows: you will (1) precisely define the objectives by which we want to evaluate the results of our experiment; (2) set up our experiment via appropriate sampling and assignment of messages; and (3) evaluate the outcomes using our custom-designed metric."
   ]
  },
  {
   "cell_type": "markdown",
   "metadata": {},
   "source": [
    "## Defining our objectives\n",
    "\n",
    "We assume that there is pool of subcribers $\\mathcal{S} = \\left\\lbrace 1,\\ldots, S\\right\\rbrace$ and for each subscriber we have a vector of $p$ attributes (features) $\\mathbf{X}_s = (X_{s,1},\\ldots, X_{s,p})$, for $s=1,\\ldots, S$. Examples of such attributes might include purchase history, response rate to previous advertisements, relationship depth, as well as demographic and geographic information. \n",
    "\n",
    "n addition, there is a pool of potential email messages $\\mathcal{M} = \\left\\lbrace 1,\\ldots, M\\right\\rbrace$ that we could send to each subscriber. A personalized messaging strategy will involve sending a single message from this set based on the attributes of a particular subscriber. For example, we might consider a strategy like:\n",
    "\n",
    "* **IF** subscriber is less than 31 years old **THEN** send them Message 1<br>\n",
    "* **ELSE IF** subscriber has responded previously to email advertisements **THEN** send them Message 2<br>\n",
    "* **ELSE IF** subscriber has Platinum status **THEN** send them Message 3<br>\n",
    "* **ELSE** send them Message 4.<br>\n",
    "\n",
    "\n",
    "In many situations, the dimension $p$ of the feature vector $\\mathbf{X}$ and the number $M$ of possible messages can be large.  However, for the purposes of this case, the subscribers in our dataset have only $p=1$ feature (a previously calculated *Marketing Indicator* of each subscriber) and there is a total of $M=2$ possible messages we planed to send (we will deal with more general instances when studying classifier algorithms in future cases). \n",
    "    \n",
    "Let us load the data and take a quick look at the *Marketing Indicator* vector of our subscribers. Our dataset also contains a pair of columns (namely the columns 'Message Sent' and 'Response') that we will study later in the case. "
   ]
  },
  {
   "cell_type": "code",
   "execution_count": 3,
   "metadata": {},
   "outputs": [
    {
     "output_type": "execute_result",
     "data": {
      "text/plain": "   Subject  Marketing Indicator\n0        0             0.017993\n1        1            -1.128283\n2        2            -0.948344\n3        3            -1.263382\n4        4             5.898748\n5        5            -0.585778\n6        6             3.107938\n7        7            -1.120899\n8        8            -1.219169\n9        9            -0.721018",
      "text/html": "<div>\n<style scoped>\n    .dataframe tbody tr th:only-of-type {\n        vertical-align: middle;\n    }\n\n    .dataframe tbody tr th {\n        vertical-align: top;\n    }\n\n    .dataframe thead th {\n        text-align: right;\n    }\n</style>\n<table border=\"1\" class=\"dataframe\">\n  <thead>\n    <tr style=\"text-align: right;\">\n      <th></th>\n      <th>Subject</th>\n      <th>Marketing Indicator</th>\n    </tr>\n  </thead>\n  <tbody>\n    <tr>\n      <th>0</th>\n      <td>0</td>\n      <td>0.017993</td>\n    </tr>\n    <tr>\n      <th>1</th>\n      <td>1</td>\n      <td>-1.128283</td>\n    </tr>\n    <tr>\n      <th>2</th>\n      <td>2</td>\n      <td>-0.948344</td>\n    </tr>\n    <tr>\n      <th>3</th>\n      <td>3</td>\n      <td>-1.263382</td>\n    </tr>\n    <tr>\n      <th>4</th>\n      <td>4</td>\n      <td>5.898748</td>\n    </tr>\n    <tr>\n      <th>5</th>\n      <td>5</td>\n      <td>-0.585778</td>\n    </tr>\n    <tr>\n      <th>6</th>\n      <td>6</td>\n      <td>3.107938</td>\n    </tr>\n    <tr>\n      <th>7</th>\n      <td>7</td>\n      <td>-1.120899</td>\n    </tr>\n    <tr>\n      <th>8</th>\n      <td>8</td>\n      <td>-1.219169</td>\n    </tr>\n    <tr>\n      <th>9</th>\n      <td>9</td>\n      <td>-0.721018</td>\n    </tr>\n  </tbody>\n</table>\n</div>"
     },
     "metadata": {},
     "execution_count": 3
    }
   ],
   "source": [
    "marketing_data=pd.read_csv('marketing_data.txt',sep=' ',names=['Marketing Indicator','Message Sent','Response'])\n",
    "marketing_data.index = marketing_data.index.set_names(['Subject'])\n",
    "marketing_data['Marketing Indicator'].head(10).reset_index()"
   ]
  },
  {
   "cell_type": "code",
   "execution_count": 5,
   "metadata": {
    "scrolled": false
   },
   "outputs": [
    {
     "output_type": "execute_result",
     "data": {
      "text/plain": "<matplotlib.axes._subplots.AxesSubplot at 0x141fee2d518>"
     },
     "metadata": {},
     "execution_count": 5
    },
    {
     "output_type": "display_data",
     "data": {
      "text/plain": "<Figure size 432x288 with 1 Axes>",
      "image/svg+xml": "<?xml version=\"1.0\" encoding=\"utf-8\" standalone=\"no\"?>\r\n<!DOCTYPE svg PUBLIC \"-//W3C//DTD SVG 1.1//EN\"\r\n  \"http://www.w3.org/Graphics/SVG/1.1/DTD/svg11.dtd\">\r\n<!-- Created with matplotlib (https://matplotlib.org/) -->\r\n<svg height=\"252.018125pt\" version=\"1.1\" viewBox=\"0 0 378.7875 252.018125\" width=\"378.7875pt\" xmlns=\"http://www.w3.org/2000/svg\" xmlns:xlink=\"http://www.w3.org/1999/xlink\">\r\n <defs>\r\n  <style type=\"text/css\">\r\n*{stroke-linecap:butt;stroke-linejoin:round;}\r\n  </style>\r\n </defs>\r\n <g id=\"figure_1\">\r\n  <g id=\"patch_1\">\r\n   <path d=\"M 0 252.018125 \r\nL 378.7875 252.018125 \r\nL 378.7875 0 \r\nL 0 0 \r\nz\r\n\" style=\"fill:none;\"/>\r\n  </g>\r\n  <g id=\"axes_1\">\r\n   <g id=\"patch_2\">\r\n    <path d=\"M 33.2875 228.14 \r\nL 368.0875 228.14 \r\nL 368.0875 10.7 \r\nL 33.2875 10.7 \r\nz\r\n\" style=\"fill:#ffffff;\"/>\r\n   </g>\r\n   <g id=\"patch_3\">\r\n    <path clip-path=\"url(#pa8cd1b72b6)\" d=\"M 48.505682 228.14 \r\nL 51.549318 228.14 \r\nL 51.549318 226.446047 \r\nL 48.505682 226.446047 \r\nz\r\n\" style=\"fill:#1f77b4;\"/>\r\n   </g>\r\n   <g id=\"patch_4\">\r\n    <path clip-path=\"url(#pa8cd1b72b6)\" d=\"M 51.549318 228.14 \r\nL 54.592955 228.14 \r\nL 54.592955 225.599071 \r\nL 51.549318 225.599071 \r\nz\r\n\" style=\"fill:#1f77b4;\"/>\r\n   </g>\r\n   <g id=\"patch_5\">\r\n    <path clip-path=\"url(#pa8cd1b72b6)\" d=\"M 54.592955 228.14 \r\nL 57.636591 228.14 \r\nL 57.636591 225.599071 \r\nL 54.592955 225.599071 \r\nz\r\n\" style=\"fill:#1f77b4;\"/>\r\n   </g>\r\n   <g id=\"patch_6\">\r\n    <path clip-path=\"url(#pa8cd1b72b6)\" d=\"M 57.636591 228.14 \r\nL 60.680227 228.14 \r\nL 60.680227 225.599071 \r\nL 57.636591 225.599071 \r\nz\r\n\" style=\"fill:#1f77b4;\"/>\r\n   </g>\r\n   <g id=\"patch_7\">\r\n    <path clip-path=\"url(#pa8cd1b72b6)\" d=\"M 60.680227 228.14 \r\nL 63.723864 228.14 \r\nL 63.723864 225.175583 \r\nL 60.680227 225.175583 \r\nz\r\n\" style=\"fill:#1f77b4;\"/>\r\n   </g>\r\n   <g id=\"patch_8\">\r\n    <path clip-path=\"url(#pa8cd1b72b6)\" d=\"M 63.723864 228.14 \r\nL 66.7675 228.14 \r\nL 66.7675 223.905118 \r\nL 63.723864 223.905118 \r\nz\r\n\" style=\"fill:#1f77b4;\"/>\r\n   </g>\r\n   <g id=\"patch_9\">\r\n    <path clip-path=\"url(#pa8cd1b72b6)\" d=\"M 66.7675 228.14 \r\nL 69.811136 228.14 \r\nL 69.811136 220.940701 \r\nL 66.7675 220.940701 \r\nz\r\n\" style=\"fill:#1f77b4;\"/>\r\n   </g>\r\n   <g id=\"patch_10\">\r\n    <path clip-path=\"url(#pa8cd1b72b6)\" d=\"M 69.811136 228.14 \r\nL 72.854773 228.14 \r\nL 72.854773 217.552796 \r\nL 69.811136 217.552796 \r\nz\r\n\" style=\"fill:#1f77b4;\"/>\r\n   </g>\r\n   <g id=\"patch_11\">\r\n    <path clip-path=\"url(#pa8cd1b72b6)\" d=\"M 72.854773 228.14 \r\nL 75.898409 228.14 \r\nL 75.898409 215.011867 \r\nL 72.854773 215.011867 \r\nz\r\n\" style=\"fill:#1f77b4;\"/>\r\n   </g>\r\n   <g id=\"patch_12\">\r\n    <path clip-path=\"url(#pa8cd1b72b6)\" d=\"M 75.898409 228.14 \r\nL 78.942045 228.14 \r\nL 78.942045 209.083032 \r\nL 75.898409 209.083032 \r\nz\r\n\" style=\"fill:#1f77b4;\"/>\r\n   </g>\r\n   <g id=\"patch_13\">\r\n    <path clip-path=\"url(#pa8cd1b72b6)\" d=\"M 78.942045 228.14 \r\nL 81.985682 228.14 \r\nL 81.985682 207.812568 \r\nL 78.942045 207.812568 \r\nz\r\n\" style=\"fill:#1f77b4;\"/>\r\n   </g>\r\n   <g id=\"patch_14\">\r\n    <path clip-path=\"url(#pa8cd1b72b6)\" d=\"M 81.985682 228.14 \r\nL 85.029318 228.14 \r\nL 85.029318 196.801876 \r\nL 81.985682 196.801876 \r\nz\r\n\" style=\"fill:#1f77b4;\"/>\r\n   </g>\r\n   <g id=\"patch_15\">\r\n    <path clip-path=\"url(#pa8cd1b72b6)\" d=\"M 85.029318 228.14 \r\nL 88.072955 228.14 \r\nL 88.072955 193.41397 \r\nL 85.029318 193.41397 \r\nz\r\n\" style=\"fill:#1f77b4;\"/>\r\n   </g>\r\n   <g id=\"patch_16\">\r\n    <path clip-path=\"url(#pa8cd1b72b6)\" d=\"M 88.072955 228.14 \r\nL 91.116591 228.14 \r\nL 91.116591 179.438861 \r\nL 88.072955 179.438861 \r\nz\r\n\" style=\"fill:#1f77b4;\"/>\r\n   </g>\r\n   <g id=\"patch_17\">\r\n    <path clip-path=\"url(#pa8cd1b72b6)\" d=\"M 91.116591 228.14 \r\nL 94.160227 228.14 \r\nL 94.160227 167.157704 \r\nL 91.116591 167.157704 \r\nz\r\n\" style=\"fill:#1f77b4;\"/>\r\n   </g>\r\n   <g id=\"patch_18\">\r\n    <path clip-path=\"url(#pa8cd1b72b6)\" d=\"M 94.160227 228.14 \r\nL 97.203864 228.14 \r\nL 97.203864 164.616775 \r\nL 94.160227 164.616775 \r\nz\r\n\" style=\"fill:#1f77b4;\"/>\r\n   </g>\r\n   <g id=\"patch_19\">\r\n    <path clip-path=\"url(#pa8cd1b72b6)\" d=\"M 97.203864 228.14 \r\nL 100.2475 228.14 \r\nL 100.2475 156.5705 \r\nL 97.203864 156.5705 \r\nz\r\n\" style=\"fill:#1f77b4;\"/>\r\n   </g>\r\n   <g id=\"patch_20\">\r\n    <path clip-path=\"url(#pa8cd1b72b6)\" d=\"M 100.2475 228.14 \r\nL 103.291136 228.14 \r\nL 103.291136 146.830272 \r\nL 100.2475 146.830272 \r\nz\r\n\" style=\"fill:#1f77b4;\"/>\r\n   </g>\r\n   <g id=\"patch_21\">\r\n    <path clip-path=\"url(#pa8cd1b72b6)\" d=\"M 103.291136 228.14 \r\nL 106.334773 228.14 \r\nL 106.334773 135.819579 \r\nL 103.291136 135.819579 \r\nz\r\n\" style=\"fill:#1f77b4;\"/>\r\n   </g>\r\n   <g id=\"patch_22\">\r\n    <path clip-path=\"url(#pa8cd1b72b6)\" d=\"M 106.334773 228.14 \r\nL 109.378409 228.14 \r\nL 109.378409 120.150517 \r\nL 106.334773 120.150517 \r\nz\r\n\" style=\"fill:#1f77b4;\"/>\r\n   </g>\r\n   <g id=\"patch_23\">\r\n    <path clip-path=\"url(#pa8cd1b72b6)\" d=\"M 109.378409 228.14 \r\nL 112.422045 228.14 \r\nL 112.422045 101.517038 \r\nL 109.378409 101.517038 \r\nz\r\n\" style=\"fill:#1f77b4;\"/>\r\n   </g>\r\n   <g id=\"patch_24\">\r\n    <path clip-path=\"url(#pa8cd1b72b6)\" d=\"M 112.422045 228.14 \r\nL 115.465682 228.14 \r\nL 115.465682 101.940526 \r\nL 112.422045 101.940526 \r\nz\r\n\" style=\"fill:#1f77b4;\"/>\r\n   </g>\r\n   <g id=\"patch_25\">\r\n    <path clip-path=\"url(#pa8cd1b72b6)\" d=\"M 115.465682 228.14 \r\nL 118.509318 228.14 \r\nL 118.509318 87.11844 \r\nL 115.465682 87.11844 \r\nz\r\n\" style=\"fill:#1f77b4;\"/>\r\n   </g>\r\n   <g id=\"patch_26\">\r\n    <path clip-path=\"url(#pa8cd1b72b6)\" d=\"M 118.509318 228.14 \r\nL 121.552955 228.14 \r\nL 121.552955 77.378212 \r\nL 118.509318 77.378212 \r\nz\r\n\" style=\"fill:#1f77b4;\"/>\r\n   </g>\r\n   <g id=\"patch_27\">\r\n    <path clip-path=\"url(#pa8cd1b72b6)\" d=\"M 121.552955 228.14 \r\nL 124.596591 228.14 \r\nL 124.596591 82.46007 \r\nL 121.552955 82.46007 \r\nz\r\n\" style=\"fill:#1f77b4;\"/>\r\n   </g>\r\n   <g id=\"patch_28\">\r\n    <path clip-path=\"url(#pa8cd1b72b6)\" d=\"M 124.596591 228.14 \r\nL 127.640227 228.14 \r\nL 127.640227 84.577511 \r\nL 124.596591 84.577511 \r\nz\r\n\" style=\"fill:#1f77b4;\"/>\r\n   </g>\r\n   <g id=\"patch_29\">\r\n    <path clip-path=\"url(#pa8cd1b72b6)\" d=\"M 127.640227 228.14 \r\nL 130.683864 228.14 \r\nL 130.683864 73.990307 \r\nL 127.640227 73.990307 \r\nz\r\n\" style=\"fill:#1f77b4;\"/>\r\n   </g>\r\n   <g id=\"patch_30\">\r\n    <path clip-path=\"url(#pa8cd1b72b6)\" d=\"M 130.683864 228.14 \r\nL 133.7275 228.14 \r\nL 133.7275 78.225188 \r\nL 130.683864 78.225188 \r\nz\r\n\" style=\"fill:#1f77b4;\"/>\r\n   </g>\r\n   <g id=\"patch_31\">\r\n    <path clip-path=\"url(#pa8cd1b72b6)\" d=\"M 133.7275 228.14 \r\nL 136.771136 228.14 \r\nL 136.771136 82.46007 \r\nL 133.7275 82.46007 \r\nz\r\n\" style=\"fill:#1f77b4;\"/>\r\n   </g>\r\n   <g id=\"patch_32\">\r\n    <path clip-path=\"url(#pa8cd1b72b6)\" d=\"M 136.771136 228.14 \r\nL 139.814773 228.14 \r\nL 139.814773 84.154023 \r\nL 136.771136 84.154023 \r\nz\r\n\" style=\"fill:#1f77b4;\"/>\r\n   </g>\r\n   <g id=\"patch_33\">\r\n    <path clip-path=\"url(#pa8cd1b72b6)\" d=\"M 139.814773 228.14 \r\nL 142.858409 228.14 \r\nL 142.858409 80.766117 \r\nL 139.814773 80.766117 \r\nz\r\n\" style=\"fill:#1f77b4;\"/>\r\n   </g>\r\n   <g id=\"patch_34\">\r\n    <path clip-path=\"url(#pa8cd1b72b6)\" d=\"M 142.858409 228.14 \r\nL 145.902045 228.14 \r\nL 145.902045 97.705644 \r\nL 142.858409 97.705644 \r\nz\r\n\" style=\"fill:#1f77b4;\"/>\r\n   </g>\r\n   <g id=\"patch_35\">\r\n    <path clip-path=\"url(#pa8cd1b72b6)\" d=\"M 145.902045 228.14 \r\nL 148.945682 228.14 \r\nL 148.945682 110.833777 \r\nL 145.902045 110.833777 \r\nz\r\n\" style=\"fill:#1f77b4;\"/>\r\n   </g>\r\n   <g id=\"patch_36\">\r\n    <path clip-path=\"url(#pa8cd1b72b6)\" d=\"M 148.945682 228.14 \r\nL 151.989318 228.14 \r\nL 151.989318 130.737721 \r\nL 148.945682 130.737721 \r\nz\r\n\" style=\"fill:#1f77b4;\"/>\r\n   </g>\r\n   <g id=\"patch_37\">\r\n    <path clip-path=\"url(#pa8cd1b72b6)\" d=\"M 151.989318 228.14 \r\nL 155.032955 228.14 \r\nL 155.032955 67.637984 \r\nL 151.989318 67.637984 \r\nz\r\n\" style=\"fill:#1f77b4;\"/>\r\n   </g>\r\n   <g id=\"patch_38\">\r\n    <path clip-path=\"url(#pa8cd1b72b6)\" d=\"M 155.032955 228.14 \r\nL 158.076591 228.14 \r\nL 158.076591 21.054286 \r\nL 155.032955 21.054286 \r\nz\r\n\" style=\"fill:#1f77b4;\"/>\r\n   </g>\r\n   <g id=\"patch_39\">\r\n    <path clip-path=\"url(#pa8cd1b72b6)\" d=\"M 158.076591 228.14 \r\nL 161.120227 228.14 \r\nL 161.120227 56.203804 \r\nL 158.076591 56.203804 \r\nz\r\n\" style=\"fill:#1f77b4;\"/>\r\n   </g>\r\n   <g id=\"patch_40\">\r\n    <path clip-path=\"url(#pa8cd1b72b6)\" d=\"M 161.120227 228.14 \r\nL 164.163864 228.14 \r\nL 164.163864 70.178913 \r\nL 161.120227 70.178913 \r\nz\r\n\" style=\"fill:#1f77b4;\"/>\r\n   </g>\r\n   <g id=\"patch_41\">\r\n    <path clip-path=\"url(#pa8cd1b72b6)\" d=\"M 164.163864 228.14 \r\nL 167.2075 228.14 \r\nL 167.2075 86.694952 \r\nL 164.163864 86.694952 \r\nz\r\n\" style=\"fill:#1f77b4;\"/>\r\n   </g>\r\n   <g id=\"patch_42\">\r\n    <path clip-path=\"url(#pa8cd1b72b6)\" d=\"M 167.2075 228.14 \r\nL 170.251136 228.14 \r\nL 170.251136 120.997493 \r\nL 167.2075 120.997493 \r\nz\r\n\" style=\"fill:#1f77b4;\"/>\r\n   </g>\r\n   <g id=\"patch_43\">\r\n    <path clip-path=\"url(#pa8cd1b72b6)\" d=\"M 170.251136 228.14 \r\nL 173.294773 228.14 \r\nL 173.294773 140.477949 \r\nL 170.251136 140.477949 \r\nz\r\n\" style=\"fill:#1f77b4;\"/>\r\n   </g>\r\n   <g id=\"patch_44\">\r\n    <path clip-path=\"url(#pa8cd1b72b6)\" d=\"M 173.294773 228.14 \r\nL 176.338409 228.14 \r\nL 176.338409 137.090044 \r\nL 173.294773 137.090044 \r\nz\r\n\" style=\"fill:#1f77b4;\"/>\r\n   </g>\r\n   <g id=\"patch_45\">\r\n    <path clip-path=\"url(#pa8cd1b72b6)\" d=\"M 176.338409 228.14 \r\nL 179.382045 228.14 \r\nL 179.382045 154.453059 \r\nL 176.338409 154.453059 \r\nz\r\n\" style=\"fill:#1f77b4;\"/>\r\n   </g>\r\n   <g id=\"patch_46\">\r\n    <path clip-path=\"url(#pa8cd1b72b6)\" d=\"M 179.382045 228.14 \r\nL 182.425682 228.14 \r\nL 182.425682 174.357003 \r\nL 179.382045 174.357003 \r\nz\r\n\" style=\"fill:#1f77b4;\"/>\r\n   </g>\r\n   <g id=\"patch_47\">\r\n    <path clip-path=\"url(#pa8cd1b72b6)\" d=\"M 182.425682 228.14 \r\nL 185.469318 228.14 \r\nL 185.469318 177.744908 \r\nL 182.425682 177.744908 \r\nz\r\n\" style=\"fill:#1f77b4;\"/>\r\n   </g>\r\n   <g id=\"patch_48\">\r\n    <path clip-path=\"url(#pa8cd1b72b6)\" d=\"M 185.469318 228.14 \r\nL 188.512955 228.14 \r\nL 188.512955 186.214671 \r\nL 185.469318 186.214671 \r\nz\r\n\" style=\"fill:#1f77b4;\"/>\r\n   </g>\r\n   <g id=\"patch_49\">\r\n    <path clip-path=\"url(#pa8cd1b72b6)\" d=\"M 188.512955 228.14 \r\nL 191.556591 228.14 \r\nL 191.556591 187.908624 \r\nL 188.512955 187.908624 \r\nz\r\n\" style=\"fill:#1f77b4;\"/>\r\n   </g>\r\n   <g id=\"patch_50\">\r\n    <path clip-path=\"url(#pa8cd1b72b6)\" d=\"M 191.556591 228.14 \r\nL 194.600227 228.14 \r\nL 194.600227 198.07234 \r\nL 191.556591 198.07234 \r\nz\r\n\" style=\"fill:#1f77b4;\"/>\r\n   </g>\r\n   <g id=\"patch_51\">\r\n    <path clip-path=\"url(#pa8cd1b72b6)\" d=\"M 194.600227 228.14 \r\nL 197.643864 228.14 \r\nL 197.643864 204.424663 \r\nL 194.600227 204.424663 \r\nz\r\n\" style=\"fill:#1f77b4;\"/>\r\n   </g>\r\n   <g id=\"patch_52\">\r\n    <path clip-path=\"url(#pa8cd1b72b6)\" d=\"M 197.643864 228.14 \r\nL 200.6875 228.14 \r\nL 200.6875 199.342805 \r\nL 197.643864 199.342805 \r\nz\r\n\" style=\"fill:#1f77b4;\"/>\r\n   </g>\r\n   <g id=\"patch_53\">\r\n    <path clip-path=\"url(#pa8cd1b72b6)\" d=\"M 200.6875 228.14 \r\nL 203.731136 228.14 \r\nL 203.731136 208.659544 \r\nL 200.6875 208.659544 \r\nz\r\n\" style=\"fill:#1f77b4;\"/>\r\n   </g>\r\n   <g id=\"patch_54\">\r\n    <path clip-path=\"url(#pa8cd1b72b6)\" d=\"M 203.731136 228.14 \r\nL 206.774773 228.14 \r\nL 206.774773 212.470938 \r\nL 203.731136 212.470938 \r\nz\r\n\" style=\"fill:#1f77b4;\"/>\r\n   </g>\r\n   <g id=\"patch_55\">\r\n    <path clip-path=\"url(#pa8cd1b72b6)\" d=\"M 206.774773 228.14 \r\nL 209.818409 228.14 \r\nL 209.818409 211.200473 \r\nL 206.774773 211.200473 \r\nz\r\n\" style=\"fill:#1f77b4;\"/>\r\n   </g>\r\n   <g id=\"patch_56\">\r\n    <path clip-path=\"url(#pa8cd1b72b6)\" d=\"M 209.818409 228.14 \r\nL 212.862045 228.14 \r\nL 212.862045 214.588379 \r\nL 209.818409 214.588379 \r\nz\r\n\" style=\"fill:#1f77b4;\"/>\r\n   </g>\r\n   <g id=\"patch_57\">\r\n    <path clip-path=\"url(#pa8cd1b72b6)\" d=\"M 212.862045 228.14 \r\nL 215.905682 228.14 \r\nL 215.905682 214.16489 \r\nL 212.862045 214.16489 \r\nz\r\n\" style=\"fill:#1f77b4;\"/>\r\n   </g>\r\n   <g id=\"patch_58\">\r\n    <path clip-path=\"url(#pa8cd1b72b6)\" d=\"M 215.905682 228.14 \r\nL 218.949318 228.14 \r\nL 218.949318 221.364189 \r\nL 215.905682 221.364189 \r\nz\r\n\" style=\"fill:#1f77b4;\"/>\r\n   </g>\r\n   <g id=\"patch_59\">\r\n    <path clip-path=\"url(#pa8cd1b72b6)\" d=\"M 218.949318 228.14 \r\nL 221.992955 228.14 \r\nL 221.992955 218.82326 \r\nL 218.949318 218.82326 \r\nz\r\n\" style=\"fill:#1f77b4;\"/>\r\n   </g>\r\n   <g id=\"patch_60\">\r\n    <path clip-path=\"url(#pa8cd1b72b6)\" d=\"M 221.992955 228.14 \r\nL 225.036591 228.14 \r\nL 225.036591 223.058142 \r\nL 221.992955 223.058142 \r\nz\r\n\" style=\"fill:#1f77b4;\"/>\r\n   </g>\r\n   <g id=\"patch_61\">\r\n    <path clip-path=\"url(#pa8cd1b72b6)\" d=\"M 225.036591 228.14 \r\nL 228.080227 228.14 \r\nL 228.080227 218.399772 \r\nL 225.036591 218.399772 \r\nz\r\n\" style=\"fill:#1f77b4;\"/>\r\n   </g>\r\n   <g id=\"patch_62\">\r\n    <path clip-path=\"url(#pa8cd1b72b6)\" d=\"M 228.080227 228.14 \r\nL 231.123864 228.14 \r\nL 231.123864 222.634654 \r\nL 228.080227 222.634654 \r\nz\r\n\" style=\"fill:#1f77b4;\"/>\r\n   </g>\r\n   <g id=\"patch_63\">\r\n    <path clip-path=\"url(#pa8cd1b72b6)\" d=\"M 231.123864 228.14 \r\nL 234.1675 228.14 \r\nL 234.1675 220.940701 \r\nL 231.123864 220.940701 \r\nz\r\n\" style=\"fill:#1f77b4;\"/>\r\n   </g>\r\n   <g id=\"patch_64\">\r\n    <path clip-path=\"url(#pa8cd1b72b6)\" d=\"M 234.1675 228.14 \r\nL 237.211136 228.14 \r\nL 237.211136 224.752095 \r\nL 234.1675 224.752095 \r\nz\r\n\" style=\"fill:#1f77b4;\"/>\r\n   </g>\r\n   <g id=\"patch_65\">\r\n    <path clip-path=\"url(#pa8cd1b72b6)\" d=\"M 237.211136 228.14 \r\nL 240.254773 228.14 \r\nL 240.254773 223.058142 \r\nL 237.211136 223.058142 \r\nz\r\n\" style=\"fill:#1f77b4;\"/>\r\n   </g>\r\n   <g id=\"patch_66\">\r\n    <path clip-path=\"url(#pa8cd1b72b6)\" d=\"M 240.254773 228.14 \r\nL 243.298409 228.14 \r\nL 243.298409 225.175583 \r\nL 240.254773 225.175583 \r\nz\r\n\" style=\"fill:#1f77b4;\"/>\r\n   </g>\r\n   <g id=\"patch_67\">\r\n    <path clip-path=\"url(#pa8cd1b72b6)\" d=\"M 243.298409 228.14 \r\nL 246.342045 228.14 \r\nL 246.342045 223.905118 \r\nL 243.298409 223.905118 \r\nz\r\n\" style=\"fill:#1f77b4;\"/>\r\n   </g>\r\n   <g id=\"patch_68\">\r\n    <path clip-path=\"url(#pa8cd1b72b6)\" d=\"M 246.342045 228.14 \r\nL 249.385682 228.14 \r\nL 249.385682 226.022559 \r\nL 246.342045 226.022559 \r\nz\r\n\" style=\"fill:#1f77b4;\"/>\r\n   </g>\r\n   <g id=\"patch_69\">\r\n    <path clip-path=\"url(#pa8cd1b72b6)\" d=\"M 249.385682 228.14 \r\nL 252.429318 228.14 \r\nL 252.429318 224.752095 \r\nL 249.385682 224.752095 \r\nz\r\n\" style=\"fill:#1f77b4;\"/>\r\n   </g>\r\n   <g id=\"patch_70\">\r\n    <path clip-path=\"url(#pa8cd1b72b6)\" d=\"M 252.429318 228.14 \r\nL 255.472955 228.14 \r\nL 255.472955 225.175583 \r\nL 252.429318 225.175583 \r\nz\r\n\" style=\"fill:#1f77b4;\"/>\r\n   </g>\r\n   <g id=\"patch_71\">\r\n    <path clip-path=\"url(#pa8cd1b72b6)\" d=\"M 255.472955 228.14 \r\nL 258.516591 228.14 \r\nL 258.516591 225.599071 \r\nL 255.472955 225.599071 \r\nz\r\n\" style=\"fill:#1f77b4;\"/>\r\n   </g>\r\n   <g id=\"patch_72\">\r\n    <path clip-path=\"url(#pa8cd1b72b6)\" d=\"M 258.516591 228.14 \r\nL 261.560227 228.14 \r\nL 261.560227 226.022559 \r\nL 258.516591 226.022559 \r\nz\r\n\" style=\"fill:#1f77b4;\"/>\r\n   </g>\r\n   <g id=\"patch_73\">\r\n    <path clip-path=\"url(#pa8cd1b72b6)\" d=\"M 261.560227 228.14 \r\nL 264.603864 228.14 \r\nL 264.603864 225.599071 \r\nL 261.560227 225.599071 \r\nz\r\n\" style=\"fill:#1f77b4;\"/>\r\n   </g>\r\n   <g id=\"patch_74\">\r\n    <path clip-path=\"url(#pa8cd1b72b6)\" d=\"M 264.603864 228.14 \r\nL 267.6475 228.14 \r\nL 267.6475 227.293024 \r\nL 264.603864 227.293024 \r\nz\r\n\" style=\"fill:#1f77b4;\"/>\r\n   </g>\r\n   <g id=\"patch_75\">\r\n    <path clip-path=\"url(#pa8cd1b72b6)\" d=\"M 267.6475 228.14 \r\nL 270.691136 228.14 \r\nL 270.691136 225.175583 \r\nL 267.6475 225.175583 \r\nz\r\n\" style=\"fill:#1f77b4;\"/>\r\n   </g>\r\n   <g id=\"patch_76\">\r\n    <path clip-path=\"url(#pa8cd1b72b6)\" d=\"M 270.691136 228.14 \r\nL 273.734773 228.14 \r\nL 273.734773 228.14 \r\nL 270.691136 228.14 \r\nz\r\n\" style=\"fill:#1f77b4;\"/>\r\n   </g>\r\n   <g id=\"patch_77\">\r\n    <path clip-path=\"url(#pa8cd1b72b6)\" d=\"M 273.734773 228.14 \r\nL 276.778409 228.14 \r\nL 276.778409 226.869535 \r\nL 273.734773 226.869535 \r\nz\r\n\" style=\"fill:#1f77b4;\"/>\r\n   </g>\r\n   <g id=\"patch_78\">\r\n    <path clip-path=\"url(#pa8cd1b72b6)\" d=\"M 276.778409 228.14 \r\nL 279.822045 228.14 \r\nL 279.822045 228.14 \r\nL 276.778409 228.14 \r\nz\r\n\" style=\"fill:#1f77b4;\"/>\r\n   </g>\r\n   <g id=\"patch_79\">\r\n    <path clip-path=\"url(#pa8cd1b72b6)\" d=\"M 279.822045 228.14 \r\nL 282.865682 228.14 \r\nL 282.865682 226.446047 \r\nL 279.822045 226.446047 \r\nz\r\n\" style=\"fill:#1f77b4;\"/>\r\n   </g>\r\n   <g id=\"patch_80\">\r\n    <path clip-path=\"url(#pa8cd1b72b6)\" d=\"M 282.865682 228.14 \r\nL 285.909318 228.14 \r\nL 285.909318 227.716512 \r\nL 282.865682 227.716512 \r\nz\r\n\" style=\"fill:#1f77b4;\"/>\r\n   </g>\r\n   <g id=\"patch_81\">\r\n    <path clip-path=\"url(#pa8cd1b72b6)\" d=\"M 285.909318 228.14 \r\nL 288.952955 228.14 \r\nL 288.952955 227.293024 \r\nL 285.909318 227.293024 \r\nz\r\n\" style=\"fill:#1f77b4;\"/>\r\n   </g>\r\n   <g id=\"patch_82\">\r\n    <path clip-path=\"url(#pa8cd1b72b6)\" d=\"M 288.952955 228.14 \r\nL 291.996591 228.14 \r\nL 291.996591 227.716512 \r\nL 288.952955 227.716512 \r\nz\r\n\" style=\"fill:#1f77b4;\"/>\r\n   </g>\r\n   <g id=\"patch_83\">\r\n    <path clip-path=\"url(#pa8cd1b72b6)\" d=\"M 291.996591 228.14 \r\nL 295.040227 228.14 \r\nL 295.040227 228.14 \r\nL 291.996591 228.14 \r\nz\r\n\" style=\"fill:#1f77b4;\"/>\r\n   </g>\r\n   <g id=\"patch_84\">\r\n    <path clip-path=\"url(#pa8cd1b72b6)\" d=\"M 295.040227 228.14 \r\nL 298.083864 228.14 \r\nL 298.083864 227.716512 \r\nL 295.040227 227.716512 \r\nz\r\n\" style=\"fill:#1f77b4;\"/>\r\n   </g>\r\n   <g id=\"patch_85\">\r\n    <path clip-path=\"url(#pa8cd1b72b6)\" d=\"M 298.083864 228.14 \r\nL 301.1275 228.14 \r\nL 301.1275 226.869535 \r\nL 298.083864 226.869535 \r\nz\r\n\" style=\"fill:#1f77b4;\"/>\r\n   </g>\r\n   <g id=\"patch_86\">\r\n    <path clip-path=\"url(#pa8cd1b72b6)\" d=\"M 301.1275 228.14 \r\nL 304.171136 228.14 \r\nL 304.171136 227.293024 \r\nL 301.1275 227.293024 \r\nz\r\n\" style=\"fill:#1f77b4;\"/>\r\n   </g>\r\n   <g id=\"patch_87\">\r\n    <path clip-path=\"url(#pa8cd1b72b6)\" d=\"M 304.171136 228.14 \r\nL 307.214773 228.14 \r\nL 307.214773 227.716512 \r\nL 304.171136 227.716512 \r\nz\r\n\" style=\"fill:#1f77b4;\"/>\r\n   </g>\r\n   <g id=\"patch_88\">\r\n    <path clip-path=\"url(#pa8cd1b72b6)\" d=\"M 307.214773 228.14 \r\nL 310.258409 228.14 \r\nL 310.258409 226.869535 \r\nL 307.214773 226.869535 \r\nz\r\n\" style=\"fill:#1f77b4;\"/>\r\n   </g>\r\n   <g id=\"patch_89\">\r\n    <path clip-path=\"url(#pa8cd1b72b6)\" d=\"M 310.258409 228.14 \r\nL 313.302045 228.14 \r\nL 313.302045 228.14 \r\nL 310.258409 228.14 \r\nz\r\n\" style=\"fill:#1f77b4;\"/>\r\n   </g>\r\n   <g id=\"patch_90\">\r\n    <path clip-path=\"url(#pa8cd1b72b6)\" d=\"M 313.302045 228.14 \r\nL 316.345682 228.14 \r\nL 316.345682 228.14 \r\nL 313.302045 228.14 \r\nz\r\n\" style=\"fill:#1f77b4;\"/>\r\n   </g>\r\n   <g id=\"patch_91\">\r\n    <path clip-path=\"url(#pa8cd1b72b6)\" d=\"M 316.345682 228.14 \r\nL 319.389318 228.14 \r\nL 319.389318 228.14 \r\nL 316.345682 228.14 \r\nz\r\n\" style=\"fill:#1f77b4;\"/>\r\n   </g>\r\n   <g id=\"patch_92\">\r\n    <path clip-path=\"url(#pa8cd1b72b6)\" d=\"M 319.389318 228.14 \r\nL 322.432955 228.14 \r\nL 322.432955 227.716512 \r\nL 319.389318 227.716512 \r\nz\r\n\" style=\"fill:#1f77b4;\"/>\r\n   </g>\r\n   <g id=\"patch_93\">\r\n    <path clip-path=\"url(#pa8cd1b72b6)\" d=\"M 322.432955 228.14 \r\nL 325.476591 228.14 \r\nL 325.476591 228.14 \r\nL 322.432955 228.14 \r\nz\r\n\" style=\"fill:#1f77b4;\"/>\r\n   </g>\r\n   <g id=\"patch_94\">\r\n    <path clip-path=\"url(#pa8cd1b72b6)\" d=\"M 325.476591 228.14 \r\nL 328.520227 228.14 \r\nL 328.520227 228.14 \r\nL 325.476591 228.14 \r\nz\r\n\" style=\"fill:#1f77b4;\"/>\r\n   </g>\r\n   <g id=\"patch_95\">\r\n    <path clip-path=\"url(#pa8cd1b72b6)\" d=\"M 328.520227 228.14 \r\nL 331.563864 228.14 \r\nL 331.563864 228.14 \r\nL 328.520227 228.14 \r\nz\r\n\" style=\"fill:#1f77b4;\"/>\r\n   </g>\r\n   <g id=\"patch_96\">\r\n    <path clip-path=\"url(#pa8cd1b72b6)\" d=\"M 331.563864 228.14 \r\nL 334.6075 228.14 \r\nL 334.6075 228.14 \r\nL 331.563864 228.14 \r\nz\r\n\" style=\"fill:#1f77b4;\"/>\r\n   </g>\r\n   <g id=\"patch_97\">\r\n    <path clip-path=\"url(#pa8cd1b72b6)\" d=\"M 334.6075 228.14 \r\nL 337.651136 228.14 \r\nL 337.651136 228.14 \r\nL 334.6075 228.14 \r\nz\r\n\" style=\"fill:#1f77b4;\"/>\r\n   </g>\r\n   <g id=\"patch_98\">\r\n    <path clip-path=\"url(#pa8cd1b72b6)\" d=\"M 337.651136 228.14 \r\nL 340.694773 228.14 \r\nL 340.694773 228.14 \r\nL 337.651136 228.14 \r\nz\r\n\" style=\"fill:#1f77b4;\"/>\r\n   </g>\r\n   <g id=\"patch_99\">\r\n    <path clip-path=\"url(#pa8cd1b72b6)\" d=\"M 340.694773 228.14 \r\nL 343.738409 228.14 \r\nL 343.738409 228.14 \r\nL 340.694773 228.14 \r\nz\r\n\" style=\"fill:#1f77b4;\"/>\r\n   </g>\r\n   <g id=\"patch_100\">\r\n    <path clip-path=\"url(#pa8cd1b72b6)\" d=\"M 343.738409 228.14 \r\nL 346.782045 228.14 \r\nL 346.782045 228.14 \r\nL 343.738409 228.14 \r\nz\r\n\" style=\"fill:#1f77b4;\"/>\r\n   </g>\r\n   <g id=\"patch_101\">\r\n    <path clip-path=\"url(#pa8cd1b72b6)\" d=\"M 346.782045 228.14 \r\nL 349.825682 228.14 \r\nL 349.825682 228.14 \r\nL 346.782045 228.14 \r\nz\r\n\" style=\"fill:#1f77b4;\"/>\r\n   </g>\r\n   <g id=\"patch_102\">\r\n    <path clip-path=\"url(#pa8cd1b72b6)\" d=\"M 349.825682 228.14 \r\nL 352.869318 228.14 \r\nL 352.869318 227.716512 \r\nL 349.825682 227.716512 \r\nz\r\n\" style=\"fill:#1f77b4;\"/>\r\n   </g>\r\n   <g id=\"matplotlib.axis_1\">\r\n    <g id=\"xtick_1\">\r\n     <g id=\"line2d_1\">\r\n      <path clip-path=\"url(#pa8cd1b72b6)\" d=\"M 54.036155 228.14 \r\nL 54.036155 10.7 \r\n\" style=\"fill:none;stroke:#b0b0b0;stroke-linecap:square;stroke-width:0.8;\"/>\r\n     </g>\r\n     <g id=\"line2d_2\">\r\n      <defs>\r\n       <path d=\"M 0 0 \r\nL 0 3.5 \r\n\" id=\"m8ce9648be7\" style=\"stroke:#000000;stroke-width:0.8;\"/>\r\n      </defs>\r\n      <g>\r\n       <use style=\"stroke:#000000;stroke-width:0.8;\" x=\"54.036155\" xlink:href=\"#m8ce9648be7\" y=\"228.14\"/>\r\n      </g>\r\n     </g>\r\n     <g id=\"text_1\">\r\n      <!-- −4 -->\r\n      <defs>\r\n       <path d=\"M 10.59375 35.5 \r\nL 73.1875 35.5 \r\nL 73.1875 27.203125 \r\nL 10.59375 27.203125 \r\nz\r\n\" id=\"DejaVuSans-8722\"/>\r\n       <path d=\"M 37.796875 64.3125 \r\nL 12.890625 25.390625 \r\nL 37.796875 25.390625 \r\nz\r\nM 35.203125 72.90625 \r\nL 47.609375 72.90625 \r\nL 47.609375 25.390625 \r\nL 58.015625 25.390625 \r\nL 58.015625 17.1875 \r\nL 47.609375 17.1875 \r\nL 47.609375 0 \r\nL 37.796875 0 \r\nL 37.796875 17.1875 \r\nL 4.890625 17.1875 \r\nL 4.890625 26.703125 \r\nz\r\n\" id=\"DejaVuSans-52\"/>\r\n      </defs>\r\n      <g transform=\"translate(46.665061 242.738437)scale(0.1 -0.1)\">\r\n       <use xlink:href=\"#DejaVuSans-8722\"/>\r\n       <use x=\"83.789062\" xlink:href=\"#DejaVuSans-52\"/>\r\n      </g>\r\n     </g>\r\n    </g>\r\n    <g id=\"xtick_2\">\r\n     <g id=\"line2d_3\">\r\n      <path clip-path=\"url(#pa8cd1b72b6)\" d=\"M 103.765637 228.14 \r\nL 103.765637 10.7 \r\n\" style=\"fill:none;stroke:#b0b0b0;stroke-linecap:square;stroke-width:0.8;\"/>\r\n     </g>\r\n     <g id=\"line2d_4\">\r\n      <g>\r\n       <use style=\"stroke:#000000;stroke-width:0.8;\" x=\"103.765637\" xlink:href=\"#m8ce9648be7\" y=\"228.14\"/>\r\n      </g>\r\n     </g>\r\n     <g id=\"text_2\">\r\n      <!-- −2 -->\r\n      <defs>\r\n       <path d=\"M 19.1875 8.296875 \r\nL 53.609375 8.296875 \r\nL 53.609375 0 \r\nL 7.328125 0 \r\nL 7.328125 8.296875 \r\nQ 12.9375 14.109375 22.625 23.890625 \r\nQ 32.328125 33.6875 34.8125 36.53125 \r\nQ 39.546875 41.84375 41.421875 45.53125 \r\nQ 43.3125 49.21875 43.3125 52.78125 \r\nQ 43.3125 58.59375 39.234375 62.25 \r\nQ 35.15625 65.921875 28.609375 65.921875 \r\nQ 23.96875 65.921875 18.8125 64.3125 \r\nQ 13.671875 62.703125 7.8125 59.421875 \r\nL 7.8125 69.390625 \r\nQ 13.765625 71.78125 18.9375 73 \r\nQ 24.125 74.21875 28.421875 74.21875 \r\nQ 39.75 74.21875 46.484375 68.546875 \r\nQ 53.21875 62.890625 53.21875 53.421875 \r\nQ 53.21875 48.921875 51.53125 44.890625 \r\nQ 49.859375 40.875 45.40625 35.40625 \r\nQ 44.1875 33.984375 37.640625 27.21875 \r\nQ 31.109375 20.453125 19.1875 8.296875 \r\nz\r\n\" id=\"DejaVuSans-50\"/>\r\n      </defs>\r\n      <g transform=\"translate(96.394543 242.738437)scale(0.1 -0.1)\">\r\n       <use xlink:href=\"#DejaVuSans-8722\"/>\r\n       <use x=\"83.789062\" xlink:href=\"#DejaVuSans-50\"/>\r\n      </g>\r\n     </g>\r\n    </g>\r\n    <g id=\"xtick_3\">\r\n     <g id=\"line2d_5\">\r\n      <path clip-path=\"url(#pa8cd1b72b6)\" d=\"M 153.495119 228.14 \r\nL 153.495119 10.7 \r\n\" style=\"fill:none;stroke:#b0b0b0;stroke-linecap:square;stroke-width:0.8;\"/>\r\n     </g>\r\n     <g id=\"line2d_6\">\r\n      <g>\r\n       <use style=\"stroke:#000000;stroke-width:0.8;\" x=\"153.495119\" xlink:href=\"#m8ce9648be7\" y=\"228.14\"/>\r\n      </g>\r\n     </g>\r\n     <g id=\"text_3\">\r\n      <!-- 0 -->\r\n      <defs>\r\n       <path d=\"M 31.78125 66.40625 \r\nQ 24.171875 66.40625 20.328125 58.90625 \r\nQ 16.5 51.421875 16.5 36.375 \r\nQ 16.5 21.390625 20.328125 13.890625 \r\nQ 24.171875 6.390625 31.78125 6.390625 \r\nQ 39.453125 6.390625 43.28125 13.890625 \r\nQ 47.125 21.390625 47.125 36.375 \r\nQ 47.125 51.421875 43.28125 58.90625 \r\nQ 39.453125 66.40625 31.78125 66.40625 \r\nz\r\nM 31.78125 74.21875 \r\nQ 44.046875 74.21875 50.515625 64.515625 \r\nQ 56.984375 54.828125 56.984375 36.375 \r\nQ 56.984375 17.96875 50.515625 8.265625 \r\nQ 44.046875 -1.421875 31.78125 -1.421875 \r\nQ 19.53125 -1.421875 13.0625 8.265625 \r\nQ 6.59375 17.96875 6.59375 36.375 \r\nQ 6.59375 54.828125 13.0625 64.515625 \r\nQ 19.53125 74.21875 31.78125 74.21875 \r\nz\r\n\" id=\"DejaVuSans-48\"/>\r\n      </defs>\r\n      <g transform=\"translate(150.313869 242.738437)scale(0.1 -0.1)\">\r\n       <use xlink:href=\"#DejaVuSans-48\"/>\r\n      </g>\r\n     </g>\r\n    </g>\r\n    <g id=\"xtick_4\">\r\n     <g id=\"line2d_7\">\r\n      <path clip-path=\"url(#pa8cd1b72b6)\" d=\"M 203.224601 228.14 \r\nL 203.224601 10.7 \r\n\" style=\"fill:none;stroke:#b0b0b0;stroke-linecap:square;stroke-width:0.8;\"/>\r\n     </g>\r\n     <g id=\"line2d_8\">\r\n      <g>\r\n       <use style=\"stroke:#000000;stroke-width:0.8;\" x=\"203.224601\" xlink:href=\"#m8ce9648be7\" y=\"228.14\"/>\r\n      </g>\r\n     </g>\r\n     <g id=\"text_4\">\r\n      <!-- 2 -->\r\n      <g transform=\"translate(200.043351 242.738437)scale(0.1 -0.1)\">\r\n       <use xlink:href=\"#DejaVuSans-50\"/>\r\n      </g>\r\n     </g>\r\n    </g>\r\n    <g id=\"xtick_5\">\r\n     <g id=\"line2d_9\">\r\n      <path clip-path=\"url(#pa8cd1b72b6)\" d=\"M 252.954083 228.14 \r\nL 252.954083 10.7 \r\n\" style=\"fill:none;stroke:#b0b0b0;stroke-linecap:square;stroke-width:0.8;\"/>\r\n     </g>\r\n     <g id=\"line2d_10\">\r\n      <g>\r\n       <use style=\"stroke:#000000;stroke-width:0.8;\" x=\"252.954083\" xlink:href=\"#m8ce9648be7\" y=\"228.14\"/>\r\n      </g>\r\n     </g>\r\n     <g id=\"text_5\">\r\n      <!-- 4 -->\r\n      <g transform=\"translate(249.772833 242.738437)scale(0.1 -0.1)\">\r\n       <use xlink:href=\"#DejaVuSans-52\"/>\r\n      </g>\r\n     </g>\r\n    </g>\r\n    <g id=\"xtick_6\">\r\n     <g id=\"line2d_11\">\r\n      <path clip-path=\"url(#pa8cd1b72b6)\" d=\"M 302.683565 228.14 \r\nL 302.683565 10.7 \r\n\" style=\"fill:none;stroke:#b0b0b0;stroke-linecap:square;stroke-width:0.8;\"/>\r\n     </g>\r\n     <g id=\"line2d_12\">\r\n      <g>\r\n       <use style=\"stroke:#000000;stroke-width:0.8;\" x=\"302.683565\" xlink:href=\"#m8ce9648be7\" y=\"228.14\"/>\r\n      </g>\r\n     </g>\r\n     <g id=\"text_6\">\r\n      <!-- 6 -->\r\n      <defs>\r\n       <path d=\"M 33.015625 40.375 \r\nQ 26.375 40.375 22.484375 35.828125 \r\nQ 18.609375 31.296875 18.609375 23.390625 \r\nQ 18.609375 15.53125 22.484375 10.953125 \r\nQ 26.375 6.390625 33.015625 6.390625 \r\nQ 39.65625 6.390625 43.53125 10.953125 \r\nQ 47.40625 15.53125 47.40625 23.390625 \r\nQ 47.40625 31.296875 43.53125 35.828125 \r\nQ 39.65625 40.375 33.015625 40.375 \r\nz\r\nM 52.59375 71.296875 \r\nL 52.59375 62.3125 \r\nQ 48.875 64.0625 45.09375 64.984375 \r\nQ 41.3125 65.921875 37.59375 65.921875 \r\nQ 27.828125 65.921875 22.671875 59.328125 \r\nQ 17.53125 52.734375 16.796875 39.40625 \r\nQ 19.671875 43.65625 24.015625 45.921875 \r\nQ 28.375 48.1875 33.59375 48.1875 \r\nQ 44.578125 48.1875 50.953125 41.515625 \r\nQ 57.328125 34.859375 57.328125 23.390625 \r\nQ 57.328125 12.15625 50.6875 5.359375 \r\nQ 44.046875 -1.421875 33.015625 -1.421875 \r\nQ 20.359375 -1.421875 13.671875 8.265625 \r\nQ 6.984375 17.96875 6.984375 36.375 \r\nQ 6.984375 53.65625 15.1875 63.9375 \r\nQ 23.390625 74.21875 37.203125 74.21875 \r\nQ 40.921875 74.21875 44.703125 73.484375 \r\nQ 48.484375 72.75 52.59375 71.296875 \r\nz\r\n\" id=\"DejaVuSans-54\"/>\r\n      </defs>\r\n      <g transform=\"translate(299.502315 242.738437)scale(0.1 -0.1)\">\r\n       <use xlink:href=\"#DejaVuSans-54\"/>\r\n      </g>\r\n     </g>\r\n    </g>\r\n    <g id=\"xtick_7\">\r\n     <g id=\"line2d_13\">\r\n      <path clip-path=\"url(#pa8cd1b72b6)\" d=\"M 352.413048 228.14 \r\nL 352.413048 10.7 \r\n\" style=\"fill:none;stroke:#b0b0b0;stroke-linecap:square;stroke-width:0.8;\"/>\r\n     </g>\r\n     <g id=\"line2d_14\">\r\n      <g>\r\n       <use style=\"stroke:#000000;stroke-width:0.8;\" x=\"352.413048\" xlink:href=\"#m8ce9648be7\" y=\"228.14\"/>\r\n      </g>\r\n     </g>\r\n     <g id=\"text_7\">\r\n      <!-- 8 -->\r\n      <defs>\r\n       <path d=\"M 31.78125 34.625 \r\nQ 24.75 34.625 20.71875 30.859375 \r\nQ 16.703125 27.09375 16.703125 20.515625 \r\nQ 16.703125 13.921875 20.71875 10.15625 \r\nQ 24.75 6.390625 31.78125 6.390625 \r\nQ 38.8125 6.390625 42.859375 10.171875 \r\nQ 46.921875 13.96875 46.921875 20.515625 \r\nQ 46.921875 27.09375 42.890625 30.859375 \r\nQ 38.875 34.625 31.78125 34.625 \r\nz\r\nM 21.921875 38.8125 \r\nQ 15.578125 40.375 12.03125 44.71875 \r\nQ 8.5 49.078125 8.5 55.328125 \r\nQ 8.5 64.0625 14.71875 69.140625 \r\nQ 20.953125 74.21875 31.78125 74.21875 \r\nQ 42.671875 74.21875 48.875 69.140625 \r\nQ 55.078125 64.0625 55.078125 55.328125 \r\nQ 55.078125 49.078125 51.53125 44.71875 \r\nQ 48 40.375 41.703125 38.8125 \r\nQ 48.828125 37.15625 52.796875 32.3125 \r\nQ 56.78125 27.484375 56.78125 20.515625 \r\nQ 56.78125 9.90625 50.3125 4.234375 \r\nQ 43.84375 -1.421875 31.78125 -1.421875 \r\nQ 19.734375 -1.421875 13.25 4.234375 \r\nQ 6.78125 9.90625 6.78125 20.515625 \r\nQ 6.78125 27.484375 10.78125 32.3125 \r\nQ 14.796875 37.15625 21.921875 38.8125 \r\nz\r\nM 18.3125 54.390625 \r\nQ 18.3125 48.734375 21.84375 45.5625 \r\nQ 25.390625 42.390625 31.78125 42.390625 \r\nQ 38.140625 42.390625 41.71875 45.5625 \r\nQ 45.3125 48.734375 45.3125 54.390625 \r\nQ 45.3125 60.0625 41.71875 63.234375 \r\nQ 38.140625 66.40625 31.78125 66.40625 \r\nQ 25.390625 66.40625 21.84375 63.234375 \r\nQ 18.3125 60.0625 18.3125 54.390625 \r\nz\r\n\" id=\"DejaVuSans-56\"/>\r\n      </defs>\r\n      <g transform=\"translate(349.231798 242.738437)scale(0.1 -0.1)\">\r\n       <use xlink:href=\"#DejaVuSans-56\"/>\r\n      </g>\r\n     </g>\r\n    </g>\r\n   </g>\r\n   <g id=\"matplotlib.axis_2\">\r\n    <g id=\"ytick_1\">\r\n     <g id=\"line2d_15\">\r\n      <path clip-path=\"url(#pa8cd1b72b6)\" d=\"M 33.2875 228.14 \r\nL 368.0875 228.14 \r\n\" style=\"fill:none;stroke:#b0b0b0;stroke-linecap:square;stroke-width:0.8;\"/>\r\n     </g>\r\n     <g id=\"line2d_16\">\r\n      <defs>\r\n       <path d=\"M 0 0 \r\nL -3.5 0 \r\n\" id=\"macb08d51ce\" style=\"stroke:#000000;stroke-width:0.8;\"/>\r\n      </defs>\r\n      <g>\r\n       <use style=\"stroke:#000000;stroke-width:0.8;\" x=\"33.2875\" xlink:href=\"#macb08d51ce\" y=\"228.14\"/>\r\n      </g>\r\n     </g>\r\n     <g id=\"text_8\">\r\n      <!-- 0 -->\r\n      <g transform=\"translate(19.925 231.939219)scale(0.1 -0.1)\">\r\n       <use xlink:href=\"#DejaVuSans-48\"/>\r\n      </g>\r\n     </g>\r\n    </g>\r\n    <g id=\"ytick_2\">\r\n     <g id=\"line2d_17\">\r\n      <path clip-path=\"url(#pa8cd1b72b6)\" d=\"M 33.2875 185.791183 \r\nL 368.0875 185.791183 \r\n\" style=\"fill:none;stroke:#b0b0b0;stroke-linecap:square;stroke-width:0.8;\"/>\r\n     </g>\r\n     <g id=\"line2d_18\">\r\n      <g>\r\n       <use style=\"stroke:#000000;stroke-width:0.8;\" x=\"33.2875\" xlink:href=\"#macb08d51ce\" y=\"185.791183\"/>\r\n      </g>\r\n     </g>\r\n     <g id=\"text_9\">\r\n      <!-- 100 -->\r\n      <defs>\r\n       <path d=\"M 12.40625 8.296875 \r\nL 28.515625 8.296875 \r\nL 28.515625 63.921875 \r\nL 10.984375 60.40625 \r\nL 10.984375 69.390625 \r\nL 28.421875 72.90625 \r\nL 38.28125 72.90625 \r\nL 38.28125 8.296875 \r\nL 54.390625 8.296875 \r\nL 54.390625 0 \r\nL 12.40625 0 \r\nz\r\n\" id=\"DejaVuSans-49\"/>\r\n      </defs>\r\n      <g transform=\"translate(7.2 189.590402)scale(0.1 -0.1)\">\r\n       <use xlink:href=\"#DejaVuSans-49\"/>\r\n       <use x=\"63.623047\" xlink:href=\"#DejaVuSans-48\"/>\r\n       <use x=\"127.246094\" xlink:href=\"#DejaVuSans-48\"/>\r\n      </g>\r\n     </g>\r\n    </g>\r\n    <g id=\"ytick_3\">\r\n     <g id=\"line2d_19\">\r\n      <path clip-path=\"url(#pa8cd1b72b6)\" d=\"M 33.2875 143.442366 \r\nL 368.0875 143.442366 \r\n\" style=\"fill:none;stroke:#b0b0b0;stroke-linecap:square;stroke-width:0.8;\"/>\r\n     </g>\r\n     <g id=\"line2d_20\">\r\n      <g>\r\n       <use style=\"stroke:#000000;stroke-width:0.8;\" x=\"33.2875\" xlink:href=\"#macb08d51ce\" y=\"143.442366\"/>\r\n      </g>\r\n     </g>\r\n     <g id=\"text_10\">\r\n      <!-- 200 -->\r\n      <g transform=\"translate(7.2 147.241585)scale(0.1 -0.1)\">\r\n       <use xlink:href=\"#DejaVuSans-50\"/>\r\n       <use x=\"63.623047\" xlink:href=\"#DejaVuSans-48\"/>\r\n       <use x=\"127.246094\" xlink:href=\"#DejaVuSans-48\"/>\r\n      </g>\r\n     </g>\r\n    </g>\r\n    <g id=\"ytick_4\">\r\n     <g id=\"line2d_21\">\r\n      <path clip-path=\"url(#pa8cd1b72b6)\" d=\"M 33.2875 101.09355 \r\nL 368.0875 101.09355 \r\n\" style=\"fill:none;stroke:#b0b0b0;stroke-linecap:square;stroke-width:0.8;\"/>\r\n     </g>\r\n     <g id=\"line2d_22\">\r\n      <g>\r\n       <use style=\"stroke:#000000;stroke-width:0.8;\" x=\"33.2875\" xlink:href=\"#macb08d51ce\" y=\"101.09355\"/>\r\n      </g>\r\n     </g>\r\n     <g id=\"text_11\">\r\n      <!-- 300 -->\r\n      <defs>\r\n       <path d=\"M 40.578125 39.3125 \r\nQ 47.65625 37.796875 51.625 33 \r\nQ 55.609375 28.21875 55.609375 21.1875 \r\nQ 55.609375 10.40625 48.1875 4.484375 \r\nQ 40.765625 -1.421875 27.09375 -1.421875 \r\nQ 22.515625 -1.421875 17.65625 -0.515625 \r\nQ 12.796875 0.390625 7.625 2.203125 \r\nL 7.625 11.71875 \r\nQ 11.71875 9.328125 16.59375 8.109375 \r\nQ 21.484375 6.890625 26.8125 6.890625 \r\nQ 36.078125 6.890625 40.9375 10.546875 \r\nQ 45.796875 14.203125 45.796875 21.1875 \r\nQ 45.796875 27.640625 41.28125 31.265625 \r\nQ 36.765625 34.90625 28.71875 34.90625 \r\nL 20.21875 34.90625 \r\nL 20.21875 43.015625 \r\nL 29.109375 43.015625 \r\nQ 36.375 43.015625 40.234375 45.921875 \r\nQ 44.09375 48.828125 44.09375 54.296875 \r\nQ 44.09375 59.90625 40.109375 62.90625 \r\nQ 36.140625 65.921875 28.71875 65.921875 \r\nQ 24.65625 65.921875 20.015625 65.03125 \r\nQ 15.375 64.15625 9.8125 62.3125 \r\nL 9.8125 71.09375 \r\nQ 15.4375 72.65625 20.34375 73.4375 \r\nQ 25.25 74.21875 29.59375 74.21875 \r\nQ 40.828125 74.21875 47.359375 69.109375 \r\nQ 53.90625 64.015625 53.90625 55.328125 \r\nQ 53.90625 49.265625 50.4375 45.09375 \r\nQ 46.96875 40.921875 40.578125 39.3125 \r\nz\r\n\" id=\"DejaVuSans-51\"/>\r\n      </defs>\r\n      <g transform=\"translate(7.2 104.892768)scale(0.1 -0.1)\">\r\n       <use xlink:href=\"#DejaVuSans-51\"/>\r\n       <use x=\"63.623047\" xlink:href=\"#DejaVuSans-48\"/>\r\n       <use x=\"127.246094\" xlink:href=\"#DejaVuSans-48\"/>\r\n      </g>\r\n     </g>\r\n    </g>\r\n    <g id=\"ytick_5\">\r\n     <g id=\"line2d_23\">\r\n      <path clip-path=\"url(#pa8cd1b72b6)\" d=\"M 33.2875 58.744733 \r\nL 368.0875 58.744733 \r\n\" style=\"fill:none;stroke:#b0b0b0;stroke-linecap:square;stroke-width:0.8;\"/>\r\n     </g>\r\n     <g id=\"line2d_24\">\r\n      <g>\r\n       <use style=\"stroke:#000000;stroke-width:0.8;\" x=\"33.2875\" xlink:href=\"#macb08d51ce\" y=\"58.744733\"/>\r\n      </g>\r\n     </g>\r\n     <g id=\"text_12\">\r\n      <!-- 400 -->\r\n      <g transform=\"translate(7.2 62.543951)scale(0.1 -0.1)\">\r\n       <use xlink:href=\"#DejaVuSans-52\"/>\r\n       <use x=\"63.623047\" xlink:href=\"#DejaVuSans-48\"/>\r\n       <use x=\"127.246094\" xlink:href=\"#DejaVuSans-48\"/>\r\n      </g>\r\n     </g>\r\n    </g>\r\n    <g id=\"ytick_6\">\r\n     <g id=\"line2d_25\">\r\n      <path clip-path=\"url(#pa8cd1b72b6)\" d=\"M 33.2875 16.395916 \r\nL 368.0875 16.395916 \r\n\" style=\"fill:none;stroke:#b0b0b0;stroke-linecap:square;stroke-width:0.8;\"/>\r\n     </g>\r\n     <g id=\"line2d_26\">\r\n      <g>\r\n       <use style=\"stroke:#000000;stroke-width:0.8;\" x=\"33.2875\" xlink:href=\"#macb08d51ce\" y=\"16.395916\"/>\r\n      </g>\r\n     </g>\r\n     <g id=\"text_13\">\r\n      <!-- 500 -->\r\n      <defs>\r\n       <path d=\"M 10.796875 72.90625 \r\nL 49.515625 72.90625 \r\nL 49.515625 64.59375 \r\nL 19.828125 64.59375 \r\nL 19.828125 46.734375 \r\nQ 21.96875 47.46875 24.109375 47.828125 \r\nQ 26.265625 48.1875 28.421875 48.1875 \r\nQ 40.625 48.1875 47.75 41.5 \r\nQ 54.890625 34.8125 54.890625 23.390625 \r\nQ 54.890625 11.625 47.5625 5.09375 \r\nQ 40.234375 -1.421875 26.90625 -1.421875 \r\nQ 22.3125 -1.421875 17.546875 -0.640625 \r\nQ 12.796875 0.140625 7.71875 1.703125 \r\nL 7.71875 11.625 \r\nQ 12.109375 9.234375 16.796875 8.0625 \r\nQ 21.484375 6.890625 26.703125 6.890625 \r\nQ 35.15625 6.890625 40.078125 11.328125 \r\nQ 45.015625 15.765625 45.015625 23.390625 \r\nQ 45.015625 31 40.078125 35.4375 \r\nQ 35.15625 39.890625 26.703125 39.890625 \r\nQ 22.75 39.890625 18.8125 39.015625 \r\nQ 14.890625 38.140625 10.796875 36.28125 \r\nz\r\n\" id=\"DejaVuSans-53\"/>\r\n      </defs>\r\n      <g transform=\"translate(7.2 20.195135)scale(0.1 -0.1)\">\r\n       <use xlink:href=\"#DejaVuSans-53\"/>\r\n       <use x=\"63.623047\" xlink:href=\"#DejaVuSans-48\"/>\r\n       <use x=\"127.246094\" xlink:href=\"#DejaVuSans-48\"/>\r\n      </g>\r\n     </g>\r\n    </g>\r\n   </g>\r\n   <g id=\"patch_103\">\r\n    <path d=\"M 33.2875 228.14 \r\nL 33.2875 10.7 \r\n\" style=\"fill:none;stroke:#000000;stroke-linecap:square;stroke-linejoin:miter;stroke-width:0.8;\"/>\r\n   </g>\r\n   <g id=\"patch_104\">\r\n    <path d=\"M 368.0875 228.14 \r\nL 368.0875 10.7 \r\n\" style=\"fill:none;stroke:#000000;stroke-linecap:square;stroke-linejoin:miter;stroke-width:0.8;\"/>\r\n   </g>\r\n   <g id=\"patch_105\">\r\n    <path d=\"M 33.2875 228.14 \r\nL 368.0875 228.14 \r\n\" style=\"fill:none;stroke:#000000;stroke-linecap:square;stroke-linejoin:miter;stroke-width:0.8;\"/>\r\n   </g>\r\n   <g id=\"patch_106\">\r\n    <path d=\"M 33.2875 10.7 \r\nL 368.0875 10.7 \r\n\" style=\"fill:none;stroke:#000000;stroke-linecap:square;stroke-linejoin:miter;stroke-width:0.8;\"/>\r\n   </g>\r\n  </g>\r\n </g>\r\n <defs>\r\n  <clipPath id=\"pa8cd1b72b6\">\r\n   <rect height=\"217.44\" width=\"334.8\" x=\"33.2875\" y=\"10.7\"/>\r\n  </clipPath>\r\n </defs>\r\n</svg>\r\n",
      "image/png": "[encoded data removed]"
     },
     "metadata": {
      "needs_background": "light"
     }
    }
   ],
   "source": [
    "marketing_data['Marketing Indicator'].hist(bins=100)"
   ]
  },
  {
   "cell_type": "code",
   "execution_count": 6,
   "metadata": {},
   "outputs": [
    {
     "output_type": "execute_result",
     "data": {
      "text/plain": "count    10000.000000\nmean        -0.482051\nstd          1.324813\nmin         -4.222422\n25%         -1.416866\n50%         -0.543958\n75%          0.337416\nmax          8.018350\nName: Marketing Indicator, dtype: float64"
     },
     "metadata": {},
     "execution_count": 6
    }
   ],
   "source": [
    "marketing_data['Marketing Indicator'].describe()"
   ]
  },
  {
   "cell_type": "markdown",
   "metadata": {},
   "source": [
    "### Exercise 1:\n",
    "\n",
    "For the sake of concreteness, suppose that the new service offers streaming videos that users can watch either by paying per video or by signing up for an annual subscription.\n",
    "\n",
    "#### 1.1\n",
    "\n",
    "What are some possible measures of engagement that we might use as our outcome?"
   ]
  },
  {
   "cell_type": "markdown",
   "metadata": {},
   "source": [
    "**Answer.**\n",
    "Avg of time spent watching videos."
   ]
  },
  {
   "cell_type": "markdown",
   "metadata": {},
   "source": [
    "----------"
   ]
  },
  {
   "cell_type": "markdown",
   "metadata": {},
   "source": [
    "#### 1.2\n",
    "\n",
    "Suppose that the company believes that a user will only subscribe to the service if they have determined that it provides worthwhile savings over the pay-per-video model. Assuming this perspective, what might be a good outcome to measure?"
   ]
  },
  {
   "cell_type": "markdown",
   "metadata": {},
   "source": [
    "**Answer.**\n",
    "avg of money spent watching videos\n"
   ]
  },
  {
   "cell_type": "markdown",
   "metadata": {},
   "source": [
    "----------"
   ]
  },
  {
   "cell_type": "markdown",
   "metadata": {},
   "source": [
    "### Quantifying our outcomes\n",
    "\n",
    "We want to construct an optimal messaging strategy; however, prior to sending any messages we have no knowledge about the effectiveness of any of the messages. Thus, it is sensible to use a **subset** of the population $\\mathcal{S}_0 \\subseteq \\mathcal{S}$ to learn about which messages are effective and subsequently construct a **strategy** $\\pi$ that takes the features of our customers and help us to decide which message to send to the remainder of the population.\n",
    "\n",
    "We want to maximize engagement shortly after launch, so we will use an outcome that is immediately measurable: \n",
    "an indicator that the user followed a link (embedded in each message) to the new service's homepage within \n",
    "36 hours of the message being sent. For each $s \\in \\mathcal{S}_0$ we will observe a feature vector $\\mathbf{X}_s$, a message $M_s\\in \\mathcal{M}$ sent to the subscriber and a binary outcome $Y_s = 0$ or $Y_s = 1$ indicating whether the subscriber clicked on the embedded link within 36 hours or not."
   ]
  },
  {
   "cell_type": "markdown",
   "metadata": {},
   "source": [
    "### Exercise 2:\n",
    "\n",
    "Suppose that after obtaining the result data $\\{X_s,M_s,Y_s\\}_{s\\in \\mathcal{S}_0}$ from our initial sample, we have come up with a strategy $\\pi$ that assigns a message based on a subject's features $\\mathbf{X}$. Construct a metric that would allow you to estimate the response rate of $\\pi$ in the entire population $\\mathcal{S}$."
   ]
  },
  {
   "cell_type": "markdown",
   "metadata": {},
   "source": [
    "**Answer.**\n",
    "\n",
    "**Macro avg**\n",
    "- Average of users that watch the embeded video in the message within 36 hours of sent\n",
    "\n",
    "**Micro AVG**\n",
    "- Avg of users that watched the video no matter how many hours after sent\n",
    "- Avg of user that at least read the message sent"
   ]
  },
  {
   "cell_type": "markdown",
   "metadata": {},
   "source": [
    "----------"
   ]
  },
  {
   "cell_type": "markdown",
   "metadata": {},
   "source": [
    "### Exercise 3:\n",
    "\n",
    "To make the results of Exercise 2 concrete, let's consider a small example. Suppose that our initial batch $\\mathcal{S}_{0}$ consists of 20 randomly selected subscribers of our marketing data. After sending messages to this batch we obtained the following results:"
   ]
  },
  {
   "cell_type": "code",
   "execution_count": 17,
   "metadata": {
    "tags": []
   },
   "outputs": [
    {
     "output_type": "stream",
     "name": "stdout",
     "text": "[2732 9845 3264 4859 9225 7891 4373 5874 6744 3468  705 2599 2222 7768\n 2897 9893  537 6216 6921 6036]\n"
    },
    {
     "output_type": "execute_result",
     "data": {
      "text/plain": "         Marketing Indicator  Message Sent  Response\nSubject                                             \n2732               -0.169603             0         0\n9845                0.029417             1         0\n3264               -2.235855             0         0\n4859                0.145138             1         0\n9225                0.182082             0         1\n7891               -2.383956             1         1\n4373               -0.471215             1         0\n5874               -1.040592             1         0\n6744               -1.784661             0         0\n3468               -1.680218             0         0\n705                 0.042255             0         1\n2599                0.518685             1         0\n2222                0.680522             1         1\n7768               -2.034240             0         0\n2897               -1.333417             1         1\n9893               -0.642355             1         0\n537                 0.396984             1         0\n6216               -0.377838             1         0\n6921               -1.628444             1         0\n6036               -0.944289             1         0",
      "text/html": "<div>\n<style scoped>\n    .dataframe tbody tr th:only-of-type {\n        vertical-align: middle;\n    }\n\n    .dataframe tbody tr th {\n        vertical-align: top;\n    }\n\n    .dataframe thead th {\n        text-align: right;\n    }\n</style>\n<table border=\"1\" class=\"dataframe\">\n  <thead>\n    <tr style=\"text-align: right;\">\n      <th></th>\n      <th>Marketing Indicator</th>\n      <th>Message Sent</th>\n      <th>Response</th>\n    </tr>\n    <tr>\n      <th>Subject</th>\n      <th></th>\n      <th></th>\n      <th></th>\n    </tr>\n  </thead>\n  <tbody>\n    <tr>\n      <th>2732</th>\n      <td>-0.169603</td>\n      <td>0</td>\n      <td>0</td>\n    </tr>\n    <tr>\n      <th>9845</th>\n      <td>0.029417</td>\n      <td>1</td>\n      <td>0</td>\n    </tr>\n    <tr>\n      <th>3264</th>\n      <td>-2.235855</td>\n      <td>0</td>\n      <td>0</td>\n    </tr>\n    <tr>\n      <th>4859</th>\n      <td>0.145138</td>\n      <td>1</td>\n      <td>0</td>\n    </tr>\n    <tr>\n      <th>9225</th>\n      <td>0.182082</td>\n      <td>0</td>\n      <td>1</td>\n    </tr>\n    <tr>\n      <th>7891</th>\n      <td>-2.383956</td>\n      <td>1</td>\n      <td>1</td>\n    </tr>\n    <tr>\n      <th>4373</th>\n      <td>-0.471215</td>\n      <td>1</td>\n      <td>0</td>\n    </tr>\n    <tr>\n      <th>5874</th>\n      <td>-1.040592</td>\n      <td>1</td>\n      <td>0</td>\n    </tr>\n    <tr>\n      <th>6744</th>\n      <td>-1.784661</td>\n      <td>0</td>\n      <td>0</td>\n    </tr>\n    <tr>\n      <th>3468</th>\n      <td>-1.680218</td>\n      <td>0</td>\n      <td>0</td>\n    </tr>\n    <tr>\n      <th>705</th>\n      <td>0.042255</td>\n      <td>0</td>\n      <td>1</td>\n    </tr>\n    <tr>\n      <th>2599</th>\n      <td>0.518685</td>\n      <td>1</td>\n      <td>0</td>\n    </tr>\n    <tr>\n      <th>2222</th>\n      <td>0.680522</td>\n      <td>1</td>\n      <td>1</td>\n    </tr>\n    <tr>\n      <th>7768</th>\n      <td>-2.034240</td>\n      <td>0</td>\n      <td>0</td>\n    </tr>\n    <tr>\n      <th>2897</th>\n      <td>-1.333417</td>\n      <td>1</td>\n      <td>1</td>\n    </tr>\n    <tr>\n      <th>9893</th>\n      <td>-0.642355</td>\n      <td>1</td>\n      <td>0</td>\n    </tr>\n    <tr>\n      <th>537</th>\n      <td>0.396984</td>\n      <td>1</td>\n      <td>0</td>\n    </tr>\n    <tr>\n      <th>6216</th>\n      <td>-0.377838</td>\n      <td>1</td>\n      <td>0</td>\n    </tr>\n    <tr>\n      <th>6921</th>\n      <td>-1.628444</td>\n      <td>1</td>\n      <td>0</td>\n    </tr>\n    <tr>\n      <th>6036</th>\n      <td>-0.944289</td>\n      <td>1</td>\n      <td>0</td>\n    </tr>\n  </tbody>\n</table>\n</div>"
     },
     "metadata": {},
     "execution_count": 17
    }
   ],
   "source": [
    "np.random.seed(0) #Added just for the sake of replication\n",
    "\n",
    "S_0=np.random.randint(0,10000,20)\n",
    "print(S_0)\n",
    "first_batch=marketing_data.iloc[S_0,:]\n",
    "first_batch"
   ]
  },
  {
   "cell_type": "markdown",
   "metadata": {},
   "source": [
    "#### 3.1\n",
    "\n",
    "Suppose that we wish to evaluate the strategy $\\pi$ given by\n",
    "    \n",
    "$$\n",
    "\\pi(x)= 1 \\quad  \\text{if $x < 0$,} \\quad \\quad \\quad   \\pi(x) = 0  \\quad \\text{if $x\\geq 0$.}\n",
    "$$\n",
    "\n",
    "We have labeled the first 10 observations according to whether or not the observation is consistent with $\\pi$; e.g. in the first row $X = -0.169603$ and $M = 0$ but $\\pi(X) = 1$ so it is not consistent, but in the second row $X = -0.1$ and $M = 1$ which is consistent with $\\pi(-0.1) = 1$. Label the last ten rows according to whether or not the observations are consistent with this definition of $\\pi$."
   ]
  },
  {
   "cell_type": "markdown",
   "metadata": {},
   "source": [
    "|    Marketing Indicator |   Message Sent |   Response |   $\\pi$ | Consistent with $\\pi$|\n",
    "| ----------------------:|---------------:|-----------:|-------:|---------------------:|\n",
    "|             -0.169603  |              0 |          0 |    1   | No|\n",
    "|              0.029417  |              1 |          0 |    0   |No|\n",
    "|             -2.23586   |              0 |          0 |    1   |No|\n",
    "|              0.145138  |              1 |          0 |    0   |No|\n",
    "|              0.182082  |              0 |          1 |    0   |Yes|\n",
    "|             -2.38396   |              1 |          1 |    1   |Yes|\n",
    "|             -0.471215  |              1 |          0 |    1   |Yes|\n",
    "|             -1.04059   |              1 |          0 |    1 |Yes|\n",
    "|             -1.78466   |              0 |          0 |    1 |No|\n",
    "|             -1.68022   |              0 |          0 |    1 |No|\n",
    "|              0.0422555 |              0 |          1 |    0 |?|\n",
    "|              0.518685  |              1 |          0 |    0 |?|\n",
    "|              0.680522  |              1 |          1 |    0 |?|\n",
    "|             -2.03424   |              0 |          0 |    1 |?|\n",
    "|             -1.33342   |              1 |          1 |    1 |?|\n",
    "|             -0.642355  |              1 |          0 |    1 |?|\n",
    "|              0.396984  |              1 |          0 |    0 |?|\n",
    "|             -0.377838  |              1 |          0 |    1 |?|\n",
    "|             -1.62844   |              1 |          0 |    1 |?|\n",
    "|             -0.944289  |              1 |          0 |    1 |?|"
   ]
  },
  {
   "cell_type": "markdown",
   "metadata": {},
   "source": [
    "**Answer.**"
   ]
  },
  {
   "cell_type": "markdown",
   "metadata": {},
   "source": [
    "----------"
   ]
  },
  {
   "cell_type": "markdown",
   "metadata": {},
   "source": [
    "#### 3.2\n",
    "\n",
    "Compute $\\mu(\\pi)$ for the above table."
   ]
  },
  {
   "cell_type": "markdown",
   "metadata": {},
   "source": [
    "**Answer.**"
   ]
  },
  {
   "cell_type": "markdown",
   "metadata": {},
   "source": [
    "----------"
   ]
  },
  {
   "cell_type": "markdown",
   "metadata": {},
   "source": [
    "## Setting up our experiment\n",
    "\n",
    "### Choosing our population sample\n",
    "\n",
    "In order for our experiment to recommend a course of action that is applicable to the entire population, the individuals in the sample of subjects we collect data on must be similar to those in the rest of the population. How can we ensure that this will be true?\n",
    "\n",
    "As a first step toward answering this question, let's consider a few scenarios under which this might *not* be true:"
   ]
  },
  {
   "cell_type": "markdown",
   "metadata": {},
   "source": [
    "### Exercise 4:\n",
    "\n",
    "Suppose first that we ordered our subjects according to how long they had been subscribers to our email list and selected $\\mathcal{S}_0$ by simply taking the first $S_0$ people from this list; i.e. the $S_0$ subscribers with the longest active subscriptions. What are the potential pitfalls of this sampling method?"
   ]
  },
  {
   "cell_type": "markdown",
   "metadata": {},
   "source": [
    "**Answer.**\n",
    "\n",
    "The answer we will get is not trustful, it is biased, since all of the customers are no long-time subscriber so it cannnot generalize well."
   ]
  },
  {
   "cell_type": "markdown",
   "metadata": {},
   "source": [
    "----------"
   ]
  },
  {
   "cell_type": "markdown",
   "metadata": {},
   "source": [
    "### Exercise 5:\n",
    "\n",
    "How would you choose the subset of customers to include in $\\mathcal{S}_0$? What are all the factors you would want to control for?"
   ]
  },
  {
   "cell_type": "markdown",
   "metadata": {},
   "source": [
    "**Answer.**\n",
    "\n",
    "I would randomly choose $$S_0$$ in order to minimize cofounding variables. \n",
    "Contro variables:\n",
    "  - Message Time when it was sent\n",
    "  - "
   ]
  },
  {
   "cell_type": "markdown",
   "metadata": {},
   "source": [
    "----------"
   ]
  },
  {
   "cell_type": "markdown",
   "metadata": {},
   "source": [
    "### Delivering our messages\n",
    "\n",
    "Suppose we have stratified our population as indicated above. Then the next step is to randomly sample from each strata in the correct proportions. This ensures that our sample $\\mathcal{S}_0$ does not disproportionately represent any subset of citizens which we believe may display materially different behaviors relative to the average member of $\\mathcal{S}$. This method is known as **stratified sampling**."
   ]
  },
  {
   "cell_type": "markdown",
   "metadata": {},
   "source": [
    "### Exercise 6:\n",
    "\n",
    "Having drawn our sample $\\mathcal{S}_0$, how should we assign the messages? Can you imagine a way in which messages might be assigned that would bias our results?"
   ]
  },
  {
   "cell_type": "markdown",
   "metadata": {},
   "source": [
    "**Answer.**"
   ]
  },
  {
   "cell_type": "markdown",
   "metadata": {},
   "source": [
    "----------"
   ]
  },
  {
   "cell_type": "markdown",
   "metadata": {},
   "source": [
    "## Evaluating our strategies\n",
    "\n",
    "After executing our strategies, our resulting data will be of the form $\\left\\lbrace \\mathbf{X}_s, M_s, Y_s\\right\\rbrace_{s\\in\\mathcal{S}_0}$ as described in the opening to this case. Now, given any messaging strategy, $\\pi$, we can use our formula from Exercise 2 to evaluate its effectiveness on the entire population $\\mathcal{S}$.  "
   ]
  },
  {
   "cell_type": "markdown",
   "metadata": {},
   "source": [
    "### Exercise 7:\n",
    "\n",
    "Our `marketing_data` DataFrame contains $\\left\\lbrace \\mathbf{X}, M, Y\\right\\rbrace$ triples of the form described in this case (with column names 'Marketing Indicator', 'Message Sent' and 'Response' respectively). Assuming that the message type $M$ was randomly assigned with a coin toss and the observed random sample is a stratified random sample of the population of subscribers, perform the following tasks:\n",
    "\n",
    "1. Estimate the mean outcome if all subjects were assigned Message 1 by the strategy $\\pi$.\n",
    "2. Estimate the mean outcome if all subjects were assigned Message 0 by the strategy $\\pi$.\n",
    "3. Estimate an optimal strategy $\\pi$ of the form: give Message 1 if $X > \\tau$ and Message 0 otherwise; i.e. find the best threshold value for $\\tau$"
   ]
  },
  {
   "cell_type": "markdown",
   "metadata": {},
   "source": [
    "**Answer.**"
   ]
  },
  {
   "cell_type": "markdown",
   "metadata": {},
   "source": [
    "_______"
   ]
  },
  {
   "cell_type": "markdown",
   "metadata": {},
   "source": [
    "## Conclusions\n",
    "\n",
    "In this case, we looked at how to construct email messaging strategies through a randomized experiment. Our randomized experiment used a small subset of a large pool of subscribers to identify an optimal messaging strategy and then applied this strategy to the remaining customers. Using the sample data, we found that even though one message was markedly better than the other, tailoring the exact message we send to a subscriber's specific characteristics (even sometimes sending them the \"worse\" message) led to even better results. "
   ]
  },
  {
   "cell_type": "markdown",
   "metadata": {},
   "source": [
    "## Takeaways\n",
    "\n",
    "In this case, you learned about proper experimental design when testing several possible courses of action. In particular, the following principles are key for such designs:\n",
    "\n",
    "1. It is key to pre-identify intrinsic characteristics of sub-segments of the population that could bias outcomes. These should be used to pre-stratify the population before doing any sampling.\n",
    "2. Once the strata are identified, randomization is a key tool to avoid systematic bias in sampling from each strata. This is known as stratified sampling.\n",
    "3. The response rate of strategies for the entire customer base is extremely important to avoid response bias. One should estimate the likely response rate and how it influences the design of optimal strategies. "
   ]
  },
  {
   "cell_type": "code",
   "execution_count": null,
   "metadata": {},
   "outputs": [],
   "source": []
  }
 ],
 "metadata": {
  "kernelspec": {
   "display_name": "Python 3",
   "language": "python",
   "name": "python3"
  },
  "language_info": {
   "codemirror_mode": {
    "name": "ipython",
    "version": 3
   },
   "file_extension": ".py",
   "mimetype": "text/x-python",
   "name": "python",
   "nbconvert_exporter": "python",
   "pygments_lexer": "ipython3",
   "version": "3.7.7-final"
  }
 },
 "nbformat": 4,
 "nbformat_minor": 4
}