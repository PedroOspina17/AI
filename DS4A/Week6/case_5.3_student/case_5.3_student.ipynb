{
 "cells": [
  {
   "cell_type": "markdown",
   "metadata": {},
   "source": [
    "# How do I pre-process text data from Yelp reviews so I can analyze it?"
   ]
  },
  {
   "cell_type": "markdown",
   "metadata": {},
   "source": [
    "## Goals\n",
    "\n",
    "By the end of this case, you will understand what Natural Language Processing (NLP) is and how it can be useful. You will further gain experience with NLTK, a Python library that implements many common NLP algorithms. You'll have insights into the challenges specific to NLP and tools such as vectorization, stop words, tokenizing and parts of speech tagging to address these challenges.\n",
    "\n",
    "NLP is a rapidly advancing field, and simply keeping up with new milestones seem daunting. However, most of these advances are tweaks on older concepts, so understanding the fundamentals will set you well on your way to staying relevant.\n",
    "\n",
    "## Introduction\n",
    "\n",
    "**Business Context.** You are a business consultant for small and medium-sized businesses with a large number of customers. Examples of such businesses might include a quick-dining restaurant, clothing store, or online distributor of hobby equipment. You would like to help your small businesses understand what factors are driving positive and negative customer experiences. Customers are often unwilling to give direct feedback, but do leave large numbers of online reviews on websites such as Yelp, Amazon, and so on. You would like to develop a service that would allow businesses to quickly obtain useful summaries of their reviews across such websites. Such a service would allow your clients to answer questions like: \"What are the most important factors driving negative reviews?\" or \"Did a recent policy change improve our reviews?\"\n",
    "\n",
    "**Business Problem.** Your main task is to **wrangle a dataset of text reviews and engineer relevant features in order to facilitate subsequent analysis and model building**.\n",
    "\n",
    "**Analytical Context.** Text data is highly unstructured, and often requires pre-processing before we can gather any business insights from it. We will be leveraging tools from **natural language processing (NLP)** in order to help us process this data and generate new features that can be used for analytics or model building.\n",
    "\n",
    "The case will proceed as follows: we will (1) introduce basic steps of pre-processing like word tokenization and text visualization; (2) introduce key tools in feature extraction such as n-grams, count representations, and stop words; (3) leverage these tools to perform exploratory data analysis; and finally (4) look at pure text wrangling tools like regular expressions."
   ]
  },
  {
   "cell_type": "markdown",
   "metadata": {},
   "source": [
    "## Context about NLP\n",
    "\n",
    "Some of the most famous success stories involving NLP come from Google, where it is used to give very good responses to vague or misspelled internet searches, fairly comprehensible [automatic translations](https://www.blog.google/products/translate/higher-quality-neural-translations-bunch-more-languages/) of plain text, and famously [automatically generated subtitles](https://ai.googleblog.com/2009/12/automatic-captioning-in-youtube.html) for the majority of YouTube videos.\n",
    "\n",
    "NLP has such a diverse range of uses that it can be hard to find a succinct definition for it. In general, computer prefer numerical data and formal languages, such as mathematics and programming languages, while humans prefer to communicate in so-called \"natural languages\": English, Spanish, and so on. Whenever we try to build a bridge between computer and humans, NLP comes into play. So\n",
    "\n",
    "- To help computers understand humans speaking (think of Siri), we use NLP and audio processing\n",
    "- To automatically translate between different natural languages (think Google Translate), we use NLP\n",
    "- To automatically apply labels or categories to natural texts (think of spam detectors that keep unwanted email out of your inbox), we use NLP\n",
    "- To have computers read text aloud to use (think of Kindle turning ebooks into audiobooks), we again use NLP with audio processing\n",
    "\n",
    "NLP is a huge field! In this case, we'll focus on some fundamental NLP algorithms which are used in all of the above cases.\n",
    "\n",
    "There is often quite a bit of misconception surrounding NLP and its place within machine learning as a whole. Many of the uninitiated think that NLP is just machine learning applied to words. However, this is far from true. NLP has two characteristics which make it intractable for naive applications of machine learning:"
   ]
  },
  {
   "cell_type": "markdown",
   "metadata": {},
   "source": [
    "### Challenge 1: Extraordinarily high dimensionality\n",
    "\n",
    "Consider the book *War and Peace*. It has 3 million characters. Can we view this as a long vector of strings taking values in a 3-million-dimensional space, and then apply machine learning methods here? This is a bad idea for two reasons:\n",
    "\n",
    "1. Basic approaches have terrible performance in such high-dimensional spaces\n",
    "2. These approaches \"miss out\" on some important rules about language that we all know; e.g. that \"don't\" and \"do not\" mean the same thing\n",
    "\n",
    "As a result, a huge amount of NLP involves finding ways to summarize incredibly long vectors in concise ways, so that we can tractably explore, analyze, and model build with them later."
   ]
  },
  {
   "cell_type": "markdown",
   "metadata": {},
   "source": [
    "### Challenge 2: Text is context specific\n",
    "\n",
    "For example, the word *queen* has many uses in English that are both *very different* and *common*:\n",
    "\n",
    "1. The ruler of a country\n",
    "2. A size of mattress\n",
    "3. The most powerful piece in chess\n",
    "4. The mother insect in certain types of insect colonies\n",
    "\n",
    "General purpose libraries will need to deal with all of these, but reviews for mattresses will almost always be about the second. This type of mismatch can result in misleading results that can easily be fixed by a team that is familiar with the underlying NLP computations."
   ]
  },
  {
   "cell_type": "markdown",
   "metadata": {},
   "source": [
    "## Pre-processing and standardization\n",
    "\n",
    "Standardizing text involves many steps. Some of these include:\n",
    "\n",
    "1. Correcting simple errors. For example, different text might use different encodings and you might find that special characters are corrupted and need to be fixed.\n",
    "2. Creating features (e.g. labeling nouns and verbs in a sentence).\n",
    "3. Replacing words and sentences altogether (e.g. standardizing spelling by changing \"yuuuuuuck!\" to \"yuck\", or more extreme steps such as replacing words with near synonyms)\n",
    "\n",
    "In a broad sense, standardization is similar to data wrangling with more conventional data; we are fixing errors, removing outliers, and transforming features. However, the details in NLP tend to be more complicated. We will be using Python's [Natural Language Toolkit (`nltk`) library](https://www.nltk.org/). This library has functions that do most of the basics in NLP.\n",
    "\n",
    "NLTK is a great language for learning about NLP in Python. It implements nearly all standard algorithms used in NLP in pure Python, and it is very readable. It has great documentation and a companion book, and it otften implements several alternatives to the same algorithm so that they can be compared. \n",
    "    \n",
    "Another NLP library in Python is [spaCy](https://spacy.io/). SpaCy is more modern than NLTK, and more focused on industry use than on education. It is opinionated and often implements only a single algorithm instead of all alternatives. It is focused on speed and efficiency over readability, and its source code is less readable as a result.\n",
    "\n",
    "Both are great NLP libraries to become familiar with. In this case, we'll use NLTK, but nearly all features that we cover can be used in spaCy too.\n",
    "\n",
    "**NOTE:** *Many text wrangling pipelines start a little before we do, with initial \"cleaning\" steps that involve things like: converting all characters to lower case, expanding contractions, etc. Our main reason for skipping this initial step is that you must make some important and very context-sensitive choices in these steps. For example, auto-correcting the spelling of a document can be very helpful in reducing noise (e.g. if there are important and hard-to-spell words in the document, like \"Poughkeepsie\") but can also destroy the most important part of the signal (e.g. auto-correcting brand names of companies like \"Rappi\" to \"rapping\"). Similarly, the steps we outline here may need to be adapted appropriately for other contexts, such as other languages, computer programs, legal documents, etc.* \n",
    "\n",
    "We'll look at a dataset of Yelp reviews. Each review consists of a number of different features, namely:\n",
    "\n",
    "1. **review_id:** a unique id for that review\n",
    "2. **user_id:** an anonymized identifier for the user that left the review (some users leave multiple reviews)\n",
    "3. **business_id:** an anonymized identifier for the business that the review is about (most businesses have multiple reviews) \n",
    "4. **stars:** the start rating (1-5) that the reviewer rated the business\n",
    "5. **date:** the date the review was left\n",
    "6. **text:** the full text of the review\n",
    "7. **useful:** the number of readers who rated the review as useful\n",
    "8. **funny:** the number of readers who rated the review as funny\n",
    "9. **cool:** the number of readers who rated the review as cool\n",
    "\n",
    "We'll mainly be interested in the 'text' field as this contains natural language text data."
   ]
  },
  {
   "cell_type": "code",
   "execution_count": 12,
   "metadata": {},
   "outputs": [
    {
     "name": "stderr",
     "output_type": "stream",
     "text": [
      "[nltk_data] Downloading package punkt to\n",
      "[nltk_data]     C:\\Users\\pedro.ospina\\AppData\\Roaming\\nltk_data...\n",
      "[nltk_data]   Package punkt is already up-to-date!\n",
      "[nltk_data] Downloading package stopwords to\n",
      "[nltk_data]     C:\\Users\\pedro.ospina\\AppData\\Roaming\\nltk_data...\n",
      "[nltk_data]   Package stopwords is already up-to-date!\n"
     ]
    }
   ],
   "source": [
    "import nltk # imports the natural language toolkit\n",
    "nltk.download('punkt')\n",
    "nltk.download('stopwords')\n",
    "import pandas as pd\n",
    "import numpy  as np\n",
    "import string\n",
    "import plotly\n",
    "from nltk.stem import PorterStemmer \n",
    "import seaborn as sns"
   ]
  },
  {
   "cell_type": "code",
   "execution_count": 4,
   "metadata": {},
   "outputs": [
    {
     "data": {
      "text/html": [
       "<div>\n",
       "<style scoped>\n",
       "    .dataframe tbody tr th:only-of-type {\n",
       "        vertical-align: middle;\n",
       "    }\n",
       "\n",
       "    .dataframe tbody tr th {\n",
       "        vertical-align: top;\n",
       "    }\n",
       "\n",
       "    .dataframe thead th {\n",
       "        text-align: right;\n",
       "    }\n",
       "</style>\n",
       "<table border=\"1\" class=\"dataframe\">\n",
       "  <thead>\n",
       "    <tr style=\"text-align: right;\">\n",
       "      <th></th>\n",
       "      <th>review_id</th>\n",
       "      <th>user_id</th>\n",
       "      <th>business_id</th>\n",
       "      <th>stars</th>\n",
       "      <th>date</th>\n",
       "      <th>text</th>\n",
       "      <th>useful</th>\n",
       "      <th>funny</th>\n",
       "      <th>cool</th>\n",
       "    </tr>\n",
       "  </thead>\n",
       "  <tbody>\n",
       "    <tr>\n",
       "      <th>0</th>\n",
       "      <td>vkVSCC7xljjrAI4UGfnKEQ</td>\n",
       "      <td>bv2nCi5Qv5vroFiqKGopiw</td>\n",
       "      <td>AEx2SYEUJmTxVVB18LlCwA</td>\n",
       "      <td>5</td>\n",
       "      <td>2016-05-28</td>\n",
       "      <td>Super simple place but amazing nonetheless. It...</td>\n",
       "      <td>0</td>\n",
       "      <td>0</td>\n",
       "      <td>0</td>\n",
       "    </tr>\n",
       "    <tr>\n",
       "      <th>1</th>\n",
       "      <td>n6QzIUObkYshz4dz2QRJTw</td>\n",
       "      <td>bv2nCi5Qv5vroFiqKGopiw</td>\n",
       "      <td>VR6GpWIda3SfvPC-lg9H3w</td>\n",
       "      <td>5</td>\n",
       "      <td>2016-05-28</td>\n",
       "      <td>Small unassuming place that changes their menu...</td>\n",
       "      <td>0</td>\n",
       "      <td>0</td>\n",
       "      <td>0</td>\n",
       "    </tr>\n",
       "    <tr>\n",
       "      <th>2</th>\n",
       "      <td>MV3CcKScW05u5LVfF6ok0g</td>\n",
       "      <td>bv2nCi5Qv5vroFiqKGopiw</td>\n",
       "      <td>CKC0-MOWMqoeWf6s-szl8g</td>\n",
       "      <td>5</td>\n",
       "      <td>2016-05-28</td>\n",
       "      <td>Lester's is located in a beautiful neighborhoo...</td>\n",
       "      <td>0</td>\n",
       "      <td>0</td>\n",
       "      <td>0</td>\n",
       "    </tr>\n",
       "    <tr>\n",
       "      <th>3</th>\n",
       "      <td>IXvOzsEMYtiJI0CARmj77Q</td>\n",
       "      <td>bv2nCi5Qv5vroFiqKGopiw</td>\n",
       "      <td>ACFtxLv8pGrrxMm6EgjreA</td>\n",
       "      <td>4</td>\n",
       "      <td>2016-05-28</td>\n",
       "      <td>Love coming here. Yes the place always needs t...</td>\n",
       "      <td>0</td>\n",
       "      <td>0</td>\n",
       "      <td>0</td>\n",
       "    </tr>\n",
       "    <tr>\n",
       "      <th>4</th>\n",
       "      <td>L_9BTb55X0GDtThi6GlZ6w</td>\n",
       "      <td>bv2nCi5Qv5vroFiqKGopiw</td>\n",
       "      <td>s2I_Ni76bjJNK9yG60iD-Q</td>\n",
       "      <td>4</td>\n",
       "      <td>2016-05-28</td>\n",
       "      <td>Had their chocolate almond croissant and it wa...</td>\n",
       "      <td>0</td>\n",
       "      <td>0</td>\n",
       "      <td>0</td>\n",
       "    </tr>\n",
       "  </tbody>\n",
       "</table>\n",
       "</div>"
      ],
      "text/plain": [
       "                review_id                 user_id             business_id  \\\n",
       "0  vkVSCC7xljjrAI4UGfnKEQ  bv2nCi5Qv5vroFiqKGopiw  AEx2SYEUJmTxVVB18LlCwA   \n",
       "1  n6QzIUObkYshz4dz2QRJTw  bv2nCi5Qv5vroFiqKGopiw  VR6GpWIda3SfvPC-lg9H3w   \n",
       "2  MV3CcKScW05u5LVfF6ok0g  bv2nCi5Qv5vroFiqKGopiw  CKC0-MOWMqoeWf6s-szl8g   \n",
       "3  IXvOzsEMYtiJI0CARmj77Q  bv2nCi5Qv5vroFiqKGopiw  ACFtxLv8pGrrxMm6EgjreA   \n",
       "4  L_9BTb55X0GDtThi6GlZ6w  bv2nCi5Qv5vroFiqKGopiw  s2I_Ni76bjJNK9yG60iD-Q   \n",
       "\n",
       "   stars        date                                               text  \\\n",
       "0      5  2016-05-28  Super simple place but amazing nonetheless. It...   \n",
       "1      5  2016-05-28  Small unassuming place that changes their menu...   \n",
       "2      5  2016-05-28  Lester's is located in a beautiful neighborhoo...   \n",
       "3      4  2016-05-28  Love coming here. Yes the place always needs t...   \n",
       "4      4  2016-05-28  Had their chocolate almond croissant and it wa...   \n",
       "\n",
       "   useful  funny  cool  \n",
       "0       0      0     0  \n",
       "1       0      0     0  \n",
       "2       0      0     0  \n",
       "3       0      0     0  \n",
       "4       0      0     0  "
      ]
     },
     "execution_count": 4,
     "metadata": {},
     "output_type": "execute_result"
    }
   ],
   "source": [
    "# LOADING THE DATASET AND SEEING THE DETAILS\n",
    "data = pd.read_csv('sdata.csv')\n",
    "data.head()"
   ]
  },
  {
   "cell_type": "code",
   "execution_count": 5,
   "metadata": {},
   "outputs": [
    {
     "data": {
      "text/plain": [
       "0    Super simple place but amazing nonetheless. It...\n",
       "1    Small unassuming place that changes their menu...\n",
       "2    Lester's is located in a beautiful neighborhoo...\n",
       "3    Love coming here. Yes the place always needs t...\n",
       "4    Had their chocolate almond croissant and it wa...\n",
       "Name: text, dtype: object"
      ]
     },
     "execution_count": 5,
     "metadata": {},
     "output_type": "execute_result"
    }
   ],
   "source": [
    "AllReviews = data['text']\n",
    "AllReviews.head()"
   ]
  },
  {
   "cell_type": "markdown",
   "metadata": {},
   "source": [
    "### Tokenizing sentences\n",
    "\n",
    "Just like CSV data is composed of features, text data is composed of sentences. Thus, a natural first step is what is known as [**sentence tokenization**](https://www.nltk.org/api/nltk.tokenize.html): splitting a long document into its component sentences. At first this might seem trivial: just split whenever you see a period. Unfortunately, the same symbol is used in other ways in English (e.g. to mark an abbreviation, as part of ellipses, etc.), and so slightly more care is required. Fortunately, there are packages that will do this for us. Within `nltk`, we can use the `nltk.sent_tokenize()` function.\n",
    "\n",
    "Note: The NLP literature uses common words in technical ways. For example a \"document\" means any standalone string that might be part of a larger collection. Sometimes these might be documents as we usually think of them (articles, papers, etc) as part of a collection of such documents. However, we'd also use \"document\" to refer to each tweet in a collection of tweets, or each review in a collection of reviews (as in the dataset we'll work with now). So remember, a \"document\" is just an item containing natural language text that is part of a larger collection of similar such items."
   ]
  },
  {
   "cell_type": "markdown",
   "metadata": {},
   "source": [
    "### Exercise 1:\n",
    "\n",
    "Give an example of a question we might be able to answer with this sort of data, and another question that we'd need additional data to answer. Assume for now that all of the reviews are coming from one business."
   ]
  },
  {
   "cell_type": "markdown",
   "metadata": {},
   "source": [
    "**Sample Answer.**"
   ]
  },
  {
   "cell_type": "markdown",
   "metadata": {},
   "source": [
    "---------"
   ]
  },
  {
   "cell_type": "markdown",
   "metadata": {},
   "source": [
    "Here, each \"document\" is just a single review. Let's take a look at the first \"document\" review in our dataset, and tokenize it:"
   ]
  },
  {
   "cell_type": "code",
   "execution_count": 6,
   "metadata": {},
   "outputs": [
    {
     "data": {
      "text/plain": [
       "\"Super simple place but amazing nonetheless. It's been around since the 30's and they still serve the same thing they started with: a bologna and salami sandwich with mustard. \\n\\nStaff was very helpful and friendly.\""
      ]
     },
     "execution_count": 6,
     "metadata": {},
     "output_type": "execute_result"
    }
   ],
   "source": [
    "# Print text of first Yelp review\n",
    "AllReviews[0]"
   ]
  },
  {
   "cell_type": "code",
   "execution_count": 7,
   "metadata": {},
   "outputs": [
    {
     "name": "stdout",
     "output_type": "stream",
     "text": [
      "Super simple place but amazing nonetheless.\n",
      "\n",
      "It's been around since the 30's and they still serve the same thing they started with: a bologna and salami sandwich with mustard.\n",
      "\n",
      "Staff was very helpful and friendly.\n",
      "\n"
     ]
    }
   ],
   "source": [
    "# sentence tokenization\n",
    "sentences = nltk.sent_tokenize(AllReviews[0])\n",
    "for sentence in sentences:\n",
    "    print(sentence)\n",
    "    print()"
   ]
  },
  {
   "cell_type": "markdown",
   "metadata": {},
   "source": [
    "It may seem like sentence tokenization is easy, but remember that the period `.` can be used in many different ways. In the document:\n",
    "    \n",
    "```\n",
    "Tom wrote a letter to Mr. Plod, his uncle. \"I am arriving on Mon. 5 Jan. Please meet me at approx. 5 p.m.\"\n",
    "```\n",
    "\n",
    "A sentence tokenizer has to be intelligent enough to tokenize this as follows:\n",
    "\n",
    "```\n",
    "[\n",
    "\"Tom wrote a letter to Mr. Plod, his uncle.\",\n",
    "\"I am arriving on Mon. 5 Jan.\"\n",
    "\"Please meet me at approx. 5 p.m.\"\n",
    "]\n",
    "```\n",
    "\n",
    "Additionally, the different ways that people use abbreviations and punctuation can make this a definitively non-trivial task."
   ]
  },
  {
   "cell_type": "markdown",
   "metadata": {},
   "source": [
    "### Tokenizing words\n",
    "\n",
    "Having split documents into sentences, we now split sentences into individual words. As with sentence tokenization, there is (i) a pretty good heuristic (split on spaces), (ii) a number of weird exceptions (e.g. compound words), and (iii) an existing package that does the job fairly well.\n",
    "\n",
    "We use the `nltk.word_tokenize()` function from `nltk`:"
   ]
  },
  {
   "cell_type": "code",
   "execution_count": 8,
   "metadata": {},
   "outputs": [
    {
     "name": "stdout",
     "output_type": "stream",
     "text": [
      "Small unassuming place that changes their menu every so often.\n",
      "['Small', 'unassuming', 'place', 'that', 'changes', 'their', 'menu', 'every', 'so', 'often', '.']\n",
      "\n",
      "Cool decor and vibe inside their 30 seat restaurant.\n",
      "['Cool', 'decor', 'and', 'vibe', 'inside', 'their', '30', 'seat', 'restaurant', '.']\n",
      "\n",
      "Call for a reservation.\n",
      "['Call', 'for', 'a', 'reservation', '.']\n",
      "\n",
      "We had their beef tartar and pork belly to start and a salmon dish and lamb meal for mains.\n",
      "['We', 'had', 'their', 'beef', 'tartar', 'and', 'pork', 'belly', 'to', 'start', 'and', 'a', 'salmon', 'dish', 'and', 'lamb', 'meal', 'for', 'mains', '.']\n",
      "\n",
      "Everything was incredible!\n",
      "['Everything', 'was', 'incredible', '!']\n",
      "\n",
      "I could go on at length about how all the listed ingredients really make their dishes amazing but honestly you just need to go.\n",
      "['I', 'could', 'go', 'on', 'at', 'length', 'about', 'how', 'all', 'the', 'listed', 'ingredients', 'really', 'make', 'their', 'dishes', 'amazing', 'but', 'honestly', 'you', 'just', 'need', 'to', 'go', '.']\n",
      "\n",
      "A bit outside of downtown montreal but take the metro out and it's less than a 10 minute walk from the station.\n",
      "['A', 'bit', 'outside', 'of', 'downtown', 'montreal', 'but', 'take', 'the', 'metro', 'out', 'and', 'it', \"'s\", 'less', 'than', 'a', '10', 'minute', 'walk', 'from', 'the', 'station', '.']\n",
      "\n"
     ]
    }
   ],
   "source": [
    "sentences = nltk.sent_tokenize(data['text'][1])\n",
    "for sentence in sentences:\n",
    "    words = nltk.word_tokenize(sentence)\n",
    "    print(sentence)\n",
    "    print(words)\n",
    "    print()"
   ]
  },
  {
   "cell_type": "markdown",
   "metadata": {},
   "source": [
    "### Exercise 2:\n",
    "\n",
    "Conduct an exploratory analysis of the sizes of reviews: find the shortest and longest reviews, then plot a histogram showing the distribution of review lengths."
   ]
  },
  {
   "cell_type": "markdown",
   "metadata": {},
   "source": [
    "**Answer.**"
   ]
  },
  {
   "cell_type": "code",
   "execution_count": 17,
   "metadata": {},
   "outputs": [
    {
     "data": {
      "text/html": [
       "<div>\n",
       "<style scoped>\n",
       "    .dataframe tbody tr th:only-of-type {\n",
       "        vertical-align: middle;\n",
       "    }\n",
       "\n",
       "    .dataframe tbody tr th {\n",
       "        vertical-align: top;\n",
       "    }\n",
       "\n",
       "    .dataframe thead th {\n",
       "        text-align: right;\n",
       "    }\n",
       "</style>\n",
       "<table border=\"1\" class=\"dataframe\">\n",
       "  <thead>\n",
       "    <tr style=\"text-align: right;\">\n",
       "      <th></th>\n",
       "      <th>review_id</th>\n",
       "      <th>user_id</th>\n",
       "      <th>business_id</th>\n",
       "      <th>stars</th>\n",
       "      <th>date</th>\n",
       "      <th>text</th>\n",
       "      <th>useful</th>\n",
       "      <th>funny</th>\n",
       "      <th>cool</th>\n",
       "    </tr>\n",
       "  </thead>\n",
       "  <tbody>\n",
       "    <tr>\n",
       "      <th>0</th>\n",
       "      <td>vkVSCC7xljjrAI4UGfnKEQ</td>\n",
       "      <td>bv2nCi5Qv5vroFiqKGopiw</td>\n",
       "      <td>AEx2SYEUJmTxVVB18LlCwA</td>\n",
       "      <td>5</td>\n",
       "      <td>2016-05-28</td>\n",
       "      <td>Super simple place but amazing nonetheless. It...</td>\n",
       "      <td>0</td>\n",
       "      <td>0</td>\n",
       "      <td>0</td>\n",
       "    </tr>\n",
       "    <tr>\n",
       "      <th>1</th>\n",
       "      <td>n6QzIUObkYshz4dz2QRJTw</td>\n",
       "      <td>bv2nCi5Qv5vroFiqKGopiw</td>\n",
       "      <td>VR6GpWIda3SfvPC-lg9H3w</td>\n",
       "      <td>5</td>\n",
       "      <td>2016-05-28</td>\n",
       "      <td>Small unassuming place that changes their menu...</td>\n",
       "      <td>0</td>\n",
       "      <td>0</td>\n",
       "      <td>0</td>\n",
       "    </tr>\n",
       "    <tr>\n",
       "      <th>2</th>\n",
       "      <td>MV3CcKScW05u5LVfF6ok0g</td>\n",
       "      <td>bv2nCi5Qv5vroFiqKGopiw</td>\n",
       "      <td>CKC0-MOWMqoeWf6s-szl8g</td>\n",
       "      <td>5</td>\n",
       "      <td>2016-05-28</td>\n",
       "      <td>Lester's is located in a beautiful neighborhoo...</td>\n",
       "      <td>0</td>\n",
       "      <td>0</td>\n",
       "      <td>0</td>\n",
       "    </tr>\n",
       "    <tr>\n",
       "      <th>3</th>\n",
       "      <td>IXvOzsEMYtiJI0CARmj77Q</td>\n",
       "      <td>bv2nCi5Qv5vroFiqKGopiw</td>\n",
       "      <td>ACFtxLv8pGrrxMm6EgjreA</td>\n",
       "      <td>4</td>\n",
       "      <td>2016-05-28</td>\n",
       "      <td>Love coming here. Yes the place always needs t...</td>\n",
       "      <td>0</td>\n",
       "      <td>0</td>\n",
       "      <td>0</td>\n",
       "    </tr>\n",
       "    <tr>\n",
       "      <th>4</th>\n",
       "      <td>L_9BTb55X0GDtThi6GlZ6w</td>\n",
       "      <td>bv2nCi5Qv5vroFiqKGopiw</td>\n",
       "      <td>s2I_Ni76bjJNK9yG60iD-Q</td>\n",
       "      <td>4</td>\n",
       "      <td>2016-05-28</td>\n",
       "      <td>Had their chocolate almond croissant and it wa...</td>\n",
       "      <td>0</td>\n",
       "      <td>0</td>\n",
       "      <td>0</td>\n",
       "    </tr>\n",
       "  </tbody>\n",
       "</table>\n",
       "</div>"
      ],
      "text/plain": [
       "                review_id                 user_id             business_id  \\\n",
       "0  vkVSCC7xljjrAI4UGfnKEQ  bv2nCi5Qv5vroFiqKGopiw  AEx2SYEUJmTxVVB18LlCwA   \n",
       "1  n6QzIUObkYshz4dz2QRJTw  bv2nCi5Qv5vroFiqKGopiw  VR6GpWIda3SfvPC-lg9H3w   \n",
       "2  MV3CcKScW05u5LVfF6ok0g  bv2nCi5Qv5vroFiqKGopiw  CKC0-MOWMqoeWf6s-szl8g   \n",
       "3  IXvOzsEMYtiJI0CARmj77Q  bv2nCi5Qv5vroFiqKGopiw  ACFtxLv8pGrrxMm6EgjreA   \n",
       "4  L_9BTb55X0GDtThi6GlZ6w  bv2nCi5Qv5vroFiqKGopiw  s2I_Ni76bjJNK9yG60iD-Q   \n",
       "\n",
       "   stars        date                                               text  \\\n",
       "0      5  2016-05-28  Super simple place but amazing nonetheless. It...   \n",
       "1      5  2016-05-28  Small unassuming place that changes their menu...   \n",
       "2      5  2016-05-28  Lester's is located in a beautiful neighborhoo...   \n",
       "3      4  2016-05-28  Love coming here. Yes the place always needs t...   \n",
       "4      4  2016-05-28  Had their chocolate almond croissant and it wa...   \n",
       "\n",
       "   useful  funny  cool  \n",
       "0       0      0     0  \n",
       "1       0      0     0  \n",
       "2       0      0     0  \n",
       "3       0      0     0  \n",
       "4       0      0     0  "
      ]
     },
     "execution_count": 17,
     "metadata": {},
     "output_type": "execute_result"
    }
   ],
   "source": [
    "data.head()"
   ]
  },
  {
   "cell_type": "code",
   "execution_count": 20,
   "metadata": {},
   "outputs": [
    {
     "data": {
      "text/plain": [
       "<matplotlib.axes._subplots.AxesSubplot at 0x20cd73dfbc8>"
      ]
     },
     "execution_count": 20,
     "metadata": {},
     "output_type": "execute_result"
    },
    {
     "data": {
      "image/png": "[encoded data removed]",
      "text/plain": [
       "<Figure size 432x288 with 1 Axes>"
      ]
     },
     "metadata": {
      "needs_background": "light"
     },
     "output_type": "display_data"
    }
   ],
   "source": [
    "# data[\"text\"].str.len().plot(kind=\"hist\")\n",
    "sns.distplot(data[\"text\"].str.len())"
   ]
  },
  {
   "cell_type": "markdown",
   "metadata": {},
   "source": [
    "----------"
   ]
  },
  {
   "cell_type": "markdown",
   "metadata": {},
   "source": [
    "## Text visualization with word clouds"
   ]
  },
  {
   "cell_type": "markdown",
   "metadata": {},
   "source": [
    "Just like visualization is crucial for standard CSV data, it is also important for text data. But text doesn't lend itself to histograms or scatterplots the way that numerical or even categorical data do. In such cases, **word clouds** are a common and <font color=\"orange\">sometimes</font> useful tool."
   ]
  },
  {
   "cell_type": "code",
   "execution_count": 21,
   "metadata": {},
   "outputs": [
    {
     "data": {
      "image/png": "[encoded data removed]",
      "text/plain": [
       "<Figure size 432x288 with 1 Axes>"
      ]
     },
     "metadata": {
      "needs_background": "light"
     },
     "output_type": "display_data"
    }
   ],
   "source": [
    "# Importing the required parameter for plotting \n",
    "import matplotlib.pyplot as plt\n",
    "from wordcloud import WordCloud\n",
    "word_cloud_text = ''.join(data.text)\n",
    "wordcloud = WordCloud(max_font_size=100, max_words=100, background_color=\"white\",\\\n",
    "                          scale = 10,width=800, height=400).generate(word_cloud_text)\n",
    "plt.figure()\n",
    "plt.imshow(wordcloud, interpolation=\"bilinear\")\n",
    "plt.axis(\"off\")\n",
    "plt.show()"
   ]
  },
  {
   "cell_type": "markdown",
   "metadata": {},
   "source": [
    "**Note:** While wordclouds can be a useful way of quickly gaining high level insights into raw textual data, they are also limited. In some ways, they can be seen as the pie charts of NLP: often used, but also often hated. [Some](https://www.niemanlab.org/2011/10/word-clouds-considered-harmful/) [people](https://towardsdatascience.com/can-we-please-stop-using-word-clouds-eca2bbda7b9d) would prefer if they didn't exist at all. If used in the correct way, however, they definitely deserve their place in a data scientist's toolbelt.\n",
    "\n",
    "The main problem with word clouds is that they are difficult to interpret in a standard way. The layout algorithm has some randomness involved and although more common words are shown more prominently, it's not possible to look at a word cloud and know which words are the most important, or how much more important these are than other words. Colours and rotation are also used randomly, making some words (e.g the ones in bright colours, positioned closer to the centre, with horizontal rotation) seem more important when in fact they are no more important than other words which were randomly assigned a less noticeable combination of color, rotation, and position."
   ]
  },
  {
   "cell_type": "markdown",
   "metadata": {},
   "source": [
    "### Exercise 3:\n",
    "\n",
    "Write a function `word_cloud_rating(data, star_value)` that constructs a word cloud from the subset of `data` that exhibit a certain `star_value`. Visualize the results of this function for 1-star reviews."
   ]
  },
  {
   "cell_type": "markdown",
   "metadata": {},
   "source": [
    "**Answer.**"
   ]
  },
  {
   "cell_type": "markdown",
   "metadata": {},
   "source": [
    "----------"
   ]
  },
  {
   "cell_type": "markdown",
   "metadata": {},
   "source": [
    "### Exercise 4:\n",
    "\n",
    "The word \"good\" seems to appear quite frequently in the negative reviews. Investigate why that is and come up with a reasonable explanation."
   ]
  },
  {
   "cell_type": "markdown",
   "metadata": {},
   "source": [
    " **Answer.**"
   ]
  },
  {
   "cell_type": "markdown",
   "metadata": {},
   "source": [
    "----------"
   ]
  },
  {
   "cell_type": "markdown",
   "metadata": {},
   "source": [
    "## n-grams\n",
    "\n",
    "Since 1-grams are insufficient to understand the significance of certain words in our text, it is natural to consider blocks of words, or **n-grams**.\n",
    "\n",
    "The simplest version of the n-gram model, for $n > 1$, is the **bigram** model, which looks at pairs of consecutive words. For example, the sentence \"The quick brown fox jumps over the lazy dog\" would have tokens \"the quick\", \"quick brown\",..., \"lazy dog\". The following image explains this concept:\n",
    "\n",
    "<img src=\"ngrams.png\" alt=\"ngrams\" width=\"500\"/>\n",
    "\n",
    "This has obvious advantages and disadvantages over looking at words individually:\n",
    "\n",
    "1. This retains the structure of the overall document, and\n",
    "2. It paves the way for analyzing words in contex; however,\n",
    "3. The dimension is vastly larger\n",
    "\n",
    "In practice, this last challenge can be truly daunting. As an example, *War and Peace* has 3 million characters, which translates to several hundred thousand 1-grams (words). If you consider that the set of all possible bigrams can be as large as the square of the number of 1-grams, this gets us to a hundred billion possible bigrams! If classical ML techniques are not suitable for training on 3 million characters, how can they possibly deal with a hundred billion dimensions?\n",
    "\n",
    "For this reason, it is often prudent to start by extracting as much value out of 1-grams as possible, before working our way up to more complex structures."
   ]
  },
  {
   "cell_type": "markdown",
   "metadata": {},
   "source": [
    "In this section we also start to look again at our main application: calculating some \"interesting\" features of our corpus of reviews.\n",
    "\n",
    "When thinking about word analysis, the main topic of interest is finding an *efficient* and *low-dimensional* representation in order to facilitate document visualization and larger-scale analyses. We discuss two broad categories of word representations:\n",
    "\n",
    "1. `Count-based representations`: word-word and word-document matrices.\n",
    "2. `Word embeddings`: spectral embedding, UMAP, word2vec, GloVe, and many many more.\n",
    "\n",
    "These are often used to assist with downstream tasks such as clustering, ranking and labeling, which will be briefly discussed in a future case. Word embeddings in particular have become something of a posterchild. These, combined with neural networks (which will also be discussed in a future case!), have led to many of the recent headline improvements in NLP tasks."
   ]
  },
  {
   "cell_type": "markdown",
   "metadata": {},
   "source": [
    "### Count-based representations\n",
    "\n",
    "n-grams fall under a broader category of techniques otherwise known as [**count-based representations**](https://scikit-learn.org/stable/modules/feature_extraction.html#common-vectorizer-usage). These are techniques to analyze documents by indicating how frequently certain types of structures occur throughout.\n",
    "\n",
    "Let's start with 1-grams (words). The simplest type of information would be whether a particular word occurs in particular documents. This leads to **word-document co-occurrence matrices**, where the $(W, X)$ entry of the word-document matrix is set to 1 if word $W$ occurs in document $X$, and 0 otherwise.\n",
    "\n",
    "There are many variants of this. In lieu of the fact that we are looking for count-based representations of our documents, one natural variable is the following: the $(W, X)$ entry of the word-document matrix equals the number of times that word $W$ occurs in document $X$, rather than merely being a binary variable.\n",
    "\n",
    "Let's create a word-document co-occurrence matrix for our set of reviews:"
   ]
  },
  {
   "cell_type": "code",
   "execution_count": 22,
   "metadata": {},
   "outputs": [
    {
     "data": {
      "text/html": [
       "<div>\n",
       "<style scoped>\n",
       "    .dataframe tbody tr th:only-of-type {\n",
       "        vertical-align: middle;\n",
       "    }\n",
       "\n",
       "    .dataframe tbody tr th {\n",
       "        vertical-align: top;\n",
       "    }\n",
       "\n",
       "    .dataframe thead th {\n",
       "        text-align: right;\n",
       "    }\n",
       "</style>\n",
       "<table border=\"1\" class=\"dataframe\">\n",
       "  <thead>\n",
       "    <tr style=\"text-align: right;\">\n",
       "      <th></th>\n",
       "      <th>00</th>\n",
       "      <th>000</th>\n",
       "      <th>0014</th>\n",
       "      <th>00429</th>\n",
       "      <th>00a</th>\n",
       "      <th>00am</th>\n",
       "      <th>00p</th>\n",
       "      <th>00pm</th>\n",
       "      <th>01</th>\n",
       "      <th>0146</th>\n",
       "      <th>...</th>\n",
       "      <th>可能說中文啊</th>\n",
       "      <th>在拉斯维加斯买了新房子</th>\n",
       "      <th>布艺隔热性不强</th>\n",
       "      <th>所以用了实木的百叶窗</th>\n",
       "      <th>推荐卓越窗帘给大家</th>\n",
       "      <th>本来想安装布艺窗帘</th>\n",
       "      <th>知道拉斯维加斯特别热</th>\n",
       "      <th>而且价格实惠</th>\n",
       "      <th>隔热</th>\n",
       "      <th>非常漂亮</th>\n",
       "    </tr>\n",
       "  </thead>\n",
       "  <tbody>\n",
       "    <tr>\n",
       "      <th>0</th>\n",
       "      <td>0</td>\n",
       "      <td>0</td>\n",
       "      <td>0</td>\n",
       "      <td>0</td>\n",
       "      <td>0</td>\n",
       "      <td>0</td>\n",
       "      <td>0</td>\n",
       "      <td>0</td>\n",
       "      <td>0</td>\n",
       "      <td>0</td>\n",
       "      <td>...</td>\n",
       "      <td>0</td>\n",
       "      <td>0</td>\n",
       "      <td>0</td>\n",
       "      <td>0</td>\n",
       "      <td>0</td>\n",
       "      <td>0</td>\n",
       "      <td>0</td>\n",
       "      <td>0</td>\n",
       "      <td>0</td>\n",
       "      <td>0</td>\n",
       "    </tr>\n",
       "    <tr>\n",
       "      <th>1</th>\n",
       "      <td>0</td>\n",
       "      <td>0</td>\n",
       "      <td>0</td>\n",
       "      <td>0</td>\n",
       "      <td>0</td>\n",
       "      <td>0</td>\n",
       "      <td>0</td>\n",
       "      <td>0</td>\n",
       "      <td>0</td>\n",
       "      <td>0</td>\n",
       "      <td>...</td>\n",
       "      <td>0</td>\n",
       "      <td>0</td>\n",
       "      <td>0</td>\n",
       "      <td>0</td>\n",
       "      <td>0</td>\n",
       "      <td>0</td>\n",
       "      <td>0</td>\n",
       "      <td>0</td>\n",
       "      <td>0</td>\n",
       "      <td>0</td>\n",
       "    </tr>\n",
       "    <tr>\n",
       "      <th>2</th>\n",
       "      <td>0</td>\n",
       "      <td>0</td>\n",
       "      <td>0</td>\n",
       "      <td>0</td>\n",
       "      <td>0</td>\n",
       "      <td>0</td>\n",
       "      <td>0</td>\n",
       "      <td>0</td>\n",
       "      <td>0</td>\n",
       "      <td>0</td>\n",
       "      <td>...</td>\n",
       "      <td>0</td>\n",
       "      <td>0</td>\n",
       "      <td>0</td>\n",
       "      <td>0</td>\n",
       "      <td>0</td>\n",
       "      <td>0</td>\n",
       "      <td>0</td>\n",
       "      <td>0</td>\n",
       "      <td>0</td>\n",
       "      <td>0</td>\n",
       "    </tr>\n",
       "    <tr>\n",
       "      <th>3</th>\n",
       "      <td>0</td>\n",
       "      <td>0</td>\n",
       "      <td>0</td>\n",
       "      <td>0</td>\n",
       "      <td>0</td>\n",
       "      <td>0</td>\n",
       "      <td>0</td>\n",
       "      <td>0</td>\n",
       "      <td>0</td>\n",
       "      <td>0</td>\n",
       "      <td>...</td>\n",
       "      <td>0</td>\n",
       "      <td>0</td>\n",
       "      <td>0</td>\n",
       "      <td>0</td>\n",
       "      <td>0</td>\n",
       "      <td>0</td>\n",
       "      <td>0</td>\n",
       "      <td>0</td>\n",
       "      <td>0</td>\n",
       "      <td>0</td>\n",
       "    </tr>\n",
       "    <tr>\n",
       "      <th>4</th>\n",
       "      <td>0</td>\n",
       "      <td>0</td>\n",
       "      <td>0</td>\n",
       "      <td>0</td>\n",
       "      <td>0</td>\n",
       "      <td>0</td>\n",
       "      <td>0</td>\n",
       "      <td>0</td>\n",
       "      <td>0</td>\n",
       "      <td>0</td>\n",
       "      <td>...</td>\n",
       "      <td>0</td>\n",
       "      <td>0</td>\n",
       "      <td>0</td>\n",
       "      <td>0</td>\n",
       "      <td>0</td>\n",
       "      <td>0</td>\n",
       "      <td>0</td>\n",
       "      <td>0</td>\n",
       "      <td>0</td>\n",
       "      <td>0</td>\n",
       "    </tr>\n",
       "  </tbody>\n",
       "</table>\n",
       "<p>5 rows × 31803 columns</p>\n",
       "</div>"
      ],
      "text/plain": [
       "   00  000  0014  00429  00a  00am  00p  00pm  01  0146  ...  可能說中文啊  \\\n",
       "0   0    0     0      0    0     0    0     0   0     0  ...       0   \n",
       "1   0    0     0      0    0     0    0     0   0     0  ...       0   \n",
       "2   0    0     0      0    0     0    0     0   0     0  ...       0   \n",
       "3   0    0     0      0    0     0    0     0   0     0  ...       0   \n",
       "4   0    0     0      0    0     0    0     0   0     0  ...       0   \n",
       "\n",
       "   在拉斯维加斯买了新房子  布艺隔热性不强  所以用了实木的百叶窗  推荐卓越窗帘给大家  本来想安装布艺窗帘  知道拉斯维加斯特别热  而且价格实惠  \\\n",
       "0            0        0           0          0          0           0       0   \n",
       "1            0        0           0          0          0           0       0   \n",
       "2            0        0           0          0          0           0       0   \n",
       "3            0        0           0          0          0           0       0   \n",
       "4            0        0           0          0          0           0       0   \n",
       "\n",
       "   隔热  非常漂亮  \n",
       "0   0     0  \n",
       "1   0     0  \n",
       "2   0     0  \n",
       "3   0     0  \n",
       "4   0     0  \n",
       "\n",
       "[5 rows x 31803 columns]"
      ]
     },
     "execution_count": 22,
     "metadata": {},
     "output_type": "execute_result"
    }
   ],
   "source": [
    "# The following code creates a word-document matrix.\n",
    "from sklearn.feature_extraction.text import CountVectorizer\n",
    "\n",
    "vec = CountVectorizer()\n",
    "X = vec.fit_transform(AllReviews)\n",
    "df = pd.DataFrame(X.toarray(), columns=vec.get_feature_names())\n",
    "df.head()"
   ]
  },
  {
   "cell_type": "markdown",
   "metadata": {},
   "source": [
    "### Exercise 5:\n",
    "\n",
    "Find all the high-frequency (top 1%) and low-frequency (bottom 1%) words in the reviews overall. (Hint: import the `Counter()` function from the `collections` class.)"
   ]
  },
  {
   "cell_type": "markdown",
   "metadata": {},
   "source": [
    "**Answer.**"
   ]
  },
  {
   "cell_type": "code",
   "execution_count": 33,
   "metadata": {},
   "outputs": [
    {
     "ename": "AttributeError",
     "evalue": "'Counter' object has no attribute 'most_frecuent'",
     "output_type": "error",
     "traceback": [
      "\u001b[1;31m---------------------------------------------------------------------------\u001b[0m",
      "\u001b[1;31mAttributeError\u001b[0m                            Traceback (most recent call last)",
      "\u001b[1;32m<ipython-input-33-bf26252a7bcf>\u001b[0m in \u001b[0;36m<module>\u001b[1;34m\u001b[0m\n\u001b[0;32m      2\u001b[0m \u001b[0mallWords\u001b[0m \u001b[1;33m=\u001b[0m \u001b[1;34m' '\u001b[0m\u001b[1;33m.\u001b[0m\u001b[0mjoin\u001b[0m\u001b[1;33m(\u001b[0m\u001b[0mAllReviews\u001b[0m\u001b[1;33m)\u001b[0m\u001b[1;33m\u001b[0m\u001b[1;33m\u001b[0m\u001b[0m\n\u001b[0;32m      3\u001b[0m \u001b[0mfrq_count\u001b[0m \u001b[1;33m=\u001b[0m \u001b[0mCounter\u001b[0m\u001b[1;33m(\u001b[0m\u001b[0mallWords\u001b[0m\u001b[1;33m)\u001b[0m\u001b[1;33m\u001b[0m\u001b[1;33m\u001b[0m\u001b[0m\n\u001b[1;32m----> 4\u001b[1;33m \u001b[0mfrq_count\u001b[0m\u001b[1;33m.\u001b[0m\u001b[0mmost_frecuent\u001b[0m\u001b[1;33m(\u001b[0m\u001b[1;36m100\u001b[0m\u001b[1;33m)\u001b[0m\u001b[1;33m\u001b[0m\u001b[1;33m\u001b[0m\u001b[0m\n\u001b[0m",
      "\u001b[1;31mAttributeError\u001b[0m: 'Counter' object has no attribute 'most_frecuent'"
     ]
    }
   ],
   "source": [
    "from collections import Counter\n",
    "allWords = ' '.join(AllReviews)\n",
    "frq_count = Counter(allWords)\n",
    "frq_count.most_frecuent(100)"
   ]
  },
  {
   "cell_type": "markdown",
   "metadata": {},
   "source": [
    "----------"
   ]
  },
  {
   "cell_type": "markdown",
   "metadata": {},
   "source": [
    "Let's do the same for bigrams. Here is the code to get the set of bigrams for the first 5 reviews:"
   ]
  },
  {
   "cell_type": "code",
   "execution_count": 21,
   "metadata": {},
   "outputs": [
    {
     "data": {
      "text/plain": [
       "[('Super', 'simple'),\n",
       " ('simple', 'place'),\n",
       " ('place', 'but'),\n",
       " ('but', 'amazing'),\n",
       " ('amazing', 'nonetheless'),\n",
       " ('nonetheless', '.'),\n",
       " ('.', 'It'),\n",
       " ('It', \"'s\"),\n",
       " (\"'s\", 'been'),\n",
       " ('been', 'around'),\n",
       " ('around', 'since'),\n",
       " ('since', 'the'),\n",
       " ('the', '30'),\n",
       " ('30', \"'s\"),\n",
       " (\"'s\", 'and'),\n",
       " ('and', 'they'),\n",
       " ('they', 'still'),\n",
       " ('still', 'serve'),\n",
       " ('serve', 'the'),\n",
       " ('the', 'same'),\n",
       " ('same', 'thing'),\n",
       " ('thing', 'they'),\n",
       " ('they', 'started'),\n",
       " ('started', 'with'),\n",
       " ('with', ':'),\n",
       " (':', 'a'),\n",
       " ('a', 'bologna'),\n",
       " ('bologna', 'and'),\n",
       " ('and', 'salami'),\n",
       " ('salami', 'sandwich'),\n",
       " ('sandwich', 'with'),\n",
       " ('with', 'mustard'),\n",
       " ('mustard', '.'),\n",
       " ('.', 'Staff'),\n",
       " ('Staff', 'was'),\n",
       " ('was', 'very'),\n",
       " ('very', 'helpful'),\n",
       " ('helpful', 'and'),\n",
       " ('and', 'friendly.Small'),\n",
       " ('friendly.Small', 'unassuming'),\n",
       " ('unassuming', 'place'),\n",
       " ('place', 'that'),\n",
       " ('that', 'changes'),\n",
       " ('changes', 'their'),\n",
       " ('their', 'menu'),\n",
       " ('menu', 'every'),\n",
       " ('every', 'so'),\n",
       " ('so', 'often'),\n",
       " ('often', '.'),\n",
       " ('.', 'Cool'),\n",
       " ('Cool', 'decor'),\n",
       " ('decor', 'and'),\n",
       " ('and', 'vibe'),\n",
       " ('vibe', 'inside'),\n",
       " ('inside', 'their'),\n",
       " ('their', '30'),\n",
       " ('30', 'seat'),\n",
       " ('seat', 'restaurant'),\n",
       " ('restaurant', '.'),\n",
       " ('.', 'Call'),\n",
       " ('Call', 'for'),\n",
       " ('for', 'a'),\n",
       " ('a', 'reservation'),\n",
       " ('reservation', '.'),\n",
       " ('.', 'We'),\n",
       " ('We', 'had'),\n",
       " ('had', 'their'),\n",
       " ('their', 'beef'),\n",
       " ('beef', 'tartar'),\n",
       " ('tartar', 'and'),\n",
       " ('and', 'pork'),\n",
       " ('pork', 'belly'),\n",
       " ('belly', 'to'),\n",
       " ('to', 'start'),\n",
       " ('start', 'and'),\n",
       " ('and', 'a'),\n",
       " ('a', 'salmon'),\n",
       " ('salmon', 'dish'),\n",
       " ('dish', 'and'),\n",
       " ('and', 'lamb'),\n",
       " ('lamb', 'meal'),\n",
       " ('meal', 'for'),\n",
       " ('for', 'mains'),\n",
       " ('mains', '.'),\n",
       " ('.', 'Everything'),\n",
       " ('Everything', 'was'),\n",
       " ('was', 'incredible'),\n",
       " ('incredible', '!'),\n",
       " ('!', 'I'),\n",
       " ('I', 'could'),\n",
       " ('could', 'go'),\n",
       " ('go', 'on'),\n",
       " ('on', 'at'),\n",
       " ('at', 'length'),\n",
       " ('length', 'about'),\n",
       " ('about', 'how'),\n",
       " ('how', 'all'),\n",
       " ('all', 'the'),\n",
       " ('the', 'listed'),\n",
       " ('listed', 'ingredients'),\n",
       " ('ingredients', 'really'),\n",
       " ('really', 'make'),\n",
       " ('make', 'their'),\n",
       " ('their', 'dishes'),\n",
       " ('dishes', 'amazing'),\n",
       " ('amazing', 'but'),\n",
       " ('but', 'honestly'),\n",
       " ('honestly', 'you'),\n",
       " ('you', 'just'),\n",
       " ('just', 'need'),\n",
       " ('need', 'to'),\n",
       " ('to', 'go'),\n",
       " ('go', '.'),\n",
       " ('.', 'A'),\n",
       " ('A', 'bit'),\n",
       " ('bit', 'outside'),\n",
       " ('outside', 'of'),\n",
       " ('of', 'downtown'),\n",
       " ('downtown', 'montreal'),\n",
       " ('montreal', 'but'),\n",
       " ('but', 'take'),\n",
       " ('take', 'the'),\n",
       " ('the', 'metro'),\n",
       " ('metro', 'out'),\n",
       " ('out', 'and'),\n",
       " ('and', 'it'),\n",
       " ('it', \"'s\"),\n",
       " (\"'s\", 'less'),\n",
       " ('less', 'than'),\n",
       " ('than', 'a'),\n",
       " ('a', '10'),\n",
       " ('10', 'minute'),\n",
       " ('minute', 'walk'),\n",
       " ('walk', 'from'),\n",
       " ('from', 'the'),\n",
       " ('the', 'station.Lester'),\n",
       " ('station.Lester', \"'s\"),\n",
       " (\"'s\", 'is'),\n",
       " ('is', 'located'),\n",
       " ('located', 'in'),\n",
       " ('in', 'a'),\n",
       " ('a', 'beautiful'),\n",
       " ('beautiful', 'neighborhood'),\n",
       " ('neighborhood', 'and'),\n",
       " ('and', 'has'),\n",
       " ('has', 'been'),\n",
       " ('been', 'there'),\n",
       " ('there', 'since'),\n",
       " ('since', '1951'),\n",
       " ('1951', '.'),\n",
       " ('.', 'They'),\n",
       " ('They', 'are'),\n",
       " ('are', 'known'),\n",
       " ('known', 'for'),\n",
       " ('for', 'smoked'),\n",
       " ('smoked', 'meat'),\n",
       " ('meat', 'which'),\n",
       " ('which', 'most'),\n",
       " ('most', 'deli'),\n",
       " ('deli', \"'s\"),\n",
       " (\"'s\", 'have'),\n",
       " ('have', 'but'),\n",
       " ('but', 'their'),\n",
       " ('their', 'brisket'),\n",
       " ('brisket', 'sandwich'),\n",
       " ('sandwich', 'is'),\n",
       " ('is', 'what'),\n",
       " ('what', 'I'),\n",
       " ('I', 'come'),\n",
       " ('come', 'to'),\n",
       " ('to', 'montreal'),\n",
       " ('montreal', 'for'),\n",
       " ('for', '.'),\n",
       " ('.', 'They'),\n",
       " ('They', \"'ve\"),\n",
       " (\"'ve\", 'got'),\n",
       " ('got', 'about'),\n",
       " ('about', '12'),\n",
       " ('12', 'seats'),\n",
       " ('seats', 'outside'),\n",
       " ('outside', 'to'),\n",
       " ('to', 'go'),\n",
       " ('go', 'along'),\n",
       " ('along', 'with'),\n",
       " ('with', 'the'),\n",
       " ('the', 'inside'),\n",
       " ('inside', '.'),\n",
       " ('.', 'The'),\n",
       " ('The', 'smoked'),\n",
       " ('smoked', 'meat'),\n",
       " ('meat', 'is'),\n",
       " ('is', 'up'),\n",
       " ('up', 'there'),\n",
       " ('there', 'in'),\n",
       " ('in', 'quality'),\n",
       " ('quality', 'and'),\n",
       " ('and', 'taste'),\n",
       " ('taste', 'with'),\n",
       " ('with', 'Schwartz'),\n",
       " ('Schwartz', \"'s\"),\n",
       " (\"'s\", 'and'),\n",
       " ('and', 'you'),\n",
       " ('you', \"'ll\"),\n",
       " (\"'ll\", 'find'),\n",
       " ('find', 'less'),\n",
       " ('less', 'tourists'),\n",
       " ('tourists', 'at'),\n",
       " ('at', 'Lester'),\n",
       " ('Lester', \"'s\"),\n",
       " (\"'s\", 'as'),\n",
       " ('as', 'well.Love'),\n",
       " ('well.Love', 'coming'),\n",
       " ('coming', 'here'),\n",
       " ('here', '.'),\n",
       " ('.', 'Yes'),\n",
       " ('Yes', 'the'),\n",
       " ('the', 'place'),\n",
       " ('place', 'always'),\n",
       " ('always', 'needs'),\n",
       " ('needs', 'the'),\n",
       " ('the', 'floor'),\n",
       " ('floor', 'swept'),\n",
       " ('swept', 'but'),\n",
       " ('but', 'when'),\n",
       " ('when', 'you'),\n",
       " ('you', 'give'),\n",
       " ('give', 'out'),\n",
       " ('out', 'peanuts'),\n",
       " ('peanuts', 'in'),\n",
       " ('in', 'the'),\n",
       " ('the', 'shell'),\n",
       " ('shell', 'how'),\n",
       " ('how', 'wo'),\n",
       " ('wo', \"n't\"),\n",
       " (\"n't\", 'it'),\n",
       " ('it', 'always'),\n",
       " ('always', 'be'),\n",
       " ('be', 'a'),\n",
       " ('a', 'bit'),\n",
       " ('bit', 'dirty'),\n",
       " ('dirty', '.'),\n",
       " ('.', 'The'),\n",
       " ('The', 'food'),\n",
       " ('food', 'speaks'),\n",
       " ('speaks', 'for'),\n",
       " ('for', 'itself'),\n",
       " ('itself', ','),\n",
       " (',', 'so'),\n",
       " ('so', 'good'),\n",
       " ('good', '.'),\n",
       " ('.', 'Burgers'),\n",
       " ('Burgers', 'are'),\n",
       " ('are', 'made'),\n",
       " ('made', 'to'),\n",
       " ('to', 'order'),\n",
       " ('order', 'and'),\n",
       " ('and', 'the'),\n",
       " ('the', 'meat'),\n",
       " ('meat', 'is'),\n",
       " ('is', 'put'),\n",
       " ('put', 'on'),\n",
       " ('on', 'the'),\n",
       " ('the', 'grill'),\n",
       " ('grill', 'when'),\n",
       " ('when', 'you'),\n",
       " ('you', 'order'),\n",
       " ('order', 'your'),\n",
       " ('your', 'sandwich'),\n",
       " ('sandwich', '.'),\n",
       " ('.', 'Getting'),\n",
       " ('Getting', 'the'),\n",
       " ('the', 'small'),\n",
       " ('small', 'burger'),\n",
       " ('burger', 'just'),\n",
       " ('just', 'means'),\n",
       " ('means', '1'),\n",
       " ('1', 'patty'),\n",
       " ('patty', ','),\n",
       " (',', 'the'),\n",
       " ('the', 'regular'),\n",
       " ('regular', 'is'),\n",
       " ('is', 'a'),\n",
       " ('a', '2'),\n",
       " ('2', 'patty'),\n",
       " ('patty', 'burger'),\n",
       " ('burger', 'which'),\n",
       " ('which', 'is'),\n",
       " ('is', 'twice'),\n",
       " ('twice', 'the'),\n",
       " ('the', 'deliciousness'),\n",
       " ('deliciousness', '.'),\n",
       " ('.', 'Getting'),\n",
       " ('Getting', 'the'),\n",
       " ('the', 'Cajun'),\n",
       " ('Cajun', 'fries'),\n",
       " ('fries', 'adds'),\n",
       " ('adds', 'a'),\n",
       " ('a', 'bit'),\n",
       " ('bit', 'of'),\n",
       " ('of', 'spice'),\n",
       " ('spice', 'to'),\n",
       " ('to', 'them'),\n",
       " ('them', 'and'),\n",
       " ('and', 'whatever'),\n",
       " ('whatever', 'size'),\n",
       " ('size', 'you'),\n",
       " ('you', 'order'),\n",
       " ('order', 'they'),\n",
       " ('they', 'always'),\n",
       " ('always', 'throw'),\n",
       " ('throw', 'more'),\n",
       " ('more', 'fries'),\n",
       " ('fries', '('),\n",
       " ('(', 'a'),\n",
       " ('a', 'lot'),\n",
       " ('lot', 'more'),\n",
       " ('more', 'fries'),\n",
       " ('fries', ')'),\n",
       " (')', 'into'),\n",
       " ('into', 'the'),\n",
       " ('the', 'bag.Had'),\n",
       " ('bag.Had', 'their'),\n",
       " ('their', 'chocolate'),\n",
       " ('chocolate', 'almond'),\n",
       " ('almond', 'croissant'),\n",
       " ('croissant', 'and'),\n",
       " ('and', 'it'),\n",
       " ('it', 'was'),\n",
       " ('was', 'amazing'),\n",
       " ('amazing', '!'),\n",
       " ('!', 'So'),\n",
       " ('So', 'light'),\n",
       " ('light', 'and'),\n",
       " ('and', 'buttery'),\n",
       " ('buttery', 'and'),\n",
       " ('and', 'oh'),\n",
       " ('oh', 'my'),\n",
       " ('my', 'how'),\n",
       " ('how', 'chocolaty'),\n",
       " ('chocolaty', '.'),\n",
       " ('.', 'If'),\n",
       " ('If', 'you'),\n",
       " ('you', \"'re\"),\n",
       " (\"'re\", 'looking'),\n",
       " ('looking', 'for'),\n",
       " ('for', 'a'),\n",
       " ('a', 'light'),\n",
       " ('light', 'breakfast'),\n",
       " ('breakfast', 'then'),\n",
       " ('then', 'head'),\n",
       " ('head', 'out'),\n",
       " ('out', 'here'),\n",
       " ('here', '.'),\n",
       " ('.', 'Perfect'),\n",
       " ('Perfect', 'spot'),\n",
       " ('spot', 'for'),\n",
       " ('for', 'a'),\n",
       " ('a', 'coffee\\\\/latté'),\n",
       " ('coffee\\\\/latté', 'before'),\n",
       " ('before', 'heading'),\n",
       " ('heading', 'out'),\n",
       " ('out', 'to'),\n",
       " ('to', 'the'),\n",
       " ('the', 'old'),\n",
       " ('old', 'port')]"
      ]
     },
     "execution_count": 21,
     "metadata": {},
     "output_type": "execute_result"
    }
   ],
   "source": [
    "from nltk.util import ngrams\n",
    "\n",
    "first_5_revs = data.text[0:5]\n",
    "word_tokens = nltk.word_tokenize(''.join(first_5_revs))\n",
    "list(ngrams(word_tokens, 2)) #ngrams(word_tokens,n) gives the n-grams."
   ]
  },
  {
   "cell_type": "markdown",
   "metadata": {},
   "source": [
    "### Exercise 6:\n",
    "\n",
    "Write a function called `top_k_ngrams(word_tokens, n, k)` for printing out the top $k$ n-grams. Use this function to get the top 10 1-grams, 2-grams, and 3-grams from the first 1000 reviews in our dataset."
   ]
  },
  {
   "cell_type": "markdown",
   "metadata": {},
   "source": [
    "**Answer.**"
   ]
  },
  {
   "cell_type": "markdown",
   "metadata": {},
   "source": [
    "---------"
   ]
  },
  {
   "cell_type": "markdown",
   "metadata": {},
   "source": [
    "## Stop words\n",
    "\n",
    "You may have noticed a pattern in the types of words that show up in the top 10 1-grams, 2-grams, and 3-grams. In particular, these are common words that appear in every sentence of the English language: pronoums like \"I\", prepositions like \"but\", \"of\", \"and\", articles like \"the\", etc. These very common words are usually uninformative, and their very large occurrence values can distort the results of many NLP algorithms.\n",
    "\n",
    "For this reason, it is common to pre-process text by removing words that you have a reason to believe are uninformative; these words are called [**stop words**](https://en.wikipedia.org/wiki/Stop_words). Usually, it suffices to simply treat extremely common words as stop words. However, for specific types of applications it might make sense to use other stop words; e.g. the word \"burger\" when analyzing reviews of burger chains.\n",
    "\n",
    "(Note that stop words are often removed by default as a cleaning step in all NLP tasks. However, sometimes they can be useful. For example in authorship attribution (automatically detecting who wrote a specific piece of text by their 'writing style'), stop words can be one of the most useful features, as they appear in nearly all texts, and yet each author uses them in slightly different ways.)\n",
    "\n",
    "The `nltk` library has a standard list of stopwords, which you can download by writing `nltk.download(“stopwords”)`. We can then load the stopwords package from the nltk.corpus and use it to load the stop words:"
   ]
  },
  {
   "cell_type": "code",
   "execution_count": 26,
   "metadata": {
    "scrolled": true
   },
   "outputs": [
    {
     "name": "stdout",
     "output_type": "stream",
     "text": [
      "['i', 'me', 'my', 'myself', 'we', 'our', 'ours', 'ourselves', 'you', \"you're\", \"you've\", \"you'll\", \"you'd\", 'your', 'yours', 'yourself', 'yourselves', 'he', 'him', 'his', 'himself', 'she', \"she's\", 'her', 'hers', 'herself', 'it', \"it's\", 'its', 'itself', 'they', 'them', 'their', 'theirs', 'themselves', 'what', 'which', 'who', 'whom', 'this', 'that', \"that'll\", 'these', 'those', 'am', 'is', 'are', 'was', 'were', 'be', 'been', 'being', 'have', 'has', 'had', 'having', 'do', 'does', 'did', 'doing', 'a', 'an', 'the', 'and', 'but', 'if', 'or', 'because', 'as', 'until', 'while', 'of', 'at', 'by', 'for', 'with', 'about', 'against', 'between', 'into', 'through', 'during', 'before', 'after', 'above', 'below', 'to', 'from', 'up', 'down', 'in', 'out', 'on', 'off', 'over', 'under', 'again', 'further', 'then', 'once', 'here', 'there', 'when', 'where', 'why', 'how', 'all', 'any', 'both', 'each', 'few', 'more', 'most', 'other', 'some', 'such', 'no', 'nor', 'not', 'only', 'own', 'same', 'so', 'than', 'too', 'very', 's', 't', 'can', 'will', 'just', 'don', \"don't\", 'should', \"should've\", 'now', 'd', 'll', 'm', 'o', 're', 've', 'y', 'ain', 'aren', \"aren't\", 'couldn', \"couldn't\", 'didn', \"didn't\", 'doesn', \"doesn't\", 'hadn', \"hadn't\", 'hasn', \"hasn't\", 'haven', \"haven't\", 'isn', \"isn't\", 'ma', 'mightn', \"mightn't\", 'mustn', \"mustn't\", 'needn', \"needn't\", 'shan', \"shan't\", 'shouldn', \"shouldn't\", 'wasn', \"wasn't\", 'weren', \"weren't\", 'won', \"won't\", 'wouldn', \"wouldn't\"]\n"
     ]
    },
    {
     "name": "stderr",
     "output_type": "stream",
     "text": [
      "[nltk_data] Downloading package stopwords to /Users/g/nltk_data...\n",
      "[nltk_data]   Package stopwords is already up-to-date!\n"
     ]
    }
   ],
   "source": [
    "nltk.download('stopwords')\n",
    "from nltk.corpus import stopwords\n",
    "print(stopwords.words(\"english\"))"
   ]
  },
  {
   "cell_type": "markdown",
   "metadata": {},
   "source": [
    "You can get a list of all the Spanish stop words as well:"
   ]
  },
  {
   "cell_type": "code",
   "execution_count": 27,
   "metadata": {},
   "outputs": [
    {
     "name": "stdout",
     "output_type": "stream",
     "text": [
      "['de', 'la', 'que', 'el', 'en', 'y', 'a', 'los', 'del', 'se', 'las', 'por', 'un', 'para', 'con', 'no', 'una', 'su', 'al', 'lo', 'como', 'más', 'pero', 'sus', 'le', 'ya', 'o', 'este', 'sí', 'porque', 'esta', 'entre', 'cuando', 'muy', 'sin', 'sobre', 'también', 'me', 'hasta', 'hay', 'donde', 'quien', 'desde', 'todo', 'nos', 'durante', 'todos', 'uno', 'les', 'ni', 'contra', 'otros', 'ese', 'eso', 'ante', 'ellos', 'e', 'esto', 'mí', 'antes', 'algunos', 'qué', 'unos', 'yo', 'otro', 'otras', 'otra', 'él', 'tanto', 'esa', 'estos', 'mucho', 'quienes', 'nada', 'muchos', 'cual', 'poco', 'ella', 'estar', 'estas', 'algunas', 'algo', 'nosotros', 'mi', 'mis', 'tú', 'te', 'ti', 'tu', 'tus', 'ellas', 'nosotras', 'vosotros', 'vosotras', 'os', 'mío', 'mía', 'míos', 'mías', 'tuyo', 'tuya', 'tuyos', 'tuyas', 'suyo', 'suya', 'suyos', 'suyas', 'nuestro', 'nuestra', 'nuestros', 'nuestras', 'vuestro', 'vuestra', 'vuestros', 'vuestras', 'esos', 'esas', 'estoy', 'estás', 'está', 'estamos', 'estáis', 'están', 'esté', 'estés', 'estemos', 'estéis', 'estén', 'estaré', 'estarás', 'estará', 'estaremos', 'estaréis', 'estarán', 'estaría', 'estarías', 'estaríamos', 'estaríais', 'estarían', 'estaba', 'estabas', 'estábamos', 'estabais', 'estaban', 'estuve', 'estuviste', 'estuvo', 'estuvimos', 'estuvisteis', 'estuvieron', 'estuviera', 'estuvieras', 'estuviéramos', 'estuvierais', 'estuvieran', 'estuviese', 'estuvieses', 'estuviésemos', 'estuvieseis', 'estuviesen', 'estando', 'estado', 'estada', 'estados', 'estadas', 'estad', 'he', 'has', 'ha', 'hemos', 'habéis', 'han', 'haya', 'hayas', 'hayamos', 'hayáis', 'hayan', 'habré', 'habrás', 'habrá', 'habremos', 'habréis', 'habrán', 'habría', 'habrías', 'habríamos', 'habríais', 'habrían', 'había', 'habías', 'habíamos', 'habíais', 'habían', 'hube', 'hubiste', 'hubo', 'hubimos', 'hubisteis', 'hubieron', 'hubiera', 'hubieras', 'hubiéramos', 'hubierais', 'hubieran', 'hubiese', 'hubieses', 'hubiésemos', 'hubieseis', 'hubiesen', 'habiendo', 'habido', 'habida', 'habidos', 'habidas', 'soy', 'eres', 'es', 'somos', 'sois', 'son', 'sea', 'seas', 'seamos', 'seáis', 'sean', 'seré', 'serás', 'será', 'seremos', 'seréis', 'serán', 'sería', 'serías', 'seríamos', 'seríais', 'serían', 'era', 'eras', 'éramos', 'erais', 'eran', 'fui', 'fuiste', 'fue', 'fuimos', 'fuisteis', 'fueron', 'fuera', 'fueras', 'fuéramos', 'fuerais', 'fueran', 'fuese', 'fueses', 'fuésemos', 'fueseis', 'fuesen', 'sintiendo', 'sentido', 'sentida', 'sentidos', 'sentidas', 'siente', 'sentid', 'tengo', 'tienes', 'tiene', 'tenemos', 'tenéis', 'tienen', 'tenga', 'tengas', 'tengamos', 'tengáis', 'tengan', 'tendré', 'tendrás', 'tendrá', 'tendremos', 'tendréis', 'tendrán', 'tendría', 'tendrías', 'tendríamos', 'tendríais', 'tendrían', 'tenía', 'tenías', 'teníamos', 'teníais', 'tenían', 'tuve', 'tuviste', 'tuvo', 'tuvimos', 'tuvisteis', 'tuvieron', 'tuviera', 'tuvieras', 'tuviéramos', 'tuvierais', 'tuvieran', 'tuviese', 'tuvieses', 'tuviésemos', 'tuvieseis', 'tuviesen', 'teniendo', 'tenido', 'tenida', 'tenidos', 'tenidas', 'tened']\n"
     ]
    }
   ],
   "source": [
    "print(stopwords.words(\"spanish\"))"
   ]
  },
  {
   "cell_type": "markdown",
   "metadata": {},
   "source": [
    "### Exercise 7:\n",
    "\n",
    "#### 7.1\n",
    "\n",
    "Filter out all of the stop words in the first review of the Yelp review data and print out your answer. Additionally, print out (separately) the stopwords you found in this review."
   ]
  },
  {
   "cell_type": "markdown",
   "metadata": {},
   "source": [
    "**Answer.**"
   ]
  },
  {
   "cell_type": "markdown",
   "metadata": {},
   "source": [
    "---------"
   ]
  },
  {
   "cell_type": "markdown",
   "metadata": {},
   "source": [
    "#### 7.2\n",
    "\n",
    "Modify the function `top_k_ngrams(word_tokens, n, k)` to remove stop words before determining the top n-grams."
   ]
  },
  {
   "cell_type": "markdown",
   "metadata": {},
   "source": [
    "**Answer.**"
   ]
  },
  {
   "cell_type": "markdown",
   "metadata": {},
   "source": [
    "---------"
   ]
  },
  {
   "cell_type": "markdown",
   "metadata": {},
   "source": [
    "In some contexts, it is common to remove both very common and very *uncommon* words. The idea is that common words like \"a\" are almost never informative, while uncommon words like \"syzygy\" occur so infrequently in a corpus that many algorithms have a hard time processing them in a meaningful way. We will not deal with uncommon words today, but you should be aware that doing so improves the performance of several NLP techniques."
   ]
  },
  {
   "cell_type": "markdown",
   "metadata": {},
   "source": [
    "## Finding important words\n",
    "\n",
    "Up to this point, we have focused on techniques for transforming our data. We are now ready to start looking for some answers, so let's take a break from discussing techniques so we can explore our dataset and various ways to summarize it.\n",
    "\n",
    "We begin by looking at the words and n-grams that are most common in positive and negative reviews. Note that in the following code, we don't reuse many of the pre-processing steps discussed at the start of the tutorial. This is because many of them are included as options in existing packages. In a serious project one would often customize this pre-processing to some degree, but we skip this in order to get some displayable results."
   ]
  },
  {
   "cell_type": "code",
   "execution_count": 30,
   "metadata": {},
   "outputs": [],
   "source": [
    "# Following code grabbed from:\n",
    "# https://towardsdatascience.com/a-complete-exploratory-data-analysis-and-visualization-for-text-data-29fb1b96fb6a\n",
    "# we will use it in our context to create some visualizations.\n",
    "def get_top_n_words(corpus, n=1,k=1):\n",
    "    vec = CountVectorizer(ngram_range=(k,k),stop_words = 'english').fit(corpus)\n",
    "    bag_of_words = vec.transform(corpus)\n",
    "    sum_words = bag_of_words.sum(axis=0) \n",
    "    words_freq = [(word, sum_words[0, idx]) for word, idx in vec.vocabulary_.items()]\n",
    "    words_freq =sorted(words_freq, key = lambda x: x[1], reverse=True)\n",
    "    return words_freq[:n]"
   ]
  },
  {
   "cell_type": "code",
   "execution_count": 31,
   "metadata": {},
   "outputs": [
    {
     "name": "stdout",
     "output_type": "stream",
     "text": [
      "good 5818\n",
      "place 5617\n",
      "food 5449\n",
      "like 4628\n",
      "great 4449\n",
      "just 4440\n",
      "time 3716\n",
      "service 3365\n",
      "really 3280\n",
      "ve 2531\n",
      "nice 2390\n",
      "don 2328\n",
      "little 2109\n",
      "ordered 2022\n",
      "love 1951\n",
      "got 1929\n",
      "came 1830\n",
      "didn 1825\n",
      "try 1814\n",
      "menu 1732\n"
     ]
    },
    {
     "data": {
      "text/plain": [
       "<matplotlib.axes._subplots.AxesSubplot at 0x10a1d46d0>"
      ]
     },
     "execution_count": 31,
     "metadata": {},
     "output_type": "execute_result"
    },
    {
     "data": {
      "image/png": "[encoded data removed]",
      "text/plain": [
       "<Figure size 2160x4320 with 1 Axes>"
      ]
     },
     "metadata": {
      "needs_background": "light"
     },
     "output_type": "display_data"
    }
   ],
   "source": [
    "# We start by getting a list of the most common words.\n",
    "\n",
    "common_words = get_top_n_words(data['text'], 20,1)\n",
    "for word, freq in common_words:\n",
    "    print(word, freq)\n",
    "df = pd.DataFrame(common_words, columns = ['ReviewText' , 'count'])\n",
    "df.groupby('ReviewText').sum()['count'].sort_values(ascending=False).plot(\n",
    "    kind='bar',  title='Top 20 words from all reviews')\n"
   ]
  },
  {
   "cell_type": "markdown",
   "metadata": {},
   "source": [
    "### Exercise 8:\n",
    "\n",
    "#### 8.1\n",
    "\n",
    "Divide the data into \"good reviews\" (i.e. `stars` rating was greater than 3) and \"bad reviews\" (i.e. `stars` rating was less than 3) and make a bar plot of the top 20 words in each case. Are these results different from above?"
   ]
  },
  {
   "cell_type": "markdown",
   "metadata": {},
   "source": [
    "**Answer.**"
   ]
  },
  {
   "cell_type": "markdown",
   "metadata": {},
   "source": [
    "---------"
   ]
  },
  {
   "cell_type": "markdown",
   "metadata": {},
   "source": [
    "#### 8.2\n",
    "\n",
    "Use the `get_top_n_words()` function to find the top 20 bigrams and trigrams. Do the results seem useful?"
   ]
  },
  {
   "cell_type": "markdown",
   "metadata": {},
   "source": [
    "**Answer.**"
   ]
  },
  {
   "cell_type": "markdown",
   "metadata": {},
   "source": [
    "---------"
   ]
  },
  {
   "cell_type": "markdown",
   "metadata": {},
   "source": [
    "### Question:\n",
    "\n",
    "Look at the 5 most important bigrams for bad reviews. What *single, specific* problem seems to be the most important driver of bad reviews?"
   ]
  },
  {
   "cell_type": "markdown",
   "metadata": {},
   "source": [
    "Three of the top 5 bigrams were \"20 minutes\", \"15 minutes\", and \"10 minutes.\" These are all times, *strongly* suggesting that *waiting time for service* is a main driver for bad review scores."
   ]
  },
  {
   "cell_type": "markdown",
   "metadata": {},
   "source": [
    "### Exercise 9:\n",
    "\n",
    "#### 9.1\n",
    "\n",
    "You may have noticed that many of the important \"bad\" bigrams included the words \"like\" or \"just\" but didn't seem very informative (e.g. \"felt like\", \"food just\"). Give some ideas of how to use this sort of observation in future pre-processing of reviews, based on the pre-processing ideas we have already studied."
   ]
  },
  {
   "cell_type": "markdown",
   "metadata": {},
   "source": [
    "**Answer.**"
   ]
  },
  {
   "cell_type": "markdown",
   "metadata": {},
   "source": [
    "---------"
   ]
  },
  {
   "cell_type": "markdown",
   "metadata": {},
   "source": [
    "#### 9.2\n",
    "\n",
    "Building on the previous question, we note that most of the most important complaints and compliments can't be *completely* observed by looking at bigrams or trigrams. This can often be fixed by small modifications. Do the following:\n",
    "\n",
    "1. Write down a complaint that is unlikely to be (completely) picked up by bigram analysis. Hint: what might you write if your hamburger was served cold?\n",
    "2. Write down a processing step that would fix this problem. Try to find a solution that would work for several similar problems without additional human input."
   ]
  },
  {
   "cell_type": "markdown",
   "metadata": {},
   "source": [
    "**Answer.**"
   ]
  },
  {
   "cell_type": "markdown",
   "metadata": {},
   "source": [
    "---------"
   ]
  },
  {
   "cell_type": "markdown",
   "metadata": {},
   "source": [
    "## Regular Expressions\n",
    "\n",
    "Having spent a lot of time on n-grams and how to featurize a document using them, we now take a break from `nltk` tools to introduce the most important text wrangling tool in Python (and many other languages): [**regular expressions**](https://en.wikipedia.org/wiki/Regular_expression).\n",
    "\n",
    "The basic idea here is that you often want to perform some specific transformation (e.g. delete or substitute) every time that some possibly-complicated pattern (e.g. the letter 'A', the word 'hello', any word containing the letters 'a','r' in that order) occurs. Regular expressions are a compact and powerful language for expressing these sorts of patterns. This is super important whenever you are trying to clean a text dataset that contains thematically similar, but not exactly, the same errors. \n",
    "\n",
    "The terse syntax of regular expressions has led to them having a reputation for being [almost magical](https://xkcd.com/208/) in some situations (with only a few characters, you can build complete computer programs) but also for being difficult to create and read, which can [create more problems](https://xkcd.com/1171/) than they solve.\n",
    "\n",
    "In Python, [the `re` module](https://docs.python.org/3/library/re.html) provides regular expression matching operations and common operations. Regular expressions are a deep subject, with some documentation here: https://docs.python.org/3/library/re.html?highlight=regex.\n",
    "\n",
    "As some simple examples, we have:\n",
    "\n",
    "1. `.` matches any character except \\n (newline)\n",
    "2. `\\d` matches any digit (this can also be written as [0-9])\n",
    "3. `\\D` matches any non-digit (this can also be written as [^0-9])\n",
    "4. `\\w` matches any alphanumeric character ([a-zA-Z0-9_])\n",
    "5. `\\W` matches any non-alphanumeric character ([^a-zA-Z0-9_])\n",
    "\n",
    "As some more complex examples, regular expressions also allow you to quantify the number of times matches can occur. For example,\n",
    "\n",
    "1. `[a-d]+` matches any time you get $\\{a,b,c,d\\}$ one or more times in a row\n",
    "2. `[a-d]{3}` matches any time you get them exactly 3 times in a row\n",
    "3. `[a-d]*` matches any time you get them 0 or more times in a row\n",
    "\n",
    "For now, we give a simple application based on the  `re.sub()` function, which substitutes words that match a pattern:"
   ]
  },
  {
   "cell_type": "code",
   "execution_count": 38,
   "metadata": {},
   "outputs": [
    {
     "name": "stdout",
     "output_type": "stream",
     "text": [
      "That was an  interesting  way to cook bread \n"
     ]
    }
   ],
   "source": [
    "import re\n",
    "sentence = 'That was an \"interesting\" way to cook bread.'\n",
    "pattern = r\"[^\\w]\" # the ^ character denotes 'not', \n",
    "#                   the \\w character denotes a word, and []  means\n",
    "#                    anything that matches anything in the brackets. \n",
    "#                     Together, this refers to any character that is not a word.\n",
    "print(re.sub(pattern, \" \", sentence))"
   ]
  },
  {
   "cell_type": "code",
   "execution_count": 39,
   "metadata": {},
   "outputs": [
    {
     "name": "stdout",
     "output_type": "stream",
     "text": [
      "(7, 9)\n",
      "lo\n",
      "(31, 33)\n",
      "lo\n",
      "(42, 44)\n",
      "lo\n"
     ]
    }
   ],
   "source": [
    "str = \"Natesh loves all the foold and loveds sdaslo\"\n",
    "x   = re.compile('lo')\n",
    "iterator = x.finditer(str)\n",
    "for item in iterator:\n",
    "    print(item.span())\n",
    "    print(item.group())"
   ]
  },
  {
   "cell_type": "markdown",
   "metadata": {},
   "source": [
    "### Exercise 10:\n",
    "\n",
    "#### 10.1\n",
    "\n",
    "1. Use the `re.split()` function to split the first Yelp review into a list of its constituent words.\n",
    "2. Use the `re.findall()` function to search the first 30 reviews for the number of times they contain the word \"food\". Print the maximum number of times the word \"food\" is mentioned in a single review."
   ]
  },
  {
   "cell_type": "markdown",
   "metadata": {},
   "source": [
    "**Answer.**"
   ]
  },
  {
   "cell_type": "markdown",
   "metadata": {},
   "source": [
    "---------"
   ]
  },
  {
   "cell_type": "markdown",
   "metadata": {},
   "source": [
    "#### 10.2\n",
    "\n",
    "Using regular expressions, find the percentage of reviews in top 500 reviews that have numbers in them."
   ]
  },
  {
   "cell_type": "markdown",
   "metadata": {},
   "source": [
    "**Answer.**"
   ]
  },
  {
   "cell_type": "markdown",
   "metadata": {},
   "source": [
    "---------"
   ]
  },
  {
   "cell_type": "markdown",
   "metadata": {},
   "source": [
    "As is clear from above, regular expressions are very useful for extracting more general properties of text. These properties are not as informative or context-aware as n-grams can be, but they are much simpler to code and therefore can often serve as the first step of an EDA on text data.\n",
    "\n",
    "Although regular expressions usually cannot tell us much about context overall, they *can* be used to find specific instances of words in context. For example, we may be interested in finding the first word following \"good\" or \"bad\" in a review (which can help us distinguish a positive from a negative review). Let's write some code that finds the first word following \"good\" in the sentence \"hello I want a good burger, please.\":"
   ]
  },
  {
   "cell_type": "code",
   "execution_count": 44,
   "metadata": {},
   "outputs": [
    {
     "name": "stdout",
     "output_type": "stream",
     "text": [
      "good burger, please\n",
      "burger,\n"
     ]
    }
   ],
   "source": [
    "sample = \"hello I want a good burger, please\"\n",
    "\n",
    "# Find everything after \"good\", including \"good\"\n",
    "\n",
    "post = re.findall(r'good.*', sample)[0]\n",
    "\n",
    "print(post)\n",
    "\n",
    "# Take just the first word after \"good\"\n",
    "\n",
    "first_post = re.split(r'\\s',post)[1]\n",
    "\n",
    "print(first_post)"
   ]
  },
  {
   "cell_type": "markdown",
   "metadata": {},
   "source": [
    "#### 10.3\n",
    "\n",
    "Using the above as a template, write a generalized function that can extract the first word following \"good\". Don't forget to include a default behavior for when the word doesn't appear in the sentence. Run this function for all reviews and print the first 300 results for reviews that do contain the word \"good\"."
   ]
  },
  {
   "cell_type": "markdown",
   "metadata": {},
   "source": [
    "**Answer.**"
   ]
  },
  {
   "cell_type": "markdown",
   "metadata": {},
   "source": [
    "---------"
   ]
  },
  {
   "cell_type": "markdown",
   "metadata": {},
   "source": [
    "Skimming over the results of the previous exercise, a few things stood out:\n",
    "\n",
    "1. People like to talk about good burgers – this appeared 5 times in the first 300 results.\n",
    "2. A large number of the results are useless. One common problem is the occurrence of a sentence boundary; e.g. \"good. The\" near the start of the list. In this case, we should look *before* the word \"good\" rather than after. However, we can't look *immediately* before good – that word will usually be some conjugation of \"to be\", which is also not informative – rather, we need to look for a word before \"good\" that isn't too boring. Other times, there is a word following \"good\" that is uninformative; e.g. \"good for\" – we want to know *what* something was good for! In this case, we should keep on skimming *forward* until we see a word following \"good\" that isn't too boring.\n",
    "\n",
    "In both of these cases, we can't use simple regular expressions by themselves, as regular expressions don't know how to ignore \"boring\" words. Regular expressions can only help us filter for the structure of words, not the content they convey within a context. We *can* use what we learned about stop words to remove these from the reviews before conducting the above analysis, but as we have been, we will still sometimes get not very informative phrases like \"was cold\" or \"served cold\". So we will introduce an alternative method, which can be applied to serve as an even better remover of stop words: **part-of-speech tagging**."
   ]
  },
  {
   "cell_type": "markdown",
   "metadata": {},
   "source": [
    "##  Part-of-speech (POS) tagging\n",
    "\n",
    "In English, there are eight main parts of speech - `nouns`, `pronouns`, `adjectives`, `verbs`, `adverbs`, `prepositions`, `conjunctions` and `interjections`. These are\n",
    "`sustantivos`, `pronombres`, `adjetivos`, `verbos`, `adverbios`, `preposiciones`, `conjunciones` and `interjecciones`, respectively, in Spanish. The purpose of POS tagging is to label each word in a document with its part of speech.\n",
    "\n",
    "Unsurprisingly, [POS tagging](http://www.nltk.org/book/ch05.html) can be very difficult to do by hand. `nltk` has a default function for this, called `nltk.pos_tag()`, which we will use. As a word of warning, this function is far from infallible, especially on informal text (e.g. website reviews, forum posts, text messages, etc), and words in English often exhibit POS drift (e.g. the drift of \"Google\" from noun to verb): "
   ]
  },
  {
   "cell_type": "code",
   "execution_count": 47,
   "metadata": {},
   "outputs": [
    {
     "name": "stderr",
     "output_type": "stream",
     "text": [
      "[nltk_data] Downloading package averaged_perceptron_tagger to\n",
      "[nltk_data]     /Users/g/nltk_data...\n",
      "[nltk_data]   Package averaged_perceptron_tagger is already up-to-\n",
      "[nltk_data]       date!\n"
     ]
    },
    {
     "data": {
      "text/plain": [
       "[('Natesh', 'NNP'),\n",
       " ('is', 'VBZ'),\n",
       " ('having', 'VBG'),\n",
       " ('a', 'DT'),\n",
       " ('good', 'JJ'),\n",
       " ('day', 'NN')]"
      ]
     },
     "execution_count": 47,
     "metadata": {},
     "output_type": "execute_result"
    }
   ],
   "source": [
    "import nltk\n",
    "nltk.download('averaged_perceptron_tagger')\n",
    "#https://www.nltk.org/book/ch05.html\n",
    "text_word_token = nltk.word_tokenize(\"Natesh is having a good day\")\n",
    "#text_word_token = nltk.word_tokenize(data.text[0])\n",
    "nltk.pos_tag(text_word_token)\n",
    "#https://www.ling.upenn.edu/courses/Fall_2003/ling001/penn_treebank_pos.html"
   ]
  },
  {
   "cell_type": "code",
   "execution_count": 48,
   "metadata": {},
   "outputs": [
    {
     "data": {
      "text/plain": [
       "[('We', 'PRP'), ('are', 'VBP'), ('going', 'VBG'), ('to', 'TO'), ('Race', 'VB')]"
      ]
     },
     "execution_count": 48,
     "metadata": {},
     "output_type": "execute_result"
    }
   ],
   "source": [
    "text_word_token = nltk.word_tokenize(\"We are going to Race\") # try \"Race can be both a verb and a noun\"\n",
    "#text_word_token = nltk.word_tokenize(data.text[0])\n",
    "nltk.pos_tag(text_word_token)"
   ]
  },
  {
   "cell_type": "code",
   "execution_count": 49,
   "metadata": {
    "scrolled": false
   },
   "outputs": [
    {
     "data": {
      "text/plain": [
       "[('Super', 'NNP'),\n",
       " ('simple', 'JJ'),\n",
       " ('place', 'NN'),\n",
       " ('but', 'CC'),\n",
       " ('amazing', 'JJ'),\n",
       " ('nonetheless', 'RB'),\n",
       " ('.', '.'),\n",
       " ('It', 'PRP'),\n",
       " (\"'s\", 'VBZ'),\n",
       " ('been', 'VBN'),\n",
       " ('around', 'IN'),\n",
       " ('since', 'IN'),\n",
       " ('the', 'DT'),\n",
       " ('30', 'CD'),\n",
       " (\"'s\", 'POS'),\n",
       " ('and', 'CC'),\n",
       " ('they', 'PRP'),\n",
       " ('still', 'RB'),\n",
       " ('serve', 'VBP'),\n",
       " ('the', 'DT'),\n",
       " ('same', 'JJ'),\n",
       " ('thing', 'NN'),\n",
       " ('they', 'PRP'),\n",
       " ('started', 'VBD'),\n",
       " ('with', 'IN'),\n",
       " (':', ':'),\n",
       " ('a', 'DT'),\n",
       " ('bologna', 'NN'),\n",
       " ('and', 'CC'),\n",
       " ('salami', 'NN'),\n",
       " ('sandwich', 'NN'),\n",
       " ('with', 'IN'),\n",
       " ('mustard', 'NN'),\n",
       " ('.', '.'),\n",
       " ('Staff', 'NNP'),\n",
       " ('was', 'VBD'),\n",
       " ('very', 'RB'),\n",
       " ('helpful', 'JJ'),\n",
       " ('and', 'CC'),\n",
       " ('friendly', 'JJ'),\n",
       " ('.', '.')]"
      ]
     },
     "execution_count": 49,
     "metadata": {},
     "output_type": "execute_result"
    }
   ],
   "source": [
    "#https://www.nltk.org/_modules/nltk/tag/perceptron.html\n",
    "nltk.pos_tag(words)"
   ]
  },
  {
   "cell_type": "markdown",
   "metadata": {},
   "source": [
    "NLTK provides documentation for each tag, which can be queried using the tag itself; e.g. `nltk.help.upenn_tagset('RB')`. Since POS is context-sensitive, POS-taggers must usually be trained on an existing corpus that has been tagged by professional linguists (possibly alongside unlabeled data to take advantage of semi-supervised methods). The most popular tag set is called the Penn Treebank set:"
   ]
  },
  {
   "cell_type": "code",
   "execution_count": 50,
   "metadata": {},
   "outputs": [
    {
     "name": "stdout",
     "output_type": "stream",
     "text": [
      "CD: numeral, cardinal\n",
      "    mid-1890 nine-thirty forty-two one-tenth ten million 0.5 one forty-\n",
      "    seven 1987 twenty '79 zero two 78-degrees eighty-four IX '60s .025\n",
      "    fifteen 271,124 dozen quintillion DM2,000 ...\n",
      "NN: noun, common, singular or mass\n",
      "    common-carrier cabbage knuckle-duster Casino afghan shed thermostat\n",
      "    investment slide humour falloff slick wind hyena override subhumanity\n",
      "    machinist ...\n"
     ]
    },
    {
     "name": "stderr",
     "output_type": "stream",
     "text": [
      "[nltk_data] Downloading package tagsets to /Users/g/nltk_data...\n",
      "[nltk_data]   Package tagsets is already up-to-date!\n"
     ]
    }
   ],
   "source": [
    "# We can get more details about any POS tag using the help function of nltk\n",
    "nltk.download('tagsets')\n",
    "nltk.help.upenn_tagset('CD$')\n",
    "nltk.help.upenn_tagset('NN$')"
   ]
  },
  {
   "cell_type": "markdown",
   "metadata": {},
   "source": [
    "### Exercise 11:\n",
    "\n",
    "#### 11.1\n",
    "\n",
    "Write code to find the percentage of reviews in the first 500 reviews of the dataset that contains a number or a cardinal using POS taggings only. (Hint: POS tag `CD` is the indicator for cardinal or number.) How does this compare to the figure we extracted from using regular expressions only?"
   ]
  },
  {
   "cell_type": "markdown",
   "metadata": {},
   "source": [
    "**Answer.**"
   ]
  },
  {
   "cell_type": "markdown",
   "metadata": {},
   "source": [
    "---------"
   ]
  },
  {
   "cell_type": "markdown",
   "metadata": {},
   "source": [
    "#### 11.2\n",
    "\n",
    "Extract all of the nouns from each review using POS tagging. This may be useful for later analysis. Even though words like \"good\" may be the most prevalent in good reviews, we think nouns like \"service\" or \"burgers\" are likely to be more informative."
   ]
  },
  {
   "cell_type": "markdown",
   "metadata": {},
   "source": [
    "**Answer.**"
   ]
  },
  {
   "cell_type": "markdown",
   "metadata": {},
   "source": [
    "---------"
   ]
  },
  {
   "cell_type": "markdown",
   "metadata": {},
   "source": [
    "### Exercise 12:\n",
    "\n",
    "Use POS tagging to find the first word following \"good\" that has an interesting POS tag. We leave this up to your discretion, but should probably include nouns and proper nouns. Inspecting the above, we think that cardinals are also almost certainly interesting: we recognize that \"good 45\" is probably followed by \"minutes\", definitely an important (though not \"good\") part of a review!"
   ]
  },
  {
   "cell_type": "markdown",
   "metadata": {},
   "source": [
    "**Answer.**"
   ]
  },
  {
   "cell_type": "markdown",
   "metadata": {},
   "source": [
    "---------"
   ]
  },
  {
   "cell_type": "markdown",
   "metadata": {},
   "source": [
    "### Exercise 13:\n",
    "\n",
    "It is interesting to look specifically at Adjectives (which have a tag name of \"JJ\" in NLTK) when looking at reviews. We can hypothesise that good reviews and bad reviews might use very different adjectives, but that some adjectives might appear often in both good and bad reviews, as we saw with the word \"good\" previously.\n",
    "\n",
    "Use POS tags to extract all adjectives from the first 500 five star reviews and the first 500 one star reviews. Extract the most 30 most commonly used adjectives from each set of reviews and print out both. Make a note of several of these; say if they appear in one or both lists, and whether or not this was expected, and why."
   ]
  },
  {
   "cell_type": "markdown",
   "metadata": {},
   "source": [
    "**Answer.**"
   ]
  },
  {
   "cell_type": "markdown",
   "metadata": {},
   "source": [
    "---------"
   ]
  },
  {
   "cell_type": "markdown",
   "metadata": {},
   "source": [
    "As we saw before, the word \"good\" appears in both lists, though slightly more often in good reviews. Surprisingly, it is the most common adjective used in *bad* reviews.\n",
    "\n",
    "Words like \"disappointed\", \"awful\", \"horrible\", and \"rude\" only appear frequently in bad reviews, as expected, while words like \"favorite\", \"great\", \"fantastic\", \"amazing\", \"wonderful\", and \"perfect\" appear in good reviews, which is also expected.\n",
    "\n",
    "Words like \"small\" and \"new\" appear frequently in in both sets of reviews. Interestingly, so does \"different\", but slightly more often in good reviews, perhaps indicating that people like variety."
   ]
  },
  {
   "cell_type": "markdown",
   "metadata": {},
   "source": [
    "## Conclusions\n",
    "\n",
    "In this case, we focused on the basic components of an NLP pipeline, virtually all of which are frequently used *before* building a model for the business question of interest. We saw that every part of the pipeline was highly customizable, and discussed how parameters might vary depending on the specific application in mind. \n",
    "\n",
    "In addition to constructing a basic pipeline, we tried to give initial answers to a business question: \"Which factors are most important for bad reviews?\" The answers we obtained with this out-of-the-box analysis were not perfect, but they did seem to give some genuinely useful information. For example, 3 of the 5 most important phrases for bad reviews were \"20 minutes\", \"10 minutes\", and \"15 minutes\" – strong evidence that long service times were a major driver of bad reviews."
   ]
  },
  {
   "cell_type": "markdown",
   "metadata": {},
   "source": [
    "## Takeaways\n",
    "\n",
    "Text pre-processing is more complex than other forms of pre-processing you might be familiar with, as good pre-processing may rely on an enormous number of rules extracted from large corpora of English (Spanish!) text. You shouldn't try to recreate this work by yourself; instead, take advantage of large and powerful libraries such as `nltk` which have built-in corpora when possible, and use regular expressions when necessary to extend or tweak them.\n",
    "\n",
    "Pre-processing is an extremely important and nontrivial part of NLP, and will likely take the bulk of the work for most NLP projects. Most popular parts of the pipeline come with many parameters. Yet they can give surprisingly useful summaries of entire corpora without much adjustment.\n",
    "\n",
    "Overall, NLP can be used in many situations, but it is perhaps most useful in its ability to turn qualitative data into quantitative data. For example, if we have a collection of reviews describing, qualitatively, people’s experiences at restaurants, we can derive quantitative insights such as “X% of people who left bad reviews were unhappy with the waiting time”.\n",
    "\n",
    "After following through this case, you know what NLP is and how it can be useful. You especially know\n",
    "\n",
    "* The challenges of NLP: context specificity and high dimensionality.\n",
    "* How to standardize and pre-process text before carrying out analysis, such as stemming \n",
    "* How to tokenize documents into sentences and words\n",
    "* How to create word clouds to quickly gain high-level insights into text\n",
    "* What n-grams are and how they can be created and used in analysis\n",
    "* Why common (“stop”) words should often be removed before analysis\n",
    "* How to find common words and n-grams\n",
    "* What regular expressions are and how to use them to carry out more custom analysis\n",
    "* What Parts of Speech tagging is and why analysing documents by their grammatical structure can be useful"
   ]
  },
  {
   "cell_type": "code",
   "execution_count": null,
   "metadata": {},
   "outputs": [],
   "source": []
  }
 ],
 "metadata": {
  "kernelspec": {
   "display_name": "Python 3",
   "language": "python",
   "name": "python3"
  },
  "language_info": {
   "codemirror_mode": {
    "name": "ipython",
    "version": 3
   },
   "file_extension": ".py",
   "mimetype": "text/x-python",
   "name": "python",
   "nbconvert_exporter": "python",
   "pygments_lexer": "ipython3",
   "version": "3.7.7"
  }
 },
 "nbformat": 4,
 "nbformat_minor": 2
}
