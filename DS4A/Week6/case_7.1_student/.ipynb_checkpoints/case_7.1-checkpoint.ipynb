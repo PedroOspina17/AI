{
 "cells": [
  {
   "cell_type": "markdown",
   "metadata": {
    "colab_type": "text",
    "id": "8XB8xTtnlvLx"
   },
   "source": [
    "# Do there exist significant differences between the balances of my various customers' cohorts?"
   ]
  },
  {
   "cell_type": "markdown",
   "metadata": {},
   "source": [
    "## Goals (3 min)\n",
    "\n",
    "One of the key problems in data science is that of determining if a pattern you notice is significant enough to warrant further action. In this case, you will learn a fundamental tool to approach this problem called **statistical hypothesis testing**. By the end of this case, you should know how to conduct a hypothesis test, analyze its outcome, and identify its shortcomings."
   ]
  },
  {
   "cell_type": "markdown",
   "metadata": {},
   "source": [
    "## Introduction (5 min)\n",
    "\n",
    "**Business Context.** You are leading a business analytics unit in a bank and have been asked to support the marketing unit to conduct a customer segmentation analysis. You are provided with a dataset comprising a sample of customers, their bank account balances, and some demographic information about them. Different populations across the country have different income levels and may have different spending profiles. Your marketing team wants to know if there are significant differences in the bank balances of different subsegments of your customer base, so that they can design targeted products for different groups. \n",
    "\n",
    "**Business problem.** The marketing department wants you to determine: **\"Do there exist statistically significant differences in the bank balances of your customer segments (by age, job, education, marital status, etc.)?\"** \n",
    "\n",
    "**Analytical Context.** The dataset that we will use in this case was retrieved from Kaggle (https://www.kaggle.com/skverma875/bank-marketing-dataset). In this case, we will take the first step towards transitioning from **exploratory data analysis** to **confirmatory analysis**. We will: (1) learn a formal framework for hypothesis testing; (2) learn about $p$ - values; (3) generate a hypothesis from exploratory data analysis; and finally (4) analyze the results of a hypothesis test."
   ]
  },
  {
   "cell_type": "code",
   "execution_count": 1,
   "metadata": {},
   "outputs": [],
   "source": [
    "import pandas as pd\n",
    "import numpy as np\n",
    "import matplotlib.pyplot as plt\n",
    "import seaborn as sns\n",
    "import statsmodels.api as sm\n",
    "from statsmodels.formula.api import ols\n",
    "import statsmodels\n",
    "from scipy import stats\n",
    "from pingouin import pairwise_ttests #this is for performing the pairwise tests"
   ]
  },
  {
   "cell_type": "markdown",
   "metadata": {},
   "source": [
    "## Data Exploration (15 min)"
   ]
  },
  {
   "cell_type": "markdown",
   "metadata": {},
   "source": [
    "The data includes the account balance of 45,211 customers, along with several other characteristics:"
   ]
  },
  {
   "cell_type": "code",
   "execution_count": 2,
   "metadata": {
    "colab": {
     "base_uri": "https://localhost:8080/",
     "height": 233
    },
    "colab_type": "code",
    "id": "IAeKAI4GYfXj",
    "outputId": "0afd3e03-0e57-4bf8-ff8a-1fdd70a2275c"
   },
   "outputs": [
    {
     "data": {
      "text/plain": [
       "(45211, 17)"
      ]
     },
     "execution_count": 2,
     "metadata": {},
     "output_type": "execute_result"
    }
   ],
   "source": [
    "bank = pd.read_csv(\"bank-full.csv\")\n",
    "bank.shape"
   ]
  },
  {
   "cell_type": "code",
   "execution_count": 3,
   "metadata": {},
   "outputs": [
    {
     "data": {
      "text/html": [
       "<div>\n",
       "<style scoped>\n",
       "    .dataframe tbody tr th:only-of-type {\n",
       "        vertical-align: middle;\n",
       "    }\n",
       "\n",
       "    .dataframe tbody tr th {\n",
       "        vertical-align: top;\n",
       "    }\n",
       "\n",
       "    .dataframe thead th {\n",
       "        text-align: right;\n",
       "    }\n",
       "</style>\n",
       "<table border=\"1\" class=\"dataframe\">\n",
       "  <thead>\n",
       "    <tr style=\"text-align: right;\">\n",
       "      <th></th>\n",
       "      <th>age</th>\n",
       "      <th>job</th>\n",
       "      <th>marital</th>\n",
       "      <th>education</th>\n",
       "      <th>default</th>\n",
       "      <th>balance</th>\n",
       "      <th>housing</th>\n",
       "      <th>loan</th>\n",
       "      <th>contact</th>\n",
       "      <th>day</th>\n",
       "      <th>month</th>\n",
       "      <th>duration</th>\n",
       "      <th>campaign</th>\n",
       "      <th>pdays</th>\n",
       "      <th>previous</th>\n",
       "      <th>poutcome</th>\n",
       "      <th>y</th>\n",
       "    </tr>\n",
       "  </thead>\n",
       "  <tbody>\n",
       "    <tr>\n",
       "      <th>0</th>\n",
       "      <td>58</td>\n",
       "      <td>management</td>\n",
       "      <td>married</td>\n",
       "      <td>tertiary</td>\n",
       "      <td>no</td>\n",
       "      <td>2143</td>\n",
       "      <td>yes</td>\n",
       "      <td>no</td>\n",
       "      <td>unknown</td>\n",
       "      <td>5</td>\n",
       "      <td>may</td>\n",
       "      <td>261</td>\n",
       "      <td>1</td>\n",
       "      <td>-1</td>\n",
       "      <td>0</td>\n",
       "      <td>unknown</td>\n",
       "      <td>no</td>\n",
       "    </tr>\n",
       "    <tr>\n",
       "      <th>1</th>\n",
       "      <td>44</td>\n",
       "      <td>technician</td>\n",
       "      <td>single</td>\n",
       "      <td>secondary</td>\n",
       "      <td>no</td>\n",
       "      <td>29</td>\n",
       "      <td>yes</td>\n",
       "      <td>no</td>\n",
       "      <td>unknown</td>\n",
       "      <td>5</td>\n",
       "      <td>may</td>\n",
       "      <td>151</td>\n",
       "      <td>1</td>\n",
       "      <td>-1</td>\n",
       "      <td>0</td>\n",
       "      <td>unknown</td>\n",
       "      <td>no</td>\n",
       "    </tr>\n",
       "    <tr>\n",
       "      <th>2</th>\n",
       "      <td>33</td>\n",
       "      <td>entrepreneur</td>\n",
       "      <td>married</td>\n",
       "      <td>secondary</td>\n",
       "      <td>no</td>\n",
       "      <td>2</td>\n",
       "      <td>yes</td>\n",
       "      <td>yes</td>\n",
       "      <td>unknown</td>\n",
       "      <td>5</td>\n",
       "      <td>may</td>\n",
       "      <td>76</td>\n",
       "      <td>1</td>\n",
       "      <td>-1</td>\n",
       "      <td>0</td>\n",
       "      <td>unknown</td>\n",
       "      <td>no</td>\n",
       "    </tr>\n",
       "    <tr>\n",
       "      <th>3</th>\n",
       "      <td>47</td>\n",
       "      <td>blue-collar</td>\n",
       "      <td>married</td>\n",
       "      <td>unknown</td>\n",
       "      <td>no</td>\n",
       "      <td>1506</td>\n",
       "      <td>yes</td>\n",
       "      <td>no</td>\n",
       "      <td>unknown</td>\n",
       "      <td>5</td>\n",
       "      <td>may</td>\n",
       "      <td>92</td>\n",
       "      <td>1</td>\n",
       "      <td>-1</td>\n",
       "      <td>0</td>\n",
       "      <td>unknown</td>\n",
       "      <td>no</td>\n",
       "    </tr>\n",
       "    <tr>\n",
       "      <th>4</th>\n",
       "      <td>33</td>\n",
       "      <td>unknown</td>\n",
       "      <td>single</td>\n",
       "      <td>unknown</td>\n",
       "      <td>no</td>\n",
       "      <td>1</td>\n",
       "      <td>no</td>\n",
       "      <td>no</td>\n",
       "      <td>unknown</td>\n",
       "      <td>5</td>\n",
       "      <td>may</td>\n",
       "      <td>198</td>\n",
       "      <td>1</td>\n",
       "      <td>-1</td>\n",
       "      <td>0</td>\n",
       "      <td>unknown</td>\n",
       "      <td>no</td>\n",
       "    </tr>\n",
       "  </tbody>\n",
       "</table>\n",
       "</div>"
      ],
      "text/plain": [
       "   age           job  marital  education default  balance housing loan  \\\n",
       "0   58    management  married   tertiary      no     2143     yes   no   \n",
       "1   44    technician   single  secondary      no       29     yes   no   \n",
       "2   33  entrepreneur  married  secondary      no        2     yes  yes   \n",
       "3   47   blue-collar  married    unknown      no     1506     yes   no   \n",
       "4   33       unknown   single    unknown      no        1      no   no   \n",
       "\n",
       "   contact  day month  duration  campaign  pdays  previous poutcome   y  \n",
       "0  unknown    5   may       261         1     -1         0  unknown  no  \n",
       "1  unknown    5   may       151         1     -1         0  unknown  no  \n",
       "2  unknown    5   may        76         1     -1         0  unknown  no  \n",
       "3  unknown    5   may        92         1     -1         0  unknown  no  \n",
       "4  unknown    5   may       198         1     -1         0  unknown  no  "
      ]
     },
     "execution_count": 3,
     "metadata": {},
     "output_type": "execute_result"
    }
   ],
   "source": [
    "bank.head()"
   ]
  },
  {
   "cell_type": "markdown",
   "metadata": {},
   "source": [
    "The relevant features we will use in this case are:\n",
    "\n",
    "1. **balance:** bank balance; key variable of interest\n",
    "2. **job:** the title of the job (“management”, “technician”, etc)\n",
    "3. **marital:** marital status (\"single\", \"married\" or \"divorced\")\n",
    "4. **education:** different levels of education (\"primary\",\"secondary\",\"tertiary\",\"unknown\")\n",
    "5. **default:** the customer defaulted (\"yes\" or \"no\")\n",
    "6. **loan:** the customer took out a loan (\"yes\" or \"no\")"
   ]
  },
  {
   "cell_type": "code",
   "execution_count": 4,
   "metadata": {},
   "outputs": [
    {
     "data": {
      "text/html": [
       "<div>\n",
       "<style scoped>\n",
       "    .dataframe tbody tr th:only-of-type {\n",
       "        vertical-align: middle;\n",
       "    }\n",
       "\n",
       "    .dataframe tbody tr th {\n",
       "        vertical-align: top;\n",
       "    }\n",
       "\n",
       "    .dataframe thead th {\n",
       "        text-align: right;\n",
       "    }\n",
       "</style>\n",
       "<table border=\"1\" class=\"dataframe\">\n",
       "  <thead>\n",
       "    <tr style=\"text-align: right;\">\n",
       "      <th></th>\n",
       "      <th>age</th>\n",
       "      <th>balance</th>\n",
       "      <th>day</th>\n",
       "      <th>duration</th>\n",
       "      <th>campaign</th>\n",
       "      <th>pdays</th>\n",
       "      <th>previous</th>\n",
       "    </tr>\n",
       "  </thead>\n",
       "  <tbody>\n",
       "    <tr>\n",
       "      <th>count</th>\n",
       "      <td>45211.000000</td>\n",
       "      <td>45211.000000</td>\n",
       "      <td>45211.000000</td>\n",
       "      <td>45211.000000</td>\n",
       "      <td>45211.000000</td>\n",
       "      <td>45211.000000</td>\n",
       "      <td>45211.000000</td>\n",
       "    </tr>\n",
       "    <tr>\n",
       "      <th>mean</th>\n",
       "      <td>40.936210</td>\n",
       "      <td>1362.272058</td>\n",
       "      <td>15.806419</td>\n",
       "      <td>258.163080</td>\n",
       "      <td>2.763841</td>\n",
       "      <td>40.197828</td>\n",
       "      <td>0.580323</td>\n",
       "    </tr>\n",
       "    <tr>\n",
       "      <th>std</th>\n",
       "      <td>10.618762</td>\n",
       "      <td>3044.765829</td>\n",
       "      <td>8.322476</td>\n",
       "      <td>257.527812</td>\n",
       "      <td>3.098021</td>\n",
       "      <td>100.128746</td>\n",
       "      <td>2.303441</td>\n",
       "    </tr>\n",
       "    <tr>\n",
       "      <th>min</th>\n",
       "      <td>18.000000</td>\n",
       "      <td>-8019.000000</td>\n",
       "      <td>1.000000</td>\n",
       "      <td>0.000000</td>\n",
       "      <td>1.000000</td>\n",
       "      <td>-1.000000</td>\n",
       "      <td>0.000000</td>\n",
       "    </tr>\n",
       "    <tr>\n",
       "      <th>25%</th>\n",
       "      <td>33.000000</td>\n",
       "      <td>72.000000</td>\n",
       "      <td>8.000000</td>\n",
       "      <td>103.000000</td>\n",
       "      <td>1.000000</td>\n",
       "      <td>-1.000000</td>\n",
       "      <td>0.000000</td>\n",
       "    </tr>\n",
       "    <tr>\n",
       "      <th>50%</th>\n",
       "      <td>39.000000</td>\n",
       "      <td>448.000000</td>\n",
       "      <td>16.000000</td>\n",
       "      <td>180.000000</td>\n",
       "      <td>2.000000</td>\n",
       "      <td>-1.000000</td>\n",
       "      <td>0.000000</td>\n",
       "    </tr>\n",
       "    <tr>\n",
       "      <th>75%</th>\n",
       "      <td>48.000000</td>\n",
       "      <td>1428.000000</td>\n",
       "      <td>21.000000</td>\n",
       "      <td>319.000000</td>\n",
       "      <td>3.000000</td>\n",
       "      <td>-1.000000</td>\n",
       "      <td>0.000000</td>\n",
       "    </tr>\n",
       "    <tr>\n",
       "      <th>max</th>\n",
       "      <td>95.000000</td>\n",
       "      <td>102127.000000</td>\n",
       "      <td>31.000000</td>\n",
       "      <td>4918.000000</td>\n",
       "      <td>63.000000</td>\n",
       "      <td>871.000000</td>\n",
       "      <td>275.000000</td>\n",
       "    </tr>\n",
       "  </tbody>\n",
       "</table>\n",
       "</div>"
      ],
      "text/plain": [
       "                age        balance           day      duration      campaign  \\\n",
       "count  45211.000000   45211.000000  45211.000000  45211.000000  45211.000000   \n",
       "mean      40.936210    1362.272058     15.806419    258.163080      2.763841   \n",
       "std       10.618762    3044.765829      8.322476    257.527812      3.098021   \n",
       "min       18.000000   -8019.000000      1.000000      0.000000      1.000000   \n",
       "25%       33.000000      72.000000      8.000000    103.000000      1.000000   \n",
       "50%       39.000000     448.000000     16.000000    180.000000      2.000000   \n",
       "75%       48.000000    1428.000000     21.000000    319.000000      3.000000   \n",
       "max       95.000000  102127.000000     31.000000   4918.000000     63.000000   \n",
       "\n",
       "              pdays      previous  \n",
       "count  45211.000000  45211.000000  \n",
       "mean      40.197828      0.580323  \n",
       "std      100.128746      2.303441  \n",
       "min       -1.000000      0.000000  \n",
       "25%       -1.000000      0.000000  \n",
       "50%       -1.000000      0.000000  \n",
       "75%       -1.000000      0.000000  \n",
       "max      871.000000    275.000000  "
      ]
     },
     "execution_count": 4,
     "metadata": {},
     "output_type": "execute_result"
    }
   ],
   "source": [
    "bank.describe()"
   ]
  },
  {
   "cell_type": "code",
   "execution_count": 5,
   "metadata": {},
   "outputs": [
    {
     "data": {
      "image/png": "[encoded data removed]",
      "text/plain": [
       "<Figure size 432x288 with 1 Axes>"
      ]
     },
     "metadata": {},
     "output_type": "display_data"
    }
   ],
   "source": [
    "plt.hist(bank['balance'],bins = 30);"
   ]
  },
  {
   "cell_type": "markdown",
   "metadata": {},
   "source": [
    "### Exercise 1: (3 min)\n",
    "\n",
    "From the tables and histogram above, we see a huge range in the bank balance of your customers. Why do you think this is?"
   ]
  },
  {
   "cell_type": "markdown",
   "metadata": {},
   "source": [
    "**Answer.** Very often, a wide range in the outcome of interest of a population indicates the existence of several subgroups in the population. In our case, there are people with varying degrees of education, job profiles, etc. We will expect these subgroups to have different bank balances."
   ]
  },
  {
   "cell_type": "markdown",
   "metadata": {},
   "source": [
    "Let us understand our data further by plotting the variables. Consider the variables `job`, `marital`, `education`, `default`, `housing`, `loan`. For each of these variables, we plot the number of customers in each category as follows."
   ]
  },
  {
   "cell_type": "code",
   "execution_count": 6,
   "metadata": {
    "colab": {
     "base_uri": "https://localhost:8080/",
     "height": 295
    },
    "colab_type": "code",
    "id": "c3c5gn_IaJqT",
    "outputId": "e2cc2c8a-cde1-4b29-eee1-c83999107282"
   },
   "outputs": [
    {
     "data": {
      "image/png": "[encoded data removed]",
      "text/plain": [
       "<Figure size 1080x720 with 6 Axes>"
      ]
     },
     "metadata": {},
     "output_type": "display_data"
    }
   ],
   "source": [
    "plt.figure(figsize=(15,10))\n",
    "vars_to_look = ['marital','education','default','job','housing','loan']\n",
    "for i, var in enumerate(vars_to_look):\n",
    "    plt.subplot(2,3,i+1)\n",
    "    if i ==3:\n",
    "        plt.xticks(rotation = 90)\n",
    "    sns.countplot(bank[var])\n",
    "    plt.title(\"Count plot of \" + var)    "
   ]
  },
  {
   "cell_type": "markdown",
   "metadata": {},
   "source": [
    "### Exercise 2: (3 min)\n",
    "\n",
    "What can you conclude from the plots? "
   ]
  },
  {
   "cell_type": "markdown",
   "metadata": {},
   "source": [
    "**Answer.** We confirm our initial guess - there exists a variation across the different categories, thus we may suspect that these differences are key to understanding the variation of the bank balances. "
   ]
  },
  {
   "cell_type": "markdown",
   "metadata": {},
   "source": [
    "### Exercise 3: (3 min)\n",
    "\n",
    "Last year the average balance for the entire population of the bank's customers was \\\\$1341.12. How much higher is the sample average balance this year? Is this difference significant?"
   ]
  },
  {
   "cell_type": "markdown",
   "metadata": {},
   "source": [
    "**Answer.**"
   ]
  },
  {
   "cell_type": "code",
   "execution_count": 7,
   "metadata": {},
   "outputs": [
    {
     "data": {
      "text/plain": [
       "1362.2720576850766"
      ]
     },
     "execution_count": 7,
     "metadata": {},
     "output_type": "execute_result"
    }
   ],
   "source": [
    "bank['balance'].mean()"
   ]
  },
  {
   "cell_type": "markdown",
   "metadata": {},
   "source": [
    "This is a difference of \\\\$1362.27 - \\\\$1341.12 = \\\\$22.15. The bank management thinks that the consumer behavior might have changed slightly, and that, on average, customers are keeping more money in their bank account.\n",
    "\n",
    "However, this difference might be due to statistical variation because of sampling variability. We would need to conduct a more rigorous test to determine if this difference is actually significant after factoring in such variability."
   ]
  },
  {
   "cell_type": "markdown",
   "metadata": {},
   "source": [
    "## Analytical framework for hypothesis testing (20 min)\n",
    "\n",
    "The procedure that we use to help us decide whether a difference between the mean $\\mu$ of a population and a reference value $\\mu_0$ is **statistically significant** is called **hypothesis testing**. In our context,\n",
    "$\\mu$ is the average bank balance of the customers this year and $\\mu_0$ is their average bank balance last year.\n",
    "\n",
    "The first step is defining the null hypothesis (often indicated as $H_0$). For us, the null hypothesis will **always** correspond to the hypothesis of no change; that is, the status quo is still valid. Formally, this is written as: $ H_0: \\mu = \\mu_0 $.\n",
    "\n",
    "In our case, $H_0$ would be equivalent in hypothesizing that the average balance for the entire customer population $\\mu$ is the same as the average balance last year $\\mu_0 = \\$1341.12$. We wish to test if $H_0$ is wrong; that is, if $\\mu$ is different from $\\mu_0 = \\$1341.12$.\n",
    "\n",
    "Before diving further into the case, think about the following question:"
   ]
  },
  {
   "cell_type": "markdown",
   "metadata": {},
   "source": [
    "### Question: (5 min)\n",
    "\n",
    "Suppose you are Ronald Fisher in the 1920s and you were to discover hypothesis testing for the first time ever. How would you go about testing the veracity of the null hypothesis $H_0$?  "
   ]
  },
  {
   "cell_type": "markdown",
   "metadata": {},
   "source": [
    "**Answer:** One possible answer is the following. \n",
    "\n",
    "We can use a similar approach to that of the judicial system across the world: *[One is considered innocent until proven guilty](https://en.wikipedia.org/wiki/Presumption_of_innocence)* . We will accept the null hypothesis unless we find enough evidence against it.  Notice that this approach, as is the case the judiciary system, is not perfect. Even if we do not find evidence that goes against the null hypothesis, the null hypothesis may turn out to be wrong. "
   ]
  },
  {
   "cell_type": "markdown",
   "metadata": {},
   "source": [
    "### Alternative Hypothesis (3 min)\n",
    "\n",
    "In opposition to the null hypothesis, we define an alternative hypothesis (often indicated with $H_1$ or $H_a$) to challenge the status quo. We can have three different ways to define an alternative hypothesis:\n",
    "\n",
    "1. $H_a: \\mu \\neq \\mu_0$ (two-sided test)\n",
    "\n",
    "2. $H_a: \\mu > \\mu_0$ (one-sided test)\n",
    "\n",
    "3. $H_a: \\mu < \\mu_0$ (one-sided test)\n",
    "\n",
    "The statistical test will help us decide if there is enough evidence to reject the null hypothesis in favor of an alternative."
   ]
  },
  {
   "cell_type": "markdown",
   "metadata": {},
   "source": [
    "### Conducting a hypothesis test (3 min)\n",
    "\n",
    "Returning to our case, suppose we wish to perform a statistical test to assess the hypothesis of management:\n",
    "\n",
    "$$ H_0: \\mu= 1341.12$$\n",
    "$$ H_a: \\mu \\neq 1341.12$$\n",
    "\n",
    "There are two possible outcomes for this test: (1) We conclude $H_0$ is false, and say we **reject $H_0$**. In this case we will conclude that there is statistical evidence for the alternative $H_a$ and that the bank balance of customers this year is indeed different from 1341.12 USD. Or (2) we **fail to reject $H_0$**. In this case, we conclude that there is not enough statistical evidence to say for sure that $H_0$ is false. **Notice that in the second case we cannot say that the original hypothesis is true.** (In fact, there is no test out there that will tell you that a hypothesis is true. Why do you think that is?)"
   ]
  },
  {
   "cell_type": "markdown",
   "metadata": {},
   "source": [
    "We can use [Student's](https://www.guinness-storehouse.com/content/pdf/archive-factsheets/general-history/wsgosset-and-students-t-test.pdf) $t$-[test](https://en.wikipedia.org/wiki/Student's_t-test) to conduct a hypothesis testing for the mean of single population. The following command lets us run this test:"
   ]
  },
  {
   "cell_type": "code",
   "execution_count": 8,
   "metadata": {},
   "outputs": [
    {
     "data": {
      "text/plain": [
       "Ttest_1sampResult(statistic=1.4769973489267905, pvalue=0.13968331332845219)"
      ]
     },
     "execution_count": 8,
     "metadata": {},
     "output_type": "execute_result"
    }
   ],
   "source": [
    "stats.ttest_1samp(bank['balance'], popmean=1341.122)"
   ]
  },
  {
   "cell_type": "markdown",
   "metadata": {},
   "source": [
    "### Reading the output of a statistical test: $p$ - values (8 min)"
   ]
  },
  {
   "cell_type": "markdown",
   "metadata": {},
   "source": [
    "Statistical tests report a **$p$ - value**. This is the key quantity that we will use to determine if the outcome of the test was significant. In short, if this value is larger than a certain threshold $\\alpha$, called the significance level, we would reject the null hypothesis; we will go into more details later. For now, set $\\alpha=0.05$. We can have two outcomes:\n",
    "\n",
    "1. If this probability is smaller than our significance level ($p < \\alpha$) we reject $H_0$ and we claim that the observed difference is \"statistically significant\".\n",
    "2. If this probability is greater than our significance level ($p > \\alpha$) we have to retain $H_0$ and we claim that the observed difference is not statistically significant."
   ]
  },
  {
   "cell_type": "markdown",
   "metadata": {},
   "source": [
    "### Question: (2 min)\n",
    "\n",
    "What do you conclude from the output? Do we reject $H_0$ or retain it?\n",
    "\n",
    "**Answer.** Since the $p$ - value (0.13968) is larger than $\\alpha=0.05$ we have to retain the null hypothesis."
   ]
  },
  {
   "cell_type": "markdown",
   "metadata": {},
   "source": [
    "**Note:** If the alternative is one-sided, say $H_a: \\mu > \\mu_0$  or $H_a: \\mu < \\mu_0$ . Then, just run the two-sided test and then divide the $p$ - value by half."
   ]
  },
  {
   "cell_type": "code",
   "execution_count": 9,
   "metadata": {},
   "outputs": [],
   "source": [
    "T,p = stats.ttest_1samp(bank['balance'], popmean=1341.122)\n",
    "p_value = p/2"
   ]
  },
  {
   "cell_type": "markdown",
   "metadata": {},
   "source": [
    "### Exercise 4: (3 min)\n",
    "\n",
    "We retained $H_0$ above. Are we 100% sure this decision is correct? Why or why not?"
   ]
  },
  {
   "cell_type": "markdown",
   "metadata": {},
   "source": [
    "**Answer:** Since statistical hypothesis testing procedures aim to infer about an unknown population parameter using the information contained in a sample, it will not always lead us to the correct decision. However, as you will learn later, the $p$ - value gives us a good sense of the degree of confidence we can have in our conclusion being correct. For most applications, being at least 95% confident will be sufficient."
   ]
  },
  {
   "cell_type": "markdown",
   "metadata": {},
   "source": [
    "## Errors due to a wrong conclusion from a hypothesis test (10 min)"
   ]
  },
  {
   "cell_type": "markdown",
   "metadata": {},
   "source": [
    "\n",
    "There are two ways that a test can lead us to an incorrect decision:\n",
    "\n",
    "1. When $H_0$ is true and we reject it. This is called **Type 1 Error**. It corresponds to obtaining a **false positive**.\n",
    "2. When $H_0$ is false and we do not reject it. This is called **Type 2 Error**. It corresponds to having a **false negative**.\n",
    "\n",
    "<table>\n",
    "<tr>\n",
    "<td></td><td><b>$H_0$ is true </b></td><td><b> $H_0$ is False</b></td>\n",
    "</tr>\n",
    "<tr>\n",
    "<td><b>Reject $H_0$</b></td><td>Type I error</td><td>Correct Decision (True Positive)</td>\n",
    "</tr>\n",
    "<tr>\n",
    "<td><b>Fail to Reject $H_0$ </b></td><td>Correct Decision (True negative) </td><td>Type II error</td>\n",
    "</tr>\n",
    "</table>"
   ]
  },
  {
   "cell_type": "markdown",
   "metadata": {},
   "source": [
    "In general, we cannot control both the Type I and Type II error. So the type of an error we control depends on the situation."
   ]
  },
  {
   "cell_type": "markdown",
   "metadata": {},
   "source": [
    "### Exercise 5: (5 min)\n",
    "\n",
    "Discuss the following two scenarios with your teammates:\n",
    "\n",
    "1. A patient is getting a diagnostic test for finding out if they are infected with HIV virus. What is the null hypothesis here? What is more serious here: making a Type I error (false positive) or Type II error (false negative)? Why?\n",
    "2. You are getting a lot of spam emails, so you are writing a spam filter algorithm to detect whether an email is spam or not.  What is the null hypothesis here? What is more serious here: making a Type I error (false positive) or Type II error (false negative)? Why?"
   ]
  },
  {
   "cell_type": "markdown",
   "metadata": {},
   "source": [
    "**Answer.**\n",
    "\n",
    "1. $H_0$: the person does not have HIV. Making a type II error is serious here as this could lead to a severely shortened life expectancy if they do not receive the proper treatments they need.\n",
    "2. $H_0$: the email is not spam. Making a type I error is more serious here. Type I error means that you falsely conclude a non-spam email to be spam. This could hurt you since you may miss an important email from your boss."
   ]
  },
  {
   "cell_type": "markdown",
   "metadata": {},
   "source": [
    "## Controlling the Type I error: significance level (15 min)"
   ]
  },
  {
   "cell_type": "markdown",
   "metadata": {},
   "source": [
    "It is standard practice to minimize the probability of making a Type I error. The probability, usually denoted by $\\alpha$, is the significance level we introduced above. Typically we choose our significance level $\\alpha$ to be $5\\%$. Thus, if we reject $H_0$ with $\\alpha = 0.05$, then there is only a $5\\%$ chance that the conclusion we make is a false positive. Lowering the $\\alpha$ value (say to $1\\%$) will decrease the probability of making a false positive conclusion.\n",
    "\n",
    "Of course, as we discussed before, because we control $\\alpha$, we cannot control the Type II error we make. "
   ]
  },
  {
   "cell_type": "markdown",
   "metadata": {
    "colab_type": "text",
    "id": "bJZNzPTBm2Q2"
   },
   "source": [
    "### Finding cohorts within your customer base (5 min)\n",
    "\n",
    "The goal of your team is to determine whether there are differences among different groups of customers in terms of bank balances. We start by looking at balances for two cohorts: those who took out a loan and those who didn't:"
   ]
  },
  {
   "cell_type": "code",
   "execution_count": 10,
   "metadata": {
    "colab": {
     "base_uri": "https://localhost:8080/",
     "height": 283
    },
    "colab_type": "code",
    "id": "gmFbmYIveTBt",
    "outputId": "a14928c6-c740-4e0a-e39c-8bffd13728e6"
   },
   "outputs": [
    {
     "data": {
      "image/png": "[encoded data removed]",
      "text/plain": [
       "<Figure size 432x288 with 1 Axes>"
      ]
     },
     "metadata": {},
     "output_type": "display_data"
    }
   ],
   "source": [
    "ax = sns.stripplot(x=\"loan\", y=\"balance\", data=bank)\n",
    "plt.ylabel('balance')\n",
    "plt.show()"
   ]
  },
  {
   "cell_type": "markdown",
   "metadata": {
    "colab_type": "text",
    "id": "ht0A1wS5m9WU"
   },
   "source": [
    "Since the distribution of the data has heavy tails, it is hard to tell much from the strip plot whether there is a difference between the two subgroup means. We continue our data analysis by looking at summary statistics for each of the two groups:"
   ]
  },
  {
   "cell_type": "code",
   "execution_count": 11,
   "metadata": {
    "colab": {
     "base_uri": "https://localhost:8080/",
     "height": 183
    },
    "colab_type": "code",
    "id": "Y7EtTq5Uc65h",
    "outputId": "66e934b9-f962-42ac-c0a0-06f3c8063fd1"
   },
   "outputs": [
    {
     "data": {
      "text/plain": [
       "count     7244.000000\n",
       "mean       774.309912\n",
       "std       1908.283253\n",
       "min      -8019.000000\n",
       "25%          2.000000\n",
       "50%        258.000000\n",
       "75%        864.250000\n",
       "max      51439.000000\n",
       "Name: balance, dtype: float64"
      ]
     },
     "execution_count": 11,
     "metadata": {},
     "output_type": "execute_result"
    }
   ],
   "source": [
    "bank[bank.loan==\"yes\"].balance.describe()"
   ]
  },
  {
   "cell_type": "code",
   "execution_count": 12,
   "metadata": {
    "colab": {
     "base_uri": "https://localhost:8080/",
     "height": 183
    },
    "colab_type": "code",
    "id": "sE8csnLec-xa",
    "outputId": "d69cbe03-f326-40de-f287-21de9daec634"
   },
   "outputs": [
    {
     "data": {
      "text/plain": [
       "count     37967.000000\n",
       "mean       1474.453631\n",
       "std        3204.088951\n",
       "min       -4057.000000\n",
       "25%          94.000000\n",
       "50%         496.000000\n",
       "75%        1558.000000\n",
       "max      102127.000000\n",
       "Name: balance, dtype: float64"
      ]
     },
     "execution_count": 12,
     "metadata": {},
     "output_type": "execute_result"
    }
   ],
   "source": [
    "bank[bank.loan==\"no\"].balance.describe()"
   ]
  },
  {
   "cell_type": "markdown",
   "metadata": {
    "colab_type": "text",
    "id": "4kU6dlOanDTU"
   },
   "source": [
    "### Are the means of the loan and no loan groups significantly different? (5 min)\n",
    "\n",
    "We would like to test statistically whether the two group means are different from each other; that is, whether the difference between the mean balance in the groups with a loan ($\\mu_1$) is different than the mean balance in the group with no loan ($\\mu_2$). The testing procedure that we described can be used also to answer this question:\n",
    "$$ H_0: \\mu_1=\\mu_2$$\n",
    "$$H_a: \\mu_1 \\neq \\mu_2$$\n",
    "\n",
    "We get the following output:"
   ]
  },
  {
   "cell_type": "code",
   "execution_count": 13,
   "metadata": {
    "colab": {
     "base_uri": "https://localhost:8080/",
     "height": 35
    },
    "colab_type": "code",
    "id": "QuS9muu0fSvn",
    "outputId": "ce3753ff-1c31-4304-b192-52a765781dea"
   },
   "outputs": [
    {
     "data": {
      "text/plain": [
       "(-25.18086057755715, 2.7640564777544156e-137)"
      ]
     },
     "execution_count": 13,
     "metadata": {},
     "output_type": "execute_result"
    }
   ],
   "source": [
    "loans=bank[bank.loan==\"yes\"].balance\n",
    "no_loans=bank[bank.loan==\"no\"].balance\n",
    "\n",
    "statistic, pvalue = stats.ttest_ind(loans,no_loans, equal_var=False)\n",
    "statistic, pvalue"
   ]
  },
  {
   "cell_type": "markdown",
   "metadata": {},
   "source": [
    "### Question: (2 min)\n",
    "\n",
    "What would you conclude from the above test?"
   ]
  },
  {
   "cell_type": "markdown",
   "metadata": {
    "colab_type": "text",
    "id": "S3Aa_hUXnFeq"
   },
   "source": [
    "**Answer:** The $p$ - value is very small (p = 2.76 e-1376); hence, we reject the null hypothesis that the two groups have the same mean."
   ]
  },
  {
   "cell_type": "markdown",
   "metadata": {
    "colab_type": "text",
    "id": "LUE063ORnT-Y"
   },
   "source": [
    "### Differences by education (5 min)\n",
    "\n",
    "In our search to determine what factors are important in customer segmentation, we can identify in this large dataset if education plays a role in customer behavior. The variable `education` has 4 categories:"
   ]
  },
  {
   "cell_type": "code",
   "execution_count": 14,
   "metadata": {
    "colab": {
     "base_uri": "https://localhost:8080/",
     "height": 35
    },
    "colab_type": "code",
    "id": "jj8uzPVsjWfD",
    "outputId": "a88582bd-a847-46da-b314-cf9634bfd161"
   },
   "outputs": [
    {
     "data": {
      "text/plain": [
       "array(['tertiary', 'secondary', 'unknown', 'primary'], dtype=object)"
      ]
     },
     "execution_count": 14,
     "metadata": {},
     "output_type": "execute_result"
    }
   ],
   "source": [
    "bank[\"education\"].unique()"
   ]
  },
  {
   "cell_type": "markdown",
   "metadata": {
    "colab_type": "text",
    "id": "wj9mgrxbnYR3"
   },
   "source": [
    "### Exercise 6: ( 3 min)\n",
    "\n",
    "Below we have written code to plot the balance by education via a strip plot (i.e. grouped 1D scatterplot). From your visual exploration, do you think there is a difference across the groups? "
   ]
  },
  {
   "cell_type": "code",
   "execution_count": 15,
   "metadata": {
    "colab": {
     "base_uri": "https://localhost:8080/",
     "height": 283
    },
    "colab_type": "code",
    "id": "CQbvXtrygj44",
    "outputId": "057fd2bf-f7da-47aa-8f0f-fdb96fe02214"
   },
   "outputs": [
    {
     "data": {
      "image/png": "[encoded data removed]",
      "text/plain": [
       "<Figure size 432x288 with 1 Axes>"
      ]
     },
     "metadata": {},
     "output_type": "display_data"
    }
   ],
   "source": [
    "ax = sns.stripplot(x=\"education\", y=\"balance\", data=bank)\n",
    "plt.ylabel('balance')\n",
    "plt.show()"
   ]
  },
  {
   "cell_type": "markdown",
   "metadata": {
    "colab_type": "text",
    "id": "AUmV2Nynnbqo"
   },
   "source": [
    "**Answer.** The standard visual representation in this case does not provide too much insight; thus, we need an alternative method to investigate further."
   ]
  },
  {
   "cell_type": "markdown",
   "metadata": {
    "colab_type": "text",
    "id": "A7qO67bwnhAt"
   },
   "source": [
    "## Do bank balances differ significantly across education cohorts? (25 min)\n",
    "\n",
    "Our new hypothesis will be:\n",
    "\n",
    "$$ H_0: \\mu_1=\\mu_2=\\mu_3=\\mu_4$$\n",
    "$$H_a : \\mathrm{At \\,least\\, one\\, of\\, the\\, means\\,} \\mu_j \\mathrm{\\,is \\,different\\, from\\, the \\,others}.$$\n",
    "\n",
    "To test this hypothesis we need an extension of the capabilities of the $t$ - test (which can test only two groups at the same time). This test is called **Analysis of Variance (ANOVA)**."
   ]
  },
  {
   "cell_type": "code",
   "execution_count": 16,
   "metadata": {
    "colab": {
     "base_uri": "https://localhost:8080/",
     "height": 110
    },
    "colab_type": "code",
    "id": "CMxvkQoNwtAQ",
    "outputId": "46622b60-6ebe-440c-fc2c-f808c2217f6c"
   },
   "outputs": [
    {
     "data": {
      "text/html": [
       "<div>\n",
       "<style scoped>\n",
       "    .dataframe tbody tr th:only-of-type {\n",
       "        vertical-align: middle;\n",
       "    }\n",
       "\n",
       "    .dataframe tbody tr th {\n",
       "        vertical-align: top;\n",
       "    }\n",
       "\n",
       "    .dataframe thead th {\n",
       "        text-align: right;\n",
       "    }\n",
       "</style>\n",
       "<table border=\"1\" class=\"dataframe\">\n",
       "  <thead>\n",
       "    <tr style=\"text-align: right;\">\n",
       "      <th></th>\n",
       "      <th>sum_sq</th>\n",
       "      <th>df</th>\n",
       "      <th>F</th>\n",
       "      <th>PR(&gt;F)</th>\n",
       "    </tr>\n",
       "  </thead>\n",
       "  <tbody>\n",
       "    <tr>\n",
       "      <th>education</th>\n",
       "      <td>3.220417e+09</td>\n",
       "      <td>3.0</td>\n",
       "      <td>116.682074</td>\n",
       "      <td>2.849538e-75</td>\n",
       "    </tr>\n",
       "    <tr>\n",
       "      <th>Residual</th>\n",
       "      <td>4.159034e+11</td>\n",
       "      <td>45207.0</td>\n",
       "      <td>NaN</td>\n",
       "      <td>NaN</td>\n",
       "    </tr>\n",
       "  </tbody>\n",
       "</table>\n",
       "</div>"
      ],
      "text/plain": [
       "                 sum_sq       df           F        PR(>F)\n",
       "education  3.220417e+09      3.0  116.682074  2.849538e-75\n",
       "Residual   4.159034e+11  45207.0         NaN           NaN"
      ]
     },
     "execution_count": 16,
     "metadata": {},
     "output_type": "execute_result"
    }
   ],
   "source": [
    "mod = ols('balance ~ education', data=bank).fit()  \n",
    "aov_table = sm.stats.anova_lm(mod, typ=2)\n",
    "aov_table"
   ]
  },
  {
   "cell_type": "markdown",
   "metadata": {
    "colab_type": "text",
    "id": "paIpyiA2npGK"
   },
   "source": [
    "As we can see, looking at the $p$ - value that accompanies the $F$ - statistics, we obtain a strong rejection of the null hypothesis, leading us to conclude that education groups have some differences in their means. The ANOVA test does not tell us which pair of groups have means that are different from each other. To investigate these differences further, we are going first to report the descriptive statistics by group, and then display the group means in a bar chart:"
   ]
  },
  {
   "cell_type": "code",
   "execution_count": 17,
   "metadata": {
    "colab": {
     "base_uri": "https://localhost:8080/",
     "height": 183
    },
    "colab_type": "code",
    "id": "K1xtB53Ig8Yq",
    "outputId": "983e3419-46a2-4255-fd4b-03c6ba02f9cb"
   },
   "outputs": [
    {
     "data": {
      "text/plain": [
       "count     6851.000000\n",
       "mean      1250.949934\n",
       "std       2690.743991\n",
       "min      -2604.000000\n",
       "25%         61.000000\n",
       "50%        403.000000\n",
       "75%       1390.000000\n",
       "max      71188.000000\n",
       "Name: balance, dtype: float64"
      ]
     },
     "execution_count": 17,
     "metadata": {},
     "output_type": "execute_result"
    }
   ],
   "source": [
    "bank[bank.education==\"primary\"].balance.describe()"
   ]
  },
  {
   "cell_type": "code",
   "execution_count": 18,
   "metadata": {
    "colab": {
     "base_uri": "https://localhost:8080/",
     "height": 183
    },
    "colab_type": "code",
    "id": "MOHTHDGqhGzJ",
    "outputId": "55ad8a83-c1da-4e0c-a1d3-83191474555d"
   },
   "outputs": [
    {
     "data": {
      "text/plain": [
       "count    23202.000000\n",
       "mean      1154.880786\n",
       "std       2558.256739\n",
       "min      -8019.000000\n",
       "25%         55.000000\n",
       "50%        392.000000\n",
       "75%       1234.000000\n",
       "max      81204.000000\n",
       "Name: balance, dtype: float64"
      ]
     },
     "execution_count": 18,
     "metadata": {},
     "output_type": "execute_result"
    }
   ],
   "source": [
    "bank[bank.education==\"secondary\"].balance.describe()"
   ]
  },
  {
   "cell_type": "code",
   "execution_count": 19,
   "metadata": {
    "colab": {
     "base_uri": "https://localhost:8080/",
     "height": 183
    },
    "colab_type": "code",
    "id": "Fkg9S7LThIfw",
    "outputId": "e90ea400-317e-4350-e971-6e2c582fb57a"
   },
   "outputs": [
    {
     "data": {
      "text/plain": [
       "count     13301.000000\n",
       "mean       1758.416435\n",
       "std        3839.088305\n",
       "min       -6847.000000\n",
       "25%         104.000000\n",
       "50%         577.000000\n",
       "75%        1804.000000\n",
       "max      102127.000000\n",
       "Name: balance, dtype: float64"
      ]
     },
     "execution_count": 19,
     "metadata": {},
     "output_type": "execute_result"
    }
   ],
   "source": [
    "bank[bank.education==\"tertiary\"].balance.describe()"
   ]
  },
  {
   "cell_type": "code",
   "execution_count": 20,
   "metadata": {
    "colab": {
     "base_uri": "https://localhost:8080/",
     "height": 183
    },
    "colab_type": "code",
    "id": "7WGb6P5uhLNO",
    "outputId": "be9a65b9-249c-41b8-bbe1-8450b6158d23"
   },
   "outputs": [
    {
     "data": {
      "text/plain": [
       "count     1857.000000\n",
       "mean      1526.754443\n",
       "std       3152.228273\n",
       "min      -1445.000000\n",
       "25%        106.000000\n",
       "50%        568.000000\n",
       "75%       1699.000000\n",
       "max      64343.000000\n",
       "Name: balance, dtype: float64"
      ]
     },
     "execution_count": 20,
     "metadata": {},
     "output_type": "execute_result"
    }
   ],
   "source": [
    "bank[bank.education==\"unknown\"].balance.describe()"
   ]
  },
  {
   "cell_type": "code",
   "execution_count": 21,
   "metadata": {
    "colab": {
     "base_uri": "https://localhost:8080/",
     "height": 283
    },
    "colab_type": "code",
    "id": "h9TOUV_4n9_u",
    "outputId": "36e058f2-2b79-47ad-f5e0-51608081e733"
   },
   "outputs": [
    {
     "data": {
      "image/png": "[encoded data removed]",
      "text/plain": [
       "<Figure size 432x288 with 1 Axes>"
      ]
     },
     "metadata": {},
     "output_type": "display_data"
    }
   ],
   "source": [
    "mean_balance_education=bank.groupby(by=\"education\").balance.mean()\n",
    "sns.barplot(x=mean_balance_education.index, y=mean_balance_education.values, color=\"green\")\n",
    "plt.ylabel(\"Mean balance\")\n",
    "plt.show()"
   ]
  },
  {
   "cell_type": "markdown",
   "metadata": {
    "colab_type": "text",
    "id": "HbPCXYfKox2Q"
   },
   "source": [
    "Qualitatively there seems to be a big difference between tertiary and lower education levels, but the difference between primary and secondary education groups is more difficult to assess. We want to test if there is a significant difference in each pairwise comparison. To test this sequence of hypotheses we can use a variant of the $t$ - test, called a **pairwise $t$ - test**.\n"
   ]
  },
  {
   "cell_type": "code",
   "execution_count": 22,
   "metadata": {
    "colab": {
     "base_uri": "https://localhost:8080/",
     "height": 146
    },
    "colab_type": "code",
    "id": "IeAXp9Sbsv1q",
    "outputId": "71a8a597-992f-4132-f433-f94d0a274fdc"
   },
   "outputs": [
    {
     "name": "stdout",
     "output_type": "stream",
     "text": [
      "\t\t\tstatistic\t\tpvalue\n",
      "tertiary vs. secondary\t16.18717929985782\t1.4525474790099814e-58\n",
      "tertiary vs. unknown\t2.8825321831203117\t0.003976238237673688\n",
      "tertiary vs. primary\t10.906634331433306\t1.3023845080432282e-27\n",
      "secondary vs. unknown\t-4.95482328681934\t7.83111710943088e-07\n",
      "secondary vs. primary\t-2.6255174227477864\t0.0086639693661419\n",
      "unknown vs. primary\t3.445496944400963\t0.0005789323657180873\n"
     ]
    }
   ],
   "source": [
    "gb = bank.groupby(['education'])\n",
    "group_names = bank[\"education\"].unique()\n",
    "print(\"\\t\\t\\tstatistic\\t\\tpvalue\")\n",
    "for i in range(len(group_names)):\n",
    "  for j in range(i+1, len(group_names)):\n",
    "    group1 = gb[[\"balance\"]].get_group(group_names[i])\n",
    "    group2 = gb[[\"balance\"]].get_group(group_names[j])\n",
    "    stat, pvalue = stats.ttest_ind(group1, group2, equal_var = False)\n",
    "    print(group_names[i] + \" vs. \" + group_names[j] + \"\\t\" + str(stat[0]) + \"\\t\" + str(pvalue[0]))"
   ]
  },
  {
   "cell_type": "markdown",
   "metadata": {
    "colab_type": "text",
    "id": "t8Cazq0Xvp0B"
   },
   "source": [
    "The summary output above signals that there is a significant difference between each pairwise comparison.\n"
   ]
  },
  {
   "cell_type": "markdown",
   "metadata": {
    "colab_type": "text",
    "id": "knu1EmVE4wKb"
   },
   "source": [
    "### Exercise 7: (4 min)\n",
    "\n",
    "There are six comparisons in total that have to be conducted because the variable education has 4 levels. Discuss with a partner if, in your opinion, performing multiple tests simultaneously can increase the risk of erroneous inferences.\n",
    "What will increase: Type I error or Type II error?\n",
    "\n",
    "**Answer.** Yes, the more comparisons we run simultaneously, the higher the risk of observing some \"false positives\" or making a Type I error. Basically, if your torture the data enough, it will confess."
   ]
  },
  {
   "cell_type": "markdown",
   "metadata": {},
   "source": [
    "### Multiple comparisons: the Bonferroni correction (15 min)"
   ]
  },
  {
   "cell_type": "markdown",
   "metadata": {},
   "source": [
    "There are many ways to correct this issue, known as the \"multiple comparisons\" problem. One of the most classical methods is the Bonferroni correction. This method divides the significance level $\\alpha$ by the number of multiple comparisons being performed (6 in this case). So if our $\\alpha=0.05$ we will reject the null hypothesis only if the $p$ - value is less than 0.00833.\n",
    "\n",
    "Notice that the $p$ - value for the comparison between \"primary\" and \"secondary\" education is 0.02126, and therefore higher than the adjusted confidence level. After the correction we cannot reject the null hypothesis that this pair has significantly different means. Several software packages directly adjust the $p$ - values for the increased probability of observing a false positive. If we perform this method for `education`, we get the following output:"
   ]
  },
  {
   "cell_type": "code",
   "execution_count": 23,
   "metadata": {},
   "outputs": [
    {
     "data": {
      "text/html": [
       "<div>\n",
       "<style scoped>\n",
       "    .dataframe tbody tr th:only-of-type {\n",
       "        vertical-align: middle;\n",
       "    }\n",
       "\n",
       "    .dataframe tbody tr th {\n",
       "        vertical-align: top;\n",
       "    }\n",
       "\n",
       "    .dataframe thead th {\n",
       "        text-align: right;\n",
       "    }\n",
       "</style>\n",
       "<table border=\"1\" class=\"dataframe\">\n",
       "  <thead>\n",
       "    <tr style=\"text-align: right;\">\n",
       "      <th></th>\n",
       "      <th>Contrast</th>\n",
       "      <th>A</th>\n",
       "      <th>B</th>\n",
       "      <th>Paired</th>\n",
       "      <th>Parametric</th>\n",
       "      <th>T</th>\n",
       "      <th>dof</th>\n",
       "      <th>Tail</th>\n",
       "      <th>p-unc</th>\n",
       "      <th>p-corr</th>\n",
       "      <th>p-adjust</th>\n",
       "      <th>BF10</th>\n",
       "      <th>hedges</th>\n",
       "    </tr>\n",
       "  </thead>\n",
       "  <tbody>\n",
       "    <tr>\n",
       "      <th>0</th>\n",
       "      <td>education</td>\n",
       "      <td>tertiary</td>\n",
       "      <td>secondary</td>\n",
       "      <td>False</td>\n",
       "      <td>True</td>\n",
       "      <td>16.187</td>\n",
       "      <td>20183.40</td>\n",
       "      <td>two-sided</td>\n",
       "      <td>1.452547e-58</td>\n",
       "      <td>8.715285e-58</td>\n",
       "      <td>bonf</td>\n",
       "      <td>5.742e+54</td>\n",
       "      <td>0.195</td>\n",
       "    </tr>\n",
       "    <tr>\n",
       "      <th>1</th>\n",
       "      <td>education</td>\n",
       "      <td>tertiary</td>\n",
       "      <td>unknown</td>\n",
       "      <td>False</td>\n",
       "      <td>True</td>\n",
       "      <td>2.883</td>\n",
       "      <td>2688.20</td>\n",
       "      <td>two-sided</td>\n",
       "      <td>3.976238e-03</td>\n",
       "      <td>2.385743e-02</td>\n",
       "      <td>bonf</td>\n",
       "      <td>1.76</td>\n",
       "      <td>0.062</td>\n",
       "    </tr>\n",
       "    <tr>\n",
       "      <th>2</th>\n",
       "      <td>education</td>\n",
       "      <td>tertiary</td>\n",
       "      <td>primary</td>\n",
       "      <td>False</td>\n",
       "      <td>True</td>\n",
       "      <td>10.907</td>\n",
       "      <td>18353.42</td>\n",
       "      <td>two-sided</td>\n",
       "      <td>1.302385e-27</td>\n",
       "      <td>7.814307e-27</td>\n",
       "      <td>bonf</td>\n",
       "      <td>9.088e+23</td>\n",
       "      <td>0.145</td>\n",
       "    </tr>\n",
       "    <tr>\n",
       "      <th>3</th>\n",
       "      <td>education</td>\n",
       "      <td>secondary</td>\n",
       "      <td>unknown</td>\n",
       "      <td>False</td>\n",
       "      <td>True</td>\n",
       "      <td>-4.955</td>\n",
       "      <td>2056.38</td>\n",
       "      <td>two-sided</td>\n",
       "      <td>7.831117e-07</td>\n",
       "      <td>4.698670e-06</td>\n",
       "      <td>bonf</td>\n",
       "      <td>5633.685</td>\n",
       "      <td>-0.143</td>\n",
       "    </tr>\n",
       "    <tr>\n",
       "      <th>4</th>\n",
       "      <td>education</td>\n",
       "      <td>secondary</td>\n",
       "      <td>primary</td>\n",
       "      <td>False</td>\n",
       "      <td>True</td>\n",
       "      <td>-2.626</td>\n",
       "      <td>10768.24</td>\n",
       "      <td>two-sided</td>\n",
       "      <td>8.663969e-03</td>\n",
       "      <td>5.198382e-02</td>\n",
       "      <td>bonf</td>\n",
       "      <td>0.486</td>\n",
       "      <td>-0.037</td>\n",
       "    </tr>\n",
       "    <tr>\n",
       "      <th>5</th>\n",
       "      <td>education</td>\n",
       "      <td>unknown</td>\n",
       "      <td>primary</td>\n",
       "      <td>False</td>\n",
       "      <td>True</td>\n",
       "      <td>3.445</td>\n",
       "      <td>2633.68</td>\n",
       "      <td>two-sided</td>\n",
       "      <td>5.789324e-04</td>\n",
       "      <td>3.473594e-03</td>\n",
       "      <td>bonf</td>\n",
       "      <td>10.941</td>\n",
       "      <td>0.099</td>\n",
       "    </tr>\n",
       "  </tbody>\n",
       "</table>\n",
       "</div>"
      ],
      "text/plain": [
       "    Contrast          A          B  Paired  Parametric       T       dof  \\\n",
       "0  education   tertiary  secondary   False        True  16.187  20183.40   \n",
       "1  education   tertiary    unknown   False        True   2.883   2688.20   \n",
       "2  education   tertiary    primary   False        True  10.907  18353.42   \n",
       "3  education  secondary    unknown   False        True  -4.955   2056.38   \n",
       "4  education  secondary    primary   False        True  -2.626  10768.24   \n",
       "5  education    unknown    primary   False        True   3.445   2633.68   \n",
       "\n",
       "        Tail         p-unc        p-corr p-adjust       BF10  hedges  \n",
       "0  two-sided  1.452547e-58  8.715285e-58     bonf  5.742e+54   0.195  \n",
       "1  two-sided  3.976238e-03  2.385743e-02     bonf       1.76   0.062  \n",
       "2  two-sided  1.302385e-27  7.814307e-27     bonf  9.088e+23   0.145  \n",
       "3  two-sided  7.831117e-07  4.698670e-06     bonf   5633.685  -0.143  \n",
       "4  two-sided  8.663969e-03  5.198382e-02     bonf      0.486  -0.037  \n",
       "5  two-sided  5.789324e-04  3.473594e-03     bonf     10.941   0.099  "
      ]
     },
     "execution_count": 23,
     "metadata": {},
     "output_type": "execute_result"
    }
   ],
   "source": [
    "pairwise_results = pairwise_ttests(dv='balance', between = ['education'], padjust='bonf', data=bank)\n",
    "pairwise_results"
   ]
  },
  {
   "cell_type": "markdown",
   "metadata": {
    "colab_type": "text",
    "id": "nZh7n2nF42Fc"
   },
   "source": [
    "In the above table, ``p-unc`` stands for the uncorrected $p$ - value, and ``p-adjust`` stands for the corrected $p$ - value. The adjusted $p$ - value for \"secondary vs. primary\" is 0.052 (greater than 0.05), confiriming our calculation. We thus reject all of the null hypotheses except for the \"secondary vs. primary\" case."
   ]
  },
  {
   "cell_type": "markdown",
   "metadata": {
    "colab_type": "text",
    "id": "-qaM4jO-46fb"
   },
   "source": [
    "### Exercise 8: (10 min)\n",
    "\n",
    "Perform an exploratory data analysis of the bank balance by job title. Write code to answer the following two questions:\n",
    "\n",
    "1. Are the group means the same? Write a hypothesis for this, clearly stating what $H_0$ is.\n",
    "2. Do a pairwise hypothesis test for comparing the different group means, applying the Bonferroni correction.\n",
    "3. Do you find any of the results of hypothesis tests of customers in management vs. other groups surprising?"
   ]
  },
  {
   "cell_type": "markdown",
   "metadata": {},
   "source": [
    "**Answer.** One possible solution is given below:"
   ]
  },
  {
   "cell_type": "code",
   "execution_count": 24,
   "metadata": {
    "colab": {
     "base_uri": "https://localhost:8080/",
     "height": 301
    },
    "colab_type": "code",
    "id": "wq-dt-G25YqE",
    "outputId": "d2c7ad4e-cb52-4526-b8b9-4beae7092b01"
   },
   "outputs": [
    {
     "data": {
      "image/png": "[encoded data removed]",
      "text/plain": [
       "<Figure size 1008x288 with 1 Axes>"
      ]
     },
     "metadata": {},
     "output_type": "display_data"
    }
   ],
   "source": [
    "boxplot = bank.boxplot(column=['balance'], by=\"job\",figsize=(14,4))\n",
    "boxplot.axes.set_title(\"\")\n",
    "plt.ylabel('balance')\n",
    "plt.show()"
   ]
  },
  {
   "cell_type": "code",
   "execution_count": 25,
   "metadata": {
    "colab": {
     "base_uri": "https://localhost:8080/",
     "height": 283
    },
    "colab_type": "code",
    "id": "l2c4a9Kg5_7f",
    "outputId": "4aa6c269-f794-43d7-c2ef-f383fe9f7282"
   },
   "outputs": [
    {
     "data": {
      "image/png": "[encoded data removed]",
      "text/plain": [
       "<Figure size 1008x288 with 1 Axes>"
      ]
     },
     "metadata": {},
     "output_type": "display_data"
    }
   ],
   "source": [
    "plt.figure(figsize=(14,4))\n",
    "ax = sns.stripplot(x=\"job\", y=\"balance\", data=bank)\n",
    "plt.ylabel('balance')\n",
    "plt.show()"
   ]
  },
  {
   "cell_type": "code",
   "execution_count": 26,
   "metadata": {
    "colab": {
     "base_uri": "https://localhost:8080/",
     "height": 110
    },
    "colab_type": "code",
    "id": "U2mqZvB_7TFT",
    "outputId": "01e6ae84-b2ce-4b4f-ebb8-e1774648ab14"
   },
   "outputs": [
    {
     "data": {
      "text/html": [
       "<div>\n",
       "<style scoped>\n",
       "    .dataframe tbody tr th:only-of-type {\n",
       "        vertical-align: middle;\n",
       "    }\n",
       "\n",
       "    .dataframe tbody tr th {\n",
       "        vertical-align: top;\n",
       "    }\n",
       "\n",
       "    .dataframe thead th {\n",
       "        text-align: right;\n",
       "    }\n",
       "</style>\n",
       "<table border=\"1\" class=\"dataframe\">\n",
       "  <thead>\n",
       "    <tr style=\"text-align: right;\">\n",
       "      <th></th>\n",
       "      <th>sum_sq</th>\n",
       "      <th>df</th>\n",
       "      <th>F</th>\n",
       "      <th>PR(&gt;F)</th>\n",
       "    </tr>\n",
       "  </thead>\n",
       "  <tbody>\n",
       "    <tr>\n",
       "      <th>job</th>\n",
       "      <td>4.341414e+09</td>\n",
       "      <td>11.0</td>\n",
       "      <td>43.007783</td>\n",
       "      <td>5.709430e-94</td>\n",
       "    </tr>\n",
       "    <tr>\n",
       "      <th>Residual</th>\n",
       "      <td>4.147824e+11</td>\n",
       "      <td>45199.0</td>\n",
       "      <td>NaN</td>\n",
       "      <td>NaN</td>\n",
       "    </tr>\n",
       "  </tbody>\n",
       "</table>\n",
       "</div>"
      ],
      "text/plain": [
       "                sum_sq       df          F        PR(>F)\n",
       "job       4.341414e+09     11.0  43.007783  5.709430e-94\n",
       "Residual  4.147824e+11  45199.0        NaN           NaN"
      ]
     },
     "execution_count": 26,
     "metadata": {},
     "output_type": "execute_result"
    }
   ],
   "source": [
    "mod = ols('balance ~ job', data=bank).fit()  \n",
    "aov_table = sm.stats.anova_lm(mod, typ=2)\n",
    "aov_table"
   ]
  },
  {
   "cell_type": "code",
   "execution_count": 27,
   "metadata": {},
   "outputs": [
    {
     "data": {
      "text/html": [
       "<div>\n",
       "<style scoped>\n",
       "    .dataframe tbody tr th:only-of-type {\n",
       "        vertical-align: middle;\n",
       "    }\n",
       "\n",
       "    .dataframe tbody tr th {\n",
       "        vertical-align: top;\n",
       "    }\n",
       "\n",
       "    .dataframe thead th {\n",
       "        text-align: right;\n",
       "    }\n",
       "</style>\n",
       "<table border=\"1\" class=\"dataframe\">\n",
       "  <thead>\n",
       "    <tr style=\"text-align: right;\">\n",
       "      <th></th>\n",
       "      <th>Contrast</th>\n",
       "      <th>A</th>\n",
       "      <th>B</th>\n",
       "      <th>Paired</th>\n",
       "      <th>Parametric</th>\n",
       "      <th>T</th>\n",
       "      <th>dof</th>\n",
       "      <th>Tail</th>\n",
       "      <th>p-unc</th>\n",
       "      <th>p-corr</th>\n",
       "      <th>p-adjust</th>\n",
       "      <th>BF10</th>\n",
       "      <th>hedges</th>\n",
       "    </tr>\n",
       "  </thead>\n",
       "  <tbody>\n",
       "    <tr>\n",
       "      <th>0</th>\n",
       "      <td>job</td>\n",
       "      <td>management</td>\n",
       "      <td>technician</td>\n",
       "      <td>False</td>\n",
       "      <td>True</td>\n",
       "      <td>10.430</td>\n",
       "      <td>16520.44</td>\n",
       "      <td>two-sided</td>\n",
       "      <td>2.169693e-25</td>\n",
       "      <td>1.431997e-23</td>\n",
       "      <td>bonf</td>\n",
       "      <td>5.845e+21</td>\n",
       "      <td>0.154</td>\n",
       "    </tr>\n",
       "    <tr>\n",
       "      <th>1</th>\n",
       "      <td>job</td>\n",
       "      <td>management</td>\n",
       "      <td>entrepreneur</td>\n",
       "      <td>False</td>\n",
       "      <td>True</td>\n",
       "      <td>2.112</td>\n",
       "      <td>1902.92</td>\n",
       "      <td>two-sided</td>\n",
       "      <td>3.482514e-02</td>\n",
       "      <td>1.000000e+00</td>\n",
       "      <td>bonf</td>\n",
       "      <td>0.29</td>\n",
       "      <td>0.063</td>\n",
       "    </tr>\n",
       "    <tr>\n",
       "      <th>2</th>\n",
       "      <td>job</td>\n",
       "      <td>management</td>\n",
       "      <td>blue-collar</td>\n",
       "      <td>False</td>\n",
       "      <td>True</td>\n",
       "      <td>15.084</td>\n",
       "      <td>15180.50</td>\n",
       "      <td>two-sided</td>\n",
       "      <td>4.851609e-51</td>\n",
       "      <td>3.202062e-49</td>\n",
       "      <td>bonf</td>\n",
       "      <td>1.95e+47</td>\n",
       "      <td>0.219</td>\n",
       "    </tr>\n",
       "    <tr>\n",
       "      <th>3</th>\n",
       "      <td>job</td>\n",
       "      <td>management</td>\n",
       "      <td>unknown</td>\n",
       "      <td>False</td>\n",
       "      <td>True</td>\n",
       "      <td>-0.049</td>\n",
       "      <td>316.66</td>\n",
       "      <td>two-sided</td>\n",
       "      <td>9.611682e-01</td>\n",
       "      <td>1.000000e+00</td>\n",
       "      <td>bonf</td>\n",
       "      <td>0.067</td>\n",
       "      <td>-0.002</td>\n",
       "    </tr>\n",
       "    <tr>\n",
       "      <th>4</th>\n",
       "      <td>job</td>\n",
       "      <td>management</td>\n",
       "      <td>retired</td>\n",
       "      <td>False</td>\n",
       "      <td>True</td>\n",
       "      <td>-2.197</td>\n",
       "      <td>3131.54</td>\n",
       "      <td>two-sided</td>\n",
       "      <td>2.811739e-02</td>\n",
       "      <td>1.000000e+00</td>\n",
       "      <td>bonf</td>\n",
       "      <td>0.293</td>\n",
       "      <td>-0.056</td>\n",
       "    </tr>\n",
       "    <tr>\n",
       "      <th>5</th>\n",
       "      <td>job</td>\n",
       "      <td>management</td>\n",
       "      <td>admin.</td>\n",
       "      <td>False</td>\n",
       "      <td>True</td>\n",
       "      <td>11.667</td>\n",
       "      <td>13855.65</td>\n",
       "      <td>two-sided</td>\n",
       "      <td>2.619442e-31</td>\n",
       "      <td>1.728832e-29</td>\n",
       "      <td>bonf</td>\n",
       "      <td>4.804e+27</td>\n",
       "      <td>0.182</td>\n",
       "    </tr>\n",
       "    <tr>\n",
       "      <th>6</th>\n",
       "      <td>job</td>\n",
       "      <td>management</td>\n",
       "      <td>services</td>\n",
       "      <td>False</td>\n",
       "      <td>True</td>\n",
       "      <td>14.826</td>\n",
       "      <td>12787.55</td>\n",
       "      <td>two-sided</td>\n",
       "      <td>2.556646e-49</td>\n",
       "      <td>1.687386e-47</td>\n",
       "      <td>bonf</td>\n",
       "      <td>4.105e+45</td>\n",
       "      <td>0.225</td>\n",
       "    </tr>\n",
       "    <tr>\n",
       "      <th>7</th>\n",
       "      <td>job</td>\n",
       "      <td>management</td>\n",
       "      <td>self-employed</td>\n",
       "      <td>False</td>\n",
       "      <td>True</td>\n",
       "      <td>1.148</td>\n",
       "      <td>2184.52</td>\n",
       "      <td>two-sided</td>\n",
       "      <td>2.509488e-01</td>\n",
       "      <td>1.000000e+00</td>\n",
       "      <td>bonf</td>\n",
       "      <td>0.059</td>\n",
       "      <td>0.030</td>\n",
       "    </tr>\n",
       "    <tr>\n",
       "      <th>8</th>\n",
       "      <td>job</td>\n",
       "      <td>management</td>\n",
       "      <td>unemployed</td>\n",
       "      <td>False</td>\n",
       "      <td>True</td>\n",
       "      <td>2.531</td>\n",
       "      <td>1875.47</td>\n",
       "      <td>two-sided</td>\n",
       "      <td>1.146511e-02</td>\n",
       "      <td>7.566972e-01</td>\n",
       "      <td>bonf</td>\n",
       "      <td>0.809</td>\n",
       "      <td>0.065</td>\n",
       "    </tr>\n",
       "    <tr>\n",
       "      <th>9</th>\n",
       "      <td>job</td>\n",
       "      <td>management</td>\n",
       "      <td>housemaid</td>\n",
       "      <td>False</td>\n",
       "      <td>True</td>\n",
       "      <td>3.973</td>\n",
       "      <td>1818.30</td>\n",
       "      <td>two-sided</td>\n",
       "      <td>7.368307e-05</td>\n",
       "      <td>4.863082e-03</td>\n",
       "      <td>bonf</td>\n",
       "      <td>88.163</td>\n",
       "      <td>0.099</td>\n",
       "    </tr>\n",
       "    <tr>\n",
       "      <th>10</th>\n",
       "      <td>job</td>\n",
       "      <td>management</td>\n",
       "      <td>student</td>\n",
       "      <td>False</td>\n",
       "      <td>True</td>\n",
       "      <td>4.225</td>\n",
       "      <td>1439.56</td>\n",
       "      <td>two-sided</td>\n",
       "      <td>2.539487e-05</td>\n",
       "      <td>1.676061e-03</td>\n",
       "      <td>bonf</td>\n",
       "      <td>276.437</td>\n",
       "      <td>0.101</td>\n",
       "    </tr>\n",
       "  </tbody>\n",
       "</table>\n",
       "</div>"
      ],
      "text/plain": [
       "   Contrast           A              B  Paired  Parametric       T       dof  \\\n",
       "0       job  management     technician   False        True  10.430  16520.44   \n",
       "1       job  management   entrepreneur   False        True   2.112   1902.92   \n",
       "2       job  management    blue-collar   False        True  15.084  15180.50   \n",
       "3       job  management        unknown   False        True  -0.049    316.66   \n",
       "4       job  management        retired   False        True  -2.197   3131.54   \n",
       "5       job  management         admin.   False        True  11.667  13855.65   \n",
       "6       job  management       services   False        True  14.826  12787.55   \n",
       "7       job  management  self-employed   False        True   1.148   2184.52   \n",
       "8       job  management     unemployed   False        True   2.531   1875.47   \n",
       "9       job  management      housemaid   False        True   3.973   1818.30   \n",
       "10      job  management        student   False        True   4.225   1439.56   \n",
       "\n",
       "         Tail         p-unc        p-corr p-adjust       BF10  hedges  \n",
       "0   two-sided  2.169693e-25  1.431997e-23     bonf  5.845e+21   0.154  \n",
       "1   two-sided  3.482514e-02  1.000000e+00     bonf       0.29   0.063  \n",
       "2   two-sided  4.851609e-51  3.202062e-49     bonf   1.95e+47   0.219  \n",
       "3   two-sided  9.611682e-01  1.000000e+00     bonf      0.067  -0.002  \n",
       "4   two-sided  2.811739e-02  1.000000e+00     bonf      0.293  -0.056  \n",
       "5   two-sided  2.619442e-31  1.728832e-29     bonf  4.804e+27   0.182  \n",
       "6   two-sided  2.556646e-49  1.687386e-47     bonf  4.105e+45   0.225  \n",
       "7   two-sided  2.509488e-01  1.000000e+00     bonf      0.059   0.030  \n",
       "8   two-sided  1.146511e-02  7.566972e-01     bonf      0.809   0.065  \n",
       "9   two-sided  7.368307e-05  4.863082e-03     bonf     88.163   0.099  \n",
       "10  two-sided  2.539487e-05  1.676061e-03     bonf    276.437   0.101  "
      ]
     },
     "execution_count": 27,
     "metadata": {},
     "output_type": "execute_result"
    }
   ],
   "source": [
    "pairwise_job_results = pairwise_ttests(dv='balance', between = ['job'], padjust='bonf', data=bank)\n",
    "pairwise_job_results[pairwise_job_results['A']=='management']"
   ]
  },
  {
   "cell_type": "markdown",
   "metadata": {},
   "source": [
    "The account balance of unemployed customers and management customers is not significantly different, and this is surprising!"
   ]
  },
  {
   "cell_type": "markdown",
   "metadata": {
    "colab_type": "text",
    "id": "4Sm485Wg7Xh8"
   },
   "source": [
    "## Conclusions (3 min)\n",
    "\n",
    "After doing exploratory data analysis, we formally introduced hypothesis tests. We saw that education level definitely affects bank balance; customers with a tertiary education seem to have a statistically significant difference in bank balance compared to the rest of the population. However, after adjusting for multiple testing, there does not seem to be a statistically significant difference between customers with a primary and secondary education. We also saw quite a few statistically significant differences in the bank balances of customers with different job profiles."
   ]
  },
  {
   "cell_type": "markdown",
   "metadata": {},
   "source": [
    "## Takeaways (5 min)\n",
    "\n",
    "In this case, we've build the first steps from exploratory data analysis to confirmatory analysis. We have:\n",
    "\n",
    "1. Introduced the concept of hypothesis testing. This tool will help you with problems that involve the detection of differences across populations. Problems like this will be common in your work as a data scientist. \n",
    "2. Understood the importance of recognizing when changes in our data correspond to natural fluctuation or not, and how hypothesis testing can help us with this problem. \n",
    "3. Learned how to interpret the outcome of a hypothesis test using $p$-values. This concept appears in many models that are used in data science and we will see them in several future cases as well. \n",
    "4. Understood the risks of conducting multiple comparisons to the same data and a way to prevent these risks using the Bonferroni correction. Remember, \"If we torture the data enough, it will confess.\""
   ]
  }
 ],
 "metadata": {
  "anaconda-cloud": {},
  "colab": {
   "collapsed_sections": [],
   "name": "Case2.1.ipynb",
   "provenance": []
  },
  "kernelspec": {
   "display_name": "Python 3",
   "language": "python",
   "name": "python3"
  },
  "language_info": {
   "codemirror_mode": {
    "name": "ipython",
    "version": 3
   },
   "file_extension": ".py",
   "mimetype": "text/x-python",
   "name": "python",
   "nbconvert_exporter": "python",
   "pygments_lexer": "ipython3",
   "version": "3.7.4"
  }
 },
 "nbformat": 4,
 "nbformat_minor": 1
}
