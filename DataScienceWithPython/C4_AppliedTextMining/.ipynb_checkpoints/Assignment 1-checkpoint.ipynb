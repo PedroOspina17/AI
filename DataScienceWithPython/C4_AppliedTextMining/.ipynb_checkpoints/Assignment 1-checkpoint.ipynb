{
 "cells": [
  {
   "cell_type": "markdown",
   "metadata": {},
   "source": [
    "---\n",
    "\n",
    "_You are currently looking at **version 1.1** of this notebook. To download notebooks and datafiles, as well as get help on Jupyter notebooks in the Coursera platform, visit the [Jupyter Notebook FAQ](https://www.coursera.org/learn/python-text-mining/resources/d9pwm) course resource._\n",
    "\n",
    "---"
   ]
  },
  {
   "cell_type": "markdown",
   "metadata": {},
   "source": [
    "# Assignment 1\n",
    "\n",
    "In this assignment, you'll be working with messy medical data and using regex to extract relevant infromation from the data. \n",
    "\n",
    "Each line of the `dates.txt` file corresponds to a medical note. Each note has a date that needs to be extracted, but each date is encoded in one of many formats.\n",
    "\n",
    "The goal of this assignment is to correctly identify all of the different date variants encoded in this dataset and to properly normalize and sort the dates. \n",
    "\n",
    "Here is a list of some of the variants you might encounter in this dataset:\n",
    "* 04/20/2009; 04/20/09; 4/20/09; 4/3/09\n",
    "* Mar-20-2009; Mar 20, 2009; March 20, 2009;  Mar. 20, 2009; Mar 20 2009;\n",
    "* 20 Mar 2009; 20 March 2009; 20 Mar. 2009; 20 March, 2009\n",
    "* Mar 20th, 2009; Mar 21st, 2009; Mar 22nd, 2009\n",
    "* Feb 2009; Sep 2009; Oct 2010\n",
    "* 6/2008; 12/2009\n",
    "* 2009; 2010\n",
    "\n",
    "Once you have extracted these date patterns from the text, the next step is to sort them in ascending chronological order accoring to the following rules:\n",
    "* Assume all dates in xx/xx/xx format are mm/dd/yy\n",
    "* Assume all dates where year is encoded in only two digits are years from the 1900's (e.g. 1/5/89 is January 5th, 1989)\n",
    "* If the day is missing (e.g. 9/2009), assume it is the first day of the month (e.g. September 1, 2009).\n",
    "* If the month is missing (e.g. 2010), assume it is the first of January of that year (e.g. January 1, 2010).\n",
    "* Watch out for potential typos as this is a raw, real-life derived dataset.\n",
    "\n",
    "With these rules in mind, find the correct date in each note and return a pandas Series in chronological order of the original Series' indices.\n",
    "\n",
    "For example if the original series was this:\n",
    "\n",
    "    0    1999\n",
    "    1    2010\n",
    "    2    1978\n",
    "    3    2015\n",
    "    4    1985\n",
    "\n",
    "Your function should return this:\n",
    "\n",
    "    0    2\n",
    "    1    4\n",
    "    2    0\n",
    "    3    1\n",
    "    4    3\n",
    "\n",
    "Your score will be calculated using [Kendall's tau](https://en.wikipedia.org/wiki/Kendall_rank_correlation_coefficient), a correlation measure for ordinal data.\n",
    "\n",
    "*This function should return a Series of length 500 and dtype int.*"
   ]
  },
  {
   "cell_type": "code",
   "execution_count": 1,
   "metadata": {},
   "outputs": [
    {
     "data": {
      "text/plain": [
       "0          03/25/93 Total time of visit (in minutes):\\n\n",
       "1                        6/18/85 Primary Care Doctor:\\n\n",
       "2     sshe plans to move as of 7/8/71 In-Home Servic...\n",
       "3                 7 on 9/27/75 Audit C Score Current:\\n\n",
       "4     2/6/96 sleep studyPain Treatment Pain Level (N...\n",
       "5                     .Per 7/06/79 Movement D/O note:\\n\n",
       "6     4, 5/18/78 Patient's thoughts about current su...\n",
       "7     10/24/89 CPT Code: 90801 - Psychiatric Diagnos...\n",
       "8                          3/7/86 SOS-10 Total Score:\\n\n",
       "9              (4/10/71)Score-1Audit C Score Current:\\n\n",
       "10    (5/11/85) Crt-1.96, BUN-26; AST/ALT-16/22; WBC...\n",
       "11                        4/09/75 SOS-10 Total Score:\\n\n",
       "12    8/01/98 Communication with referring physician...\n",
       "13    1/26/72 Communication with referring physician...\n",
       "14    5/24/1990 CPT Code: 90792: With medical servic...\n",
       "15    1/25/2011 CPT Code: 90792: With medical servic...\n",
       "16          4/12/82 Total time of visit (in minutes):\\n\n",
       "17         1; 10/13/1976 Audit C Score, Highest/Date:\\n\n",
       "18                  4, 4/24/98 Relevant Drug History:\\n\n",
       "19    ) 59 yo unemployed w referred by Urgent Care f...\n",
       "dtype: object"
      ]
     },
     "execution_count": 1,
     "metadata": {},
     "output_type": "execute_result"
    }
   ],
   "source": [
    "import pandas as pd\n",
    "\n",
    "doc = []\n",
    "with open('dates.txt') as file:\n",
    "    for line in file:\n",
    "        doc.append(line)\n",
    "\n",
    "df = pd.Series(doc)\n",
    "df.head(20)"
   ]
  },
  {
   "cell_type": "code",
   "execution_count": null,
   "metadata": {
    "scrolled": true
   },
   "outputs": [],
   "source": [
    "#print(\"Format1\")\n",
    "#df.str.extractall(r'(?P<datef1>(?:\\d{1,2}[-/])(?:\\d{1,2}[-/])(?:\\b\\d{2,4}\\b))')\n",
    "\n",
    "#print(\"Format2\")\n",
    "#df.str.extractall(r'(?P<datef2>(?:(?:Jan|January)|(?:Feb|February)|(?:Mar|March)|(?:Apr|April)|(?:May)|(?:Jun|June)|(?:Jul|July)|(?:Aug|August)|(?:Sep|September)|(?:Oct|October)|(?:Nov|November)|(?:Dec|December))[-., ]\\d{1,2}(th|st|rd|nd)?[-,. ][ ]?\\b\\d{2,4}\\b)')\n",
    "\n",
    "#print(\"Format3\")\n",
    "#df.str.extractall(r'(?P<datef3>\\d{1,2} (?:(?:Jan|January)|(?:Feb|February)|(?:Mar|March)|(?:Apr|April)|(?:May)|(?:Jun|June)|(?:Jul|July)|(?:Aug|August)|(?:Sep|September)|(?:Oct|October)|(?:Nov|November)|(?:Dec|December))[., ]\\b\\d{2,4}\\b)')\n",
    "\n",
    "#print(\"format4\")\n",
    "#df.str.extractall(r'(?P<datef4>(?:(?:Jan|January)|(?:Feb|February)|(?:Mar|March)|(?:Apr|April)|(?:May)|(?:Jun|June)|(?:Jul|July)|(?:Aug|August)|(?:Sep|September)|(?:Oct|October)|(?:Nov|November)|(?:Dec|December))[-., ]\\b\\d{4}\\b)').loc[250:]\n",
    "\n",
    "#print(\"format5\")\n",
    "#df.str.extractall(r'(?P<datef4>\\d{1,2}/\\d{4})')\n",
    "\n",
    "#print(\"format6\")\n",
    "#df.str.extractall(r'(?P<datef6>\\d{4})')"
   ]
  },
  {
   "cell_type": "code",
   "execution_count": 2,
   "metadata": {},
   "outputs": [],
   "source": [
    "def date_sorter():\n",
    "    \n",
    "    results = df.str.extractall(r'(?P<date>(?:(?P<datef1>(?:\\d{1,2}[-/])(?:\\d{1,2}[-/])(?:\\b\\d{2,4}\\b))|(?P<datef2>(?:(?:Jan|January)|(?:Feb|February)|(?:Mar|March)|(?:Apr|April)|(?:May)|(?:Jun|June)|(?:Jul|July)|(?:Aug|August)|(?:Sep|September)|(?:Oct|October)|(?:Nov|November)|(?:Dec|December))[-., ]\\d{1,2}(?:th|st|rd|nd)?[-,. ][ ]?\\b\\d{2,4}\\b)|(?P<datef3>\\d{1,2} (?:(?:Jan|January)|(?:Feb|February)|(?:Mar|March)|(?:Apr|April)|(?:May)|(?:Jun|June)|(?:Jul|July)|(?:Aug|August)|(?:Sep|September)|(?:Oct|October)|(?:Nov|November)|(?:Dec|December))[., ]\\b\\d{2,4}\\b)|(?P<datef4>(?:(?:Jan|January)|(?:Feb|February)|(?:Mar|March)|(?:Apr|April)|(?:May)|(?:Jun|June)|(?:Jul|July)|(?:Aug|August)|(?:Sep|September)|(?:Oct|October)|(?:Nov|November)|(?:Dec|December))[-., ]\\b\\d{4}\\b)|(?P<datef5>\\d{1,2}/\\d{4})|(?P<datef6>\\d{4})))')\n",
    "    results.loc[271,0][\"date\"] = 'August 2008'\n",
    "    results1 = results[list(results.index.map(lambda x: x[1] == 0))]\n",
    "    dates = pd.to_datetime(results1[\"date\"])  \n",
    "    datesSorted = dates.sort_values()\n",
    "    answer = [i for i,i2 in datesSorted.index]\n",
    "    answer\n",
    "    \n",
    "    return pd.Series(answer)"
   ]
  },
  {
   "cell_type": "code",
   "execution_count": 3,
   "metadata": {},
   "outputs": [
    {
     "data": {
      "text/plain": [
       "0        9\n",
       "1       84\n",
       "2        2\n",
       "3       53\n",
       "4       28\n",
       "5      474\n",
       "6      153\n",
       "7       13\n",
       "8      129\n",
       "9       98\n",
       "10     111\n",
       "11     225\n",
       "12      31\n",
       "13     171\n",
       "14     191\n",
       "15     486\n",
       "16     415\n",
       "17     335\n",
       "18      36\n",
       "19     405\n",
       "20     323\n",
       "21     422\n",
       "22     375\n",
       "23     380\n",
       "24     345\n",
       "25      57\n",
       "26     481\n",
       "27     214\n",
       "28     436\n",
       "29     104\n",
       "      ... \n",
       "470    220\n",
       "471    208\n",
       "472    243\n",
       "473    139\n",
       "474    320\n",
       "475    383\n",
       "476    244\n",
       "477    198\n",
       "478    286\n",
       "479    480\n",
       "480    431\n",
       "481    279\n",
       "482    381\n",
       "483    463\n",
       "484    366\n",
       "485    439\n",
       "486    255\n",
       "487    401\n",
       "488    475\n",
       "489    257\n",
       "490    152\n",
       "491    235\n",
       "492    464\n",
       "493    253\n",
       "494    231\n",
       "495    427\n",
       "496    141\n",
       "497    186\n",
       "498    161\n",
       "499    413\n",
       "Length: 500, dtype: int64"
      ]
     },
     "execution_count": 3,
     "metadata": {},
     "output_type": "execute_result"
    }
   ],
   "source": [
    "date_sorter()"
   ]
  }
 ],
 "metadata": {
  "coursera": {
   "course_slug": "python-text-mining",
   "graded_item_id": "LvcWI",
   "launcher_item_id": "krne9",
   "part_id": "Mkp1I"
  },
  "kernelspec": {
   "display_name": "Python 3",
   "language": "python",
   "name": "python3"
  },
  "language_info": {
   "codemirror_mode": {
    "name": "ipython",
    "version": 3
   },
   "file_extension": ".py",
   "mimetype": "text/x-python",
   "name": "python",
   "nbconvert_exporter": "python",
   "pygments_lexer": "ipython3",
   "version": "3.7.1"
  }
 },
 "nbformat": 4,
 "nbformat_minor": 2
}
