{
 "cells": [
  {
   "cell_type": "code",
   "execution_count": null,
   "metadata": {},
   "outputs": [],
   "source": [
    "# 1) Tokenizar el siguiente texto por palabras, \n",
    "# tomando también los signos de puntuación \n",
    "\n",
    "s = '''\n",
    "     No temáis a la grandeza; \n",
    "     algunos nacen grandes, algunos \n",
    "     logran grandeza, a algunos la \n",
    "     grandeza les es impuesta y a \n",
    "     otros la grandeza les queda grande.\n",
    "'''\n",
    "\n"
   ]
  },
  {
   "cell_type": "code",
   "execution_count": null,
   "metadata": {},
   "outputs": [],
   "source": [
    "# 2) Tokenizar de la misma forma, pero esta vez normalizando los tokens\n",
    "# llevándolos a minúscula\n"
   ]
  },
  {
   "cell_type": "code",
   "execution_count": null,
   "metadata": {},
   "outputs": [],
   "source": [
    "# 3) Esta vez, tokenizá el texto pero sin los signos de puntuación\n"
   ]
  },
  {
   "cell_type": "code",
   "execution_count": null,
   "metadata": {},
   "outputs": [],
   "source": [
    "# 4) Ahora dividir el texto en oraciones\n"
   ]
  },
  {
   "cell_type": "code",
   "execution_count": null,
   "metadata": {},
   "outputs": [],
   "source": [
    "# 5) Probá ahora aplicar el siguiente tokenizador al siguiente tweet.\n",
    "from nltk.tokenize import TweetTokenizer\n",
    "tokenizer = TweetTokenizer()\n",
    "s = \"Lluvia de emoticoness #dummysmiley: :-) :-P <3 < > -> <--\"\n"
   ]
  },
  {
   "cell_type": "markdown",
   "metadata": {},
   "source": [
    "Conocé más sobre tokenizadores en la documentación de NLTK\n",
    "https://www.nltk.org/api/nltk.tokenize.html"
   ]
  }
 ],
 "metadata": {
  "kernelspec": {
   "display_name": "Python 3",
   "language": "python",
   "name": "python3"
  },
  "language_info": {
   "codemirror_mode": {
    "name": "ipython",
    "version": 3
   },
   "file_extension": ".py",
   "mimetype": "text/x-python",
   "name": "python",
   "nbconvert_exporter": "python",
   "pygments_lexer": "ipython3",
   "version": "3.6.5"
  }
 },
 "nbformat": 4,
 "nbformat_minor": 2
}
