{
 "cells": [
  {
   "cell_type": "code",
   "execution_count": 3,
   "metadata": {},
   "outputs": [
    {
     "name": "stdout",
     "output_type": "stream",
     "text": [
      "Collecting watson-developer-cloud\n",
      "\u001b[?25l  Downloading https://files.pythonhosted.org/packages/19/e6/ff2e61d18f154008d6f4ee83cc2f44c7eadfdf206e67b1d91f1edb522145/watson-developer-cloud-2.5.4.tar.gz (272kB)\n",
      "\u001b[K    100% |████████████████████████████████| 276kB 1.2MB/s ta 0:00:01\n",
      "\u001b[?25hRequirement already satisfied, skipping upgrade: requests<3.0,>=2.0 in /Users/fran/miniconda3/envs/ML/lib/python3.6/site-packages (from watson-developer-cloud) (2.18.4)\n",
      "Requirement already satisfied, skipping upgrade: python_dateutil>=2.5.3 in /Users/fran/miniconda3/envs/ML/lib/python3.6/site-packages (from watson-developer-cloud) (2.7.2)\n",
      "Collecting websocket-client==0.48.0 (from watson-developer-cloud)\n",
      "\u001b[?25l  Downloading https://files.pythonhosted.org/packages/8a/a1/72ef9aa26cfe1a75cee09fc1957e4723add9de098c15719416a1ee89386b/websocket_client-0.48.0-py2.py3-none-any.whl (198kB)\n",
      "\u001b[K    100% |████████████████████████████████| 204kB 1.1MB/s ta 0:00:01\n",
      "\u001b[?25hRequirement already satisfied, skipping upgrade: chardet<3.1.0,>=3.0.2 in /Users/fran/miniconda3/envs/ML/lib/python3.6/site-packages (from requests<3.0,>=2.0->watson-developer-cloud) (3.0.4)\n",
      "Requirement already satisfied, skipping upgrade: idna<2.7,>=2.5 in /Users/fran/miniconda3/envs/ML/lib/python3.6/site-packages (from requests<3.0,>=2.0->watson-developer-cloud) (2.6)\n",
      "Requirement already satisfied, skipping upgrade: urllib3<1.23,>=1.21.1 in /Users/fran/miniconda3/envs/ML/lib/python3.6/site-packages (from requests<3.0,>=2.0->watson-developer-cloud) (1.22)\n",
      "Requirement already satisfied, skipping upgrade: certifi>=2017.4.17 in /Users/fran/miniconda3/envs/ML/lib/python3.6/site-packages (from requests<3.0,>=2.0->watson-developer-cloud) (2018.4.16)\n",
      "Requirement already satisfied, skipping upgrade: six>=1.5 in /Users/fran/miniconda3/envs/ML/lib/python3.6/site-packages (from python_dateutil>=2.5.3->watson-developer-cloud) (1.11.0)\n",
      "Building wheels for collected packages: watson-developer-cloud\n",
      "  Running setup.py bdist_wheel for watson-developer-cloud ... \u001b[?25ldone\n",
      "\u001b[?25h  Stored in directory: /Users/fran/Library/Caches/pip/wheels/3d/70/9f/3aab1df8f8b22065da2064fb25d60c54452c6c6f38af494ad4\n",
      "Successfully built watson-developer-cloud\n",
      "Installing collected packages: websocket-client, watson-developer-cloud\n",
      "  Found existing installation: watson-developer-cloud 1.3.3\n",
      "    Uninstalling watson-developer-cloud-1.3.3:\n",
      "      Successfully uninstalled watson-developer-cloud-1.3.3\n",
      "Successfully installed watson-developer-cloud-2.5.4 websocket-client-0.48.0\n",
      "\u001b[33mYou are using pip version 18.1, however version 19.0.1 is available.\n",
      "You should consider upgrading via the 'pip install --upgrade pip' command.\u001b[0m\n"
     ]
    }
   ],
   "source": [
    "!pip install --upgrade watson-developer-cloud"
   ]
  },
  {
   "cell_type": "code",
   "execution_count": 7,
   "metadata": {},
   "outputs": [],
   "source": [
    "import warnings\n",
    "warnings.filterwarnings(\"ignore\")\n",
    "\n",
    "import json\n",
    "import numpy as np\n",
    "import pandas as pd\n",
    "from watson_developer_cloud import NaturalLanguageUnderstandingV1\n",
    "from watson_developer_cloud.natural_language_understanding_v1 import Features, EmotionOptions, SentimentOptions\n",
    "\n",
    "# Necesitan tener acceso a la API: \n",
    "# https://console.bluemix.net/apidocs/natural-language-understanding\n",
    "# Seguir estos pasos para crear cuenta y obtener las credenciales \n",
    "# https://console.bluemix.net/docs/services/natural-language-understanding/getting-started.html#getting-started-tutorial\n",
    "\n"
   ]
  },
  {
   "cell_type": "code",
   "execution_count": 11,
   "metadata": {},
   "outputs": [],
   "source": [
    "# Esto es lo que aparece en el video. Pero la versión más actualizada\n",
    "# es la que figura en la celda de abajo\n",
    "#natural_language_understanding = NaturalLanguageUnderstandingV1(\n",
    "#  username='79f8dc7b-a837-4f52-adc0-d2ab0fe602b7',\n",
    "#  password='sptSuwEoWTpP',\n",
    "#  version='2018-03-16')\n"
   ]
  },
  {
   "cell_type": "code",
   "execution_count": 10,
   "metadata": {},
   "outputs": [],
   "source": [
    "natural_language_understanding = NaturalLanguageUnderstandingV1(\n",
    "    version='2018-11-16',\n",
    "    iam_api_key='-b4nsRMon0Xj1XzyeHHBiwFghrxT_D1PHwvlEfHEctdG',\n",
    "    url='https://gateway.watsonplatform.net/natural-language-understanding/api')"
   ]
  },
  {
   "cell_type": "code",
   "execution_count": 2,
   "metadata": {},
   "outputs": [],
   "source": [
    "def analisis_watson(text):\n",
    "    text = text.decode(\"utf-8\")\n",
    "    print(text)\n",
    "    response = natural_language_understanding.analyze(\n",
    "        text=text,features=Features(emotion=EmotionOptions(), sentiment=SentimentOptions()))\n",
    "    return response"
   ]
  },
  {
   "cell_type": "code",
   "execution_count": 3,
   "metadata": {},
   "outputs": [],
   "source": [
    "\n",
    "import sklearn\n",
    "from sklearn.datasets import load_files\n",
    "moviedir = r'./dataset/movie_reviews' \n",
    "movie_reviews = load_files(moviedir, shuffle=True)"
   ]
  },
  {
   "cell_type": "code",
   "execution_count": 4,
   "metadata": {
    "scrolled": true
   },
   "outputs": [
    {
     "name": "stdout",
     "output_type": "stream",
     "text": [
      "kolya is one of the richest films i've seen in some time . \n",
      "zdenek sverak plays a confirmed old bachelor ( who's likely to remain so ) , who finds his life as a czech cellist increasingly impacted by the five-year old boy that he's taking care of . \n",
      "though it ends rather abruptly-- and i'm whining , 'cause i wanted to spend more time with these characters-- the acting , writing , and production values are as high as , if not higher than , comparable american dramas . \n",
      "this father-and-son delight-- sverak also wrote the script , while his son , jan , directed-- won a golden globe for best foreign language film and , a couple days after i saw it , walked away an oscar . \n",
      "in czech and russian , with english subtitles . \n",
      "\n",
      "{'usage': {'text_units': 1, 'text_characters': 727, 'features': 2}, 'sentiment': {'document': {'score': 0.428622, 'label': 'positive'}}, 'language': 'en', 'emotion': {'document': {'emotion': {'sadness': 0.174112, 'joy': 0.621866, 'fear': 0.453793, 'disgust': 0.064273, 'anger': 0.076822}}}}\n",
      "1\n"
     ]
    }
   ],
   "source": [
    "print(analisis_watson(movie_reviews.data[4]))\n",
    "print(movie_reviews.target[4])\n"
   ]
  },
  {
   "cell_type": "code",
   "execution_count": 5,
   "metadata": {},
   "outputs": [
    {
     "name": "stdout",
     "output_type": "stream",
     "text": [
      "I'm feeling terrible this morning. It's raining.\n",
      "{'usage': {'text_units': 1, 'text_characters': 48, 'features': 2}, 'sentiment': {'document': {'score': -0.964055, 'label': 'negative'}}, 'language': 'en', 'emotion': {'document': {'emotion': {'sadness': 0.530404, 'joy': 0.013504, 'fear': 0.387294, 'disgust': 0.115647, 'anger': 0.302067}}}}\n"
     ]
    }
   ],
   "source": [
    "# Ejemplo con un texto triste \n",
    "print(analisis_watson(b\"I'm feeling terrible this morning. It's raining.\"))"
   ]
  },
  {
   "cell_type": "code",
   "execution_count": 6,
   "metadata": {},
   "outputs": [
    {
     "name": "stdout",
     "output_type": "stream",
     "text": [
      "Life is a miracle. Rainbows everywhere!\n",
      "{'usage': {'text_units': 1, 'text_characters': 39, 'features': 2}, 'sentiment': {'document': {'score': 0.860088, 'label': 'positive'}}, 'language': 'en', 'emotion': {'document': {'emotion': {'sadness': 0.052147, 'joy': 0.85235, 'fear': 0.023147, 'disgust': 0.029171, 'anger': 0.005688}}}}\n"
     ]
    }
   ],
   "source": [
    "# Ejemplo con un texto feliz \n",
    "print(analisis_watson(b\"Life is a miracle. Rainbows everywhere!\"))"
   ]
  },
  {
   "cell_type": "code",
   "execution_count": 7,
   "metadata": {},
   "outputs": [
    {
     "name": "stdout",
     "output_type": "stream",
     "text": [
      "And suddenly... the mist\n",
      "{'usage': {'text_units': 1, 'text_characters': 24, 'features': 2}, 'sentiment': {'document': {'score': 0, 'label': 'neutral'}}, 'language': 'en', 'emotion': {'document': {'emotion': {'sadness': 0.137537, 'joy': 0.016811, 'fear': 0.863259, 'disgust': 0.093765, 'anger': 0.094129}}}}\n"
     ]
    }
   ],
   "source": [
    "# Ejemplo con un texto de miedo \n",
    "print(analisis_watson(b\"And suddenly... the mist\"))"
   ]
  }
 ],
 "metadata": {
  "kernelspec": {
   "display_name": "Python 3",
   "language": "python",
   "name": "python3"
  },
  "language_info": {
   "codemirror_mode": {
    "name": "ipython",
    "version": 3
   },
   "file_extension": ".py",
   "mimetype": "text/x-python",
   "name": "python",
   "nbconvert_exporter": "python",
   "pygments_lexer": "ipython3",
   "version": "3.6.5"
  }
 },
 "nbformat": 4,
 "nbformat_minor": 2
}
