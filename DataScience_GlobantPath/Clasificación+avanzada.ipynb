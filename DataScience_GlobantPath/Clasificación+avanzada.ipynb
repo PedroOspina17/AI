{
 "cells": [
  {
   "cell_type": "markdown",
   "metadata": {},
   "source": [
    "## Clasificación avanzada"
   ]
  },
  {
   "cell_type": "markdown",
   "metadata": {},
   "source": [
    "#### SVM"
   ]
  },
  {
   "cell_type": "markdown",
   "metadata": {},
   "source": [
    "El siguiente ejemplo fue tomado de la documentación oficial de scikit-learn \n",
    "\n",
    "https://scikit-learn.org/stable/tutorial/text_analytics/working_with_text_data.html"
   ]
  },
  {
   "cell_type": "code",
   "execution_count": 1,
   "metadata": {},
   "outputs": [],
   "source": [
    "import warnings\n",
    "warnings.filterwarnings('ignore')\n",
    "\n",
    "from sklearn.datasets import fetch_20newsgroups\n",
    "\n",
    "categories = ['alt.atheism', 'soc.religion.christian', \n",
    "              'comp.graphics', 'sci.med']\n",
    "\n",
    "twenty_train = fetch_20newsgroups(subset='train', \n",
    "                                  categories=categories, \n",
    "                                  shuffle=True, random_state=42)\n",
    "\n",
    "twenty_test = fetch_20newsgroups(subset='test',\n",
    "                                 categories=categories, \n",
    "                                 shuffle=True, random_state=42)"
   ]
  },
  {
   "cell_type": "code",
   "execution_count": 2,
   "metadata": {},
   "outputs": [
    {
     "data": {
      "text/plain": [
       "(2257, 35788)"
      ]
     },
     "execution_count": 2,
     "metadata": {},
     "output_type": "execute_result"
    }
   ],
   "source": [
    "from sklearn.feature_extraction.text import TfidfVectorizer\n",
    "X_train_tf = TfidfVectorizer(use_idf=False).fit_transform(twenty_train.data)\n",
    "X_train_tf.shape\n"
   ]
  },
  {
   "cell_type": "code",
   "execution_count": 3,
   "metadata": {},
   "outputs": [],
   "source": [
    "from sklearn.svm import SVC\n",
    "\n",
    "from sklearn.pipeline import Pipeline\n",
    "text_clf = Pipeline([('tfidf', TfidfVectorizer()),\n",
    "                     ('clf', SVC(kernel='linear'))])"
   ]
  },
  {
   "cell_type": "code",
   "execution_count": 4,
   "metadata": {},
   "outputs": [
    {
     "data": {
      "text/plain": [
       "0.92077230359520634"
      ]
     },
     "execution_count": 4,
     "metadata": {},
     "output_type": "execute_result"
    }
   ],
   "source": [
    "import numpy as np\n",
    "text_clf.fit(twenty_train.data, twenty_train.target)  \n",
    "predicted = text_clf.predict(twenty_test.data)\n",
    "# Calculamos accuracy:\n",
    "np.mean(predicted == twenty_test.target)"
   ]
  },
  {
   "cell_type": "code",
   "execution_count": 5,
   "metadata": {},
   "outputs": [],
   "source": [
    "tf_idf = TfidfVectorizer()\n",
    "X_train = tf_idf.fit_transform(twenty_train.data)\n",
    "X_test = tf_idf.transform(twenty_test.data)\n",
    "y_train = twenty_train.target\n",
    "y_test = twenty_test.target"
   ]
  },
  {
   "cell_type": "markdown",
   "metadata": {},
   "source": [
    "#### Voting"
   ]
  },
  {
   "cell_type": "code",
   "execution_count": 6,
   "metadata": {},
   "outputs": [],
   "source": [
    "from sklearn.metrics import accuracy_score"
   ]
  },
  {
   "cell_type": "code",
   "execution_count": 7,
   "metadata": {},
   "outputs": [
    {
     "name": "stdout",
     "output_type": "stream",
     "text": [
      "SVC 0.920772303595\n",
      "SGDClassifier 0.914114513981\n",
      "VotingClassifier 0.930093209055\n"
     ]
    }
   ],
   "source": [
    "from sklearn.linear_model import SGDClassifier\n",
    "from sklearn.svm import SVC\n",
    "from sklearn.ensemble import VotingClassifier\n",
    "\n",
    "svc_clf = SVC(kernel='linear', probability=True) #  para soft\n",
    "sgd_clf = SGDClassifier(loss='log') #  para soft\n",
    "voting_clf = VotingClassifier(\n",
    "estimators=[('svc', svc_clf), ('sgd', sgd_clf)],voting='soft')\n",
    "\n",
    "\n",
    "for clf in (svc_clf, sgd_clf, voting_clf):\n",
    "    clf.fit(X_train, y_train)\n",
    "    y_pred = clf.predict(X_test)\n",
    "    print(clf.__class__.__name__, accuracy_score(y_test, y_pred))"
   ]
  },
  {
   "cell_type": "markdown",
   "metadata": {},
   "source": [
    "#### Bagging"
   ]
  },
  {
   "cell_type": "code",
   "execution_count": 8,
   "metadata": {},
   "outputs": [],
   "source": [
    "from sklearn.tree import DecisionTreeClassifier\n",
    "clf = DecisionTreeClassifier()\n",
    "clf.fit(X_train, y_train)\n",
    "y_pred = clf.predict(X_test)"
   ]
  },
  {
   "cell_type": "code",
   "execution_count": 9,
   "metadata": {},
   "outputs": [
    {
     "data": {
      "text/plain": [
       "0.7177097203728362"
      ]
     },
     "execution_count": 9,
     "metadata": {},
     "output_type": "execute_result"
    }
   ],
   "source": [
    "accuracy_score(y_test, y_pred)"
   ]
  },
  {
   "cell_type": "code",
   "execution_count": 10,
   "metadata": {},
   "outputs": [],
   "source": [
    "from sklearn.ensemble import BaggingClassifier\n",
    "\n",
    "bag_clf = BaggingClassifier(DecisionTreeClassifier(),n_estimators=200, n_jobs=-1)\n",
    "bag_clf.fit(X_train, y_train)\n",
    "y_pred = bag_clf.predict(X_test)"
   ]
  },
  {
   "cell_type": "code",
   "execution_count": 11,
   "metadata": {},
   "outputs": [
    {
     "data": {
      "text/plain": [
       "0.79627163781624499"
      ]
     },
     "execution_count": 11,
     "metadata": {},
     "output_type": "execute_result"
    }
   ],
   "source": [
    "accuracy_score(y_test, y_pred)"
   ]
  },
  {
   "cell_type": "markdown",
   "metadata": {},
   "source": [
    "#### RandomForest"
   ]
  },
  {
   "cell_type": "code",
   "execution_count": 12,
   "metadata": {
    "scrolled": true
   },
   "outputs": [
    {
     "data": {
      "text/plain": [
       "0.80958721704394143"
      ]
     },
     "execution_count": 12,
     "metadata": {},
     "output_type": "execute_result"
    }
   ],
   "source": [
    "from sklearn.ensemble import RandomForestClassifier\n",
    "rnd_clf = RandomForestClassifier(n_estimators=200, n_jobs=-1)\n",
    "rnd_clf.fit(X_train, y_train)\n",
    "y_pred = rnd_clf.predict(X_test)\n",
    "accuracy_score(y_test, y_pred)"
   ]
  },
  {
   "cell_type": "markdown",
   "metadata": {},
   "source": [
    "#### Boosting"
   ]
  },
  {
   "cell_type": "markdown",
   "metadata": {},
   "source": [
    "#### AdaBoost"
   ]
  },
  {
   "cell_type": "code",
   "execution_count": 13,
   "metadata": {},
   "outputs": [
    {
     "data": {
      "text/plain": [
       "AdaBoostClassifier(algorithm='SAMME.R',\n",
       "          base_estimator=DecisionTreeClassifier(class_weight=None, criterion='gini', max_depth=1,\n",
       "            max_features=None, max_leaf_nodes=None,\n",
       "            min_impurity_decrease=0.0, min_impurity_split=None,\n",
       "            min_samples_leaf=1, min_samples_split=2,\n",
       "            min_weight_fraction_leaf=0.0, presort=False, random_state=None,\n",
       "            splitter='best'),\n",
       "          learning_rate=1.0, n_estimators=1500, random_state=None)"
      ]
     },
     "execution_count": 13,
     "metadata": {},
     "output_type": "execute_result"
    }
   ],
   "source": [
    "from sklearn.ensemble import AdaBoostClassifier\n",
    "ada_clf = AdaBoostClassifier(\n",
    "     DecisionTreeClassifier(max_depth=1), n_estimators=1500,\n",
    "     algorithm=\"SAMME.R\"\n",
    " )\n",
    "ada_clf.fit(X_train, y_train)"
   ]
  },
  {
   "cell_type": "code",
   "execution_count": 14,
   "metadata": {},
   "outputs": [
    {
     "data": {
      "text/plain": [
       "0.7942743009320905"
      ]
     },
     "execution_count": 14,
     "metadata": {},
     "output_type": "execute_result"
    }
   ],
   "source": [
    "y_pred = ada_clf.predict(X_test)\n",
    "accuracy_score(y_test, y_pred)"
   ]
  },
  {
   "cell_type": "markdown",
   "metadata": {},
   "source": [
    "#### XgBoost"
   ]
  },
  {
   "cell_type": "code",
   "execution_count": 15,
   "metadata": {},
   "outputs": [],
   "source": [
    "# pip install xgboost\n",
    "\n",
    "from xgboost import XGBClassifier"
   ]
  },
  {
   "cell_type": "code",
   "execution_count": 16,
   "metadata": {},
   "outputs": [
    {
     "data": {
      "text/plain": [
       "XGBClassifier(base_score=0.5, booster='gbtree', colsample_bylevel=1,\n",
       "       colsample_bytree=1, gamma=0, learning_rate=0.1, max_delta_step=0,\n",
       "       max_depth=3, min_child_weight=1, missing=None, n_estimators=100,\n",
       "       n_jobs=1, nthread=None, objective='multi:softprob', random_state=0,\n",
       "       reg_alpha=0, reg_lambda=1, scale_pos_weight=1, seed=None,\n",
       "       silent=True, subsample=1)"
      ]
     },
     "execution_count": 16,
     "metadata": {},
     "output_type": "execute_result"
    }
   ],
   "source": [
    "xgb_clf = XGBClassifier()\n",
    "xgb_clf.fit(X_train, y_train)"
   ]
  },
  {
   "cell_type": "code",
   "execution_count": 17,
   "metadata": {},
   "outputs": [
    {
     "data": {
      "text/plain": [
       "0.86817576564580556"
      ]
     },
     "execution_count": 17,
     "metadata": {},
     "output_type": "execute_result"
    }
   ],
   "source": [
    "y_pred = xgb_clf.predict(X_test)\n",
    "accuracy_score(y_test, y_pred)"
   ]
  },
  {
   "cell_type": "markdown",
   "metadata": {},
   "source": [
    "#### LightGBM"
   ]
  },
  {
   "cell_type": "code",
   "execution_count": 18,
   "metadata": {},
   "outputs": [],
   "source": [
    "# conda install -c conda-forge lightgbm\n",
    "import lightgbm as lgb"
   ]
  },
  {
   "cell_type": "code",
   "execution_count": 19,
   "metadata": {},
   "outputs": [
    {
     "name": "stdout",
     "output_type": "stream",
     "text": [
      "[1]\tvalid_0's multi_logloss: 1.28321\n",
      "[2]\tvalid_0's multi_logloss: 1.19937\n",
      "[3]\tvalid_0's multi_logloss: 1.12495\n",
      "[4]\tvalid_0's multi_logloss: 1.06294\n",
      "[5]\tvalid_0's multi_logloss: 1.00545\n",
      "[6]\tvalid_0's multi_logloss: 0.954616\n",
      "[7]\tvalid_0's multi_logloss: 0.910736\n",
      "[8]\tvalid_0's multi_logloss: 0.871024\n",
      "[9]\tvalid_0's multi_logloss: 0.833662\n",
      "[10]\tvalid_0's multi_logloss: 0.798888\n",
      "[11]\tvalid_0's multi_logloss: 0.766545\n",
      "[12]\tvalid_0's multi_logloss: 0.738963\n",
      "[13]\tvalid_0's multi_logloss: 0.712201\n",
      "[14]\tvalid_0's multi_logloss: 0.688588\n",
      "[15]\tvalid_0's multi_logloss: 0.664943\n",
      "[16]\tvalid_0's multi_logloss: 0.642954\n",
      "[17]\tvalid_0's multi_logloss: 0.624231\n",
      "[18]\tvalid_0's multi_logloss: 0.605334\n",
      "[19]\tvalid_0's multi_logloss: 0.588068\n",
      "[20]\tvalid_0's multi_logloss: 0.570711\n",
      "[21]\tvalid_0's multi_logloss: 0.555574\n",
      "[22]\tvalid_0's multi_logloss: 0.541578\n",
      "[23]\tvalid_0's multi_logloss: 0.527997\n",
      "[24]\tvalid_0's multi_logloss: 0.515844\n",
      "[25]\tvalid_0's multi_logloss: 0.504765\n",
      "[26]\tvalid_0's multi_logloss: 0.492762\n",
      "[27]\tvalid_0's multi_logloss: 0.482123\n",
      "[28]\tvalid_0's multi_logloss: 0.472011\n",
      "[29]\tvalid_0's multi_logloss: 0.464809\n",
      "[30]\tvalid_0's multi_logloss: 0.456\n",
      "[31]\tvalid_0's multi_logloss: 0.448344\n",
      "[32]\tvalid_0's multi_logloss: 0.441165\n",
      "[33]\tvalid_0's multi_logloss: 0.43408\n",
      "[34]\tvalid_0's multi_logloss: 0.429239\n",
      "[35]\tvalid_0's multi_logloss: 0.42185\n",
      "[36]\tvalid_0's multi_logloss: 0.41718\n",
      "[37]\tvalid_0's multi_logloss: 0.412448\n",
      "[38]\tvalid_0's multi_logloss: 0.408091\n",
      "[39]\tvalid_0's multi_logloss: 0.402849\n",
      "[40]\tvalid_0's multi_logloss: 0.397579\n",
      "[41]\tvalid_0's multi_logloss: 0.39446\n",
      "[42]\tvalid_0's multi_logloss: 0.39045\n",
      "[43]\tvalid_0's multi_logloss: 0.386779\n",
      "[44]\tvalid_0's multi_logloss: 0.382818\n",
      "[45]\tvalid_0's multi_logloss: 0.379142\n",
      "[46]\tvalid_0's multi_logloss: 0.376173\n",
      "[47]\tvalid_0's multi_logloss: 0.373362\n",
      "[48]\tvalid_0's multi_logloss: 0.370833\n",
      "[49]\tvalid_0's multi_logloss: 0.369386\n",
      "[50]\tvalid_0's multi_logloss: 0.366463\n",
      "[51]\tvalid_0's multi_logloss: 0.364323\n",
      "[52]\tvalid_0's multi_logloss: 0.362875\n",
      "[53]\tvalid_0's multi_logloss: 0.361031\n",
      "[54]\tvalid_0's multi_logloss: 0.358723\n",
      "[55]\tvalid_0's multi_logloss: 0.356468\n",
      "[56]\tvalid_0's multi_logloss: 0.354083\n",
      "[57]\tvalid_0's multi_logloss: 0.352454\n",
      "[58]\tvalid_0's multi_logloss: 0.351004\n",
      "[59]\tvalid_0's multi_logloss: 0.349354\n",
      "[60]\tvalid_0's multi_logloss: 0.348584\n",
      "[61]\tvalid_0's multi_logloss: 0.347457\n",
      "[62]\tvalid_0's multi_logloss: 0.345733\n",
      "[63]\tvalid_0's multi_logloss: 0.344474\n",
      "[64]\tvalid_0's multi_logloss: 0.34392\n",
      "[65]\tvalid_0's multi_logloss: 0.34388\n",
      "[66]\tvalid_0's multi_logloss: 0.342303\n",
      "[67]\tvalid_0's multi_logloss: 0.341284\n",
      "[68]\tvalid_0's multi_logloss: 0.340708\n",
      "[69]\tvalid_0's multi_logloss: 0.341444\n",
      "[70]\tvalid_0's multi_logloss: 0.340344\n",
      "[71]\tvalid_0's multi_logloss: 0.339575\n",
      "[72]\tvalid_0's multi_logloss: 0.340101\n",
      "[73]\tvalid_0's multi_logloss: 0.340176\n",
      "[74]\tvalid_0's multi_logloss: 0.339019\n",
      "[75]\tvalid_0's multi_logloss: 0.339407\n",
      "[76]\tvalid_0's multi_logloss: 0.339853\n",
      "[77]\tvalid_0's multi_logloss: 0.340433\n",
      "[78]\tvalid_0's multi_logloss: 0.339876\n",
      "[79]\tvalid_0's multi_logloss: 0.339737\n",
      "[80]\tvalid_0's multi_logloss: 0.339793\n",
      "[81]\tvalid_0's multi_logloss: 0.339587\n",
      "[82]\tvalid_0's multi_logloss: 0.339354\n",
      "[83]\tvalid_0's multi_logloss: 0.339533\n",
      "[84]\tvalid_0's multi_logloss: 0.340179\n",
      "[85]\tvalid_0's multi_logloss: 0.339411\n",
      "[86]\tvalid_0's multi_logloss: 0.339597\n",
      "[87]\tvalid_0's multi_logloss: 0.339842\n",
      "[88]\tvalid_0's multi_logloss: 0.339617\n",
      "[89]\tvalid_0's multi_logloss: 0.340004\n",
      "[90]\tvalid_0's multi_logloss: 0.341051\n",
      "[91]\tvalid_0's multi_logloss: 0.340408\n",
      "[92]\tvalid_0's multi_logloss: 0.34087\n",
      "[93]\tvalid_0's multi_logloss: 0.341638\n",
      "[94]\tvalid_0's multi_logloss: 0.342244\n",
      "[95]\tvalid_0's multi_logloss: 0.342212\n",
      "[96]\tvalid_0's multi_logloss: 0.342473\n",
      "[97]\tvalid_0's multi_logloss: 0.342285\n",
      "[98]\tvalid_0's multi_logloss: 0.342187\n",
      "[99]\tvalid_0's multi_logloss: 0.342521\n",
      "[100]\tvalid_0's multi_logloss: 0.343503\n"
     ]
    },
    {
     "data": {
      "text/plain": [
       "LGBMClassifier(boosting_type='gbdt', class_weight=None, colsample_bytree=1.0,\n",
       "        importance_type='split', learning_rate=0.1, max_depth=-1,\n",
       "        min_child_samples=20, min_child_weight=0.001, min_split_gain=0.0,\n",
       "        n_estimators=100, n_jobs=-1, num_leaves=31, objective=None,\n",
       "        random_state=None, reg_alpha=0.0, reg_lambda=0.0, silent=True,\n",
       "        subsample=1.0, subsample_for_bin=200000, subsample_freq=0)"
      ]
     },
     "execution_count": 19,
     "metadata": {},
     "output_type": "execute_result"
    }
   ],
   "source": [
    "gbm = lgb.LGBMClassifier()\n",
    "gbm.fit(X_train, y_train,\n",
    "        eval_set=[(X_test, y_test)])"
   ]
  },
  {
   "cell_type": "code",
   "execution_count": 20,
   "metadata": {},
   "outputs": [
    {
     "data": {
      "text/plain": [
       "0.88215712383488687"
      ]
     },
     "execution_count": 20,
     "metadata": {},
     "output_type": "execute_result"
    }
   ],
   "source": [
    "y_pred = gbm.predict(X_test)\n",
    "accuracy_score(y_test, y_pred)"
   ]
  },
  {
   "cell_type": "markdown",
   "metadata": {},
   "source": [
    "#### Stacking"
   ]
  },
  {
   "cell_type": "code",
   "execution_count": 21,
   "metadata": {},
   "outputs": [],
   "source": [
    "# pip install vecstack"
   ]
  },
  {
   "cell_type": "code",
   "execution_count": 22,
   "metadata": {},
   "outputs": [
    {
     "name": "stdout",
     "output_type": "stream",
     "text": [
      "task:         [classification]\n",
      "n_classes:    [4]\n",
      "metric:       [accuracy_score]\n",
      "variant:      [A]\n",
      "n_estimators: [2]\n",
      "\n",
      "estimator  0: [xgb: XGBClassifier]\n",
      "    fold  0:  [0.90619469]\n",
      "    fold  1:  [0.92730496]\n",
      "    fold  2:  [0.90780142]\n",
      "    fold  3:  [0.90070922]\n",
      "    ----\n",
      "    MEAN:     [0.91050257] + [0.01005092]\n",
      "\n",
      "estimator  1: [ada: AdaBoostClassifier]\n",
      "    fold  0:  [0.86902655]\n",
      "    fold  1:  [0.84929078]\n",
      "    fold  2:  [0.85992908]\n",
      "    fold  3:  [0.84751773]\n",
      "    ----\n",
      "    MEAN:     [0.85644103] + [0.00867919]\n",
      "\n",
      "Train set was detected.\n",
      "Transforming...\n",
      "\n",
      "estimator  0: [xgb: XGBClassifier]\n",
      "    model from fold  0: done\n",
      "    model from fold  1: done\n",
      "    model from fold  2: done\n",
      "    model from fold  3: done\n",
      "    ----\n",
      "    DONE\n",
      "\n",
      "estimator  1: [ada: AdaBoostClassifier]\n",
      "    model from fold  0: done\n",
      "    model from fold  1: done\n",
      "    model from fold  2: done\n",
      "    model from fold  3: done\n",
      "    ----\n",
      "    DONE\n",
      "\n",
      "Transforming...\n",
      "\n",
      "estimator  0: [xgb: XGBClassifier]\n",
      "    model from fold  0: done\n",
      "    model from fold  1: done\n",
      "    model from fold  2: done\n",
      "    model from fold  3: done\n",
      "    ----\n",
      "    DONE\n",
      "\n",
      "estimator  1: [ada: AdaBoostClassifier]\n",
      "    model from fold  0: done\n",
      "    model from fold  1: done\n",
      "    model from fold  2: done\n",
      "    model from fold  3: done\n",
      "    ----\n",
      "    DONE\n",
      "\n"
     ]
    }
   ],
   "source": [
    "from vecstack import StackingTransformer\n",
    "\n",
    "\n",
    "estimators = [('xgb', xgb_clf),\n",
    "              ('ada', ada_clf)]\n",
    "              \n",
    "# StackingTransformer\n",
    "stack = StackingTransformer(estimators, regression=False, verbose=2)\n",
    "\n",
    "# Fit\n",
    "stack = stack.fit(X_train, y_train)\n",
    "\n",
    "# stacked features\n",
    "S_train = stack.transform(X_train)\n",
    "S_test = stack.transform(X_test)\n"
   ]
  },
  {
   "cell_type": "code",
   "execution_count": 23,
   "metadata": {},
   "outputs": [
    {
     "name": "stdout",
     "output_type": "stream",
     "text": [
      "[1]\tvalid_0's multi_logloss: 1.24195\n",
      "[2]\tvalid_0's multi_logloss: 1.1263\n",
      "[3]\tvalid_0's multi_logloss: 1.03119\n",
      "[4]\tvalid_0's multi_logloss: 0.951624\n",
      "[5]\tvalid_0's multi_logloss: 0.884283\n",
      "[6]\tvalid_0's multi_logloss: 0.82682\n",
      "[7]\tvalid_0's multi_logloss: 0.777499\n",
      "[8]\tvalid_0's multi_logloss: 0.734992\n",
      "[9]\tvalid_0's multi_logloss: 0.698238\n",
      "[10]\tvalid_0's multi_logloss: 0.666411\n",
      "[11]\tvalid_0's multi_logloss: 0.638296\n",
      "[12]\tvalid_0's multi_logloss: 0.613914\n",
      "[13]\tvalid_0's multi_logloss: 0.592776\n",
      "[14]\tvalid_0's multi_logloss: 0.574469\n",
      "[15]\tvalid_0's multi_logloss: 0.558637\n",
      "[16]\tvalid_0's multi_logloss: 0.544974\n",
      "[17]\tvalid_0's multi_logloss: 0.533213\n",
      "[18]\tvalid_0's multi_logloss: 0.523124\n",
      "[19]\tvalid_0's multi_logloss: 0.514443\n",
      "[20]\tvalid_0's multi_logloss: 0.507052\n",
      "[21]\tvalid_0's multi_logloss: 0.500794\n",
      "[22]\tvalid_0's multi_logloss: 0.495529\n",
      "[23]\tvalid_0's multi_logloss: 0.491161\n",
      "[24]\tvalid_0's multi_logloss: 0.48755\n",
      "[25]\tvalid_0's multi_logloss: 0.484601\n",
      "[26]\tvalid_0's multi_logloss: 0.482231\n",
      "[27]\tvalid_0's multi_logloss: 0.480361\n",
      "[28]\tvalid_0's multi_logloss: 0.478925\n",
      "[29]\tvalid_0's multi_logloss: 0.47783\n",
      "[30]\tvalid_0's multi_logloss: 0.477057\n",
      "[31]\tvalid_0's multi_logloss: 0.476576\n",
      "[32]\tvalid_0's multi_logloss: 0.476307\n",
      "[33]\tvalid_0's multi_logloss: 0.476251\n",
      "[34]\tvalid_0's multi_logloss: 0.476358\n",
      "[35]\tvalid_0's multi_logloss: 0.476562\n",
      "[36]\tvalid_0's multi_logloss: 0.476915\n",
      "[37]\tvalid_0's multi_logloss: 0.477359\n",
      "[38]\tvalid_0's multi_logloss: 0.477877\n",
      "[39]\tvalid_0's multi_logloss: 0.478464\n",
      "[40]\tvalid_0's multi_logloss: 0.479084\n",
      "[41]\tvalid_0's multi_logloss: 0.479768\n",
      "[42]\tvalid_0's multi_logloss: 0.480431\n",
      "[43]\tvalid_0's multi_logloss: 0.481145\n",
      "[44]\tvalid_0's multi_logloss: 0.481785\n",
      "[45]\tvalid_0's multi_logloss: 0.482493\n",
      "[46]\tvalid_0's multi_logloss: 0.483161\n",
      "[47]\tvalid_0's multi_logloss: 0.483846\n",
      "[48]\tvalid_0's multi_logloss: 0.484507\n",
      "[49]\tvalid_0's multi_logloss: 0.485161\n",
      "[50]\tvalid_0's multi_logloss: 0.485812\n",
      "[51]\tvalid_0's multi_logloss: 0.486456\n",
      "[52]\tvalid_0's multi_logloss: 0.487093\n",
      "[53]\tvalid_0's multi_logloss: 0.48772\n",
      "[54]\tvalid_0's multi_logloss: 0.488343\n",
      "[55]\tvalid_0's multi_logloss: 0.488943\n",
      "[56]\tvalid_0's multi_logloss: 0.48952\n",
      "[57]\tvalid_0's multi_logloss: 0.490115\n",
      "[58]\tvalid_0's multi_logloss: 0.490704\n",
      "[59]\tvalid_0's multi_logloss: 0.491305\n",
      "[60]\tvalid_0's multi_logloss: 0.491895\n",
      "[61]\tvalid_0's multi_logloss: 0.492484\n",
      "[62]\tvalid_0's multi_logloss: 0.493081\n",
      "[63]\tvalid_0's multi_logloss: 0.493665\n",
      "[64]\tvalid_0's multi_logloss: 0.494284\n",
      "[65]\tvalid_0's multi_logloss: 0.494888\n",
      "[66]\tvalid_0's multi_logloss: 0.495495\n",
      "[67]\tvalid_0's multi_logloss: 0.496062\n",
      "[68]\tvalid_0's multi_logloss: 0.496661\n",
      "[69]\tvalid_0's multi_logloss: 0.497306\n",
      "[70]\tvalid_0's multi_logloss: 0.497948\n",
      "[71]\tvalid_0's multi_logloss: 0.498589\n",
      "[72]\tvalid_0's multi_logloss: 0.499219\n",
      "[73]\tvalid_0's multi_logloss: 0.499851\n",
      "[74]\tvalid_0's multi_logloss: 0.500492\n",
      "[75]\tvalid_0's multi_logloss: 0.501025\n",
      "[76]\tvalid_0's multi_logloss: 0.501567\n",
      "[77]\tvalid_0's multi_logloss: 0.50214\n",
      "[78]\tvalid_0's multi_logloss: 0.502716\n",
      "[79]\tvalid_0's multi_logloss: 0.503256\n",
      "[80]\tvalid_0's multi_logloss: 0.503878\n",
      "[81]\tvalid_0's multi_logloss: 0.504379\n",
      "[82]\tvalid_0's multi_logloss: 0.5049\n",
      "[83]\tvalid_0's multi_logloss: 0.505501\n",
      "[84]\tvalid_0's multi_logloss: 0.505983\n",
      "[85]\tvalid_0's multi_logloss: 0.50649\n",
      "[86]\tvalid_0's multi_logloss: 0.506964\n",
      "[87]\tvalid_0's multi_logloss: 0.507461\n",
      "[88]\tvalid_0's multi_logloss: 0.507929\n",
      "[89]\tvalid_0's multi_logloss: 0.508411\n",
      "[90]\tvalid_0's multi_logloss: 0.508915\n",
      "[91]\tvalid_0's multi_logloss: 0.509474\n",
      "[92]\tvalid_0's multi_logloss: 0.509979\n",
      "[93]\tvalid_0's multi_logloss: 0.510095\n",
      "[94]\tvalid_0's multi_logloss: 0.510164\n",
      "[95]\tvalid_0's multi_logloss: 0.510737\n",
      "[96]\tvalid_0's multi_logloss: 0.511269\n",
      "[97]\tvalid_0's multi_logloss: 0.511849\n",
      "[98]\tvalid_0's multi_logloss: 0.511939\n",
      "[99]\tvalid_0's multi_logloss: 0.512518\n",
      "[100]\tvalid_0's multi_logloss: 0.513078\n"
     ]
    },
    {
     "data": {
      "text/plain": [
       "LGBMClassifier(boosting_type='gbdt', class_weight=None, colsample_bytree=1.0,\n",
       "        importance_type='split', learning_rate=0.1, max_depth=-1,\n",
       "        min_child_samples=20, min_child_weight=0.001, min_split_gain=0.0,\n",
       "        n_estimators=100, n_jobs=-1, num_leaves=31, objective=None,\n",
       "        random_state=None, reg_alpha=0.0, reg_lambda=0.0, silent=True,\n",
       "        subsample=1.0, subsample_for_bin=200000, subsample_freq=0)"
      ]
     },
     "execution_count": 23,
     "metadata": {},
     "output_type": "execute_result"
    }
   ],
   "source": [
    "gbm = lgb.LGBMClassifier()\n",
    "gbm.fit(S_train, y_train,\n",
    "        eval_set=[(S_test, y_test)])"
   ]
  },
  {
   "cell_type": "code",
   "execution_count": 26,
   "metadata": {},
   "outputs": [
    {
     "data": {
      "text/plain": [
       "0.86018641810918772"
      ]
     },
     "execution_count": 26,
     "metadata": {},
     "output_type": "execute_result"
    }
   ],
   "source": [
    "y_pred = gbm.predict(S_test)\n",
    "accuracy_score(y_test, y_pred)"
   ]
  }
 ],
 "metadata": {
  "kernelspec": {
   "display_name": "Python 3",
   "language": "python",
   "name": "python3"
  },
  "language_info": {
   "codemirror_mode": {
    "name": "ipython",
    "version": 3
   },
   "file_extension": ".py",
   "mimetype": "text/x-python",
   "name": "python",
   "nbconvert_exporter": "python",
   "pygments_lexer": "ipython3",
   "version": "3.6.5"
  }
 },
 "nbformat": 4,
 "nbformat_minor": 2
}
