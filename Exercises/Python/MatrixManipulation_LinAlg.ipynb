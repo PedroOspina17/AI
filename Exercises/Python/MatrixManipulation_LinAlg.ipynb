{
 "cells": [
  {
   "cell_type": "code",
   "execution_count": 29,
   "metadata": {},
   "outputs": [],
   "source": [
    "import numpy as np\n",
    "\n",
    "x = np.array([[1, 2], [4, 5]]) \n",
    "y = np.array([[7], [9]]) \n",
    "b = np.array([[7, 8], [9, 10]]) \n",
    "\n",
    "\n",
    "x3 = np.array([[1, 2, 6], [4, 5, 9], [4, 5, 1]]) \n",
    "b3 = np.array([[7, 8, 7], [9, 10, 7], [4, 5, 0]]) \n",
    "y3 = np.array([[7], [9], [4]]) \n"
   ]
  },
  {
   "cell_type": "code",
   "execution_count": 30,
   "metadata": {},
   "outputs": [
    {
     "name": "stdout",
     "output_type": "stream",
     "text": [
      "[[1 2]\n",
      " [4 5]] \n",
      "\n",
      "[[7]\n",
      " [9]] \n",
      "\n",
      "[[1 2 6]\n",
      " [4 5 9]\n",
      " [4 5 1]] \n",
      "\n",
      "[[7]\n",
      " [9]\n",
      " [4]] \n",
      "\n",
      "[[ 7  8]\n",
      " [ 9 10]] \n",
      "\n",
      "[[ 7  8  7]\n",
      " [ 9 10  7]\n",
      " [ 4  5  0]] \n",
      "\n"
     ]
    }
   ],
   "source": [
    "print(x,\"\\n\")\n",
    "print(y,\"\\n\")\n",
    "print(x3,\"\\n\")\n",
    "print(y3,\"\\n\")\n",
    "print(b,\"\\n\")\n",
    "print(b3,\"\\n\")\n"
   ]
  },
  {
   "cell_type": "markdown",
   "metadata": {},
   "source": [
    "## Element wise operations"
   ]
  },
  {
   "cell_type": "code",
   "execution_count": 21,
   "metadata": {},
   "outputs": [
    {
     "name": "stdout",
     "output_type": "stream",
     "text": [
      "[[ 8 10]\n",
      " [13 15]] \n",
      "\n",
      "[[-6 -6]\n",
      " [-5 -5]] \n",
      "\n",
      "[[0.14285714 0.25      ]\n",
      " [0.44444444 0.5       ]] \n",
      "\n",
      "[[1.         1.41421356]\n",
      " [2.         2.23606798]] \n",
      "\n"
     ]
    }
   ],
   "source": [
    "print(np.add(x,y),\"\\n\")\n",
    "print(np.subtract(x,y),\"\\n\")\n",
    "print(np.divide(x,y),\"\\n\")\n",
    "print(np.sqrt(x),\"\\n\")"
   ]
  },
  {
   "cell_type": "markdown",
   "metadata": {},
   "source": [
    "## Matrix operations"
   ]
  },
  {
   "cell_type": "code",
   "execution_count": 27,
   "metadata": {},
   "outputs": [
    {
     "name": "stdout",
     "output_type": "stream",
     "text": [
      "Multiplication: \n",
      " [[25 28]\n",
      " [73 82]] \n",
      "\n",
      "Transpose: \n",
      " [[1 4]\n",
      " [2 5]] \n",
      "\n",
      "Deteminant: \n",
      " -2.9999999999999996 \n",
      "\n",
      "Inverse: \n",
      " [[-1.66666667  0.66666667]\n",
      " [ 1.33333333 -0.33333333]] \n",
      "\n",
      "Proof: \n",
      " [[1. 0.]\n",
      " [0. 1.]] \n",
      "\n"
     ]
    }
   ],
   "source": [
    "print(\"Multiplication: \\n\",np.dot(x,y),\"\\n\")\n",
    "print(\"Transpose: \\n\",x.T,\"\\n\")\n",
    "print(\"Deteminant: \\n\",np.linalg.det(x),\"\\n\")\n",
    "print(\"Inverse: \\n\",np.linalg.inv(x),\"\\n\")\n",
    "print(\"Proof: \\n\",np.dot(x,np.linalg.inv(x)),\"\\n\")\n",
    "\n"
   ]
  },
  {
   "cell_type": "markdown",
   "metadata": {},
   "source": [
    "## Solving ecuations\n",
    "\n",
    "$$\\begin{bmatrix}1 & 1 & 1 \\\\0 & 2 & 5 \\\\2 & 5 & -1\\end{bmatrix} \\begin{bmatrix}x \\\\y \\\\z \\end{bmatrix} = \\begin{bmatrix}6 \\\\-4 \\\\27 \\end{bmatrix}$$\n",
    "\n",
    "$A*X = B$\n",
    "\n",
    "Or\n",
    "\n",
    "$X = A-1B$"
   ]
  },
  {
   "cell_type": "code",
   "execution_count": 35,
   "metadata": {},
   "outputs": [
    {
     "name": "stdout",
     "output_type": "stream",
     "text": [
      "Solving 3x3 problems: \n",
      " [[-3.16666667]\n",
      " [ 3.20833333]\n",
      " [ 0.625     ]] \n",
      "\n",
      "Analitically solving 3x3 problems: \n",
      " [[-3.16666667]\n",
      " [ 3.20833333]\n",
      " [ 0.625     ]] \n",
      "\n"
     ]
    }
   ],
   "source": [
    "print(\"Solving 3x3 problems: \\n\",np.linalg.solve(x3,y3),\"\\n\")\n",
    "xinv = np.linalg.inv(x3)\n",
    "print(\"Analitically solving 3x3 problems: \\n\",np.dot(xinv,y3),\"\\n\")\n",
    "\n"
   ]
  },
  {
   "cell_type": "code",
   "execution_count": 33,
   "metadata": {},
   "outputs": [
    {
     "data": {
      "text/plain": [
       "array([[-5.66666667],\n",
       "       [ 6.33333333]])"
      ]
     },
     "execution_count": 33,
     "metadata": {},
     "output_type": "execute_result"
    }
   ],
   "source": [
    "np.linalg.solve(x,y)"
   ]
  }
 ],
 "metadata": {
  "kernelspec": {
   "display_name": "Python 3",
   "language": "python",
   "name": "python3"
  },
  "language_info": {
   "codemirror_mode": {
    "name": "ipython",
    "version": 3
   },
   "file_extension": ".py",
   "mimetype": "text/x-python",
   "name": "python",
   "nbconvert_exporter": "python",
   "pygments_lexer": "ipython3",
   "version": "3.8.3"
  }
 },
 "nbformat": 4,
 "nbformat_minor": 2
}
