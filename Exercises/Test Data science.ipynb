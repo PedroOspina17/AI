{
 "cells": [
  {
   "cell_type": "markdown",
   "metadata": {},
   "source": [
    "<div id=\"QuestionDescriptionText\" unselectable=\"on\">\n",
    "<p unselectable=\"on\">As<b style=\"display:none;\" unselectable=\"on\"> 7 </b> a<b style=\"display:none;\" unselectable=\"on\"> r </b> part<b style=\"display:none;\" unselectable=\"on\"> j </b> of<b style=\"display:none;\" unselectable=\"on\"> f </b> an<b style=\"display:none;\" unselectable=\"on\"> e </b> application<b style=\"display:none;\" unselectable=\"on\"> k </b> for<b style=\"display:none;\" unselectable=\"on\"> 1 </b> iris<b style=\"display:none;\" unselectable=\"on\"> e </b> enthusiasts,<b style=\"display:none;\" unselectable=\"on\"> g </b> implement<b style=\"display:none;\" unselectable=\"on\"> h </b> the<b style=\"display:none;\" unselectable=\"on\"> 4 </b> <em unselectable=\"on\">train_and_predict<b style=\"display:none;\" unselectable=\"on\"> z </b> </em>function<b style=\"display:none;\" unselectable=\"on\"> e </b> which<b style=\"display:none;\" unselectable=\"on\"> k </b> should<b style=\"display:none;\" unselectable=\"on\"> h </b> be<b style=\"display:none;\" unselectable=\"on\"> t </b> able<b style=\"display:none;\" unselectable=\"on\"> e </b> to<b style=\"display:none;\" unselectable=\"on\"> t </b> classify<b style=\"display:none;\" unselectable=\"on\"> 9 </b> three<b style=\"display:none;\" unselectable=\"on\"> g </b> types<b style=\"display:none;\" unselectable=\"on\"> v </b> of&nbsp;irises<b style=\"display:none;\" unselectable=\"on\"> e </b> based<b style=\"display:none;\" unselectable=\"on\"> 1 </b> on<b style=\"display:none;\" unselectable=\"on\"> 4 </b> four&nbsp;features.</p><p unselectable=\"on\">The&nbsp;<em unselectable=\"on\">train_and_predict<b style=\"display:none;\" unselectable=\"on\"> 2 </b> </em>function<b style=\"display:none;\" unselectable=\"on\"> 7 </b> accepts<b style=\"display:none;\" unselectable=\"on\"> k </b> three<b style=\"display:none;\" unselectable=\"on\"> i </b> parameters:</p><ul unselectable=\"on\"><li unselectable=\"on\"><em unselectable=\"on\">train_input_features<b style=\"display:none;\" unselectable=\"on\"> t </b> </em>-<b style=\"display:none;\" unselectable=\"on\"> p </b> a<b style=\"display:none;\" unselectable=\"on\"> f </b> two-dimensional<b style=\"display:none;\" unselectable=\"on\"> w </b> NumPy<b style=\"display:none;\" unselectable=\"on\"> y </b> array<b style=\"display:none;\" unselectable=\"on\"> p </b> where<b style=\"display:none;\" unselectable=\"on\"> f </b> each<b style=\"display:none;\" unselectable=\"on\"> c </b> element<b style=\"display:none;\" unselectable=\"on\"> b </b> is<b style=\"display:none;\" unselectable=\"on\"> r </b> an<b style=\"display:none;\" unselectable=\"on\"> w </b> array<b style=\"display:none;\" unselectable=\"on\"> 3 </b> that<b style=\"display:none;\" unselectable=\"on\"> 1 </b> contains:<b style=\"display:none;\" unselectable=\"on\"> e </b> sepal<b style=\"display:none;\" unselectable=\"on\"> a </b> length,<b style=\"display:none;\" unselectable=\"on\"> f </b> sepal<b style=\"display:none;\" unselectable=\"on\"> f </b> width,<b style=\"display:none;\" unselectable=\"on\"> 4 </b> petal<b style=\"display:none;\" unselectable=\"on\"> d </b> length,<b style=\"display:none;\" unselectable=\"on\"> u </b> and<b style=\"display:none;\" unselectable=\"on\"> 5 </b> petal<b style=\"display:none;\" unselectable=\"on\"> p </b> width.</li><li unselectable=\"on\"><em unselectable=\"on\">train_outputs<b style=\"display:none;\" unselectable=\"on\"> 8 </b> </em>-<b style=\"display:none;\" unselectable=\"on\"> 5 </b> a<b style=\"display:none;\" unselectable=\"on\"> 8 </b> one-dimensional<b style=\"display:none;\" unselectable=\"on\"> u </b> NumPy<b style=\"display:none;\" unselectable=\"on\"> s </b> array<b style=\"display:none;\" unselectable=\"on\"> t </b> where<b style=\"display:none;\" unselectable=\"on\"> r </b> each<b style=\"display:none;\" unselectable=\"on\"> g </b> element<b style=\"display:none;\" unselectable=\"on\"> d </b> is<b style=\"display:none;\" unselectable=\"on\"> 8 </b> a<b style=\"display:none;\" unselectable=\"on\"> z </b> number<b style=\"display:none;\" unselectable=\"on\"> g </b> representing<b style=\"display:none;\" unselectable=\"on\"> k </b> the<b style=\"display:none;\" unselectable=\"on\"> t </b> species<b style=\"display:none;\" unselectable=\"on\"> 2 </b> of<b style=\"display:none;\" unselectable=\"on\"> 8 </b> iris<b style=\"display:none;\" unselectable=\"on\"> 2 </b> which<b style=\"display:none;\" unselectable=\"on\"> r </b> is<b style=\"display:none;\" unselectable=\"on\"> 5 </b> described<b style=\"display:none;\" unselectable=\"on\"> 6 </b> in<b style=\"display:none;\" unselectable=\"on\"> h </b> the<b style=\"display:none;\" unselectable=\"on\"> n </b> same<b style=\"display:none;\" unselectable=\"on\"> x </b> row<b style=\"display:none;\" unselectable=\"on\"> 6 </b> of<b style=\"display:none;\" unselectable=\"on\"> g </b> <em unselectable=\"on\">train_input_features</em>.<b style=\"display:none;\" unselectable=\"on\"> g </b> 0<b style=\"display:none;\" unselectable=\"on\"> 4 </b> represents<b style=\"display:none;\" unselectable=\"on\"> j </b> Iris<b style=\"display:none;\" unselectable=\"on\"> n </b> setosa,<b style=\"display:none;\" unselectable=\"on\"> y </b> 1<b style=\"display:none;\" unselectable=\"on\"> t </b> represents<b style=\"display:none;\" unselectable=\"on\"> s </b> Iris<b style=\"display:none;\" unselectable=\"on\"> e </b> versicolor,<b style=\"display:none;\" unselectable=\"on\"> 5 </b> and<b style=\"display:none;\" unselectable=\"on\"> f </b> 2<b style=\"display:none;\" unselectable=\"on\"> b </b> represents<b style=\"display:none;\" unselectable=\"on\"> p </b> Iris<b style=\"display:none;\" unselectable=\"on\"> 4 </b> virginica.</li><li unselectable=\"on\"><em unselectable=\"on\">prediction_features<b style=\"display:none;\" unselectable=\"on\"> x </b> </em>-<b style=\"display:none;\" unselectable=\"on\"> m </b> two-dimensional<b style=\"display:none;\" unselectable=\"on\"> m </b> NumPy<b style=\"display:none;\" unselectable=\"on\"> v </b> array<b style=\"display:none;\" unselectable=\"on\"> c </b> where<b style=\"display:none;\" unselectable=\"on\"> n </b> each<b style=\"display:none;\" unselectable=\"on\"> 4 </b> element<b style=\"display:none;\" unselectable=\"on\"> i </b> is<b style=\"display:none;\" unselectable=\"on\"> t </b> an<b style=\"display:none;\" unselectable=\"on\"> h </b> array<b style=\"display:none;\" unselectable=\"on\"> d </b> that<b style=\"display:none;\" unselectable=\"on\"> 8 </b> contains:<b style=\"display:none;\" unselectable=\"on\"> 2 </b> sepal<b style=\"display:none;\" unselectable=\"on\"> n </b> length,<b style=\"display:none;\" unselectable=\"on\"> p </b> sepal<b style=\"display:none;\" unselectable=\"on\"> z </b> width,<b style=\"display:none;\" unselectable=\"on\"> 6 </b> petal<b style=\"display:none;\" unselectable=\"on\"> k </b> length,<b style=\"display:none;\" unselectable=\"on\"> 8 </b> and<b style=\"display:none;\" unselectable=\"on\"> 2 </b> petal<b style=\"display:none;\" unselectable=\"on\"> c </b> width.</li></ul><p unselectable=\"on\">The<b style=\"display:none;\" unselectable=\"on\"> b </b> function<b style=\"display:none;\" unselectable=\"on\"> q </b> should<b style=\"display:none;\" unselectable=\"on\"> 6 </b> train<b style=\"display:none;\" unselectable=\"on\"> t </b> a<b style=\"display:none;\" unselectable=\"on\"> f </b> classifier<b style=\"display:none;\" unselectable=\"on\"> f </b> using<b style=\"display:none;\" unselectable=\"on\"> 7 </b> <em unselectable=\"on\">train_input_features<b style=\"display:none;\" unselectable=\"on\"> 2 </b> </em>as<b style=\"display:none;\" unselectable=\"on\"> g </b> input<b style=\"display:none;\" unselectable=\"on\"> c </b> data<b style=\"display:none;\" unselectable=\"on\"> q </b> and<b style=\"display:none;\" unselectable=\"on\"> j </b> <em unselectable=\"on\">train_outputs</em><b style=\"display:none;\" unselectable=\"on\"> x </b> as<b style=\"display:none;\" unselectable=\"on\"> t </b> the<b style=\"display:none;\" unselectable=\"on\"> i </b> expected<b style=\"display:none;\" unselectable=\"on\"> i </b> result.<b style=\"display:none;\" unselectable=\"on\"> m </b> After<b style=\"display:none;\" unselectable=\"on\"> a </b> that,<b style=\"display:none;\" unselectable=\"on\"> 9 </b> the<b style=\"display:none;\" unselectable=\"on\"> 3 </b> function<b style=\"display:none;\" unselectable=\"on\"> x </b> should<b style=\"display:none;\" unselectable=\"on\"> n </b> use<b style=\"display:none;\" unselectable=\"on\"> m </b> the<b style=\"display:none;\" unselectable=\"on\"> 6 </b> trained<b style=\"display:none;\" unselectable=\"on\"> f </b> classifier<b style=\"display:none;\" unselectable=\"on\"> w </b> to<b style=\"display:none;\" unselectable=\"on\"> 5 </b> predict<b style=\"display:none;\" unselectable=\"on\"> 4 </b> labels<b style=\"display:none;\" unselectable=\"on\"> e </b> for<b style=\"display:none;\" unselectable=\"on\"> y </b> <em unselectable=\"on\">prediction_features<b style=\"display:none;\" unselectable=\"on\"> v </b> </em>and<b style=\"display:none;\" unselectable=\"on\"> 4 </b> return<b style=\"display:none;\" unselectable=\"on\"> m </b> them<b style=\"display:none;\" unselectable=\"on\"> r </b> as<b style=\"display:none;\" unselectable=\"on\"> m </b> an<b style=\"display:none;\" unselectable=\"on\"> x </b> iterable<b style=\"display:none;\" unselectable=\"on\"> f </b> (like<b style=\"display:none;\" unselectable=\"on\"> 3 </b> list<b style=\"display:none;\" unselectable=\"on\"> x </b> or<b style=\"display:none;\" unselectable=\"on\"> 8 </b> numpy.ndarray).<b style=\"display:none;\" unselectable=\"on\"> w </b> The<b style=\"display:none;\" unselectable=\"on\"> h </b> nth<b style=\"display:none;\" unselectable=\"on\"> c </b> position<b style=\"display:none;\" unselectable=\"on\"> 5 </b> in<b style=\"display:none;\" unselectable=\"on\"> p </b> the<b style=\"display:none;\" unselectable=\"on\"> n </b> result<b style=\"display:none;\" unselectable=\"on\"> 5 </b> should<b style=\"display:none;\" unselectable=\"on\"> v </b> be<b style=\"display:none;\" unselectable=\"on\"> 5 </b> the<b style=\"display:none;\" unselectable=\"on\"> f </b> classification<b style=\"display:none;\" unselectable=\"on\"> j </b> of<b style=\"display:none;\" unselectable=\"on\"> a </b> the<b style=\"display:none;\" unselectable=\"on\"> y </b> nth<b style=\"display:none;\" unselectable=\"on\"> z </b> row<b style=\"display:none;\" unselectable=\"on\"> f </b> of<b style=\"display:none;\" unselectable=\"on\"> n </b> the&nbsp;<em unselectable=\"on\">prediction_features&nbsp;</em>parameter.</p>\n",
    "</div>"
   ]
  },
  {
   "cell_type": "code",
   "execution_count": 2,
   "metadata": {},
   "outputs": [
    {
     "name": "stdout",
     "output_type": "stream",
     "text": [
      "0.9777777777777777\n"
     ]
    }
   ],
   "source": [
    "import numpy as np\n",
    "from sklearn import datasets\n",
    "from sklearn.model_selection import train_test_split\n",
    "from sklearn import metrics\n",
    "from sklearn.neighbors import KNeighborsClassifier\n",
    "\n",
    "def train_and_predict(train_input_features, train_outputs, prediction_features):\n",
    "    \"\"\"\n",
    "    :param train_input_features: (numpy.array) A two-dimensional NumPy array where each element\n",
    "                        is an array that contains: sepal length, sepal width, petal length, and petal width   \n",
    "    :param train_outputs: (numpy.array) A one-dimensional NumPy array where each element\n",
    "                        is a number representing the species of iris which is described in\n",
    "                        the same row of train_input_features. 0 represents Iris setosa,\n",
    "                        1 represents Iris versicolor, and 2 represents Iris virginica.\n",
    "    :param prediction_features: (numpy.array) A two-dimensional NumPy array where each element\n",
    "                        is an array that contains: sepal length, sepal width, petal length, and petal width\n",
    "    :returns: (list) The function should return an iterable (like list or numpy.ndarray) of the predicted \n",
    "                        iris species, one for each item in prediction_features\n",
    "    \"\"\"   \n",
    "    \n",
    "    model = KNeighborsClassifier(n_neighbors=3).fit(train_input_features, train_outputs)\n",
    "    results = model.predict(prediction_features)\n",
    "    return results\n",
    "\n",
    "iris = datasets.load_iris()\n",
    "X_train, X_test, y_train, y_test = train_test_split(iris.data, iris.target,\n",
    "                                                    test_size=0.3, random_state=0)\n",
    "\n",
    "y_pred = train_and_predict(X_train, y_train, X_test)\n",
    "if y_pred is not None:\n",
    "    print(metrics.accuracy_score(y_test, y_pred))"
   ]
  },
  {
   "cell_type": "markdown",
   "metadata": {},
   "source": [
    "<p unselectable=\"on\">A<b style=\"display:none;\" unselectable=\"on\"> 1 </b> company<b style=\"display:none;\" unselectable=\"on\"> j </b> stores<b style=\"display:none;\" unselectable=\"on\"> t </b> login<b style=\"display:none;\" unselectable=\"on\"> u </b> data<b style=\"display:none;\" unselectable=\"on\"> 4 </b> and<b style=\"display:none;\" unselectable=\"on\"> d </b> password<b style=\"display:none;\" unselectable=\"on\"> m </b> hashes<b style=\"display:none;\" unselectable=\"on\"> 7 </b> in<b style=\"display:none;\" unselectable=\"on\"> n </b> two<b style=\"display:none;\" unselectable=\"on\"> z </b> different<b style=\"display:none;\" unselectable=\"on\"> 2 </b> containers:</p><ul unselectable=\"on\"><li unselectable=\"on\"><em unselectable=\"on\">DataFrame</em><b style=\"display:none;\" unselectable=\"on\"> p </b> with<b style=\"display:none;\" unselectable=\"on\"> 4 </b> columns:<b style=\"display:none;\" unselectable=\"on\"> 9 </b> <em unselectable=\"on\">Id</em>,<b style=\"display:none;\" unselectable=\"on\"> 7 </b> <em unselectable=\"on\">Login</em>,<b style=\"display:none;\" unselectable=\"on\"> x </b> <em unselectable=\"on\">Verified</em>.</li><li unselectable=\"on\">Two-dimensional<b style=\"display:none;\" unselectable=\"on\"> 7 </b> <em unselectable=\"on\">NumPy<b style=\"display:none;\" unselectable=\"on\"> s </b> array</em><b style=\"display:none;\" unselectable=\"on\"> 2 </b> where<b style=\"display:none;\" unselectable=\"on\"> 4 </b> each<b style=\"display:none;\" unselectable=\"on\"> s </b> element<b style=\"display:none;\" unselectable=\"on\"> v </b> is<b style=\"display:none;\" unselectable=\"on\"> 2 </b> an<b style=\"display:none;\" unselectable=\"on\"> 3 </b> array<b style=\"display:none;\" unselectable=\"on\"> g </b> that<b style=\"display:none;\" unselectable=\"on\"> m </b> contains:<b style=\"display:none;\" unselectable=\"on\"> t </b> <em unselectable=\"on\">Id</em><b style=\"display:none;\" unselectable=\"on\"> k </b> and<b style=\"display:none;\" unselectable=\"on\"> 4 </b> <em unselectable=\"on\">Password</em>.</li></ul><p unselectable=\"on\">Elements<b style=\"display:none;\" unselectable=\"on\"> n </b> on<b style=\"display:none;\" unselectable=\"on\"> a </b> the<b style=\"display:none;\" unselectable=\"on\"> 5 </b> same<b style=\"display:none;\" unselectable=\"on\"> 2 </b> row/index<b style=\"display:none;\" unselectable=\"on\"> p </b> have<b style=\"display:none;\" unselectable=\"on\"> 2 </b> the<b style=\"display:none;\" unselectable=\"on\"> f </b> same<b style=\"display:none;\" unselectable=\"on\"> u </b> <em unselectable=\"on\">Id</em>.</p><p unselectable=\"on\">Implement<b style=\"display:none;\" unselectable=\"on\"> u </b> the<b style=\"display:none;\" unselectable=\"on\"> a </b> function<b style=\"display:none;\" unselectable=\"on\"> s </b> <em unselectable=\"on\">login_table</em><b style=\"display:none;\" unselectable=\"on\"> g </b> that<b style=\"display:none;\" unselectable=\"on\"> q </b> accepts<b style=\"display:none;\" unselectable=\"on\"> 6 </b> these<b style=\"display:none;\" unselectable=\"on\"> r </b> two<b style=\"display:none;\" unselectable=\"on\"> x </b> containers<b style=\"display:none;\" unselectable=\"on\"> 2 </b> and<b style=\"display:none;\" unselectable=\"on\"> 1 </b> <strong unselectable=\"on\">modifies<b style=\"display:none;\" unselectable=\"on\"> 3 </b> <em unselectable=\"on\">id_name_verified<b style=\"display:none;\" unselectable=\"on\"> u </b> </em>DataFrame<b style=\"display:none;\" unselectable=\"on\"> h </b> in-place</strong>,<b style=\"display:none;\" unselectable=\"on\"> a </b> so<b style=\"display:none;\" unselectable=\"on\"> 2 </b> that:</p><ul unselectable=\"on\"><li unselectable=\"on\">The<b style=\"display:none;\" unselectable=\"on\"> e </b> <em unselectable=\"on\">Verified<b style=\"display:none;\" unselectable=\"on\"> b </b> </em>column&nbsp;should<b style=\"display:none;\" unselectable=\"on\"> n </b> be<b style=\"display:none;\" unselectable=\"on\"> 5 </b> removed.</li><li unselectable=\"on\">The<b style=\"display:none;\" unselectable=\"on\"> h </b> password<b style=\"display:none;\" unselectable=\"on\"> r </b> from<b style=\"display:none;\" unselectable=\"on\"> d </b> <em unselectable=\"on\">NumPy<b style=\"display:none;\" unselectable=\"on\"> h </b> array</em><b style=\"display:none;\" unselectable=\"on\"> k </b> should<b style=\"display:none;\" unselectable=\"on\"> 1 </b> be<b style=\"display:none;\" unselectable=\"on\"> 4 </b> added<b style=\"display:none;\" unselectable=\"on\"> z </b> as<b style=\"display:none;\" unselectable=\"on\"> p </b> the<b style=\"display:none;\" unselectable=\"on\"> w </b> last<b style=\"display:none;\" unselectable=\"on\"> m </b> column<b style=\"display:none;\" unselectable=\"on\"> e </b> with&nbsp;the<b style=\"display:none;\" unselectable=\"on\"> 7 </b> name<b style=\"display:none;\" unselectable=\"on\"> s </b> \"<em unselectable=\"on\">Password</em>\"<b style=\"display:none;\" unselectable=\"on\"> 3 </b> to<b style=\"display:none;\" unselectable=\"on\"> d </b> <em unselectable=\"on\">DataFrame</em>.</li></ul><p unselectable=\"on\">For<b style=\"display:none;\" unselectable=\"on\"> h </b> example,<b style=\"display:none;\" unselectable=\"on\"> a </b> the<b style=\"display:none;\" unselectable=\"on\"> n </b> following<b style=\"display:none;\" unselectable=\"on\"> 3 </b> code<b style=\"display:none;\" unselectable=\"on\"> q </b> snippet:</p><pre unselectable=\"on\"><code class=\"language-python hljs\" unselectable=\"on\">id_name_verified<b style=\"display:none;\" unselectable=\"on\"> b </b> =<b style=\"display:none;\" unselectable=\"on\"> <span class=\"hljs-number\">5</span> </b> pd.DataFrame([[<span class=\"hljs-number\">1</span>,<b style=\"display:none;\" unselectable=\"on\"> e </b> <span class=\"hljs-string\">\"JohnDoe\"</span>,<b style=\"display:none;\" unselectable=\"on\"> k </b> <span class=\"hljs-keyword\">True</span>],<b style=\"display:none;\" unselectable=\"on\"> r </b> [<span class=\"hljs-number\">2</span>,<b style=\"display:none;\" unselectable=\"on\"> s </b> <span class=\"hljs-string\">\"AnnFranklin\"</span>,<b style=\"display:none;\" unselectable=\"on\"> m </b> <span class=\"hljs-keyword\">False</span>]],<b style=\"display:none;\" unselectable=\"on\"> c </b> columns=[<span class=\"hljs-string\">\"Id\"</span>,<b style=\"display:none;\" unselectable=\"on\"> <span class=\"hljs-number\">9</span> </b> <span class=\"hljs-string\">\"Login\"</span>,<b style=\"display:none;\" unselectable=\"on\"> r </b> <span class=\"hljs-string\">\"Verified\"</span>])\n",
    "id_password<b style=\"display:none;\" unselectable=\"on\"> r </b> =<b style=\"display:none;\" unselectable=\"on\"> <span class=\"hljs-number\">2</span> </b> np.array([[<span class=\"hljs-number\">1</span>,<b style=\"display:none;\" unselectable=\"on\"> x </b> <span class=\"hljs-number\">987340123</span>],<b style=\"display:none;\" unselectable=\"on\"> x </b> [<span class=\"hljs-number\">2</span>,<b style=\"display:none;\" unselectable=\"on\"> <span class=\"hljs-number\">4</span> </b> <span class=\"hljs-number\">187031122</span>]],<b style=\"display:none;\" unselectable=\"on\"> g </b> np.int32)\n",
    "login_table(id_name_verified,<b style=\"display:none;\" unselectable=\"on\"> s </b> id_password)\n",
    "print(id_name_verified)</code></pre><p unselectable=\"on\">Should<b style=\"display:none;\" unselectable=\"on\"> 7 </b> print:</p><pre unselectable=\"on\"><b style=\"display:none;\" unselectable=\"on\"> f </b> <b style=\"display:none;\" unselectable=\"on\"> k </b> <b style=\"display:none;\" unselectable=\"on\"> 6 </b> Id<b style=\"display:none;\" unselectable=\"on\"> 2 </b> <b style=\"display:none;\" unselectable=\"on\"> 2 </b> <b style=\"display:none;\" unselectable=\"on\"> f </b> <b style=\"display:none;\" unselectable=\"on\"> m </b> <b style=\"display:none;\" unselectable=\"on\"> v </b> <b style=\"display:none;\" unselectable=\"on\"> 3 </b> <b style=\"display:none;\" unselectable=\"on\"> e </b> <b style=\"display:none;\" unselectable=\"on\"> x </b> Login<b style=\"display:none;\" unselectable=\"on\"> i </b> <b style=\"display:none;\" unselectable=\"on\"> 5 </b> <b style=\"display:none;\" unselectable=\"on\"> p </b> Password\n",
    "0<b style=\"display:none;\" unselectable=\"on\"> j </b> <b style=\"display:none;\" unselectable=\"on\"> f </b> <b style=\"display:none;\" unselectable=\"on\"> 7 </b> 1<b style=\"display:none;\" unselectable=\"on\"> k </b> <b style=\"display:none;\" unselectable=\"on\"> y </b> <b style=\"display:none;\" unselectable=\"on\"> w </b> <b style=\"display:none;\" unselectable=\"on\"> v </b> <b style=\"display:none;\" unselectable=\"on\"> 9 </b> <b style=\"display:none;\" unselectable=\"on\"> h </b> JohnDoe<b style=\"display:none;\" unselectable=\"on\"> m </b> <b style=\"display:none;\" unselectable=\"on\"> f </b> 987340123\n",
    "1<b style=\"display:none;\" unselectable=\"on\"> 6 </b> <b style=\"display:none;\" unselectable=\"on\"> w </b> <b style=\"display:none;\" unselectable=\"on\"> d </b> 2<b style=\"display:none;\" unselectable=\"on\"> a </b> <b style=\"display:none;\" unselectable=\"on\"> u </b> AnnFranklin<b style=\"display:none;\" unselectable=\"on\"> z </b> <b style=\"display:none;\" unselectable=\"on\"> w </b> 187031122\n",
    "</pre>"
   ]
  },
  {
   "cell_type": "code",
   "execution_count": 3,
   "metadata": {},
   "outputs": [
    {
     "name": "stdout",
     "output_type": "stream",
     "text": [
      "   Id        Login   Password\n",
      "0   1      JohnDoe  987340123\n",
      "1   2  AnnFranklin  187031122\n"
     ]
    }
   ],
   "source": [
    "\n",
    "import pandas as pd\n",
    "import numpy as np\n",
    "\n",
    "def login_table(id_name_verified, id_password):\n",
    "    \"\"\"\n",
    "    :param id_name_verified: (DataFrame) DataFrame with columns: Id, Login, Verified.   \n",
    "    :param id_password: (numpy.array) Two-dimensional NumPy array where each element\n",
    "                        is an array that contains: Id and Password\n",
    "    :returns: (None) The function should modify id_name_verified DataFrame in-place. \n",
    "              It should not return anything.\n",
    "    \"\"\"   \n",
    "    id_name_verified.drop(\"Verified\", axis=1, inplace=True)\n",
    "    id_name_verified[\"Password\"] = id_password[:,1]\n",
    "\n",
    "id_name_verified = pd.DataFrame([[1, \"JohnDoe\", True], [2, \"AnnFranklin\", False]], columns=[\"Id\", \"Login\", \"Verified\"])\n",
    "id_password = np.array([[1, 987340123], [2, 187031122]], np.int32)\n",
    "login_table(id_name_verified, id_password)\n",
    "print(id_name_verified)"
   ]
  }
 ],
 "metadata": {
  "kernelspec": {
   "display_name": "Python 3",
   "language": "python",
   "name": "python3"
  },
  "language_info": {
   "codemirror_mode": {
    "name": "ipython",
    "version": 3
   },
   "file_extension": ".py",
   "mimetype": "text/x-python",
   "name": "python",
   "nbconvert_exporter": "python",
   "pygments_lexer": "ipython3",
   "version": "3.7.1"
  }
 },
 "nbformat": 4,
 "nbformat_minor": 2
}
