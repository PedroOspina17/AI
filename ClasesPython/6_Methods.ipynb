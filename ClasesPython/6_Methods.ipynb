{
 "cells": [
  {
   "cell_type": "markdown",
   "metadata": {},
   "source": [
    "# Functions / Methods\n",
    "\n",
    "To reuse code. Sub-Algoritm. Sub-Process.\n",
    "\n",
    "<img src=\"https://chbe241.github.io/_images/Input-Output_Diagrams1.jpg\">\n",
    "\n",
    "\n",
    "Has 3 main parts:\n",
    "\n",
    "1. **Method name:** The word to call the method, how will you use the code you are creating. It's .\n",
    "2. **Parameters:** The values that you are going to send to the method to work with. a.k.a **Inputs**\n",
    "3. **Return value:** The value that you want to give as a result of your process. a.k.a **Output**\n",
    "\n",
    "\n",
    "\n",
    "\n",
    "\n",
    "Structure: \n",
    "\n",
    "**To create a method**\n",
    "\n",
    "```python\n",
    "    def methodName(parameter1, parameter2, param3):\n",
    "        #Action\n",
    "        #Action\n",
    "        #Action\n",
    "        return valueToReturn\n",
    "```\n",
    "\n",
    "**To use a method**\n",
    "\n",
    "```py\n",
    "    methodName(\"This is the first param\", \"This is the third param\", 5)\n",
    "```\n",
    "\n",
    "\n",
    "The fisrt 2 components listed above (Method name and parameters) are **case sensitive**, this means that method ``HelloWord`` is differents than ``helloword`` and ``HelloWorld``. \n",
    "\n",
    "There are two main `naming conventions` **cammelCase** and **Sanake_Case**.\n",
    "\n",
    "- **Cammel case**: Each word is separated by a capitalizaed letter. \n",
    "            \n",
    "        Examples: helloWorld, firstName, mySecondName, myFisrtNameList\n",
    "            \n",
    "- **Snake case**: Each word is separated by \"_\"\n",
    "\n",
    "        Examples: hello_world, first_name, my_second_name, my_fisrt_name_list\n",
    "\n",
    "More information about this can be found here for [cammelCase](https://en.wikipedia.org/wiki/Camel_case),[snake_case](https://en.wikipedia.org/wiki/Snake_case) and [Conventions in python](https://en.wikipedia.org/wiki/Naming_convention_(programming)#Python_and_Ruby)\n",
    "\n",
    "\n",
    "# Examples\n",
    "\n",
    "## Simple function:"
   ]
  },
  {
   "cell_type": "code",
   "execution_count": 1,
   "metadata": {},
   "outputs": [],
   "source": [
    "def sayHello():\n",
    "    print(\"Hey, Hello !\")"
   ]
  },
  {
   "cell_type": "code",
   "execution_count": 2,
   "metadata": {},
   "outputs": [
    {
     "name": "stdout",
     "output_type": "stream",
     "text": [
      "Hey, Hello !\n"
     ]
    }
   ],
   "source": [
    "sayHello()"
   ]
  },
  {
   "cell_type": "markdown",
   "metadata": {},
   "source": [
    "## Function with parameters"
   ]
  },
  {
   "cell_type": "code",
   "execution_count": 3,
   "metadata": {},
   "outputs": [],
   "source": [
    "\n",
    "def sayHelloTo(nameToGreet):\n",
    "    print(\"Hey {}, how are you today?\".format(nameToGreet))"
   ]
  },
  {
   "cell_type": "code",
   "execution_count": 4,
   "metadata": {},
   "outputs": [
    {
     "name": "stdout",
     "output_type": "stream",
     "text": [
      "Hey Pedro, how are you today?\n",
      "Hey Ale, how are you today?\n",
      "Hey David, how are you today?\n"
     ]
    }
   ],
   "source": [
    "sayHelloTo(\"Pedro\")\n",
    "sayHelloTo(\"Ale\")\n",
    "sayHelloTo(\"David\")\n"
   ]
  },
  {
   "cell_type": "code",
   "execution_count": 5,
   "metadata": {},
   "outputs": [],
   "source": [
    "\n",
    "def sayHelloToList(namesToGreet):\n",
    "    for element in namesToGreet:        \n",
    "        print(\"Hey {}, how are you today?\".format(element))"
   ]
  },
  {
   "cell_type": "code",
   "execution_count": 6,
   "metadata": {},
   "outputs": [
    {
     "name": "stdout",
     "output_type": "stream",
     "text": [
      "Hey Pedro, how are you today?\n",
      "Hey Ale, how are you today?\n",
      "Hey David, how are you today?\n",
      "\n",
      "Let's greet someone else\n",
      "\n",
      "Hey Andrea, how are you today?\n",
      "Hey Omar, how are you today?\n",
      "Hey Eli, how are you today?\n"
     ]
    }
   ],
   "source": [
    "sayHelloToList([\"Pedro\",\"Ale\",\"David\"])\n",
    "print()\n",
    "print(\"Let's greet someone else\")\n",
    "print()\n",
    "sayHelloToList([\"Andrea\",\"Omar\",\"Eli\"])"
   ]
  },
  {
   "cell_type": "markdown",
   "metadata": {},
   "source": [
    "## Returning information"
   ]
  },
  {
   "cell_type": "code",
   "execution_count": 7,
   "metadata": {},
   "outputs": [],
   "source": [
    "def collect3Names():\n",
    "    \n",
    "    namesToCollect = []\n",
    "    for i in range(3):\n",
    "        name = input(\"Please, type your name: \")\n",
    "        namesToCollect.append(name)\n",
    "        \n",
    "    return namesToCollect"
   ]
  },
  {
   "cell_type": "code",
   "execution_count": 8,
   "metadata": {},
   "outputs": [
    {
     "name": "stdout",
     "output_type": "stream",
     "text": [
      "Please, type your name: wsrs\n",
      "Please, type your name: sf\n",
      "Please, type your name: sef\n",
      "The values collected are: ['wsrs', 'sf', 'sef'] \n"
     ]
    }
   ],
   "source": [
    "myList = collect3Names()\n",
    "print(\"The values collected are: {} \".format(myList))"
   ]
  },
  {
   "cell_type": "code",
   "execution_count": 9,
   "metadata": {},
   "outputs": [],
   "source": [
    "def collectXNames(amountOfNames):\n",
    "    \n",
    "    namesToCollect = []\n",
    "    for i in range(amountOfNames):\n",
    "        name = input(\"Please, type your name: \")\n",
    "        namesToCollect.append(name)\n",
    "        \n",
    "    return namesToCollect"
   ]
  },
  {
   "cell_type": "code",
   "execution_count": 10,
   "metadata": {},
   "outputs": [
    {
     "name": "stdout",
     "output_type": "stream",
     "text": [
      "Please, type your name: sef\n",
      "Please, type your name: se\n",
      "Please, type your name: fse\n",
      "Please, type your name: fse\n",
      "Please, type your name: f\n",
      "The values collected are: ['sef', 'se', 'fse', 'fse', 'f'] \n",
      "Please, type your name: sef\n",
      "Please, type your name: sf\n",
      "Please, type your name: sef\n",
      "Please, type your name: sef\n",
      "The values collected are: ['sef', 'sf', 'sef', 'sef'] \n"
     ]
    }
   ],
   "source": [
    "my5NameList = collectXNames(5)\n",
    "print(\"The values collected are: {} \".format(my5NameList))\n",
    "\n",
    "my4NameList = collectXNames(4)\n",
    "print(\"The values collected are: {} \".format(my4NameList))"
   ]
  },
  {
   "cell_type": "code",
   "execution_count": 11,
   "metadata": {},
   "outputs": [
    {
     "name": "stdout",
     "output_type": "stream",
     "text": [
      "Hey sef, how are you today?\n",
      "Hey se, how are you today?\n",
      "Hey fse, how are you today?\n",
      "Hey fse, how are you today?\n",
      "Hey f, how are you today?\n",
      "\n",
      "The other list ...\n",
      "\n",
      "Hey sef, how are you today?\n",
      "Hey sf, how are you today?\n",
      "Hey sef, how are you today?\n",
      "Hey sef, how are you today?\n"
     ]
    }
   ],
   "source": [
    "sayHelloToList(my5NameList)\n",
    "print()\n",
    "print(\"The other list ...\")\n",
    "print()\n",
    "sayHelloToList(my4NameList)"
   ]
  },
  {
   "cell_type": "markdown",
   "metadata": {},
   "source": [
    "## Optional parameters\n",
    "\n",
    "The parameter can be optional, means that sometimes you need it and sometimes you don't !\n",
    "\n",
    "- To use optional parameters: **assign a default value**\n",
    "```python\n",
    "    def someMethod(nonOptionalParam, optionalParam = defaultValue):\n",
    "        #Action\n",
    "        #Action\n",
    "        return valuetoReturn\n",
    "```"
   ]
  },
  {
   "cell_type": "code",
   "execution_count": 12,
   "metadata": {},
   "outputs": [],
   "source": [
    "def collectNames(amountOfNames=3):\n",
    "    \n",
    "    namesToCollect = []\n",
    "    for i in range(amountOfNames):\n",
    "        name = input(\"Please, type your name: \")\n",
    "        namesToCollect.append(name)\n",
    "        \n",
    "    return namesToCollect"
   ]
  },
  {
   "cell_type": "code",
   "execution_count": 13,
   "metadata": {},
   "outputs": [
    {
     "name": "stdout",
     "output_type": "stream",
     "text": [
      "Please, type your name: sf\n",
      "Please, type your name: sf\n",
      "Please, type your name: awd\n"
     ]
    },
    {
     "data": {
      "text/plain": [
       "['sf', 'sf', 'awd']"
      ]
     },
     "execution_count": 13,
     "metadata": {},
     "output_type": "execute_result"
    }
   ],
   "source": [
    "collectNames()"
   ]
  },
  {
   "cell_type": "code",
   "execution_count": 17,
   "metadata": {},
   "outputs": [
    {
     "name": "stdout",
     "output_type": "stream",
     "text": [
      "Please, type your name: \n",
      "Please, type your name: \n",
      "Please, type your name: \n",
      "Please, type your name: \n",
      "Please, type your name: \n"
     ]
    },
    {
     "data": {
      "text/plain": [
       "['', '', '', '', '']"
      ]
     },
     "execution_count": 17,
     "metadata": {},
     "output_type": "execute_result"
    }
   ],
   "source": [
    "collectNames(5)"
   ]
  },
  {
   "cell_type": "markdown",
   "metadata": {},
   "source": [
    "## Returning multiple values:"
   ]
  },
  {
   "cell_type": "code",
   "execution_count": 15,
   "metadata": {},
   "outputs": [],
   "source": [
    "def collectNamesAndLastnames(amountOfInfo):\n",
    "    \n",
    "    firstNamesList = []\n",
    "    lastNamesList = []\n",
    "    for i in range(amountOfInfo):\n",
    "        firstName = input(\"type the {} fisrt name: \". format(i))\n",
    "        lastName = input(\"type the {} last name: \".format(i))       \n",
    "        firstNamesList.append(firstName)\n",
    "        lastNamesList.append(lastName)\n",
    "    \n",
    "    return firstNamesList,lastNamesList        "
   ]
  },
  {
   "cell_type": "code",
   "execution_count": 18,
   "metadata": {},
   "outputs": [
    {
     "name": "stdout",
     "output_type": "stream",
     "text": [
      "type the 0 fisrt name: \n",
      "type the 0 last name: \n",
      "type the 1 fisrt name: \n",
      "type the 1 last name: \n",
      "type the 2 fisrt name: \n",
      "type the 2 last name: \n",
      "type the 3 fisrt name: \n",
      "type the 3 last name: \n",
      "type the 4 fisrt name: \n",
      "type the 4 last name: \n"
     ]
    },
    {
     "data": {
      "text/plain": [
       "(['', '', '', '', ''], ['', '', '', '', ''])"
      ]
     },
     "execution_count": 18,
     "metadata": {},
     "output_type": "execute_result"
    }
   ],
   "source": [
    "collectNamesAndLastnames(5)"
   ]
  },
  {
   "cell_type": "code",
   "execution_count": 20,
   "metadata": {},
   "outputs": [
    {
     "name": "stdout",
     "output_type": "stream",
     "text": [
      "type the 0 fisrt name: \n",
      "type the 0 last name: \n",
      "type the 1 fisrt name: \n",
      "type the 1 last name: \n",
      "type the 2 fisrt name: \n",
      "type the 2 last name: \n",
      "type the 3 fisrt name: \n",
      "type the 3 last name: \n",
      "type the 4 fisrt name: \n",
      "type the 4 last name: \n",
      "names:  ['', '', '', '', '']\n",
      "lastNames:  ['', '', '', '', '']\n",
      "lastNames section:  ['', '']\n"
     ]
    }
   ],
   "source": [
    "names, lastNames = collectNamesAndLastnames(5)\n",
    "print(\"names: \", names)\n",
    "print(\"lastNames: \", lastNames)\n",
    "print(\"lastNames section: \", lastNames[:2])"
   ]
  },
  {
   "cell_type": "markdown",
   "metadata": {},
   "source": [
    "# Ejercicios\n",
    "\n",
    "0. Crear un método que reciba 2 números y los sume. Mostrar su resultado \n",
    "\n",
    "1. Crear un método que reciba 2 números (enteros) y el simbolo de una operación ('+','-','*','/'), que realice la opración indicada y devuelva su resultado, imprimir el calculo realizado en el siguiente formato: \n",
    "\n",
    "    \"El resultado de la `Operación ` es: `Resultado`\"\n",
    "    \n",
    "    Ejemplo: Entrada: 4\n",
    "                      2\n",
    "                      \"+\"\n",
    "             Salida: \"El resultado de la suma es: 6\"\n",
    "             \n",
    "             Entrada: 4\n",
    "                      2\n",
    "                      \"/\"\n",
    "             Salida: \"El resultado de la division es: 2\"\n",
    "    \n",
    "\n",
    "2. Crear un algoritmo que pida dos precios y luego los sume (reuse la función creada en el punto 0). Considere que los precios pueden traer caracteres especiales.\n",
    "\n",
    "        Ejemplo: Entrada: $ 1.700\n",
    "                   $ 2.500                          \n",
    "                 Salida:  $ 4.200\n",
    "3. Crear un método que solicite x cantidad de nombres al usuario y muestre esa lista. la cantidad de nombres a pedir debe ser pedida al usuario tambien.\n",
    "\n",
    "        \n",
    "        Ejemplo: Entrada: 3\n",
    "                 (Pide 3 nombres)\n",
    "                 Salida: [\"Nombre 1\",\"Nombre 2\",\"Nombre 3\"]\n",
    "        \n",
    "        \n",
    "4. Crear un método que reciba una lista de nombres y muestre cuantas vocales tiene cada elemento.\n",
    "\n",
    "        Ejemplo: Entrada: [\"Pedro\", \"Omar\",\"Alexandra\"]\n",
    "                 Salida: \"Pedro\": 2 vocales\n",
    "                         \"Omar\": 2 vocales\n",
    "                         \"Alexandra\": 4 vocales\n",
    "                         \n",
    "4.1. intente muestrar cuantas veces está cada vocal en esos nombres.\n",
    "\n",
    "        Ejemplo: Entrada: [\"Pedro\", \"Omar\",\"Alexandra\"]\n",
    "                 Salida: \"Pedro\": \n",
    "                             \"a\": 0\n",
    "                             \"e\": 1\n",
    "                             \"i\": 0\n",
    "                             \"o\": 1\n",
    "                             \"u\": 0\n",
    "                             \n",
    "                         \"Omar\": \n",
    "                             \"a\": 1\n",
    "                             \"e\": 0\n",
    "                             \"i\": 0\n",
    "                             \"o\": 1\n",
    "                             \"u\": 0\n",
    "                         \n",
    "                         \"Alexandra\": \n",
    "                             \"a\": 3\n",
    "                             \"e\": 1\n",
    "                             \"i\": 0\n",
    "                             \"o\": 0\n",
    "                             \"u\": 0\n",
    "                \n",
    "5. Crear un algoritmo que unifique los puntos 3 y 4\n",
    "\n",
    "6. Crear una función que solicite cualquier dato de x cantidad de personas. úselo para pedir 5 `edades`. el número de personas se le debe solicitar al usuario.\n",
    "\n",
    "        Ejemplo: Entrada: 5\n",
    "                    (Se ingresan las 5 edades)\n",
    "                 Salida: \"Listado de edades: [24,14,30,35,40]\"\n",
    "                 \n",
    "7. Reutilice e método creardo en el puto anterior para permitirle al usuario solicitar el dato que quiera, así como tambien la cantidad de datos quiere pedir.\n",
    "\n",
    "        Ejemplo: Entrada: \"Edad\"\n",
    "                           5\n",
    "                           (Se ingresan las 5 edades)\n",
    "                 Salida: \"Listado de edades [24,14,30,35,40]\"\n",
    "                 \n",
    "                 Entrada: \"Nombre\"\n",
    "                           3\n",
    "                           (Se ingresan los 3 nombres)\n",
    "                 Salida:   \"Listado de nombres: [\"Andrea\",\"Pedro\",\"Omar\"]\"\n",
    "\n",
    "8. Crear un algoritmo que pida 5 edades, 5 nombres, 5 apellidos y 5 generos y luego mostrarlos uno por uno, así:\n",
    "        Edades:\n",
    "        -- Edad 1\n",
    "        -- Edad 2\n",
    "        -- Edad 3\n",
    "        ...\n",
    "        Nombres:\n",
    "        -- Nombre 1\n",
    "        -- Nombre 2\n",
    "        ...\n",
    "        Apellidos:\n",
    "        -- Apellido 1\n",
    "        ...\n",
    "        ...\n",
    "        \n",
    "9. Crear un algoritmo que solicite x nombres, los cuales pueden contener caracteres especiales como tildes y signos de puntuacón. Mostrar todos los nombres ingresados sin estos caracteres especiales. (Recuerde que los nombres propios se escriben con la inicial en mayuscula).\n",
    "\n",
    "    Ejemplo: Entrada: \"María Isabel Gómez\"\n",
    "             Salida: \"Maria Isabel Gomez\"\n",
    "             \n",
    "             Entrada: \"Francisco Agüero.\"\n",
    "             Salida: \"Francisco Aaguero\"\n",
    "             \n",
    "             Entrada: \"Francisca, Ortís\"\n",
    "             Salida: \"Francisca Ortis\"\n",
    "\n",
    "10. Crear una función que obtenga las iniciales de un nombre ingresado por pantalla.\n",
    "\n",
    "        Ejemplo: Entrada: \"Pedro nel Ospina Graciano\"\n",
    "                 Salida: \"P.N.O.G\"\n",
    "\n",
    "11. Crear un algoritmo que pida un nombre completo y nombre completo de su madre y de su padre (asuma que todos los nombre tendrán un primer nombre, segundo nombre, primer apellido y segundo appelido), identificar sí el hijo, el padre o la madre hacen parte de la familia Ospina.\n",
    "\n",
    "\n",
    "12. Crear un algoritmo que pida al usuario 5 campos a llenar y la cantidad de valores que desea ingresarle a dicho campo, solicitarlos y finalmente mostrarlos en dos formatos diferentes: \n",
    "    \n",
    "    Formato 1: (El nombre de los campos con la primera en mayuscula y los valores enumerados en minuscula)\n",
    "            -- Campo 1 --\n",
    "            1. valor 1\n",
    "            2. valor 2\n",
    "            ...\n",
    "            -- Campo 2 --\n",
    "            1. valor 1\n",
    "            2. valor 2\n",
    "            ...\n",
    "    Formato 2: (El nombre de los campos en mayuscula y los valores con un simbolo al inicio y en minuscula)\n",
    "            ----- CAMPO 1\n",
    "            -- valor 1\n",
    "            -- valor 2\n",
    "            ...\n",
    "            ---- CAMPO 2\n",
    "            -- valor 1\n",
    "            -- valor 2\n",
    "            ...\n",
    "            \n",
    "13. Crea una aplicación que nos cuente el número de cifras de un número entero positivo (hay que controlar que así sea) pedido por teclado. Crea un método que realice esta acción, pasando el número por parámetro, devolverá el número de cifras.\n",
    "\n",
    "\n",
    "14. Crear un aplicación que nos convierta una cantidad de euros introducida por teclado a otra moneda, estas pueden ser a dolares, yenes o libras. El método tendrá como parámetros, la cantidad de euros y la moneda a pasar que sera una cadena, devolver el valor convertido y mostrarlo por pantalla. \n",
    "    \n",
    "    El cambio de divisas son:\n",
    "\n",
    "    * 0.86 libras es un 1 €\n",
    "    * 1.28611 dolares es un 1 €\n",
    "    * 129.852 yenes es un 1 €\n",
    "    * 3.500 pesos es un 1 €\n",
    "    \n"
   ]
  }
 ],
 "metadata": {
  "kernelspec": {
   "display_name": "Python 3",
   "language": "python",
   "name": "python3"
  },
  "language_info": {
   "codemirror_mode": {
    "name": "ipython",
    "version": 3
   },
   "file_extension": ".py",
   "mimetype": "text/x-python",
   "name": "python",
   "nbconvert_exporter": "python",
   "pygments_lexer": "ipython3",
   "version": "3.7.7"
  }
 },
 "nbformat": 4,
 "nbformat_minor": 2
}
