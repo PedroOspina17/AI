{
 "cells": [
  {
   "cell_type": "markdown",
   "metadata": {},
   "source": [
    "# Data structures\n",
    "\n",
    "## List\n",
    "\n",
    "A collection of objects\n",
    "\n",
    "to create a list use `[element1,element2,element3]`\n",
    "\n",
    ">USEFUL **TO STORAGE DATA**"
   ]
  },
  {
   "cell_type": "code",
   "execution_count": null,
   "metadata": {},
   "outputs": [],
   "source": [
    "numbers = [1,2,3,4]\n",
    "names = [\"Pedro\",\"Andrea\",\"Ale\",\"Eli\"]\n",
    "emptyList = []\n",
    "print(numbers)\n",
    "print(names)\n",
    "print(emptyList)"
   ]
  },
  {
   "cell_type": "markdown",
   "metadata": {},
   "source": [
    "### Acessing to specific elements\n",
    "\n",
    "all the element list have an specific **Index**. which **start from 0 and ends on n-1** (n is the 3 of elements in the list)\n",
    "\n",
    "to access to an specific element use this structure: `listOfElements[index]`"
   ]
  },
  {
   "cell_type": "code",
   "execution_count": null,
   "metadata": {},
   "outputs": [],
   "source": [
    "elements = [\"Pedro\",\"Andrea\",\"Ale\",\"Eli\",\"Mama\"]\n",
    "print(elements[0]) # the first element is index = 0\n",
    "print(elements[3])\n",
    "print(elements[4]) # the last element is index = 4 "
   ]
  },
  {
   "cell_type": "markdown",
   "metadata": {},
   "source": [
    "index can be **negative** numbers as well, it denotes that you are accessing the elements **from the last to first**"
   ]
  },
  {
   "cell_type": "code",
   "execution_count": 17,
   "metadata": {},
   "outputs": [
    {
     "name": "stdout",
     "output_type": "stream",
     "text": [
      "Mama\n",
      "Eli\n",
      "Andrea\n"
     ]
    }
   ],
   "source": [
    "print(elements[-1]) # the last element could be called with index -1\n",
    "print(elements[-2])\n",
    "print(elements[-4]) \n"
   ]
  },
  {
   "cell_type": "markdown",
   "metadata": {},
   "source": [
    "### Slicing\n",
    "\n",
    "You can get a **part of a list** with the following structure: ``listOfElements[start:end]``\n",
    "\n",
    "**Note 1:** The end number is not included\n",
    "\n",
    "**Note 2:** If the number of start is omitted means that it starts from the begining of the list.\n",
    "\n",
    "**Note 3:** If the number of end is omitted means that it ends at the end of the list."
   ]
  },
  {
   "cell_type": "code",
   "execution_count": 27,
   "metadata": {},
   "outputs": [
    {
     "name": "stdout",
     "output_type": "stream",
     "text": [
      "['Pedro', 'Andrea', 'Ale']\n",
      "['Eli', 'Mama', 'David', 'Omar', 'Weimar']\n",
      "['Pedro', 'Andrea', 'Ale']\n",
      "['Eli', 'Mama', 'David', 'Omar', 'Weimar']\n",
      "['Eli', 'Mama']\n"
     ]
    }
   ],
   "source": [
    "elements = [\"Pedro\",\"Andrea\",\"Ale\",\"Eli\",\"Mama\", \"David\", \"Omar\", \"Weimar\"]\n",
    "print(elements[0:3])\n",
    "print(elements[3:8])\n",
    "print(elements[:3]) # Similar to 0:3\n",
    "print(elements[3:]) # Similar to 3:8\n",
    "\n",
    "print(elements[3:5])"
   ]
  },
  {
   "cell_type": "markdown",
   "metadata": {},
   "source": [
    "You can specify an increment. Structure ``listOfElements[start:end:increment]``"
   ]
  },
  {
   "cell_type": "code",
   "execution_count": 37,
   "metadata": {
    "scrolled": true
   },
   "outputs": [
    {
     "name": "stdout",
     "output_type": "stream",
     "text": [
      "['Eli', 'Mama', 'David', 'Omar', 'Weimar']\n",
      "['Eli', 'David', 'Weimar']\n",
      "['Weimar', 'Omar', 'David', 'Mama', 'Eli', 'Ale', 'Andrea', 'Pedro']\n",
      "['David', 'Mama', 'Eli', 'Ale', 'Andrea']\n"
     ]
    }
   ],
   "source": [
    "print(elements[3:8:1]) # All the elements, similar as [3:8]\n",
    "print(elements[3:8:2]) # every two elements are returned\n",
    "print(elements[::-1]) # To get the list backward\n",
    "print(elements[-3:-8:-1]) # If you use backward increment you should use backward index"
   ]
  },
  {
   "cell_type": "code",
   "execution_count": 14,
   "metadata": {},
   "outputs": [
    {
     "name": "stdout",
     "output_type": "stream",
     "text": [
      "Starts in: 0\n",
      "Ends in: 1\n"
     ]
    },
    {
     "data": {
      "text/plain": [
       "['Pedro']"
      ]
     },
     "execution_count": 14,
     "metadata": {},
     "output_type": "execute_result"
    }
   ],
   "source": [
    "start = int(input(\"Starts in: \"))\n",
    "end = int(input(\"Ends in: \"))\n",
    "\n",
    "elements[start:end]\n"
   ]
  },
  {
   "cell_type": "markdown",
   "metadata": {},
   "source": [
    "## Iterate through list\n",
    "\n",
    "you can simply **use for structure**.\n",
    "\n",
    "Thats the reason why function `range` starts from 0 to n-1. Can be used to iterate through the list\n",
    "\n",
    "if you want to access to the iteration number you can use `Enumerate(listToEnumerate)`."
   ]
  },
  {
   "cell_type": "code",
   "execution_count": 4,
   "metadata": {},
   "outputs": [
    {
     "name": "stdout",
     "output_type": "stream",
     "text": [
      "The element index 0 is Pedro \n",
      "The element index 1 is Andrea \n",
      "The element index 2 is Ale \n",
      "The element index 3 is Eli \n",
      "The element index 4 is Mama \n"
     ]
    }
   ],
   "source": [
    "elements = [\"Pedro\",\"Andrea\",\"Ale\",\"Eli\",\"Mama\"]\n",
    "\n",
    "for i in range(5):\n",
    "    print(\"The element index {} is {} \".format(i,elements[i]))"
   ]
  },
  {
   "cell_type": "code",
   "execution_count": 10,
   "metadata": {},
   "outputs": [
    {
     "name": "stdout",
     "output_type": "stream",
     "text": [
      "The element is:  Pedro\n",
      "The element is:  Andrea\n",
      "The element is:  Ale\n",
      "The element is:  Eli\n",
      "The element is:  Mama\n"
     ]
    }
   ],
   "source": [
    "for element in elements:\n",
    "    print(\"The element is: \", element)   "
   ]
  },
  {
   "cell_type": "code",
   "execution_count": 11,
   "metadata": {},
   "outputs": [
    {
     "name": "stdout",
     "output_type": "stream",
     "text": [
      "The element is:  Pedro\n",
      "The element is:  Andrea\n",
      "The element is:  Ale\n"
     ]
    }
   ],
   "source": [
    "for element in elements[0:3]:\n",
    "    print(\"The element is: \", element)\n",
    "            "
   ]
  },
  {
   "cell_type": "code",
   "execution_count": 5,
   "metadata": {
    "scrolled": true
   },
   "outputs": [
    {
     "name": "stdout",
     "output_type": "stream",
     "text": [
      "The element index 0 is Pedro \n",
      "The element index 1 is Andrea \n",
      "The element index 2 is Ale \n",
      "The element index 3 is Eli \n",
      "The element index 4 is Mama \n"
     ]
    }
   ],
   "source": [
    "for i,element in enumerate(elements):\n",
    "    print(\"The element index {} is {} \".format(i, element))\n",
    "    "
   ]
  },
  {
   "cell_type": "markdown",
   "metadata": {},
   "source": [
    "### Operators in lists\n",
    "\n",
    "\n",
    "1. `+`: to concatenate lists. structure: `listOne + listTwo` \n",
    "2. `*`: to repeat lists.  structure: `listOne * 3` \n",
    "3. `in`: to check if an element is in the list.  structure: `element in listOfElements`  "
   ]
  },
  {
   "cell_type": "code",
   "execution_count": 48,
   "metadata": {},
   "outputs": [
    {
     "name": "stdout",
     "output_type": "stream",
     "text": [
      "[1, 2, 3, 4, 5, 6, 11, 22, 33, 44, 55, 66]\n",
      "[1, 2, 3, 4, 5, 6, 1, 2, 3, 4, 5, 6, 1, 2, 3, 4, 5, 6]\n",
      "True\n",
      "False\n"
     ]
    }
   ],
   "source": [
    "numbersList1 = [1,2,3,4,5,6]\n",
    "numbersList2 = [11,22,33,44,55,66]\n",
    "\n",
    "print(numbersList1 + numbersList2)\n",
    "print(numbersList1 * 3)\n",
    "print(1 in numbersList1)\n",
    "print(1 in numbersList2) # 1 is not in list2 because the whole element '1' is not there"
   ]
  },
  {
   "cell_type": "code",
   "execution_count": 49,
   "metadata": {},
   "outputs": [
    {
     "name": "stdout",
     "output_type": "stream",
     "text": [
      "True\n"
     ]
    }
   ],
   "source": [
    "print(1 in (numbersList1 + numbersList2))"
   ]
  },
  {
   "cell_type": "markdown",
   "metadata": {},
   "source": [
    "### List manipulation\n",
    " \n",
    " 1. **append:** to add an element at the end of the list `mylist.append(elementToAdd)` \n",
    " 2. **remove:** to delete an element of the list. `mylist.remove(elementToRemove)`\n",
    " 3. **clear:** to clean the list. `mylist.clear()`\n",
    " 4. **index:** to find an index element. `mylist.index(elementToFind)`\n",
    " 5. **insert:** to add an element to an specific position. `mylist.insert(index,elementToAdd)`\n",
    " 6. **pop:** to get a element but removing it. `mylist.pop(index)`\n",
    " 7. **extend:** to add items from another list. `mylist.extend(anotherList)`"
   ]
  },
  {
   "cell_type": "code",
   "execution_count": null,
   "metadata": {},
   "outputs": [],
   "source": [
    "numbers = []\n",
    "print(numbers)"
   ]
  },
  {
   "cell_type": "code",
   "execution_count": null,
   "metadata": {},
   "outputs": [],
   "source": [
    "numbers.append(1) # to add the number 1 to the list\n",
    "print(numbers)\n",
    "numbers.append(1)\n",
    "print(numbers)\n",
    "numbers.append(2)\n",
    "print(numbers)\n",
    "numbers.append(2)\n",
    "print(numbers)\n",
    "numbers.append(3)\n",
    "print(numbers)\n",
    "numbers.append(4)\n",
    "print(numbers)"
   ]
  },
  {
   "cell_type": "code",
   "execution_count": null,
   "metadata": {},
   "outputs": [],
   "source": [
    "numbers.remove(2)\n",
    "print(numbers)\n",
    "numbers.remove(2)\n",
    "print(numbers)"
   ]
  },
  {
   "cell_type": "code",
   "execution_count": null,
   "metadata": {},
   "outputs": [],
   "source": [
    "numbers.insert(2,66)\n",
    "print(numbers)"
   ]
  },
  {
   "cell_type": "code",
   "execution_count": null,
   "metadata": {},
   "outputs": [],
   "source": [
    "print(numbers.pop(3))\n",
    "print(numbers)"
   ]
  },
  {
   "cell_type": "code",
   "execution_count": null,
   "metadata": {},
   "outputs": [],
   "source": [
    "numbers.extend([55,56,57])\n",
    "print(numbers)"
   ]
  },
  {
   "cell_type": "code",
   "execution_count": null,
   "metadata": {},
   "outputs": [],
   "source": [
    "numbers.clear()\n",
    "print(numbers)"
   ]
  },
  {
   "cell_type": "markdown",
   "metadata": {},
   "source": [
    "To convert an  object to a list use ``list(objectToConvert)`` or ``[objectToConvert]``\n",
    "\n",
    "**Note:** not all the object can be converted to a list"
   ]
  },
  {
   "cell_type": "code",
   "execution_count": 38,
   "metadata": {},
   "outputs": [
    {
     "name": "stdout",
     "output_type": "stream",
     "text": [
      "test\n",
      "['t', 'e', 's', 't']\n",
      "['test']\n",
      "['t', 'e', 's', 't', 'i', 'hola']\n",
      "['test', 'i', 'hola']\n"
     ]
    }
   ],
   "source": [
    "name = \"test\"\n",
    "print(name)\n",
    "newListName = list(name)\n",
    "print(newListName)\n",
    "newListNames = [name]\n",
    "print(newListNames)\n",
    "newListName.append('i')\n",
    "newListName.append('hola')\n",
    "print(newListName)\n",
    "newListNames.append('i')\n",
    "newListNames.append('hola')\n",
    "print(newListNames)"
   ]
  },
  {
   "cell_type": "code",
   "execution_count": null,
   "metadata": {},
   "outputs": [],
   "source": [
    "number = 3654564\n",
    "print(number)\n",
    "print([number])\n",
    "print(list(number))"
   ]
  },
  {
   "cell_type": "code",
   "execution_count": null,
   "metadata": {},
   "outputs": [],
   "source": [
    "manyTypes = [\"Hola\",\"Mundo\", 1122, True, False,56.25]\n",
    "print(manyTypes)"
   ]
  },
  {
   "cell_type": "code",
   "execution_count": null,
   "metadata": {},
   "outputs": [],
   "source": [
    "print(range(10))\n",
    "print(range(0,10,1))\n",
    "print(range(0,10,3))"
   ]
  },
  {
   "cell_type": "code",
   "execution_count": null,
   "metadata": {},
   "outputs": [],
   "source": [
    "print(list(range(10)))\n",
    "print(list(range(0,10,1)))\n",
    "print(list(range(0,10,3)))"
   ]
  },
  {
   "cell_type": "markdown",
   "metadata": {},
   "source": [
    "### Strings are list\n",
    "\n",
    "String are a **colection of characters** as we saw before. explicit conversion is not necesary."
   ]
  },
  {
   "cell_type": "code",
   "execution_count": 42,
   "metadata": {},
   "outputs": [
    {
     "name": "stdout",
     "output_type": "stream",
     "text": [
      "T\n",
      "T\n",
      "Th\n",
      "g\n"
     ]
    }
   ],
   "source": [
    "x = 'This is a string'\n",
    "print(x[0]) #first character\n",
    "print(x[0:1]) #first character, but we have explicitly set the end character\n",
    "print(x[0:2]) #first two characters\n",
    "print(x[-1]) #last character"
   ]
  },
  {
   "cell_type": "code",
   "execution_count": null,
   "metadata": {},
   "outputs": [],
   "source": []
  },
  {
   "cell_type": "code",
   "execution_count": 50,
   "metadata": {},
   "outputs": [
    {
     "name": "stdout",
     "output_type": "stream",
     "text": [
      "Christopher Brooks\n",
      "ChristopherChristopherChristopher\n",
      "True\n"
     ]
    }
   ],
   "source": [
    "firstname = 'Christopher'\n",
    "lastname = 'Brooks'\n",
    "\n",
    "print(firstname + ' ' + lastname)\n",
    "print(firstname*3)\n",
    "print('Chris' in firstname)"
   ]
  },
  {
   "cell_type": "markdown",
   "metadata": {},
   "source": [
    "## Useful functions\n",
    "\n",
    "1. `Len`: to get the lenght of the list\n",
    "2. `Sum`: To sum up all the values, just used on numerical lists\n",
    "3. `Max`: to get the maximum value of the list, just used on numerical lists\n",
    "4. `Sorted`: to sort the list values, sorted ascending by default, if you want to sort them descending use `reverse=True` parameter. ``sorted(listToSort, reverse=True)``\n",
    "\n",
    "All of them are mainly used like this `function(listToOperate)`\n",
    "\n",
    "and some others [Find more here >>](http://python-ds.com/python-3-list-methods)"
   ]
  },
  {
   "cell_type": "code",
   "execution_count": null,
   "metadata": {},
   "outputs": [],
   "source": [
    "numbers = [5,69,1,3,4]\n",
    "print(\"Len: \", len(numbers))\n",
    "print(\"Sum: \",sum(numbers))\n",
    "print(\"Max: \",max(numbers))\n",
    "print(\"Min: \",min(numbers))\n",
    "print(\"Sorted: \",sorted(numbers))\n",
    "print(\"Sorted desc: \",sorted(numbers,reverse=True))"
   ]
  },
  {
   "cell_type": "markdown",
   "metadata": {},
   "source": [
    "## Exercises\n",
    "\n",
    "\n",
    "0. Escribir un programa que almacene las asignaturas de un curso (por ejemplo Matemáticas, Física, Química, Historia y Lengua) en una lista y la muestre por pantalla.\n",
    "\n",
    "\n",
    "1.  Pidir 10 números por teclado, almacenarlos en una lista sin repetir.\n",
    "    \n",
    "        Ejemplo: Entrada: [-3,1,-2,0,-1,0,1,1,1,2,3,1] \n",
    "                 Salida: [-3,1,-2,0,-1,2,3]\n",
    "\n",
    "2. Crear un algoritmo que solicite 7 números y luego imprima solo los positivos en el siguiente formato: \n",
    "\n",
    "    \"Se encontraron `Cantidad#Positivos` y fueron: ``ListaPositivos``\"\n",
    "    \n",
    "        Ejemplo: Entrada: [-3,-2,-1,0,1,2,3] \n",
    "                 Salida: \"Se encontraron 3  números positivos y fueron: [1,2,3]\"\n",
    "\n",
    "3. Escribir un programa que pida 5 números y que muestre el promedio sin usar acumuladores y contadores\n",
    "        \n",
    "        Ejemplo: Entrada: [1,2,3,4,5] \n",
    "                 Salida: \"El promedio fué: 3\"\n",
    "\n",
    "4. Crear un programa que pida 5 números. Mostrar el mayor, el menor y mostrar la lista ordenada de mayor a menor y de menor a mayor, siguiendo el siguiente formato: \n",
    "\n",
    "   \"El mayor fué: `#Mayor` \\n El menor fué: `#Menor`. \\n Lista ordenada asc: `ListaMenorAMayor`. \\n Lista ordenada desc: `ListaMayorAmenor`\"\n",
    "\n",
    "        Ejemplo: Entrada: [3,4,2,5,1] \n",
    "                 Salida: \"El mayor fué: 5. \n",
    "                          El menor fué: 1. \n",
    "                          Lista ordenada asc: [1,2,3,4,5].\n",
    "                          Lista ordenada desc: [5,4,3,2,1].\"\n",
    "\n",
    "5. Crear un programa que pida un nombre y muestre la primera letra y la última letra\n",
    "\n",
    "        Ejemplo: Entrada: \"Hola, mundo desde python\" \n",
    "                 Salida: \"La primera letra fué 'h' y la última fué 'n'\"\n",
    "\n",
    "\n",
    "6. Escribir un programa que pida un nombre por pantalla, lo almacene y luego imprima cuantas vocales tiene\n",
    "\n",
    "        Ejemplo: Entrada: \"Pedro\" \n",
    "                 Salida: \"El nombre Pedro tuvo 2 vocales y fueron [e,o]\"\n",
    "\n",
    "7. Escriba un programa que permita crear una lista de palabras y que, a continuación, pida una palabra y elimine esa palabra de la lista.\n",
    "\n",
    "        Ejemplo: Entrada: [\"Hola\", \"Mundo\", \"Desde\", \"Python\"] \n",
    "                          \"Desde\"\n",
    "                 Salida: [\"Hola\", \"Mundo\", \"Python\"] \n",
    "                 \n",
    "\n",
    "8. Escriba un programa que permita crear dos listas de palabras y que, a continuación, elimine de la primera lista los nombres de la segunda lista.\n",
    "\n",
    "        Ejemplo: Entrada: [\"Hola\", \"Mundo\", \"Desde\", \"Python\", \"Como\", \"Estan\"]\n",
    "                          [\"Hola\", \"Python\", \"Como\", \"Estás\"]\n",
    "                 Salida:  [\"Mundo\", \"Desde\",\"Estan\"] \n",
    "\n",
    "9. Escribir un algoritmo que reciba 10 números, los almacene y luego los imprima desde el último que ingresaron hasta el primero que ingresaron, así: \"Números al reves `ListaAlreves`\"\n",
    "        \n",
    "        Ejemplo: Valores ingresados: 1,2,5,9,10,6 \n",
    "                 Salida: \"Lista al revés: [6,10,9,5,2,1]\"\n",
    "        \n",
    "10. Escribir un programa que almacene las asignaturas de un curso (Matemáticas, Física, Química, Historia y Lengua) en una lista, pregunte al usuario la nota que ha sacado en cada asignatura y elimine de la lista las asignaturas aprobadas. Al final el programa debe mostrar por pantalla las asignaturas que el usuario tiene que repetir. así \n",
    "\n",
    "    \"Señor usuario,\\n Lamentamos informarle que usted ha reprovado `#Asignarutas` asignaturas: `ListaAsignaturas`\"\n",
    "    \n",
    "        Ejemplo: Entrada: [2,4,5,4,2.5] -> \n",
    "                 Salida: \"Señor usuario,\n",
    "                          Lamentamos informarle que usted ha reprovado 3 asignaturas: [Matemática, Lengua]\"\n",
    "\n",
    "11. Escriba un programa que permita crear una lista de palabras y que, a continuación, elimine los elementos repetidos (dejando únicamente el primero de los elementos repetidos).\n",
    "\n",
    "        Ejemplo: Entrada: [\"Hola\", \"Mundo\", \"Desde\", \"Python\", \"Hola\", \"Todos\", \"Python\",\"Tambien\"] \n",
    "                 Salida:  [\"Hola\", \"Mundo\", \"Desde\", \"Python\", \"Todos\", \"Tambien\"] \n",
    "\n",
    "12. Escriba un programa que permita crear una lista de palabras y que, a continuación, pida una palabra y diga cuántas veces aparece esa palabra en la lista en el siguiente formato: \"La palabra `Palabra` está `#Apariciones` veces en la lista\", cuando la palabra no esté en la lista indicarle al usuario \"La palabra `Palabra` no está en la lista\"\n",
    "        \n",
    "        Ejemplo: Entrada: [\"Hola\", \"Mundo\", \"Ciclo\", \"For\", \"Hola\"]\n",
    "                          \"Hola\"\n",
    "                 Salida: \"La palabra hola está 2 veces en la lista\"\n",
    "\n",
    "13. Escriba un programa que permita crear una lista de palabras y que, a continuación, pida dos palabras y sustituya la primera por la segunda en la lista.\n",
    "\n",
    "        Ejemplo: Entrada: [\"Hola\", \"Mundo\", \"Ciclo\", \"For\", \"Hola\"]\n",
    "                          \"Hola\"\n",
    "                          \"Pedro\n",
    "                 Salida: \"[\"Pedro\", \"Mundo\", \"Ciclo\", \"For\", \"Pedro\"]\"\n",
    "\n",
    "14. Crear un algoritmo que realice el proceso descrito en el ejercicio número 5 pero en este caso para 5 estudiantes e informar cuantos estudiantes reprobaron dos materias o más. \n",
    "\n",
    "\n",
    "15. Determinar sí una palabra(O frase) ingresada es o no palindroma.\n",
    "\n",
    "        Ejemplo: Entrada: \"Somos\"            -> Salida: \"Es palindroma\"     \n",
    "                 Entrada: \"A mí me mima\"     -> Salida: \"Es palindroma\"\n",
    "                 Entrada: \"Somos o no somos\" -> Salida: \"Es palindroma\"\n",
    "                 Entrada: \"Hola mundo!\"      -> Salida: \"No es palindroma\"\n",
    "                 \n"
   ]
  }
 ],
 "metadata": {
  "kernelspec": {
   "display_name": "Python 3",
   "language": "python",
   "name": "python3"
  },
  "language_info": {
   "codemirror_mode": {
    "name": "ipython",
    "version": 3
   },
   "file_extension": ".py",
   "mimetype": "text/x-python",
   "name": "python",
   "nbconvert_exporter": "python",
   "pygments_lexer": "ipython3",
   "version": "3.7.7"
  }
 },
 "nbformat": 4,
 "nbformat_minor": 4
}
