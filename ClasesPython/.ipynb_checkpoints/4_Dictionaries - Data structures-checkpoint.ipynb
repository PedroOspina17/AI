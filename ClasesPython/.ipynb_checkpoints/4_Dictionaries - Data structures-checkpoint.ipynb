{
 "cells": [
  {
   "cell_type": "markdown",
   "metadata": {},
   "source": [
    "# Sets\n",
    "\n",
    "a collection but **without repeated values**. Structure: `{Value1,Value2,Value3}`\n",
    "\n",
    "cannot be accesed by **Index** but you always can convert it to a list \n",
    "\n",
    "   Are similar as a list but created between `{}` instead of `[]`\n",
    "   \n",
    "for more info about sets [Click here !!](https://www.w3schools.com/python/python_sets.asp)"
   ]
  },
  {
   "cell_type": "code",
   "execution_count": null,
   "metadata": {},
   "outputs": [],
   "source": [
    "# testSet = set()\n",
    "testSet = {'a','b','c','a','d','c'}\n",
    "print(testSet)\n",
    "testSet.add('e')\n",
    "print(testSet)\n",
    "testSet2 = {'a','o','p','q','q','c'}\n",
    "print(testSet2)\n",
    "testSet.add(\"a\")\n",
    "print(type(testSet))"
   ]
  },
  {
   "cell_type": "code",
   "execution_count": 26,
   "metadata": {},
   "outputs": [
    {
     "name": "stdout",
     "output_type": "stream",
     "text": [
      "{'a', 'b', 'd', 'e', 'c'}\n"
     ]
    },
    {
     "data": {
      "text/plain": [
       "['a', 'b', 'd', 'e', 'c']"
      ]
     },
     "execution_count": 26,
     "metadata": {},
     "output_type": "execute_result"
    }
   ],
   "source": [
    "print(testSet)\n",
    "list(testSet)"
   ]
  },
  {
   "cell_type": "markdown",
   "metadata": {},
   "source": [
    "## Useful functions on sets\n",
    "\n",
    "1. **union:** to show both sets. `set1.union(set2)` \n",
    "<img src=\"https://img1.freepng.es/20180706/bja/kisspng-circle-point-clip-art-venn-diagram-5b3fa883e58802.6467043615308985639402.jpg\" style=\"vertical-align: center; margin-right: 250px; margin-top: -63px; width: 13%;\">\n",
    "<br>\n",
    "<br>\n",
    "2. **intersection:** to show the elements in common on both sets. `set1.intersection(set2)`\n",
    "<img src=\"https://encrypted-tbn0.gstatic.com/images?q=tbn%3AANd9GcRwxrvoq6K7AzcTNQU7Exmz9Hq-FThAiOnXfXA_yee8z32AQR6W&usqp=CAU\" style=\"vertical-align: center;margin-right: 250px; margin-top: -53px; width: 13%;\">\n",
    "<br>\n",
    "<br>\n",
    "3. **difference:** to show just the elements present in the first set. `set1.difference(set2)`\n",
    "<img src=\"https://icon2.cleanpng.com/20180630/pgt/kisspng-venn-diagram-set-idea-venn-diagram-5b373901195576.3337399315303457291038.jpg\" style=\"vertical-align: center;  margin-right: 250px; margin-top: -53px; width: 13%;\">\n"
   ]
  },
  {
   "cell_type": "code",
   "execution_count": 63,
   "metadata": {},
   "outputs": [
    {
     "name": "stdout",
     "output_type": "stream",
     "text": [
      "Union:  {'q', 'a', 'p', 'o', 'b', 'd', 'e', 'c'}\n",
      "Intersection:  {'c', 'a'}\n",
      "Diference from 1 to 2 :  {'b', 'd', 'e'}\n",
      "Diference from 2 to 1:  {'o', 'q', 'p'}\n",
      "List:  ['a', 'a', 'a', 'b', 'c', 'd', 'd']\n",
      "List to set:  {'b', 'd', 'c', 'a'}\n",
      "List to set:  ['b', 'd', 'c', 'a']\n",
      "List to set:  ['c', 'a']\n"
     ]
    }
   ],
   "source": [
    "print(\"Union: \",testSet.union(testSet2)) #concat two sets\n",
    "print(\"Intersection: \",testSet.intersection(testSet2)) # elemts in common\n",
    "print(\"Diference from 1 to 2 : \",testSet.difference(testSet2)) # elements from set1 missing on set2\n",
    "print(\"Diference from 2 to 1: \",testSet2.difference(testSet))\n",
    "testList = [\"a\",\"a\",\"a\",\"b\",\"c\",\"d\",\"d\"]\n",
    "setFromList = set(testList)\n",
    "print(\"List: \",testList)\n",
    "print(\"List to set: \",setFromList)\n",
    "print(\"List to set: \",list(setFromList))\n",
    "print(\"List to set: \",list(setFromList)[2:])"
   ]
  },
  {
   "cell_type": "markdown",
   "metadata": {},
   "source": [
    "# Tuples\n",
    "\n",
    "**Unmutable collection**\n",
    "\n",
    "Very used **to pack elements**, one tuple is also considered just one element.\n",
    "\n",
    "Can be accesed by **Index** as it works in lists: `tupletest[0]`\n",
    "\n",
    "To create a tuple use: `(Element1,Element2,Element3)`.\n",
    "\n",
    "\n",
    "for more info about tuples [Click here !!](https://www.w3schools.com/python/python_tuples.asp) "
   ]
  },
  {
   "cell_type": "code",
   "execution_count": 67,
   "metadata": {},
   "outputs": [
    {
     "name": "stdout",
     "output_type": "stream",
     "text": [
      "Tuple:  ('a', 'a', 'b')\n",
      "First elem from tuple1:  a\n"
     ]
    }
   ],
   "source": [
    "tuple1 = (\"a\",\"a\",\"b\")\n",
    "print(\"Tuple: \",tuple1)\n",
    "print(\"First elem from tuple1: \",tuple1[0])"
   ]
  },
  {
   "cell_type": "code",
   "execution_count": 70,
   "metadata": {},
   "outputs": [
    {
     "name": "stdout",
     "output_type": "stream",
     "text": [
      "['a', 'a', 'b']\n"
     ]
    },
    {
     "data": {
      "text/plain": [
       "['b', 'a', 'b']"
      ]
     },
     "execution_count": 70,
     "metadata": {},
     "output_type": "execute_result"
    }
   ],
   "source": [
    "list1 = list(tuple1)\n",
    "print(list1)\n",
    "list1[0] = \"b\"\n",
    "list1"
   ]
  },
  {
   "cell_type": "code",
   "execution_count": 2,
   "metadata": {},
   "outputs": [],
   "source": [
    "#tuple1[0] = 1 # This is not allowed"
   ]
  },
  {
   "cell_type": "code",
   "execution_count": 80,
   "metadata": {},
   "outputs": [
    {
     "data": {
      "text/plain": [
       "(1, 2)"
      ]
     },
     "execution_count": 80,
     "metadata": {},
     "output_type": "execute_result"
    }
   ],
   "source": [
    "a = 1,2\n",
    "a"
   ]
  },
  {
   "cell_type": "code",
   "execution_count": 3,
   "metadata": {},
   "outputs": [
    {
     "name": "stdout",
     "output_type": "stream",
     "text": [
      "('test 1', 'test 2', 'test 3')\n",
      "test 1\n",
      "test 2\n",
      "test 3\n"
     ]
    }
   ],
   "source": [
    "testTuple = (\"test 1\",\"test 2\",\"test 3\")\n",
    "print(testTuple)\n",
    "a,b,c = testTuple\n",
    "print(a)\n",
    "print(b)\n",
    "print(c)"
   ]
  },
  {
   "cell_type": "code",
   "execution_count": 83,
   "metadata": {},
   "outputs": [
    {
     "name": "stdout",
     "output_type": "stream",
     "text": [
      "Enumerate:  <enumerate object at 0x0000024FF9166E10>\n",
      "Enumerate converted to List:  [(0, 'a'), (1, 'b'), (2, 'c')]\n"
     ]
    }
   ],
   "source": [
    "testList = [\"a\",\"b\",\"c\"]\n",
    "\n",
    "print(\"Enumerate: \", enumerate(testList))\n",
    "print(\"Enumerate converted to List: \",list(enumerate(testList)))"
   ]
  },
  {
   "cell_type": "markdown",
   "metadata": {},
   "source": [
    "# Dictionaries\n",
    "\n",
    "a collection but with named indexes. structure `{ key: value, key: value}`.\n",
    "\n",
    "for more info about dictionaries [Click here !!](https://www.w3schools.com/python/python_dictionaries.asp)"
   ]
  },
  {
   "cell_type": "code",
   "execution_count": 126,
   "metadata": {},
   "outputs": [
    {
     "data": {
      "text/plain": [
       "{'Australia': [0.6, 0.33, 0.11, 0.14],\n",
       " 'France': [0.66, 0.78, 0.98, 0.2],\n",
       " 'Italy': [0.6],\n",
       " 'Brazil': [0.22, 0.22, 0.43],\n",
       " 'USA': [0.2, 0.5, 0.3],\n",
       " 'England': [0.45],\n",
       " 'Canada': [0.25, 0.3],\n",
       " 'Argentina': [0.22],\n",
       " 'Greece': [0.45, 0.66, 0.75, 0.99, 0.15, 0.66],\n",
       " 'Morocco': [0.29],\n",
       " 'Tunisia': [0.68, 0.56],\n",
       " 'Egypt': [0.99],\n",
       " 'Jamaica': [0.61, 0.65, 0.71],\n",
       " 'Switzerland': [0.73, 0.86, 0.84, 0.51, 0.99],\n",
       " 'Germany': [0.45, 0.49, 0.36]}"
      ]
     },
     "execution_count": 126,
     "metadata": {},
     "output_type": "execute_result"
    }
   ],
   "source": [
    "success_estimates = {\n",
    "#     Key: value\n",
    "    'Australia': [0.6, 0.33, 0.11, 0.14],\n",
    "    'France': [0.66, 0.78, 0.98, 0.2],\n",
    "    'Italy': [0.6],\n",
    "    'Brazil': [0.22, 0.22, 0.43],\n",
    "    'USA': [0.2, 0.5, 0.3],\n",
    "    'England': [0.45],\n",
    "    'Canada': [0.25, 0.3],\n",
    "    'Argentina': [0.22],\n",
    "    'Greece': [0.45, 0.66, 0.75, 0.99, 0.15, 0.66],\n",
    "    'Morocco': [0.29],\n",
    "    'Tunisia': [0.68, 0.56],\n",
    "    'Egypt': [0.99],\n",
    "    'Jamaica': [0.61, 0.65, 0.71],\n",
    "    'Switzerland': [0.73, 0.86, 0.84, 0.51, 0.99],\n",
    "    'Germany': [0.45, 0.49, 0.36]\n",
    "}\n",
    "success_estimates"
   ]
  },
  {
   "cell_type": "code",
   "execution_count": 105,
   "metadata": {},
   "outputs": [
    {
     "name": "stdout",
     "output_type": "stream",
     "text": [
      "{1: 'Pedro', 2: 'Andrea', 3: 'Ale'}\n",
      "{'Pedro': 1, 'Andrea': 2, 'Ale': 3}\n"
     ]
    }
   ],
   "source": [
    "anoterDict = {1: \"Pedro\", 2: \"Andrea\", 3:\"Ale\"}\n",
    "anoterDict2 = {\"Pedro\":1, \"Andrea\":2, \"Ale\":3}\n",
    "print(anoterDict,anoterDict2,sep=\"\\n\")"
   ]
  },
  {
   "cell_type": "code",
   "execution_count": 106,
   "metadata": {
    "scrolled": true
   },
   "outputs": [
    {
     "name": "stdout",
     "output_type": "stream",
     "text": [
      "Keys of dict:\n",
      " dict_keys(['Australia', 'France', 'Italy', 'Brazil', 'USA', 'England', 'Canada', 'Argentina', 'Greece', 'Morocco', 'Tunisia', 'Egypt', 'Jamaica', 'Switzerland', 'Germany'])\n",
      "\n",
      "Keys of dict as a list:\n",
      " ['Australia', 'France', 'Italy', 'Brazil', 'USA', 'England', 'Canada', 'Argentina', 'Greece', 'Morocco', 'Tunisia', 'Egypt', 'Jamaica', 'Switzerland', 'Germany']\n",
      "\n",
      "Values of dict as a list:\n",
      " [[0.6, 0.33, 0.11, 0.14], [0.66, 0.78, 0.98, 0.2], [0.6], [0.22, 0.22, 0.43], [0.2, 0.5, 0.3], [0.45], [0.25, 0.3], [0.22], [0.45, 0.66, 0.75, 0.99, 0.15, 0.66], [0.29], [0.68, 0.56], [0.99], [0.61, 0.65, 0.71], [0.73, 0.86, 0.84, 0.51, 0.99], [0.45, 0.49, 0.36]]\n",
      "\n",
      "Colombia is in dict?: False\n",
      "\n",
      "Egypt is in dict?: True\n"
     ]
    }
   ],
   "source": [
    "print(\"Keys of dict:\\n\",success_estimates.keys())\n",
    "print()\n",
    "# now let's look at the keys and values as a list .\n",
    "print(\"Keys of dict as a list:\\n\",list(success_estimates.keys()),end='\\n\\n')\n",
    "print(\"Values of dict as a list:\\n\",list(success_estimates.values()),end='\\n\\n')\n",
    "print(\"Colombia is in dict?:\",\"Colombia\" in success_estimates,end=\"\\n\\n\") # to check if some key is in the dict\n",
    "print(\"Egypt is in dict?:\",\"Egypt\" in success_estimates)"
   ]
  },
  {
   "cell_type": "code",
   "execution_count": 107,
   "metadata": {},
   "outputs": [
    {
     "ename": "TypeError",
     "evalue": "'dict_values' object does not support indexing",
     "output_type": "error",
     "traceback": [
      "\u001b[1;31m---------------------------------------------------------------------------\u001b[0m",
      "\u001b[1;31mTypeError\u001b[0m                                 Traceback (most recent call last)",
      "\u001b[1;32m<ipython-input-107-d918e4d99f2b>\u001b[0m in \u001b[0;36m<module>\u001b[1;34m\u001b[0m\n\u001b[0;32m      1\u001b[0m \u001b[1;31m# We can also see the corresponding values (estimates) for each key as follows\u001b[0m\u001b[1;33m\u001b[0m\u001b[1;33m\u001b[0m\u001b[1;33m\u001b[0m\u001b[0m\n\u001b[1;32m----> 2\u001b[1;33m \u001b[0msuccess_estimates\u001b[0m\u001b[1;33m.\u001b[0m\u001b[0mvalues\u001b[0m\u001b[1;33m(\u001b[0m\u001b[1;33m)\u001b[0m\u001b[1;33m[\u001b[0m\u001b[1;36m0\u001b[0m\u001b[1;33m]\u001b[0m\u001b[1;33m\u001b[0m\u001b[1;33m\u001b[0m\u001b[0m\n\u001b[0m",
      "\u001b[1;31mTypeError\u001b[0m: 'dict_values' object does not support indexing"
     ]
    }
   ],
   "source": [
    "# We can also see the corresponding values (estimates) for each key as follows\n",
    "success_estimates.values()[0]"
   ]
  },
  {
   "cell_type": "code",
   "execution_count": 108,
   "metadata": {},
   "outputs": [
    {
     "name": "stdout",
     "output_type": "stream",
     "text": [
      "Australia\n",
      "France\n",
      "Italy\n",
      "Brazil\n",
      "USA\n",
      "England\n",
      "Canada\n",
      "Argentina\n",
      "Greece\n",
      "Morocco\n",
      "Tunisia\n",
      "Egypt\n",
      "Jamaica\n",
      "Switzerland\n",
      "Germany\n",
      "\n",
      "calling keys method.\n",
      "Australia\n",
      "France\n",
      "Italy\n",
      "Brazil\n",
      "USA\n",
      "England\n",
      "Canada\n",
      "Argentina\n",
      "Greece\n",
      "Morocco\n",
      "Tunisia\n",
      "Egypt\n",
      "Jamaica\n",
      "Switzerland\n",
      "Germany\n"
     ]
    }
   ],
   "source": [
    "for country in success_estimates: ## Iterate by keys\n",
    "    print(country)\n",
    "print()\n",
    "print(\"calling keys method.\")\n",
    "\n",
    "for country in success_estimates.keys(): ## Iterate by keys\n",
    "    print(country)"
   ]
  },
  {
   "cell_type": "code",
   "execution_count": 128,
   "metadata": {
    "scrolled": true
   },
   "outputs": [
    {
     "name": "stdout",
     "output_type": "stream",
     "text": [
      "Hola\n",
      "Hola\n",
      "Hola\n",
      "Hola\n",
      "Hola\n",
      "Hola\n",
      "Hola\n",
      "Hola\n",
      "Hola\n",
      "Hola\n",
      "Hola\n",
      "Hola\n",
      "Hola\n",
      "Hola\n",
      "Hola\n",
      "{'Australia': 'Hola', 'France': 'Hola', 'Italy': 'Hola', 'Brazil': 'Hola', 'USA': 'Hola', 'England': 'Hola', 'Canada': 'Hola', 'Argentina': 'Hola', 'Greece': 'Hola', 'Morocco': 'Hola', 'Tunisia': 'Hola', 'Egypt': 'Hola', 'Jamaica': 'Hola', 'Switzerland': 'Hola', 'Germany': 'Hola'}\n"
     ]
    }
   ],
   "source": [
    "for value in success_estimates.values(): ## Iterate by values\n",
    "    print(value)\n",
    "print(success_estimates)\n",
    "\n",
    "# print()\n",
    "# for country in success_estimates: ## Iterate by keys and get the values\n",
    "#     print(\"key: {}, values: {}\".format(country,success_estimates[country]))"
   ]
  },
  {
   "cell_type": "markdown",
   "metadata": {},
   "source": [
    "### RECOMENDED !"
   ]
  },
  {
   "cell_type": "code",
   "execution_count": 127,
   "metadata": {
    "scrolled": true
   },
   "outputs": [
    {
     "name": "stdout",
     "output_type": "stream",
     "text": [
      "Australia\n",
      "key: Australia, values: [0.6, 0.33, 0.11, 0.14]\n",
      "France\n",
      "key: France, values: [0.66, 0.78, 0.98, 0.2]\n",
      "Italy\n",
      "key: Italy, values: [0.6]\n",
      "Brazil\n",
      "key: Brazil, values: [0.22, 0.22, 0.43]\n",
      "USA\n",
      "key: USA, values: [0.2, 0.5, 0.3]\n",
      "England\n",
      "key: England, values: [0.45]\n",
      "Canada\n",
      "key: Canada, values: [0.25, 0.3]\n",
      "Argentina\n",
      "key: Argentina, values: [0.22]\n",
      "Greece\n",
      "key: Greece, values: [0.45, 0.66, 0.75, 0.99, 0.15, 0.66]\n",
      "Morocco\n",
      "key: Morocco, values: [0.29]\n",
      "Tunisia\n",
      "key: Tunisia, values: [0.68, 0.56]\n",
      "Egypt\n",
      "key: Egypt, values: [0.99]\n",
      "Jamaica\n",
      "key: Jamaica, values: [0.61, 0.65, 0.71]\n",
      "Switzerland\n",
      "key: Switzerland, values: [0.73, 0.86, 0.84, 0.51, 0.99]\n",
      "Germany\n",
      "key: Germany, values: [0.45, 0.49, 0.36]\n"
     ]
    },
    {
     "data": {
      "text/plain": [
       "{'Australia': 'Hola',\n",
       " 'France': 'Hola',\n",
       " 'Italy': 'Hola',\n",
       " 'Brazil': 'Hola',\n",
       " 'USA': 'Hola',\n",
       " 'England': 'Hola',\n",
       " 'Canada': 'Hola',\n",
       " 'Argentina': 'Hola',\n",
       " 'Greece': 'Hola',\n",
       " 'Morocco': 'Hola',\n",
       " 'Tunisia': 'Hola',\n",
       " 'Egypt': 'Hola',\n",
       " 'Jamaica': 'Hola',\n",
       " 'Switzerland': 'Hola',\n",
       " 'Germany': 'Hola'}"
      ]
     },
     "execution_count": 127,
     "metadata": {},
     "output_type": "execute_result"
    }
   ],
   "source": [
    "for key, value in success_estimates.items():\n",
    "    print(key)\n",
    "    success_estimates[key] = \"Hola\"\n",
    "    print(\"key: {}, values: {}\".format(key,value))\n",
    "    \n",
    "success_estimates"
   ]
  },
  {
   "cell_type": "code",
   "execution_count": 114,
   "metadata": {},
   "outputs": [
    {
     "name": "stdout",
     "output_type": "stream",
     "text": [
      "Exists new key? :  False \n",
      "\n",
      "{'Australia': [0.6, 0.33, 0.11, 0.14, 555], 'France': [0.66, 0.78, 0.98, 0.2, 555], 'Italy': [0.6, 555], 'Brazil': [0.22, 0.22, 0.43, 555], 'USA': [0.2, 0.5, 0.3, 555], 'England': [0.45, 555], 'Canada': [0.25, 0.3, 555], 'Argentina': [0.22, 555], 'Greece': [0.45, 0.66, 0.75, 0.99, 0.15, 0.66, 555], 'Morocco': [0.29, 555], 'Tunisia': [0.68, 0.56, 555], 'Egypt': [0.99, 555], 'Jamaica': [0.61, 0.65, 0.71, 555], 'Switzerland': [0.73, 0.86, 0.84, 0.51, 0.99, 555], 'Germany': [0.45, 0.49, 0.36, 555], 'newKey': 'New value'} \n",
      "\n",
      "Exists new key? :  True \n",
      "\n",
      "newKey value:  New value \n",
      "\n",
      "newKey value:  Modifying - New value \n",
      "\n"
     ]
    }
   ],
   "source": [
    "print(\"Exists new key? : \",\"newKey\" in success_estimates,\"\\n\")\n",
    "success_estimates['newKey'] = \"New value\" # Create a new key if it doesn't exists \n",
    "print(\"{}\".format(success_estimates),\"\\n\")\n",
    "print(\"Exists new key? : \",\"newKey\" in success_estimates,\"\\n\")\n",
    "print(\"newKey value: \",success_estimates['newKey'],\"\\n\")\n",
    "success_estimates['newKey'] = \"Modifying - New value\" # If the key exists it overides the value\n",
    "print(\"newKey value: \",success_estimates['newKey'],\"\\n\")"
   ]
  },
  {
   "cell_type": "code",
   "execution_count": 111,
   "metadata": {},
   "outputs": [
    {
     "name": "stdout",
     "output_type": "stream",
     "text": [
      "Checking if Morocco key is present:\n",
      "True\n",
      "Checking if Japan key is present:\n",
      "False\n"
     ]
    }
   ],
   "source": [
    "print('Checking if Morocco key is present:')\n",
    "print('Morocco' in success_estimates) # print the VALUE of \"Morocco in success_estimates\"\n",
    "\n",
    "print('Checking if Japan key is present:')\n",
    "japan_boolean = 'Japan' in success_estimates\n",
    "print(japan_boolean)"
   ]
  },
  {
   "cell_type": "code",
   "execution_count": 112,
   "metadata": {},
   "outputs": [
    {
     "data": {
      "text/plain": [
       "[0.61, 0.65, 0.71, 555]"
      ]
     },
     "execution_count": 112,
     "metadata": {},
     "output_type": "execute_result"
    }
   ],
   "source": [
    "success_estimates['Jamaica']"
   ]
  },
  {
   "cell_type": "code",
   "execution_count": 113,
   "metadata": {},
   "outputs": [
    {
     "name": "stdout",
     "output_type": "stream",
     "text": [
      "[0.61, 0.65, 0.71, 555]\n"
     ]
    }
   ],
   "source": [
    "jamaica_list = success_estimates['Jamaica'] \n",
    "print(jamaica_list)"
   ]
  },
  {
   "cell_type": "markdown",
   "metadata": {},
   "source": [
    "Difference between dicts and dicts "
   ]
  },
  {
   "cell_type": "code",
   "execution_count": 9,
   "metadata": {},
   "outputs": [
    {
     "name": "stdout",
     "output_type": "stream",
     "text": [
      "<class 'dict'>\n",
      "<class 'set'>\n"
     ]
    }
   ],
   "source": [
    "emptySet = {}\n",
    "print(type(emptySet))\n",
    "realEmptyset = set()\n",
    "print(type(realEmptyset))"
   ]
  },
  {
   "cell_type": "markdown",
   "metadata": {},
   "source": [
    "# Combined structures\n",
    "\n",
    "You can combine structures if you want to. \n",
    "\n",
    "you can create: \n",
    "\n",
    "- List of tuples: ``[(\"a\",1),(\"b\",2),(\"c\",3)]``\n",
    "- Tuple of lists: ``([\"a\",\"b\",\"c\"],[1,2,3,4,6])``\n",
    "- List of dicts: ``[{\"a\": 1, \"b\":2, \"c\": 3}, {\"aa\":11,\"bb\":22,\"cc\":33} ]``\n",
    "- Dict of lists: ``{\"a\": [1,2,3], \"b\": [11,22,33], \"c\": [111,222,333]}``\n",
    "- And whatever you want:\n",
    "\n",
    "    ````{ \"a\": [ (\"x\",1),(\"y\",2),(\"z\",3) ], \"b\": [ (\"x\",11),(\"y\",22),(\"z\",33) ], \"c\": [ (\"x\",111),(\"y\",222),(\"z\",333) ] }````"
   ]
  },
  {
   "cell_type": "code",
   "execution_count": 12,
   "metadata": {},
   "outputs": [
    {
     "data": {
      "text/plain": [
       "[(0, 'a'), (1, 'b'), (2, 'c')]"
      ]
     },
     "execution_count": 12,
     "metadata": {},
     "output_type": "execute_result"
    }
   ],
   "source": [
    "listTest = [\"a\",\"b\",\"c\"]\n",
    "list(enumerate(listTest))"
   ]
  },
  {
   "cell_type": "code",
   "execution_count": 141,
   "metadata": {},
   "outputs": [
    {
     "data": {
      "text/plain": [
       "{'a': [('x', 1), ('y', 2), ('z', 3)],\n",
       " 'b': [('x', 11), ('y', 22), ('z', 33)],\n",
       " 'c': [('x', 111), ('y', 222), ('z', 333)]}"
      ]
     },
     "execution_count": 141,
     "metadata": {},
     "output_type": "execute_result"
    }
   ],
   "source": [
    "dictTest = { \"a\": [ (\"x\",1),(\"y\",2),(\"z\",3) ], \"b\": [ (\"x\",11),(\"y\",22),(\"z\",33) ], \"c\": [ (\"x\",111),(\"y\",222),(\"z\",333) ] }\n",
    "\n",
    "dictTest"
   ]
  },
  {
   "cell_type": "code",
   "execution_count": 143,
   "metadata": {},
   "outputs": [
    {
     "data": {
      "text/plain": [
       "{'M': {'names': ['Pedro', 'David', 'Omar'], 'ages': [24, 14, 30]},\n",
       " 'F': {'names': ['Ale', 'Eli', 'Andrea'], 'ages': [35, 30, 35]}}"
      ]
     },
     "execution_count": 143,
     "metadata": {},
     "output_type": "execute_result"
    }
   ],
   "source": [
    "dictOfDicts = { \n",
    "                \"M\": { \n",
    "                    \"names\" : [\"Pedro\",\"David\",\"Omar\"], \n",
    "                    \"ages\": [24,14,30] \n",
    "                },\n",
    "                \"F\": { \n",
    "                    \"names\" : [\"Ale\",\"Eli\",\"Andrea\"],\n",
    "                    \"ages\":[35,30,35]\n",
    "                }\n",
    "              }\n",
    "\n",
    "dictOfDicts"
   ]
  },
  {
   "cell_type": "markdown",
   "metadata": {},
   "source": [
    "### Summary: Important !! "
   ]
  },
  {
   "cell_type": "code",
   "execution_count": 176,
   "metadata": {},
   "outputs": [
    {
     "name": "stdout",
     "output_type": "stream",
     "text": [
      "[('Pedro', 24, 'M'), ('David', 14, 'M'), ('Ale', 35, 'F'), ('Omar', 30, 'M'), ('Eli', 30, 'F'), ('Andrea', 35, 'F')]\n",
      "\n",
      "Iterating a dict\n",
      "\n",
      "M\n",
      "{'names': ['Pedro', 'David', 'Omar'], 'ages': [24, 14, 30]}\n",
      "30\n",
      "\n",
      "F\n",
      "{'names': ['Ale', 'Eli', 'Andrea'], 'ages': [35, 30, 35]}\n",
      "35\n",
      "\n"
     ]
    }
   ],
   "source": [
    "\n",
    "info = [('Pedro',24,\"M\"), ('David',14,\"M\"), (\"Ale\",35,\"F\"),('Omar',30,\"M\"),(\"Eli\",30,\"F\"),(\"Andrea\",35,\"F\")]\n",
    "print(info)\n",
    "\n",
    "dictInfo = {}\n",
    "\n",
    "for name,age,gender in info:\n",
    "    if(gender in dictInfo):\n",
    "        dictInfo[gender][\"names\"].append(name)\n",
    "        dictInfo[gender][\"ages\"].append(age)\n",
    "    else:\n",
    "        dictInfo[gender] = {\"names\": [name], \"ages\": [age]}\n",
    "dictInfo\n",
    "\n",
    "\n",
    "print(\"\\nIterating a dict\\n\")\n",
    "\n",
    "for label,values in dictInfo.items():\n",
    "    print(label)\n",
    "    print(values)\n",
    "    print(max(values[\"ages\"]))\n",
    "    print()"
   ]
  },
  {
   "cell_type": "markdown",
   "metadata": {},
   "source": [
    "# Exercises:\n",
    "\n",
    "       \n",
    "       success_estimates = {\n",
    "            'Australia': [0.6, 0.33, 0.11, 0.14],\n",
    "            'France': [0.66, 0.78, 0.98, 0.2],\n",
    "            'Italy': [0.6],\n",
    "            'Brazil': [0.22, 0.22, 0.43],\n",
    "            'USA': [0.2, 0.5, 0.3],\n",
    "            'England': [0.45],\n",
    "            'Canada': [0.25, 0.3],\n",
    "            'Argentina': [0.22],\n",
    "            'Greece': [0.45, 0.66, 0.75, 0.99, 0.15, 0.66],\n",
    "            'Morocco': [0.29],\n",
    "            'Tunisia': [0.68, 0.56],\n",
    "            'Egypt': [0.99],\n",
    "            'Jamaica': [0.61, 0.65, 0.71],\n",
    "            'Switzerland': [0.73, 0.86, 0.84, 0.51, 0.99],\n",
    "            'Germany': [0.45, 0.49, 0.36]\n",
    "        } \n",
    "       \n",
    "       \n",
    "1. Crear un algoritmo que muestre del diccionario `Success_estimates` solo los valores de Francia.\n",
    "\n",
    "        Salida: [0.66, 0.78, 0.98, 0.2]\n",
    "       \n",
    "2. Crear un algoritmo que muestre del diccionario `Success_estimates` solo los valores de Grecia, sin duplicados.\n",
    "\n",
    "        Salida: [0.45, 0.66, 0.75, 0.99, 0.15]\n",
    "     \n",
    "3. Crear un algoritmo que muestre del diccionario `Success_estimates` los valores en comun entre Francia y Grecia.\n",
    "\n",
    "        Salida: [0.66]\n",
    "        \n",
    "4. Del diccionario `Success_estimates`mostrar los valores de Australia, Fancia, Argentina y jamaica\n",
    "\n",
    "        \n",
    "5. Del diccionario `Success_estimates` mostrar los valores de todos los paises menos Argentina y jamaica\n",
    "\n",
    "6. Crear un algoritmo que muestre cuantos valores tiene cada pais en el diccionario `Success_estimates` y el total de valores que hay en todos los paises.\n",
    "\n",
    "\n",
    "7. Crear un algoritmo que pida Cédula, Nombre, Apellido y Edad y almacenarlos en un diccionario. \n",
    "\n",
    "\n",
    "8. Crear un algoritmo que lea 3 nombres de campos y sus respectivos valores, almacenarlos como un diccionario e imprimirlo, además sí el usuario ingresó el campo \"Nombre\" mostrar el mensaje \"Hola `Nombre`\" en caso contrario mostrar \"No se ingresó el campo nombre\"\n",
    "\n",
    "        Ejemplo: Entrada:   \"Nombre\", \n",
    "                            \"Pedro\", \n",
    "                            \"Apellido\",\n",
    "                            \"Ospina\"\n",
    "                 Salida: {\"Nombre\":\"Pedro\", \"Apellido\",\"Ospina\"},\n",
    "                         \"Hola pedro\"\n",
    "                 \n",
    "                 Entrada:    \"Hola\",\n",
    "                             \"Mundo\",\n",
    "                             \"Desde\",\n",
    "                             \"Python\",\n",
    "                             \"Edad\",\n",
    "                             8\n",
    "                 Salida: {\"Hola\":\"Mundo\",\"Desde\":\"Python\", \"Edad\": 8},\n",
    "                         \"No se ingresó el campo nombre\"\n",
    "                         \n",
    "     \n",
    "\n",
    "\n",
    "\n",
    "9. Crear un algoritmo que pida 5 nombres y 5 apellidos y los almamacene en un diccionario como \"nombres\" y \"apellidos\".\n",
    "\n",
    "        Ejemplo: Entrada:   \"Pedro\", \n",
    "                            \"Ospina\", \n",
    "                            \"Ale\",\n",
    "                            \"Ospina\",\n",
    "                            \"David\",\n",
    "                            \"Ossa\",\n",
    "                            ...\n",
    "                 Salida: {\"Nombres\":\"['Pedro','Ale','David',...], \"Apellidos\",[\"Ospina\",\"Ospina\",\"Ospina\",...]}\n",
    "                 \n",
    "                 \n",
    "10. Crear un algoritmo que pida los datos básicos de 5 personas (Cédula, Nombre, Apellido,Sexo, Estado civil) y luego las muestre en el siguiente formato: \"El Sr. `Nombre` `Apellido`, identificado con cedula de ciudadanía número `Cedula` se encuentra `Estado civil`\"\n",
    "\n",
    "        Ejemplo: Entrada:   \"1152212727\",\n",
    "                            \"Pedro\", \n",
    "                            \"Ospina\", \n",
    "                            \"M\",\n",
    "                            \"Soltero\",\n",
    "                            \"1234567\",\n",
    "                            \"Ale\",\n",
    "                            \"Ospina\",\n",
    "                            \"F\",\n",
    "                            \"Casada\"                    \n",
    "                            ...\n",
    "             Salida: \"El Sr. Pedro Ospina, Identificado con cédula de ciudadanía número 1152212727 se encuentra soltero.\"\n",
    "                     \"La Sra. Ale Ospina, Identificada con cédula de ciudadanía número 1234567 se encuentra casada\"\n",
    "                     ...\n",
    "\n",
    "\n",
    "\n",
    "\n",
    "11. Crear un programa que me pida los datos de una persona: Edad, estrato y salario; hasta que se especifique que no se quiere continuar con el ingreso de datos. Almacenarlos según el estrato y mostrar el resumen de los datos ingresados en el siguiente formato. \n",
    "\n",
    "        \"Se ingresaron #EstratosIngresados diferentes extractos\" \n",
    "\n",
    "        --Detalle--\n",
    "        \"Estrato `EstratoX`: \\n \n",
    "            - Total personas: `#PersonasEstratoX`\\n \n",
    "            - Promedio de edad: `PromedioEdadEstratoX`\\n \n",
    "            - Promedio de salario: `PromedioSalarioEstratoX` \"\n",
    "\n",
    "\n",
    "        Nota: El detalle debe ser mostrado ascendentemente por estrato.\n",
    "        \n",
    "        Ejemplo: Entrada:       \"24\", # Edad\n",
    "                                \"3\", # Estrato\n",
    "                                \"1000\", # Salario\n",
    "                                \n",
    "                                \"14\",\n",
    "                                \"3\",\n",
    "                                \"500\" \n",
    "                                \n",
    "                                \"30\",\n",
    "                                \"2\",\n",
    "                                \"2000\" \n",
    "                                ...\n",
    "                 Salida: \"Se ingresaron 2 diferentes extractos\n",
    "                         --Detalle--\n",
    "                         Estrato 2:\n",
    "                             - Total personas: 1\n",
    "                             - Promedio de edad: 30\n",
    "                             - Promedio de salario: 2000 \n",
    "                         Estrato 3:\n",
    "                             - Total personas: 2\n",
    "                             - Promedio de edad: 19\n",
    "                             - Promedio de salario: 750                             \n",
    "                             \""
   ]
  }
 ],
 "metadata": {
  "kernelspec": {
   "display_name": "Python 3",
   "language": "python",
   "name": "python3"
  },
  "language_info": {
   "codemirror_mode": {
    "name": "ipython",
    "version": 3
   },
   "file_extension": ".py",
   "mimetype": "text/x-python",
   "name": "python",
   "nbconvert_exporter": "python",
   "pygments_lexer": "ipython3",
   "version": "3.7.7"
  }
 },
 "nbformat": 4,
 "nbformat_minor": 4
}
