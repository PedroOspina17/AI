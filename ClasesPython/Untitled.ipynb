{
 "cells": [
  {
   "cell_type": "markdown",
   "metadata": {},
   "source": [
    "# Functions / Methods\n",
    "\n",
    "To reuse code. \n",
    "\n",
    "Structure: \n",
    "\n",
    "``def functionName(parameter1, parameter2):\n",
    "    Action\n",
    "    Action\n",
    "    Return value    \n",
    "``"
   ]
  },
  {
   "cell_type": "code",
   "execution_count": null,
   "metadata": {},
   "outputs": [],
   "source": [
    "\n",
    "def testMethod(param1, param2):\n",
    "    print(param1.upper())\n",
    "    return param2.lower()\n",
    "\n",
    "returnedValue = testMethod(\"Hola\",\"Mundo\")\n",
    "\n",
    "print(returnedValue)"
   ]
  }
 ],
 "metadata": {
  "kernelspec": {
   "display_name": "Python 3",
   "language": "python",
   "name": "python3"
  },
  "language_info": {
   "codemirror_mode": {
    "name": "ipython",
    "version": 3
   },
   "file_extension": ".py",
   "mimetype": "text/x-python",
   "name": "python",
   "nbconvert_exporter": "python",
   "pygments_lexer": "ipython3",
   "version": "3.7.1"
  }
 },
 "nbformat": 4,
 "nbformat_minor": 2
}
