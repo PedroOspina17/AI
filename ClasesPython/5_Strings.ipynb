{
 "cells": [
  {
   "cell_type": "markdown",
   "metadata": {},
   "source": [
    "# Strings\n",
    "\n",
    "### Useful functions\n",
    "\n",
    "- **str**: To convert any type to strings. ``str(valueToConvert)``\n",
    "- **format:** to apply formating to an specific string. ``stringToFormat.format()``\n",
    "- **upper:** to convert a string to upper case. ``stringToUpper.upper()``\n",
    "- **lower:** to convert a string to upper case. ``stringToLower.lower()``\n",
    "- **strip:** to eliminate white spaces from beggining and at the end. ``stringToClean.strip()``\n",
    "- **split:** to separate elements by an specific character. ``stringToDivide.split(characterToFind)``\n",
    "- **replace:** to replace an string with another. ``stringToModify.replace(stringToFind,stringToReplace)``\n",
    "- **join:** to concatenate a list with an specific string. ``stringToConcatenate.join(listToConcatenate)``\n",
    "- **start with:** to verify if a string starts with an specific string. ``stringToVerify.startsWith(stringToCompare)``\n",
    "- **ends with:** to verify if a string starts with an specific string. ``stringToVerify.endsWith(stringToCompare)``\n",
    "- **islower:** to verify if a string starts with an specific string. ``stringToVerify.isLower()``\n",
    "- **isupper:** to verify if a string ends with an specific string. ``stringToVerify.isUpper()``\n",
    "- **istitle:** to verify if a string starts with an upper case string. ``stringToVerify.isTitle()``\n",
    "- **isdigit:** to verify if a string is numeric. ``stringToVerify.isDigit()``\n",
    "- **isalpha:** to verify if a string is alphanumeric. ``stringToVerify.isalpha()``\n",
    "- **count**: To count how many times is a word in a string. ``stringToVerigy.count(stringToCount)``\n",
    "\n",
    "\n",
    "for more info about strings [Click here !!](https://www.w3schools.com/python/python_strings.asp)"
   ]
  },
  {
   "cell_type": "code",
   "execution_count": 57,
   "metadata": {},
   "outputs": [
    {
     "name": "stdout",
     "output_type": "stream",
     "text": [
      "Convert value: 49.9568\n"
     ]
    }
   ],
   "source": [
    "price = 49.9568\n",
    "print(\"Convert value: \" + str(price))"
   ]
  },
  {
   "cell_type": "code",
   "execution_count": 50,
   "metadata": {},
   "outputs": [
    {
     "name": "stdout",
     "output_type": "stream",
     "text": [
      "I want 3 pieces of item 567 for 49.96 dollars.\n"
     ]
    }
   ],
   "source": [
    "quantity = 3\n",
    "itemno = 567\n",
    "price = 49.9568\n",
    "myorder = \"I want {} pieces of item {} for {:.2f} dollars.\"\n",
    "print(myorder.format(quantity, itemno, price))"
   ]
  },
  {
   "cell_type": "code",
   "execution_count": 58,
   "metadata": {},
   "outputs": [
    {
     "name": "stdout",
     "output_type": "stream",
     "text": [
      "String without spaces: Hello, World! .\n"
     ]
    }
   ],
   "source": [
    "a = \"         Hello, World!              \"\n",
    "print(\"String without spaces:\",a.strip(),\".\") # returns \"Hello, World!\""
   ]
  },
  {
   "cell_type": "code",
   "execution_count": null,
   "metadata": {},
   "outputs": [],
   "source": [
    "print(a)\n",
    "a = a.strip()\n",
    "print(a)"
   ]
  },
  {
   "cell_type": "code",
   "execution_count": 114,
   "metadata": {},
   "outputs": [
    {
     "name": "stdout",
     "output_type": "stream",
     "text": [
      "Convert to upper case:  hello, world!\n",
      "Convert to lower case:  HELLO, WORLD!\n",
      "Convert to title case:  Hello, World!\n",
      "Original string:  Hello, World!\n"
     ]
    }
   ],
   "source": [
    "print(\"Convert to upper case: \",a.lower())\n",
    "print(\"Convert to lower case: \",a.upper())\n",
    "print(\"Convert to title case: \",a.title())\n",
    "print(\"Original string: \",a)"
   ]
  },
  {
   "cell_type": "code",
   "execution_count": 125,
   "metadata": {},
   "outputs": [
    {
     "name": "stdout",
     "output_type": "stream",
     "text": [
      "string hello, world!, is lower: True, is upper: False, is title: False\n",
      "string HELLO, WORLD!, is lower: False, is upper: True, is title: False\n",
      "string Hello, World!, is lower: False, is upper: False, is title: True\n",
      "\n",
      "Original string:  Hello, World!\n",
      "Starts with 'Hello'?:  True\n",
      "Ends with '.'?:  False\n"
     ]
    }
   ],
   "source": [
    "a = a.lower()\n",
    "print(\"string {}, is lower: {}, is upper: {}, is title: {}\".format(a,a.islower(),a.isupper(),a.istitle()))\n",
    "a = a.upper()\n",
    "print(\"string {}, is lower: {}, is upper: {}, is title: {}\".format(a,a.islower(),a.isupper(),a.istitle()))\n",
    "a = a.title()\n",
    "print(\"string {}, is lower: {}, is upper: {}, is title: {}\".format(a,a.islower(),a.isupper(),a.istitle()))\n",
    "\n",
    "print()\n",
    "print(\"Original string: \",a)\n",
    "print(\"Starts with 'Hello'?: \",a.startswith(\"Hello\"))\n",
    "print(\"Ends with '.'?: \",a.endswith(\".\"))\n"
   ]
  },
  {
   "cell_type": "code",
   "execution_count": 140,
   "metadata": {},
   "outputs": [
    {
     "name": "stdout",
     "output_type": "stream",
     "text": [
      "Is alphanumeric?: txt: False, txt1: False, txt3:True\n",
      "Is numeric?: txt: False, txt3: False, txt4:False\n",
      "Is numeric?:  txt: False, txt3: False, txt4:True\n"
     ]
    }
   ],
   "source": [
    "txt = \"Hello, welcome to my world.\"\n",
    "txt1 = \"Welcome to my world\"\n",
    "txt2 = \"Welcome my students to my world \"\n",
    "txt3 = \"Company12\"\n",
    "txt4 = \"12\"\n",
    "txt5= \"12 14\"\n",
    "\n",
    "print(\"Is alphanumeric?: txt: {}, txt1: {}, txt3:{}\".format(txt.isalnum(), txt1.isalnum(), txt3.isalnum()))\n",
    "print(\"Is numeric?: txt: {}, txt3: {}, txt4:{}\".format(txt.isalpha(),txt3.isalpha(),txt4.isalpha()))\n",
    "print(\"Is numeric?:  txt: {}, txt3: {}, txt4:{}\".format(txt.isnumeric(),txt3.isnumeric(),txt4.isnumeric()))"
   ]
  },
  {
   "cell_type": "code",
   "execution_count": 141,
   "metadata": {},
   "outputs": [
    {
     "name": "stdout",
     "output_type": "stream",
     "text": [
      "in the string 'Hello, welcome to my world.' the character 'e' is on index 1\n",
      "in the string 'Welcome my students to my world ' the word 'my' is 2 times\n",
      "\n",
      "Jello, World!\n",
      "Hello, World!\n",
      "Hello,World!\n"
     ]
    }
   ],
   "source": [
    "x = txt.find(\"e\")\n",
    "print(\"in the string '{}' the character 'e' is on index {}\".format(txt,x))\n",
    "print(\"in the string '{}' the word 'my' is {} times\".format(txt2,txt2.count(\"my\")))\n",
    "\n",
    "print()\n",
    "print(a.replace(\"H\", \"J\"))\n",
    "print(a)\n",
    "print(a.replace(\" \",\"\"))\n"
   ]
  },
  {
   "cell_type": "code",
   "execution_count": 145,
   "metadata": {},
   "outputs": [
    {
     "name": "stdout",
     "output_type": "stream",
     "text": [
      "Original string:  a,b,c,d,Hello world, another, value\n",
      "Dividing the text by comma:  ['a', 'b', 'c', 'd', 'Hello world', ' another', ' value']\n",
      "Concatenate all the list by a string:  a#b#c#d#Hello world# another# value\n"
     ]
    }
   ],
   "source": [
    "x = \"a,b,c,d,Hello world, another, value\"\n",
    "print(\"Original string: \", x)\n",
    "print(\"Dividing the text by comma: \", x.split(','))\n",
    "\n",
    "letterList= x.split(',')\n",
    "print(\"Concatenate all the list by a string: \",\"#\".join(letterList))\n"
   ]
  },
  {
   "cell_type": "markdown",
   "metadata": {},
   "source": [
    "### Ejemplo"
   ]
  },
  {
   "cell_type": "code",
   "execution_count": 155,
   "metadata": {},
   "outputs": [
    {
     "name": "stdout",
     "output_type": "stream",
     "text": [
      "the word a has 1 words\n",
      "the word b has 1 words\n",
      "the word c has 1 words\n",
      "the word d has 1 words\n",
      "the word Hello world has 2 words\n",
      "the word another has 1 words\n",
      "the word word has 1 words\n",
      "the word python has 1 words\n",
      "the word two WORDS has 2 words\n",
      "the word Another Word has 2 words\n",
      "the word EVEN CAPITALIZED WORDS has 3 words\n"
     ]
    }
   ],
   "source": [
    "stringExample = \"a,b,c,d,Hello world,    another, word     , python, two WORDS, Another Word, EVEN CAPITALIZED WORDS              \"\n",
    "elementList = stringExample.split(\",\")\n",
    "for elem in elementList:\n",
    "    elem = elem.strip()\n",
    "    print(\"the word {} has {} words\".format(elem,elem.count(\" \")+1))"
   ]
  },
  {
   "cell_type": "markdown",
   "metadata": {},
   "source": [
    "# Exercises\n",
    "\n",
    "0. Imprima los dos primeros caracteres.\n",
    "1. Imprima los tres últimos caracteres.\n",
    "2. Inserte el caracter ',' entre cada letra de una cadena ingresada por pantalla. \n",
    "        \n",
    "        Ej: Entrada: separar \n",
    "            Salida: s,e,p,a,r,a,r\n",
    "\n",
    "\n",
    "\n",
    "3. Indique si la segunda cadena es una subcadena de la primera. \n",
    "\n",
    "        Ej: Entrada: cadena \n",
    "                     subcadena\n",
    "            Salida: Cadena hace parte de subcadena\n",
    "            \n",
    "            Entrada: Hola mundo desde python\n",
    "                     MUNDO\n",
    "            Salida: Mundo hace parte de hola mundo desde python\n",
    "\n",
    "4. Reemplace todos los espacios por el caracter '_' de una cadena ingresada. \n",
    "\n",
    "        Ej: Entrada: mi archivo de texto.txt \n",
    "            Salida: mi_archivo_de_texto.txt\n",
    "        \n",
    "        \n",
    "5. Recibir una cadena y reemplazarle todos sus números por '#' \n",
    "        \n",
    "        Ej: Entrada su clave es: 1540 y X debería devolver su clave es: XXXX\n",
    "        \n",
    "\n",
    "        \n",
    "6. Inserte el caracter \".\" cada 3 dígitos de una cadena. \n",
    "\n",
    "        Ej. Entrada: 2552552550 \n",
    "            SAlida: 255.255.255.0\n",
    "        \n",
    "        \n",
    "7. Permitir ingresar una cadena y devuelva solamente las letras consonantes. \n",
    "\n",
    "        Ej: Entrada: algoritmos.\n",
    "            Salida: lgrtms\n",
    "            \n",
    "            Entrada: logaritmos!\n",
    "            Salida: lgrtms\n",
    "8. Reciba el nombre, apellido y edad separados por coma y muestelos en el siguiente formato \n",
    "\n",
    "\"Hola señor ``Nombre`` ``Apellido``, Tiene usted ``Edad`` años?\"            \n",
    "\n",
    "        Ej: Entrada: Pedro,Ospina, 24\n",
    "            Salida: Hola Pedro Ospina, Tiene usted 24 años?\n",
    "            \n",
    "9. Reemplace cada vocal de una palabra ingresada por su siguiente vocal, sin importar como se escriba la palabra. \n",
    "\n",
    "        Ej: Entrada: vestuario \n",
    "            Salida: vistaerou.\n",
    "            \n",
    "            Entrada: VESTUARIO \n",
    "            Salida: vistaerou.\n",
    "            \n",
    "            Entrada: VesTuariO \n",
    "            Salida: vistaerou.\n",
    "\n",
    "10. Indique si una palabra escrita (no importa como) es palíndroma\n",
    "        \n",
    "        Ej: Entrada: Amad a la dama.\n",
    "            Salida: Es palindroma\n",
    "            \n",
    "            Entrada: Aman a Panamá\n",
    "            Salida: Es palindroma\n",
    "            \n",
    "            Entrada: Amor a Roma.\n",
    "            Salida: Es palindroma\n",
    "            \n",
    "            Entrada: Hola mundo\n",
    "            Salida: no es palindroma\n",
    "        \n",
    "11. Recibir una cadena y la sección del pin reemplazarlo por \"####\"\n",
    "\n",
    "        Ej: Entrada: Hola mundo este es mi pin: 1540 \n",
    "            Salida: Hola mundo este es mi pin: ####\n",
    "            \n",
    "            Entrada: Hola mundo este es mi pin: 1540, es bastante seguro\n",
    "            Salida: Hola mundo este es mi pin: ####, es bastante seguro\n",
    "        \n",
    "12. Permitir ingresar una contraseña de mínimo 6 hasta 20 caracteres y que cumpla con los criterios de seguridad de la empresa (que contenga al menos 1 número, 1 mayuscula y 1 minuscula. Sí los cumple imprimir \"Contraseña creada\" de lo contrario imprimir \"Contraseña no cumple lo criterios de seguridad\"\n",
    "\n",
    "        Ej: Entrada: Pe123\n",
    "            Salida: Contraseña no cumple lo criterios de seguridad\n",
    "            \n",
    "            Entrada: pedro123\n",
    "            Salida: Contraseña no cumple lo criterios de seguridad\n",
    "            \n",
    "            Entrada: PedroOspina\n",
    "            Salida: Contraseña no cumple lo criterios de seguridad\n",
    "            \n",
    "            Entrada: pedroospina123\n",
    "            Salida: Contraseña no cumple lo criterios de seguridad\n",
    "            \n",
    "            Entrada: PedroOspina123\n",
    "            Salida: Contraseña creada\n",
    "\n",
    "13. Crear un algoritmo que permita crear una contraseña como se indica en el punto anterior pero que no deje de pedir la contraeña hasta que la ingrese correctamente, en cada intento se le debe indicar al usuario que criterio de seguridad no comple.\n",
    "\n",
    "        Ej: Entrada: Pe123\n",
    "            Salida: Contraseña no cumple lo criterios de seguridad\n",
    "                    Debe tener mímino 6 caracteres\n",
    "            \n",
    "            Entrada: pedro123\n",
    "            Salida: Contraseña no cumple lo criterios de seguridad\n",
    "                    Debe tener mayusculas y minusculas\n",
    "            \n",
    "            Entrada: PedroOspina\n",
    "            Salida: Contraseña no cumple lo criterios de seguridad\n",
    "                    Debe contener números\n",
    "            \n",
    "            Entrada: pedroospina123\n",
    "            Salida:  Contraseña no cumple lo criterios de seguridad\n",
    "                     Debe tener mayusculas y minusculas\n",
    "            \n",
    "            Entrada: PedroOspina123\n",
    "            Salida:  Contraseña creada"
   ]
  }
 ],
 "metadata": {
  "kernelspec": {
   "display_name": "Python 3",
   "language": "python",
   "name": "python3"
  },
  "language_info": {
   "codemirror_mode": {
    "name": "ipython",
    "version": 3
   },
   "file_extension": ".py",
   "mimetype": "text/x-python",
   "name": "python",
   "nbconvert_exporter": "python",
   "pygments_lexer": "ipython3",
   "version": "3.7.7"
  }
 },
 "nbformat": 4,
 "nbformat_minor": 4
}
