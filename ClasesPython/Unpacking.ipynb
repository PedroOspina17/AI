{
 "cells": [
  {
   "cell_type": "markdown",
   "metadata": {},
   "source": [
    "# Unpack variables "
   ]
  },
  {
   "cell_type": "code",
   "execution_count": null,
   "metadata": {},
   "outputs": [],
   "source": [
    "a, b = 1, 2                          # simple sequence assignment\n",
    "a, b = ['green', 'blue']             # list asqignment\n",
    "a, b = 'XY'                          # string assignment\n",
    "a, b = range(1,5,2)                  # any iterable will do\n",
    "\n",
    "\n",
    "                                     # nested sequence assignment\n",
    "\n",
    "(a,b), c = \"XY\", \"Z\"                 # a = 'X', b = 'Y', c = 'Z' \n",
    "\n",
    "(a,b), c = \"XYZ\"                     # ERROR -- too many values to unpack\n",
    "(a,b), c = \"XY\"                      # ERROR -- need more than 1 value to unpack\n",
    "\n",
    "(a,b), c, = [1,2],'this'             # a = '1', b = '2', c = 'this'"
   ]
  },
  {
   "cell_type": "code",
   "execution_count": 1,
   "metadata": {},
   "outputs": [
    {
     "name": "stdout",
     "output_type": "stream",
     "text": [
      "green\n",
      "blue\n"
     ]
    }
   ],
   "source": [
    "a, b = ['green', 'blue']             # list asqignment\n",
    "print(a)\n",
    "print(b)"
   ]
  }
 ],
 "metadata": {
  "kernelspec": {
   "display_name": "Python 3",
   "language": "python",
   "name": "python3"
  },
  "language_info": {
   "codemirror_mode": {
    "name": "ipython",
    "version": 3
   },
   "file_extension": ".py",
   "mimetype": "text/x-python",
   "name": "python",
   "nbconvert_exporter": "python",
   "pygments_lexer": "ipython3",
   "version": "3.7.1"
  }
 },
 "nbformat": 4,
 "nbformat_minor": 4
}
